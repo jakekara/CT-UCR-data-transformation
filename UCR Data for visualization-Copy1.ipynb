{
 "cells": [
  {
   "cell_type": "markdown",
   "metadata": {},
   "source": [
    "# Data visualization for [CT Crime Trends](https://projects.ctmirror.org/content/2017/9/fbi-crime-data/)\n"
   ]
  },
  {
   "cell_type": "code",
   "execution_count": 1,
   "metadata": {},
   "outputs": [],
   "source": [
    "import pandas as pd"
   ]
  },
  {
   "cell_type": "code",
   "execution_count": 2,
   "metadata": {},
   "outputs": [
    {
     "data": {
      "text/plain": [
       "'Test Name'"
      ]
     },
     "execution_count": 2,
     "metadata": {},
     "output_type": "execute_result"
    }
   ],
   "source": [
    "import re\n",
    "def fixname(name):\n",
    "    #print name\n",
    "    ret =  re.sub(r'[^A-Za-z ]+',\"\",str(name).title())\n",
    "    #print name, \"->\", ret\n",
    "    #return ret\n",
    "    return ret\n",
    "\n",
    "fixname(\"Test Name6\")"
   ]
  },
  {
   "cell_type": "code",
   "execution_count": 41,
   "metadata": {},
   "outputs": [],
   "source": [
    "# Get data from sheets that include 2006 through 2016\n",
    "def get_data():\n",
    "    \n",
    "    ret = {}\n",
    "    \n",
    "    ret[2006] = pd.read_excel(\"data/2006/06tbl08ct.xls\",skiprows=4)\n",
    "    ret[2007] = pd.read_excel(\"data/2007/07tbl08ct.xls\",skiprows=4)\n",
    "    ret[2008] = pd.read_excel(\"data/2008/08tbl08ct.xls\",skiprows=4)\n",
    "    ret[2009] = pd.read_excel(\"data/2009/09tbl08ct.xls\",skiprows=4)\n",
    "    ret[2010] = pd.read_excel(\"data/2010/10tbl08ct.xls\",skiprows=4)\n",
    "    ret[2011] = pd.read_excel(\"data/2011/Table8StateCuts/Table_8_Offenses_Known_to_Law_Enforcement_Connecticut_by_City_2011.xls\",\n",
    "                              skiprows=4)\n",
    "    ret[2012] = pd.read_excel(\"data/2012/Table 8 State cuts/Table_8_Offenses_Known_to_Law_Enforcement_by_Connecticut_by_City_2012.xls\",\n",
    "                             skiprows=4)\n",
    "    ret[2013] = pd.read_excel(\"data/2013/Table 8 state cuts/Table_8_Offenses_Known_to_Law_Enforcement_Connecticut_by_City_2013.xls\",\n",
    "                             skiprows=4)\n",
    "    ret[2014] = pd.read_excel(\"data/2014/Table 8 pieces/Table_8_Offenses_Known_to_Law_Enforcement_by_Connecticut_by_City_2014.xls\",\n",
    "                             skiprows=4)\n",
    "    ret[2015] = pd.read_excel(\"data/2015/Table 8 pieces/Table_8_Offenses_Known_to_Law_Enforcement_Connecticut_by_City_2015.xls\",\n",
    "                             skiprows=4)\n",
    "    ret[2016] = pd.read_excel(\"data/2016/Table 6 pieces/Table_6_Offenses_Known_to_Law_Enforcement_Connecticut_by_City_2016.xls\",\n",
    "                             skiprows=4)\n",
    "    ret[2017] = pd.read_excel(\"data/2017/Table 8 state cuts/Table_8_Offenses_Known_to_Law_Enforcement_Connecticut_by_City_2017.xls\",\n",
    "                             skiprows=4)\n",
    "\n",
    "    # For some reason the FBI lists cities as states \n",
    "    # in this 2017 document.\n",
    "    ret[2017][\"City\"] =  ret[2017][\"State\"]\n",
    "    \n",
    "    for y in range(2006,2018):\n",
    "        if y == 2017:\n",
    "            pass\n",
    "            # For some reason the FBI lists cities as states \n",
    "            # in this 2017 document.\n",
    "            #ret[y][\"City\"] = ret[y][\"State\"].apply(fixname)\n",
    "        else:\n",
    "            ret[y][\"City\"] = ret[y][\"City\"].apply(fixname)\n",
    "    \n",
    "    \n",
    "    return ret\n",
    "data = get_data()"
   ]
  },
  {
   "cell_type": "code",
   "execution_count": 4,
   "metadata": {},
   "outputs": [
    {
     "data": {
      "text/html": [
       "<div>\n",
       "<style scoped>\n",
       "    .dataframe tbody tr th:only-of-type {\n",
       "        vertical-align: middle;\n",
       "    }\n",
       "\n",
       "    .dataframe tbody tr th {\n",
       "        vertical-align: top;\n",
       "    }\n",
       "\n",
       "    .dataframe thead th {\n",
       "        text-align: right;\n",
       "    }\n",
       "</style>\n",
       "<table border=\"1\" class=\"dataframe\">\n",
       "  <thead>\n",
       "    <tr style=\"text-align: right;\">\n",
       "      <th></th>\n",
       "      <th>2006</th>\n",
       "      <th>2007</th>\n",
       "      <th>2008</th>\n",
       "      <th>2009</th>\n",
       "      <th>2010</th>\n",
       "      <th>2011</th>\n",
       "      <th>2012</th>\n",
       "      <th>2013</th>\n",
       "      <th>2014</th>\n",
       "      <th>2015</th>\n",
       "      <th>2016</th>\n",
       "      <th>2017</th>\n",
       "    </tr>\n",
       "    <tr>\n",
       "      <th>City</th>\n",
       "      <th></th>\n",
       "      <th></th>\n",
       "      <th></th>\n",
       "      <th></th>\n",
       "      <th></th>\n",
       "      <th></th>\n",
       "      <th></th>\n",
       "      <th></th>\n",
       "      <th></th>\n",
       "      <th></th>\n",
       "      <th></th>\n",
       "      <th></th>\n",
       "    </tr>\n",
       "  </thead>\n",
       "  <tbody>\n",
       "    <tr>\n",
       "      <th>Ansonia</th>\n",
       "      <td>22</td>\n",
       "      <td>38.0</td>\n",
       "      <td>26.0</td>\n",
       "      <td>36.0</td>\n",
       "      <td>27.0</td>\n",
       "      <td>30.0</td>\n",
       "      <td>29.0</td>\n",
       "      <td>33.0</td>\n",
       "      <td>36.0</td>\n",
       "      <td>25.0</td>\n",
       "      <td>24.0</td>\n",
       "      <td>22.0</td>\n",
       "    </tr>\n",
       "    <tr>\n",
       "      <th>Avon</th>\n",
       "      <td>5</td>\n",
       "      <td>3.0</td>\n",
       "      <td>4.0</td>\n",
       "      <td>8.0</td>\n",
       "      <td>5.0</td>\n",
       "      <td>0.0</td>\n",
       "      <td>5.0</td>\n",
       "      <td>12.0</td>\n",
       "      <td>2.0</td>\n",
       "      <td>2.0</td>\n",
       "      <td>1.0</td>\n",
       "      <td>2.0</td>\n",
       "    </tr>\n",
       "    <tr>\n",
       "      <th>Berlin</th>\n",
       "      <td>19</td>\n",
       "      <td>13.0</td>\n",
       "      <td>21.0</td>\n",
       "      <td>12.0</td>\n",
       "      <td>15.0</td>\n",
       "      <td>15.0</td>\n",
       "      <td>21.0</td>\n",
       "      <td>14.0</td>\n",
       "      <td>11.0</td>\n",
       "      <td>15.0</td>\n",
       "      <td>20.0</td>\n",
       "      <td>27.0</td>\n",
       "    </tr>\n",
       "    <tr>\n",
       "      <th>Bethel</th>\n",
       "      <td>7</td>\n",
       "      <td>6.0</td>\n",
       "      <td>4.0</td>\n",
       "      <td>1.0</td>\n",
       "      <td>5.0</td>\n",
       "      <td>1.0</td>\n",
       "      <td>6.0</td>\n",
       "      <td>3.0</td>\n",
       "      <td>0.0</td>\n",
       "      <td>4.0</td>\n",
       "      <td>1.0</td>\n",
       "      <td>9.0</td>\n",
       "    </tr>\n",
       "    <tr>\n",
       "      <th>Bloomfield</th>\n",
       "      <td>NaN</td>\n",
       "      <td>54.0</td>\n",
       "      <td>32.0</td>\n",
       "      <td>47.0</td>\n",
       "      <td>32.0</td>\n",
       "      <td>43.0</td>\n",
       "      <td>31.0</td>\n",
       "      <td>46.0</td>\n",
       "      <td>39.0</td>\n",
       "      <td>57.0</td>\n",
       "      <td>52.0</td>\n",
       "      <td>36.0</td>\n",
       "    </tr>\n",
       "  </tbody>\n",
       "</table>\n",
       "</div>"
      ],
      "text/plain": [
       "           2006  2007  2008  2009  2010  2011  2012  2013  2014  2015  2016  \\\n",
       "City                                                                          \n",
       "Ansonia      22  38.0  26.0  36.0  27.0  30.0  29.0  33.0  36.0  25.0  24.0   \n",
       "Avon          5   3.0   4.0   8.0   5.0   0.0   5.0  12.0   2.0   2.0   1.0   \n",
       "Berlin       19  13.0  21.0  12.0  15.0  15.0  21.0  14.0  11.0  15.0  20.0   \n",
       "Bethel        7   6.0   4.0   1.0   5.0   1.0   6.0   3.0   0.0   4.0   1.0   \n",
       "Bloomfield  NaN  54.0  32.0  47.0  32.0  43.0  31.0  46.0  39.0  57.0  52.0   \n",
       "\n",
       "            2017  \n",
       "City              \n",
       "Ansonia     22.0  \n",
       "Avon         2.0  \n",
       "Berlin      27.0  \n",
       "Bethel       9.0  \n",
       "Bloomfield  36.0  "
      ]
     },
     "execution_count": 4,
     "metadata": {},
     "output_type": "execute_result"
    }
   ],
   "source": [
    "# Make a timeline dataframe from a given column\n",
    "def make_frame(col_names):\n",
    "    \n",
    "    df = None\n",
    "    ret = None\n",
    "    \n",
    "    for y in range(2006,2018):\n",
    "        df = None\n",
    "        try:\n",
    "            df = data[y]#.set_index(\"City\")\n",
    "\n",
    "            df[\"City\"] = df[\"City\"].apply(lambda x: fixname(x))\n",
    "            df = df[df[\"City\"].notnull()]\n",
    "            #return df[\"City\"]\n",
    "            df = df.set_index(\"City\")\n",
    "            #return df\n",
    "\n",
    "            df.columns = df.columns.map(lambda x: str(x).replace(\"\\n\",\" \"))\n",
    "\n",
    "            for col_name in col_names:\n",
    "                #print \"trying\", col_name, col_names\n",
    "                try:\n",
    "                    df[y] = df[col_name]\n",
    "                    #print \"got df\", y, col_name\n",
    "                    break\n",
    "                except:\n",
    "                    continue\n",
    "            if ret is None:\n",
    "                ret = df[[#\"Population\", \n",
    "                        y]]\n",
    "            else:\n",
    "                ret = ret.join(df[[y]],how=\"outer\",rsuffix=\"_\" + str(y))\n",
    "        except Exception as e:\n",
    "            print \"Error in \" + str(y), df.columns\n",
    "            print \"ERROR: \", e\n",
    "    \n",
    "    # remove all-null rows\n",
    "    try:\n",
    "        ret = ret.dropna(axis=0, how='all')#, thresh=None, subset=None, inplace=False)\n",
    "    except:\n",
    "        pass\n",
    "    \n",
    "    return ret\n",
    "\n",
    "viol_crime = make_frame([\"Violent crime\"])\n",
    "viol_crime.head()"
   ]
  },
  {
   "cell_type": "code",
   "execution_count": 5,
   "metadata": {},
   "outputs": [
    {
     "data": {
      "text/plain": [
       "[u'City',\n",
       " u'Population',\n",
       " u'Violent crime',\n",
       " u'Murder and nonnegligent manslaughter',\n",
       " u'Forcible rape',\n",
       " u'Robbery',\n",
       " u'Aggravated assault',\n",
       " u'Property crime',\n",
       " u'Burglary',\n",
       " u'Larceny-theft',\n",
       " u'Motor vehicle theft',\n",
       " u'Arson1',\n",
       " 'Unnamed: 12',\n",
       " 'Unnamed: 13',\n",
       " u'Arson',\n",
       " u'Violent\\ncrime',\n",
       " u'Murder and\\nnonnegligent\\nmanslaughter',\n",
       " u'Forcible\\nrape',\n",
       " u'Aggravated\\nassault',\n",
       " u'Property\\ncrime',\n",
       " u'Larceny-\\ntheft',\n",
       " u'Motor\\nvehicle\\ntheft',\n",
       " u'Rape\\n(revised\\ndefinition)1',\n",
       " u'Rape\\n(legacy\\ndefinition)2',\n",
       " u'Arson3',\n",
       " u'State',\n",
       " u'Rape1']"
      ]
     },
     "execution_count": 5,
     "metadata": {},
     "output_type": "execute_result"
    }
   ],
   "source": [
    "# List all column names\n",
    "\n",
    "def list_cols():\n",
    "    cols = []\n",
    "    for y in range(2006,2018):\n",
    "        for c in data[y].columns:\n",
    "            #print c\n",
    "            if c not in cols: \n",
    "                cols.append(c)\n",
    "    return cols\n",
    "list_cols()"
   ]
  },
  {
   "cell_type": "code",
   "execution_count": 6,
   "metadata": {},
   "outputs": [
    {
     "name": "stdout",
     "output_type": "stream",
     "text": [
      "Error in 2017 Index([u'State', u'Population', u'Violent crime',\n",
      "       u'Murder and nonnegligent manslaughter', u'Rape1', u'Robbery',\n",
      "       u'Aggravated assault', u'Property crime', u'Burglary',\n",
      "       u'Larceny- theft', u'Motor vehicle theft', u'Arson'],\n",
      "      dtype='object')\n",
      "ERROR:  '[2017] not in index'\n"
     ]
    },
    {
     "name": "stderr",
     "output_type": "stream",
     "text": [
      "/Users/jakekara/pandas/lib/python2.7/site-packages/ipykernel_launcher.py:38: FutureWarning: Sorting because non-concatenation axis is not aligned. A future version\n",
      "of pandas will change to not sort by default.\n",
      "\n",
      "To accept the future behavior, pass 'sort=False'.\n",
      "\n",
      "To retain the current behavior and silence the warning, pass 'sort=True'.\n",
      "\n"
     ]
    },
    {
     "data": {
      "text/html": [
       "<div>\n",
       "<style scoped>\n",
       "    .dataframe tbody tr th:only-of-type {\n",
       "        vertical-align: middle;\n",
       "    }\n",
       "\n",
       "    .dataframe tbody tr th {\n",
       "        vertical-align: top;\n",
       "    }\n",
       "\n",
       "    .dataframe thead th {\n",
       "        text-align: right;\n",
       "    }\n",
       "</style>\n",
       "<table border=\"1\" class=\"dataframe\">\n",
       "  <thead>\n",
       "    <tr style=\"text-align: right;\">\n",
       "      <th></th>\n",
       "      <th>2006</th>\n",
       "      <th>2007</th>\n",
       "      <th>2008</th>\n",
       "      <th>2009</th>\n",
       "      <th>2010</th>\n",
       "      <th>2011</th>\n",
       "      <th>2012</th>\n",
       "      <th>2013</th>\n",
       "      <th>2014</th>\n",
       "      <th>2015</th>\n",
       "      <th>2016</th>\n",
       "      <th>2017</th>\n",
       "    </tr>\n",
       "    <tr>\n",
       "      <th>Crime</th>\n",
       "      <th></th>\n",
       "      <th></th>\n",
       "      <th></th>\n",
       "      <th></th>\n",
       "      <th></th>\n",
       "      <th></th>\n",
       "      <th></th>\n",
       "      <th></th>\n",
       "      <th></th>\n",
       "      <th></th>\n",
       "      <th></th>\n",
       "      <th></th>\n",
       "    </tr>\n",
       "  </thead>\n",
       "  <tbody>\n",
       "    <tr>\n",
       "      <th>larceny</th>\n",
       "      <td>5957</td>\n",
       "      <td>4437.0</td>\n",
       "      <td>4048.0</td>\n",
       "      <td>4061.0</td>\n",
       "      <td>3639.0</td>\n",
       "      <td>3372.0</td>\n",
       "      <td>3467.0</td>\n",
       "      <td>3416.0</td>\n",
       "      <td>3642.0</td>\n",
       "      <td>3613.0</td>\n",
       "      <td>3616.0</td>\n",
       "      <td>3490.0</td>\n",
       "    </tr>\n",
       "    <tr>\n",
       "      <th>assault</th>\n",
       "      <td>761</td>\n",
       "      <td>680.0</td>\n",
       "      <td>782.0</td>\n",
       "      <td>921.0</td>\n",
       "      <td>982.0</td>\n",
       "      <td>955.0</td>\n",
       "      <td>965.0</td>\n",
       "      <td>840.0</td>\n",
       "      <td>814.0</td>\n",
       "      <td>835.0</td>\n",
       "      <td>798.0</td>\n",
       "      <td>804.0</td>\n",
       "    </tr>\n",
       "    <tr>\n",
       "      <th>murder</th>\n",
       "      <td>24</td>\n",
       "      <td>31.0</td>\n",
       "      <td>31.0</td>\n",
       "      <td>33.0</td>\n",
       "      <td>26.0</td>\n",
       "      <td>27.0</td>\n",
       "      <td>23.0</td>\n",
       "      <td>23.0</td>\n",
       "      <td>19.0</td>\n",
       "      <td>32.0</td>\n",
       "      <td>14.0</td>\n",
       "      <td>29.0</td>\n",
       "    </tr>\n",
       "    <tr>\n",
       "      <th>arson</th>\n",
       "      <td>87</td>\n",
       "      <td>107.0</td>\n",
       "      <td>97.0</td>\n",
       "      <td>84.0</td>\n",
       "      <td>95.0</td>\n",
       "      <td>91.0</td>\n",
       "      <td>88.0</td>\n",
       "      <td>45.0</td>\n",
       "      <td>45.0</td>\n",
       "      <td>55.0</td>\n",
       "      <td>112.0</td>\n",
       "      <td>87.0</td>\n",
       "    </tr>\n",
       "    <tr>\n",
       "      <th>robbery</th>\n",
       "      <td>758</td>\n",
       "      <td>642.0</td>\n",
       "      <td>629.0</td>\n",
       "      <td>600.0</td>\n",
       "      <td>570.0</td>\n",
       "      <td>602.0</td>\n",
       "      <td>640.0</td>\n",
       "      <td>557.0</td>\n",
       "      <td>502.0</td>\n",
       "      <td>510.0</td>\n",
       "      <td>476.0</td>\n",
       "      <td>465.0</td>\n",
       "    </tr>\n",
       "    <tr>\n",
       "      <th>mv-theft</th>\n",
       "      <td>1709</td>\n",
       "      <td>1601.0</td>\n",
       "      <td>1326.0</td>\n",
       "      <td>993.0</td>\n",
       "      <td>837.0</td>\n",
       "      <td>859.0</td>\n",
       "      <td>802.0</td>\n",
       "      <td>639.0</td>\n",
       "      <td>750.0</td>\n",
       "      <td>897.0</td>\n",
       "      <td>773.0</td>\n",
       "      <td>679.0</td>\n",
       "    </tr>\n",
       "    <tr>\n",
       "      <th>burglary</th>\n",
       "      <td>1158</td>\n",
       "      <td>1168.0</td>\n",
       "      <td>1000.0</td>\n",
       "      <td>1135.0</td>\n",
       "      <td>1019.0</td>\n",
       "      <td>1271.0</td>\n",
       "      <td>1050.0</td>\n",
       "      <td>981.0</td>\n",
       "      <td>888.0</td>\n",
       "      <td>958.0</td>\n",
       "      <td>808.0</td>\n",
       "      <td>738.0</td>\n",
       "    </tr>\n",
       "    <tr>\n",
       "      <th>property</th>\n",
       "      <td>8824</td>\n",
       "      <td>7206.0</td>\n",
       "      <td>6374.0</td>\n",
       "      <td>6189.0</td>\n",
       "      <td>5495.0</td>\n",
       "      <td>5502.0</td>\n",
       "      <td>5319.0</td>\n",
       "      <td>5036.0</td>\n",
       "      <td>5280.0</td>\n",
       "      <td>5468.0</td>\n",
       "      <td>5197.0</td>\n",
       "      <td>4907.0</td>\n",
       "    </tr>\n",
       "    <tr>\n",
       "      <th>violent-crimes</th>\n",
       "      <td>1590</td>\n",
       "      <td>1411.0</td>\n",
       "      <td>1503.0</td>\n",
       "      <td>1603.0</td>\n",
       "      <td>1624.0</td>\n",
       "      <td>1639.0</td>\n",
       "      <td>1655.0</td>\n",
       "      <td>1473.0</td>\n",
       "      <td>1380.0</td>\n",
       "      <td>1421.0</td>\n",
       "      <td>1353.0</td>\n",
       "      <td>1343.0</td>\n",
       "    </tr>\n",
       "    <tr>\n",
       "      <th>rape</th>\n",
       "      <td>47</td>\n",
       "      <td>58.0</td>\n",
       "      <td>61.0</td>\n",
       "      <td>49.0</td>\n",
       "      <td>46.0</td>\n",
       "      <td>55.0</td>\n",
       "      <td>27.0</td>\n",
       "      <td>NaN</td>\n",
       "      <td>45.0</td>\n",
       "      <td>44.0</td>\n",
       "      <td>65.0</td>\n",
       "      <td>NaN</td>\n",
       "    </tr>\n",
       "  </tbody>\n",
       "</table>\n",
       "</div>"
      ],
      "text/plain": [
       "                2006    2007    2008    2009    2010    2011    2012    2013  \\\n",
       "Crime                                                                          \n",
       "larceny         5957  4437.0  4048.0  4061.0  3639.0  3372.0  3467.0  3416.0   \n",
       "assault          761   680.0   782.0   921.0   982.0   955.0   965.0   840.0   \n",
       "murder            24    31.0    31.0    33.0    26.0    27.0    23.0    23.0   \n",
       "arson             87   107.0    97.0    84.0    95.0    91.0    88.0    45.0   \n",
       "robbery          758   642.0   629.0   600.0   570.0   602.0   640.0   557.0   \n",
       "mv-theft        1709  1601.0  1326.0   993.0   837.0   859.0   802.0   639.0   \n",
       "burglary        1158  1168.0  1000.0  1135.0  1019.0  1271.0  1050.0   981.0   \n",
       "property        8824  7206.0  6374.0  6189.0  5495.0  5502.0  5319.0  5036.0   \n",
       "violent-crimes  1590  1411.0  1503.0  1603.0  1624.0  1639.0  1655.0  1473.0   \n",
       "rape              47    58.0    61.0    49.0    46.0    55.0    27.0     NaN   \n",
       "\n",
       "                  2014    2015    2016    2017  \n",
       "Crime                                           \n",
       "larceny         3642.0  3613.0  3616.0  3490.0  \n",
       "assault          814.0   835.0   798.0   804.0  \n",
       "murder            19.0    32.0    14.0    29.0  \n",
       "arson             45.0    55.0   112.0    87.0  \n",
       "robbery          502.0   510.0   476.0   465.0  \n",
       "mv-theft         750.0   897.0   773.0   679.0  \n",
       "burglary         888.0   958.0   808.0   738.0  \n",
       "property        5280.0  5468.0  5197.0  4907.0  \n",
       "violent-crimes  1380.0  1421.0  1353.0  1343.0  \n",
       "rape              45.0    44.0    65.0     NaN  "
      ]
     },
     "execution_count": 6,
     "metadata": {},
     "output_type": "execute_result"
    }
   ],
   "source": [
    "# labels are file names from manual pull folder (historical data back farther than 2006)\n",
    "# and the arrays are all acceptable column names used in the newer data sheets\n",
    "col_labels = {\n",
    "    \"violent-crimes\":[\"Violent crime\",'Violent\\ncrime'],\n",
    "    \"murder\": ['Murder and nonnegligent manslaughter',\n",
    "              'Murder and\\nnonnegligent\\nmanslaughter'],\n",
    "    \"rape\": ['Forcible rape',\n",
    "             'Forcible\\nrape',\n",
    "             'Rape\\n(revised\\ndefinition)1',\n",
    "             'Rape (revised definition)1',\n",
    "             'Rape\\n(legacy\\ndefinition)2'],\n",
    "    \"robbery\": ['Robbery'],\n",
    "    \"assault\": ['Aggravated assault','Aggravated\\nassault'],\n",
    "    'property':['Property crime','Property\\ncrime'],\n",
    "    'burglary':['Burglary'],\n",
    "    'larceny':['Larceny-\\ntheft','Larceny-theft','Larceny- theft'],\n",
    "    'mv-theft':['Motor vehicle theft','Motor\\nvehicle\\ntheft'],\n",
    "    'arson':['Arson1','Arson','Arson3']\n",
    "    #'UNKNOWN':['Unnamed: 12','Unnamed: 13']\n",
    "}\n",
    "\n",
    "\n",
    "def make_timetable(town):\n",
    "\n",
    "    # Dictionary of equilvant columns\n",
    "\n",
    "    df = None\n",
    "    frames = []\n",
    "    for label in col_labels:\n",
    "        cur_label = col_labels[label]\n",
    "        #print \"Trying \", cur_label\n",
    "        df = make_frame(cur_label)\n",
    "        df = df[df.index == town]\n",
    "        #print \"OK, got dataframe for \" + label\n",
    "        df[\"Crime\"] = label\n",
    "        frames.append(df.set_index(\"Crime\"))\n",
    "        \n",
    "    return pd.concat(frames)\n",
    "        \n",
    "make_timetable(\"Hartford\")"
   ]
  },
  {
   "cell_type": "code",
   "execution_count": 7,
   "metadata": {},
   "outputs": [
    {
     "name": "stdout",
     "output_type": "stream",
     "text": [
      "Error in 2017 Index([u'State', u'Population', u'Violent crime',\n",
      "       u'Murder and nonnegligent manslaughter', u'Rape1', u'Robbery',\n",
      "       u'Aggravated assault', u'Property crime', u'Burglary',\n",
      "       u'Larceny- theft', u'Motor vehicle theft', u'Arson'],\n",
      "      dtype='object')\n",
      "ERROR:  '[2017] not in index'\n"
     ]
    },
    {
     "name": "stderr",
     "output_type": "stream",
     "text": [
      "/Users/jakekara/pandas/lib/python2.7/site-packages/ipykernel_launcher.py:38: FutureWarning: Sorting because non-concatenation axis is not aligned. A future version\n",
      "of pandas will change to not sort by default.\n",
      "\n",
      "To accept the future behavior, pass 'sort=False'.\n",
      "\n",
      "To retain the current behavior and silence the warning, pass 'sort=True'.\n",
      "\n"
     ]
    },
    {
     "data": {
      "text/html": [
       "<div>\n",
       "<style scoped>\n",
       "    .dataframe tbody tr th:only-of-type {\n",
       "        vertical-align: middle;\n",
       "    }\n",
       "\n",
       "    .dataframe tbody tr th {\n",
       "        vertical-align: top;\n",
       "    }\n",
       "\n",
       "    .dataframe thead th {\n",
       "        text-align: right;\n",
       "    }\n",
       "</style>\n",
       "<table border=\"1\" class=\"dataframe\">\n",
       "  <thead>\n",
       "    <tr style=\"text-align: right;\">\n",
       "      <th></th>\n",
       "      <th>2006</th>\n",
       "      <th>2007</th>\n",
       "      <th>2008</th>\n",
       "      <th>2009</th>\n",
       "      <th>2010</th>\n",
       "      <th>2011</th>\n",
       "      <th>2012</th>\n",
       "      <th>2013</th>\n",
       "      <th>2014</th>\n",
       "      <th>2015</th>\n",
       "      <th>2016</th>\n",
       "      <th>2017</th>\n",
       "    </tr>\n",
       "    <tr>\n",
       "      <th>Crime</th>\n",
       "      <th></th>\n",
       "      <th></th>\n",
       "      <th></th>\n",
       "      <th></th>\n",
       "      <th></th>\n",
       "      <th></th>\n",
       "      <th></th>\n",
       "      <th></th>\n",
       "      <th></th>\n",
       "      <th></th>\n",
       "      <th></th>\n",
       "      <th></th>\n",
       "    </tr>\n",
       "  </thead>\n",
       "  <tbody>\n",
       "    <tr>\n",
       "      <th>larceny</th>\n",
       "      <td>93</td>\n",
       "      <td>84.0</td>\n",
       "      <td>128.0</td>\n",
       "      <td>171.0</td>\n",
       "      <td>158.0</td>\n",
       "      <td>253.0</td>\n",
       "      <td>263.0</td>\n",
       "      <td>143.0</td>\n",
       "      <td>135.0</td>\n",
       "      <td>141.0</td>\n",
       "      <td>121.0</td>\n",
       "      <td>147.0</td>\n",
       "    </tr>\n",
       "    <tr>\n",
       "      <th>assault</th>\n",
       "      <td>3</td>\n",
       "      <td>3.0</td>\n",
       "      <td>1.0</td>\n",
       "      <td>0.0</td>\n",
       "      <td>1.0</td>\n",
       "      <td>0.0</td>\n",
       "      <td>1.0</td>\n",
       "      <td>1.0</td>\n",
       "      <td>0.0</td>\n",
       "      <td>0.0</td>\n",
       "      <td>0.0</td>\n",
       "      <td>4.0</td>\n",
       "    </tr>\n",
       "    <tr>\n",
       "      <th>murder</th>\n",
       "      <td>0</td>\n",
       "      <td>0.0</td>\n",
       "      <td>0.0</td>\n",
       "      <td>0.0</td>\n",
       "      <td>0.0</td>\n",
       "      <td>0.0</td>\n",
       "      <td>0.0</td>\n",
       "      <td>0.0</td>\n",
       "      <td>0.0</td>\n",
       "      <td>0.0</td>\n",
       "      <td>1.0</td>\n",
       "      <td>0.0</td>\n",
       "    </tr>\n",
       "    <tr>\n",
       "      <th>arson</th>\n",
       "      <td>1</td>\n",
       "      <td>1.0</td>\n",
       "      <td>0.0</td>\n",
       "      <td>0.0</td>\n",
       "      <td>1.0</td>\n",
       "      <td>0.0</td>\n",
       "      <td>2.0</td>\n",
       "      <td>2.0</td>\n",
       "      <td>0.0</td>\n",
       "      <td>0.0</td>\n",
       "      <td>0.0</td>\n",
       "      <td>2.0</td>\n",
       "    </tr>\n",
       "    <tr>\n",
       "      <th>robbery</th>\n",
       "      <td>3</td>\n",
       "      <td>1.0</td>\n",
       "      <td>3.0</td>\n",
       "      <td>1.0</td>\n",
       "      <td>3.0</td>\n",
       "      <td>1.0</td>\n",
       "      <td>2.0</td>\n",
       "      <td>0.0</td>\n",
       "      <td>0.0</td>\n",
       "      <td>0.0</td>\n",
       "      <td>0.0</td>\n",
       "      <td>3.0</td>\n",
       "    </tr>\n",
       "    <tr>\n",
       "      <th>mv-theft</th>\n",
       "      <td>6</td>\n",
       "      <td>2.0</td>\n",
       "      <td>9.0</td>\n",
       "      <td>7.0</td>\n",
       "      <td>6.0</td>\n",
       "      <td>6.0</td>\n",
       "      <td>10.0</td>\n",
       "      <td>6.0</td>\n",
       "      <td>7.0</td>\n",
       "      <td>2.0</td>\n",
       "      <td>15.0</td>\n",
       "      <td>4.0</td>\n",
       "    </tr>\n",
       "    <tr>\n",
       "      <th>burglary</th>\n",
       "      <td>22</td>\n",
       "      <td>22.0</td>\n",
       "      <td>30.0</td>\n",
       "      <td>36.0</td>\n",
       "      <td>31.0</td>\n",
       "      <td>47.0</td>\n",
       "      <td>48.0</td>\n",
       "      <td>31.0</td>\n",
       "      <td>22.0</td>\n",
       "      <td>26.0</td>\n",
       "      <td>26.0</td>\n",
       "      <td>20.0</td>\n",
       "    </tr>\n",
       "    <tr>\n",
       "      <th>property</th>\n",
       "      <td>121</td>\n",
       "      <td>108.0</td>\n",
       "      <td>167.0</td>\n",
       "      <td>214.0</td>\n",
       "      <td>195.0</td>\n",
       "      <td>306.0</td>\n",
       "      <td>321.0</td>\n",
       "      <td>180.0</td>\n",
       "      <td>164.0</td>\n",
       "      <td>169.0</td>\n",
       "      <td>162.0</td>\n",
       "      <td>171.0</td>\n",
       "    </tr>\n",
       "    <tr>\n",
       "      <th>violent-crimes</th>\n",
       "      <td>7</td>\n",
       "      <td>6.0</td>\n",
       "      <td>4.0</td>\n",
       "      <td>1.0</td>\n",
       "      <td>5.0</td>\n",
       "      <td>1.0</td>\n",
       "      <td>6.0</td>\n",
       "      <td>3.0</td>\n",
       "      <td>0.0</td>\n",
       "      <td>4.0</td>\n",
       "      <td>1.0</td>\n",
       "      <td>9.0</td>\n",
       "    </tr>\n",
       "    <tr>\n",
       "      <th>rape</th>\n",
       "      <td>1</td>\n",
       "      <td>2.0</td>\n",
       "      <td>0.0</td>\n",
       "      <td>0.0</td>\n",
       "      <td>1.0</td>\n",
       "      <td>0.0</td>\n",
       "      <td>3.0</td>\n",
       "      <td>2.0</td>\n",
       "      <td>0.0</td>\n",
       "      <td>4.0</td>\n",
       "      <td>0.0</td>\n",
       "      <td>NaN</td>\n",
       "    </tr>\n",
       "  </tbody>\n",
       "</table>\n",
       "</div>"
      ],
      "text/plain": [
       "               2006   2007   2008   2009   2010   2011   2012   2013   2014  \\\n",
       "Crime                                                                         \n",
       "larceny          93   84.0  128.0  171.0  158.0  253.0  263.0  143.0  135.0   \n",
       "assault           3    3.0    1.0    0.0    1.0    0.0    1.0    1.0    0.0   \n",
       "murder            0    0.0    0.0    0.0    0.0    0.0    0.0    0.0    0.0   \n",
       "arson             1    1.0    0.0    0.0    1.0    0.0    2.0    2.0    0.0   \n",
       "robbery           3    1.0    3.0    1.0    3.0    1.0    2.0    0.0    0.0   \n",
       "mv-theft          6    2.0    9.0    7.0    6.0    6.0   10.0    6.0    7.0   \n",
       "burglary         22   22.0   30.0   36.0   31.0   47.0   48.0   31.0   22.0   \n",
       "property        121  108.0  167.0  214.0  195.0  306.0  321.0  180.0  164.0   \n",
       "violent-crimes    7    6.0    4.0    1.0    5.0    1.0    6.0    3.0    0.0   \n",
       "rape              1    2.0    0.0    0.0    1.0    0.0    3.0    2.0    0.0   \n",
       "\n",
       "                 2015   2016   2017  \n",
       "Crime                                \n",
       "larceny         141.0  121.0  147.0  \n",
       "assault           0.0    0.0    4.0  \n",
       "murder            0.0    1.0    0.0  \n",
       "arson             0.0    0.0    2.0  \n",
       "robbery           0.0    0.0    3.0  \n",
       "mv-theft          2.0   15.0    4.0  \n",
       "burglary         26.0   26.0   20.0  \n",
       "property        169.0  162.0  171.0  \n",
       "violent-crimes    4.0    1.0    9.0  \n",
       "rape              4.0    0.0    NaN  "
      ]
     },
     "execution_count": 7,
     "metadata": {},
     "output_type": "execute_result"
    }
   ],
   "source": [
    "make_timetable(\"Bethel\")"
   ]
  },
  {
   "cell_type": "code",
   "execution_count": 8,
   "metadata": {},
   "outputs": [
    {
     "data": {
      "text/plain": [
       "['Ansonia',\n",
       " 'Avon',\n",
       " 'Berlin',\n",
       " 'Bethel',\n",
       " 'Bloomfield',\n",
       " 'Branford',\n",
       " 'Bridgeport',\n",
       " 'Bristol',\n",
       " 'Brookfield',\n",
       " 'Canton']"
      ]
     },
     "execution_count": 8,
     "metadata": {},
     "output_type": "execute_result"
    }
   ],
   "source": [
    "# generate a list of all cities\n",
    "\n",
    "# def all_cities():\n",
    "#     ret = []\n",
    "#     for y in range(2006,2017):\n",
    "#         df = get_data()[y].set_index(\"City\").dropna(axis=0,how='any')\n",
    "#         cities = df.index\n",
    "#         for c in cities:\n",
    "#             if c in ret: \n",
    "#                 continue\n",
    "#             ret.append(c)\n",
    "#     return ret\n",
    "\n",
    "all_cities = get_data()[2016][\"City\"].unique().tolist()\n",
    "\n",
    "all_cities[:10]\n",
    "    "
   ]
  },
  {
   "cell_type": "code",
   "execution_count": 28,
   "metadata": {},
   "outputs": [
    {
     "data": {
      "text/plain": [
       "93"
      ]
     },
     "execution_count": 28,
     "metadata": {},
     "output_type": "execute_result"
    }
   ],
   "source": [
    "len(all_cities)"
   ]
  },
  {
   "cell_type": "code",
   "execution_count": 9,
   "metadata": {},
   "outputs": [],
   "source": [
    "# make a timetable for each city and save it to a file\n",
    "def make_all_timetables():\n",
    "    for c in all_cities:\n",
    "        make_timetable(c).to_csv(\"output/\" + c + \".csv\")\n",
    "#make_all_timetables()"
   ]
  },
  {
   "cell_type": "markdown",
   "metadata": {},
   "source": [
    "# Adding in historical data \n",
    "\n",
    "The manual_pull folder contains files with years older than 2006. I want to combine them with the newer sheets and remove conflicting values"
   ]
  },
  {
   "cell_type": "code",
   "execution_count": 10,
   "metadata": {},
   "outputs": [],
   "source": [
    "import os\n",
    "\n",
    "def get_csvs(folder = \"data/manual_pull/\",skiprows=0):\n",
    "    ret = {}\n",
    "    \n",
    "    for fname in os.listdir(folder):\n",
    "        fpath = os.path.join(folder, fname)\n",
    "        topic = fname.replace(\".csv\",\"\")\n",
    "        df = pd.read_csv(fpath,skiprows=skiprows)\n",
    "        df[\"City\"] = df[\"Agency\"].str.replace(\" Town Police Dept\",\"\")\n",
    "        df[\"City\"] = df[\"City\"].str.replace(\" Police Dept\", \"\")\n",
    "        df[\"City\"] = df[\"City\"].str.replace(\" Police\", \"\")\n",
    "        \n",
    "        # combine complementary columns based on def'n change\n",
    "#         if topic == \"rape\": \n",
    "#             df = df.groupby(df.index).max()\n",
    "#             #print df\n",
    "            \n",
    "        ret[topic] = df.set_index(\"City\").dropna(thresh=5)\n",
    "\n",
    "    return ret\n",
    "\n",
    "hist_dfs = get_csvs(skiprows=4)\n",
    "\n",
    "# df = hist_dfs[\"rape\"]\n",
    "# hist_dfs[\"rape\"] = df.groupby(df.index).max()\n",
    "\n",
    "# df = hist_dfs[\"violent-crimes\"]\n",
    "# hist_dfs[\"violent-crimes\"] = df.groupby(df.index).max()\n"
   ]
  },
  {
   "cell_type": "code",
   "execution_count": 31,
   "metadata": {},
   "outputs": [
    {
     "data": {
      "text/plain": [
       "83"
      ]
     },
     "execution_count": 31,
     "metadata": {},
     "output_type": "execute_result"
    }
   ],
   "source": [
    "len(hist_dfs[\"violent-crimes\"])"
   ]
  },
  {
   "cell_type": "code",
   "execution_count": 29,
   "metadata": {},
   "outputs": [
    {
     "data": {
      "text/html": [
       "<div>\n",
       "<style scoped>\n",
       "    .dataframe tbody tr th:only-of-type {\n",
       "        vertical-align: middle;\n",
       "    }\n",
       "\n",
       "    .dataframe tbody tr th {\n",
       "        vertical-align: top;\n",
       "    }\n",
       "\n",
       "    .dataframe thead th {\n",
       "        text-align: right;\n",
       "    }\n",
       "</style>\n",
       "<table border=\"1\" class=\"dataframe\">\n",
       "  <thead>\n",
       "    <tr style=\"text-align: right;\">\n",
       "      <th></th>\n",
       "      <th>Agency</th>\n",
       "      <th>State</th>\n",
       "      <th>1985</th>\n",
       "      <th>1986</th>\n",
       "      <th>1987</th>\n",
       "      <th>1988</th>\n",
       "      <th>1989</th>\n",
       "      <th>1990</th>\n",
       "      <th>1991</th>\n",
       "      <th>1992</th>\n",
       "      <th>...</th>\n",
       "      <th>2006</th>\n",
       "      <th>2007</th>\n",
       "      <th>2008</th>\n",
       "      <th>2009</th>\n",
       "      <th>2010</th>\n",
       "      <th>2011</th>\n",
       "      <th>2012</th>\n",
       "      <th>2013</th>\n",
       "      <th>2014</th>\n",
       "      <th>Unnamed: 32</th>\n",
       "    </tr>\n",
       "    <tr>\n",
       "      <th>City</th>\n",
       "      <th></th>\n",
       "      <th></th>\n",
       "      <th></th>\n",
       "      <th></th>\n",
       "      <th></th>\n",
       "      <th></th>\n",
       "      <th></th>\n",
       "      <th></th>\n",
       "      <th></th>\n",
       "      <th></th>\n",
       "      <th></th>\n",
       "      <th></th>\n",
       "      <th></th>\n",
       "      <th></th>\n",
       "      <th></th>\n",
       "      <th></th>\n",
       "      <th></th>\n",
       "      <th></th>\n",
       "      <th></th>\n",
       "      <th></th>\n",
       "      <th></th>\n",
       "    </tr>\n",
       "  </thead>\n",
       "  <tbody>\n",
       "  </tbody>\n",
       "</table>\n",
       "<p>0 rows × 33 columns</p>\n",
       "</div>"
      ],
      "text/plain": [
       "Empty DataFrame\n",
       "Columns: [Agency, State, 1985, 1986, 1987, 1988, 1989, 1990, 1991, 1992, 1993, 1994, 1995, 1996, 1997, 1998, 1999, 2000, 2001, 2002, 2003, 2004, 2005, 2006, 2007, 2008, 2009, 2010, 2011, 2012, 2013, 2014, Unnamed: 32]\n",
       "Index: []\n",
       "\n",
       "[0 rows x 33 columns]"
      ]
     },
     "execution_count": 29,
     "metadata": {},
     "output_type": "execute_result"
    }
   ],
   "source": [
    "# Check for duplicates\n",
    "hist_dfs[\"violent-crimes\"][hist_dfs[\"violent-crimes\"].index.duplicated()]"
   ]
  },
  {
   "cell_type": "code",
   "execution_count": 64,
   "metadata": {},
   "outputs": [
    {
     "name": "stdout",
     "output_type": "stream",
     "text": [
      "Index([u'2006', u'2007', u'2008', u'2009', u'2010', u'2011', u'2012', u'2013',\n",
      "       u'2014', u'2015', u'2016', u'2017'],\n",
      "      dtype='object')\n",
      "Index([u'Agency', u'State', u'1985', u'1986', u'1987', u'1988', u'1989',\n",
      "       u'1990', u'1991', u'1992', u'1993', u'1994', u'1995', u'1996', u'1997',\n",
      "       u'1998', u'1999', u'2000', u'2001', u'2002', u'2003', u'2004', u'2005',\n",
      "       u'2006_hist', u'2007_hist', u'2008_hist', u'2009_hist', u'2010_hist',\n",
      "       u'2011_hist', u'2012_hist', u'2013_hist', u'2014_hist', u'Unnamed: 32',\n",
      "       u'2006_new', u'2007_new', u'2008_new', u'2009_new', u'2010_new',\n",
      "       u'2011_new', u'2012_new', u'2013_new', u'2014_new', u'2015', u'2016',\n",
      "       u'2017'],\n",
      "      dtype='object')\n"
     ]
    },
    {
     "data": {
      "text/html": [
       "<div>\n",
       "<style scoped>\n",
       "    .dataframe tbody tr th:only-of-type {\n",
       "        vertical-align: middle;\n",
       "    }\n",
       "\n",
       "    .dataframe tbody tr th {\n",
       "        vertical-align: top;\n",
       "    }\n",
       "\n",
       "    .dataframe thead th {\n",
       "        text-align: right;\n",
       "    }\n",
       "</style>\n",
       "<table border=\"1\" class=\"dataframe\">\n",
       "  <thead>\n",
       "    <tr style=\"text-align: right;\">\n",
       "      <th></th>\n",
       "      <th>Agency</th>\n",
       "      <th>State</th>\n",
       "      <th>1985</th>\n",
       "      <th>1986</th>\n",
       "      <th>1987</th>\n",
       "      <th>1988</th>\n",
       "      <th>1989</th>\n",
       "      <th>1990</th>\n",
       "      <th>1991</th>\n",
       "      <th>1992</th>\n",
       "      <th>...</th>\n",
       "      <th>2008_new</th>\n",
       "      <th>2009_new</th>\n",
       "      <th>2010_new</th>\n",
       "      <th>2011_new</th>\n",
       "      <th>2012_new</th>\n",
       "      <th>2013_new</th>\n",
       "      <th>2014_new</th>\n",
       "      <th>2015</th>\n",
       "      <th>2016</th>\n",
       "      <th>2017</th>\n",
       "    </tr>\n",
       "    <tr>\n",
       "      <th>City</th>\n",
       "      <th></th>\n",
       "      <th></th>\n",
       "      <th></th>\n",
       "      <th></th>\n",
       "      <th></th>\n",
       "      <th></th>\n",
       "      <th></th>\n",
       "      <th></th>\n",
       "      <th></th>\n",
       "      <th></th>\n",
       "      <th></th>\n",
       "      <th></th>\n",
       "      <th></th>\n",
       "      <th></th>\n",
       "      <th></th>\n",
       "      <th></th>\n",
       "      <th></th>\n",
       "      <th></th>\n",
       "      <th></th>\n",
       "      <th></th>\n",
       "      <th></th>\n",
       "    </tr>\n",
       "  </thead>\n",
       "  <tbody>\n",
       "    <tr>\n",
       "      <th>Hartford</th>\n",
       "      <td>Hartford Police Dept</td>\n",
       "      <td>CT</td>\n",
       "      <td>12.0</td>\n",
       "      <td>28.0</td>\n",
       "      <td>24.0</td>\n",
       "      <td>37.0</td>\n",
       "      <td>30.0</td>\n",
       "      <td>19.0</td>\n",
       "      <td>24.0</td>\n",
       "      <td>13.0</td>\n",
       "      <td>...</td>\n",
       "      <td>31.0</td>\n",
       "      <td>33.0</td>\n",
       "      <td>26.0</td>\n",
       "      <td>27.0</td>\n",
       "      <td>23.0</td>\n",
       "      <td>23.0</td>\n",
       "      <td>19.0</td>\n",
       "      <td>32.0</td>\n",
       "      <td>14.0</td>\n",
       "      <td>29.0</td>\n",
       "    </tr>\n",
       "  </tbody>\n",
       "</table>\n",
       "<p>1 rows × 45 columns</p>\n",
       "</div>"
      ],
      "text/plain": [
       "                        Agency State  1985  1986  1987  1988  1989  1990  \\\n",
       "City                                                                       \n",
       "Hartford  Hartford Police Dept    CT  12.0  28.0  24.0  37.0  30.0  19.0   \n",
       "\n",
       "          1991  1992  ...   2008_new  2009_new  2010_new  2011_new  2012_new  \\\n",
       "City                  ...                                                      \n",
       "Hartford  24.0  13.0  ...       31.0      33.0      26.0      27.0      23.0   \n",
       "\n",
       "          2013_new  2014_new  2015  2016  2017  \n",
       "City                                            \n",
       "Hartford      23.0      19.0  32.0  14.0  29.0  \n",
       "\n",
       "[1 rows x 45 columns]"
      ]
     },
     "execution_count": 64,
     "metadata": {},
     "output_type": "execute_result"
    }
   ],
   "source": [
    "# Combine the history dfs with the newer dfs\n",
    "def add_history(df, hist_df):\n",
    "    \n",
    "    new = df.copy()\n",
    "\n",
    "    new = new.rename(columns = lambda x: str(x))\n",
    "    print new.columns\n",
    "    \n",
    "#     ret = hist_df.join(new,how=\"left\",lsuffix=\"_hist\",rsuffix=\"_new\")\n",
    "    ret = hist_df.merge(\n",
    "        new,\n",
    "        #2018\n",
    "        how=\"outer\",\n",
    "        suffixes=[\"_hist\",\"_new\"],\n",
    "        left_index=True,right_index=True)\n",
    "\n",
    "#     ret = hist_df.reset_index()\\\n",
    "#     .merge(new.reset_index(),on=\"City\",how=\"left\",suffixes=[\"_hist\",\"_new\"],left_index=True,right_index=True)\n",
    "#     ret = ret.set_index(\"City\")\n",
    "    \n",
    "    print ret.columns\n",
    "    return ret\n",
    "    ret = ret[ret[\"Agency\"].notnull()]\n",
    "    return ret.dropna(axis=0,how=\"all\")\n",
    "    \n",
    "murder_historical = add_history(make_frame(col_labels[\"murder\"]),hist_dfs[\"murder\"])#.columns\n",
    "#murder_historical[murder_historical.index.duplicated(keep=False)]\n",
    "murder_historical[murder_historical.index==\"Hartford\"]"
   ]
  },
  {
   "cell_type": "code",
   "execution_count": 65,
   "metadata": {},
   "outputs": [
    {
     "data": {
      "text/html": [
       "<div>\n",
       "<style scoped>\n",
       "    .dataframe tbody tr th:only-of-type {\n",
       "        vertical-align: middle;\n",
       "    }\n",
       "\n",
       "    .dataframe tbody tr th {\n",
       "        vertical-align: top;\n",
       "    }\n",
       "\n",
       "    .dataframe thead th {\n",
       "        text-align: right;\n",
       "    }\n",
       "</style>\n",
       "<table border=\"1\" class=\"dataframe\">\n",
       "  <thead>\n",
       "    <tr style=\"text-align: right;\">\n",
       "      <th>City</th>\n",
       "      <th>Hartford</th>\n",
       "    </tr>\n",
       "  </thead>\n",
       "  <tbody>\n",
       "    <tr>\n",
       "      <th>2006_hist</th>\n",
       "      <td>24</td>\n",
       "    </tr>\n",
       "    <tr>\n",
       "      <th>2007_hist</th>\n",
       "      <td>31</td>\n",
       "    </tr>\n",
       "    <tr>\n",
       "      <th>2008_hist</th>\n",
       "      <td>31</td>\n",
       "    </tr>\n",
       "    <tr>\n",
       "      <th>2009_hist</th>\n",
       "      <td>33</td>\n",
       "    </tr>\n",
       "    <tr>\n",
       "      <th>2010_hist</th>\n",
       "      <td>26</td>\n",
       "    </tr>\n",
       "    <tr>\n",
       "      <th>2011_hist</th>\n",
       "      <td>27</td>\n",
       "    </tr>\n",
       "    <tr>\n",
       "      <th>2012_hist</th>\n",
       "      <td>23</td>\n",
       "    </tr>\n",
       "    <tr>\n",
       "      <th>2013_hist</th>\n",
       "      <td>23</td>\n",
       "    </tr>\n",
       "    <tr>\n",
       "      <th>2014_hist</th>\n",
       "      <td>19</td>\n",
       "    </tr>\n",
       "    <tr>\n",
       "      <th>2015</th>\n",
       "      <td>32</td>\n",
       "    </tr>\n",
       "    <tr>\n",
       "      <th>2016</th>\n",
       "      <td>14</td>\n",
       "    </tr>\n",
       "    <tr>\n",
       "      <th>2017</th>\n",
       "      <td>29</td>\n",
       "    </tr>\n",
       "    <tr>\n",
       "      <th>Agency</th>\n",
       "      <td>Hartford Police Dept</td>\n",
       "    </tr>\n",
       "    <tr>\n",
       "      <th>State</th>\n",
       "      <td>CT</td>\n",
       "    </tr>\n",
       "    <tr>\n",
       "      <th>1985</th>\n",
       "      <td>12</td>\n",
       "    </tr>\n",
       "    <tr>\n",
       "      <th>1986</th>\n",
       "      <td>28</td>\n",
       "    </tr>\n",
       "    <tr>\n",
       "      <th>1987</th>\n",
       "      <td>24</td>\n",
       "    </tr>\n",
       "    <tr>\n",
       "      <th>1988</th>\n",
       "      <td>37</td>\n",
       "    </tr>\n",
       "    <tr>\n",
       "      <th>1989</th>\n",
       "      <td>30</td>\n",
       "    </tr>\n",
       "    <tr>\n",
       "      <th>1990</th>\n",
       "      <td>19</td>\n",
       "    </tr>\n",
       "    <tr>\n",
       "      <th>1991</th>\n",
       "      <td>24</td>\n",
       "    </tr>\n",
       "    <tr>\n",
       "      <th>1992</th>\n",
       "      <td>13</td>\n",
       "    </tr>\n",
       "    <tr>\n",
       "      <th>1993</th>\n",
       "      <td>30</td>\n",
       "    </tr>\n",
       "    <tr>\n",
       "      <th>1994</th>\n",
       "      <td>55</td>\n",
       "    </tr>\n",
       "    <tr>\n",
       "      <th>1995</th>\n",
       "      <td>33</td>\n",
       "    </tr>\n",
       "    <tr>\n",
       "      <th>1996</th>\n",
       "      <td>20</td>\n",
       "    </tr>\n",
       "    <tr>\n",
       "      <th>1997</th>\n",
       "      <td>21</td>\n",
       "    </tr>\n",
       "    <tr>\n",
       "      <th>1998</th>\n",
       "      <td>25</td>\n",
       "    </tr>\n",
       "    <tr>\n",
       "      <th>1999</th>\n",
       "      <td>21</td>\n",
       "    </tr>\n",
       "    <tr>\n",
       "      <th>2000</th>\n",
       "      <td>17</td>\n",
       "    </tr>\n",
       "    <tr>\n",
       "      <th>2001</th>\n",
       "      <td>25</td>\n",
       "    </tr>\n",
       "    <tr>\n",
       "      <th>2002</th>\n",
       "      <td>25</td>\n",
       "    </tr>\n",
       "    <tr>\n",
       "      <th>2003</th>\n",
       "      <td>44</td>\n",
       "    </tr>\n",
       "    <tr>\n",
       "      <th>2004</th>\n",
       "      <td>16</td>\n",
       "    </tr>\n",
       "    <tr>\n",
       "      <th>2005</th>\n",
       "      <td>25</td>\n",
       "    </tr>\n",
       "    <tr>\n",
       "      <th>2006_new</th>\n",
       "      <td>24</td>\n",
       "    </tr>\n",
       "    <tr>\n",
       "      <th>2007_new</th>\n",
       "      <td>31</td>\n",
       "    </tr>\n",
       "    <tr>\n",
       "      <th>2008_new</th>\n",
       "      <td>31</td>\n",
       "    </tr>\n",
       "    <tr>\n",
       "      <th>2009_new</th>\n",
       "      <td>33</td>\n",
       "    </tr>\n",
       "    <tr>\n",
       "      <th>2010_new</th>\n",
       "      <td>26</td>\n",
       "    </tr>\n",
       "    <tr>\n",
       "      <th>2011_new</th>\n",
       "      <td>27</td>\n",
       "    </tr>\n",
       "    <tr>\n",
       "      <th>2012_new</th>\n",
       "      <td>23</td>\n",
       "    </tr>\n",
       "    <tr>\n",
       "      <th>2013_new</th>\n",
       "      <td>23</td>\n",
       "    </tr>\n",
       "    <tr>\n",
       "      <th>2014_new</th>\n",
       "      <td>19</td>\n",
       "    </tr>\n",
       "    <tr>\n",
       "      <th>Unnamed: 32</th>\n",
       "      <td>NaN</td>\n",
       "    </tr>\n",
       "  </tbody>\n",
       "</table>\n",
       "</div>"
      ],
      "text/plain": [
       "City                     Hartford\n",
       "2006_hist                      24\n",
       "2007_hist                      31\n",
       "2008_hist                      31\n",
       "2009_hist                      33\n",
       "2010_hist                      26\n",
       "2011_hist                      27\n",
       "2012_hist                      23\n",
       "2013_hist                      23\n",
       "2014_hist                      19\n",
       "2015                           32\n",
       "2016                           14\n",
       "2017                           29\n",
       "Agency       Hartford Police Dept\n",
       "State                          CT\n",
       "1985                           12\n",
       "1986                           28\n",
       "1987                           24\n",
       "1988                           37\n",
       "1989                           30\n",
       "1990                           19\n",
       "1991                           24\n",
       "1992                           13\n",
       "1993                           30\n",
       "1994                           55\n",
       "1995                           33\n",
       "1996                           20\n",
       "1997                           21\n",
       "1998                           25\n",
       "1999                           21\n",
       "2000                           17\n",
       "2001                           25\n",
       "2002                           25\n",
       "2003                           44\n",
       "2004                           16\n",
       "2005                           25\n",
       "2006_new                       24\n",
       "2007_new                       31\n",
       "2008_new                       31\n",
       "2009_new                       33\n",
       "2010_new                       26\n",
       "2011_new                       27\n",
       "2012_new                       23\n",
       "2013_new                       23\n",
       "2014_new                       19\n",
       "Unnamed: 32                   NaN"
      ]
     },
     "execution_count": 65,
     "metadata": {},
     "output_type": "execute_result"
    }
   ],
   "source": [
    "new_hartford_murders = make_frame(col_labels[\"murder\"])[make_frame(col_labels[\"murder\"]).index == \"Hartford\"]\n",
    "hist_hartford_murders = hist_dfs[\"murder\"][hist_dfs[\"murder\"].index==\"Hartford\"]\n",
    "new_hartford_murders = new_hartford_murders.rename(columns = lambda x: str(x))\n",
    "new_hartford_murders.columns\n",
    "new_hartford_murders.merge(hist_hartford_murders,\n",
    "                           how=\"outer\",\n",
    "                           suffixes=[\"_hist\",\"_new\"],\n",
    "                           left_index=True,right_index=True).transpose()#.columns"
   ]
  },
  {
   "cell_type": "code",
   "execution_count": 66,
   "metadata": {},
   "outputs": [
    {
     "name": "stdout",
     "output_type": "stream",
     "text": [
      "Index([u'2006', u'2007', u'2008', u'2009', u'2010', u'2011', u'2012', u'2013',\n",
      "       u'2014', u'2015', u'2016', u'2017'],\n",
      "      dtype='object')\n",
      "Index([u'Agency', u'State', u'1985', u'1986', u'1987', u'1988', u'1989',\n",
      "       u'1990', u'1991', u'1992', u'1993', u'1994', u'1995', u'1996', u'1997',\n",
      "       u'1998', u'1999', u'2000', u'2001', u'2002', u'2003', u'2004', u'2005',\n",
      "       u'2006_hist', u'2007_hist', u'2008_hist', u'2009_hist', u'2010_hist',\n",
      "       u'2011_hist', u'2012_hist', u'2013_hist', u'2014_hist', u'Unnamed: 32',\n",
      "       u'2006_new', u'2007_new', u'2008_new', u'2009_new', u'2010_new',\n",
      "       u'2011_new', u'2012_new', u'2013_new', u'2014_new', u'2015', u'2016',\n",
      "       u'2017'],\n",
      "      dtype='object')\n",
      "Errors: 135\n",
      "Total:  837\n"
     ]
    },
    {
     "data": {
      "text/html": [
       "<div>\n",
       "<style scoped>\n",
       "    .dataframe tbody tr th:only-of-type {\n",
       "        vertical-align: middle;\n",
       "    }\n",
       "\n",
       "    .dataframe tbody tr th {\n",
       "        vertical-align: top;\n",
       "    }\n",
       "\n",
       "    .dataframe thead th {\n",
       "        text-align: right;\n",
       "    }\n",
       "</style>\n",
       "<table border=\"1\" class=\"dataframe\">\n",
       "  <thead>\n",
       "    <tr style=\"text-align: right;\">\n",
       "      <th></th>\n",
       "      <th>Agency</th>\n",
       "      <th>State</th>\n",
       "      <th>1985</th>\n",
       "      <th>1986</th>\n",
       "      <th>1987</th>\n",
       "      <th>1988</th>\n",
       "      <th>1989</th>\n",
       "      <th>1990</th>\n",
       "      <th>1991</th>\n",
       "      <th>1992</th>\n",
       "      <th>...</th>\n",
       "      <th>2011</th>\n",
       "      <th>2012_diff</th>\n",
       "      <th>2012_diff_pct</th>\n",
       "      <th>2012</th>\n",
       "      <th>2013_diff</th>\n",
       "      <th>2013_diff_pct</th>\n",
       "      <th>2013</th>\n",
       "      <th>2014_diff</th>\n",
       "      <th>2014_diff_pct</th>\n",
       "      <th>2014</th>\n",
       "    </tr>\n",
       "    <tr>\n",
       "      <th>City</th>\n",
       "      <th></th>\n",
       "      <th></th>\n",
       "      <th></th>\n",
       "      <th></th>\n",
       "      <th></th>\n",
       "      <th></th>\n",
       "      <th></th>\n",
       "      <th></th>\n",
       "      <th></th>\n",
       "      <th></th>\n",
       "      <th></th>\n",
       "      <th></th>\n",
       "      <th></th>\n",
       "      <th></th>\n",
       "      <th></th>\n",
       "      <th></th>\n",
       "      <th></th>\n",
       "      <th></th>\n",
       "      <th></th>\n",
       "      <th></th>\n",
       "      <th></th>\n",
       "    </tr>\n",
       "  </thead>\n",
       "  <tbody>\n",
       "    <tr>\n",
       "      <th>Ansonia</th>\n",
       "      <td>Ansonia Police Dept</td>\n",
       "      <td>CT</td>\n",
       "      <td>0.0</td>\n",
       "      <td>0.0</td>\n",
       "      <td>1.0</td>\n",
       "      <td>1.0</td>\n",
       "      <td>0.0</td>\n",
       "      <td>0.0</td>\n",
       "      <td>0.0</td>\n",
       "      <td>0.0</td>\n",
       "      <td>...</td>\n",
       "      <td>3.0</td>\n",
       "      <td>0.0</td>\n",
       "      <td>NaN</td>\n",
       "      <td>0.0</td>\n",
       "      <td>0.0</td>\n",
       "      <td>NaN</td>\n",
       "      <td>0.0</td>\n",
       "      <td>0.0</td>\n",
       "      <td>NaN</td>\n",
       "      <td>0.0</td>\n",
       "    </tr>\n",
       "    <tr>\n",
       "      <th>Avon</th>\n",
       "      <td>Avon Police Dept</td>\n",
       "      <td>CT</td>\n",
       "      <td>0.0</td>\n",
       "      <td>0.0</td>\n",
       "      <td>0.0</td>\n",
       "      <td>0.0</td>\n",
       "      <td>0.0</td>\n",
       "      <td>0.0</td>\n",
       "      <td>0.0</td>\n",
       "      <td>0.0</td>\n",
       "      <td>...</td>\n",
       "      <td>0.0</td>\n",
       "      <td>0.0</td>\n",
       "      <td>NaN</td>\n",
       "      <td>0.0</td>\n",
       "      <td>0.0</td>\n",
       "      <td>NaN</td>\n",
       "      <td>0.0</td>\n",
       "      <td>0.0</td>\n",
       "      <td>NaN</td>\n",
       "      <td>0.0</td>\n",
       "    </tr>\n",
       "    <tr>\n",
       "      <th>Berlin</th>\n",
       "      <td>Berlin Police Dept</td>\n",
       "      <td>CT</td>\n",
       "      <td>0.0</td>\n",
       "      <td>0.0</td>\n",
       "      <td>0.0</td>\n",
       "      <td>1.0</td>\n",
       "      <td>0.0</td>\n",
       "      <td>0.0</td>\n",
       "      <td>1.0</td>\n",
       "      <td>0.0</td>\n",
       "      <td>...</td>\n",
       "      <td>0.0</td>\n",
       "      <td>0.0</td>\n",
       "      <td>NaN</td>\n",
       "      <td>0.0</td>\n",
       "      <td>0.0</td>\n",
       "      <td>NaN</td>\n",
       "      <td>0.0</td>\n",
       "      <td>0.0</td>\n",
       "      <td>NaN</td>\n",
       "      <td>0.0</td>\n",
       "    </tr>\n",
       "    <tr>\n",
       "      <th>Bethel</th>\n",
       "      <td>Bethel Police Dept</td>\n",
       "      <td>CT</td>\n",
       "      <td>0.0</td>\n",
       "      <td>0.0</td>\n",
       "      <td>0.0</td>\n",
       "      <td>0.0</td>\n",
       "      <td>0.0</td>\n",
       "      <td>1.0</td>\n",
       "      <td>0.0</td>\n",
       "      <td>2.0</td>\n",
       "      <td>...</td>\n",
       "      <td>0.0</td>\n",
       "      <td>0.0</td>\n",
       "      <td>NaN</td>\n",
       "      <td>0.0</td>\n",
       "      <td>0.0</td>\n",
       "      <td>NaN</td>\n",
       "      <td>0.0</td>\n",
       "      <td>0.0</td>\n",
       "      <td>NaN</td>\n",
       "      <td>0.0</td>\n",
       "    </tr>\n",
       "    <tr>\n",
       "      <th>Bloomfield</th>\n",
       "      <td>Bloomfield Police Dept</td>\n",
       "      <td>CT</td>\n",
       "      <td>0.0</td>\n",
       "      <td>0.0</td>\n",
       "      <td>1.0</td>\n",
       "      <td>0.0</td>\n",
       "      <td>0.0</td>\n",
       "      <td>0.0</td>\n",
       "      <td>1.0</td>\n",
       "      <td>0.0</td>\n",
       "      <td>...</td>\n",
       "      <td>1.0</td>\n",
       "      <td>0.0</td>\n",
       "      <td>NaN</td>\n",
       "      <td>0.0</td>\n",
       "      <td>0.0</td>\n",
       "      <td>0.0</td>\n",
       "      <td>1.0</td>\n",
       "      <td>0.0</td>\n",
       "      <td>NaN</td>\n",
       "      <td>0.0</td>\n",
       "    </tr>\n",
       "    <tr>\n",
       "      <th>Branford</th>\n",
       "      <td>Branford Police Dept</td>\n",
       "      <td>CT</td>\n",
       "      <td>0.0</td>\n",
       "      <td>0.0</td>\n",
       "      <td>1.0</td>\n",
       "      <td>0.0</td>\n",
       "      <td>0.0</td>\n",
       "      <td>0.0</td>\n",
       "      <td>1.0</td>\n",
       "      <td>0.0</td>\n",
       "      <td>...</td>\n",
       "      <td>0.0</td>\n",
       "      <td>0.0</td>\n",
       "      <td>NaN</td>\n",
       "      <td>0.0</td>\n",
       "      <td>-1.0</td>\n",
       "      <td>-1.0</td>\n",
       "      <td>NaN</td>\n",
       "      <td>0.0</td>\n",
       "      <td>0.0</td>\n",
       "      <td>1.0</td>\n",
       "    </tr>\n",
       "    <tr>\n",
       "      <th>Bridgeport</th>\n",
       "      <td>Bridgeport Police Dept</td>\n",
       "      <td>CT</td>\n",
       "      <td>30.0</td>\n",
       "      <td>40.0</td>\n",
       "      <td>37.0</td>\n",
       "      <td>43.0</td>\n",
       "      <td>36.0</td>\n",
       "      <td>57.0</td>\n",
       "      <td>51.0</td>\n",
       "      <td>57.0</td>\n",
       "      <td>...</td>\n",
       "      <td>20.0</td>\n",
       "      <td>0.0</td>\n",
       "      <td>0.0</td>\n",
       "      <td>22.0</td>\n",
       "      <td>0.0</td>\n",
       "      <td>0.0</td>\n",
       "      <td>11.0</td>\n",
       "      <td>0.0</td>\n",
       "      <td>0.0</td>\n",
       "      <td>11.0</td>\n",
       "    </tr>\n",
       "    <tr>\n",
       "      <th>Bristol</th>\n",
       "      <td>Bristol Police Dept</td>\n",
       "      <td>CT</td>\n",
       "      <td>1.0</td>\n",
       "      <td>0.0</td>\n",
       "      <td>0.0</td>\n",
       "      <td>1.0</td>\n",
       "      <td>0.0</td>\n",
       "      <td>0.0</td>\n",
       "      <td>1.0</td>\n",
       "      <td>0.0</td>\n",
       "      <td>...</td>\n",
       "      <td>1.0</td>\n",
       "      <td>0.0</td>\n",
       "      <td>0.0</td>\n",
       "      <td>3.0</td>\n",
       "      <td>0.0</td>\n",
       "      <td>0.0</td>\n",
       "      <td>2.0</td>\n",
       "      <td>0.0</td>\n",
       "      <td>0.0</td>\n",
       "      <td>3.0</td>\n",
       "    </tr>\n",
       "    <tr>\n",
       "      <th>Brookfield</th>\n",
       "      <td>Brookfield Police Dept</td>\n",
       "      <td>CT</td>\n",
       "      <td>0.0</td>\n",
       "      <td>0.0</td>\n",
       "      <td>0.0</td>\n",
       "      <td>0.0</td>\n",
       "      <td>0.0</td>\n",
       "      <td>0.0</td>\n",
       "      <td>1.0</td>\n",
       "      <td>0.0</td>\n",
       "      <td>...</td>\n",
       "      <td>0.0</td>\n",
       "      <td>0.0</td>\n",
       "      <td>NaN</td>\n",
       "      <td>0.0</td>\n",
       "      <td>0.0</td>\n",
       "      <td>NaN</td>\n",
       "      <td>0.0</td>\n",
       "      <td>0.0</td>\n",
       "      <td>NaN</td>\n",
       "      <td>0.0</td>\n",
       "    </tr>\n",
       "    <tr>\n",
       "      <th>Canton</th>\n",
       "      <td>Canton Town Police Dept</td>\n",
       "      <td>CT</td>\n",
       "      <td>0.0</td>\n",
       "      <td>1.0</td>\n",
       "      <td>0.0</td>\n",
       "      <td>0.0</td>\n",
       "      <td>0.0</td>\n",
       "      <td>0.0</td>\n",
       "      <td>0.0</td>\n",
       "      <td>0.0</td>\n",
       "      <td>...</td>\n",
       "      <td>0.0</td>\n",
       "      <td>0.0</td>\n",
       "      <td>NaN</td>\n",
       "      <td>0.0</td>\n",
       "      <td>0.0</td>\n",
       "      <td>NaN</td>\n",
       "      <td>0.0</td>\n",
       "      <td>0.0</td>\n",
       "      <td>NaN</td>\n",
       "      <td>0.0</td>\n",
       "    </tr>\n",
       "    <tr>\n",
       "      <th>Cheshire</th>\n",
       "      <td>Cheshire Police Dept</td>\n",
       "      <td>CT</td>\n",
       "      <td>0.0</td>\n",
       "      <td>0.0</td>\n",
       "      <td>0.0</td>\n",
       "      <td>0.0</td>\n",
       "      <td>0.0</td>\n",
       "      <td>0.0</td>\n",
       "      <td>0.0</td>\n",
       "      <td>0.0</td>\n",
       "      <td>...</td>\n",
       "      <td>0.0</td>\n",
       "      <td>0.0</td>\n",
       "      <td>NaN</td>\n",
       "      <td>0.0</td>\n",
       "      <td>0.0</td>\n",
       "      <td>NaN</td>\n",
       "      <td>0.0</td>\n",
       "      <td>0.0</td>\n",
       "      <td>0.0</td>\n",
       "      <td>1.0</td>\n",
       "    </tr>\n",
       "    <tr>\n",
       "      <th>Clinton</th>\n",
       "      <td>Clinton Police Dept</td>\n",
       "      <td>CT</td>\n",
       "      <td>0.0</td>\n",
       "      <td>0.0</td>\n",
       "      <td>0.0</td>\n",
       "      <td>1.0</td>\n",
       "      <td>1.0</td>\n",
       "      <td>0.0</td>\n",
       "      <td>0.0</td>\n",
       "      <td>0.0</td>\n",
       "      <td>...</td>\n",
       "      <td>0.0</td>\n",
       "      <td>0.0</td>\n",
       "      <td>NaN</td>\n",
       "      <td>0.0</td>\n",
       "      <td>0.0</td>\n",
       "      <td>0.0</td>\n",
       "      <td>1.0</td>\n",
       "      <td>0.0</td>\n",
       "      <td>NaN</td>\n",
       "      <td>0.0</td>\n",
       "    </tr>\n",
       "    <tr>\n",
       "      <th>Coventry</th>\n",
       "      <td>Coventry Police Dept</td>\n",
       "      <td>CT</td>\n",
       "      <td>0.0</td>\n",
       "      <td>1.0</td>\n",
       "      <td>0.0</td>\n",
       "      <td>0.0</td>\n",
       "      <td>0.0</td>\n",
       "      <td>0.0</td>\n",
       "      <td>0.0</td>\n",
       "      <td>0.0</td>\n",
       "      <td>...</td>\n",
       "      <td>0.0</td>\n",
       "      <td>0.0</td>\n",
       "      <td>NaN</td>\n",
       "      <td>0.0</td>\n",
       "      <td>0.0</td>\n",
       "      <td>0.0</td>\n",
       "      <td>1.0</td>\n",
       "      <td>0.0</td>\n",
       "      <td>NaN</td>\n",
       "      <td>0.0</td>\n",
       "    </tr>\n",
       "    <tr>\n",
       "      <th>Cromwell</th>\n",
       "      <td>Cromwell Police Dept</td>\n",
       "      <td>CT</td>\n",
       "      <td>0.0</td>\n",
       "      <td>0.0</td>\n",
       "      <td>0.0</td>\n",
       "      <td>0.0</td>\n",
       "      <td>0.0</td>\n",
       "      <td>0.0</td>\n",
       "      <td>0.0</td>\n",
       "      <td>0.0</td>\n",
       "      <td>...</td>\n",
       "      <td>0.0</td>\n",
       "      <td>0.0</td>\n",
       "      <td>NaN</td>\n",
       "      <td>0.0</td>\n",
       "      <td>0.0</td>\n",
       "      <td>NaN</td>\n",
       "      <td>0.0</td>\n",
       "      <td>0.0</td>\n",
       "      <td>NaN</td>\n",
       "      <td>0.0</td>\n",
       "    </tr>\n",
       "    <tr>\n",
       "      <th>Danbury</th>\n",
       "      <td>Danbury Police Dept</td>\n",
       "      <td>CT</td>\n",
       "      <td>3.0</td>\n",
       "      <td>2.0</td>\n",
       "      <td>1.0</td>\n",
       "      <td>0.0</td>\n",
       "      <td>3.0</td>\n",
       "      <td>0.0</td>\n",
       "      <td>2.0</td>\n",
       "      <td>4.0</td>\n",
       "      <td>...</td>\n",
       "      <td>1.0</td>\n",
       "      <td>0.0</td>\n",
       "      <td>0.0</td>\n",
       "      <td>1.0</td>\n",
       "      <td>0.0</td>\n",
       "      <td>0.0</td>\n",
       "      <td>2.0</td>\n",
       "      <td>0.0</td>\n",
       "      <td>0.0</td>\n",
       "      <td>1.0</td>\n",
       "    </tr>\n",
       "    <tr>\n",
       "      <th>Darien</th>\n",
       "      <td>Darien Police Dept</td>\n",
       "      <td>CT</td>\n",
       "      <td>2.0</td>\n",
       "      <td>0.0</td>\n",
       "      <td>2.0</td>\n",
       "      <td>0.0</td>\n",
       "      <td>0.0</td>\n",
       "      <td>0.0</td>\n",
       "      <td>0.0</td>\n",
       "      <td>0.0</td>\n",
       "      <td>...</td>\n",
       "      <td>0.0</td>\n",
       "      <td>0.0</td>\n",
       "      <td>NaN</td>\n",
       "      <td>0.0</td>\n",
       "      <td>0.0</td>\n",
       "      <td>NaN</td>\n",
       "      <td>0.0</td>\n",
       "      <td>0.0</td>\n",
       "      <td>NaN</td>\n",
       "      <td>0.0</td>\n",
       "    </tr>\n",
       "    <tr>\n",
       "      <th>Derby</th>\n",
       "      <td>Derby Police Dept</td>\n",
       "      <td>CT</td>\n",
       "      <td>0.0</td>\n",
       "      <td>0.0</td>\n",
       "      <td>0.0</td>\n",
       "      <td>0.0</td>\n",
       "      <td>3.0</td>\n",
       "      <td>0.0</td>\n",
       "      <td>0.0</td>\n",
       "      <td>1.0</td>\n",
       "      <td>...</td>\n",
       "      <td>0.0</td>\n",
       "      <td>0.0</td>\n",
       "      <td>0.0</td>\n",
       "      <td>1.0</td>\n",
       "      <td>0.0</td>\n",
       "      <td>NaN</td>\n",
       "      <td>0.0</td>\n",
       "      <td>0.0</td>\n",
       "      <td>NaN</td>\n",
       "      <td>0.0</td>\n",
       "    </tr>\n",
       "    <tr>\n",
       "      <th>East Hampton</th>\n",
       "      <td>East Hampton Police Dept</td>\n",
       "      <td>CT</td>\n",
       "      <td>0.0</td>\n",
       "      <td>0.0</td>\n",
       "      <td>0.0</td>\n",
       "      <td>1.0</td>\n",
       "      <td>0.0</td>\n",
       "      <td>0.0</td>\n",
       "      <td>0.0</td>\n",
       "      <td>0.0</td>\n",
       "      <td>...</td>\n",
       "      <td>1.0</td>\n",
       "      <td>0.0</td>\n",
       "      <td>0.0</td>\n",
       "      <td>1.0</td>\n",
       "      <td>0.0</td>\n",
       "      <td>NaN</td>\n",
       "      <td>0.0</td>\n",
       "      <td>0.0</td>\n",
       "      <td>NaN</td>\n",
       "      <td>0.0</td>\n",
       "    </tr>\n",
       "    <tr>\n",
       "      <th>East Hartford</th>\n",
       "      <td>East Hartford Police</td>\n",
       "      <td>CT</td>\n",
       "      <td>2.0</td>\n",
       "      <td>6.0</td>\n",
       "      <td>NaN</td>\n",
       "      <td>2.0</td>\n",
       "      <td>1.0</td>\n",
       "      <td>1.0</td>\n",
       "      <td>1.0</td>\n",
       "      <td>1.0</td>\n",
       "      <td>...</td>\n",
       "      <td>0.0</td>\n",
       "      <td>0.0</td>\n",
       "      <td>0.0</td>\n",
       "      <td>2.0</td>\n",
       "      <td>0.0</td>\n",
       "      <td>0.0</td>\n",
       "      <td>1.0</td>\n",
       "      <td>0.0</td>\n",
       "      <td>0.0</td>\n",
       "      <td>2.0</td>\n",
       "    </tr>\n",
       "    <tr>\n",
       "      <th>East Haven</th>\n",
       "      <td>East Haven Police Dept</td>\n",
       "      <td>CT</td>\n",
       "      <td>0.0</td>\n",
       "      <td>1.0</td>\n",
       "      <td>0.0</td>\n",
       "      <td>0.0</td>\n",
       "      <td>0.0</td>\n",
       "      <td>0.0</td>\n",
       "      <td>1.0</td>\n",
       "      <td>0.0</td>\n",
       "      <td>...</td>\n",
       "      <td>0.0</td>\n",
       "      <td>0.0</td>\n",
       "      <td>0.0</td>\n",
       "      <td>1.0</td>\n",
       "      <td>0.0</td>\n",
       "      <td>NaN</td>\n",
       "      <td>0.0</td>\n",
       "      <td>0.0</td>\n",
       "      <td>NaN</td>\n",
       "      <td>0.0</td>\n",
       "    </tr>\n",
       "    <tr>\n",
       "      <th>East Windsor</th>\n",
       "      <td>East Windsor Police Dept</td>\n",
       "      <td>CT</td>\n",
       "      <td>2.0</td>\n",
       "      <td>0.0</td>\n",
       "      <td>4.0</td>\n",
       "      <td>0.0</td>\n",
       "      <td>0.0</td>\n",
       "      <td>0.0</td>\n",
       "      <td>0.0</td>\n",
       "      <td>0.0</td>\n",
       "      <td>...</td>\n",
       "      <td>0.0</td>\n",
       "      <td>0.0</td>\n",
       "      <td>NaN</td>\n",
       "      <td>0.0</td>\n",
       "      <td>0.0</td>\n",
       "      <td>0.0</td>\n",
       "      <td>1.0</td>\n",
       "      <td>0.0</td>\n",
       "      <td>0.0</td>\n",
       "      <td>1.0</td>\n",
       "    </tr>\n",
       "    <tr>\n",
       "      <th>Easton</th>\n",
       "      <td>NaN</td>\n",
       "      <td>NaN</td>\n",
       "      <td>NaN</td>\n",
       "      <td>NaN</td>\n",
       "      <td>NaN</td>\n",
       "      <td>NaN</td>\n",
       "      <td>NaN</td>\n",
       "      <td>NaN</td>\n",
       "      <td>NaN</td>\n",
       "      <td>NaN</td>\n",
       "      <td>...</td>\n",
       "      <td>NaN</td>\n",
       "      <td>NaN</td>\n",
       "      <td>NaN</td>\n",
       "      <td>NaN</td>\n",
       "      <td>NaN</td>\n",
       "      <td>NaN</td>\n",
       "      <td>NaN</td>\n",
       "      <td>NaN</td>\n",
       "      <td>NaN</td>\n",
       "      <td>NaN</td>\n",
       "    </tr>\n",
       "    <tr>\n",
       "      <th>Enfield</th>\n",
       "      <td>Enfield Police Dept</td>\n",
       "      <td>CT</td>\n",
       "      <td>2.0</td>\n",
       "      <td>0.0</td>\n",
       "      <td>0.0</td>\n",
       "      <td>0.0</td>\n",
       "      <td>0.0</td>\n",
       "      <td>1.0</td>\n",
       "      <td>0.0</td>\n",
       "      <td>0.0</td>\n",
       "      <td>...</td>\n",
       "      <td>NaN</td>\n",
       "      <td>0.0</td>\n",
       "      <td>NaN</td>\n",
       "      <td>0.0</td>\n",
       "      <td>0.0</td>\n",
       "      <td>NaN</td>\n",
       "      <td>0.0</td>\n",
       "      <td>0.0</td>\n",
       "      <td>0.0</td>\n",
       "      <td>2.0</td>\n",
       "    </tr>\n",
       "    <tr>\n",
       "      <th>Fairfield</th>\n",
       "      <td>Fairfield Police Dept</td>\n",
       "      <td>CT</td>\n",
       "      <td>0.0</td>\n",
       "      <td>2.0</td>\n",
       "      <td>1.0</td>\n",
       "      <td>1.0</td>\n",
       "      <td>0.0</td>\n",
       "      <td>1.0</td>\n",
       "      <td>0.0</td>\n",
       "      <td>1.0</td>\n",
       "      <td>...</td>\n",
       "      <td>0.0</td>\n",
       "      <td>0.0</td>\n",
       "      <td>NaN</td>\n",
       "      <td>0.0</td>\n",
       "      <td>0.0</td>\n",
       "      <td>NaN</td>\n",
       "      <td>0.0</td>\n",
       "      <td>0.0</td>\n",
       "      <td>NaN</td>\n",
       "      <td>0.0</td>\n",
       "    </tr>\n",
       "    <tr>\n",
       "      <th>Farmington</th>\n",
       "      <td>Farmington Police Dept</td>\n",
       "      <td>CT</td>\n",
       "      <td>0.0</td>\n",
       "      <td>0.0</td>\n",
       "      <td>0.0</td>\n",
       "      <td>0.0</td>\n",
       "      <td>0.0</td>\n",
       "      <td>0.0</td>\n",
       "      <td>0.0</td>\n",
       "      <td>0.0</td>\n",
       "      <td>...</td>\n",
       "      <td>0.0</td>\n",
       "      <td>0.0</td>\n",
       "      <td>NaN</td>\n",
       "      <td>0.0</td>\n",
       "      <td>0.0</td>\n",
       "      <td>NaN</td>\n",
       "      <td>0.0</td>\n",
       "      <td>0.0</td>\n",
       "      <td>NaN</td>\n",
       "      <td>0.0</td>\n",
       "    </tr>\n",
       "    <tr>\n",
       "      <th>Glastonbury</th>\n",
       "      <td>Glastonbury Police Dept</td>\n",
       "      <td>CT</td>\n",
       "      <td>0.0</td>\n",
       "      <td>0.0</td>\n",
       "      <td>1.0</td>\n",
       "      <td>0.0</td>\n",
       "      <td>0.0</td>\n",
       "      <td>0.0</td>\n",
       "      <td>1.0</td>\n",
       "      <td>0.0</td>\n",
       "      <td>...</td>\n",
       "      <td>0.0</td>\n",
       "      <td>0.0</td>\n",
       "      <td>NaN</td>\n",
       "      <td>0.0</td>\n",
       "      <td>0.0</td>\n",
       "      <td>NaN</td>\n",
       "      <td>0.0</td>\n",
       "      <td>0.0</td>\n",
       "      <td>NaN</td>\n",
       "      <td>0.0</td>\n",
       "    </tr>\n",
       "    <tr>\n",
       "      <th>Granby</th>\n",
       "      <td>Granby Police Dept</td>\n",
       "      <td>CT</td>\n",
       "      <td>0.0</td>\n",
       "      <td>0.0</td>\n",
       "      <td>0.0</td>\n",
       "      <td>0.0</td>\n",
       "      <td>0.0</td>\n",
       "      <td>0.0</td>\n",
       "      <td>0.0</td>\n",
       "      <td>0.0</td>\n",
       "      <td>...</td>\n",
       "      <td>0.0</td>\n",
       "      <td>0.0</td>\n",
       "      <td>NaN</td>\n",
       "      <td>0.0</td>\n",
       "      <td>0.0</td>\n",
       "      <td>NaN</td>\n",
       "      <td>0.0</td>\n",
       "      <td>0.0</td>\n",
       "      <td>NaN</td>\n",
       "      <td>0.0</td>\n",
       "    </tr>\n",
       "    <tr>\n",
       "      <th>Greenwich</th>\n",
       "      <td>Greenwich Police Dept</td>\n",
       "      <td>CT</td>\n",
       "      <td>0.0</td>\n",
       "      <td>1.0</td>\n",
       "      <td>0.0</td>\n",
       "      <td>1.0</td>\n",
       "      <td>0.0</td>\n",
       "      <td>0.0</td>\n",
       "      <td>0.0</td>\n",
       "      <td>0.0</td>\n",
       "      <td>...</td>\n",
       "      <td>0.0</td>\n",
       "      <td>0.0</td>\n",
       "      <td>NaN</td>\n",
       "      <td>0.0</td>\n",
       "      <td>0.0</td>\n",
       "      <td>NaN</td>\n",
       "      <td>0.0</td>\n",
       "      <td>0.0</td>\n",
       "      <td>NaN</td>\n",
       "      <td>0.0</td>\n",
       "    </tr>\n",
       "    <tr>\n",
       "      <th>Groton</th>\n",
       "      <td>Groton Town Police Dept</td>\n",
       "      <td>CT</td>\n",
       "      <td>0.0</td>\n",
       "      <td>1.0</td>\n",
       "      <td>1.0</td>\n",
       "      <td>0.0</td>\n",
       "      <td>2.0</td>\n",
       "      <td>0.0</td>\n",
       "      <td>0.0</td>\n",
       "      <td>0.0</td>\n",
       "      <td>...</td>\n",
       "      <td>0.0</td>\n",
       "      <td>0.0</td>\n",
       "      <td>NaN</td>\n",
       "      <td>0.0</td>\n",
       "      <td>0.0</td>\n",
       "      <td>NaN</td>\n",
       "      <td>0.0</td>\n",
       "      <td>0.0</td>\n",
       "      <td>NaN</td>\n",
       "      <td>0.0</td>\n",
       "    </tr>\n",
       "    <tr>\n",
       "      <th>Groton Long Point</th>\n",
       "      <td>NaN</td>\n",
       "      <td>NaN</td>\n",
       "      <td>NaN</td>\n",
       "      <td>NaN</td>\n",
       "      <td>NaN</td>\n",
       "      <td>NaN</td>\n",
       "      <td>NaN</td>\n",
       "      <td>NaN</td>\n",
       "      <td>NaN</td>\n",
       "      <td>NaN</td>\n",
       "      <td>...</td>\n",
       "      <td>NaN</td>\n",
       "      <td>NaN</td>\n",
       "      <td>NaN</td>\n",
       "      <td>NaN</td>\n",
       "      <td>NaN</td>\n",
       "      <td>NaN</td>\n",
       "      <td>NaN</td>\n",
       "      <td>NaN</td>\n",
       "      <td>NaN</td>\n",
       "      <td>NaN</td>\n",
       "    </tr>\n",
       "    <tr>\n",
       "      <th>...</th>\n",
       "      <td>...</td>\n",
       "      <td>...</td>\n",
       "      <td>...</td>\n",
       "      <td>...</td>\n",
       "      <td>...</td>\n",
       "      <td>...</td>\n",
       "      <td>...</td>\n",
       "      <td>...</td>\n",
       "      <td>...</td>\n",
       "      <td>...</td>\n",
       "      <td>...</td>\n",
       "      <td>...</td>\n",
       "      <td>...</td>\n",
       "      <td>...</td>\n",
       "      <td>...</td>\n",
       "      <td>...</td>\n",
       "      <td>...</td>\n",
       "      <td>...</td>\n",
       "      <td>...</td>\n",
       "      <td>...</td>\n",
       "      <td>...</td>\n",
       "    </tr>\n",
       "    <tr>\n",
       "      <th>Rocky Hill</th>\n",
       "      <td>Rocky Hill Police Dept</td>\n",
       "      <td>CT</td>\n",
       "      <td>0.0</td>\n",
       "      <td>0.0</td>\n",
       "      <td>1.0</td>\n",
       "      <td>0.0</td>\n",
       "      <td>1.0</td>\n",
       "      <td>1.0</td>\n",
       "      <td>1.0</td>\n",
       "      <td>1.0</td>\n",
       "      <td>...</td>\n",
       "      <td>0.0</td>\n",
       "      <td>0.0</td>\n",
       "      <td>NaN</td>\n",
       "      <td>0.0</td>\n",
       "      <td>0.0</td>\n",
       "      <td>NaN</td>\n",
       "      <td>0.0</td>\n",
       "      <td>0.0</td>\n",
       "      <td>NaN</td>\n",
       "      <td>0.0</td>\n",
       "    </tr>\n",
       "    <tr>\n",
       "      <th>Seymour</th>\n",
       "      <td>Seymour Police Dept</td>\n",
       "      <td>CT</td>\n",
       "      <td>0.0</td>\n",
       "      <td>1.0</td>\n",
       "      <td>0.0</td>\n",
       "      <td>0.0</td>\n",
       "      <td>0.0</td>\n",
       "      <td>0.0</td>\n",
       "      <td>0.0</td>\n",
       "      <td>0.0</td>\n",
       "      <td>...</td>\n",
       "      <td>0.0</td>\n",
       "      <td>0.0</td>\n",
       "      <td>NaN</td>\n",
       "      <td>0.0</td>\n",
       "      <td>0.0</td>\n",
       "      <td>NaN</td>\n",
       "      <td>0.0</td>\n",
       "      <td>0.0</td>\n",
       "      <td>NaN</td>\n",
       "      <td>0.0</td>\n",
       "    </tr>\n",
       "    <tr>\n",
       "      <th>Shelton</th>\n",
       "      <td>Shelton Police Dept</td>\n",
       "      <td>CT</td>\n",
       "      <td>0.0</td>\n",
       "      <td>0.0</td>\n",
       "      <td>1.0</td>\n",
       "      <td>2.0</td>\n",
       "      <td>0.0</td>\n",
       "      <td>1.0</td>\n",
       "      <td>1.0</td>\n",
       "      <td>2.0</td>\n",
       "      <td>...</td>\n",
       "      <td>0.0</td>\n",
       "      <td>0.0</td>\n",
       "      <td>NaN</td>\n",
       "      <td>0.0</td>\n",
       "      <td>0.0</td>\n",
       "      <td>NaN</td>\n",
       "      <td>0.0</td>\n",
       "      <td>0.0</td>\n",
       "      <td>0.0</td>\n",
       "      <td>1.0</td>\n",
       "    </tr>\n",
       "    <tr>\n",
       "      <th>Simsbury</th>\n",
       "      <td>Simsbury Police Dept</td>\n",
       "      <td>CT</td>\n",
       "      <td>0.0</td>\n",
       "      <td>0.0</td>\n",
       "      <td>0.0</td>\n",
       "      <td>0.0</td>\n",
       "      <td>0.0</td>\n",
       "      <td>0.0</td>\n",
       "      <td>0.0</td>\n",
       "      <td>0.0</td>\n",
       "      <td>...</td>\n",
       "      <td>0.0</td>\n",
       "      <td>0.0</td>\n",
       "      <td>0.0</td>\n",
       "      <td>1.0</td>\n",
       "      <td>0.0</td>\n",
       "      <td>NaN</td>\n",
       "      <td>0.0</td>\n",
       "      <td>0.0</td>\n",
       "      <td>0.0</td>\n",
       "      <td>1.0</td>\n",
       "    </tr>\n",
       "    <tr>\n",
       "      <th>South Windsor</th>\n",
       "      <td>South Windsor Police Dept</td>\n",
       "      <td>CT</td>\n",
       "      <td>0.0</td>\n",
       "      <td>0.0</td>\n",
       "      <td>NaN</td>\n",
       "      <td>1.0</td>\n",
       "      <td>0.0</td>\n",
       "      <td>1.0</td>\n",
       "      <td>0.0</td>\n",
       "      <td>0.0</td>\n",
       "      <td>...</td>\n",
       "      <td>0.0</td>\n",
       "      <td>0.0</td>\n",
       "      <td>NaN</td>\n",
       "      <td>0.0</td>\n",
       "      <td>0.0</td>\n",
       "      <td>NaN</td>\n",
       "      <td>0.0</td>\n",
       "      <td>0.0</td>\n",
       "      <td>NaN</td>\n",
       "      <td>0.0</td>\n",
       "    </tr>\n",
       "    <tr>\n",
       "      <th>Southington</th>\n",
       "      <td>Southington Police Dept</td>\n",
       "      <td>CT</td>\n",
       "      <td>0.0</td>\n",
       "      <td>0.0</td>\n",
       "      <td>0.0</td>\n",
       "      <td>2.0</td>\n",
       "      <td>1.0</td>\n",
       "      <td>0.0</td>\n",
       "      <td>NaN</td>\n",
       "      <td>0.0</td>\n",
       "      <td>...</td>\n",
       "      <td>1.0</td>\n",
       "      <td>0.0</td>\n",
       "      <td>0.0</td>\n",
       "      <td>1.0</td>\n",
       "      <td>0.0</td>\n",
       "      <td>NaN</td>\n",
       "      <td>0.0</td>\n",
       "      <td>0.0</td>\n",
       "      <td>NaN</td>\n",
       "      <td>0.0</td>\n",
       "    </tr>\n",
       "    <tr>\n",
       "      <th>Stamford</th>\n",
       "      <td>Stamford Police Dept</td>\n",
       "      <td>CT</td>\n",
       "      <td>5.0</td>\n",
       "      <td>6.0</td>\n",
       "      <td>4.0</td>\n",
       "      <td>6.0</td>\n",
       "      <td>9.0</td>\n",
       "      <td>10.0</td>\n",
       "      <td>10.0</td>\n",
       "      <td>7.0</td>\n",
       "      <td>...</td>\n",
       "      <td>6.0</td>\n",
       "      <td>0.0</td>\n",
       "      <td>0.0</td>\n",
       "      <td>5.0</td>\n",
       "      <td>0.0</td>\n",
       "      <td>0.0</td>\n",
       "      <td>1.0</td>\n",
       "      <td>0.0</td>\n",
       "      <td>0.0</td>\n",
       "      <td>2.0</td>\n",
       "    </tr>\n",
       "    <tr>\n",
       "      <th>Stonington</th>\n",
       "      <td>Stonington Police Dept</td>\n",
       "      <td>CT</td>\n",
       "      <td>0.0</td>\n",
       "      <td>0.0</td>\n",
       "      <td>0.0</td>\n",
       "      <td>1.0</td>\n",
       "      <td>0.0</td>\n",
       "      <td>0.0</td>\n",
       "      <td>0.0</td>\n",
       "      <td>0.0</td>\n",
       "      <td>...</td>\n",
       "      <td>0.0</td>\n",
       "      <td>0.0</td>\n",
       "      <td>NaN</td>\n",
       "      <td>0.0</td>\n",
       "      <td>0.0</td>\n",
       "      <td>NaN</td>\n",
       "      <td>0.0</td>\n",
       "      <td>0.0</td>\n",
       "      <td>NaN</td>\n",
       "      <td>0.0</td>\n",
       "    </tr>\n",
       "    <tr>\n",
       "      <th>Stratford</th>\n",
       "      <td>Stratford Police Dept</td>\n",
       "      <td>CT</td>\n",
       "      <td>1.0</td>\n",
       "      <td>2.0</td>\n",
       "      <td>1.0</td>\n",
       "      <td>1.0</td>\n",
       "      <td>3.0</td>\n",
       "      <td>3.0</td>\n",
       "      <td>2.0</td>\n",
       "      <td>1.0</td>\n",
       "      <td>...</td>\n",
       "      <td>1.0</td>\n",
       "      <td>0.0</td>\n",
       "      <td>NaN</td>\n",
       "      <td>0.0</td>\n",
       "      <td>0.0</td>\n",
       "      <td>NaN</td>\n",
       "      <td>0.0</td>\n",
       "      <td>0.0</td>\n",
       "      <td>NaN</td>\n",
       "      <td>0.0</td>\n",
       "    </tr>\n",
       "    <tr>\n",
       "      <th>Suffield</th>\n",
       "      <td>Suffield Police Dept</td>\n",
       "      <td>CT</td>\n",
       "      <td>0.0</td>\n",
       "      <td>0.0</td>\n",
       "      <td>2.0</td>\n",
       "      <td>0.0</td>\n",
       "      <td>1.0</td>\n",
       "      <td>1.0</td>\n",
       "      <td>0.0</td>\n",
       "      <td>1.0</td>\n",
       "      <td>...</td>\n",
       "      <td>0.0</td>\n",
       "      <td>0.0</td>\n",
       "      <td>NaN</td>\n",
       "      <td>0.0</td>\n",
       "      <td>0.0</td>\n",
       "      <td>NaN</td>\n",
       "      <td>0.0</td>\n",
       "      <td>0.0</td>\n",
       "      <td>NaN</td>\n",
       "      <td>0.0</td>\n",
       "    </tr>\n",
       "    <tr>\n",
       "      <th>Thomaston</th>\n",
       "      <td>NaN</td>\n",
       "      <td>NaN</td>\n",
       "      <td>NaN</td>\n",
       "      <td>NaN</td>\n",
       "      <td>NaN</td>\n",
       "      <td>NaN</td>\n",
       "      <td>NaN</td>\n",
       "      <td>NaN</td>\n",
       "      <td>NaN</td>\n",
       "      <td>NaN</td>\n",
       "      <td>...</td>\n",
       "      <td>NaN</td>\n",
       "      <td>NaN</td>\n",
       "      <td>NaN</td>\n",
       "      <td>NaN</td>\n",
       "      <td>NaN</td>\n",
       "      <td>NaN</td>\n",
       "      <td>NaN</td>\n",
       "      <td>NaN</td>\n",
       "      <td>NaN</td>\n",
       "      <td>NaN</td>\n",
       "    </tr>\n",
       "    <tr>\n",
       "      <th>Torrington</th>\n",
       "      <td>Torrington Police Dept</td>\n",
       "      <td>CT</td>\n",
       "      <td>0.0</td>\n",
       "      <td>1.0</td>\n",
       "      <td>0.0</td>\n",
       "      <td>0.0</td>\n",
       "      <td>1.0</td>\n",
       "      <td>2.0</td>\n",
       "      <td>0.0</td>\n",
       "      <td>2.0</td>\n",
       "      <td>...</td>\n",
       "      <td>0.0</td>\n",
       "      <td>0.0</td>\n",
       "      <td>NaN</td>\n",
       "      <td>0.0</td>\n",
       "      <td>0.0</td>\n",
       "      <td>NaN</td>\n",
       "      <td>0.0</td>\n",
       "      <td>0.0</td>\n",
       "      <td>0.0</td>\n",
       "      <td>2.0</td>\n",
       "    </tr>\n",
       "    <tr>\n",
       "      <th>Trumbull</th>\n",
       "      <td>Trumbull Police Dept</td>\n",
       "      <td>CT</td>\n",
       "      <td>0.0</td>\n",
       "      <td>0.0</td>\n",
       "      <td>NaN</td>\n",
       "      <td>0.0</td>\n",
       "      <td>0.0</td>\n",
       "      <td>0.0</td>\n",
       "      <td>1.0</td>\n",
       "      <td>0.0</td>\n",
       "      <td>...</td>\n",
       "      <td>0.0</td>\n",
       "      <td>0.0</td>\n",
       "      <td>NaN</td>\n",
       "      <td>0.0</td>\n",
       "      <td>0.0</td>\n",
       "      <td>NaN</td>\n",
       "      <td>0.0</td>\n",
       "      <td>0.0</td>\n",
       "      <td>NaN</td>\n",
       "      <td>0.0</td>\n",
       "    </tr>\n",
       "    <tr>\n",
       "      <th>Vernon</th>\n",
       "      <td>Vernon Police Dept</td>\n",
       "      <td>CT</td>\n",
       "      <td>0.0</td>\n",
       "      <td>0.0</td>\n",
       "      <td>0.0</td>\n",
       "      <td>0.0</td>\n",
       "      <td>1.0</td>\n",
       "      <td>0.0</td>\n",
       "      <td>1.0</td>\n",
       "      <td>0.0</td>\n",
       "      <td>...</td>\n",
       "      <td>0.0</td>\n",
       "      <td>0.0</td>\n",
       "      <td>NaN</td>\n",
       "      <td>0.0</td>\n",
       "      <td>0.0</td>\n",
       "      <td>NaN</td>\n",
       "      <td>0.0</td>\n",
       "      <td>0.0</td>\n",
       "      <td>NaN</td>\n",
       "      <td>0.0</td>\n",
       "    </tr>\n",
       "    <tr>\n",
       "      <th>Wallingford</th>\n",
       "      <td>Wallingford Police Dept</td>\n",
       "      <td>CT</td>\n",
       "      <td>0.0</td>\n",
       "      <td>3.0</td>\n",
       "      <td>0.0</td>\n",
       "      <td>1.0</td>\n",
       "      <td>0.0</td>\n",
       "      <td>1.0</td>\n",
       "      <td>0.0</td>\n",
       "      <td>0.0</td>\n",
       "      <td>...</td>\n",
       "      <td>2.0</td>\n",
       "      <td>0.0</td>\n",
       "      <td>NaN</td>\n",
       "      <td>0.0</td>\n",
       "      <td>0.0</td>\n",
       "      <td>0.0</td>\n",
       "      <td>1.0</td>\n",
       "      <td>0.0</td>\n",
       "      <td>NaN</td>\n",
       "      <td>0.0</td>\n",
       "    </tr>\n",
       "    <tr>\n",
       "      <th>Waterbury</th>\n",
       "      <td>Waterbury Police Dept</td>\n",
       "      <td>CT</td>\n",
       "      <td>5.0</td>\n",
       "      <td>7.0</td>\n",
       "      <td>7.0</td>\n",
       "      <td>11.0</td>\n",
       "      <td>6.0</td>\n",
       "      <td>5.0</td>\n",
       "      <td>9.0</td>\n",
       "      <td>12.0</td>\n",
       "      <td>...</td>\n",
       "      <td>7.0</td>\n",
       "      <td>0.0</td>\n",
       "      <td>0.0</td>\n",
       "      <td>5.0</td>\n",
       "      <td>0.0</td>\n",
       "      <td>0.0</td>\n",
       "      <td>5.0</td>\n",
       "      <td>0.0</td>\n",
       "      <td>0.0</td>\n",
       "      <td>7.0</td>\n",
       "    </tr>\n",
       "    <tr>\n",
       "      <th>Waterford</th>\n",
       "      <td>Waterford Police Dept</td>\n",
       "      <td>CT</td>\n",
       "      <td>0.0</td>\n",
       "      <td>0.0</td>\n",
       "      <td>0.0</td>\n",
       "      <td>1.0</td>\n",
       "      <td>2.0</td>\n",
       "      <td>0.0</td>\n",
       "      <td>0.0</td>\n",
       "      <td>0.0</td>\n",
       "      <td>...</td>\n",
       "      <td>0.0</td>\n",
       "      <td>0.0</td>\n",
       "      <td>0.0</td>\n",
       "      <td>1.0</td>\n",
       "      <td>0.0</td>\n",
       "      <td>NaN</td>\n",
       "      <td>0.0</td>\n",
       "      <td>0.0</td>\n",
       "      <td>NaN</td>\n",
       "      <td>0.0</td>\n",
       "    </tr>\n",
       "    <tr>\n",
       "      <th>Watertown</th>\n",
       "      <td>Watertown Police Dept</td>\n",
       "      <td>CT</td>\n",
       "      <td>1.0</td>\n",
       "      <td>0.0</td>\n",
       "      <td>0.0</td>\n",
       "      <td>0.0</td>\n",
       "      <td>0.0</td>\n",
       "      <td>1.0</td>\n",
       "      <td>1.0</td>\n",
       "      <td>0.0</td>\n",
       "      <td>...</td>\n",
       "      <td>0.0</td>\n",
       "      <td>0.0</td>\n",
       "      <td>0.0</td>\n",
       "      <td>2.0</td>\n",
       "      <td>0.0</td>\n",
       "      <td>NaN</td>\n",
       "      <td>0.0</td>\n",
       "      <td>0.0</td>\n",
       "      <td>NaN</td>\n",
       "      <td>0.0</td>\n",
       "    </tr>\n",
       "    <tr>\n",
       "      <th>West Hartford</th>\n",
       "      <td>West Hartford Police Dept</td>\n",
       "      <td>CT</td>\n",
       "      <td>1.0</td>\n",
       "      <td>0.0</td>\n",
       "      <td>1.0</td>\n",
       "      <td>0.0</td>\n",
       "      <td>0.0</td>\n",
       "      <td>0.0</td>\n",
       "      <td>0.0</td>\n",
       "      <td>0.0</td>\n",
       "      <td>...</td>\n",
       "      <td>1.0</td>\n",
       "      <td>0.0</td>\n",
       "      <td>NaN</td>\n",
       "      <td>0.0</td>\n",
       "      <td>0.0</td>\n",
       "      <td>NaN</td>\n",
       "      <td>0.0</td>\n",
       "      <td>0.0</td>\n",
       "      <td>0.0</td>\n",
       "      <td>1.0</td>\n",
       "    </tr>\n",
       "    <tr>\n",
       "      <th>West Haven</th>\n",
       "      <td>West Haven Police Dept</td>\n",
       "      <td>CT</td>\n",
       "      <td>1.0</td>\n",
       "      <td>1.0</td>\n",
       "      <td>1.0</td>\n",
       "      <td>1.0</td>\n",
       "      <td>3.0</td>\n",
       "      <td>0.0</td>\n",
       "      <td>3.0</td>\n",
       "      <td>3.0</td>\n",
       "      <td>...</td>\n",
       "      <td>1.0</td>\n",
       "      <td>0.0</td>\n",
       "      <td>0.0</td>\n",
       "      <td>1.0</td>\n",
       "      <td>0.0</td>\n",
       "      <td>0.0</td>\n",
       "      <td>2.0</td>\n",
       "      <td>0.0</td>\n",
       "      <td>NaN</td>\n",
       "      <td>0.0</td>\n",
       "    </tr>\n",
       "    <tr>\n",
       "      <th>Weston</th>\n",
       "      <td>Weston Police Dept</td>\n",
       "      <td>CT</td>\n",
       "      <td>0.0</td>\n",
       "      <td>0.0</td>\n",
       "      <td>0.0</td>\n",
       "      <td>0.0</td>\n",
       "      <td>0.0</td>\n",
       "      <td>0.0</td>\n",
       "      <td>0.0</td>\n",
       "      <td>0.0</td>\n",
       "      <td>...</td>\n",
       "      <td>0.0</td>\n",
       "      <td>0.0</td>\n",
       "      <td>NaN</td>\n",
       "      <td>0.0</td>\n",
       "      <td>0.0</td>\n",
       "      <td>NaN</td>\n",
       "      <td>0.0</td>\n",
       "      <td>0.0</td>\n",
       "      <td>NaN</td>\n",
       "      <td>0.0</td>\n",
       "    </tr>\n",
       "    <tr>\n",
       "      <th>Westport</th>\n",
       "      <td>Westport Police Dept</td>\n",
       "      <td>CT</td>\n",
       "      <td>3.0</td>\n",
       "      <td>0.0</td>\n",
       "      <td>1.0</td>\n",
       "      <td>0.0</td>\n",
       "      <td>2.0</td>\n",
       "      <td>0.0</td>\n",
       "      <td>1.0</td>\n",
       "      <td>0.0</td>\n",
       "      <td>...</td>\n",
       "      <td>1.0</td>\n",
       "      <td>0.0</td>\n",
       "      <td>NaN</td>\n",
       "      <td>0.0</td>\n",
       "      <td>0.0</td>\n",
       "      <td>NaN</td>\n",
       "      <td>0.0</td>\n",
       "      <td>0.0</td>\n",
       "      <td>NaN</td>\n",
       "      <td>0.0</td>\n",
       "    </tr>\n",
       "    <tr>\n",
       "      <th>Wethersfield</th>\n",
       "      <td>Wethersfield Police Dept</td>\n",
       "      <td>CT</td>\n",
       "      <td>0.0</td>\n",
       "      <td>0.0</td>\n",
       "      <td>0.0</td>\n",
       "      <td>2.0</td>\n",
       "      <td>2.0</td>\n",
       "      <td>0.0</td>\n",
       "      <td>1.0</td>\n",
       "      <td>0.0</td>\n",
       "      <td>...</td>\n",
       "      <td>0.0</td>\n",
       "      <td>0.0</td>\n",
       "      <td>NaN</td>\n",
       "      <td>0.0</td>\n",
       "      <td>0.0</td>\n",
       "      <td>NaN</td>\n",
       "      <td>0.0</td>\n",
       "      <td>0.0</td>\n",
       "      <td>0.0</td>\n",
       "      <td>1.0</td>\n",
       "    </tr>\n",
       "    <tr>\n",
       "      <th>Willimantic</th>\n",
       "      <td>Willimantic Police Dept</td>\n",
       "      <td>CT</td>\n",
       "      <td>0.0</td>\n",
       "      <td>0.0</td>\n",
       "      <td>0.0</td>\n",
       "      <td>2.0</td>\n",
       "      <td>0.0</td>\n",
       "      <td>0.0</td>\n",
       "      <td>0.0</td>\n",
       "      <td>1.0</td>\n",
       "      <td>...</td>\n",
       "      <td>1.0</td>\n",
       "      <td>0.0</td>\n",
       "      <td>NaN</td>\n",
       "      <td>0.0</td>\n",
       "      <td>0.0</td>\n",
       "      <td>NaN</td>\n",
       "      <td>0.0</td>\n",
       "      <td>0.0</td>\n",
       "      <td>NaN</td>\n",
       "      <td>0.0</td>\n",
       "    </tr>\n",
       "    <tr>\n",
       "      <th>Wilton</th>\n",
       "      <td>Wilton Police Dept</td>\n",
       "      <td>CT</td>\n",
       "      <td>0.0</td>\n",
       "      <td>0.0</td>\n",
       "      <td>0.0</td>\n",
       "      <td>0.0</td>\n",
       "      <td>0.0</td>\n",
       "      <td>0.0</td>\n",
       "      <td>0.0</td>\n",
       "      <td>0.0</td>\n",
       "      <td>...</td>\n",
       "      <td>0.0</td>\n",
       "      <td>0.0</td>\n",
       "      <td>0.0</td>\n",
       "      <td>1.0</td>\n",
       "      <td>0.0</td>\n",
       "      <td>NaN</td>\n",
       "      <td>0.0</td>\n",
       "      <td>0.0</td>\n",
       "      <td>NaN</td>\n",
       "      <td>0.0</td>\n",
       "    </tr>\n",
       "    <tr>\n",
       "      <th>Winchester</th>\n",
       "      <td>Winchester Town Police Dept</td>\n",
       "      <td>CT</td>\n",
       "      <td>0.0</td>\n",
       "      <td>0.0</td>\n",
       "      <td>0.0</td>\n",
       "      <td>0.0</td>\n",
       "      <td>0.0</td>\n",
       "      <td>0.0</td>\n",
       "      <td>0.0</td>\n",
       "      <td>0.0</td>\n",
       "      <td>...</td>\n",
       "      <td>0.0</td>\n",
       "      <td>0.0</td>\n",
       "      <td>NaN</td>\n",
       "      <td>0.0</td>\n",
       "      <td>0.0</td>\n",
       "      <td>NaN</td>\n",
       "      <td>0.0</td>\n",
       "      <td>0.0</td>\n",
       "      <td>NaN</td>\n",
       "      <td>0.0</td>\n",
       "    </tr>\n",
       "    <tr>\n",
       "      <th>Windsor</th>\n",
       "      <td>Windsor Police Dept</td>\n",
       "      <td>CT</td>\n",
       "      <td>0.0</td>\n",
       "      <td>0.0</td>\n",
       "      <td>0.0</td>\n",
       "      <td>0.0</td>\n",
       "      <td>0.0</td>\n",
       "      <td>1.0</td>\n",
       "      <td>0.0</td>\n",
       "      <td>2.0</td>\n",
       "      <td>...</td>\n",
       "      <td>0.0</td>\n",
       "      <td>0.0</td>\n",
       "      <td>NaN</td>\n",
       "      <td>0.0</td>\n",
       "      <td>0.0</td>\n",
       "      <td>0.0</td>\n",
       "      <td>1.0</td>\n",
       "      <td>0.0</td>\n",
       "      <td>0.0</td>\n",
       "      <td>1.0</td>\n",
       "    </tr>\n",
       "    <tr>\n",
       "      <th>Windsor Locks</th>\n",
       "      <td>Windsor Locks Police Dept</td>\n",
       "      <td>CT</td>\n",
       "      <td>0.0</td>\n",
       "      <td>0.0</td>\n",
       "      <td>0.0</td>\n",
       "      <td>0.0</td>\n",
       "      <td>0.0</td>\n",
       "      <td>0.0</td>\n",
       "      <td>2.0</td>\n",
       "      <td>1.0</td>\n",
       "      <td>...</td>\n",
       "      <td>0.0</td>\n",
       "      <td>0.0</td>\n",
       "      <td>NaN</td>\n",
       "      <td>0.0</td>\n",
       "      <td>0.0</td>\n",
       "      <td>NaN</td>\n",
       "      <td>0.0</td>\n",
       "      <td>0.0</td>\n",
       "      <td>0.0</td>\n",
       "      <td>1.0</td>\n",
       "    </tr>\n",
       "    <tr>\n",
       "      <th>Wolcott</th>\n",
       "      <td>Wolcott Police Dept</td>\n",
       "      <td>CT</td>\n",
       "      <td>0.0</td>\n",
       "      <td>0.0</td>\n",
       "      <td>0.0</td>\n",
       "      <td>0.0</td>\n",
       "      <td>1.0</td>\n",
       "      <td>1.0</td>\n",
       "      <td>0.0</td>\n",
       "      <td>0.0</td>\n",
       "      <td>...</td>\n",
       "      <td>0.0</td>\n",
       "      <td>0.0</td>\n",
       "      <td>NaN</td>\n",
       "      <td>0.0</td>\n",
       "      <td>0.0</td>\n",
       "      <td>NaN</td>\n",
       "      <td>0.0</td>\n",
       "      <td>0.0</td>\n",
       "      <td>NaN</td>\n",
       "      <td>0.0</td>\n",
       "    </tr>\n",
       "    <tr>\n",
       "      <th>Woodbridge</th>\n",
       "      <td>NaN</td>\n",
       "      <td>NaN</td>\n",
       "      <td>NaN</td>\n",
       "      <td>NaN</td>\n",
       "      <td>NaN</td>\n",
       "      <td>NaN</td>\n",
       "      <td>NaN</td>\n",
       "      <td>NaN</td>\n",
       "      <td>NaN</td>\n",
       "      <td>NaN</td>\n",
       "      <td>...</td>\n",
       "      <td>NaN</td>\n",
       "      <td>NaN</td>\n",
       "      <td>NaN</td>\n",
       "      <td>NaN</td>\n",
       "      <td>NaN</td>\n",
       "      <td>NaN</td>\n",
       "      <td>NaN</td>\n",
       "      <td>NaN</td>\n",
       "      <td>NaN</td>\n",
       "      <td>NaN</td>\n",
       "    </tr>\n",
       "  </tbody>\n",
       "</table>\n",
       "<p>93 rows × 72 columns</p>\n",
       "</div>"
      ],
      "text/plain": [
       "                                        Agency State  1985  1986  1987  1988  \\\n",
       "City                                                                           \n",
       "Ansonia                    Ansonia Police Dept    CT   0.0   0.0   1.0   1.0   \n",
       "Avon                          Avon Police Dept    CT   0.0   0.0   0.0   0.0   \n",
       "Berlin                      Berlin Police Dept    CT   0.0   0.0   0.0   1.0   \n",
       "Bethel                      Bethel Police Dept    CT   0.0   0.0   0.0   0.0   \n",
       "Bloomfield              Bloomfield Police Dept    CT   0.0   0.0   1.0   0.0   \n",
       "Branford                  Branford Police Dept    CT   0.0   0.0   1.0   0.0   \n",
       "Bridgeport              Bridgeport Police Dept    CT  30.0  40.0  37.0  43.0   \n",
       "Bristol                    Bristol Police Dept    CT   1.0   0.0   0.0   1.0   \n",
       "Brookfield              Brookfield Police Dept    CT   0.0   0.0   0.0   0.0   \n",
       "Canton                 Canton Town Police Dept    CT   0.0   1.0   0.0   0.0   \n",
       "Cheshire                  Cheshire Police Dept    CT   0.0   0.0   0.0   0.0   \n",
       "Clinton                    Clinton Police Dept    CT   0.0   0.0   0.0   1.0   \n",
       "Coventry                  Coventry Police Dept    CT   0.0   1.0   0.0   0.0   \n",
       "Cromwell                  Cromwell Police Dept    CT   0.0   0.0   0.0   0.0   \n",
       "Danbury                    Danbury Police Dept    CT   3.0   2.0   1.0   0.0   \n",
       "Darien                      Darien Police Dept    CT   2.0   0.0   2.0   0.0   \n",
       "Derby                        Derby Police Dept    CT   0.0   0.0   0.0   0.0   \n",
       "East Hampton          East Hampton Police Dept    CT   0.0   0.0   0.0   1.0   \n",
       "East Hartford             East Hartford Police    CT   2.0   6.0   NaN   2.0   \n",
       "East Haven              East Haven Police Dept    CT   0.0   1.0   0.0   0.0   \n",
       "East Windsor          East Windsor Police Dept    CT   2.0   0.0   4.0   0.0   \n",
       "Easton                                     NaN   NaN   NaN   NaN   NaN   NaN   \n",
       "Enfield                    Enfield Police Dept    CT   2.0   0.0   0.0   0.0   \n",
       "Fairfield                Fairfield Police Dept    CT   0.0   2.0   1.0   1.0   \n",
       "Farmington              Farmington Police Dept    CT   0.0   0.0   0.0   0.0   \n",
       "Glastonbury            Glastonbury Police Dept    CT   0.0   0.0   1.0   0.0   \n",
       "Granby                      Granby Police Dept    CT   0.0   0.0   0.0   0.0   \n",
       "Greenwich                Greenwich Police Dept    CT   0.0   1.0   0.0   1.0   \n",
       "Groton                 Groton Town Police Dept    CT   0.0   1.0   1.0   0.0   \n",
       "Groton Long Point                          NaN   NaN   NaN   NaN   NaN   NaN   \n",
       "...                                        ...   ...   ...   ...   ...   ...   \n",
       "Rocky Hill              Rocky Hill Police Dept    CT   0.0   0.0   1.0   0.0   \n",
       "Seymour                    Seymour Police Dept    CT   0.0   1.0   0.0   0.0   \n",
       "Shelton                    Shelton Police Dept    CT   0.0   0.0   1.0   2.0   \n",
       "Simsbury                  Simsbury Police Dept    CT   0.0   0.0   0.0   0.0   \n",
       "South Windsor        South Windsor Police Dept    CT   0.0   0.0   NaN   1.0   \n",
       "Southington            Southington Police Dept    CT   0.0   0.0   0.0   2.0   \n",
       "Stamford                  Stamford Police Dept    CT   5.0   6.0   4.0   6.0   \n",
       "Stonington              Stonington Police Dept    CT   0.0   0.0   0.0   1.0   \n",
       "Stratford                Stratford Police Dept    CT   1.0   2.0   1.0   1.0   \n",
       "Suffield                  Suffield Police Dept    CT   0.0   0.0   2.0   0.0   \n",
       "Thomaston                                  NaN   NaN   NaN   NaN   NaN   NaN   \n",
       "Torrington              Torrington Police Dept    CT   0.0   1.0   0.0   0.0   \n",
       "Trumbull                  Trumbull Police Dept    CT   0.0   0.0   NaN   0.0   \n",
       "Vernon                      Vernon Police Dept    CT   0.0   0.0   0.0   0.0   \n",
       "Wallingford            Wallingford Police Dept    CT   0.0   3.0   0.0   1.0   \n",
       "Waterbury                Waterbury Police Dept    CT   5.0   7.0   7.0  11.0   \n",
       "Waterford                Waterford Police Dept    CT   0.0   0.0   0.0   1.0   \n",
       "Watertown                Watertown Police Dept    CT   1.0   0.0   0.0   0.0   \n",
       "West Hartford        West Hartford Police Dept    CT   1.0   0.0   1.0   0.0   \n",
       "West Haven              West Haven Police Dept    CT   1.0   1.0   1.0   1.0   \n",
       "Weston                      Weston Police Dept    CT   0.0   0.0   0.0   0.0   \n",
       "Westport                  Westport Police Dept    CT   3.0   0.0   1.0   0.0   \n",
       "Wethersfield          Wethersfield Police Dept    CT   0.0   0.0   0.0   2.0   \n",
       "Willimantic            Willimantic Police Dept    CT   0.0   0.0   0.0   2.0   \n",
       "Wilton                      Wilton Police Dept    CT   0.0   0.0   0.0   0.0   \n",
       "Winchester         Winchester Town Police Dept    CT   0.0   0.0   0.0   0.0   \n",
       "Windsor                    Windsor Police Dept    CT   0.0   0.0   0.0   0.0   \n",
       "Windsor Locks        Windsor Locks Police Dept    CT   0.0   0.0   0.0   0.0   \n",
       "Wolcott                    Wolcott Police Dept    CT   0.0   0.0   0.0   0.0   \n",
       "Woodbridge                                 NaN   NaN   NaN   NaN   NaN   NaN   \n",
       "\n",
       "                   1989  1990  1991  1992  ...   2011  2012_diff  \\\n",
       "City                                       ...                     \n",
       "Ansonia             0.0   0.0   0.0   0.0  ...    3.0        0.0   \n",
       "Avon                0.0   0.0   0.0   0.0  ...    0.0        0.0   \n",
       "Berlin              0.0   0.0   1.0   0.0  ...    0.0        0.0   \n",
       "Bethel              0.0   1.0   0.0   2.0  ...    0.0        0.0   \n",
       "Bloomfield          0.0   0.0   1.0   0.0  ...    1.0        0.0   \n",
       "Branford            0.0   0.0   1.0   0.0  ...    0.0        0.0   \n",
       "Bridgeport         36.0  57.0  51.0  57.0  ...   20.0        0.0   \n",
       "Bristol             0.0   0.0   1.0   0.0  ...    1.0        0.0   \n",
       "Brookfield          0.0   0.0   1.0   0.0  ...    0.0        0.0   \n",
       "Canton              0.0   0.0   0.0   0.0  ...    0.0        0.0   \n",
       "Cheshire            0.0   0.0   0.0   0.0  ...    0.0        0.0   \n",
       "Clinton             1.0   0.0   0.0   0.0  ...    0.0        0.0   \n",
       "Coventry            0.0   0.0   0.0   0.0  ...    0.0        0.0   \n",
       "Cromwell            0.0   0.0   0.0   0.0  ...    0.0        0.0   \n",
       "Danbury             3.0   0.0   2.0   4.0  ...    1.0        0.0   \n",
       "Darien              0.0   0.0   0.0   0.0  ...    0.0        0.0   \n",
       "Derby               3.0   0.0   0.0   1.0  ...    0.0        0.0   \n",
       "East Hampton        0.0   0.0   0.0   0.0  ...    1.0        0.0   \n",
       "East Hartford       1.0   1.0   1.0   1.0  ...    0.0        0.0   \n",
       "East Haven          0.0   0.0   1.0   0.0  ...    0.0        0.0   \n",
       "East Windsor        0.0   0.0   0.0   0.0  ...    0.0        0.0   \n",
       "Easton              NaN   NaN   NaN   NaN  ...    NaN        NaN   \n",
       "Enfield             0.0   1.0   0.0   0.0  ...    NaN        0.0   \n",
       "Fairfield           0.0   1.0   0.0   1.0  ...    0.0        0.0   \n",
       "Farmington          0.0   0.0   0.0   0.0  ...    0.0        0.0   \n",
       "Glastonbury         0.0   0.0   1.0   0.0  ...    0.0        0.0   \n",
       "Granby              0.0   0.0   0.0   0.0  ...    0.0        0.0   \n",
       "Greenwich           0.0   0.0   0.0   0.0  ...    0.0        0.0   \n",
       "Groton              2.0   0.0   0.0   0.0  ...    0.0        0.0   \n",
       "Groton Long Point   NaN   NaN   NaN   NaN  ...    NaN        NaN   \n",
       "...                 ...   ...   ...   ...  ...    ...        ...   \n",
       "Rocky Hill          1.0   1.0   1.0   1.0  ...    0.0        0.0   \n",
       "Seymour             0.0   0.0   0.0   0.0  ...    0.0        0.0   \n",
       "Shelton             0.0   1.0   1.0   2.0  ...    0.0        0.0   \n",
       "Simsbury            0.0   0.0   0.0   0.0  ...    0.0        0.0   \n",
       "South Windsor       0.0   1.0   0.0   0.0  ...    0.0        0.0   \n",
       "Southington         1.0   0.0   NaN   0.0  ...    1.0        0.0   \n",
       "Stamford            9.0  10.0  10.0   7.0  ...    6.0        0.0   \n",
       "Stonington          0.0   0.0   0.0   0.0  ...    0.0        0.0   \n",
       "Stratford           3.0   3.0   2.0   1.0  ...    1.0        0.0   \n",
       "Suffield            1.0   1.0   0.0   1.0  ...    0.0        0.0   \n",
       "Thomaston           NaN   NaN   NaN   NaN  ...    NaN        NaN   \n",
       "Torrington          1.0   2.0   0.0   2.0  ...    0.0        0.0   \n",
       "Trumbull            0.0   0.0   1.0   0.0  ...    0.0        0.0   \n",
       "Vernon              1.0   0.0   1.0   0.0  ...    0.0        0.0   \n",
       "Wallingford         0.0   1.0   0.0   0.0  ...    2.0        0.0   \n",
       "Waterbury           6.0   5.0   9.0  12.0  ...    7.0        0.0   \n",
       "Waterford           2.0   0.0   0.0   0.0  ...    0.0        0.0   \n",
       "Watertown           0.0   1.0   1.0   0.0  ...    0.0        0.0   \n",
       "West Hartford       0.0   0.0   0.0   0.0  ...    1.0        0.0   \n",
       "West Haven          3.0   0.0   3.0   3.0  ...    1.0        0.0   \n",
       "Weston              0.0   0.0   0.0   0.0  ...    0.0        0.0   \n",
       "Westport            2.0   0.0   1.0   0.0  ...    1.0        0.0   \n",
       "Wethersfield        2.0   0.0   1.0   0.0  ...    0.0        0.0   \n",
       "Willimantic         0.0   0.0   0.0   1.0  ...    1.0        0.0   \n",
       "Wilton              0.0   0.0   0.0   0.0  ...    0.0        0.0   \n",
       "Winchester          0.0   0.0   0.0   0.0  ...    0.0        0.0   \n",
       "Windsor             0.0   1.0   0.0   2.0  ...    0.0        0.0   \n",
       "Windsor Locks       0.0   0.0   2.0   1.0  ...    0.0        0.0   \n",
       "Wolcott             1.0   1.0   0.0   0.0  ...    0.0        0.0   \n",
       "Woodbridge          NaN   NaN   NaN   NaN  ...    NaN        NaN   \n",
       "\n",
       "                   2012_diff_pct  2012  2013_diff  2013_diff_pct  2013  \\\n",
       "City                                                                     \n",
       "Ansonia                      NaN   0.0        0.0            NaN   0.0   \n",
       "Avon                         NaN   0.0        0.0            NaN   0.0   \n",
       "Berlin                       NaN   0.0        0.0            NaN   0.0   \n",
       "Bethel                       NaN   0.0        0.0            NaN   0.0   \n",
       "Bloomfield                   NaN   0.0        0.0            0.0   1.0   \n",
       "Branford                     NaN   0.0       -1.0           -1.0   NaN   \n",
       "Bridgeport                   0.0  22.0        0.0            0.0  11.0   \n",
       "Bristol                      0.0   3.0        0.0            0.0   2.0   \n",
       "Brookfield                   NaN   0.0        0.0            NaN   0.0   \n",
       "Canton                       NaN   0.0        0.0            NaN   0.0   \n",
       "Cheshire                     NaN   0.0        0.0            NaN   0.0   \n",
       "Clinton                      NaN   0.0        0.0            0.0   1.0   \n",
       "Coventry                     NaN   0.0        0.0            0.0   1.0   \n",
       "Cromwell                     NaN   0.0        0.0            NaN   0.0   \n",
       "Danbury                      0.0   1.0        0.0            0.0   2.0   \n",
       "Darien                       NaN   0.0        0.0            NaN   0.0   \n",
       "Derby                        0.0   1.0        0.0            NaN   0.0   \n",
       "East Hampton                 0.0   1.0        0.0            NaN   0.0   \n",
       "East Hartford                0.0   2.0        0.0            0.0   1.0   \n",
       "East Haven                   0.0   1.0        0.0            NaN   0.0   \n",
       "East Windsor                 NaN   0.0        0.0            0.0   1.0   \n",
       "Easton                       NaN   NaN        NaN            NaN   NaN   \n",
       "Enfield                      NaN   0.0        0.0            NaN   0.0   \n",
       "Fairfield                    NaN   0.0        0.0            NaN   0.0   \n",
       "Farmington                   NaN   0.0        0.0            NaN   0.0   \n",
       "Glastonbury                  NaN   0.0        0.0            NaN   0.0   \n",
       "Granby                       NaN   0.0        0.0            NaN   0.0   \n",
       "Greenwich                    NaN   0.0        0.0            NaN   0.0   \n",
       "Groton                       NaN   0.0        0.0            NaN   0.0   \n",
       "Groton Long Point            NaN   NaN        NaN            NaN   NaN   \n",
       "...                          ...   ...        ...            ...   ...   \n",
       "Rocky Hill                   NaN   0.0        0.0            NaN   0.0   \n",
       "Seymour                      NaN   0.0        0.0            NaN   0.0   \n",
       "Shelton                      NaN   0.0        0.0            NaN   0.0   \n",
       "Simsbury                     0.0   1.0        0.0            NaN   0.0   \n",
       "South Windsor                NaN   0.0        0.0            NaN   0.0   \n",
       "Southington                  0.0   1.0        0.0            NaN   0.0   \n",
       "Stamford                     0.0   5.0        0.0            0.0   1.0   \n",
       "Stonington                   NaN   0.0        0.0            NaN   0.0   \n",
       "Stratford                    NaN   0.0        0.0            NaN   0.0   \n",
       "Suffield                     NaN   0.0        0.0            NaN   0.0   \n",
       "Thomaston                    NaN   NaN        NaN            NaN   NaN   \n",
       "Torrington                   NaN   0.0        0.0            NaN   0.0   \n",
       "Trumbull                     NaN   0.0        0.0            NaN   0.0   \n",
       "Vernon                       NaN   0.0        0.0            NaN   0.0   \n",
       "Wallingford                  NaN   0.0        0.0            0.0   1.0   \n",
       "Waterbury                    0.0   5.0        0.0            0.0   5.0   \n",
       "Waterford                    0.0   1.0        0.0            NaN   0.0   \n",
       "Watertown                    0.0   2.0        0.0            NaN   0.0   \n",
       "West Hartford                NaN   0.0        0.0            NaN   0.0   \n",
       "West Haven                   0.0   1.0        0.0            0.0   2.0   \n",
       "Weston                       NaN   0.0        0.0            NaN   0.0   \n",
       "Westport                     NaN   0.0        0.0            NaN   0.0   \n",
       "Wethersfield                 NaN   0.0        0.0            NaN   0.0   \n",
       "Willimantic                  NaN   0.0        0.0            NaN   0.0   \n",
       "Wilton                       0.0   1.0        0.0            NaN   0.0   \n",
       "Winchester                   NaN   0.0        0.0            NaN   0.0   \n",
       "Windsor                      NaN   0.0        0.0            0.0   1.0   \n",
       "Windsor Locks                NaN   0.0        0.0            NaN   0.0   \n",
       "Wolcott                      NaN   0.0        0.0            NaN   0.0   \n",
       "Woodbridge                   NaN   NaN        NaN            NaN   NaN   \n",
       "\n",
       "                   2014_diff  2014_diff_pct  2014  \n",
       "City                                               \n",
       "Ansonia                  0.0            NaN   0.0  \n",
       "Avon                     0.0            NaN   0.0  \n",
       "Berlin                   0.0            NaN   0.0  \n",
       "Bethel                   0.0            NaN   0.0  \n",
       "Bloomfield               0.0            NaN   0.0  \n",
       "Branford                 0.0            0.0   1.0  \n",
       "Bridgeport               0.0            0.0  11.0  \n",
       "Bristol                  0.0            0.0   3.0  \n",
       "Brookfield               0.0            NaN   0.0  \n",
       "Canton                   0.0            NaN   0.0  \n",
       "Cheshire                 0.0            0.0   1.0  \n",
       "Clinton                  0.0            NaN   0.0  \n",
       "Coventry                 0.0            NaN   0.0  \n",
       "Cromwell                 0.0            NaN   0.0  \n",
       "Danbury                  0.0            0.0   1.0  \n",
       "Darien                   0.0            NaN   0.0  \n",
       "Derby                    0.0            NaN   0.0  \n",
       "East Hampton             0.0            NaN   0.0  \n",
       "East Hartford            0.0            0.0   2.0  \n",
       "East Haven               0.0            NaN   0.0  \n",
       "East Windsor             0.0            0.0   1.0  \n",
       "Easton                   NaN            NaN   NaN  \n",
       "Enfield                  0.0            0.0   2.0  \n",
       "Fairfield                0.0            NaN   0.0  \n",
       "Farmington               0.0            NaN   0.0  \n",
       "Glastonbury              0.0            NaN   0.0  \n",
       "Granby                   0.0            NaN   0.0  \n",
       "Greenwich                0.0            NaN   0.0  \n",
       "Groton                   0.0            NaN   0.0  \n",
       "Groton Long Point        NaN            NaN   NaN  \n",
       "...                      ...            ...   ...  \n",
       "Rocky Hill               0.0            NaN   0.0  \n",
       "Seymour                  0.0            NaN   0.0  \n",
       "Shelton                  0.0            0.0   1.0  \n",
       "Simsbury                 0.0            0.0   1.0  \n",
       "South Windsor            0.0            NaN   0.0  \n",
       "Southington              0.0            NaN   0.0  \n",
       "Stamford                 0.0            0.0   2.0  \n",
       "Stonington               0.0            NaN   0.0  \n",
       "Stratford                0.0            NaN   0.0  \n",
       "Suffield                 0.0            NaN   0.0  \n",
       "Thomaston                NaN            NaN   NaN  \n",
       "Torrington               0.0            0.0   2.0  \n",
       "Trumbull                 0.0            NaN   0.0  \n",
       "Vernon                   0.0            NaN   0.0  \n",
       "Wallingford              0.0            NaN   0.0  \n",
       "Waterbury                0.0            0.0   7.0  \n",
       "Waterford                0.0            NaN   0.0  \n",
       "Watertown                0.0            NaN   0.0  \n",
       "West Hartford            0.0            0.0   1.0  \n",
       "West Haven               0.0            NaN   0.0  \n",
       "Weston                   0.0            NaN   0.0  \n",
       "Westport                 0.0            NaN   0.0  \n",
       "Wethersfield             0.0            0.0   1.0  \n",
       "Willimantic              0.0            NaN   0.0  \n",
       "Wilton                   0.0            NaN   0.0  \n",
       "Winchester               0.0            NaN   0.0  \n",
       "Windsor                  0.0            0.0   1.0  \n",
       "Windsor Locks            0.0            0.0   1.0  \n",
       "Wolcott                  0.0            NaN   0.0  \n",
       "Woodbridge               NaN            NaN   NaN  \n",
       "\n",
       "[93 rows x 72 columns]"
      ]
     },
     "execution_count": 66,
     "metadata": {},
     "output_type": "execute_result"
    }
   ],
   "source": [
    "# Check columns that overlap to see if the historical data has the same valus as the newer sheets\n",
    "err_count = 0\n",
    "tot_count = 0\n",
    "def add_checks(df):\n",
    "    \n",
    "    global err_count, tot_count\n",
    "    \n",
    "    err_count = 0\n",
    "    tot_count = 0\n",
    "    \n",
    "    ret = df.copy()\n",
    "    overlap = map(lambda x: x.replace(\"_new\",\"\"),\n",
    "                  filter(lambda x: \"_new\" in x, ret.columns.get_values()))\n",
    "\n",
    "    for y in overlap:\n",
    "        #print ret.dtypes\n",
    "        ret[y + \"_new\"] = pd.to_numeric(ret[y + \"_new\"],errors=coerce)\n",
    "        ret[y + \"_hist\"] = pd.to_numeric(ret[y + \"_hist\"],errors=coerce)\n",
    "        ret[y + \"_diff\"] = ret[y + \"_new\"].sub(ret[y + \"_hist\"])\n",
    "        ret[y + \"_diff_pct\"] = ret[y + \"_diff\"] / ret[y + \"_hist\"]\n",
    "        def y_or_null(row,y):\n",
    "            global tot_count,err_count\n",
    "            tot_count += 1\n",
    "            if row[y + \"_new\"] == row[y + \"_hist\"]:\n",
    "                return row[y + \"_new\"]\n",
    "            #print row[y + \"_new\"] - row[y + \"_hist\"]\n",
    "            err_count += 1\n",
    "            return None\n",
    "        ret[y] = ret.apply(lambda x: y_or_null(x,y) ,axis=1)\n",
    "        \n",
    "    print \"Errors: \" + str(err_count)\n",
    "    print \"Total:  \" + str(tot_count)\n",
    "    return ret\n",
    "    \n",
    "add_checks(add_history(make_frame(col_labels[\"murder\"]),\n",
    "                       hist_dfs[\"murder\"]))#.head(1).transpose()"
   ]
  },
  {
   "cell_type": "code",
   "execution_count": null,
   "metadata": {},
   "outputs": [],
   "source": []
  },
  {
   "cell_type": "code",
   "execution_count": 67,
   "metadata": {},
   "outputs": [
    {
     "name": "stdout",
     "output_type": "stream",
     "text": [
      "Error in 2017 Index([u'State', u'Population', u'Violent crime',\n",
      "       u'Murder and nonnegligent manslaughter', u'Rape1', u'Robbery',\n",
      "       u'Aggravated assault', u'Property crime', u'Burglary',\n",
      "       u'Larceny- theft', u'Motor vehicle theft', u'Arson'],\n",
      "      dtype='object')\n",
      "ERROR:  '[2017] not in index'\n",
      "Index([u'2006', u'2007', u'2008', u'2009', u'2010', u'2011', u'2012', u'2013',\n",
      "       u'2014', u'2015', u'2016'],\n",
      "      dtype='object')\n",
      "Index([u'Agency', u'State', u'1985', u'1986', u'1987', u'1988', u'1989',\n",
      "       u'1990', u'1991', u'1992', u'1993', u'1994', u'1995', u'1996', u'1997',\n",
      "       u'1998', u'1999', u'2000', u'2001', u'2002', u'2003', u'2004', u'2005',\n",
      "       u'2006_hist', u'2007_hist', u'2008_hist', u'2009_hist', u'2010_hist',\n",
      "       u'2011_hist', u'2012_hist', u'2013_hist', u'2014_hist', u'Unnamed: 32',\n",
      "       u'2006_new', u'2007_new', u'2008_new', u'2009_new', u'2010_new',\n",
      "       u'2011_new', u'2012_new', u'2013_new', u'2014_new', u'2015', u'2016'],\n",
      "      dtype='object')\n"
     ]
    },
    {
     "data": {
      "text/html": [
       "<div>\n",
       "<style scoped>\n",
       "    .dataframe tbody tr th:only-of-type {\n",
       "        vertical-align: middle;\n",
       "    }\n",
       "\n",
       "    .dataframe tbody tr th {\n",
       "        vertical-align: top;\n",
       "    }\n",
       "\n",
       "    .dataframe thead th {\n",
       "        text-align: right;\n",
       "    }\n",
       "</style>\n",
       "<table border=\"1\" class=\"dataframe\">\n",
       "  <thead>\n",
       "    <tr style=\"text-align: right;\">\n",
       "      <th></th>\n",
       "      <th>Agency</th>\n",
       "      <th>State</th>\n",
       "      <th>1985</th>\n",
       "      <th>1986</th>\n",
       "      <th>1987</th>\n",
       "      <th>1988</th>\n",
       "      <th>1989</th>\n",
       "      <th>1990</th>\n",
       "      <th>1991</th>\n",
       "      <th>1992</th>\n",
       "      <th>...</th>\n",
       "      <th>2007_new</th>\n",
       "      <th>2008_new</th>\n",
       "      <th>2009_new</th>\n",
       "      <th>2010_new</th>\n",
       "      <th>2011_new</th>\n",
       "      <th>2012_new</th>\n",
       "      <th>2013_new</th>\n",
       "      <th>2014_new</th>\n",
       "      <th>2015</th>\n",
       "      <th>2016</th>\n",
       "    </tr>\n",
       "    <tr>\n",
       "      <th>City</th>\n",
       "      <th></th>\n",
       "      <th></th>\n",
       "      <th></th>\n",
       "      <th></th>\n",
       "      <th></th>\n",
       "      <th></th>\n",
       "      <th></th>\n",
       "      <th></th>\n",
       "      <th></th>\n",
       "      <th></th>\n",
       "      <th></th>\n",
       "      <th></th>\n",
       "      <th></th>\n",
       "      <th></th>\n",
       "      <th></th>\n",
       "      <th></th>\n",
       "      <th></th>\n",
       "      <th></th>\n",
       "      <th></th>\n",
       "      <th></th>\n",
       "      <th></th>\n",
       "    </tr>\n",
       "  </thead>\n",
       "  <tbody>\n",
       "    <tr>\n",
       "      <th>Agency</th>\n",
       "      <td>Agency</td>\n",
       "      <td>State</td>\n",
       "      <td>1985.0</td>\n",
       "      <td>1986.0</td>\n",
       "      <td>1987.0</td>\n",
       "      <td>1988.0</td>\n",
       "      <td>1989.0</td>\n",
       "      <td>1990.0</td>\n",
       "      <td>1991.0</td>\n",
       "      <td>1992.0</td>\n",
       "      <td>...</td>\n",
       "      <td>NaN</td>\n",
       "      <td>NaN</td>\n",
       "      <td>NaN</td>\n",
       "      <td>NaN</td>\n",
       "      <td>NaN</td>\n",
       "      <td>NaN</td>\n",
       "      <td>NaN</td>\n",
       "      <td>NaN</td>\n",
       "      <td>NaN</td>\n",
       "      <td>NaN</td>\n",
       "    </tr>\n",
       "    <tr>\n",
       "      <th>Ansonia</th>\n",
       "      <td>Ansonia Police Dept</td>\n",
       "      <td>CT</td>\n",
       "      <td>33.0</td>\n",
       "      <td>5.0</td>\n",
       "      <td>1.0</td>\n",
       "      <td>5.0</td>\n",
       "      <td>4.0</td>\n",
       "      <td>1.0</td>\n",
       "      <td>10.0</td>\n",
       "      <td>3.0</td>\n",
       "      <td>...</td>\n",
       "      <td>3.0</td>\n",
       "      <td>3.0</td>\n",
       "      <td>4.0</td>\n",
       "      <td>2.0</td>\n",
       "      <td>3.0</td>\n",
       "      <td>4.0</td>\n",
       "      <td>5.0</td>\n",
       "      <td>6.0</td>\n",
       "      <td>5.0</td>\n",
       "      <td>2.0</td>\n",
       "    </tr>\n",
       "    <tr>\n",
       "      <th>Avon</th>\n",
       "      <td>Avon Police Dept</td>\n",
       "      <td>CT</td>\n",
       "      <td>0.0</td>\n",
       "      <td>0.0</td>\n",
       "      <td>2.0</td>\n",
       "      <td>0.0</td>\n",
       "      <td>3.0</td>\n",
       "      <td>2.0</td>\n",
       "      <td>1.0</td>\n",
       "      <td>0.0</td>\n",
       "      <td>...</td>\n",
       "      <td>0.0</td>\n",
       "      <td>1.0</td>\n",
       "      <td>3.0</td>\n",
       "      <td>1.0</td>\n",
       "      <td>0.0</td>\n",
       "      <td>2.0</td>\n",
       "      <td>8.0</td>\n",
       "      <td>1.0</td>\n",
       "      <td>1.0</td>\n",
       "      <td>0.0</td>\n",
       "    </tr>\n",
       "    <tr>\n",
       "      <th>Berlin</th>\n",
       "      <td>Berlin Police Dept</td>\n",
       "      <td>CT</td>\n",
       "      <td>0.0</td>\n",
       "      <td>1.0</td>\n",
       "      <td>2.0</td>\n",
       "      <td>0.0</td>\n",
       "      <td>0.0</td>\n",
       "      <td>0.0</td>\n",
       "      <td>0.0</td>\n",
       "      <td>0.0</td>\n",
       "      <td>...</td>\n",
       "      <td>1.0</td>\n",
       "      <td>2.0</td>\n",
       "      <td>1.0</td>\n",
       "      <td>2.0</td>\n",
       "      <td>1.0</td>\n",
       "      <td>0.0</td>\n",
       "      <td>5.0</td>\n",
       "      <td>3.0</td>\n",
       "      <td>2.0</td>\n",
       "      <td>3.0</td>\n",
       "    </tr>\n",
       "    <tr>\n",
       "      <th>Bethel</th>\n",
       "      <td>Bethel Police Dept</td>\n",
       "      <td>CT</td>\n",
       "      <td>3.0</td>\n",
       "      <td>4.0</td>\n",
       "      <td>4.0</td>\n",
       "      <td>3.0</td>\n",
       "      <td>3.0</td>\n",
       "      <td>4.0</td>\n",
       "      <td>11.0</td>\n",
       "      <td>1.0</td>\n",
       "      <td>...</td>\n",
       "      <td>2.0</td>\n",
       "      <td>0.0</td>\n",
       "      <td>0.0</td>\n",
       "      <td>1.0</td>\n",
       "      <td>0.0</td>\n",
       "      <td>3.0</td>\n",
       "      <td>2.0</td>\n",
       "      <td>0.0</td>\n",
       "      <td>4.0</td>\n",
       "      <td>0.0</td>\n",
       "    </tr>\n",
       "    <tr>\n",
       "      <th>Bloomfield</th>\n",
       "      <td>Bloomfield Police Dept</td>\n",
       "      <td>CT</td>\n",
       "      <td>3.0</td>\n",
       "      <td>5.0</td>\n",
       "      <td>5.0</td>\n",
       "      <td>6.0</td>\n",
       "      <td>2.0</td>\n",
       "      <td>6.0</td>\n",
       "      <td>3.0</td>\n",
       "      <td>4.0</td>\n",
       "      <td>...</td>\n",
       "      <td>9.0</td>\n",
       "      <td>4.0</td>\n",
       "      <td>12.0</td>\n",
       "      <td>3.0</td>\n",
       "      <td>6.0</td>\n",
       "      <td>5.0</td>\n",
       "      <td>9.0</td>\n",
       "      <td>6.0</td>\n",
       "      <td>8.0</td>\n",
       "      <td>9.0</td>\n",
       "    </tr>\n",
       "    <tr>\n",
       "      <th>Branford</th>\n",
       "      <td>Branford Police Dept</td>\n",
       "      <td>CT</td>\n",
       "      <td>0.0</td>\n",
       "      <td>2.0</td>\n",
       "      <td>3.0</td>\n",
       "      <td>0.0</td>\n",
       "      <td>4.0</td>\n",
       "      <td>1.0</td>\n",
       "      <td>4.0</td>\n",
       "      <td>4.0</td>\n",
       "      <td>...</td>\n",
       "      <td>6.0</td>\n",
       "      <td>13.0</td>\n",
       "      <td>0.0</td>\n",
       "      <td>0.0</td>\n",
       "      <td>0.0</td>\n",
       "      <td>0.0</td>\n",
       "      <td>0.0</td>\n",
       "      <td>0.0</td>\n",
       "      <td>0.0</td>\n",
       "      <td>2.0</td>\n",
       "    </tr>\n",
       "    <tr>\n",
       "      <th>Bridgeport</th>\n",
       "      <td>Bridgeport Police Dept</td>\n",
       "      <td>CT</td>\n",
       "      <td>57.0</td>\n",
       "      <td>75.0</td>\n",
       "      <td>58.0</td>\n",
       "      <td>90.0</td>\n",
       "      <td>70.0</td>\n",
       "      <td>79.0</td>\n",
       "      <td>82.0</td>\n",
       "      <td>74.0</td>\n",
       "      <td>...</td>\n",
       "      <td>77.0</td>\n",
       "      <td>58.0</td>\n",
       "      <td>58.0</td>\n",
       "      <td>57.0</td>\n",
       "      <td>116.0</td>\n",
       "      <td>388.0</td>\n",
       "      <td>NaN</td>\n",
       "      <td>92.0</td>\n",
       "      <td>80.0</td>\n",
       "      <td>69.0</td>\n",
       "    </tr>\n",
       "    <tr>\n",
       "      <th>Bristol</th>\n",
       "      <td>Bristol Police Dept</td>\n",
       "      <td>CT</td>\n",
       "      <td>4.0</td>\n",
       "      <td>2.0</td>\n",
       "      <td>6.0</td>\n",
       "      <td>3.0</td>\n",
       "      <td>5.0</td>\n",
       "      <td>12.0</td>\n",
       "      <td>6.0</td>\n",
       "      <td>2.0</td>\n",
       "      <td>...</td>\n",
       "      <td>12.0</td>\n",
       "      <td>27.0</td>\n",
       "      <td>26.0</td>\n",
       "      <td>27.0</td>\n",
       "      <td>10.0</td>\n",
       "      <td>9.0</td>\n",
       "      <td>15.0</td>\n",
       "      <td>11.0</td>\n",
       "      <td>11.0</td>\n",
       "      <td>10.0</td>\n",
       "    </tr>\n",
       "    <tr>\n",
       "      <th>Brookfield</th>\n",
       "      <td>Brookfield Police Dept</td>\n",
       "      <td>CT</td>\n",
       "      <td>2.0</td>\n",
       "      <td>3.0</td>\n",
       "      <td>1.0</td>\n",
       "      <td>1.0</td>\n",
       "      <td>4.0</td>\n",
       "      <td>2.0</td>\n",
       "      <td>2.0</td>\n",
       "      <td>1.0</td>\n",
       "      <td>...</td>\n",
       "      <td>0.0</td>\n",
       "      <td>1.0</td>\n",
       "      <td>0.0</td>\n",
       "      <td>0.0</td>\n",
       "      <td>1.0</td>\n",
       "      <td>0.0</td>\n",
       "      <td>0.0</td>\n",
       "      <td>0.0</td>\n",
       "      <td>0.0</td>\n",
       "      <td>0.0</td>\n",
       "    </tr>\n",
       "    <tr>\n",
       "      <th>Canton</th>\n",
       "      <td>Canton Town Police Dept</td>\n",
       "      <td>CT</td>\n",
       "      <td>0.0</td>\n",
       "      <td>0.0</td>\n",
       "      <td>0.0</td>\n",
       "      <td>1.0</td>\n",
       "      <td>0.0</td>\n",
       "      <td>1.0</td>\n",
       "      <td>0.0</td>\n",
       "      <td>1.0</td>\n",
       "      <td>...</td>\n",
       "      <td>2.0</td>\n",
       "      <td>0.0</td>\n",
       "      <td>0.0</td>\n",
       "      <td>0.0</td>\n",
       "      <td>1.0</td>\n",
       "      <td>1.0</td>\n",
       "      <td>2.0</td>\n",
       "      <td>1.0</td>\n",
       "      <td>0.0</td>\n",
       "      <td>0.0</td>\n",
       "    </tr>\n",
       "    <tr>\n",
       "      <th>Cheshire</th>\n",
       "      <td>Cheshire Police Dept</td>\n",
       "      <td>CT</td>\n",
       "      <td>2.0</td>\n",
       "      <td>3.0</td>\n",
       "      <td>2.0</td>\n",
       "      <td>0.0</td>\n",
       "      <td>4.0</td>\n",
       "      <td>0.0</td>\n",
       "      <td>3.0</td>\n",
       "      <td>0.0</td>\n",
       "      <td>...</td>\n",
       "      <td>1.0</td>\n",
       "      <td>0.0</td>\n",
       "      <td>0.0</td>\n",
       "      <td>0.0</td>\n",
       "      <td>0.0</td>\n",
       "      <td>0.0</td>\n",
       "      <td>0.0</td>\n",
       "      <td>0.0</td>\n",
       "      <td>1.0</td>\n",
       "      <td>2.0</td>\n",
       "    </tr>\n",
       "    <tr>\n",
       "      <th>Clinton</th>\n",
       "      <td>Clinton Police Dept</td>\n",
       "      <td>CT</td>\n",
       "      <td>0.0</td>\n",
       "      <td>0.0</td>\n",
       "      <td>0.0</td>\n",
       "      <td>0.0</td>\n",
       "      <td>0.0</td>\n",
       "      <td>0.0</td>\n",
       "      <td>0.0</td>\n",
       "      <td>0.0</td>\n",
       "      <td>...</td>\n",
       "      <td>5.0</td>\n",
       "      <td>7.0</td>\n",
       "      <td>3.0</td>\n",
       "      <td>7.0</td>\n",
       "      <td>7.0</td>\n",
       "      <td>16.0</td>\n",
       "      <td>6.0</td>\n",
       "      <td>7.0</td>\n",
       "      <td>5.0</td>\n",
       "      <td>7.0</td>\n",
       "    </tr>\n",
       "    <tr>\n",
       "      <th>Coventry</th>\n",
       "      <td>Coventry Police Dept</td>\n",
       "      <td>CT</td>\n",
       "      <td>0.0</td>\n",
       "      <td>2.0</td>\n",
       "      <td>5.0</td>\n",
       "      <td>3.0</td>\n",
       "      <td>1.0</td>\n",
       "      <td>0.0</td>\n",
       "      <td>1.0</td>\n",
       "      <td>0.0</td>\n",
       "      <td>...</td>\n",
       "      <td>1.0</td>\n",
       "      <td>1.0</td>\n",
       "      <td>4.0</td>\n",
       "      <td>1.0</td>\n",
       "      <td>5.0</td>\n",
       "      <td>2.0</td>\n",
       "      <td>1.0</td>\n",
       "      <td>6.0</td>\n",
       "      <td>1.0</td>\n",
       "      <td>1.0</td>\n",
       "    </tr>\n",
       "    <tr>\n",
       "      <th>Cromwell</th>\n",
       "      <td>Cromwell Police Dept</td>\n",
       "      <td>CT</td>\n",
       "      <td>2.0</td>\n",
       "      <td>1.0</td>\n",
       "      <td>0.0</td>\n",
       "      <td>1.0</td>\n",
       "      <td>0.0</td>\n",
       "      <td>2.0</td>\n",
       "      <td>1.0</td>\n",
       "      <td>1.0</td>\n",
       "      <td>...</td>\n",
       "      <td>3.0</td>\n",
       "      <td>0.0</td>\n",
       "      <td>2.0</td>\n",
       "      <td>1.0</td>\n",
       "      <td>1.0</td>\n",
       "      <td>1.0</td>\n",
       "      <td>0.0</td>\n",
       "      <td>2.0</td>\n",
       "      <td>0.0</td>\n",
       "      <td>0.0</td>\n",
       "    </tr>\n",
       "    <tr>\n",
       "      <th>Danbury</th>\n",
       "      <td>Danbury Police Dept</td>\n",
       "      <td>CT</td>\n",
       "      <td>17.0</td>\n",
       "      <td>13.0</td>\n",
       "      <td>17.0</td>\n",
       "      <td>15.0</td>\n",
       "      <td>20.0</td>\n",
       "      <td>14.0</td>\n",
       "      <td>20.0</td>\n",
       "      <td>12.0</td>\n",
       "      <td>...</td>\n",
       "      <td>20.0</td>\n",
       "      <td>15.0</td>\n",
       "      <td>25.0</td>\n",
       "      <td>21.0</td>\n",
       "      <td>34.0</td>\n",
       "      <td>23.0</td>\n",
       "      <td>NaN</td>\n",
       "      <td>31.0</td>\n",
       "      <td>45.0</td>\n",
       "      <td>30.0</td>\n",
       "    </tr>\n",
       "    <tr>\n",
       "      <th>Darien</th>\n",
       "      <td>Darien Police Dept</td>\n",
       "      <td>CT</td>\n",
       "      <td>0.0</td>\n",
       "      <td>3.0</td>\n",
       "      <td>0.0</td>\n",
       "      <td>1.0</td>\n",
       "      <td>0.0</td>\n",
       "      <td>1.0</td>\n",
       "      <td>0.0</td>\n",
       "      <td>1.0</td>\n",
       "      <td>...</td>\n",
       "      <td>0.0</td>\n",
       "      <td>0.0</td>\n",
       "      <td>0.0</td>\n",
       "      <td>0.0</td>\n",
       "      <td>0.0</td>\n",
       "      <td>0.0</td>\n",
       "      <td>0.0</td>\n",
       "      <td>2.0</td>\n",
       "      <td>0.0</td>\n",
       "      <td>0.0</td>\n",
       "    </tr>\n",
       "    <tr>\n",
       "      <th>Derby</th>\n",
       "      <td>Derby Police Dept</td>\n",
       "      <td>CT</td>\n",
       "      <td>4.0</td>\n",
       "      <td>1.0</td>\n",
       "      <td>2.0</td>\n",
       "      <td>1.0</td>\n",
       "      <td>4.0</td>\n",
       "      <td>3.0</td>\n",
       "      <td>3.0</td>\n",
       "      <td>0.0</td>\n",
       "      <td>...</td>\n",
       "      <td>2.0</td>\n",
       "      <td>6.0</td>\n",
       "      <td>4.0</td>\n",
       "      <td>2.0</td>\n",
       "      <td>1.0</td>\n",
       "      <td>8.0</td>\n",
       "      <td>2.0</td>\n",
       "      <td>3.0</td>\n",
       "      <td>4.0</td>\n",
       "      <td>6.0</td>\n",
       "    </tr>\n",
       "    <tr>\n",
       "      <th>East Hampton</th>\n",
       "      <td>East Hampton Police Dept</td>\n",
       "      <td>CT</td>\n",
       "      <td>1.0</td>\n",
       "      <td>1.0</td>\n",
       "      <td>3.0</td>\n",
       "      <td>0.0</td>\n",
       "      <td>1.0</td>\n",
       "      <td>0.0</td>\n",
       "      <td>0.0</td>\n",
       "      <td>2.0</td>\n",
       "      <td>...</td>\n",
       "      <td>0.0</td>\n",
       "      <td>2.0</td>\n",
       "      <td>0.0</td>\n",
       "      <td>0.0</td>\n",
       "      <td>2.0</td>\n",
       "      <td>1.0</td>\n",
       "      <td>0.0</td>\n",
       "      <td>1.0</td>\n",
       "      <td>2.0</td>\n",
       "      <td>0.0</td>\n",
       "    </tr>\n",
       "    <tr>\n",
       "      <th>East Hartford</th>\n",
       "      <td>East Hartford Police</td>\n",
       "      <td>CT</td>\n",
       "      <td>18.0</td>\n",
       "      <td>13.0</td>\n",
       "      <td>NaN</td>\n",
       "      <td>10.0</td>\n",
       "      <td>15.0</td>\n",
       "      <td>16.0</td>\n",
       "      <td>10.0</td>\n",
       "      <td>14.0</td>\n",
       "      <td>...</td>\n",
       "      <td>15.0</td>\n",
       "      <td>22.0</td>\n",
       "      <td>13.0</td>\n",
       "      <td>20.0</td>\n",
       "      <td>22.0</td>\n",
       "      <td>26.0</td>\n",
       "      <td>31.0</td>\n",
       "      <td>24.0</td>\n",
       "      <td>24.0</td>\n",
       "      <td>26.0</td>\n",
       "    </tr>\n",
       "    <tr>\n",
       "      <th>East Haven</th>\n",
       "      <td>East Haven Police Dept</td>\n",
       "      <td>CT</td>\n",
       "      <td>2.0</td>\n",
       "      <td>1.0</td>\n",
       "      <td>1.0</td>\n",
       "      <td>1.0</td>\n",
       "      <td>2.0</td>\n",
       "      <td>0.0</td>\n",
       "      <td>4.0</td>\n",
       "      <td>2.0</td>\n",
       "      <td>...</td>\n",
       "      <td>6.0</td>\n",
       "      <td>4.0</td>\n",
       "      <td>3.0</td>\n",
       "      <td>3.0</td>\n",
       "      <td>0.0</td>\n",
       "      <td>6.0</td>\n",
       "      <td>3.0</td>\n",
       "      <td>8.0</td>\n",
       "      <td>2.0</td>\n",
       "      <td>4.0</td>\n",
       "    </tr>\n",
       "    <tr>\n",
       "      <th>East Windsor</th>\n",
       "      <td>East Windsor Police Dept</td>\n",
       "      <td>CT</td>\n",
       "      <td>2.0</td>\n",
       "      <td>0.0</td>\n",
       "      <td>0.0</td>\n",
       "      <td>1.0</td>\n",
       "      <td>2.0</td>\n",
       "      <td>2.0</td>\n",
       "      <td>3.0</td>\n",
       "      <td>2.0</td>\n",
       "      <td>...</td>\n",
       "      <td>4.0</td>\n",
       "      <td>3.0</td>\n",
       "      <td>2.0</td>\n",
       "      <td>2.0</td>\n",
       "      <td>3.0</td>\n",
       "      <td>7.0</td>\n",
       "      <td>3.0</td>\n",
       "      <td>5.0</td>\n",
       "      <td>9.0</td>\n",
       "      <td>3.0</td>\n",
       "    </tr>\n",
       "    <tr>\n",
       "      <th>Easton</th>\n",
       "      <td>NaN</td>\n",
       "      <td>NaN</td>\n",
       "      <td>NaN</td>\n",
       "      <td>NaN</td>\n",
       "      <td>NaN</td>\n",
       "      <td>NaN</td>\n",
       "      <td>NaN</td>\n",
       "      <td>NaN</td>\n",
       "      <td>NaN</td>\n",
       "      <td>NaN</td>\n",
       "      <td>...</td>\n",
       "      <td>0.0</td>\n",
       "      <td>0.0</td>\n",
       "      <td>0.0</td>\n",
       "      <td>0.0</td>\n",
       "      <td>0.0</td>\n",
       "      <td>0.0</td>\n",
       "      <td>0.0</td>\n",
       "      <td>0.0</td>\n",
       "      <td>0.0</td>\n",
       "      <td>0.0</td>\n",
       "    </tr>\n",
       "    <tr>\n",
       "      <th>Enfield</th>\n",
       "      <td>Enfield Police Dept</td>\n",
       "      <td>CT</td>\n",
       "      <td>6.0</td>\n",
       "      <td>6.0</td>\n",
       "      <td>1.0</td>\n",
       "      <td>4.0</td>\n",
       "      <td>4.0</td>\n",
       "      <td>6.0</td>\n",
       "      <td>5.0</td>\n",
       "      <td>4.0</td>\n",
       "      <td>...</td>\n",
       "      <td>9.0</td>\n",
       "      <td>0.0</td>\n",
       "      <td>0.0</td>\n",
       "      <td>NaN</td>\n",
       "      <td>NaN</td>\n",
       "      <td>0.0</td>\n",
       "      <td>NaN</td>\n",
       "      <td>1.0</td>\n",
       "      <td>10.0</td>\n",
       "      <td>7.0</td>\n",
       "    </tr>\n",
       "    <tr>\n",
       "      <th>Fairfield</th>\n",
       "      <td>Fairfield Police Dept</td>\n",
       "      <td>CT</td>\n",
       "      <td>0.0</td>\n",
       "      <td>4.0</td>\n",
       "      <td>2.0</td>\n",
       "      <td>1.0</td>\n",
       "      <td>0.0</td>\n",
       "      <td>1.0</td>\n",
       "      <td>1.0</td>\n",
       "      <td>0.0</td>\n",
       "      <td>...</td>\n",
       "      <td>2.0</td>\n",
       "      <td>5.0</td>\n",
       "      <td>2.0</td>\n",
       "      <td>2.0</td>\n",
       "      <td>1.0</td>\n",
       "      <td>2.0</td>\n",
       "      <td>5.0</td>\n",
       "      <td>4.0</td>\n",
       "      <td>4.0</td>\n",
       "      <td>3.0</td>\n",
       "    </tr>\n",
       "    <tr>\n",
       "      <th>Farmington</th>\n",
       "      <td>Farmington Police Dept</td>\n",
       "      <td>CT</td>\n",
       "      <td>1.0</td>\n",
       "      <td>1.0</td>\n",
       "      <td>0.0</td>\n",
       "      <td>2.0</td>\n",
       "      <td>2.0</td>\n",
       "      <td>6.0</td>\n",
       "      <td>1.0</td>\n",
       "      <td>3.0</td>\n",
       "      <td>...</td>\n",
       "      <td>0.0</td>\n",
       "      <td>0.0</td>\n",
       "      <td>5.0</td>\n",
       "      <td>6.0</td>\n",
       "      <td>0.0</td>\n",
       "      <td>2.0</td>\n",
       "      <td>3.0</td>\n",
       "      <td>6.0</td>\n",
       "      <td>3.0</td>\n",
       "      <td>4.0</td>\n",
       "    </tr>\n",
       "    <tr>\n",
       "      <th>Glastonbury</th>\n",
       "      <td>Glastonbury Police Dept</td>\n",
       "      <td>CT</td>\n",
       "      <td>0.0</td>\n",
       "      <td>2.0</td>\n",
       "      <td>0.0</td>\n",
       "      <td>0.0</td>\n",
       "      <td>1.0</td>\n",
       "      <td>3.0</td>\n",
       "      <td>0.0</td>\n",
       "      <td>2.0</td>\n",
       "      <td>...</td>\n",
       "      <td>2.0</td>\n",
       "      <td>3.0</td>\n",
       "      <td>3.0</td>\n",
       "      <td>1.0</td>\n",
       "      <td>2.0</td>\n",
       "      <td>3.0</td>\n",
       "      <td>0.0</td>\n",
       "      <td>1.0</td>\n",
       "      <td>0.0</td>\n",
       "      <td>NaN</td>\n",
       "    </tr>\n",
       "    <tr>\n",
       "      <th>Granby</th>\n",
       "      <td>Granby Police Dept</td>\n",
       "      <td>CT</td>\n",
       "      <td>0.0</td>\n",
       "      <td>0.0</td>\n",
       "      <td>1.0</td>\n",
       "      <td>0.0</td>\n",
       "      <td>0.0</td>\n",
       "      <td>0.0</td>\n",
       "      <td>1.0</td>\n",
       "      <td>2.0</td>\n",
       "      <td>...</td>\n",
       "      <td>6.0</td>\n",
       "      <td>2.0</td>\n",
       "      <td>2.0</td>\n",
       "      <td>1.0</td>\n",
       "      <td>4.0</td>\n",
       "      <td>0.0</td>\n",
       "      <td>2.0</td>\n",
       "      <td>1.0</td>\n",
       "      <td>1.0</td>\n",
       "      <td>0.0</td>\n",
       "    </tr>\n",
       "    <tr>\n",
       "      <th>Greenwich</th>\n",
       "      <td>Greenwich Police Dept</td>\n",
       "      <td>CT</td>\n",
       "      <td>2.0</td>\n",
       "      <td>0.0</td>\n",
       "      <td>2.0</td>\n",
       "      <td>0.0</td>\n",
       "      <td>1.0</td>\n",
       "      <td>1.0</td>\n",
       "      <td>6.0</td>\n",
       "      <td>2.0</td>\n",
       "      <td>...</td>\n",
       "      <td>1.0</td>\n",
       "      <td>2.0</td>\n",
       "      <td>2.0</td>\n",
       "      <td>1.0</td>\n",
       "      <td>3.0</td>\n",
       "      <td>2.0</td>\n",
       "      <td>2.0</td>\n",
       "      <td>2.0</td>\n",
       "      <td>1.0</td>\n",
       "      <td>1.0</td>\n",
       "    </tr>\n",
       "    <tr>\n",
       "      <th>Groton</th>\n",
       "      <td>Groton Town Police Dept</td>\n",
       "      <td>CT</td>\n",
       "      <td>29.0</td>\n",
       "      <td>22.0</td>\n",
       "      <td>21.0</td>\n",
       "      <td>16.0</td>\n",
       "      <td>23.0</td>\n",
       "      <td>16.0</td>\n",
       "      <td>12.0</td>\n",
       "      <td>13.0</td>\n",
       "      <td>...</td>\n",
       "      <td>5.0</td>\n",
       "      <td>4.0</td>\n",
       "      <td>5.0</td>\n",
       "      <td>4.0</td>\n",
       "      <td>4.0</td>\n",
       "      <td>4.0</td>\n",
       "      <td>0.0</td>\n",
       "      <td>4.0</td>\n",
       "      <td>11.0</td>\n",
       "      <td>4.0</td>\n",
       "    </tr>\n",
       "    <tr>\n",
       "      <th>...</th>\n",
       "      <td>...</td>\n",
       "      <td>...</td>\n",
       "      <td>...</td>\n",
       "      <td>...</td>\n",
       "      <td>...</td>\n",
       "      <td>...</td>\n",
       "      <td>...</td>\n",
       "      <td>...</td>\n",
       "      <td>...</td>\n",
       "      <td>...</td>\n",
       "      <td>...</td>\n",
       "      <td>...</td>\n",
       "      <td>...</td>\n",
       "      <td>...</td>\n",
       "      <td>...</td>\n",
       "      <td>...</td>\n",
       "      <td>...</td>\n",
       "      <td>...</td>\n",
       "      <td>...</td>\n",
       "      <td>...</td>\n",
       "      <td>...</td>\n",
       "    </tr>\n",
       "    <tr>\n",
       "      <th>Rocky Hill</th>\n",
       "      <td>Rocky Hill Police Dept</td>\n",
       "      <td>CT</td>\n",
       "      <td>2.0</td>\n",
       "      <td>2.0</td>\n",
       "      <td>3.0</td>\n",
       "      <td>1.0</td>\n",
       "      <td>4.0</td>\n",
       "      <td>3.0</td>\n",
       "      <td>1.0</td>\n",
       "      <td>1.0</td>\n",
       "      <td>...</td>\n",
       "      <td>0.0</td>\n",
       "      <td>4.0</td>\n",
       "      <td>1.0</td>\n",
       "      <td>4.0</td>\n",
       "      <td>1.0</td>\n",
       "      <td>2.0</td>\n",
       "      <td>NaN</td>\n",
       "      <td>0.0</td>\n",
       "      <td>0.0</td>\n",
       "      <td>4.0</td>\n",
       "    </tr>\n",
       "    <tr>\n",
       "      <th>Seymour</th>\n",
       "      <td>Seymour Police Dept</td>\n",
       "      <td>CT</td>\n",
       "      <td>1.0</td>\n",
       "      <td>1.0</td>\n",
       "      <td>2.0</td>\n",
       "      <td>0.0</td>\n",
       "      <td>0.0</td>\n",
       "      <td>2.0</td>\n",
       "      <td>2.0</td>\n",
       "      <td>2.0</td>\n",
       "      <td>...</td>\n",
       "      <td>8.0</td>\n",
       "      <td>13.0</td>\n",
       "      <td>7.0</td>\n",
       "      <td>3.0</td>\n",
       "      <td>2.0</td>\n",
       "      <td>2.0</td>\n",
       "      <td>4.0</td>\n",
       "      <td>4.0</td>\n",
       "      <td>1.0</td>\n",
       "      <td>2.0</td>\n",
       "    </tr>\n",
       "    <tr>\n",
       "      <th>Shelton</th>\n",
       "      <td>Shelton Police Dept</td>\n",
       "      <td>CT</td>\n",
       "      <td>1.0</td>\n",
       "      <td>0.0</td>\n",
       "      <td>1.0</td>\n",
       "      <td>3.0</td>\n",
       "      <td>5.0</td>\n",
       "      <td>2.0</td>\n",
       "      <td>6.0</td>\n",
       "      <td>1.0</td>\n",
       "      <td>...</td>\n",
       "      <td>4.0</td>\n",
       "      <td>3.0</td>\n",
       "      <td>2.0</td>\n",
       "      <td>5.0</td>\n",
       "      <td>2.0</td>\n",
       "      <td>7.0</td>\n",
       "      <td>3.0</td>\n",
       "      <td>3.0</td>\n",
       "      <td>8.0</td>\n",
       "      <td>4.0</td>\n",
       "    </tr>\n",
       "    <tr>\n",
       "      <th>Simsbury</th>\n",
       "      <td>Simsbury Police Dept</td>\n",
       "      <td>CT</td>\n",
       "      <td>2.0</td>\n",
       "      <td>0.0</td>\n",
       "      <td>1.0</td>\n",
       "      <td>0.0</td>\n",
       "      <td>0.0</td>\n",
       "      <td>6.0</td>\n",
       "      <td>1.0</td>\n",
       "      <td>0.0</td>\n",
       "      <td>...</td>\n",
       "      <td>0.0</td>\n",
       "      <td>2.0</td>\n",
       "      <td>0.0</td>\n",
       "      <td>1.0</td>\n",
       "      <td>1.0</td>\n",
       "      <td>0.0</td>\n",
       "      <td>2.0</td>\n",
       "      <td>1.0</td>\n",
       "      <td>1.0</td>\n",
       "      <td>2.0</td>\n",
       "    </tr>\n",
       "    <tr>\n",
       "      <th>South Windsor</th>\n",
       "      <td>South Windsor Police Dept</td>\n",
       "      <td>CT</td>\n",
       "      <td>1.0</td>\n",
       "      <td>1.0</td>\n",
       "      <td>NaN</td>\n",
       "      <td>1.0</td>\n",
       "      <td>1.0</td>\n",
       "      <td>1.0</td>\n",
       "      <td>1.0</td>\n",
       "      <td>2.0</td>\n",
       "      <td>...</td>\n",
       "      <td>5.0</td>\n",
       "      <td>3.0</td>\n",
       "      <td>3.0</td>\n",
       "      <td>1.0</td>\n",
       "      <td>7.0</td>\n",
       "      <td>3.0</td>\n",
       "      <td>NaN</td>\n",
       "      <td>5.0</td>\n",
       "      <td>4.0</td>\n",
       "      <td>2.0</td>\n",
       "    </tr>\n",
       "    <tr>\n",
       "      <th>Southington</th>\n",
       "      <td>Southington Police Dept</td>\n",
       "      <td>CT</td>\n",
       "      <td>4.0</td>\n",
       "      <td>13.0</td>\n",
       "      <td>3.0</td>\n",
       "      <td>6.0</td>\n",
       "      <td>4.0</td>\n",
       "      <td>10.0</td>\n",
       "      <td>NaN</td>\n",
       "      <td>5.0</td>\n",
       "      <td>...</td>\n",
       "      <td>15.0</td>\n",
       "      <td>7.0</td>\n",
       "      <td>4.0</td>\n",
       "      <td>5.0</td>\n",
       "      <td>9.0</td>\n",
       "      <td>5.0</td>\n",
       "      <td>12.0</td>\n",
       "      <td>12.0</td>\n",
       "      <td>7.0</td>\n",
       "      <td>15.0</td>\n",
       "    </tr>\n",
       "    <tr>\n",
       "      <th>Stamford</th>\n",
       "      <td>Stamford Police Dept</td>\n",
       "      <td>CT</td>\n",
       "      <td>16.0</td>\n",
       "      <td>17.0</td>\n",
       "      <td>29.0</td>\n",
       "      <td>13.0</td>\n",
       "      <td>19.0</td>\n",
       "      <td>17.0</td>\n",
       "      <td>25.0</td>\n",
       "      <td>22.0</td>\n",
       "      <td>...</td>\n",
       "      <td>33.0</td>\n",
       "      <td>27.0</td>\n",
       "      <td>31.0</td>\n",
       "      <td>19.0</td>\n",
       "      <td>32.0</td>\n",
       "      <td>25.0</td>\n",
       "      <td>28.0</td>\n",
       "      <td>21.0</td>\n",
       "      <td>19.0</td>\n",
       "      <td>29.0</td>\n",
       "    </tr>\n",
       "    <tr>\n",
       "      <th>Stonington</th>\n",
       "      <td>Stonington Police Dept</td>\n",
       "      <td>CT</td>\n",
       "      <td>4.0</td>\n",
       "      <td>0.0</td>\n",
       "      <td>0.0</td>\n",
       "      <td>0.0</td>\n",
       "      <td>1.0</td>\n",
       "      <td>0.0</td>\n",
       "      <td>0.0</td>\n",
       "      <td>1.0</td>\n",
       "      <td>...</td>\n",
       "      <td>0.0</td>\n",
       "      <td>0.0</td>\n",
       "      <td>4.0</td>\n",
       "      <td>1.0</td>\n",
       "      <td>5.0</td>\n",
       "      <td>3.0</td>\n",
       "      <td>4.0</td>\n",
       "      <td>1.0</td>\n",
       "      <td>1.0</td>\n",
       "      <td>2.0</td>\n",
       "    </tr>\n",
       "    <tr>\n",
       "      <th>Stratford</th>\n",
       "      <td>Stratford Police Dept</td>\n",
       "      <td>CT</td>\n",
       "      <td>0.0</td>\n",
       "      <td>4.0</td>\n",
       "      <td>4.0</td>\n",
       "      <td>11.0</td>\n",
       "      <td>18.0</td>\n",
       "      <td>5.0</td>\n",
       "      <td>8.0</td>\n",
       "      <td>2.0</td>\n",
       "      <td>...</td>\n",
       "      <td>3.0</td>\n",
       "      <td>4.0</td>\n",
       "      <td>11.0</td>\n",
       "      <td>15.0</td>\n",
       "      <td>9.0</td>\n",
       "      <td>15.0</td>\n",
       "      <td>8.0</td>\n",
       "      <td>7.0</td>\n",
       "      <td>12.0</td>\n",
       "      <td>6.0</td>\n",
       "    </tr>\n",
       "    <tr>\n",
       "      <th>Suffield</th>\n",
       "      <td>Suffield Police Dept</td>\n",
       "      <td>CT</td>\n",
       "      <td>0.0</td>\n",
       "      <td>0.0</td>\n",
       "      <td>0.0</td>\n",
       "      <td>1.0</td>\n",
       "      <td>2.0</td>\n",
       "      <td>3.0</td>\n",
       "      <td>1.0</td>\n",
       "      <td>1.0</td>\n",
       "      <td>...</td>\n",
       "      <td>0.0</td>\n",
       "      <td>1.0</td>\n",
       "      <td>1.0</td>\n",
       "      <td>0.0</td>\n",
       "      <td>0.0</td>\n",
       "      <td>1.0</td>\n",
       "      <td>4.0</td>\n",
       "      <td>0.0</td>\n",
       "      <td>0.0</td>\n",
       "      <td>2.0</td>\n",
       "    </tr>\n",
       "    <tr>\n",
       "      <th>Thomaston</th>\n",
       "      <td>NaN</td>\n",
       "      <td>NaN</td>\n",
       "      <td>NaN</td>\n",
       "      <td>NaN</td>\n",
       "      <td>NaN</td>\n",
       "      <td>NaN</td>\n",
       "      <td>NaN</td>\n",
       "      <td>NaN</td>\n",
       "      <td>NaN</td>\n",
       "      <td>NaN</td>\n",
       "      <td>...</td>\n",
       "      <td>NaN</td>\n",
       "      <td>0.0</td>\n",
       "      <td>0.0</td>\n",
       "      <td>0.0</td>\n",
       "      <td>0.0</td>\n",
       "      <td>0.0</td>\n",
       "      <td>0.0</td>\n",
       "      <td>0.0</td>\n",
       "      <td>1.0</td>\n",
       "      <td>3.0</td>\n",
       "    </tr>\n",
       "    <tr>\n",
       "      <th>Torrington</th>\n",
       "      <td>Torrington Police Dept</td>\n",
       "      <td>CT</td>\n",
       "      <td>11.0</td>\n",
       "      <td>15.0</td>\n",
       "      <td>20.0</td>\n",
       "      <td>16.0</td>\n",
       "      <td>20.0</td>\n",
       "      <td>15.0</td>\n",
       "      <td>9.0</td>\n",
       "      <td>12.0</td>\n",
       "      <td>...</td>\n",
       "      <td>10.0</td>\n",
       "      <td>11.0</td>\n",
       "      <td>14.0</td>\n",
       "      <td>20.0</td>\n",
       "      <td>17.0</td>\n",
       "      <td>18.0</td>\n",
       "      <td>15.0</td>\n",
       "      <td>4.0</td>\n",
       "      <td>11.0</td>\n",
       "      <td>5.0</td>\n",
       "    </tr>\n",
       "    <tr>\n",
       "      <th>Trumbull</th>\n",
       "      <td>Trumbull Police Dept</td>\n",
       "      <td>CT</td>\n",
       "      <td>0.0</td>\n",
       "      <td>0.0</td>\n",
       "      <td>NaN</td>\n",
       "      <td>2.0</td>\n",
       "      <td>0.0</td>\n",
       "      <td>2.0</td>\n",
       "      <td>0.0</td>\n",
       "      <td>1.0</td>\n",
       "      <td>...</td>\n",
       "      <td>3.0</td>\n",
       "      <td>0.0</td>\n",
       "      <td>5.0</td>\n",
       "      <td>3.0</td>\n",
       "      <td>0.0</td>\n",
       "      <td>0.0</td>\n",
       "      <td>0.0</td>\n",
       "      <td>6.0</td>\n",
       "      <td>6.0</td>\n",
       "      <td>11.0</td>\n",
       "    </tr>\n",
       "    <tr>\n",
       "      <th>Vernon</th>\n",
       "      <td>Vernon Police Dept</td>\n",
       "      <td>CT</td>\n",
       "      <td>1.0</td>\n",
       "      <td>1.0</td>\n",
       "      <td>4.0</td>\n",
       "      <td>5.0</td>\n",
       "      <td>8.0</td>\n",
       "      <td>3.0</td>\n",
       "      <td>4.0</td>\n",
       "      <td>2.0</td>\n",
       "      <td>...</td>\n",
       "      <td>4.0</td>\n",
       "      <td>5.0</td>\n",
       "      <td>5.0</td>\n",
       "      <td>5.0</td>\n",
       "      <td>7.0</td>\n",
       "      <td>5.0</td>\n",
       "      <td>8.0</td>\n",
       "      <td>10.0</td>\n",
       "      <td>3.0</td>\n",
       "      <td>1.0</td>\n",
       "    </tr>\n",
       "    <tr>\n",
       "      <th>Wallingford</th>\n",
       "      <td>Wallingford Police Dept</td>\n",
       "      <td>CT</td>\n",
       "      <td>6.0</td>\n",
       "      <td>0.0</td>\n",
       "      <td>6.0</td>\n",
       "      <td>8.0</td>\n",
       "      <td>6.0</td>\n",
       "      <td>2.0</td>\n",
       "      <td>5.0</td>\n",
       "      <td>10.0</td>\n",
       "      <td>...</td>\n",
       "      <td>12.0</td>\n",
       "      <td>6.0</td>\n",
       "      <td>7.0</td>\n",
       "      <td>4.0</td>\n",
       "      <td>2.0</td>\n",
       "      <td>2.0</td>\n",
       "      <td>5.0</td>\n",
       "      <td>1.0</td>\n",
       "      <td>5.0</td>\n",
       "      <td>2.0</td>\n",
       "    </tr>\n",
       "    <tr>\n",
       "      <th>Waterbury</th>\n",
       "      <td>Waterbury Police Dept</td>\n",
       "      <td>CT</td>\n",
       "      <td>35.0</td>\n",
       "      <td>22.0</td>\n",
       "      <td>37.0</td>\n",
       "      <td>28.0</td>\n",
       "      <td>31.0</td>\n",
       "      <td>32.0</td>\n",
       "      <td>32.0</td>\n",
       "      <td>61.0</td>\n",
       "      <td>...</td>\n",
       "      <td>18.0</td>\n",
       "      <td>19.0</td>\n",
       "      <td>15.0</td>\n",
       "      <td>6.0</td>\n",
       "      <td>9.0</td>\n",
       "      <td>7.0</td>\n",
       "      <td>NaN</td>\n",
       "      <td>34.0</td>\n",
       "      <td>32.0</td>\n",
       "      <td>29.0</td>\n",
       "    </tr>\n",
       "    <tr>\n",
       "      <th>Waterford</th>\n",
       "      <td>Waterford Police Dept</td>\n",
       "      <td>CT</td>\n",
       "      <td>0.0</td>\n",
       "      <td>0.0</td>\n",
       "      <td>1.0</td>\n",
       "      <td>3.0</td>\n",
       "      <td>6.0</td>\n",
       "      <td>1.0</td>\n",
       "      <td>3.0</td>\n",
       "      <td>9.0</td>\n",
       "      <td>...</td>\n",
       "      <td>4.0</td>\n",
       "      <td>4.0</td>\n",
       "      <td>3.0</td>\n",
       "      <td>4.0</td>\n",
       "      <td>1.0</td>\n",
       "      <td>0.0</td>\n",
       "      <td>0.0</td>\n",
       "      <td>9.0</td>\n",
       "      <td>8.0</td>\n",
       "      <td>9.0</td>\n",
       "    </tr>\n",
       "    <tr>\n",
       "      <th>Watertown</th>\n",
       "      <td>Watertown Police Dept</td>\n",
       "      <td>CT</td>\n",
       "      <td>3.0</td>\n",
       "      <td>4.0</td>\n",
       "      <td>2.0</td>\n",
       "      <td>4.0</td>\n",
       "      <td>2.0</td>\n",
       "      <td>2.0</td>\n",
       "      <td>7.0</td>\n",
       "      <td>1.0</td>\n",
       "      <td>...</td>\n",
       "      <td>0.0</td>\n",
       "      <td>4.0</td>\n",
       "      <td>6.0</td>\n",
       "      <td>3.0</td>\n",
       "      <td>3.0</td>\n",
       "      <td>4.0</td>\n",
       "      <td>4.0</td>\n",
       "      <td>4.0</td>\n",
       "      <td>3.0</td>\n",
       "      <td>1.0</td>\n",
       "    </tr>\n",
       "    <tr>\n",
       "      <th>West Hartford</th>\n",
       "      <td>West Hartford Police Dept</td>\n",
       "      <td>CT</td>\n",
       "      <td>5.0</td>\n",
       "      <td>2.0</td>\n",
       "      <td>3.0</td>\n",
       "      <td>7.0</td>\n",
       "      <td>8.0</td>\n",
       "      <td>4.0</td>\n",
       "      <td>8.0</td>\n",
       "      <td>5.0</td>\n",
       "      <td>...</td>\n",
       "      <td>2.0</td>\n",
       "      <td>4.0</td>\n",
       "      <td>6.0</td>\n",
       "      <td>2.0</td>\n",
       "      <td>4.0</td>\n",
       "      <td>2.0</td>\n",
       "      <td>2.0</td>\n",
       "      <td>1.0</td>\n",
       "      <td>2.0</td>\n",
       "      <td>2.0</td>\n",
       "    </tr>\n",
       "    <tr>\n",
       "      <th>West Haven</th>\n",
       "      <td>West Haven Police Dept</td>\n",
       "      <td>CT</td>\n",
       "      <td>9.0</td>\n",
       "      <td>8.0</td>\n",
       "      <td>16.0</td>\n",
       "      <td>13.0</td>\n",
       "      <td>6.0</td>\n",
       "      <td>17.0</td>\n",
       "      <td>11.0</td>\n",
       "      <td>11.0</td>\n",
       "      <td>...</td>\n",
       "      <td>1.0</td>\n",
       "      <td>0.0</td>\n",
       "      <td>0.0</td>\n",
       "      <td>1.0</td>\n",
       "      <td>0.0</td>\n",
       "      <td>1.0</td>\n",
       "      <td>NaN</td>\n",
       "      <td>0.0</td>\n",
       "      <td>7.0</td>\n",
       "      <td>15.0</td>\n",
       "    </tr>\n",
       "    <tr>\n",
       "      <th>Weston</th>\n",
       "      <td>Weston Police Dept</td>\n",
       "      <td>CT</td>\n",
       "      <td>0.0</td>\n",
       "      <td>0.0</td>\n",
       "      <td>0.0</td>\n",
       "      <td>0.0</td>\n",
       "      <td>0.0</td>\n",
       "      <td>0.0</td>\n",
       "      <td>0.0</td>\n",
       "      <td>1.0</td>\n",
       "      <td>...</td>\n",
       "      <td>0.0</td>\n",
       "      <td>0.0</td>\n",
       "      <td>0.0</td>\n",
       "      <td>1.0</td>\n",
       "      <td>0.0</td>\n",
       "      <td>0.0</td>\n",
       "      <td>1.0</td>\n",
       "      <td>0.0</td>\n",
       "      <td>0.0</td>\n",
       "      <td>0.0</td>\n",
       "    </tr>\n",
       "    <tr>\n",
       "      <th>Westport</th>\n",
       "      <td>Westport Police Dept</td>\n",
       "      <td>CT</td>\n",
       "      <td>0.0</td>\n",
       "      <td>1.0</td>\n",
       "      <td>1.0</td>\n",
       "      <td>0.0</td>\n",
       "      <td>2.0</td>\n",
       "      <td>1.0</td>\n",
       "      <td>0.0</td>\n",
       "      <td>1.0</td>\n",
       "      <td>...</td>\n",
       "      <td>0.0</td>\n",
       "      <td>2.0</td>\n",
       "      <td>1.0</td>\n",
       "      <td>2.0</td>\n",
       "      <td>3.0</td>\n",
       "      <td>0.0</td>\n",
       "      <td>0.0</td>\n",
       "      <td>0.0</td>\n",
       "      <td>0.0</td>\n",
       "      <td>1.0</td>\n",
       "    </tr>\n",
       "    <tr>\n",
       "      <th>Wethersfield</th>\n",
       "      <td>Wethersfield Police Dept</td>\n",
       "      <td>CT</td>\n",
       "      <td>4.0</td>\n",
       "      <td>2.0</td>\n",
       "      <td>4.0</td>\n",
       "      <td>3.0</td>\n",
       "      <td>2.0</td>\n",
       "      <td>2.0</td>\n",
       "      <td>4.0</td>\n",
       "      <td>6.0</td>\n",
       "      <td>...</td>\n",
       "      <td>3.0</td>\n",
       "      <td>4.0</td>\n",
       "      <td>5.0</td>\n",
       "      <td>1.0</td>\n",
       "      <td>9.0</td>\n",
       "      <td>1.0</td>\n",
       "      <td>3.0</td>\n",
       "      <td>3.0</td>\n",
       "      <td>3.0</td>\n",
       "      <td>NaN</td>\n",
       "    </tr>\n",
       "    <tr>\n",
       "      <th>Willimantic</th>\n",
       "      <td>Willimantic Police Dept</td>\n",
       "      <td>CT</td>\n",
       "      <td>6.0</td>\n",
       "      <td>6.0</td>\n",
       "      <td>8.0</td>\n",
       "      <td>2.0</td>\n",
       "      <td>4.0</td>\n",
       "      <td>1.0</td>\n",
       "      <td>0.0</td>\n",
       "      <td>0.0</td>\n",
       "      <td>...</td>\n",
       "      <td>8.0</td>\n",
       "      <td>6.0</td>\n",
       "      <td>6.0</td>\n",
       "      <td>9.0</td>\n",
       "      <td>1.0</td>\n",
       "      <td>1.0</td>\n",
       "      <td>5.0</td>\n",
       "      <td>4.0</td>\n",
       "      <td>0.0</td>\n",
       "      <td>5.0</td>\n",
       "    </tr>\n",
       "    <tr>\n",
       "      <th>Wilton</th>\n",
       "      <td>Wilton Police Dept</td>\n",
       "      <td>CT</td>\n",
       "      <td>0.0</td>\n",
       "      <td>0.0</td>\n",
       "      <td>0.0</td>\n",
       "      <td>0.0</td>\n",
       "      <td>0.0</td>\n",
       "      <td>0.0</td>\n",
       "      <td>0.0</td>\n",
       "      <td>0.0</td>\n",
       "      <td>...</td>\n",
       "      <td>0.0</td>\n",
       "      <td>0.0</td>\n",
       "      <td>0.0</td>\n",
       "      <td>0.0</td>\n",
       "      <td>0.0</td>\n",
       "      <td>0.0</td>\n",
       "      <td>0.0</td>\n",
       "      <td>0.0</td>\n",
       "      <td>0.0</td>\n",
       "      <td>1.0</td>\n",
       "    </tr>\n",
       "    <tr>\n",
       "      <th>Winchester</th>\n",
       "      <td>Winchester Town Police Dept</td>\n",
       "      <td>CT</td>\n",
       "      <td>0.0</td>\n",
       "      <td>1.0</td>\n",
       "      <td>0.0</td>\n",
       "      <td>5.0</td>\n",
       "      <td>0.0</td>\n",
       "      <td>0.0</td>\n",
       "      <td>0.0</td>\n",
       "      <td>0.0</td>\n",
       "      <td>...</td>\n",
       "      <td>3.0</td>\n",
       "      <td>3.0</td>\n",
       "      <td>4.0</td>\n",
       "      <td>3.0</td>\n",
       "      <td>4.0</td>\n",
       "      <td>2.0</td>\n",
       "      <td>3.0</td>\n",
       "      <td>0.0</td>\n",
       "      <td>3.0</td>\n",
       "      <td>2.0</td>\n",
       "    </tr>\n",
       "    <tr>\n",
       "      <th>Windsor</th>\n",
       "      <td>Windsor Police Dept</td>\n",
       "      <td>CT</td>\n",
       "      <td>8.0</td>\n",
       "      <td>21.0</td>\n",
       "      <td>12.0</td>\n",
       "      <td>6.0</td>\n",
       "      <td>12.0</td>\n",
       "      <td>12.0</td>\n",
       "      <td>7.0</td>\n",
       "      <td>7.0</td>\n",
       "      <td>...</td>\n",
       "      <td>3.0</td>\n",
       "      <td>6.0</td>\n",
       "      <td>7.0</td>\n",
       "      <td>3.0</td>\n",
       "      <td>9.0</td>\n",
       "      <td>4.0</td>\n",
       "      <td>3.0</td>\n",
       "      <td>2.0</td>\n",
       "      <td>2.0</td>\n",
       "      <td>7.0</td>\n",
       "    </tr>\n",
       "    <tr>\n",
       "      <th>Windsor Locks</th>\n",
       "      <td>Windsor Locks Police Dept</td>\n",
       "      <td>CT</td>\n",
       "      <td>1.0</td>\n",
       "      <td>2.0</td>\n",
       "      <td>4.0</td>\n",
       "      <td>3.0</td>\n",
       "      <td>0.0</td>\n",
       "      <td>1.0</td>\n",
       "      <td>2.0</td>\n",
       "      <td>3.0</td>\n",
       "      <td>...</td>\n",
       "      <td>5.0</td>\n",
       "      <td>5.0</td>\n",
       "      <td>4.0</td>\n",
       "      <td>NaN</td>\n",
       "      <td>0.0</td>\n",
       "      <td>2.0</td>\n",
       "      <td>7.0</td>\n",
       "      <td>4.0</td>\n",
       "      <td>1.0</td>\n",
       "      <td>5.0</td>\n",
       "    </tr>\n",
       "    <tr>\n",
       "      <th>Wolcott</th>\n",
       "      <td>Wolcott Police Dept</td>\n",
       "      <td>CT</td>\n",
       "      <td>1.0</td>\n",
       "      <td>0.0</td>\n",
       "      <td>0.0</td>\n",
       "      <td>0.0</td>\n",
       "      <td>0.0</td>\n",
       "      <td>0.0</td>\n",
       "      <td>5.0</td>\n",
       "      <td>8.0</td>\n",
       "      <td>...</td>\n",
       "      <td>2.0</td>\n",
       "      <td>0.0</td>\n",
       "      <td>0.0</td>\n",
       "      <td>1.0</td>\n",
       "      <td>2.0</td>\n",
       "      <td>1.0</td>\n",
       "      <td>2.0</td>\n",
       "      <td>0.0</td>\n",
       "      <td>0.0</td>\n",
       "      <td>0.0</td>\n",
       "    </tr>\n",
       "    <tr>\n",
       "      <th>Woodbridge</th>\n",
       "      <td>NaN</td>\n",
       "      <td>NaN</td>\n",
       "      <td>NaN</td>\n",
       "      <td>NaN</td>\n",
       "      <td>NaN</td>\n",
       "      <td>NaN</td>\n",
       "      <td>NaN</td>\n",
       "      <td>NaN</td>\n",
       "      <td>NaN</td>\n",
       "      <td>NaN</td>\n",
       "      <td>...</td>\n",
       "      <td>0.0</td>\n",
       "      <td>0.0</td>\n",
       "      <td>0.0</td>\n",
       "      <td>0.0</td>\n",
       "      <td>0.0</td>\n",
       "      <td>1.0</td>\n",
       "      <td>0.0</td>\n",
       "      <td>1.0</td>\n",
       "      <td>0.0</td>\n",
       "      <td>0.0</td>\n",
       "    </tr>\n",
       "  </tbody>\n",
       "</table>\n",
       "<p>93 rows × 44 columns</p>\n",
       "</div>"
      ],
      "text/plain": [
       "                                    Agency  State    1985    1986    1987  \\\n",
       "City                                                                        \n",
       "Agency                              Agency  State  1985.0  1986.0  1987.0   \n",
       "Ansonia                Ansonia Police Dept     CT    33.0     5.0     1.0   \n",
       "Avon                      Avon Police Dept     CT     0.0     0.0     2.0   \n",
       "Berlin                  Berlin Police Dept     CT     0.0     1.0     2.0   \n",
       "Bethel                  Bethel Police Dept     CT     3.0     4.0     4.0   \n",
       "Bloomfield          Bloomfield Police Dept     CT     3.0     5.0     5.0   \n",
       "Branford              Branford Police Dept     CT     0.0     2.0     3.0   \n",
       "Bridgeport          Bridgeport Police Dept     CT    57.0    75.0    58.0   \n",
       "Bristol                Bristol Police Dept     CT     4.0     2.0     6.0   \n",
       "Brookfield          Brookfield Police Dept     CT     2.0     3.0     1.0   \n",
       "Canton             Canton Town Police Dept     CT     0.0     0.0     0.0   \n",
       "Cheshire              Cheshire Police Dept     CT     2.0     3.0     2.0   \n",
       "Clinton                Clinton Police Dept     CT     0.0     0.0     0.0   \n",
       "Coventry              Coventry Police Dept     CT     0.0     2.0     5.0   \n",
       "Cromwell              Cromwell Police Dept     CT     2.0     1.0     0.0   \n",
       "Danbury                Danbury Police Dept     CT    17.0    13.0    17.0   \n",
       "Darien                  Darien Police Dept     CT     0.0     3.0     0.0   \n",
       "Derby                    Derby Police Dept     CT     4.0     1.0     2.0   \n",
       "East Hampton      East Hampton Police Dept     CT     1.0     1.0     3.0   \n",
       "East Hartford         East Hartford Police     CT    18.0    13.0     NaN   \n",
       "East Haven          East Haven Police Dept     CT     2.0     1.0     1.0   \n",
       "East Windsor      East Windsor Police Dept     CT     2.0     0.0     0.0   \n",
       "Easton                                 NaN    NaN     NaN     NaN     NaN   \n",
       "Enfield                Enfield Police Dept     CT     6.0     6.0     1.0   \n",
       "Fairfield            Fairfield Police Dept     CT     0.0     4.0     2.0   \n",
       "Farmington          Farmington Police Dept     CT     1.0     1.0     0.0   \n",
       "Glastonbury        Glastonbury Police Dept     CT     0.0     2.0     0.0   \n",
       "Granby                  Granby Police Dept     CT     0.0     0.0     1.0   \n",
       "Greenwich            Greenwich Police Dept     CT     2.0     0.0     2.0   \n",
       "Groton             Groton Town Police Dept     CT    29.0    22.0    21.0   \n",
       "...                                    ...    ...     ...     ...     ...   \n",
       "Rocky Hill          Rocky Hill Police Dept     CT     2.0     2.0     3.0   \n",
       "Seymour                Seymour Police Dept     CT     1.0     1.0     2.0   \n",
       "Shelton                Shelton Police Dept     CT     1.0     0.0     1.0   \n",
       "Simsbury              Simsbury Police Dept     CT     2.0     0.0     1.0   \n",
       "South Windsor    South Windsor Police Dept     CT     1.0     1.0     NaN   \n",
       "Southington        Southington Police Dept     CT     4.0    13.0     3.0   \n",
       "Stamford              Stamford Police Dept     CT    16.0    17.0    29.0   \n",
       "Stonington          Stonington Police Dept     CT     4.0     0.0     0.0   \n",
       "Stratford            Stratford Police Dept     CT     0.0     4.0     4.0   \n",
       "Suffield              Suffield Police Dept     CT     0.0     0.0     0.0   \n",
       "Thomaston                              NaN    NaN     NaN     NaN     NaN   \n",
       "Torrington          Torrington Police Dept     CT    11.0    15.0    20.0   \n",
       "Trumbull              Trumbull Police Dept     CT     0.0     0.0     NaN   \n",
       "Vernon                  Vernon Police Dept     CT     1.0     1.0     4.0   \n",
       "Wallingford        Wallingford Police Dept     CT     6.0     0.0     6.0   \n",
       "Waterbury            Waterbury Police Dept     CT    35.0    22.0    37.0   \n",
       "Waterford            Waterford Police Dept     CT     0.0     0.0     1.0   \n",
       "Watertown            Watertown Police Dept     CT     3.0     4.0     2.0   \n",
       "West Hartford    West Hartford Police Dept     CT     5.0     2.0     3.0   \n",
       "West Haven          West Haven Police Dept     CT     9.0     8.0    16.0   \n",
       "Weston                  Weston Police Dept     CT     0.0     0.0     0.0   \n",
       "Westport              Westport Police Dept     CT     0.0     1.0     1.0   \n",
       "Wethersfield      Wethersfield Police Dept     CT     4.0     2.0     4.0   \n",
       "Willimantic        Willimantic Police Dept     CT     6.0     6.0     8.0   \n",
       "Wilton                  Wilton Police Dept     CT     0.0     0.0     0.0   \n",
       "Winchester     Winchester Town Police Dept     CT     0.0     1.0     0.0   \n",
       "Windsor                Windsor Police Dept     CT     8.0    21.0    12.0   \n",
       "Windsor Locks    Windsor Locks Police Dept     CT     1.0     2.0     4.0   \n",
       "Wolcott                Wolcott Police Dept     CT     1.0     0.0     0.0   \n",
       "Woodbridge                             NaN    NaN     NaN     NaN     NaN   \n",
       "\n",
       "                 1988    1989    1990    1991    1992  ...   2007_new  \\\n",
       "City                                                   ...              \n",
       "Agency         1988.0  1989.0  1990.0  1991.0  1992.0  ...        NaN   \n",
       "Ansonia           5.0     4.0     1.0    10.0     3.0  ...        3.0   \n",
       "Avon              0.0     3.0     2.0     1.0     0.0  ...        0.0   \n",
       "Berlin            0.0     0.0     0.0     0.0     0.0  ...        1.0   \n",
       "Bethel            3.0     3.0     4.0    11.0     1.0  ...        2.0   \n",
       "Bloomfield        6.0     2.0     6.0     3.0     4.0  ...        9.0   \n",
       "Branford          0.0     4.0     1.0     4.0     4.0  ...        6.0   \n",
       "Bridgeport       90.0    70.0    79.0    82.0    74.0  ...       77.0   \n",
       "Bristol           3.0     5.0    12.0     6.0     2.0  ...       12.0   \n",
       "Brookfield        1.0     4.0     2.0     2.0     1.0  ...        0.0   \n",
       "Canton            1.0     0.0     1.0     0.0     1.0  ...        2.0   \n",
       "Cheshire          0.0     4.0     0.0     3.0     0.0  ...        1.0   \n",
       "Clinton           0.0     0.0     0.0     0.0     0.0  ...        5.0   \n",
       "Coventry          3.0     1.0     0.0     1.0     0.0  ...        1.0   \n",
       "Cromwell          1.0     0.0     2.0     1.0     1.0  ...        3.0   \n",
       "Danbury          15.0    20.0    14.0    20.0    12.0  ...       20.0   \n",
       "Darien            1.0     0.0     1.0     0.0     1.0  ...        0.0   \n",
       "Derby             1.0     4.0     3.0     3.0     0.0  ...        2.0   \n",
       "East Hampton      0.0     1.0     0.0     0.0     2.0  ...        0.0   \n",
       "East Hartford    10.0    15.0    16.0    10.0    14.0  ...       15.0   \n",
       "East Haven        1.0     2.0     0.0     4.0     2.0  ...        6.0   \n",
       "East Windsor      1.0     2.0     2.0     3.0     2.0  ...        4.0   \n",
       "Easton            NaN     NaN     NaN     NaN     NaN  ...        0.0   \n",
       "Enfield           4.0     4.0     6.0     5.0     4.0  ...        9.0   \n",
       "Fairfield         1.0     0.0     1.0     1.0     0.0  ...        2.0   \n",
       "Farmington        2.0     2.0     6.0     1.0     3.0  ...        0.0   \n",
       "Glastonbury       0.0     1.0     3.0     0.0     2.0  ...        2.0   \n",
       "Granby            0.0     0.0     0.0     1.0     2.0  ...        6.0   \n",
       "Greenwich         0.0     1.0     1.0     6.0     2.0  ...        1.0   \n",
       "Groton           16.0    23.0    16.0    12.0    13.0  ...        5.0   \n",
       "...               ...     ...     ...     ...     ...  ...        ...   \n",
       "Rocky Hill        1.0     4.0     3.0     1.0     1.0  ...        0.0   \n",
       "Seymour           0.0     0.0     2.0     2.0     2.0  ...        8.0   \n",
       "Shelton           3.0     5.0     2.0     6.0     1.0  ...        4.0   \n",
       "Simsbury          0.0     0.0     6.0     1.0     0.0  ...        0.0   \n",
       "South Windsor     1.0     1.0     1.0     1.0     2.0  ...        5.0   \n",
       "Southington       6.0     4.0    10.0     NaN     5.0  ...       15.0   \n",
       "Stamford         13.0    19.0    17.0    25.0    22.0  ...       33.0   \n",
       "Stonington        0.0     1.0     0.0     0.0     1.0  ...        0.0   \n",
       "Stratford        11.0    18.0     5.0     8.0     2.0  ...        3.0   \n",
       "Suffield          1.0     2.0     3.0     1.0     1.0  ...        0.0   \n",
       "Thomaston         NaN     NaN     NaN     NaN     NaN  ...        NaN   \n",
       "Torrington       16.0    20.0    15.0     9.0    12.0  ...       10.0   \n",
       "Trumbull          2.0     0.0     2.0     0.0     1.0  ...        3.0   \n",
       "Vernon            5.0     8.0     3.0     4.0     2.0  ...        4.0   \n",
       "Wallingford       8.0     6.0     2.0     5.0    10.0  ...       12.0   \n",
       "Waterbury        28.0    31.0    32.0    32.0    61.0  ...       18.0   \n",
       "Waterford         3.0     6.0     1.0     3.0     9.0  ...        4.0   \n",
       "Watertown         4.0     2.0     2.0     7.0     1.0  ...        0.0   \n",
       "West Hartford     7.0     8.0     4.0     8.0     5.0  ...        2.0   \n",
       "West Haven       13.0     6.0    17.0    11.0    11.0  ...        1.0   \n",
       "Weston            0.0     0.0     0.0     0.0     1.0  ...        0.0   \n",
       "Westport          0.0     2.0     1.0     0.0     1.0  ...        0.0   \n",
       "Wethersfield      3.0     2.0     2.0     4.0     6.0  ...        3.0   \n",
       "Willimantic       2.0     4.0     1.0     0.0     0.0  ...        8.0   \n",
       "Wilton            0.0     0.0     0.0     0.0     0.0  ...        0.0   \n",
       "Winchester        5.0     0.0     0.0     0.0     0.0  ...        3.0   \n",
       "Windsor           6.0    12.0    12.0     7.0     7.0  ...        3.0   \n",
       "Windsor Locks     3.0     0.0     1.0     2.0     3.0  ...        5.0   \n",
       "Wolcott           0.0     0.0     0.0     5.0     8.0  ...        2.0   \n",
       "Woodbridge        NaN     NaN     NaN     NaN     NaN  ...        0.0   \n",
       "\n",
       "               2008_new  2009_new  2010_new  2011_new  2012_new  2013_new  \\\n",
       "City                                                                        \n",
       "Agency              NaN       NaN       NaN       NaN       NaN       NaN   \n",
       "Ansonia             3.0       4.0       2.0       3.0       4.0       5.0   \n",
       "Avon                1.0       3.0       1.0       0.0       2.0       8.0   \n",
       "Berlin              2.0       1.0       2.0       1.0       0.0       5.0   \n",
       "Bethel              0.0       0.0       1.0       0.0       3.0       2.0   \n",
       "Bloomfield          4.0      12.0       3.0       6.0       5.0       9.0   \n",
       "Branford           13.0       0.0       0.0       0.0       0.0       0.0   \n",
       "Bridgeport         58.0      58.0      57.0     116.0     388.0       NaN   \n",
       "Bristol            27.0      26.0      27.0      10.0       9.0      15.0   \n",
       "Brookfield          1.0       0.0       0.0       1.0       0.0       0.0   \n",
       "Canton              0.0       0.0       0.0       1.0       1.0       2.0   \n",
       "Cheshire            0.0       0.0       0.0       0.0       0.0       0.0   \n",
       "Clinton             7.0       3.0       7.0       7.0      16.0       6.0   \n",
       "Coventry            1.0       4.0       1.0       5.0       2.0       1.0   \n",
       "Cromwell            0.0       2.0       1.0       1.0       1.0       0.0   \n",
       "Danbury            15.0      25.0      21.0      34.0      23.0       NaN   \n",
       "Darien              0.0       0.0       0.0       0.0       0.0       0.0   \n",
       "Derby               6.0       4.0       2.0       1.0       8.0       2.0   \n",
       "East Hampton        2.0       0.0       0.0       2.0       1.0       0.0   \n",
       "East Hartford      22.0      13.0      20.0      22.0      26.0      31.0   \n",
       "East Haven          4.0       3.0       3.0       0.0       6.0       3.0   \n",
       "East Windsor        3.0       2.0       2.0       3.0       7.0       3.0   \n",
       "Easton              0.0       0.0       0.0       0.0       0.0       0.0   \n",
       "Enfield             0.0       0.0       NaN       NaN       0.0       NaN   \n",
       "Fairfield           5.0       2.0       2.0       1.0       2.0       5.0   \n",
       "Farmington          0.0       5.0       6.0       0.0       2.0       3.0   \n",
       "Glastonbury         3.0       3.0       1.0       2.0       3.0       0.0   \n",
       "Granby              2.0       2.0       1.0       4.0       0.0       2.0   \n",
       "Greenwich           2.0       2.0       1.0       3.0       2.0       2.0   \n",
       "Groton              4.0       5.0       4.0       4.0       4.0       0.0   \n",
       "...                 ...       ...       ...       ...       ...       ...   \n",
       "Rocky Hill          4.0       1.0       4.0       1.0       2.0       NaN   \n",
       "Seymour            13.0       7.0       3.0       2.0       2.0       4.0   \n",
       "Shelton             3.0       2.0       5.0       2.0       7.0       3.0   \n",
       "Simsbury            2.0       0.0       1.0       1.0       0.0       2.0   \n",
       "South Windsor       3.0       3.0       1.0       7.0       3.0       NaN   \n",
       "Southington         7.0       4.0       5.0       9.0       5.0      12.0   \n",
       "Stamford           27.0      31.0      19.0      32.0      25.0      28.0   \n",
       "Stonington          0.0       4.0       1.0       5.0       3.0       4.0   \n",
       "Stratford           4.0      11.0      15.0       9.0      15.0       8.0   \n",
       "Suffield            1.0       1.0       0.0       0.0       1.0       4.0   \n",
       "Thomaston           0.0       0.0       0.0       0.0       0.0       0.0   \n",
       "Torrington         11.0      14.0      20.0      17.0      18.0      15.0   \n",
       "Trumbull            0.0       5.0       3.0       0.0       0.0       0.0   \n",
       "Vernon              5.0       5.0       5.0       7.0       5.0       8.0   \n",
       "Wallingford         6.0       7.0       4.0       2.0       2.0       5.0   \n",
       "Waterbury          19.0      15.0       6.0       9.0       7.0       NaN   \n",
       "Waterford           4.0       3.0       4.0       1.0       0.0       0.0   \n",
       "Watertown           4.0       6.0       3.0       3.0       4.0       4.0   \n",
       "West Hartford       4.0       6.0       2.0       4.0       2.0       2.0   \n",
       "West Haven          0.0       0.0       1.0       0.0       1.0       NaN   \n",
       "Weston              0.0       0.0       1.0       0.0       0.0       1.0   \n",
       "Westport            2.0       1.0       2.0       3.0       0.0       0.0   \n",
       "Wethersfield        4.0       5.0       1.0       9.0       1.0       3.0   \n",
       "Willimantic         6.0       6.0       9.0       1.0       1.0       5.0   \n",
       "Wilton              0.0       0.0       0.0       0.0       0.0       0.0   \n",
       "Winchester          3.0       4.0       3.0       4.0       2.0       3.0   \n",
       "Windsor             6.0       7.0       3.0       9.0       4.0       3.0   \n",
       "Windsor Locks       5.0       4.0       NaN       0.0       2.0       7.0   \n",
       "Wolcott             0.0       0.0       1.0       2.0       1.0       2.0   \n",
       "Woodbridge          0.0       0.0       0.0       0.0       1.0       0.0   \n",
       "\n",
       "               2014_new  2015  2016  \n",
       "City                                 \n",
       "Agency              NaN   NaN   NaN  \n",
       "Ansonia             6.0   5.0   2.0  \n",
       "Avon                1.0   1.0   0.0  \n",
       "Berlin              3.0   2.0   3.0  \n",
       "Bethel              0.0   4.0   0.0  \n",
       "Bloomfield          6.0   8.0   9.0  \n",
       "Branford            0.0   0.0   2.0  \n",
       "Bridgeport         92.0  80.0  69.0  \n",
       "Bristol            11.0  11.0  10.0  \n",
       "Brookfield          0.0   0.0   0.0  \n",
       "Canton              1.0   0.0   0.0  \n",
       "Cheshire            0.0   1.0   2.0  \n",
       "Clinton             7.0   5.0   7.0  \n",
       "Coventry            6.0   1.0   1.0  \n",
       "Cromwell            2.0   0.0   0.0  \n",
       "Danbury            31.0  45.0  30.0  \n",
       "Darien              2.0   0.0   0.0  \n",
       "Derby               3.0   4.0   6.0  \n",
       "East Hampton        1.0   2.0   0.0  \n",
       "East Hartford      24.0  24.0  26.0  \n",
       "East Haven          8.0   2.0   4.0  \n",
       "East Windsor        5.0   9.0   3.0  \n",
       "Easton              0.0   0.0   0.0  \n",
       "Enfield             1.0  10.0   7.0  \n",
       "Fairfield           4.0   4.0   3.0  \n",
       "Farmington          6.0   3.0   4.0  \n",
       "Glastonbury         1.0   0.0   NaN  \n",
       "Granby              1.0   1.0   0.0  \n",
       "Greenwich           2.0   1.0   1.0  \n",
       "Groton              4.0  11.0   4.0  \n",
       "...                 ...   ...   ...  \n",
       "Rocky Hill          0.0   0.0   4.0  \n",
       "Seymour             4.0   1.0   2.0  \n",
       "Shelton             3.0   8.0   4.0  \n",
       "Simsbury            1.0   1.0   2.0  \n",
       "South Windsor       5.0   4.0   2.0  \n",
       "Southington        12.0   7.0  15.0  \n",
       "Stamford           21.0  19.0  29.0  \n",
       "Stonington          1.0   1.0   2.0  \n",
       "Stratford           7.0  12.0   6.0  \n",
       "Suffield            0.0   0.0   2.0  \n",
       "Thomaston           0.0   1.0   3.0  \n",
       "Torrington          4.0  11.0   5.0  \n",
       "Trumbull            6.0   6.0  11.0  \n",
       "Vernon             10.0   3.0   1.0  \n",
       "Wallingford         1.0   5.0   2.0  \n",
       "Waterbury          34.0  32.0  29.0  \n",
       "Waterford           9.0   8.0   9.0  \n",
       "Watertown           4.0   3.0   1.0  \n",
       "West Hartford       1.0   2.0   2.0  \n",
       "West Haven          0.0   7.0  15.0  \n",
       "Weston              0.0   0.0   0.0  \n",
       "Westport            0.0   0.0   1.0  \n",
       "Wethersfield        3.0   3.0   NaN  \n",
       "Willimantic         4.0   0.0   5.0  \n",
       "Wilton              0.0   0.0   1.0  \n",
       "Winchester          0.0   3.0   2.0  \n",
       "Windsor             2.0   2.0   7.0  \n",
       "Windsor Locks       4.0   1.0   5.0  \n",
       "Wolcott             0.0   0.0   0.0  \n",
       "Woodbridge          1.0   0.0   0.0  \n",
       "\n",
       "[93 rows x 44 columns]"
      ]
     },
     "execution_count": 67,
     "metadata": {},
     "output_type": "execute_result"
    }
   ],
   "source": [
    "def make_hist_table(topic):\n",
    "    \n",
    "    try:\n",
    "\n",
    "        return add_checks(add_history(make_frame(col_labels[topic]),\n",
    "                                      hist_dfs[topic]))\n",
    "    except:\n",
    "        # fall back if can't get history data. arson doesn't have it\n",
    "        return make_frame(col_labels[topic])\n",
    "    \n",
    "\n",
    "#make_hist_table(\"rape\")\n",
    "\n",
    "add_history(make_frame(col_labels[\"rape\"]),\n",
    "                       hist_dfs[\"rape\"])#.index.unique()"
   ]
  },
  {
   "cell_type": "code",
   "execution_count": 68,
   "metadata": {},
   "outputs": [
    {
     "name": "stdout",
     "output_type": "stream",
     "text": [
      "larceny\n",
      "Index([u'2006', u'2007', u'2008', u'2009', u'2010', u'2011', u'2012', u'2013',\n",
      "       u'2014', u'2015', u'2016', u'2017'],\n",
      "      dtype='object')\n",
      "Index([u'Agency', u'State', u'1985', u'1986', u'1987', u'1988', u'1989',\n",
      "       u'1990', u'1991', u'1992', u'1993', u'1994', u'1995', u'1996', u'1997',\n",
      "       u'1998', u'1999', u'2000', u'2001', u'2002', u'2003', u'2004', u'2005',\n",
      "       u'2006_hist', u'2007_hist', u'2008_hist', u'2009_hist', u'2010_hist',\n",
      "       u'2011_hist', u'2012_hist', u'2013_hist', u'2014_hist', u'Unnamed: 32',\n",
      "       u'2006_new', u'2007_new', u'2008_new', u'2009_new', u'2010_new',\n",
      "       u'2011_new', u'2012_new', u'2013_new', u'2014_new', u'2015', u'2016',\n",
      "       u'2017'],\n",
      "      dtype='object')\n",
      "Errors: 405\n",
      "Total:  837\n",
      "assault\n",
      "Index([u'2006', u'2007', u'2008', u'2009', u'2010', u'2011', u'2012', u'2013',\n",
      "       u'2014', u'2015', u'2016', u'2017'],\n",
      "      dtype='object')\n",
      "Index([u'Agency', u'State', u'1985', u'1986', u'1987', u'1988', u'1989',\n",
      "       u'1990', u'1991', u'1992', u'1993', u'1994', u'1995', u'1996', u'1997',\n",
      "       u'1998', u'1999', u'2000', u'2001', u'2002', u'2003', u'2004', u'2005',\n",
      "       u'2006_hist', u'2007_hist', u'2008_hist', u'2009_hist', u'2010_hist',\n",
      "       u'2011_hist', u'2012_hist', u'2013_hist', u'2014_hist', u'Unnamed: 32',\n",
      "       u'2006_new', u'2007_new', u'2008_new', u'2009_new', u'2010_new',\n",
      "       u'2011_new', u'2012_new', u'2013_new', u'2014_new', u'2015', u'2016',\n",
      "       u'2017'],\n",
      "      dtype='object')\n",
      "Errors: 224\n",
      "Total:  837\n",
      "murder\n",
      "Index([u'2006', u'2007', u'2008', u'2009', u'2010', u'2011', u'2012', u'2013',\n",
      "       u'2014', u'2015', u'2016', u'2017'],\n",
      "      dtype='object')\n",
      "Index([u'Agency', u'State', u'1985', u'1986', u'1987', u'1988', u'1989',\n",
      "       u'1990', u'1991', u'1992', u'1993', u'1994', u'1995', u'1996', u'1997',\n",
      "       u'1998', u'1999', u'2000', u'2001', u'2002', u'2003', u'2004', u'2005',\n",
      "       u'2006_hist', u'2007_hist', u'2008_hist', u'2009_hist', u'2010_hist',\n",
      "       u'2011_hist', u'2012_hist', u'2013_hist', u'2014_hist', u'Unnamed: 32',\n",
      "       u'2006_new', u'2007_new', u'2008_new', u'2009_new', u'2010_new',\n",
      "       u'2011_new', u'2012_new', u'2013_new', u'2014_new', u'2015', u'2016',\n",
      "       u'2017'],\n",
      "      dtype='object')\n",
      "Errors: 135\n",
      "Total:  837\n",
      "arson\n",
      "robbery\n",
      "Index([u'2006', u'2007', u'2008', u'2009', u'2010', u'2011', u'2012', u'2013',\n",
      "       u'2014', u'2015', u'2016', u'2017'],\n",
      "      dtype='object')\n",
      "Index([u'Agency', u'State', u'1985', u'1986', u'1987', u'1988', u'1989',\n",
      "       u'1990', u'1991', u'1992', u'1993', u'1994', u'1995', u'1996', u'1997',\n",
      "       u'1998', u'1999', u'2000', u'2001', u'2002', u'2003', u'2004', u'2005',\n",
      "       u'2006_hist', u'2007_hist', u'2008_hist', u'2009_hist', u'2010_hist',\n",
      "       u'2011_hist', u'2012_hist', u'2013_hist', u'2014_hist', u'Unnamed: 32',\n",
      "       u'2006_new', u'2007_new', u'2008_new', u'2009_new', u'2010_new',\n",
      "       u'2011_new', u'2012_new', u'2013_new', u'2014_new', u'2015', u'2016',\n",
      "       u'2017'],\n",
      "      dtype='object')\n",
      "Errors: 191\n",
      "Total:  837\n",
      "mv-theft\n",
      "Index([u'2006', u'2007', u'2008', u'2009', u'2010', u'2011', u'2012', u'2013',\n",
      "       u'2014', u'2015', u'2016', u'2017'],\n",
      "      dtype='object')\n",
      "Index([u'Agency', u'State', u'1985', u'1986', u'1987', u'1988', u'1989',\n",
      "       u'1990', u'1991', u'1992', u'1993', u'1994', u'1995', u'1996', u'1997',\n",
      "       u'1998', u'1999', u'2000', u'2001', u'2002', u'2003', u'2004', u'2005',\n",
      "       u'2006_hist', u'2007_hist', u'2008_hist', u'2009_hist', u'2010_hist',\n",
      "       u'2011_hist', u'2012_hist', u'2013_hist', u'2014_hist', u'Unnamed: 32',\n",
      "       u'2006_new', u'2007_new', u'2008_new', u'2009_new', u'2010_new',\n",
      "       u'2011_new', u'2012_new', u'2013_new', u'2014_new', u'2015', u'2016',\n",
      "       u'2017'],\n",
      "      dtype='object')\n",
      "Errors: 208\n",
      "Total:  837\n",
      "burglary\n",
      "Index([u'2006', u'2007', u'2008', u'2009', u'2010', u'2011', u'2012', u'2013',\n",
      "       u'2014', u'2015', u'2016', u'2017'],\n",
      "      dtype='object')\n",
      "Index([u'Agency', u'State', u'1985', u'1986', u'1987', u'1988', u'1989',\n",
      "       u'1990', u'1991', u'1992', u'1993', u'1994', u'1995', u'1996', u'1997',\n",
      "       u'1998', u'1999', u'2000', u'2001', u'2002', u'2003', u'2004', u'2005',\n",
      "       u'2006_hist', u'2007_hist', u'2008_hist', u'2009_hist', u'2010_hist',\n",
      "       u'2011_hist', u'2012_hist', u'2013_hist', u'2014_hist', u'Unnamed: 32',\n",
      "       u'2006_new', u'2007_new', u'2008_new', u'2009_new', u'2010_new',\n",
      "       u'2011_new', u'2012_new', u'2013_new', u'2014_new', u'2015', u'2016',\n",
      "       u'2017'],\n",
      "      dtype='object')\n",
      "Errors: 291\n",
      "Total:  837\n",
      "property\n",
      "Index([u'2006', u'2007', u'2008', u'2009', u'2010', u'2011', u'2012', u'2013',\n",
      "       u'2014', u'2015', u'2016', u'2017'],\n",
      "      dtype='object')\n",
      "Index([u'Agency', u'State', u'1985', u'1986', u'1987', u'1988', u'1989',\n",
      "       u'1990', u'1991', u'1992', u'1993', u'1994', u'1995', u'1996', u'1997',\n",
      "       u'1998', u'1999', u'2000', u'2001', u'2002', u'2003', u'2004', u'2005',\n",
      "       u'2006_hist', u'2007_hist', u'2008_hist', u'2009_hist', u'2010_hist',\n",
      "       u'2011_hist', u'2012_hist', u'2013_hist', u'2014_hist', u'Unnamed: 32',\n",
      "       u'2006_new', u'2007_new', u'2008_new', u'2009_new', u'2010_new',\n",
      "       u'2011_new', u'2012_new', u'2013_new', u'2014_new', u'2015', u'2016',\n",
      "       u'2017'],\n",
      "      dtype='object')\n",
      "Errors: 423\n",
      "Total:  837\n",
      "violent-crimes\n",
      "Index([u'2006', u'2007', u'2008', u'2009', u'2010', u'2011', u'2012', u'2013',\n",
      "       u'2014', u'2015', u'2016', u'2017'],\n",
      "      dtype='object')\n",
      "Index([u'Agency', u'State', u'1985', u'1986', u'1987', u'1988', u'1989',\n",
      "       u'1990', u'1991', u'1992', u'1993', u'1994', u'1995', u'1996', u'1997',\n",
      "       u'1998', u'1999', u'2000', u'2001', u'2002', u'2003', u'2004', u'2005',\n",
      "       u'2006_hist', u'2007_hist', u'2008_hist', u'2009_hist', u'2010_hist',\n",
      "       u'2011_hist', u'2012_hist', u'2013_hist', u'2014_hist', u'Unnamed: 32',\n",
      "       u'2006_new', u'2007_new', u'2008_new', u'2009_new', u'2010_new',\n",
      "       u'2011_new', u'2012_new', u'2013_new', u'2014_new', u'2015', u'2016',\n",
      "       u'2017'],\n",
      "      dtype='object')\n",
      "Errors: 6771\n",
      "Total:  7326\n",
      "rape\n",
      "Error in 2017 Index([u'State', u'Population', u'Violent crime',\n",
      "       u'Murder and nonnegligent manslaughter', u'Rape1', u'Robbery',\n",
      "       u'Aggravated assault', u'Property crime', u'Burglary',\n",
      "       u'Larceny- theft', u'Motor vehicle theft', u'Arson'],\n",
      "      dtype='object')\n",
      "ERROR:  '[2017] not in index'\n",
      "Index([u'2006', u'2007', u'2008', u'2009', u'2010', u'2011', u'2012', u'2013',\n",
      "       u'2014', u'2015', u'2016'],\n",
      "      dtype='object')\n",
      "Index([u'Agency', u'State', u'1985', u'1986', u'1987', u'1988', u'1989',\n",
      "       u'1990', u'1991', u'1992', u'1993', u'1994', u'1995', u'1996', u'1997',\n",
      "       u'1998', u'1999', u'2000', u'2001', u'2002', u'2003', u'2004', u'2005',\n",
      "       u'2006_hist', u'2007_hist', u'2008_hist', u'2009_hist', u'2010_hist',\n",
      "       u'2011_hist', u'2012_hist', u'2013_hist', u'2014_hist', u'Unnamed: 32',\n",
      "       u'2006_new', u'2007_new', u'2008_new', u'2009_new', u'2010_new',\n",
      "       u'2011_new', u'2012_new', u'2013_new', u'2014_new', u'2015', u'2016'],\n",
      "      dtype='object')\n",
      "Errors: 322\n",
      "Total:  837\n"
     ]
    }
   ],
   "source": [
    "def make_all_tables_with_hist():\n",
    "    ret = {}\n",
    "    for label in col_labels:\n",
    "        print label\n",
    "        try:\n",
    "            ret[label] = make_hist_table(label)\n",
    "            ret[label].to_csv(\"output/historical-\" + label + \".csv\" )\n",
    "        except Exception as e:\n",
    "            print e\n",
    "            continue\n",
    "            \n",
    "    return ret\n",
    "        \n",
    "all_hist_tables = make_all_tables_with_hist()"
   ]
  },
  {
   "cell_type": "code",
   "execution_count": 51,
   "metadata": {},
   "outputs": [
    {
     "data": {
      "text/plain": [
       "93"
      ]
     },
     "execution_count": 51,
     "metadata": {},
     "output_type": "execute_result"
    }
   ],
   "source": [
    "len(all_hist_tables[\"arson\"])"
   ]
  },
  {
   "cell_type": "code",
   "execution_count": 70,
   "metadata": {},
   "outputs": [
    {
     "data": {
      "text/plain": [
       "93"
      ]
     },
     "execution_count": 70,
     "metadata": {},
     "output_type": "execute_result"
    }
   ],
   "source": [
    "len(all_hist_tables[\"murder\"])"
   ]
  },
  {
   "cell_type": "code",
   "execution_count": 79,
   "metadata": {},
   "outputs": [
    {
     "name": "stdout",
     "output_type": "stream",
     "text": [
      "larceny\n",
      "Index([u'2006', u'2007', u'2008', u'2009', u'2010', u'2011', u'2012', u'2013',\n",
      "       u'2014', u'2015', u'2016', u'2017'],\n",
      "      dtype='object')\n",
      "Index([u'Agency', u'State', u'1985', u'1986', u'1987', u'1988', u'1989',\n",
      "       u'1990', u'1991', u'1992', u'1993', u'1994', u'1995', u'1996', u'1997',\n",
      "       u'1998', u'1999', u'2000', u'2001', u'2002', u'2003', u'2004', u'2005',\n",
      "       u'2006_hist', u'2007_hist', u'2008_hist', u'2009_hist', u'2010_hist',\n",
      "       u'2011_hist', u'2012_hist', u'2013_hist', u'2014_hist', u'Unnamed: 32',\n",
      "       u'2006_new', u'2007_new', u'2008_new', u'2009_new', u'2010_new',\n",
      "       u'2011_new', u'2012_new', u'2013_new', u'2014_new', u'2015', u'2016',\n",
      "       u'2017'],\n",
      "      dtype='object')\n",
      "Errors: 405\n",
      "Total:  837\n",
      "assault\n",
      "Index([u'2006', u'2007', u'2008', u'2009', u'2010', u'2011', u'2012', u'2013',\n",
      "       u'2014', u'2015', u'2016', u'2017'],\n",
      "      dtype='object')\n",
      "Index([u'Agency', u'State', u'1985', u'1986', u'1987', u'1988', u'1989',\n",
      "       u'1990', u'1991', u'1992', u'1993', u'1994', u'1995', u'1996', u'1997',\n",
      "       u'1998', u'1999', u'2000', u'2001', u'2002', u'2003', u'2004', u'2005',\n",
      "       u'2006_hist', u'2007_hist', u'2008_hist', u'2009_hist', u'2010_hist',\n",
      "       u'2011_hist', u'2012_hist', u'2013_hist', u'2014_hist', u'Unnamed: 32',\n",
      "       u'2006_new', u'2007_new', u'2008_new', u'2009_new', u'2010_new',\n",
      "       u'2011_new', u'2012_new', u'2013_new', u'2014_new', u'2015', u'2016',\n",
      "       u'2017'],\n",
      "      dtype='object')\n",
      "Errors: 224\n",
      "Total:  837\n",
      "murder\n",
      "Index([u'2006', u'2007', u'2008', u'2009', u'2010', u'2011', u'2012', u'2013',\n",
      "       u'2014', u'2015', u'2016', u'2017'],\n",
      "      dtype='object')\n",
      "Index([u'Agency', u'State', u'1985', u'1986', u'1987', u'1988', u'1989',\n",
      "       u'1990', u'1991', u'1992', u'1993', u'1994', u'1995', u'1996', u'1997',\n",
      "       u'1998', u'1999', u'2000', u'2001', u'2002', u'2003', u'2004', u'2005',\n",
      "       u'2006_hist', u'2007_hist', u'2008_hist', u'2009_hist', u'2010_hist',\n",
      "       u'2011_hist', u'2012_hist', u'2013_hist', u'2014_hist', u'Unnamed: 32',\n",
      "       u'2006_new', u'2007_new', u'2008_new', u'2009_new', u'2010_new',\n",
      "       u'2011_new', u'2012_new', u'2013_new', u'2014_new', u'2015', u'2016',\n",
      "       u'2017'],\n",
      "      dtype='object')\n",
      "Errors: 135\n",
      "Total:  837\n",
      "arson\n",
      "robbery\n",
      "Index([u'2006', u'2007', u'2008', u'2009', u'2010', u'2011', u'2012', u'2013',\n",
      "       u'2014', u'2015', u'2016', u'2017'],\n",
      "      dtype='object')\n",
      "Index([u'Agency', u'State', u'1985', u'1986', u'1987', u'1988', u'1989',\n",
      "       u'1990', u'1991', u'1992', u'1993', u'1994', u'1995', u'1996', u'1997',\n",
      "       u'1998', u'1999', u'2000', u'2001', u'2002', u'2003', u'2004', u'2005',\n",
      "       u'2006_hist', u'2007_hist', u'2008_hist', u'2009_hist', u'2010_hist',\n",
      "       u'2011_hist', u'2012_hist', u'2013_hist', u'2014_hist', u'Unnamed: 32',\n",
      "       u'2006_new', u'2007_new', u'2008_new', u'2009_new', u'2010_new',\n",
      "       u'2011_new', u'2012_new', u'2013_new', u'2014_new', u'2015', u'2016',\n",
      "       u'2017'],\n",
      "      dtype='object')\n",
      "Errors: 191\n",
      "Total:  837\n",
      "mv-theft\n",
      "Index([u'2006', u'2007', u'2008', u'2009', u'2010', u'2011', u'2012', u'2013',\n",
      "       u'2014', u'2015', u'2016', u'2017'],\n",
      "      dtype='object')\n",
      "Index([u'Agency', u'State', u'1985', u'1986', u'1987', u'1988', u'1989',\n",
      "       u'1990', u'1991', u'1992', u'1993', u'1994', u'1995', u'1996', u'1997',\n",
      "       u'1998', u'1999', u'2000', u'2001', u'2002', u'2003', u'2004', u'2005',\n",
      "       u'2006_hist', u'2007_hist', u'2008_hist', u'2009_hist', u'2010_hist',\n",
      "       u'2011_hist', u'2012_hist', u'2013_hist', u'2014_hist', u'Unnamed: 32',\n",
      "       u'2006_new', u'2007_new', u'2008_new', u'2009_new', u'2010_new',\n",
      "       u'2011_new', u'2012_new', u'2013_new', u'2014_new', u'2015', u'2016',\n",
      "       u'2017'],\n",
      "      dtype='object')\n",
      "Errors: 208\n",
      "Total:  837\n",
      "burglary\n",
      "Index([u'2006', u'2007', u'2008', u'2009', u'2010', u'2011', u'2012', u'2013',\n",
      "       u'2014', u'2015', u'2016', u'2017'],\n",
      "      dtype='object')\n",
      "Index([u'Agency', u'State', u'1985', u'1986', u'1987', u'1988', u'1989',\n",
      "       u'1990', u'1991', u'1992', u'1993', u'1994', u'1995', u'1996', u'1997',\n",
      "       u'1998', u'1999', u'2000', u'2001', u'2002', u'2003', u'2004', u'2005',\n",
      "       u'2006_hist', u'2007_hist', u'2008_hist', u'2009_hist', u'2010_hist',\n",
      "       u'2011_hist', u'2012_hist', u'2013_hist', u'2014_hist', u'Unnamed: 32',\n",
      "       u'2006_new', u'2007_new', u'2008_new', u'2009_new', u'2010_new',\n",
      "       u'2011_new', u'2012_new', u'2013_new', u'2014_new', u'2015', u'2016',\n",
      "       u'2017'],\n",
      "      dtype='object')\n",
      "Errors: 291\n",
      "Total:  837\n",
      "property\n",
      "Index([u'2006', u'2007', u'2008', u'2009', u'2010', u'2011', u'2012', u'2013',\n",
      "       u'2014', u'2015', u'2016', u'2017'],\n",
      "      dtype='object')\n",
      "Index([u'Agency', u'State', u'1985', u'1986', u'1987', u'1988', u'1989',\n",
      "       u'1990', u'1991', u'1992', u'1993', u'1994', u'1995', u'1996', u'1997',\n",
      "       u'1998', u'1999', u'2000', u'2001', u'2002', u'2003', u'2004', u'2005',\n",
      "       u'2006_hist', u'2007_hist', u'2008_hist', u'2009_hist', u'2010_hist',\n",
      "       u'2011_hist', u'2012_hist', u'2013_hist', u'2014_hist', u'Unnamed: 32',\n",
      "       u'2006_new', u'2007_new', u'2008_new', u'2009_new', u'2010_new',\n",
      "       u'2011_new', u'2012_new', u'2013_new', u'2014_new', u'2015', u'2016',\n",
      "       u'2017'],\n",
      "      dtype='object')\n",
      "Errors: 423\n",
      "Total:  837\n",
      "violent-crimes\n",
      "Index([u'2006', u'2007', u'2008', u'2009', u'2010', u'2011', u'2012', u'2013',\n",
      "       u'2014', u'2015', u'2016', u'2017'],\n",
      "      dtype='object')\n",
      "Index([u'Agency', u'State', u'1985', u'1986', u'1987', u'1988', u'1989',\n",
      "       u'1990', u'1991', u'1992', u'1993', u'1994', u'1995', u'1996', u'1997',\n",
      "       u'1998', u'1999', u'2000', u'2001', u'2002', u'2003', u'2004', u'2005',\n",
      "       u'2006_hist', u'2007_hist', u'2008_hist', u'2009_hist', u'2010_hist',\n",
      "       u'2011_hist', u'2012_hist', u'2013_hist', u'2014_hist', u'Unnamed: 32',\n",
      "       u'2006_new', u'2007_new', u'2008_new', u'2009_new', u'2010_new',\n",
      "       u'2011_new', u'2012_new', u'2013_new', u'2014_new', u'2015', u'2016',\n",
      "       u'2017'],\n",
      "      dtype='object')\n",
      "Errors: 6771\n",
      "Total:  7326\n",
      "rape\n",
      "Error in 2017 Index([u'State', u'Population', u'Violent crime',\n",
      "       u'Murder and nonnegligent manslaughter', u'Rape1', u'Robbery',\n",
      "       u'Aggravated assault', u'Property crime', u'Burglary',\n",
      "       u'Larceny- theft', u'Motor vehicle theft', u'Arson'],\n",
      "      dtype='object')\n",
      "ERROR:  '[2017] not in index'\n",
      "Index([u'2006', u'2007', u'2008', u'2009', u'2010', u'2011', u'2012', u'2013',\n",
      "       u'2014', u'2015', u'2016'],\n",
      "      dtype='object')\n",
      "Index([u'Agency', u'State', u'1985', u'1986', u'1987', u'1988', u'1989',\n",
      "       u'1990', u'1991', u'1992', u'1993', u'1994', u'1995', u'1996', u'1997',\n",
      "       u'1998', u'1999', u'2000', u'2001', u'2002', u'2003', u'2004', u'2005',\n",
      "       u'2006_hist', u'2007_hist', u'2008_hist', u'2009_hist', u'2010_hist',\n",
      "       u'2011_hist', u'2012_hist', u'2013_hist', u'2014_hist', u'Unnamed: 32',\n",
      "       u'2006_new', u'2007_new', u'2008_new', u'2009_new', u'2010_new',\n",
      "       u'2011_new', u'2012_new', u'2013_new', u'2014_new', u'2015', u'2016'],\n",
      "      dtype='object')\n",
      "Errors: 322\n",
      "Total:  837\n"
     ]
    },
    {
     "name": "stderr",
     "output_type": "stream",
     "text": [
      "/Users/jakekara/pandas/lib/python2.7/site-packages/ipykernel_launcher.py:10: FutureWarning: Sorting because non-concatenation axis is not aligned. A future version\n",
      "of pandas will change to not sort by default.\n",
      "\n",
      "To accept the future behavior, pass 'sort=False'.\n",
      "\n",
      "To retain the current behavior and silence the warning, pass 'sort=True'.\n",
      "\n",
      "  # Remove the CWD from sys.path while we load stuff.\n"
     ]
    }
   ],
   "source": [
    "def make_mega_historical():\n",
    "    tmp_mega_hist = make_all_tables_with_hist()\n",
    "    df = None\n",
    "    frames = []\n",
    "    for topic in tmp_mega_hist:\n",
    "        df = tmp_mega_hist[topic].copy()\n",
    "        df[\"crime\"] = topic\n",
    "        frames.append(df)\n",
    "        \n",
    "    return pd.concat(frames).dropna(thresh=5)\n",
    "\n",
    "\n",
    "def exclude(name):\n",
    "    # 2018 me can't figure out why 2017 me did this.\n",
    "    \n",
    "    return name not in [\"Agency\",\n",
    "#                         \"Groton Long Point\",\n",
    "#                         \"Groton Town\",\n",
    "#                         \"Middlebury\",\n",
    "#                         \"Middlebury\",\n",
    "#                         \"Portland\",\n",
    "#                         \"Porttland\",\n",
    "#                         \"Putnam\",\n",
    "#                         \"Easton\",\n",
    "#                         \"Redding\",\n",
    "#                         \"Thomaston\",\n",
    "#                         \"Woodbridge\"\n",
    "                       ]\n",
    "\n",
    "#print mega_hist.index.map(lambda x: exclude(x))\n",
    "\n",
    "mega_hist = make_mega_historical()\n",
    "mega_hist = mega_hist[mega_hist.index.map(exclude)]\n",
    "mega_hist[mega_hist.index == \"Easton\"]\n",
    "\n",
    "#mega_hist = mega_hist[mega_hist.index.map(lambda x: exclude(x))]\n",
    "mega_hist.to_csv(\"output/historical-all.csv\")\n",
    "mega_hist.to_csv(\"viz/data/historical-all.csv\")\n",
    "\n",
    "#print mega_hist[\"crime\"].unique()"
   ]
  },
  {
   "cell_type": "code",
   "execution_count": null,
   "metadata": {},
   "outputs": [],
   "source": []
  },
  {
   "cell_type": "code",
   "execution_count": 69,
   "metadata": {},
   "outputs": [
    {
     "data": {
      "text/plain": [
       "93"
      ]
     },
     "execution_count": 69,
     "metadata": {},
     "output_type": "execute_result"
    }
   ],
   "source": [
    "len(mega_hist.index.unique())"
   ]
  },
  {
   "cell_type": "code",
   "execution_count": 54,
   "metadata": {},
   "outputs": [
    {
     "data": {
      "text/html": [
       "<div>\n",
       "<style scoped>\n",
       "    .dataframe tbody tr th:only-of-type {\n",
       "        vertical-align: middle;\n",
       "    }\n",
       "\n",
       "    .dataframe tbody tr th {\n",
       "        vertical-align: top;\n",
       "    }\n",
       "\n",
       "    .dataframe thead th {\n",
       "        text-align: right;\n",
       "    }\n",
       "</style>\n",
       "<table border=\"1\" class=\"dataframe\">\n",
       "  <thead>\n",
       "    <tr style=\"text-align: right;\">\n",
       "      <th></th>\n",
       "      <th>2006</th>\n",
       "      <th>2007</th>\n",
       "      <th>2008</th>\n",
       "      <th>2009</th>\n",
       "      <th>2010</th>\n",
       "      <th>2011</th>\n",
       "      <th>2012</th>\n",
       "      <th>2013</th>\n",
       "      <th>2014</th>\n",
       "      <th>2015</th>\n",
       "      <th>...</th>\n",
       "      <th>2014_diff_pct</th>\n",
       "      <th>2014_hist</th>\n",
       "      <th>2014_new</th>\n",
       "      <th>2015</th>\n",
       "      <th>2016</th>\n",
       "      <th>2017</th>\n",
       "      <th>Agency</th>\n",
       "      <th>State</th>\n",
       "      <th>Unnamed: 32</th>\n",
       "      <th>crime</th>\n",
       "    </tr>\n",
       "    <tr>\n",
       "      <th>City</th>\n",
       "      <th></th>\n",
       "      <th></th>\n",
       "      <th></th>\n",
       "      <th></th>\n",
       "      <th></th>\n",
       "      <th></th>\n",
       "      <th></th>\n",
       "      <th></th>\n",
       "      <th></th>\n",
       "      <th></th>\n",
       "      <th></th>\n",
       "      <th></th>\n",
       "      <th></th>\n",
       "      <th></th>\n",
       "      <th></th>\n",
       "      <th></th>\n",
       "      <th></th>\n",
       "      <th></th>\n",
       "      <th></th>\n",
       "      <th></th>\n",
       "      <th></th>\n",
       "    </tr>\n",
       "  </thead>\n",
       "  <tbody>\n",
       "    <tr>\n",
       "      <th>Ansonia</th>\n",
       "      <td>NaN</td>\n",
       "      <td>NaN</td>\n",
       "      <td>NaN</td>\n",
       "      <td>NaN</td>\n",
       "      <td>NaN</td>\n",
       "      <td>NaN</td>\n",
       "      <td>NaN</td>\n",
       "      <td>NaN</td>\n",
       "      <td>NaN</td>\n",
       "      <td>NaN</td>\n",
       "      <td>...</td>\n",
       "      <td>NaN</td>\n",
       "      <td>0.0</td>\n",
       "      <td>0.0</td>\n",
       "      <td>0.0</td>\n",
       "      <td>0.0</td>\n",
       "      <td>0.0</td>\n",
       "      <td>Ansonia Police Dept</td>\n",
       "      <td>CT</td>\n",
       "      <td>NaN</td>\n",
       "      <td>murder</td>\n",
       "    </tr>\n",
       "    <tr>\n",
       "      <th>Avon</th>\n",
       "      <td>NaN</td>\n",
       "      <td>NaN</td>\n",
       "      <td>NaN</td>\n",
       "      <td>NaN</td>\n",
       "      <td>NaN</td>\n",
       "      <td>NaN</td>\n",
       "      <td>NaN</td>\n",
       "      <td>NaN</td>\n",
       "      <td>NaN</td>\n",
       "      <td>NaN</td>\n",
       "      <td>...</td>\n",
       "      <td>NaN</td>\n",
       "      <td>0.0</td>\n",
       "      <td>0.0</td>\n",
       "      <td>0.0</td>\n",
       "      <td>0.0</td>\n",
       "      <td>0.0</td>\n",
       "      <td>Avon Police Dept</td>\n",
       "      <td>CT</td>\n",
       "      <td>NaN</td>\n",
       "      <td>murder</td>\n",
       "    </tr>\n",
       "    <tr>\n",
       "      <th>Berlin</th>\n",
       "      <td>NaN</td>\n",
       "      <td>NaN</td>\n",
       "      <td>NaN</td>\n",
       "      <td>NaN</td>\n",
       "      <td>NaN</td>\n",
       "      <td>NaN</td>\n",
       "      <td>NaN</td>\n",
       "      <td>NaN</td>\n",
       "      <td>NaN</td>\n",
       "      <td>NaN</td>\n",
       "      <td>...</td>\n",
       "      <td>NaN</td>\n",
       "      <td>0.0</td>\n",
       "      <td>0.0</td>\n",
       "      <td>0.0</td>\n",
       "      <td>0.0</td>\n",
       "      <td>0.0</td>\n",
       "      <td>Berlin Police Dept</td>\n",
       "      <td>CT</td>\n",
       "      <td>NaN</td>\n",
       "      <td>murder</td>\n",
       "    </tr>\n",
       "    <tr>\n",
       "      <th>Bethel</th>\n",
       "      <td>NaN</td>\n",
       "      <td>NaN</td>\n",
       "      <td>NaN</td>\n",
       "      <td>NaN</td>\n",
       "      <td>NaN</td>\n",
       "      <td>NaN</td>\n",
       "      <td>NaN</td>\n",
       "      <td>NaN</td>\n",
       "      <td>NaN</td>\n",
       "      <td>NaN</td>\n",
       "      <td>...</td>\n",
       "      <td>NaN</td>\n",
       "      <td>0.0</td>\n",
       "      <td>0.0</td>\n",
       "      <td>0.0</td>\n",
       "      <td>1.0</td>\n",
       "      <td>0.0</td>\n",
       "      <td>Bethel Police Dept</td>\n",
       "      <td>CT</td>\n",
       "      <td>NaN</td>\n",
       "      <td>murder</td>\n",
       "    </tr>\n",
       "    <tr>\n",
       "      <th>Bloomfield</th>\n",
       "      <td>NaN</td>\n",
       "      <td>NaN</td>\n",
       "      <td>NaN</td>\n",
       "      <td>NaN</td>\n",
       "      <td>NaN</td>\n",
       "      <td>NaN</td>\n",
       "      <td>NaN</td>\n",
       "      <td>NaN</td>\n",
       "      <td>NaN</td>\n",
       "      <td>NaN</td>\n",
       "      <td>...</td>\n",
       "      <td>NaN</td>\n",
       "      <td>0.0</td>\n",
       "      <td>0.0</td>\n",
       "      <td>1.0</td>\n",
       "      <td>0.0</td>\n",
       "      <td>0.0</td>\n",
       "      <td>Bloomfield Police Dept</td>\n",
       "      <td>CT</td>\n",
       "      <td>NaN</td>\n",
       "      <td>murder</td>\n",
       "    </tr>\n",
       "    <tr>\n",
       "      <th>Branford</th>\n",
       "      <td>NaN</td>\n",
       "      <td>NaN</td>\n",
       "      <td>NaN</td>\n",
       "      <td>NaN</td>\n",
       "      <td>NaN</td>\n",
       "      <td>NaN</td>\n",
       "      <td>NaN</td>\n",
       "      <td>NaN</td>\n",
       "      <td>NaN</td>\n",
       "      <td>NaN</td>\n",
       "      <td>...</td>\n",
       "      <td>0.0</td>\n",
       "      <td>1.0</td>\n",
       "      <td>1.0</td>\n",
       "      <td>0.0</td>\n",
       "      <td>0.0</td>\n",
       "      <td>0.0</td>\n",
       "      <td>Branford Police Dept</td>\n",
       "      <td>CT</td>\n",
       "      <td>NaN</td>\n",
       "      <td>murder</td>\n",
       "    </tr>\n",
       "    <tr>\n",
       "      <th>Bridgeport</th>\n",
       "      <td>NaN</td>\n",
       "      <td>NaN</td>\n",
       "      <td>NaN</td>\n",
       "      <td>NaN</td>\n",
       "      <td>NaN</td>\n",
       "      <td>NaN</td>\n",
       "      <td>NaN</td>\n",
       "      <td>NaN</td>\n",
       "      <td>NaN</td>\n",
       "      <td>NaN</td>\n",
       "      <td>...</td>\n",
       "      <td>0.0</td>\n",
       "      <td>11.0</td>\n",
       "      <td>11.0</td>\n",
       "      <td>19.0</td>\n",
       "      <td>10.0</td>\n",
       "      <td>21.0</td>\n",
       "      <td>Bridgeport Police Dept</td>\n",
       "      <td>CT</td>\n",
       "      <td>NaN</td>\n",
       "      <td>murder</td>\n",
       "    </tr>\n",
       "    <tr>\n",
       "      <th>Bristol</th>\n",
       "      <td>NaN</td>\n",
       "      <td>NaN</td>\n",
       "      <td>NaN</td>\n",
       "      <td>NaN</td>\n",
       "      <td>NaN</td>\n",
       "      <td>NaN</td>\n",
       "      <td>NaN</td>\n",
       "      <td>NaN</td>\n",
       "      <td>NaN</td>\n",
       "      <td>NaN</td>\n",
       "      <td>...</td>\n",
       "      <td>0.0</td>\n",
       "      <td>3.0</td>\n",
       "      <td>3.0</td>\n",
       "      <td>0.0</td>\n",
       "      <td>0.0</td>\n",
       "      <td>1.0</td>\n",
       "      <td>Bristol Police Dept</td>\n",
       "      <td>CT</td>\n",
       "      <td>NaN</td>\n",
       "      <td>murder</td>\n",
       "    </tr>\n",
       "    <tr>\n",
       "      <th>Brookfield</th>\n",
       "      <td>NaN</td>\n",
       "      <td>NaN</td>\n",
       "      <td>NaN</td>\n",
       "      <td>NaN</td>\n",
       "      <td>NaN</td>\n",
       "      <td>NaN</td>\n",
       "      <td>NaN</td>\n",
       "      <td>NaN</td>\n",
       "      <td>NaN</td>\n",
       "      <td>NaN</td>\n",
       "      <td>...</td>\n",
       "      <td>NaN</td>\n",
       "      <td>0.0</td>\n",
       "      <td>0.0</td>\n",
       "      <td>0.0</td>\n",
       "      <td>0.0</td>\n",
       "      <td>0.0</td>\n",
       "      <td>Brookfield Police Dept</td>\n",
       "      <td>CT</td>\n",
       "      <td>NaN</td>\n",
       "      <td>murder</td>\n",
       "    </tr>\n",
       "    <tr>\n",
       "      <th>Canton</th>\n",
       "      <td>NaN</td>\n",
       "      <td>NaN</td>\n",
       "      <td>NaN</td>\n",
       "      <td>NaN</td>\n",
       "      <td>NaN</td>\n",
       "      <td>NaN</td>\n",
       "      <td>NaN</td>\n",
       "      <td>NaN</td>\n",
       "      <td>NaN</td>\n",
       "      <td>NaN</td>\n",
       "      <td>...</td>\n",
       "      <td>NaN</td>\n",
       "      <td>0.0</td>\n",
       "      <td>0.0</td>\n",
       "      <td>0.0</td>\n",
       "      <td>0.0</td>\n",
       "      <td>0.0</td>\n",
       "      <td>Canton Town Police Dept</td>\n",
       "      <td>CT</td>\n",
       "      <td>NaN</td>\n",
       "      <td>murder</td>\n",
       "    </tr>\n",
       "    <tr>\n",
       "      <th>Cheshire</th>\n",
       "      <td>NaN</td>\n",
       "      <td>NaN</td>\n",
       "      <td>NaN</td>\n",
       "      <td>NaN</td>\n",
       "      <td>NaN</td>\n",
       "      <td>NaN</td>\n",
       "      <td>NaN</td>\n",
       "      <td>NaN</td>\n",
       "      <td>NaN</td>\n",
       "      <td>NaN</td>\n",
       "      <td>...</td>\n",
       "      <td>0.0</td>\n",
       "      <td>1.0</td>\n",
       "      <td>1.0</td>\n",
       "      <td>0.0</td>\n",
       "      <td>0.0</td>\n",
       "      <td>0.0</td>\n",
       "      <td>Cheshire Police Dept</td>\n",
       "      <td>CT</td>\n",
       "      <td>NaN</td>\n",
       "      <td>murder</td>\n",
       "    </tr>\n",
       "    <tr>\n",
       "      <th>Clinton</th>\n",
       "      <td>NaN</td>\n",
       "      <td>NaN</td>\n",
       "      <td>NaN</td>\n",
       "      <td>NaN</td>\n",
       "      <td>NaN</td>\n",
       "      <td>NaN</td>\n",
       "      <td>NaN</td>\n",
       "      <td>NaN</td>\n",
       "      <td>NaN</td>\n",
       "      <td>NaN</td>\n",
       "      <td>...</td>\n",
       "      <td>NaN</td>\n",
       "      <td>0.0</td>\n",
       "      <td>0.0</td>\n",
       "      <td>0.0</td>\n",
       "      <td>0.0</td>\n",
       "      <td>0.0</td>\n",
       "      <td>Clinton Police Dept</td>\n",
       "      <td>CT</td>\n",
       "      <td>NaN</td>\n",
       "      <td>murder</td>\n",
       "    </tr>\n",
       "    <tr>\n",
       "      <th>Coventry</th>\n",
       "      <td>NaN</td>\n",
       "      <td>NaN</td>\n",
       "      <td>NaN</td>\n",
       "      <td>NaN</td>\n",
       "      <td>NaN</td>\n",
       "      <td>NaN</td>\n",
       "      <td>NaN</td>\n",
       "      <td>NaN</td>\n",
       "      <td>NaN</td>\n",
       "      <td>NaN</td>\n",
       "      <td>...</td>\n",
       "      <td>NaN</td>\n",
       "      <td>0.0</td>\n",
       "      <td>0.0</td>\n",
       "      <td>0.0</td>\n",
       "      <td>0.0</td>\n",
       "      <td>0.0</td>\n",
       "      <td>Coventry Police Dept</td>\n",
       "      <td>CT</td>\n",
       "      <td>NaN</td>\n",
       "      <td>murder</td>\n",
       "    </tr>\n",
       "    <tr>\n",
       "      <th>Cromwell</th>\n",
       "      <td>NaN</td>\n",
       "      <td>NaN</td>\n",
       "      <td>NaN</td>\n",
       "      <td>NaN</td>\n",
       "      <td>NaN</td>\n",
       "      <td>NaN</td>\n",
       "      <td>NaN</td>\n",
       "      <td>NaN</td>\n",
       "      <td>NaN</td>\n",
       "      <td>NaN</td>\n",
       "      <td>...</td>\n",
       "      <td>NaN</td>\n",
       "      <td>0.0</td>\n",
       "      <td>0.0</td>\n",
       "      <td>0.0</td>\n",
       "      <td>0.0</td>\n",
       "      <td>0.0</td>\n",
       "      <td>Cromwell Police Dept</td>\n",
       "      <td>CT</td>\n",
       "      <td>NaN</td>\n",
       "      <td>murder</td>\n",
       "    </tr>\n",
       "    <tr>\n",
       "      <th>Danbury</th>\n",
       "      <td>NaN</td>\n",
       "      <td>NaN</td>\n",
       "      <td>NaN</td>\n",
       "      <td>NaN</td>\n",
       "      <td>NaN</td>\n",
       "      <td>NaN</td>\n",
       "      <td>NaN</td>\n",
       "      <td>NaN</td>\n",
       "      <td>NaN</td>\n",
       "      <td>NaN</td>\n",
       "      <td>...</td>\n",
       "      <td>0.0</td>\n",
       "      <td>1.0</td>\n",
       "      <td>1.0</td>\n",
       "      <td>0.0</td>\n",
       "      <td>0.0</td>\n",
       "      <td>1.0</td>\n",
       "      <td>Danbury Police Dept</td>\n",
       "      <td>CT</td>\n",
       "      <td>NaN</td>\n",
       "      <td>murder</td>\n",
       "    </tr>\n",
       "    <tr>\n",
       "      <th>Darien</th>\n",
       "      <td>NaN</td>\n",
       "      <td>NaN</td>\n",
       "      <td>NaN</td>\n",
       "      <td>NaN</td>\n",
       "      <td>NaN</td>\n",
       "      <td>NaN</td>\n",
       "      <td>NaN</td>\n",
       "      <td>NaN</td>\n",
       "      <td>NaN</td>\n",
       "      <td>NaN</td>\n",
       "      <td>...</td>\n",
       "      <td>NaN</td>\n",
       "      <td>0.0</td>\n",
       "      <td>0.0</td>\n",
       "      <td>0.0</td>\n",
       "      <td>0.0</td>\n",
       "      <td>0.0</td>\n",
       "      <td>Darien Police Dept</td>\n",
       "      <td>CT</td>\n",
       "      <td>NaN</td>\n",
       "      <td>murder</td>\n",
       "    </tr>\n",
       "    <tr>\n",
       "      <th>Derby</th>\n",
       "      <td>NaN</td>\n",
       "      <td>NaN</td>\n",
       "      <td>NaN</td>\n",
       "      <td>NaN</td>\n",
       "      <td>NaN</td>\n",
       "      <td>NaN</td>\n",
       "      <td>NaN</td>\n",
       "      <td>NaN</td>\n",
       "      <td>NaN</td>\n",
       "      <td>NaN</td>\n",
       "      <td>...</td>\n",
       "      <td>NaN</td>\n",
       "      <td>0.0</td>\n",
       "      <td>0.0</td>\n",
       "      <td>0.0</td>\n",
       "      <td>0.0</td>\n",
       "      <td>1.0</td>\n",
       "      <td>Derby Police Dept</td>\n",
       "      <td>CT</td>\n",
       "      <td>NaN</td>\n",
       "      <td>murder</td>\n",
       "    </tr>\n",
       "    <tr>\n",
       "      <th>East Hampton</th>\n",
       "      <td>NaN</td>\n",
       "      <td>NaN</td>\n",
       "      <td>NaN</td>\n",
       "      <td>NaN</td>\n",
       "      <td>NaN</td>\n",
       "      <td>NaN</td>\n",
       "      <td>NaN</td>\n",
       "      <td>NaN</td>\n",
       "      <td>NaN</td>\n",
       "      <td>NaN</td>\n",
       "      <td>...</td>\n",
       "      <td>NaN</td>\n",
       "      <td>0.0</td>\n",
       "      <td>0.0</td>\n",
       "      <td>0.0</td>\n",
       "      <td>0.0</td>\n",
       "      <td>0.0</td>\n",
       "      <td>East Hampton Police Dept</td>\n",
       "      <td>CT</td>\n",
       "      <td>NaN</td>\n",
       "      <td>murder</td>\n",
       "    </tr>\n",
       "    <tr>\n",
       "      <th>East Hartford</th>\n",
       "      <td>NaN</td>\n",
       "      <td>NaN</td>\n",
       "      <td>NaN</td>\n",
       "      <td>NaN</td>\n",
       "      <td>NaN</td>\n",
       "      <td>NaN</td>\n",
       "      <td>NaN</td>\n",
       "      <td>NaN</td>\n",
       "      <td>NaN</td>\n",
       "      <td>NaN</td>\n",
       "      <td>...</td>\n",
       "      <td>0.0</td>\n",
       "      <td>2.0</td>\n",
       "      <td>2.0</td>\n",
       "      <td>1.0</td>\n",
       "      <td>4.0</td>\n",
       "      <td>1.0</td>\n",
       "      <td>East Hartford Police</td>\n",
       "      <td>CT</td>\n",
       "      <td>NaN</td>\n",
       "      <td>murder</td>\n",
       "    </tr>\n",
       "    <tr>\n",
       "      <th>East Haven</th>\n",
       "      <td>NaN</td>\n",
       "      <td>NaN</td>\n",
       "      <td>NaN</td>\n",
       "      <td>NaN</td>\n",
       "      <td>NaN</td>\n",
       "      <td>NaN</td>\n",
       "      <td>NaN</td>\n",
       "      <td>NaN</td>\n",
       "      <td>NaN</td>\n",
       "      <td>NaN</td>\n",
       "      <td>...</td>\n",
       "      <td>NaN</td>\n",
       "      <td>0.0</td>\n",
       "      <td>0.0</td>\n",
       "      <td>3.0</td>\n",
       "      <td>0.0</td>\n",
       "      <td>0.0</td>\n",
       "      <td>East Haven Police Dept</td>\n",
       "      <td>CT</td>\n",
       "      <td>NaN</td>\n",
       "      <td>murder</td>\n",
       "    </tr>\n",
       "    <tr>\n",
       "      <th>East Windsor</th>\n",
       "      <td>NaN</td>\n",
       "      <td>NaN</td>\n",
       "      <td>NaN</td>\n",
       "      <td>NaN</td>\n",
       "      <td>NaN</td>\n",
       "      <td>NaN</td>\n",
       "      <td>NaN</td>\n",
       "      <td>NaN</td>\n",
       "      <td>NaN</td>\n",
       "      <td>NaN</td>\n",
       "      <td>...</td>\n",
       "      <td>0.0</td>\n",
       "      <td>1.0</td>\n",
       "      <td>1.0</td>\n",
       "      <td>0.0</td>\n",
       "      <td>0.0</td>\n",
       "      <td>0.0</td>\n",
       "      <td>East Windsor Police Dept</td>\n",
       "      <td>CT</td>\n",
       "      <td>NaN</td>\n",
       "      <td>murder</td>\n",
       "    </tr>\n",
       "    <tr>\n",
       "      <th>Enfield</th>\n",
       "      <td>NaN</td>\n",
       "      <td>NaN</td>\n",
       "      <td>NaN</td>\n",
       "      <td>NaN</td>\n",
       "      <td>NaN</td>\n",
       "      <td>NaN</td>\n",
       "      <td>NaN</td>\n",
       "      <td>NaN</td>\n",
       "      <td>NaN</td>\n",
       "      <td>NaN</td>\n",
       "      <td>...</td>\n",
       "      <td>0.0</td>\n",
       "      <td>2.0</td>\n",
       "      <td>2.0</td>\n",
       "      <td>0.0</td>\n",
       "      <td>1.0</td>\n",
       "      <td>0.0</td>\n",
       "      <td>Enfield Police Dept</td>\n",
       "      <td>CT</td>\n",
       "      <td>NaN</td>\n",
       "      <td>murder</td>\n",
       "    </tr>\n",
       "    <tr>\n",
       "      <th>Fairfield</th>\n",
       "      <td>NaN</td>\n",
       "      <td>NaN</td>\n",
       "      <td>NaN</td>\n",
       "      <td>NaN</td>\n",
       "      <td>NaN</td>\n",
       "      <td>NaN</td>\n",
       "      <td>NaN</td>\n",
       "      <td>NaN</td>\n",
       "      <td>NaN</td>\n",
       "      <td>NaN</td>\n",
       "      <td>...</td>\n",
       "      <td>NaN</td>\n",
       "      <td>0.0</td>\n",
       "      <td>0.0</td>\n",
       "      <td>0.0</td>\n",
       "      <td>0.0</td>\n",
       "      <td>0.0</td>\n",
       "      <td>Fairfield Police Dept</td>\n",
       "      <td>CT</td>\n",
       "      <td>NaN</td>\n",
       "      <td>murder</td>\n",
       "    </tr>\n",
       "    <tr>\n",
       "      <th>Farmington</th>\n",
       "      <td>NaN</td>\n",
       "      <td>NaN</td>\n",
       "      <td>NaN</td>\n",
       "      <td>NaN</td>\n",
       "      <td>NaN</td>\n",
       "      <td>NaN</td>\n",
       "      <td>NaN</td>\n",
       "      <td>NaN</td>\n",
       "      <td>NaN</td>\n",
       "      <td>NaN</td>\n",
       "      <td>...</td>\n",
       "      <td>NaN</td>\n",
       "      <td>0.0</td>\n",
       "      <td>0.0</td>\n",
       "      <td>0.0</td>\n",
       "      <td>0.0</td>\n",
       "      <td>0.0</td>\n",
       "      <td>Farmington Police Dept</td>\n",
       "      <td>CT</td>\n",
       "      <td>NaN</td>\n",
       "      <td>murder</td>\n",
       "    </tr>\n",
       "    <tr>\n",
       "      <th>Glastonbury</th>\n",
       "      <td>NaN</td>\n",
       "      <td>NaN</td>\n",
       "      <td>NaN</td>\n",
       "      <td>NaN</td>\n",
       "      <td>NaN</td>\n",
       "      <td>NaN</td>\n",
       "      <td>NaN</td>\n",
       "      <td>NaN</td>\n",
       "      <td>NaN</td>\n",
       "      <td>NaN</td>\n",
       "      <td>...</td>\n",
       "      <td>NaN</td>\n",
       "      <td>0.0</td>\n",
       "      <td>0.0</td>\n",
       "      <td>0.0</td>\n",
       "      <td>NaN</td>\n",
       "      <td>0.0</td>\n",
       "      <td>Glastonbury Police Dept</td>\n",
       "      <td>CT</td>\n",
       "      <td>NaN</td>\n",
       "      <td>murder</td>\n",
       "    </tr>\n",
       "    <tr>\n",
       "      <th>Granby</th>\n",
       "      <td>NaN</td>\n",
       "      <td>NaN</td>\n",
       "      <td>NaN</td>\n",
       "      <td>NaN</td>\n",
       "      <td>NaN</td>\n",
       "      <td>NaN</td>\n",
       "      <td>NaN</td>\n",
       "      <td>NaN</td>\n",
       "      <td>NaN</td>\n",
       "      <td>NaN</td>\n",
       "      <td>...</td>\n",
       "      <td>NaN</td>\n",
       "      <td>0.0</td>\n",
       "      <td>0.0</td>\n",
       "      <td>0.0</td>\n",
       "      <td>0.0</td>\n",
       "      <td>0.0</td>\n",
       "      <td>Granby Police Dept</td>\n",
       "      <td>CT</td>\n",
       "      <td>NaN</td>\n",
       "      <td>murder</td>\n",
       "    </tr>\n",
       "    <tr>\n",
       "      <th>Greenwich</th>\n",
       "      <td>NaN</td>\n",
       "      <td>NaN</td>\n",
       "      <td>NaN</td>\n",
       "      <td>NaN</td>\n",
       "      <td>NaN</td>\n",
       "      <td>NaN</td>\n",
       "      <td>NaN</td>\n",
       "      <td>NaN</td>\n",
       "      <td>NaN</td>\n",
       "      <td>NaN</td>\n",
       "      <td>...</td>\n",
       "      <td>NaN</td>\n",
       "      <td>0.0</td>\n",
       "      <td>0.0</td>\n",
       "      <td>0.0</td>\n",
       "      <td>0.0</td>\n",
       "      <td>1.0</td>\n",
       "      <td>Greenwich Police Dept</td>\n",
       "      <td>CT</td>\n",
       "      <td>NaN</td>\n",
       "      <td>murder</td>\n",
       "    </tr>\n",
       "    <tr>\n",
       "      <th>Groton</th>\n",
       "      <td>NaN</td>\n",
       "      <td>NaN</td>\n",
       "      <td>NaN</td>\n",
       "      <td>NaN</td>\n",
       "      <td>NaN</td>\n",
       "      <td>NaN</td>\n",
       "      <td>NaN</td>\n",
       "      <td>NaN</td>\n",
       "      <td>NaN</td>\n",
       "      <td>NaN</td>\n",
       "      <td>...</td>\n",
       "      <td>NaN</td>\n",
       "      <td>0.0</td>\n",
       "      <td>0.0</td>\n",
       "      <td>0.0</td>\n",
       "      <td>0.0</td>\n",
       "      <td>0.0</td>\n",
       "      <td>Groton Town Police Dept</td>\n",
       "      <td>CT</td>\n",
       "      <td>NaN</td>\n",
       "      <td>murder</td>\n",
       "    </tr>\n",
       "    <tr>\n",
       "      <th>Guilford</th>\n",
       "      <td>NaN</td>\n",
       "      <td>NaN</td>\n",
       "      <td>NaN</td>\n",
       "      <td>NaN</td>\n",
       "      <td>NaN</td>\n",
       "      <td>NaN</td>\n",
       "      <td>NaN</td>\n",
       "      <td>NaN</td>\n",
       "      <td>NaN</td>\n",
       "      <td>NaN</td>\n",
       "      <td>...</td>\n",
       "      <td>NaN</td>\n",
       "      <td>0.0</td>\n",
       "      <td>0.0</td>\n",
       "      <td>0.0</td>\n",
       "      <td>0.0</td>\n",
       "      <td>0.0</td>\n",
       "      <td>Guilford Police Dept</td>\n",
       "      <td>CT</td>\n",
       "      <td>NaN</td>\n",
       "      <td>murder</td>\n",
       "    </tr>\n",
       "    <tr>\n",
       "      <th>Hamden</th>\n",
       "      <td>NaN</td>\n",
       "      <td>NaN</td>\n",
       "      <td>NaN</td>\n",
       "      <td>NaN</td>\n",
       "      <td>NaN</td>\n",
       "      <td>NaN</td>\n",
       "      <td>NaN</td>\n",
       "      <td>NaN</td>\n",
       "      <td>NaN</td>\n",
       "      <td>NaN</td>\n",
       "      <td>...</td>\n",
       "      <td>0.0</td>\n",
       "      <td>1.0</td>\n",
       "      <td>1.0</td>\n",
       "      <td>3.0</td>\n",
       "      <td>1.0</td>\n",
       "      <td>1.0</td>\n",
       "      <td>Hamden Police Dept</td>\n",
       "      <td>CT</td>\n",
       "      <td>NaN</td>\n",
       "      <td>murder</td>\n",
       "    </tr>\n",
       "    <tr>\n",
       "      <th>...</th>\n",
       "      <td>...</td>\n",
       "      <td>...</td>\n",
       "      <td>...</td>\n",
       "      <td>...</td>\n",
       "      <td>...</td>\n",
       "      <td>...</td>\n",
       "      <td>...</td>\n",
       "      <td>...</td>\n",
       "      <td>...</td>\n",
       "      <td>...</td>\n",
       "      <td>...</td>\n",
       "      <td>...</td>\n",
       "      <td>...</td>\n",
       "      <td>...</td>\n",
       "      <td>...</td>\n",
       "      <td>...</td>\n",
       "      <td>...</td>\n",
       "      <td>...</td>\n",
       "      <td>...</td>\n",
       "      <td>...</td>\n",
       "      <td>...</td>\n",
       "    </tr>\n",
       "    <tr>\n",
       "      <th>Ridgefield</th>\n",
       "      <td>NaN</td>\n",
       "      <td>NaN</td>\n",
       "      <td>NaN</td>\n",
       "      <td>NaN</td>\n",
       "      <td>NaN</td>\n",
       "      <td>NaN</td>\n",
       "      <td>NaN</td>\n",
       "      <td>NaN</td>\n",
       "      <td>NaN</td>\n",
       "      <td>NaN</td>\n",
       "      <td>...</td>\n",
       "      <td>NaN</td>\n",
       "      <td>NaN</td>\n",
       "      <td>0.0</td>\n",
       "      <td>0.0</td>\n",
       "      <td>0.0</td>\n",
       "      <td>NaN</td>\n",
       "      <td>Ridgefield Police Dept</td>\n",
       "      <td>CT</td>\n",
       "      <td>NaN</td>\n",
       "      <td>rape</td>\n",
       "    </tr>\n",
       "    <tr>\n",
       "      <th>Rocky Hill</th>\n",
       "      <td>NaN</td>\n",
       "      <td>NaN</td>\n",
       "      <td>NaN</td>\n",
       "      <td>NaN</td>\n",
       "      <td>NaN</td>\n",
       "      <td>NaN</td>\n",
       "      <td>NaN</td>\n",
       "      <td>NaN</td>\n",
       "      <td>NaN</td>\n",
       "      <td>NaN</td>\n",
       "      <td>...</td>\n",
       "      <td>NaN</td>\n",
       "      <td>NaN</td>\n",
       "      <td>0.0</td>\n",
       "      <td>0.0</td>\n",
       "      <td>4.0</td>\n",
       "      <td>NaN</td>\n",
       "      <td>Rocky Hill Police Dept</td>\n",
       "      <td>CT</td>\n",
       "      <td>NaN</td>\n",
       "      <td>rape</td>\n",
       "    </tr>\n",
       "    <tr>\n",
       "      <th>Seymour</th>\n",
       "      <td>NaN</td>\n",
       "      <td>NaN</td>\n",
       "      <td>NaN</td>\n",
       "      <td>NaN</td>\n",
       "      <td>NaN</td>\n",
       "      <td>NaN</td>\n",
       "      <td>NaN</td>\n",
       "      <td>NaN</td>\n",
       "      <td>NaN</td>\n",
       "      <td>NaN</td>\n",
       "      <td>...</td>\n",
       "      <td>NaN</td>\n",
       "      <td>NaN</td>\n",
       "      <td>4.0</td>\n",
       "      <td>1.0</td>\n",
       "      <td>2.0</td>\n",
       "      <td>NaN</td>\n",
       "      <td>Seymour Police Dept</td>\n",
       "      <td>CT</td>\n",
       "      <td>NaN</td>\n",
       "      <td>rape</td>\n",
       "    </tr>\n",
       "    <tr>\n",
       "      <th>Shelton</th>\n",
       "      <td>NaN</td>\n",
       "      <td>NaN</td>\n",
       "      <td>NaN</td>\n",
       "      <td>NaN</td>\n",
       "      <td>NaN</td>\n",
       "      <td>NaN</td>\n",
       "      <td>NaN</td>\n",
       "      <td>NaN</td>\n",
       "      <td>NaN</td>\n",
       "      <td>NaN</td>\n",
       "      <td>...</td>\n",
       "      <td>NaN</td>\n",
       "      <td>NaN</td>\n",
       "      <td>3.0</td>\n",
       "      <td>8.0</td>\n",
       "      <td>4.0</td>\n",
       "      <td>NaN</td>\n",
       "      <td>Shelton Police Dept</td>\n",
       "      <td>CT</td>\n",
       "      <td>NaN</td>\n",
       "      <td>rape</td>\n",
       "    </tr>\n",
       "    <tr>\n",
       "      <th>Simsbury</th>\n",
       "      <td>NaN</td>\n",
       "      <td>NaN</td>\n",
       "      <td>NaN</td>\n",
       "      <td>NaN</td>\n",
       "      <td>NaN</td>\n",
       "      <td>NaN</td>\n",
       "      <td>NaN</td>\n",
       "      <td>NaN</td>\n",
       "      <td>NaN</td>\n",
       "      <td>NaN</td>\n",
       "      <td>...</td>\n",
       "      <td>NaN</td>\n",
       "      <td>NaN</td>\n",
       "      <td>1.0</td>\n",
       "      <td>1.0</td>\n",
       "      <td>2.0</td>\n",
       "      <td>NaN</td>\n",
       "      <td>Simsbury Police Dept</td>\n",
       "      <td>CT</td>\n",
       "      <td>NaN</td>\n",
       "      <td>rape</td>\n",
       "    </tr>\n",
       "    <tr>\n",
       "      <th>South Windsor</th>\n",
       "      <td>NaN</td>\n",
       "      <td>NaN</td>\n",
       "      <td>NaN</td>\n",
       "      <td>NaN</td>\n",
       "      <td>NaN</td>\n",
       "      <td>NaN</td>\n",
       "      <td>NaN</td>\n",
       "      <td>NaN</td>\n",
       "      <td>NaN</td>\n",
       "      <td>NaN</td>\n",
       "      <td>...</td>\n",
       "      <td>NaN</td>\n",
       "      <td>NaN</td>\n",
       "      <td>5.0</td>\n",
       "      <td>4.0</td>\n",
       "      <td>2.0</td>\n",
       "      <td>NaN</td>\n",
       "      <td>South Windsor Police Dept</td>\n",
       "      <td>CT</td>\n",
       "      <td>NaN</td>\n",
       "      <td>rape</td>\n",
       "    </tr>\n",
       "    <tr>\n",
       "      <th>Southington</th>\n",
       "      <td>NaN</td>\n",
       "      <td>NaN</td>\n",
       "      <td>NaN</td>\n",
       "      <td>NaN</td>\n",
       "      <td>NaN</td>\n",
       "      <td>NaN</td>\n",
       "      <td>NaN</td>\n",
       "      <td>NaN</td>\n",
       "      <td>NaN</td>\n",
       "      <td>NaN</td>\n",
       "      <td>...</td>\n",
       "      <td>NaN</td>\n",
       "      <td>NaN</td>\n",
       "      <td>12.0</td>\n",
       "      <td>7.0</td>\n",
       "      <td>15.0</td>\n",
       "      <td>NaN</td>\n",
       "      <td>Southington Police Dept</td>\n",
       "      <td>CT</td>\n",
       "      <td>NaN</td>\n",
       "      <td>rape</td>\n",
       "    </tr>\n",
       "    <tr>\n",
       "      <th>Stamford</th>\n",
       "      <td>NaN</td>\n",
       "      <td>NaN</td>\n",
       "      <td>NaN</td>\n",
       "      <td>NaN</td>\n",
       "      <td>NaN</td>\n",
       "      <td>NaN</td>\n",
       "      <td>NaN</td>\n",
       "      <td>NaN</td>\n",
       "      <td>NaN</td>\n",
       "      <td>NaN</td>\n",
       "      <td>...</td>\n",
       "      <td>NaN</td>\n",
       "      <td>NaN</td>\n",
       "      <td>21.0</td>\n",
       "      <td>19.0</td>\n",
       "      <td>29.0</td>\n",
       "      <td>NaN</td>\n",
       "      <td>Stamford Police Dept</td>\n",
       "      <td>CT</td>\n",
       "      <td>NaN</td>\n",
       "      <td>rape</td>\n",
       "    </tr>\n",
       "    <tr>\n",
       "      <th>Stonington</th>\n",
       "      <td>NaN</td>\n",
       "      <td>NaN</td>\n",
       "      <td>NaN</td>\n",
       "      <td>NaN</td>\n",
       "      <td>NaN</td>\n",
       "      <td>NaN</td>\n",
       "      <td>NaN</td>\n",
       "      <td>NaN</td>\n",
       "      <td>NaN</td>\n",
       "      <td>NaN</td>\n",
       "      <td>...</td>\n",
       "      <td>NaN</td>\n",
       "      <td>NaN</td>\n",
       "      <td>1.0</td>\n",
       "      <td>1.0</td>\n",
       "      <td>2.0</td>\n",
       "      <td>NaN</td>\n",
       "      <td>Stonington Police Dept</td>\n",
       "      <td>CT</td>\n",
       "      <td>NaN</td>\n",
       "      <td>rape</td>\n",
       "    </tr>\n",
       "    <tr>\n",
       "      <th>Stratford</th>\n",
       "      <td>NaN</td>\n",
       "      <td>NaN</td>\n",
       "      <td>NaN</td>\n",
       "      <td>NaN</td>\n",
       "      <td>NaN</td>\n",
       "      <td>NaN</td>\n",
       "      <td>NaN</td>\n",
       "      <td>NaN</td>\n",
       "      <td>NaN</td>\n",
       "      <td>NaN</td>\n",
       "      <td>...</td>\n",
       "      <td>NaN</td>\n",
       "      <td>NaN</td>\n",
       "      <td>7.0</td>\n",
       "      <td>12.0</td>\n",
       "      <td>6.0</td>\n",
       "      <td>NaN</td>\n",
       "      <td>Stratford Police Dept</td>\n",
       "      <td>CT</td>\n",
       "      <td>NaN</td>\n",
       "      <td>rape</td>\n",
       "    </tr>\n",
       "    <tr>\n",
       "      <th>Suffield</th>\n",
       "      <td>NaN</td>\n",
       "      <td>NaN</td>\n",
       "      <td>NaN</td>\n",
       "      <td>NaN</td>\n",
       "      <td>NaN</td>\n",
       "      <td>NaN</td>\n",
       "      <td>NaN</td>\n",
       "      <td>NaN</td>\n",
       "      <td>NaN</td>\n",
       "      <td>NaN</td>\n",
       "      <td>...</td>\n",
       "      <td>NaN</td>\n",
       "      <td>NaN</td>\n",
       "      <td>0.0</td>\n",
       "      <td>0.0</td>\n",
       "      <td>2.0</td>\n",
       "      <td>NaN</td>\n",
       "      <td>Suffield Police Dept</td>\n",
       "      <td>CT</td>\n",
       "      <td>NaN</td>\n",
       "      <td>rape</td>\n",
       "    </tr>\n",
       "    <tr>\n",
       "      <th>Torrington</th>\n",
       "      <td>NaN</td>\n",
       "      <td>NaN</td>\n",
       "      <td>NaN</td>\n",
       "      <td>NaN</td>\n",
       "      <td>NaN</td>\n",
       "      <td>NaN</td>\n",
       "      <td>NaN</td>\n",
       "      <td>NaN</td>\n",
       "      <td>NaN</td>\n",
       "      <td>NaN</td>\n",
       "      <td>...</td>\n",
       "      <td>NaN</td>\n",
       "      <td>NaN</td>\n",
       "      <td>4.0</td>\n",
       "      <td>11.0</td>\n",
       "      <td>5.0</td>\n",
       "      <td>NaN</td>\n",
       "      <td>Torrington Police Dept</td>\n",
       "      <td>CT</td>\n",
       "      <td>NaN</td>\n",
       "      <td>rape</td>\n",
       "    </tr>\n",
       "    <tr>\n",
       "      <th>Trumbull</th>\n",
       "      <td>NaN</td>\n",
       "      <td>NaN</td>\n",
       "      <td>NaN</td>\n",
       "      <td>NaN</td>\n",
       "      <td>NaN</td>\n",
       "      <td>NaN</td>\n",
       "      <td>NaN</td>\n",
       "      <td>NaN</td>\n",
       "      <td>NaN</td>\n",
       "      <td>NaN</td>\n",
       "      <td>...</td>\n",
       "      <td>NaN</td>\n",
       "      <td>NaN</td>\n",
       "      <td>6.0</td>\n",
       "      <td>6.0</td>\n",
       "      <td>11.0</td>\n",
       "      <td>NaN</td>\n",
       "      <td>Trumbull Police Dept</td>\n",
       "      <td>CT</td>\n",
       "      <td>NaN</td>\n",
       "      <td>rape</td>\n",
       "    </tr>\n",
       "    <tr>\n",
       "      <th>Vernon</th>\n",
       "      <td>NaN</td>\n",
       "      <td>NaN</td>\n",
       "      <td>NaN</td>\n",
       "      <td>NaN</td>\n",
       "      <td>NaN</td>\n",
       "      <td>NaN</td>\n",
       "      <td>NaN</td>\n",
       "      <td>NaN</td>\n",
       "      <td>NaN</td>\n",
       "      <td>NaN</td>\n",
       "      <td>...</td>\n",
       "      <td>NaN</td>\n",
       "      <td>NaN</td>\n",
       "      <td>10.0</td>\n",
       "      <td>3.0</td>\n",
       "      <td>1.0</td>\n",
       "      <td>NaN</td>\n",
       "      <td>Vernon Police Dept</td>\n",
       "      <td>CT</td>\n",
       "      <td>NaN</td>\n",
       "      <td>rape</td>\n",
       "    </tr>\n",
       "    <tr>\n",
       "      <th>Wallingford</th>\n",
       "      <td>NaN</td>\n",
       "      <td>NaN</td>\n",
       "      <td>NaN</td>\n",
       "      <td>NaN</td>\n",
       "      <td>NaN</td>\n",
       "      <td>NaN</td>\n",
       "      <td>NaN</td>\n",
       "      <td>NaN</td>\n",
       "      <td>NaN</td>\n",
       "      <td>NaN</td>\n",
       "      <td>...</td>\n",
       "      <td>NaN</td>\n",
       "      <td>NaN</td>\n",
       "      <td>1.0</td>\n",
       "      <td>5.0</td>\n",
       "      <td>2.0</td>\n",
       "      <td>NaN</td>\n",
       "      <td>Wallingford Police Dept</td>\n",
       "      <td>CT</td>\n",
       "      <td>NaN</td>\n",
       "      <td>rape</td>\n",
       "    </tr>\n",
       "    <tr>\n",
       "      <th>Waterbury</th>\n",
       "      <td>NaN</td>\n",
       "      <td>NaN</td>\n",
       "      <td>NaN</td>\n",
       "      <td>NaN</td>\n",
       "      <td>NaN</td>\n",
       "      <td>NaN</td>\n",
       "      <td>NaN</td>\n",
       "      <td>NaN</td>\n",
       "      <td>NaN</td>\n",
       "      <td>NaN</td>\n",
       "      <td>...</td>\n",
       "      <td>NaN</td>\n",
       "      <td>NaN</td>\n",
       "      <td>34.0</td>\n",
       "      <td>32.0</td>\n",
       "      <td>29.0</td>\n",
       "      <td>NaN</td>\n",
       "      <td>Waterbury Police Dept</td>\n",
       "      <td>CT</td>\n",
       "      <td>NaN</td>\n",
       "      <td>rape</td>\n",
       "    </tr>\n",
       "    <tr>\n",
       "      <th>Waterford</th>\n",
       "      <td>NaN</td>\n",
       "      <td>NaN</td>\n",
       "      <td>NaN</td>\n",
       "      <td>NaN</td>\n",
       "      <td>NaN</td>\n",
       "      <td>NaN</td>\n",
       "      <td>NaN</td>\n",
       "      <td>NaN</td>\n",
       "      <td>NaN</td>\n",
       "      <td>NaN</td>\n",
       "      <td>...</td>\n",
       "      <td>NaN</td>\n",
       "      <td>NaN</td>\n",
       "      <td>9.0</td>\n",
       "      <td>8.0</td>\n",
       "      <td>9.0</td>\n",
       "      <td>NaN</td>\n",
       "      <td>Waterford Police Dept</td>\n",
       "      <td>CT</td>\n",
       "      <td>NaN</td>\n",
       "      <td>rape</td>\n",
       "    </tr>\n",
       "    <tr>\n",
       "      <th>Watertown</th>\n",
       "      <td>NaN</td>\n",
       "      <td>NaN</td>\n",
       "      <td>NaN</td>\n",
       "      <td>NaN</td>\n",
       "      <td>NaN</td>\n",
       "      <td>NaN</td>\n",
       "      <td>NaN</td>\n",
       "      <td>NaN</td>\n",
       "      <td>NaN</td>\n",
       "      <td>NaN</td>\n",
       "      <td>...</td>\n",
       "      <td>NaN</td>\n",
       "      <td>NaN</td>\n",
       "      <td>4.0</td>\n",
       "      <td>3.0</td>\n",
       "      <td>1.0</td>\n",
       "      <td>NaN</td>\n",
       "      <td>Watertown Police Dept</td>\n",
       "      <td>CT</td>\n",
       "      <td>NaN</td>\n",
       "      <td>rape</td>\n",
       "    </tr>\n",
       "    <tr>\n",
       "      <th>West Hartford</th>\n",
       "      <td>NaN</td>\n",
       "      <td>NaN</td>\n",
       "      <td>NaN</td>\n",
       "      <td>NaN</td>\n",
       "      <td>NaN</td>\n",
       "      <td>NaN</td>\n",
       "      <td>NaN</td>\n",
       "      <td>NaN</td>\n",
       "      <td>NaN</td>\n",
       "      <td>NaN</td>\n",
       "      <td>...</td>\n",
       "      <td>NaN</td>\n",
       "      <td>NaN</td>\n",
       "      <td>1.0</td>\n",
       "      <td>2.0</td>\n",
       "      <td>2.0</td>\n",
       "      <td>NaN</td>\n",
       "      <td>West Hartford Police Dept</td>\n",
       "      <td>CT</td>\n",
       "      <td>NaN</td>\n",
       "      <td>rape</td>\n",
       "    </tr>\n",
       "    <tr>\n",
       "      <th>West Haven</th>\n",
       "      <td>NaN</td>\n",
       "      <td>NaN</td>\n",
       "      <td>NaN</td>\n",
       "      <td>NaN</td>\n",
       "      <td>NaN</td>\n",
       "      <td>NaN</td>\n",
       "      <td>NaN</td>\n",
       "      <td>NaN</td>\n",
       "      <td>NaN</td>\n",
       "      <td>NaN</td>\n",
       "      <td>...</td>\n",
       "      <td>NaN</td>\n",
       "      <td>NaN</td>\n",
       "      <td>0.0</td>\n",
       "      <td>7.0</td>\n",
       "      <td>15.0</td>\n",
       "      <td>NaN</td>\n",
       "      <td>West Haven Police Dept</td>\n",
       "      <td>CT</td>\n",
       "      <td>NaN</td>\n",
       "      <td>rape</td>\n",
       "    </tr>\n",
       "    <tr>\n",
       "      <th>Weston</th>\n",
       "      <td>NaN</td>\n",
       "      <td>NaN</td>\n",
       "      <td>NaN</td>\n",
       "      <td>NaN</td>\n",
       "      <td>NaN</td>\n",
       "      <td>NaN</td>\n",
       "      <td>NaN</td>\n",
       "      <td>NaN</td>\n",
       "      <td>NaN</td>\n",
       "      <td>NaN</td>\n",
       "      <td>...</td>\n",
       "      <td>NaN</td>\n",
       "      <td>NaN</td>\n",
       "      <td>0.0</td>\n",
       "      <td>0.0</td>\n",
       "      <td>0.0</td>\n",
       "      <td>NaN</td>\n",
       "      <td>Weston Police Dept</td>\n",
       "      <td>CT</td>\n",
       "      <td>NaN</td>\n",
       "      <td>rape</td>\n",
       "    </tr>\n",
       "    <tr>\n",
       "      <th>Westport</th>\n",
       "      <td>NaN</td>\n",
       "      <td>NaN</td>\n",
       "      <td>NaN</td>\n",
       "      <td>NaN</td>\n",
       "      <td>NaN</td>\n",
       "      <td>NaN</td>\n",
       "      <td>NaN</td>\n",
       "      <td>NaN</td>\n",
       "      <td>NaN</td>\n",
       "      <td>NaN</td>\n",
       "      <td>...</td>\n",
       "      <td>NaN</td>\n",
       "      <td>NaN</td>\n",
       "      <td>0.0</td>\n",
       "      <td>0.0</td>\n",
       "      <td>1.0</td>\n",
       "      <td>NaN</td>\n",
       "      <td>Westport Police Dept</td>\n",
       "      <td>CT</td>\n",
       "      <td>NaN</td>\n",
       "      <td>rape</td>\n",
       "    </tr>\n",
       "    <tr>\n",
       "      <th>Wethersfield</th>\n",
       "      <td>NaN</td>\n",
       "      <td>NaN</td>\n",
       "      <td>NaN</td>\n",
       "      <td>NaN</td>\n",
       "      <td>NaN</td>\n",
       "      <td>NaN</td>\n",
       "      <td>NaN</td>\n",
       "      <td>NaN</td>\n",
       "      <td>NaN</td>\n",
       "      <td>NaN</td>\n",
       "      <td>...</td>\n",
       "      <td>NaN</td>\n",
       "      <td>NaN</td>\n",
       "      <td>3.0</td>\n",
       "      <td>3.0</td>\n",
       "      <td>NaN</td>\n",
       "      <td>NaN</td>\n",
       "      <td>Wethersfield Police Dept</td>\n",
       "      <td>CT</td>\n",
       "      <td>NaN</td>\n",
       "      <td>rape</td>\n",
       "    </tr>\n",
       "    <tr>\n",
       "      <th>Willimantic</th>\n",
       "      <td>NaN</td>\n",
       "      <td>NaN</td>\n",
       "      <td>NaN</td>\n",
       "      <td>NaN</td>\n",
       "      <td>NaN</td>\n",
       "      <td>NaN</td>\n",
       "      <td>NaN</td>\n",
       "      <td>NaN</td>\n",
       "      <td>NaN</td>\n",
       "      <td>NaN</td>\n",
       "      <td>...</td>\n",
       "      <td>NaN</td>\n",
       "      <td>NaN</td>\n",
       "      <td>4.0</td>\n",
       "      <td>0.0</td>\n",
       "      <td>5.0</td>\n",
       "      <td>NaN</td>\n",
       "      <td>Willimantic Police Dept</td>\n",
       "      <td>CT</td>\n",
       "      <td>NaN</td>\n",
       "      <td>rape</td>\n",
       "    </tr>\n",
       "    <tr>\n",
       "      <th>Wilton</th>\n",
       "      <td>NaN</td>\n",
       "      <td>NaN</td>\n",
       "      <td>NaN</td>\n",
       "      <td>NaN</td>\n",
       "      <td>NaN</td>\n",
       "      <td>NaN</td>\n",
       "      <td>NaN</td>\n",
       "      <td>NaN</td>\n",
       "      <td>NaN</td>\n",
       "      <td>NaN</td>\n",
       "      <td>...</td>\n",
       "      <td>NaN</td>\n",
       "      <td>NaN</td>\n",
       "      <td>0.0</td>\n",
       "      <td>0.0</td>\n",
       "      <td>1.0</td>\n",
       "      <td>NaN</td>\n",
       "      <td>Wilton Police Dept</td>\n",
       "      <td>CT</td>\n",
       "      <td>NaN</td>\n",
       "      <td>rape</td>\n",
       "    </tr>\n",
       "    <tr>\n",
       "      <th>Winchester</th>\n",
       "      <td>NaN</td>\n",
       "      <td>NaN</td>\n",
       "      <td>NaN</td>\n",
       "      <td>NaN</td>\n",
       "      <td>NaN</td>\n",
       "      <td>NaN</td>\n",
       "      <td>NaN</td>\n",
       "      <td>NaN</td>\n",
       "      <td>NaN</td>\n",
       "      <td>NaN</td>\n",
       "      <td>...</td>\n",
       "      <td>NaN</td>\n",
       "      <td>NaN</td>\n",
       "      <td>0.0</td>\n",
       "      <td>3.0</td>\n",
       "      <td>2.0</td>\n",
       "      <td>NaN</td>\n",
       "      <td>Winchester Town Police Dept</td>\n",
       "      <td>CT</td>\n",
       "      <td>NaN</td>\n",
       "      <td>rape</td>\n",
       "    </tr>\n",
       "    <tr>\n",
       "      <th>Windsor Locks</th>\n",
       "      <td>NaN</td>\n",
       "      <td>NaN</td>\n",
       "      <td>NaN</td>\n",
       "      <td>NaN</td>\n",
       "      <td>NaN</td>\n",
       "      <td>NaN</td>\n",
       "      <td>NaN</td>\n",
       "      <td>NaN</td>\n",
       "      <td>NaN</td>\n",
       "      <td>NaN</td>\n",
       "      <td>...</td>\n",
       "      <td>NaN</td>\n",
       "      <td>NaN</td>\n",
       "      <td>4.0</td>\n",
       "      <td>1.0</td>\n",
       "      <td>5.0</td>\n",
       "      <td>NaN</td>\n",
       "      <td>Windsor Locks Police Dept</td>\n",
       "      <td>CT</td>\n",
       "      <td>NaN</td>\n",
       "      <td>rape</td>\n",
       "    </tr>\n",
       "    <tr>\n",
       "      <th>Windsor</th>\n",
       "      <td>NaN</td>\n",
       "      <td>NaN</td>\n",
       "      <td>NaN</td>\n",
       "      <td>NaN</td>\n",
       "      <td>NaN</td>\n",
       "      <td>NaN</td>\n",
       "      <td>NaN</td>\n",
       "      <td>NaN</td>\n",
       "      <td>NaN</td>\n",
       "      <td>NaN</td>\n",
       "      <td>...</td>\n",
       "      <td>NaN</td>\n",
       "      <td>NaN</td>\n",
       "      <td>2.0</td>\n",
       "      <td>2.0</td>\n",
       "      <td>7.0</td>\n",
       "      <td>NaN</td>\n",
       "      <td>Windsor Police Dept</td>\n",
       "      <td>CT</td>\n",
       "      <td>NaN</td>\n",
       "      <td>rape</td>\n",
       "    </tr>\n",
       "    <tr>\n",
       "      <th>Wolcott</th>\n",
       "      <td>NaN</td>\n",
       "      <td>NaN</td>\n",
       "      <td>NaN</td>\n",
       "      <td>NaN</td>\n",
       "      <td>NaN</td>\n",
       "      <td>NaN</td>\n",
       "      <td>NaN</td>\n",
       "      <td>NaN</td>\n",
       "      <td>NaN</td>\n",
       "      <td>NaN</td>\n",
       "      <td>...</td>\n",
       "      <td>NaN</td>\n",
       "      <td>NaN</td>\n",
       "      <td>0.0</td>\n",
       "      <td>0.0</td>\n",
       "      <td>0.0</td>\n",
       "      <td>NaN</td>\n",
       "      <td>Wolcott Police Dept</td>\n",
       "      <td>CT</td>\n",
       "      <td>NaN</td>\n",
       "      <td>rape</td>\n",
       "    </tr>\n",
       "    <tr>\n",
       "      <th>Agency</th>\n",
       "      <td>NaN</td>\n",
       "      <td>NaN</td>\n",
       "      <td>NaN</td>\n",
       "      <td>NaN</td>\n",
       "      <td>NaN</td>\n",
       "      <td>NaN</td>\n",
       "      <td>NaN</td>\n",
       "      <td>NaN</td>\n",
       "      <td>NaN</td>\n",
       "      <td>NaN</td>\n",
       "      <td>...</td>\n",
       "      <td>NaN</td>\n",
       "      <td>2014.0</td>\n",
       "      <td>NaN</td>\n",
       "      <td>NaN</td>\n",
       "      <td>NaN</td>\n",
       "      <td>NaN</td>\n",
       "      <td>Agency</td>\n",
       "      <td>State</td>\n",
       "      <td>NaN</td>\n",
       "      <td>rape</td>\n",
       "    </tr>\n",
       "  </tbody>\n",
       "</table>\n",
       "<p>840 rows × 85 columns</p>\n",
       "</div>"
      ],
      "text/plain": [
       "               2006  2007  2008  2009  2010  2011  2012  2013  2014  2015  \\\n",
       "City                                                                        \n",
       "Ansonia         NaN   NaN   NaN   NaN   NaN   NaN   NaN   NaN   NaN   NaN   \n",
       "Avon            NaN   NaN   NaN   NaN   NaN   NaN   NaN   NaN   NaN   NaN   \n",
       "Berlin          NaN   NaN   NaN   NaN   NaN   NaN   NaN   NaN   NaN   NaN   \n",
       "Bethel          NaN   NaN   NaN   NaN   NaN   NaN   NaN   NaN   NaN   NaN   \n",
       "Bloomfield      NaN   NaN   NaN   NaN   NaN   NaN   NaN   NaN   NaN   NaN   \n",
       "Branford        NaN   NaN   NaN   NaN   NaN   NaN   NaN   NaN   NaN   NaN   \n",
       "Bridgeport      NaN   NaN   NaN   NaN   NaN   NaN   NaN   NaN   NaN   NaN   \n",
       "Bristol         NaN   NaN   NaN   NaN   NaN   NaN   NaN   NaN   NaN   NaN   \n",
       "Brookfield      NaN   NaN   NaN   NaN   NaN   NaN   NaN   NaN   NaN   NaN   \n",
       "Canton          NaN   NaN   NaN   NaN   NaN   NaN   NaN   NaN   NaN   NaN   \n",
       "Cheshire        NaN   NaN   NaN   NaN   NaN   NaN   NaN   NaN   NaN   NaN   \n",
       "Clinton         NaN   NaN   NaN   NaN   NaN   NaN   NaN   NaN   NaN   NaN   \n",
       "Coventry        NaN   NaN   NaN   NaN   NaN   NaN   NaN   NaN   NaN   NaN   \n",
       "Cromwell        NaN   NaN   NaN   NaN   NaN   NaN   NaN   NaN   NaN   NaN   \n",
       "Danbury         NaN   NaN   NaN   NaN   NaN   NaN   NaN   NaN   NaN   NaN   \n",
       "Darien          NaN   NaN   NaN   NaN   NaN   NaN   NaN   NaN   NaN   NaN   \n",
       "Derby           NaN   NaN   NaN   NaN   NaN   NaN   NaN   NaN   NaN   NaN   \n",
       "East Hampton    NaN   NaN   NaN   NaN   NaN   NaN   NaN   NaN   NaN   NaN   \n",
       "East Hartford   NaN   NaN   NaN   NaN   NaN   NaN   NaN   NaN   NaN   NaN   \n",
       "East Haven      NaN   NaN   NaN   NaN   NaN   NaN   NaN   NaN   NaN   NaN   \n",
       "East Windsor    NaN   NaN   NaN   NaN   NaN   NaN   NaN   NaN   NaN   NaN   \n",
       "Enfield         NaN   NaN   NaN   NaN   NaN   NaN   NaN   NaN   NaN   NaN   \n",
       "Fairfield       NaN   NaN   NaN   NaN   NaN   NaN   NaN   NaN   NaN   NaN   \n",
       "Farmington      NaN   NaN   NaN   NaN   NaN   NaN   NaN   NaN   NaN   NaN   \n",
       "Glastonbury     NaN   NaN   NaN   NaN   NaN   NaN   NaN   NaN   NaN   NaN   \n",
       "Granby          NaN   NaN   NaN   NaN   NaN   NaN   NaN   NaN   NaN   NaN   \n",
       "Greenwich       NaN   NaN   NaN   NaN   NaN   NaN   NaN   NaN   NaN   NaN   \n",
       "Groton          NaN   NaN   NaN   NaN   NaN   NaN   NaN   NaN   NaN   NaN   \n",
       "Guilford        NaN   NaN   NaN   NaN   NaN   NaN   NaN   NaN   NaN   NaN   \n",
       "Hamden          NaN   NaN   NaN   NaN   NaN   NaN   NaN   NaN   NaN   NaN   \n",
       "...             ...   ...   ...   ...   ...   ...   ...   ...   ...   ...   \n",
       "Ridgefield      NaN   NaN   NaN   NaN   NaN   NaN   NaN   NaN   NaN   NaN   \n",
       "Rocky Hill      NaN   NaN   NaN   NaN   NaN   NaN   NaN   NaN   NaN   NaN   \n",
       "Seymour         NaN   NaN   NaN   NaN   NaN   NaN   NaN   NaN   NaN   NaN   \n",
       "Shelton         NaN   NaN   NaN   NaN   NaN   NaN   NaN   NaN   NaN   NaN   \n",
       "Simsbury        NaN   NaN   NaN   NaN   NaN   NaN   NaN   NaN   NaN   NaN   \n",
       "South Windsor   NaN   NaN   NaN   NaN   NaN   NaN   NaN   NaN   NaN   NaN   \n",
       "Southington     NaN   NaN   NaN   NaN   NaN   NaN   NaN   NaN   NaN   NaN   \n",
       "Stamford        NaN   NaN   NaN   NaN   NaN   NaN   NaN   NaN   NaN   NaN   \n",
       "Stonington      NaN   NaN   NaN   NaN   NaN   NaN   NaN   NaN   NaN   NaN   \n",
       "Stratford       NaN   NaN   NaN   NaN   NaN   NaN   NaN   NaN   NaN   NaN   \n",
       "Suffield        NaN   NaN   NaN   NaN   NaN   NaN   NaN   NaN   NaN   NaN   \n",
       "Torrington      NaN   NaN   NaN   NaN   NaN   NaN   NaN   NaN   NaN   NaN   \n",
       "Trumbull        NaN   NaN   NaN   NaN   NaN   NaN   NaN   NaN   NaN   NaN   \n",
       "Vernon          NaN   NaN   NaN   NaN   NaN   NaN   NaN   NaN   NaN   NaN   \n",
       "Wallingford     NaN   NaN   NaN   NaN   NaN   NaN   NaN   NaN   NaN   NaN   \n",
       "Waterbury       NaN   NaN   NaN   NaN   NaN   NaN   NaN   NaN   NaN   NaN   \n",
       "Waterford       NaN   NaN   NaN   NaN   NaN   NaN   NaN   NaN   NaN   NaN   \n",
       "Watertown       NaN   NaN   NaN   NaN   NaN   NaN   NaN   NaN   NaN   NaN   \n",
       "West Hartford   NaN   NaN   NaN   NaN   NaN   NaN   NaN   NaN   NaN   NaN   \n",
       "West Haven      NaN   NaN   NaN   NaN   NaN   NaN   NaN   NaN   NaN   NaN   \n",
       "Weston          NaN   NaN   NaN   NaN   NaN   NaN   NaN   NaN   NaN   NaN   \n",
       "Westport        NaN   NaN   NaN   NaN   NaN   NaN   NaN   NaN   NaN   NaN   \n",
       "Wethersfield    NaN   NaN   NaN   NaN   NaN   NaN   NaN   NaN   NaN   NaN   \n",
       "Willimantic     NaN   NaN   NaN   NaN   NaN   NaN   NaN   NaN   NaN   NaN   \n",
       "Wilton          NaN   NaN   NaN   NaN   NaN   NaN   NaN   NaN   NaN   NaN   \n",
       "Winchester      NaN   NaN   NaN   NaN   NaN   NaN   NaN   NaN   NaN   NaN   \n",
       "Windsor Locks   NaN   NaN   NaN   NaN   NaN   NaN   NaN   NaN   NaN   NaN   \n",
       "Windsor         NaN   NaN   NaN   NaN   NaN   NaN   NaN   NaN   NaN   NaN   \n",
       "Wolcott         NaN   NaN   NaN   NaN   NaN   NaN   NaN   NaN   NaN   NaN   \n",
       "Agency          NaN   NaN   NaN   NaN   NaN   NaN   NaN   NaN   NaN   NaN   \n",
       "\n",
       "                ...    2014_diff_pct  2014_hist  2014_new  2015  2016  2017  \\\n",
       "City            ...                                                           \n",
       "Ansonia         ...              NaN        0.0       0.0   0.0   0.0   0.0   \n",
       "Avon            ...              NaN        0.0       0.0   0.0   0.0   0.0   \n",
       "Berlin          ...              NaN        0.0       0.0   0.0   0.0   0.0   \n",
       "Bethel          ...              NaN        0.0       0.0   0.0   1.0   0.0   \n",
       "Bloomfield      ...              NaN        0.0       0.0   1.0   0.0   0.0   \n",
       "Branford        ...              0.0        1.0       1.0   0.0   0.0   0.0   \n",
       "Bridgeport      ...              0.0       11.0      11.0  19.0  10.0  21.0   \n",
       "Bristol         ...              0.0        3.0       3.0   0.0   0.0   1.0   \n",
       "Brookfield      ...              NaN        0.0       0.0   0.0   0.0   0.0   \n",
       "Canton          ...              NaN        0.0       0.0   0.0   0.0   0.0   \n",
       "Cheshire        ...              0.0        1.0       1.0   0.0   0.0   0.0   \n",
       "Clinton         ...              NaN        0.0       0.0   0.0   0.0   0.0   \n",
       "Coventry        ...              NaN        0.0       0.0   0.0   0.0   0.0   \n",
       "Cromwell        ...              NaN        0.0       0.0   0.0   0.0   0.0   \n",
       "Danbury         ...              0.0        1.0       1.0   0.0   0.0   1.0   \n",
       "Darien          ...              NaN        0.0       0.0   0.0   0.0   0.0   \n",
       "Derby           ...              NaN        0.0       0.0   0.0   0.0   1.0   \n",
       "East Hampton    ...              NaN        0.0       0.0   0.0   0.0   0.0   \n",
       "East Hartford   ...              0.0        2.0       2.0   1.0   4.0   1.0   \n",
       "East Haven      ...              NaN        0.0       0.0   3.0   0.0   0.0   \n",
       "East Windsor    ...              0.0        1.0       1.0   0.0   0.0   0.0   \n",
       "Enfield         ...              0.0        2.0       2.0   0.0   1.0   0.0   \n",
       "Fairfield       ...              NaN        0.0       0.0   0.0   0.0   0.0   \n",
       "Farmington      ...              NaN        0.0       0.0   0.0   0.0   0.0   \n",
       "Glastonbury     ...              NaN        0.0       0.0   0.0   NaN   0.0   \n",
       "Granby          ...              NaN        0.0       0.0   0.0   0.0   0.0   \n",
       "Greenwich       ...              NaN        0.0       0.0   0.0   0.0   1.0   \n",
       "Groton          ...              NaN        0.0       0.0   0.0   0.0   0.0   \n",
       "Guilford        ...              NaN        0.0       0.0   0.0   0.0   0.0   \n",
       "Hamden          ...              0.0        1.0       1.0   3.0   1.0   1.0   \n",
       "...             ...              ...        ...       ...   ...   ...   ...   \n",
       "Ridgefield      ...              NaN        NaN       0.0   0.0   0.0   NaN   \n",
       "Rocky Hill      ...              NaN        NaN       0.0   0.0   4.0   NaN   \n",
       "Seymour         ...              NaN        NaN       4.0   1.0   2.0   NaN   \n",
       "Shelton         ...              NaN        NaN       3.0   8.0   4.0   NaN   \n",
       "Simsbury        ...              NaN        NaN       1.0   1.0   2.0   NaN   \n",
       "South Windsor   ...              NaN        NaN       5.0   4.0   2.0   NaN   \n",
       "Southington     ...              NaN        NaN      12.0   7.0  15.0   NaN   \n",
       "Stamford        ...              NaN        NaN      21.0  19.0  29.0   NaN   \n",
       "Stonington      ...              NaN        NaN       1.0   1.0   2.0   NaN   \n",
       "Stratford       ...              NaN        NaN       7.0  12.0   6.0   NaN   \n",
       "Suffield        ...              NaN        NaN       0.0   0.0   2.0   NaN   \n",
       "Torrington      ...              NaN        NaN       4.0  11.0   5.0   NaN   \n",
       "Trumbull        ...              NaN        NaN       6.0   6.0  11.0   NaN   \n",
       "Vernon          ...              NaN        NaN      10.0   3.0   1.0   NaN   \n",
       "Wallingford     ...              NaN        NaN       1.0   5.0   2.0   NaN   \n",
       "Waterbury       ...              NaN        NaN      34.0  32.0  29.0   NaN   \n",
       "Waterford       ...              NaN        NaN       9.0   8.0   9.0   NaN   \n",
       "Watertown       ...              NaN        NaN       4.0   3.0   1.0   NaN   \n",
       "West Hartford   ...              NaN        NaN       1.0   2.0   2.0   NaN   \n",
       "West Haven      ...              NaN        NaN       0.0   7.0  15.0   NaN   \n",
       "Weston          ...              NaN        NaN       0.0   0.0   0.0   NaN   \n",
       "Westport        ...              NaN        NaN       0.0   0.0   1.0   NaN   \n",
       "Wethersfield    ...              NaN        NaN       3.0   3.0   NaN   NaN   \n",
       "Willimantic     ...              NaN        NaN       4.0   0.0   5.0   NaN   \n",
       "Wilton          ...              NaN        NaN       0.0   0.0   1.0   NaN   \n",
       "Winchester      ...              NaN        NaN       0.0   3.0   2.0   NaN   \n",
       "Windsor Locks   ...              NaN        NaN       4.0   1.0   5.0   NaN   \n",
       "Windsor         ...              NaN        NaN       2.0   2.0   7.0   NaN   \n",
       "Wolcott         ...              NaN        NaN       0.0   0.0   0.0   NaN   \n",
       "Agency          ...              NaN     2014.0       NaN   NaN   NaN   NaN   \n",
       "\n",
       "                                    Agency  State  Unnamed: 32   crime  \n",
       "City                                                                    \n",
       "Ansonia                Ansonia Police Dept     CT          NaN  murder  \n",
       "Avon                      Avon Police Dept     CT          NaN  murder  \n",
       "Berlin                  Berlin Police Dept     CT          NaN  murder  \n",
       "Bethel                  Bethel Police Dept     CT          NaN  murder  \n",
       "Bloomfield          Bloomfield Police Dept     CT          NaN  murder  \n",
       "Branford              Branford Police Dept     CT          NaN  murder  \n",
       "Bridgeport          Bridgeport Police Dept     CT          NaN  murder  \n",
       "Bristol                Bristol Police Dept     CT          NaN  murder  \n",
       "Brookfield          Brookfield Police Dept     CT          NaN  murder  \n",
       "Canton             Canton Town Police Dept     CT          NaN  murder  \n",
       "Cheshire              Cheshire Police Dept     CT          NaN  murder  \n",
       "Clinton                Clinton Police Dept     CT          NaN  murder  \n",
       "Coventry              Coventry Police Dept     CT          NaN  murder  \n",
       "Cromwell              Cromwell Police Dept     CT          NaN  murder  \n",
       "Danbury                Danbury Police Dept     CT          NaN  murder  \n",
       "Darien                  Darien Police Dept     CT          NaN  murder  \n",
       "Derby                    Derby Police Dept     CT          NaN  murder  \n",
       "East Hampton      East Hampton Police Dept     CT          NaN  murder  \n",
       "East Hartford         East Hartford Police     CT          NaN  murder  \n",
       "East Haven          East Haven Police Dept     CT          NaN  murder  \n",
       "East Windsor      East Windsor Police Dept     CT          NaN  murder  \n",
       "Enfield                Enfield Police Dept     CT          NaN  murder  \n",
       "Fairfield            Fairfield Police Dept     CT          NaN  murder  \n",
       "Farmington          Farmington Police Dept     CT          NaN  murder  \n",
       "Glastonbury        Glastonbury Police Dept     CT          NaN  murder  \n",
       "Granby                  Granby Police Dept     CT          NaN  murder  \n",
       "Greenwich            Greenwich Police Dept     CT          NaN  murder  \n",
       "Groton             Groton Town Police Dept     CT          NaN  murder  \n",
       "Guilford              Guilford Police Dept     CT          NaN  murder  \n",
       "Hamden                  Hamden Police Dept     CT          NaN  murder  \n",
       "...                                    ...    ...          ...     ...  \n",
       "Ridgefield          Ridgefield Police Dept     CT          NaN    rape  \n",
       "Rocky Hill          Rocky Hill Police Dept     CT          NaN    rape  \n",
       "Seymour                Seymour Police Dept     CT          NaN    rape  \n",
       "Shelton                Shelton Police Dept     CT          NaN    rape  \n",
       "Simsbury              Simsbury Police Dept     CT          NaN    rape  \n",
       "South Windsor    South Windsor Police Dept     CT          NaN    rape  \n",
       "Southington        Southington Police Dept     CT          NaN    rape  \n",
       "Stamford              Stamford Police Dept     CT          NaN    rape  \n",
       "Stonington          Stonington Police Dept     CT          NaN    rape  \n",
       "Stratford            Stratford Police Dept     CT          NaN    rape  \n",
       "Suffield              Suffield Police Dept     CT          NaN    rape  \n",
       "Torrington          Torrington Police Dept     CT          NaN    rape  \n",
       "Trumbull              Trumbull Police Dept     CT          NaN    rape  \n",
       "Vernon                  Vernon Police Dept     CT          NaN    rape  \n",
       "Wallingford        Wallingford Police Dept     CT          NaN    rape  \n",
       "Waterbury            Waterbury Police Dept     CT          NaN    rape  \n",
       "Waterford            Waterford Police Dept     CT          NaN    rape  \n",
       "Watertown            Watertown Police Dept     CT          NaN    rape  \n",
       "West Hartford    West Hartford Police Dept     CT          NaN    rape  \n",
       "West Haven          West Haven Police Dept     CT          NaN    rape  \n",
       "Weston                  Weston Police Dept     CT          NaN    rape  \n",
       "Westport              Westport Police Dept     CT          NaN    rape  \n",
       "Wethersfield      Wethersfield Police Dept     CT          NaN    rape  \n",
       "Willimantic        Willimantic Police Dept     CT          NaN    rape  \n",
       "Wilton                  Wilton Police Dept     CT          NaN    rape  \n",
       "Winchester     Winchester Town Police Dept     CT          NaN    rape  \n",
       "Windsor Locks    Windsor Locks Police Dept     CT          NaN    rape  \n",
       "Windsor                Windsor Police Dept     CT          NaN    rape  \n",
       "Wolcott                Wolcott Police Dept     CT          NaN    rape  \n",
       "Agency                              Agency  State          NaN    rape  \n",
       "\n",
       "[840 rows x 85 columns]"
      ]
     },
     "execution_count": 54,
     "metadata": {},
     "output_type": "execute_result"
    }
   ],
   "source": [
    "mega_hist"
   ]
  },
  {
   "cell_type": "code",
   "execution_count": 55,
   "metadata": {},
   "outputs": [
    {
     "data": {
      "text/html": [
       "<div>\n",
       "<style scoped>\n",
       "    .dataframe tbody tr th:only-of-type {\n",
       "        vertical-align: middle;\n",
       "    }\n",
       "\n",
       "    .dataframe tbody tr th {\n",
       "        vertical-align: top;\n",
       "    }\n",
       "\n",
       "    .dataframe thead th {\n",
       "        text-align: right;\n",
       "    }\n",
       "</style>\n",
       "<table border=\"1\" class=\"dataframe\">\n",
       "  <thead>\n",
       "    <tr style=\"text-align: right;\">\n",
       "      <th></th>\n",
       "      <th>2006</th>\n",
       "      <th>2007</th>\n",
       "      <th>2008</th>\n",
       "      <th>2009</th>\n",
       "      <th>2010</th>\n",
       "      <th>2011</th>\n",
       "      <th>2012</th>\n",
       "      <th>2013</th>\n",
       "      <th>2014</th>\n",
       "      <th>2015</th>\n",
       "      <th>...</th>\n",
       "      <th>2014_diff_pct</th>\n",
       "      <th>2014_hist</th>\n",
       "      <th>2014_new</th>\n",
       "      <th>2015</th>\n",
       "      <th>2016</th>\n",
       "      <th>2017</th>\n",
       "      <th>Agency</th>\n",
       "      <th>State</th>\n",
       "      <th>Unnamed: 32</th>\n",
       "      <th>crime</th>\n",
       "    </tr>\n",
       "    <tr>\n",
       "      <th>City</th>\n",
       "      <th></th>\n",
       "      <th></th>\n",
       "      <th></th>\n",
       "      <th></th>\n",
       "      <th></th>\n",
       "      <th></th>\n",
       "      <th></th>\n",
       "      <th></th>\n",
       "      <th></th>\n",
       "      <th></th>\n",
       "      <th></th>\n",
       "      <th></th>\n",
       "      <th></th>\n",
       "      <th></th>\n",
       "      <th></th>\n",
       "      <th></th>\n",
       "      <th></th>\n",
       "      <th></th>\n",
       "      <th></th>\n",
       "      <th></th>\n",
       "      <th></th>\n",
       "    </tr>\n",
       "  </thead>\n",
       "  <tbody>\n",
       "    <tr>\n",
       "      <th>Wolcott</th>\n",
       "      <td>NaN</td>\n",
       "      <td>NaN</td>\n",
       "      <td>NaN</td>\n",
       "      <td>NaN</td>\n",
       "      <td>NaN</td>\n",
       "      <td>NaN</td>\n",
       "      <td>NaN</td>\n",
       "      <td>NaN</td>\n",
       "      <td>NaN</td>\n",
       "      <td>NaN</td>\n",
       "      <td>...</td>\n",
       "      <td>NaN</td>\n",
       "      <td>0.0</td>\n",
       "      <td>0.0</td>\n",
       "      <td>0.0</td>\n",
       "      <td>0.0</td>\n",
       "      <td>0.0</td>\n",
       "      <td>Wolcott Police Dept</td>\n",
       "      <td>CT</td>\n",
       "      <td>NaN</td>\n",
       "      <td>murder</td>\n",
       "    </tr>\n",
       "    <tr>\n",
       "      <th>Wolcott</th>\n",
       "      <td>1.0</td>\n",
       "      <td>3.0</td>\n",
       "      <td>2.0</td>\n",
       "      <td>1.0</td>\n",
       "      <td>1.0</td>\n",
       "      <td>0.0</td>\n",
       "      <td>0.0</td>\n",
       "      <td>1.0</td>\n",
       "      <td>0.0</td>\n",
       "      <td>1.0</td>\n",
       "      <td>...</td>\n",
       "      <td>NaN</td>\n",
       "      <td>NaN</td>\n",
       "      <td>NaN</td>\n",
       "      <td>NaN</td>\n",
       "      <td>NaN</td>\n",
       "      <td>NaN</td>\n",
       "      <td>NaN</td>\n",
       "      <td>NaN</td>\n",
       "      <td>NaN</td>\n",
       "      <td>arson</td>\n",
       "    </tr>\n",
       "    <tr>\n",
       "      <th>Wolcott</th>\n",
       "      <td>NaN</td>\n",
       "      <td>NaN</td>\n",
       "      <td>NaN</td>\n",
       "      <td>NaN</td>\n",
       "      <td>NaN</td>\n",
       "      <td>NaN</td>\n",
       "      <td>NaN</td>\n",
       "      <td>NaN</td>\n",
       "      <td>NaN</td>\n",
       "      <td>NaN</td>\n",
       "      <td>...</td>\n",
       "      <td>0.0</td>\n",
       "      <td>18.0</td>\n",
       "      <td>18.0</td>\n",
       "      <td>27.0</td>\n",
       "      <td>38.0</td>\n",
       "      <td>28.0</td>\n",
       "      <td>Wolcott Police Dept</td>\n",
       "      <td>CT</td>\n",
       "      <td>NaN</td>\n",
       "      <td>mv-theft</td>\n",
       "    </tr>\n",
       "    <tr>\n",
       "      <th>Wolcott</th>\n",
       "      <td>NaN</td>\n",
       "      <td>NaN</td>\n",
       "      <td>NaN</td>\n",
       "      <td>NaN</td>\n",
       "      <td>NaN</td>\n",
       "      <td>NaN</td>\n",
       "      <td>NaN</td>\n",
       "      <td>NaN</td>\n",
       "      <td>NaN</td>\n",
       "      <td>NaN</td>\n",
       "      <td>...</td>\n",
       "      <td>0.0</td>\n",
       "      <td>7.0</td>\n",
       "      <td>7.0</td>\n",
       "      <td>5.0</td>\n",
       "      <td>5.0</td>\n",
       "      <td>5.0</td>\n",
       "      <td>Wolcott Police Dept</td>\n",
       "      <td>CT</td>\n",
       "      <td>NaN</td>\n",
       "      <td>violent-crimes</td>\n",
       "    </tr>\n",
       "    <tr>\n",
       "      <th>Wolcott</th>\n",
       "      <td>NaN</td>\n",
       "      <td>NaN</td>\n",
       "      <td>NaN</td>\n",
       "      <td>NaN</td>\n",
       "      <td>NaN</td>\n",
       "      <td>NaN</td>\n",
       "      <td>NaN</td>\n",
       "      <td>NaN</td>\n",
       "      <td>NaN</td>\n",
       "      <td>NaN</td>\n",
       "      <td>...</td>\n",
       "      <td>0.0</td>\n",
       "      <td>245.0</td>\n",
       "      <td>245.0</td>\n",
       "      <td>178.0</td>\n",
       "      <td>185.0</td>\n",
       "      <td>183.0</td>\n",
       "      <td>Wolcott Police Dept</td>\n",
       "      <td>CT</td>\n",
       "      <td>NaN</td>\n",
       "      <td>larceny</td>\n",
       "    </tr>\n",
       "    <tr>\n",
       "      <th>Wolcott</th>\n",
       "      <td>NaN</td>\n",
       "      <td>NaN</td>\n",
       "      <td>NaN</td>\n",
       "      <td>NaN</td>\n",
       "      <td>NaN</td>\n",
       "      <td>NaN</td>\n",
       "      <td>NaN</td>\n",
       "      <td>NaN</td>\n",
       "      <td>NaN</td>\n",
       "      <td>NaN</td>\n",
       "      <td>...</td>\n",
       "      <td>0.0</td>\n",
       "      <td>3.0</td>\n",
       "      <td>3.0</td>\n",
       "      <td>2.0</td>\n",
       "      <td>1.0</td>\n",
       "      <td>1.0</td>\n",
       "      <td>Wolcott Police Dept</td>\n",
       "      <td>CT</td>\n",
       "      <td>NaN</td>\n",
       "      <td>assault</td>\n",
       "    </tr>\n",
       "    <tr>\n",
       "      <th>Wolcott</th>\n",
       "      <td>NaN</td>\n",
       "      <td>NaN</td>\n",
       "      <td>NaN</td>\n",
       "      <td>NaN</td>\n",
       "      <td>NaN</td>\n",
       "      <td>NaN</td>\n",
       "      <td>NaN</td>\n",
       "      <td>NaN</td>\n",
       "      <td>NaN</td>\n",
       "      <td>NaN</td>\n",
       "      <td>...</td>\n",
       "      <td>0.0</td>\n",
       "      <td>4.0</td>\n",
       "      <td>4.0</td>\n",
       "      <td>3.0</td>\n",
       "      <td>4.0</td>\n",
       "      <td>2.0</td>\n",
       "      <td>Wolcott Police Dept</td>\n",
       "      <td>CT</td>\n",
       "      <td>NaN</td>\n",
       "      <td>robbery</td>\n",
       "    </tr>\n",
       "    <tr>\n",
       "      <th>Wolcott</th>\n",
       "      <td>NaN</td>\n",
       "      <td>NaN</td>\n",
       "      <td>NaN</td>\n",
       "      <td>NaN</td>\n",
       "      <td>NaN</td>\n",
       "      <td>NaN</td>\n",
       "      <td>NaN</td>\n",
       "      <td>NaN</td>\n",
       "      <td>NaN</td>\n",
       "      <td>NaN</td>\n",
       "      <td>...</td>\n",
       "      <td>0.0</td>\n",
       "      <td>44.0</td>\n",
       "      <td>44.0</td>\n",
       "      <td>29.0</td>\n",
       "      <td>65.0</td>\n",
       "      <td>67.0</td>\n",
       "      <td>Wolcott Police Dept</td>\n",
       "      <td>CT</td>\n",
       "      <td>NaN</td>\n",
       "      <td>burglary</td>\n",
       "    </tr>\n",
       "    <tr>\n",
       "      <th>Wolcott</th>\n",
       "      <td>NaN</td>\n",
       "      <td>NaN</td>\n",
       "      <td>NaN</td>\n",
       "      <td>NaN</td>\n",
       "      <td>NaN</td>\n",
       "      <td>NaN</td>\n",
       "      <td>NaN</td>\n",
       "      <td>NaN</td>\n",
       "      <td>NaN</td>\n",
       "      <td>NaN</td>\n",
       "      <td>...</td>\n",
       "      <td>0.0</td>\n",
       "      <td>307.0</td>\n",
       "      <td>307.0</td>\n",
       "      <td>234.0</td>\n",
       "      <td>288.0</td>\n",
       "      <td>278.0</td>\n",
       "      <td>Wolcott Police Dept</td>\n",
       "      <td>CT</td>\n",
       "      <td>NaN</td>\n",
       "      <td>property</td>\n",
       "    </tr>\n",
       "    <tr>\n",
       "      <th>Wolcott</th>\n",
       "      <td>NaN</td>\n",
       "      <td>NaN</td>\n",
       "      <td>NaN</td>\n",
       "      <td>NaN</td>\n",
       "      <td>NaN</td>\n",
       "      <td>NaN</td>\n",
       "      <td>NaN</td>\n",
       "      <td>NaN</td>\n",
       "      <td>NaN</td>\n",
       "      <td>NaN</td>\n",
       "      <td>...</td>\n",
       "      <td>NaN</td>\n",
       "      <td>NaN</td>\n",
       "      <td>0.0</td>\n",
       "      <td>0.0</td>\n",
       "      <td>0.0</td>\n",
       "      <td>NaN</td>\n",
       "      <td>Wolcott Police Dept</td>\n",
       "      <td>CT</td>\n",
       "      <td>NaN</td>\n",
       "      <td>rape</td>\n",
       "    </tr>\n",
       "  </tbody>\n",
       "</table>\n",
       "<p>10 rows × 85 columns</p>\n",
       "</div>"
      ],
      "text/plain": [
       "         2006  2007  2008  2009  2010  2011  2012  2013  2014  2015  \\\n",
       "City                                                                  \n",
       "Wolcott   NaN   NaN   NaN   NaN   NaN   NaN   NaN   NaN   NaN   NaN   \n",
       "Wolcott   1.0   3.0   2.0   1.0   1.0   0.0   0.0   1.0   0.0   1.0   \n",
       "Wolcott   NaN   NaN   NaN   NaN   NaN   NaN   NaN   NaN   NaN   NaN   \n",
       "Wolcott   NaN   NaN   NaN   NaN   NaN   NaN   NaN   NaN   NaN   NaN   \n",
       "Wolcott   NaN   NaN   NaN   NaN   NaN   NaN   NaN   NaN   NaN   NaN   \n",
       "Wolcott   NaN   NaN   NaN   NaN   NaN   NaN   NaN   NaN   NaN   NaN   \n",
       "Wolcott   NaN   NaN   NaN   NaN   NaN   NaN   NaN   NaN   NaN   NaN   \n",
       "Wolcott   NaN   NaN   NaN   NaN   NaN   NaN   NaN   NaN   NaN   NaN   \n",
       "Wolcott   NaN   NaN   NaN   NaN   NaN   NaN   NaN   NaN   NaN   NaN   \n",
       "Wolcott   NaN   NaN   NaN   NaN   NaN   NaN   NaN   NaN   NaN   NaN   \n",
       "\n",
       "              ...        2014_diff_pct  2014_hist  2014_new   2015   2016  \\\n",
       "City          ...                                                           \n",
       "Wolcott       ...                  NaN        0.0       0.0    0.0    0.0   \n",
       "Wolcott       ...                  NaN        NaN       NaN    NaN    NaN   \n",
       "Wolcott       ...                  0.0       18.0      18.0   27.0   38.0   \n",
       "Wolcott       ...                  0.0        7.0       7.0    5.0    5.0   \n",
       "Wolcott       ...                  0.0      245.0     245.0  178.0  185.0   \n",
       "Wolcott       ...                  0.0        3.0       3.0    2.0    1.0   \n",
       "Wolcott       ...                  0.0        4.0       4.0    3.0    4.0   \n",
       "Wolcott       ...                  0.0       44.0      44.0   29.0   65.0   \n",
       "Wolcott       ...                  0.0      307.0     307.0  234.0  288.0   \n",
       "Wolcott       ...                  NaN        NaN       0.0    0.0    0.0   \n",
       "\n",
       "          2017               Agency  State  Unnamed: 32           crime  \n",
       "City                                                                     \n",
       "Wolcott    0.0  Wolcott Police Dept     CT          NaN          murder  \n",
       "Wolcott    NaN                  NaN    NaN          NaN           arson  \n",
       "Wolcott   28.0  Wolcott Police Dept     CT          NaN        mv-theft  \n",
       "Wolcott    5.0  Wolcott Police Dept     CT          NaN  violent-crimes  \n",
       "Wolcott  183.0  Wolcott Police Dept     CT          NaN         larceny  \n",
       "Wolcott    1.0  Wolcott Police Dept     CT          NaN         assault  \n",
       "Wolcott    2.0  Wolcott Police Dept     CT          NaN         robbery  \n",
       "Wolcott   67.0  Wolcott Police Dept     CT          NaN        burglary  \n",
       "Wolcott  278.0  Wolcott Police Dept     CT          NaN        property  \n",
       "Wolcott    NaN  Wolcott Police Dept     CT          NaN            rape  \n",
       "\n",
       "[10 rows x 85 columns]"
      ]
     },
     "execution_count": 55,
     "metadata": {},
     "output_type": "execute_result"
    }
   ],
   "source": [
    "mega_hist[mega_hist.index == \"Wolcott\"]"
   ]
  },
  {
   "cell_type": "code",
   "execution_count": 56,
   "metadata": {},
   "outputs": [
    {
     "data": {
      "text/plain": [
       "840"
      ]
     },
     "execution_count": 56,
     "metadata": {},
     "output_type": "execute_result"
    }
   ],
   "source": [
    "len(mega_hist)"
   ]
  },
  {
   "cell_type": "code",
   "execution_count": 57,
   "metadata": {},
   "outputs": [
    {
     "data": {
      "text/html": [
       "<div>\n",
       "<style scoped>\n",
       "    .dataframe tbody tr th:only-of-type {\n",
       "        vertical-align: middle;\n",
       "    }\n",
       "\n",
       "    .dataframe tbody tr th {\n",
       "        vertical-align: top;\n",
       "    }\n",
       "\n",
       "    .dataframe thead th {\n",
       "        text-align: right;\n",
       "    }\n",
       "</style>\n",
       "<table border=\"1\" class=\"dataframe\">\n",
       "  <thead>\n",
       "    <tr style=\"text-align: right;\">\n",
       "      <th></th>\n",
       "      <th>2006</th>\n",
       "      <th>2007</th>\n",
       "      <th>2008</th>\n",
       "      <th>2009</th>\n",
       "      <th>2010</th>\n",
       "      <th>2011</th>\n",
       "      <th>2012</th>\n",
       "      <th>2013</th>\n",
       "      <th>2014</th>\n",
       "      <th>2015</th>\n",
       "      <th>...</th>\n",
       "      <th>2014_diff_pct</th>\n",
       "      <th>2014_hist</th>\n",
       "      <th>2014_new</th>\n",
       "      <th>2015</th>\n",
       "      <th>2016</th>\n",
       "      <th>2017</th>\n",
       "      <th>Agency</th>\n",
       "      <th>State</th>\n",
       "      <th>Unnamed: 32</th>\n",
       "      <th>crime</th>\n",
       "    </tr>\n",
       "    <tr>\n",
       "      <th>City</th>\n",
       "      <th></th>\n",
       "      <th></th>\n",
       "      <th></th>\n",
       "      <th></th>\n",
       "      <th></th>\n",
       "      <th></th>\n",
       "      <th></th>\n",
       "      <th></th>\n",
       "      <th></th>\n",
       "      <th></th>\n",
       "      <th></th>\n",
       "      <th></th>\n",
       "      <th></th>\n",
       "      <th></th>\n",
       "      <th></th>\n",
       "      <th></th>\n",
       "      <th></th>\n",
       "      <th></th>\n",
       "      <th></th>\n",
       "      <th></th>\n",
       "      <th></th>\n",
       "    </tr>\n",
       "  </thead>\n",
       "  <tbody>\n",
       "    <tr>\n",
       "      <th>Bloomfield</th>\n",
       "      <td>NaN</td>\n",
       "      <td>NaN</td>\n",
       "      <td>NaN</td>\n",
       "      <td>NaN</td>\n",
       "      <td>NaN</td>\n",
       "      <td>NaN</td>\n",
       "      <td>NaN</td>\n",
       "      <td>NaN</td>\n",
       "      <td>NaN</td>\n",
       "      <td>NaN</td>\n",
       "      <td>...</td>\n",
       "      <td>NaN</td>\n",
       "      <td>0.0</td>\n",
       "      <td>0.0</td>\n",
       "      <td>1.0</td>\n",
       "      <td>0.0</td>\n",
       "      <td>0.0</td>\n",
       "      <td>Bloomfield Police Dept</td>\n",
       "      <td>CT</td>\n",
       "      <td>NaN</td>\n",
       "      <td>murder</td>\n",
       "    </tr>\n",
       "    <tr>\n",
       "      <th>Bloomfield</th>\n",
       "      <td>NaN</td>\n",
       "      <td>3.0</td>\n",
       "      <td>1.0</td>\n",
       "      <td>1.0</td>\n",
       "      <td>2.0</td>\n",
       "      <td>3.0</td>\n",
       "      <td>0.0</td>\n",
       "      <td>1.0</td>\n",
       "      <td>1.0</td>\n",
       "      <td>0.0</td>\n",
       "      <td>...</td>\n",
       "      <td>NaN</td>\n",
       "      <td>NaN</td>\n",
       "      <td>NaN</td>\n",
       "      <td>NaN</td>\n",
       "      <td>NaN</td>\n",
       "      <td>NaN</td>\n",
       "      <td>NaN</td>\n",
       "      <td>NaN</td>\n",
       "      <td>NaN</td>\n",
       "      <td>arson</td>\n",
       "    </tr>\n",
       "    <tr>\n",
       "      <th>Bloomfield</th>\n",
       "      <td>NaN</td>\n",
       "      <td>NaN</td>\n",
       "      <td>NaN</td>\n",
       "      <td>NaN</td>\n",
       "      <td>NaN</td>\n",
       "      <td>NaN</td>\n",
       "      <td>NaN</td>\n",
       "      <td>NaN</td>\n",
       "      <td>NaN</td>\n",
       "      <td>NaN</td>\n",
       "      <td>...</td>\n",
       "      <td>0.000000</td>\n",
       "      <td>22.0</td>\n",
       "      <td>22.0</td>\n",
       "      <td>22.0</td>\n",
       "      <td>43.0</td>\n",
       "      <td>66.0</td>\n",
       "      <td>Bloomfield Police Dept</td>\n",
       "      <td>CT</td>\n",
       "      <td>NaN</td>\n",
       "      <td>mv-theft</td>\n",
       "    </tr>\n",
       "    <tr>\n",
       "      <th>Bloomfield</th>\n",
       "      <td>NaN</td>\n",
       "      <td>NaN</td>\n",
       "      <td>NaN</td>\n",
       "      <td>NaN</td>\n",
       "      <td>NaN</td>\n",
       "      <td>NaN</td>\n",
       "      <td>NaN</td>\n",
       "      <td>NaN</td>\n",
       "      <td>NaN</td>\n",
       "      <td>NaN</td>\n",
       "      <td>...</td>\n",
       "      <td>-0.025000</td>\n",
       "      <td>40.0</td>\n",
       "      <td>39.0</td>\n",
       "      <td>57.0</td>\n",
       "      <td>52.0</td>\n",
       "      <td>36.0</td>\n",
       "      <td>Bloomfield Police Dept</td>\n",
       "      <td>CT</td>\n",
       "      <td>NaN</td>\n",
       "      <td>violent-crimes</td>\n",
       "    </tr>\n",
       "    <tr>\n",
       "      <th>Bloomfield</th>\n",
       "      <td>NaN</td>\n",
       "      <td>NaN</td>\n",
       "      <td>NaN</td>\n",
       "      <td>NaN</td>\n",
       "      <td>NaN</td>\n",
       "      <td>NaN</td>\n",
       "      <td>NaN</td>\n",
       "      <td>NaN</td>\n",
       "      <td>NaN</td>\n",
       "      <td>NaN</td>\n",
       "      <td>...</td>\n",
       "      <td>0.000000</td>\n",
       "      <td>402.0</td>\n",
       "      <td>402.0</td>\n",
       "      <td>417.0</td>\n",
       "      <td>418.0</td>\n",
       "      <td>461.0</td>\n",
       "      <td>Bloomfield Police Dept</td>\n",
       "      <td>CT</td>\n",
       "      <td>NaN</td>\n",
       "      <td>larceny</td>\n",
       "    </tr>\n",
       "    <tr>\n",
       "      <th>Bloomfield</th>\n",
       "      <td>NaN</td>\n",
       "      <td>NaN</td>\n",
       "      <td>NaN</td>\n",
       "      <td>NaN</td>\n",
       "      <td>NaN</td>\n",
       "      <td>NaN</td>\n",
       "      <td>NaN</td>\n",
       "      <td>NaN</td>\n",
       "      <td>NaN</td>\n",
       "      <td>NaN</td>\n",
       "      <td>...</td>\n",
       "      <td>0.000000</td>\n",
       "      <td>21.0</td>\n",
       "      <td>21.0</td>\n",
       "      <td>42.0</td>\n",
       "      <td>32.0</td>\n",
       "      <td>16.0</td>\n",
       "      <td>Bloomfield Police Dept</td>\n",
       "      <td>CT</td>\n",
       "      <td>NaN</td>\n",
       "      <td>assault</td>\n",
       "    </tr>\n",
       "    <tr>\n",
       "      <th>Bloomfield</th>\n",
       "      <td>NaN</td>\n",
       "      <td>NaN</td>\n",
       "      <td>NaN</td>\n",
       "      <td>NaN</td>\n",
       "      <td>NaN</td>\n",
       "      <td>NaN</td>\n",
       "      <td>NaN</td>\n",
       "      <td>NaN</td>\n",
       "      <td>NaN</td>\n",
       "      <td>NaN</td>\n",
       "      <td>...</td>\n",
       "      <td>0.000000</td>\n",
       "      <td>12.0</td>\n",
       "      <td>12.0</td>\n",
       "      <td>6.0</td>\n",
       "      <td>11.0</td>\n",
       "      <td>10.0</td>\n",
       "      <td>Bloomfield Police Dept</td>\n",
       "      <td>CT</td>\n",
       "      <td>NaN</td>\n",
       "      <td>robbery</td>\n",
       "    </tr>\n",
       "    <tr>\n",
       "      <th>Bloomfield</th>\n",
       "      <td>NaN</td>\n",
       "      <td>NaN</td>\n",
       "      <td>NaN</td>\n",
       "      <td>NaN</td>\n",
       "      <td>NaN</td>\n",
       "      <td>NaN</td>\n",
       "      <td>NaN</td>\n",
       "      <td>NaN</td>\n",
       "      <td>NaN</td>\n",
       "      <td>NaN</td>\n",
       "      <td>...</td>\n",
       "      <td>-0.122222</td>\n",
       "      <td>90.0</td>\n",
       "      <td>79.0</td>\n",
       "      <td>66.0</td>\n",
       "      <td>54.0</td>\n",
       "      <td>48.0</td>\n",
       "      <td>Bloomfield Police Dept</td>\n",
       "      <td>CT</td>\n",
       "      <td>NaN</td>\n",
       "      <td>burglary</td>\n",
       "    </tr>\n",
       "    <tr>\n",
       "      <th>Bloomfield</th>\n",
       "      <td>NaN</td>\n",
       "      <td>NaN</td>\n",
       "      <td>NaN</td>\n",
       "      <td>NaN</td>\n",
       "      <td>NaN</td>\n",
       "      <td>NaN</td>\n",
       "      <td>NaN</td>\n",
       "      <td>NaN</td>\n",
       "      <td>NaN</td>\n",
       "      <td>NaN</td>\n",
       "      <td>...</td>\n",
       "      <td>-0.021401</td>\n",
       "      <td>514.0</td>\n",
       "      <td>503.0</td>\n",
       "      <td>505.0</td>\n",
       "      <td>515.0</td>\n",
       "      <td>575.0</td>\n",
       "      <td>Bloomfield Police Dept</td>\n",
       "      <td>CT</td>\n",
       "      <td>NaN</td>\n",
       "      <td>property</td>\n",
       "    </tr>\n",
       "    <tr>\n",
       "      <th>Bloomfield</th>\n",
       "      <td>NaN</td>\n",
       "      <td>NaN</td>\n",
       "      <td>NaN</td>\n",
       "      <td>NaN</td>\n",
       "      <td>NaN</td>\n",
       "      <td>NaN</td>\n",
       "      <td>NaN</td>\n",
       "      <td>NaN</td>\n",
       "      <td>NaN</td>\n",
       "      <td>NaN</td>\n",
       "      <td>...</td>\n",
       "      <td>NaN</td>\n",
       "      <td>NaN</td>\n",
       "      <td>6.0</td>\n",
       "      <td>8.0</td>\n",
       "      <td>9.0</td>\n",
       "      <td>NaN</td>\n",
       "      <td>Bloomfield Police Dept</td>\n",
       "      <td>CT</td>\n",
       "      <td>NaN</td>\n",
       "      <td>rape</td>\n",
       "    </tr>\n",
       "  </tbody>\n",
       "</table>\n",
       "<p>10 rows × 85 columns</p>\n",
       "</div>"
      ],
      "text/plain": [
       "            2006  2007  2008  2009  2010  2011  2012  2013  2014  2015  \\\n",
       "City                                                                     \n",
       "Bloomfield   NaN   NaN   NaN   NaN   NaN   NaN   NaN   NaN   NaN   NaN   \n",
       "Bloomfield   NaN   3.0   1.0   1.0   2.0   3.0   0.0   1.0   1.0   0.0   \n",
       "Bloomfield   NaN   NaN   NaN   NaN   NaN   NaN   NaN   NaN   NaN   NaN   \n",
       "Bloomfield   NaN   NaN   NaN   NaN   NaN   NaN   NaN   NaN   NaN   NaN   \n",
       "Bloomfield   NaN   NaN   NaN   NaN   NaN   NaN   NaN   NaN   NaN   NaN   \n",
       "Bloomfield   NaN   NaN   NaN   NaN   NaN   NaN   NaN   NaN   NaN   NaN   \n",
       "Bloomfield   NaN   NaN   NaN   NaN   NaN   NaN   NaN   NaN   NaN   NaN   \n",
       "Bloomfield   NaN   NaN   NaN   NaN   NaN   NaN   NaN   NaN   NaN   NaN   \n",
       "Bloomfield   NaN   NaN   NaN   NaN   NaN   NaN   NaN   NaN   NaN   NaN   \n",
       "Bloomfield   NaN   NaN   NaN   NaN   NaN   NaN   NaN   NaN   NaN   NaN   \n",
       "\n",
       "                 ...        2014_diff_pct  2014_hist  2014_new   2015   2016  \\\n",
       "City             ...                                                           \n",
       "Bloomfield       ...                  NaN        0.0       0.0    1.0    0.0   \n",
       "Bloomfield       ...                  NaN        NaN       NaN    NaN    NaN   \n",
       "Bloomfield       ...             0.000000       22.0      22.0   22.0   43.0   \n",
       "Bloomfield       ...            -0.025000       40.0      39.0   57.0   52.0   \n",
       "Bloomfield       ...             0.000000      402.0     402.0  417.0  418.0   \n",
       "Bloomfield       ...             0.000000       21.0      21.0   42.0   32.0   \n",
       "Bloomfield       ...             0.000000       12.0      12.0    6.0   11.0   \n",
       "Bloomfield       ...            -0.122222       90.0      79.0   66.0   54.0   \n",
       "Bloomfield       ...            -0.021401      514.0     503.0  505.0  515.0   \n",
       "Bloomfield       ...                  NaN        NaN       6.0    8.0    9.0   \n",
       "\n",
       "             2017                  Agency  State  Unnamed: 32           crime  \n",
       "City                                                                           \n",
       "Bloomfield    0.0  Bloomfield Police Dept     CT          NaN          murder  \n",
       "Bloomfield    NaN                     NaN    NaN          NaN           arson  \n",
       "Bloomfield   66.0  Bloomfield Police Dept     CT          NaN        mv-theft  \n",
       "Bloomfield   36.0  Bloomfield Police Dept     CT          NaN  violent-crimes  \n",
       "Bloomfield  461.0  Bloomfield Police Dept     CT          NaN         larceny  \n",
       "Bloomfield   16.0  Bloomfield Police Dept     CT          NaN         assault  \n",
       "Bloomfield   10.0  Bloomfield Police Dept     CT          NaN         robbery  \n",
       "Bloomfield   48.0  Bloomfield Police Dept     CT          NaN        burglary  \n",
       "Bloomfield  575.0  Bloomfield Police Dept     CT          NaN        property  \n",
       "Bloomfield    NaN  Bloomfield Police Dept     CT          NaN            rape  \n",
       "\n",
       "[10 rows x 85 columns]"
      ]
     },
     "execution_count": 57,
     "metadata": {},
     "output_type": "execute_result"
    }
   ],
   "source": [
    "mega_hist[mega_hist.index == \"Bloomfield\"]"
   ]
  },
  {
   "cell_type": "code",
   "execution_count": 72,
   "metadata": {},
   "outputs": [
    {
     "name": "stdout",
     "output_type": "stream",
     "text": [
      "[-1.17432152e+02  2.37068131e+05]\n"
     ]
    },
    {
     "data": {
      "text/plain": [
       "<Figure size 288x72 with 0 Axes>"
      ]
     },
     "metadata": {},
     "output_type": "display_data"
    }
   ],
   "source": [
    "import numpy as np\n",
    "\n",
    "import matplotlib\n",
    "%matplotlib inline\n",
    "matplotlib.style.use('ggplot')\n",
    "\n",
    "import matplotlib.pyplot as plt\n",
    "\n",
    "\n",
    "\n",
    "csfont = {'fontname':'Monaco'}\n",
    "hfont = {'fontname':'Helvetica'}\n",
    "\n",
    "\n",
    "def small(city, crime):\n",
    "    \n",
    "    ret = mega_hist[(mega_hist.index == city) &\n",
    "              (mega_hist[\"crime\"] == crime)]\n",
    "\n",
    "    cols = filter(\n",
    "        lambda x: x in ret.columns,\n",
    "        map(lambda x: str(x), range(1985,2018)))\n",
    "\n",
    "    #print cols\n",
    "    \n",
    "    ret.columns = ret.columns.map(lambda x: str(x))\n",
    "    ret = ret[cols]\n",
    "    \n",
    "    \n",
    "    #return ret\n",
    "#     for col in cols:\n",
    "#         ret[col] = pd.to_numeric(ret[col],errors=coerce)\n",
    "    #print ret\n",
    "    ret = ret.transpose()\n",
    "\n",
    "    ret = ret.reset_index()\n",
    "    ret.columns = [\"year\",\"count\"]\n",
    "    ret[\"year\"] = pd.to_numeric(ret[\"year\"],errors=coerce)\n",
    "    \n",
    "    \n",
    "    fig = plt.figure()   \n",
    "\n",
    "    fig.set_figheight(1)\n",
    "    fig.set_figwidth(4)\n",
    "    #ax = fig.add_subplot(111)\n",
    "    \n",
    "\n",
    "    x = np.array(pd.to_numeric(ret[\"year\"],errors=coerce).values)\n",
    "    ret[\"count\"] = pd.to_numeric(ret[\"count\"],errors=coerce)\n",
    "    y = np.array(pd.to_numeric(ret[\"count\"],errors=coerce).values)\n",
    "\n",
    "    ax = ret.plot.scatter(x=\"year\", y=\"count\", figsize=(2.7,1.5))\n",
    "    idx = np.isfinite(x) & np.isfinite(y)\n",
    "    x = x[idx]\n",
    "    y = y[idx]\n",
    "\n",
    "    fit = np.polyfit(x,y,1) \n",
    "    \n",
    "    print fit\n",
    "    ax.plot(x, fit[0] * x + fit[1], color='orange')\n",
    "\n",
    "    ax.set_xticks([1987,1997,2007,2017])\n",
    "    \n",
    "    ax.set_yticks([0,ret[\"count\"].max()])\n",
    "    ax.set_xlabel(\"\")\n",
    "    ax.set_ylabel(\"\")\n",
    "    #ax.set_title(crime.replace(\"-\",\" \") + \", \" + city,**csfont)\n",
    "    ax.spines['right'].set_visible(False)\n",
    "    ax.spines['top'].set_visible(False)\n",
    "    ax.xaxis.set_ticks_position('bottom')\n",
    "    ax.yaxis.set_ticks_position('left')\n",
    "    plt.tight_layout()\n",
    "              \n",
    "\n",
    "\n",
    "\n",
    "    plt.savefig(\"output/figures/\" + city + \"-\" + crime + \".png\")\n",
    "    plt.savefig(\"viz/img/\" + city + \"-\" + crime + \".png\")\n",
    "\n",
    "    plt.close()\n",
    "\n",
    "    \n",
    "#ax = small(\"Bethel\",\"larceny\").plot.scatter(x=\"year\", y=\"count\", figsize=(3,1))\n",
    "\n",
    "#plt.show()\n",
    "\n",
    "small(\"Bridgeport\",\"mv-theft\")"
   ]
  },
  {
   "cell_type": "raw",
   "metadata": {},
   "source": [
    "x = [0.0, 1.0, 2.0, 3.0,  4.0,  5.0]\n",
    "y = [0.0, 0.8, 0.9, 0.1, -0.8, -1.0]\n",
    "z = np.polyfit(x, y, 3)\n",
    "z\n"
   ]
  },
  {
   "cell_type": "code",
   "execution_count": 73,
   "metadata": {},
   "outputs": [
    {
     "name": "stdout",
     "output_type": "stream",
     "text": [
      "[-1.53743316e-02  5.67034314e+01]\n"
     ]
    },
    {
     "data": {
      "text/plain": [
       "<Figure size 288x72 with 0 Axes>"
      ]
     },
     "metadata": {},
     "output_type": "display_data"
    }
   ],
   "source": [
    "small(\"Hartford\",\"murder\")"
   ]
  },
  {
   "cell_type": "code",
   "execution_count": 74,
   "metadata": {},
   "outputs": [
    {
     "name": "stdout",
     "output_type": "stream",
     "text": [
      "[-1.02685973e-01  2.40792224e+02]\n"
     ]
    },
    {
     "data": {
      "text/plain": [
       "<Figure size 288x72 with 0 Axes>"
      ]
     },
     "metadata": {},
     "output_type": "display_data"
    }
   ],
   "source": [
    "small(\"Naugatuck\",\"violent-crimes\")"
   ]
  },
  {
   "cell_type": "code",
   "execution_count": 75,
   "metadata": {},
   "outputs": [
    {
     "name": "stdout",
     "output_type": "stream",
     "text": [
      "[-1.91966523e+00  4.13865221e+03]\n",
      "[-1.25251761e+00  2.53662108e+03]\n",
      "[ 4.73793308e-03 -8.97971572e+00]\n",
      "[-3.49650350e-02  7.14988345e+01]\n",
      "[-5.17379679e-01  1.05285250e+03]\n",
      "[-7.04882081e-01  1.46283183e+03]\n",
      "[-3.37303855e+00  6.82589979e+03]\n",
      "[-5.81417830e+00  1.20629456e+04]\n",
      "[-2.01656330e+00  4.08899492e+03]\n",
      "[-2.40930798e-01  4.87651396e+02]\n",
      "[-3.59458560e+00  7.36564924e+03]\n",
      "[-1.54151132e-01  3.10819310e+02]\n",
      "[ 6.68449198e-04 -1.30726381e+00]\n",
      "[ 1.74825175e-02 -3.49160839e+01]\n",
      "[-2.47326203e-02  5.13384581e+01]\n",
      "[-2.32954545e-01  4.73626894e+02]\n",
      "[-2.15240642e+00  4.34666221e+03]\n",
      "[-6.03622168e+00  1.22981524e+04]\n",
      "[-1.45007575e-01  2.95369374e+02]\n",
      "[ 5.09794533e-03 -9.46068808e+00]\n",
      "[ 1.44837103e+00 -2.62280957e+03]\n",
      "[ 3.51296671e-01 -6.97175832e+02]\n",
      "[ 3.34224599e-04 -3.96056150e-01]\n",
      "[-1.04895105e-01  2.12496503e+02]\n",
      "[ 1.04297982e-01 -2.04149456e+02]\n",
      "[-7.81082888e-01  1.59582565e+03]\n",
      "[-8.05854356e-01  1.68229960e+03]\n",
      "[-6.55627356e-02  5.09308966e+02]\n",
      "[ 5.28600331e-01 -1.04584992e+03]\n",
      "[ 4.15158642e-02 -8.20831726e+01]\n",
      "[-4.47535967e-01  1.04935961e+03]\n",
      "[-2.64282566e-01  5.33864668e+02]\n",
      "[-5.68181818e-03  1.15511364e+01]\n",
      "[ 2.44755245e-02 -4.84825175e+01]\n",
      "[-5.08021390e-02  1.03382353e+02]\n",
      "[-2.34959893e-01  4.78882019e+02]\n",
      "[-1.39209868e+00  2.82924413e+03]\n",
      "[-2.04235866e+00  4.29351481e+03]\n",
      "[-4.03956359e-01  8.17044302e+02]\n",
      "[-9.39880860e-02  1.89808376e+02]\n",
      "[-9.81258665e+00  2.01277936e+04]\n",
      "[-4.42798718e-01  9.26443379e+02]\n",
      "[ 1.02508455e-02 -2.02290901e+01]\n",
      "[ 2.27272727e-01 -4.55181818e+02]\n",
      "[-5.59268542e-01  1.13707584e+03]\n",
      "[-2.68730905e+00  5.44321387e+03]\n",
      "[-6.65969978e+00  1.34436907e+04]\n",
      "[-1.92362345e+01  3.91675447e+04]\n",
      "[-6.46035272e-01  1.36053342e+03]\n",
      "[ 1.44439830e-01 -2.81863955e+02]\n",
      "[ 5.64213113e+00 -1.07153456e+04]\n",
      "[ 2.08809617e-01 -4.04920416e+02]\n",
      "[-1.08914978e-03  2.46911401e+00]\n",
      "[-3.36363636e-01  6.77945455e+02]\n",
      "[ 1.54763535e-02 -2.21845152e+01]\n",
      "[-1.35354355e+00  2.76244790e+03]\n",
      "[-1.44895727e+00  2.97190433e+03]\n",
      "[ 2.48276791e+00 -4.27098142e+03]\n",
      "[ 2.49312116e-01 -4.71414244e+02]\n",
      "[ 5.82267968e-02 -1.10867736e+02]\n",
      "[-1.10481283e+02  2.24949321e+05]\n",
      "[-9.57052139e+00  2.00189163e+04]\n",
      "[-1.17279412e+00  2.37524588e+03]\n",
      "[-3.85454545e+00  7.78343636e+03]\n",
      "[-3.17205882e+01  6.43339577e+04]\n",
      "[-1.17432152e+02  2.37068131e+05]\n",
      "[-1.08737299e+02  2.19708185e+05]\n",
      "[-3.36650735e+02  6.81725636e+05]\n",
      "[-4.10581551e+01  8.39960350e+04]\n",
      "[ 1.73042854e+00 -3.37968925e+03]\n",
      "[-6.75548384e+00  1.45535655e+04]\n",
      "[-5.87841763e+00  1.18993378e+04]\n",
      "[ 2.70721925e-02 -5.31108512e+01]\n",
      "[ 0.0034965  -3.11655012]\n",
      "[ 3.23529412e-01 -6.07049020e+02]\n",
      "[-2.43992813e+00  5.02314872e+03]\n",
      "[-1.08081551e+01  2.20288456e+04]\n",
      "[-2.06438659e+01  4.28821789e+04]\n",
      "[-4.98362871e+00  1.01660586e+04]\n",
      "[ 3.74741230e-01 -7.35345055e+02]\n",
      "[-4.05114638e+00  8.27088713e+03]\n",
      "[-1.87781161e-01  3.82720762e+02]\n",
      "[-3.31861903e-03  6.67128815e+00]\n",
      "[1.10073176e-15 1.81818182e-01]\n",
      "[-1.39592705e-02  2.96490692e+01]\n",
      "[-4.44452639e-01  9.00811534e+02]\n",
      "[-2.02979472e+00  4.10329738e+03]\n",
      "[-6.55621343e+00  1.33363160e+04]\n",
      "[-2.67406947e-01  5.44602019e+02]\n",
      "[-6.35511524e-02  1.27961602e+02]\n",
      "[-6.82866237e-01  1.45651293e+03]\n",
      "[-1.35695187e-01  2.75041221e+02]\n",
      "[-5.01336898e-03  1.00620544e+01]\n",
      "[-3.84615385e-02  7.74487179e+01]\n",
      "[ 1.38913311e-02 -2.74163443e+01]\n",
      "[-1.27339572e-01  2.59897393e+02]\n",
      "[-1.28627584e+00  2.59980064e+03]\n",
      "[-1.94153402e+00  4.00731479e+03]\n",
      "[-1.13900123e-01  2.32215184e+02]\n",
      "[ 3.92907941e-03 -7.55671816e+00]\n",
      "[-6.01078589e+00  1.22841930e+04]\n",
      "[-3.42654089e-02  7.26836584e+01]\n",
      "[ 3.34224599e-03 -6.50601604e+00]\n",
      "[-1.64335664e-01  3.31144522e+02]\n",
      "[-9.79183071e-02  1.98363503e+02]\n",
      "[-6.54809279e-01  1.33158400e+03]\n",
      "[-3.88225897e+00  7.85055288e+03]\n",
      "[-1.02773848e+01  2.09276507e+04]\n",
      "[-1.74801139e-01  3.57292252e+02]\n",
      "[-3.09428632e-02  6.28654534e+01]\n",
      "[ 2.74055675e+00 -5.28913010e+03]\n",
      "[ 2.66220609e-01 -5.24950637e+02]\n",
      "[-3.78217217e-03  7.72378554e+00]\n",
      "[-1.81818182e-02  3.82181818e+01]\n",
      "[-2.62644992e-02  5.47699091e+01]\n",
      "[-1.78752410e-01  3.66811892e+02]\n",
      "[-1.28932391e+00  2.64008322e+03]\n",
      "[ 1.27372023e+00 -2.28370624e+03]\n",
      "[ 5.30882615e-01 -1.04897671e+03]\n",
      "[ 3.18304512e-01 -6.33594845e+02]\n",
      "[-1.07525510e+00  2.25287939e+03]\n",
      "[-2.93143920e-01  5.94048154e+02]\n",
      "[-3.37710654e-03  6.85305711e+00]\n",
      "[-7.27272727e-02  1.46600000e+02]\n",
      "[ 2.66255235e-02 -5.23649989e+01]\n",
      "[-8.54574042e-02  1.78386540e+02]\n",
      "[-3.75288404e-01  7.92455957e+02]\n",
      "[-1.65433673e+00  3.45935247e+03]\n",
      "[-2.61875972e-01  5.33399724e+02]\n",
      "[ 1.83227625e-02 -3.55570825e+01]\n",
      "[  0.15583202 -43.318155  ]\n",
      "[-3.37761670e-02  7.21433327e+01]\n",
      "[ 4.82516672e-03 -9.59190468e+00]\n",
      "[-1.72727273e-01  3.47981818e+02]\n",
      "[-1.15256166e-01  2.37234579e+02]\n",
      "[-7.30306893e-01  1.48797998e+03]\n",
      "[-1.36733631e+00  2.77743957e+03]\n",
      "[-1.93958989e+00  4.21747173e+03]\n",
      "[-1.37917467e-01  2.88312125e+02]\n",
      "[-1.37632367e-02  2.85184054e+01]\n",
      "[-4.62146794e+01  9.41129551e+04]\n",
      "[-4.57887701e-01  9.75081774e+02]\n",
      "[-2.64037433e-02  5.44096480e+01]\n",
      "[ 5.59440559e-02 -1.08698135e+02]\n",
      "[ 2.16911765e-01 -3.74494987e+02]\n",
      "[-8.45922460e+00  1.71303933e+04]\n",
      "[-1.73768785e+01  3.51552932e+04]\n",
      "[-7.21530050e+01  1.46602476e+05]\n",
      "[ 2.68716578e-01 -3.99792781e+02]\n",
      "[ 5.50733006e-01 -1.08403074e+03]\n",
      "[-7.72642227e+00  1.56718917e+04]\n",
      "[ 6.19446343e-02 -1.20904477e+02]\n",
      "[-2.07219251e-02  4.16160873e+01]\n",
      "[ 5.94405594e-02 -1.19314685e+02]\n",
      "[-2.06216578e-01  4.16366644e+02]\n",
      "[-1.54879679e+00  3.12529389e+03]\n",
      "[-3.27350088e+00  6.60447958e+03]\n",
      "[-1.26513532e+01  2.56066149e+04]\n",
      "[-1.93352700e-01  3.94131664e+02]\n",
      "[-3.47843231e-02  6.98892253e+01]\n",
      "[-2.25186934e+00  4.78689847e+03]\n",
      "[ 1.38918188e-01 -2.66318467e+02]\n",
      "[-3.28701314e-03  6.82679969e+00]\n",
      "[ 1.81818182e-02 -3.57636364e+01]\n",
      "[ 6.75628694e-02 -1.24901495e+02]\n",
      "[-8.26310559e-01  1.69654017e+03]\n",
      "[-2.57197942e+00  5.24612698e+03]\n",
      "[-5.74451400e+00  1.19164775e+04]\n",
      "[ 2.44914009e-01 -4.64113026e+02]\n",
      "[ 2.36830303e-02 -4.39288302e+01]\n",
      "[-1.00194084e+00  2.11053909e+03]\n",
      "[-8.44251337e-01  1.69889238e+03]\n",
      "[ 3.00802139e-03 -5.86753565e+00]\n",
      "[-5.59440559e-02  1.12698135e+02]\n",
      "[-1.06951872e-02  2.22798574e+01]\n",
      "[-4.04411765e-01  8.18046123e+02]\n",
      "[-6.48395722e-01  1.32716711e+03]\n",
      "[-2.01259884e+00  4.17170517e+03]\n",
      "[-8.53609626e-01  1.71934559e+03]\n",
      "[ 5.09794533e-03 -9.46068808e+00]\n",
      "[-3.29570692e+01  6.72217670e+04]\n",
      "[-5.40079955e-01  1.17512798e+03]\n",
      "[ 2.44186567e-03 -2.73099153e+00]\n",
      "[-3.18181818e-01  6.49439394e+02]\n",
      "[-1.32097674e+00  2.72694022e+03]\n",
      "[-7.68840450e+00  1.56527673e+04]\n",
      "[-1.36352894e+01  2.76795200e+04]\n",
      "[-5.41939983e+01  1.10380745e+05]\n",
      "[-1.44666339e+00  3.09123221e+03]\n",
      "[ 5.28065815e-01 -1.03889571e+03]\n",
      "[-7.98563373e+00  1.65841675e+04]\n",
      "[-9.69018200e-02  2.11686457e+02]\n",
      "[ 1.00267380e-02 -1.97604724e+01]\n",
      "[-2.16783217e-01  4.38226107e+02]\n",
      "[-1.57405775e-01  3.33300198e+02]\n",
      "[-1.47578742e+00  3.05892536e+03]\n",
      "[-4.54343981e+00  9.24125387e+03]\n",
      "[-1.45830641e+01  3.00362888e+04]\n",
      "[-8.44935005e-02  2.08843243e+02]\n",
      "[ 8.67073188e-02 -1.70816178e+02]\n",
      "[ 2.76057611e+00 -5.29919195e+03]\n",
      "[-1.69117647e-01  3.46404412e+02]\n",
      "[-1.40374332e-02  2.85434492e+01]\n",
      "[-1.50349650e-01  3.06511655e+02]\n",
      "[ 6.86171216e-02 -1.31556235e+02]\n",
      "[-9.20820692e-01  1.87739931e+03]\n",
      "[-1.03822888e+00  2.13579774e+03]\n",
      "[ 9.48737941e-01 -1.57845377e+03]\n",
      "[-1.68729776e-02  5.13448302e+01]\n",
      "[ 1.37221604e-01 -2.70939512e+02]\n",
      "[-5.00000000e+00  1.00983333e+04]\n",
      "[-1.61899206e-13  3.33333334e-01]\n",
      "[0. 0.]\n",
      "[-1.04895105e-02  2.13496503e+01]\n",
      "[0. 0.]\n",
      "[ 5.00000000e-01 -1.00766667e+03]\n",
      "[-2.500e+00  5.046e+03]\n",
      "[-7.00000000e+00  1.41366667e+04]\n",
      "[-1.61899206e-13  3.33333334e-01]\n",
      "[0. 0.]\n",
      "[-2.37432588e+01  4.83861924e+04]\n",
      "[ 1.83782148e-01 -3.34028260e+02]\n",
      "[ 8.22770224e-03 -1.58779442e+01]\n",
      "[-1.40613847e-01  2.86972877e+02]\n",
      "[-3.01451947e-01  6.25343167e+02]\n",
      "[-6.49744181e+00  1.31307858e+04]\n",
      "[-7.17212491e+00  1.45672197e+04]\n",
      "[-3.74128255e+01  7.60841980e+04]\n",
      "[-1.03661120e-01  2.67039516e+02]\n",
      "[ 3.05401587e-02 -5.76658334e+01]\n",
      "[-1.58894050e+01  3.28473007e+04]\n",
      "[ 1.61332864e-01 -3.07954062e+02]\n",
      "[-2.87433155e-02  5.80002228e+01]\n",
      "[ 1.39860140e-02 -2.71328671e+01]\n",
      "[-8.03475936e-01  1.62717959e+03]\n",
      "[-9.49296769e+00  1.91551013e+04]\n",
      "[-1.47731470e+01  2.98798969e+04]\n",
      "[-3.97889068e+01  8.11548974e+04]\n",
      "[-6.45718103e-01  1.32909611e+03]\n",
      "[ 7.79601944e-02 -1.53346694e+02]\n",
      "[-2.35110314e+00  5.29762154e+03]\n",
      "[-2.65842091e-01  5.39354671e+02]\n",
      "[-1.0026738e-03  2.0366533e+00]\n",
      "[-1.99300699e-01  4.01810023e+02]\n",
      "[ 5.41443850e-02 -1.00009581e+02]\n",
      "[-2.24933155e+00  4.54960940e+03]\n"
     ]
    },
    {
     "name": "stdout",
     "output_type": "stream",
     "text": [
      "[-4.30113636e+00  8.69911932e+03]\n",
      "[-8.88877120e+00  1.85210831e+04]\n",
      "[-1.73294442e-01  3.65141120e+02]\n",
      "[ 2.09362218e-02 -3.93752462e+01]\n",
      "[-8.82897301e+00  1.80325163e+04]\n",
      "[-5.24349234e-02  1.14116453e+02]\n",
      "[-9.31849319e-03  1.88606868e+01]\n",
      "[-1.29323308e-01  2.60717293e+02]\n",
      "[ 8.06734678e-02 -1.55546043e+02]\n",
      "[-7.19369558e-01  1.45955878e+03]\n",
      "[-3.04828623e+00  6.18434733e+03]\n",
      "[-1.17346515e+01  2.39597497e+04]\n",
      "[-1.12347321e-02  3.91816786e+01]\n",
      "[ 1.18980582e-02 -2.19589653e+01]\n",
      "[-6.78712281e-01  1.46427946e+03]\n",
      "[-8.32219251e-02  1.69193739e+02]\n",
      "[0. 0.]\n",
      "[-1.11888112e-01  2.25729604e+02]\n",
      "[-4.01069519e-03  8.60115865e+00]\n",
      "[-4.49197861e-01  9.08360071e+02]\n",
      "[-7.75936346e-01  1.57482640e+03]\n",
      "[-1.89719573e+00  3.93418373e+03]\n",
      "[-5.11363636e-02  1.06657197e+02]\n",
      "[ 4.90501204e-02 -9.69822558e+01]\n",
      "[-3.90490038e+01  7.88424435e+04]\n",
      "[-4.55870316e-01  9.30204574e+02]\n",
      "[ 4.42066077e-03 -8.50116333e+00]\n",
      "[-2.09790210e-01  4.23993007e+02]\n",
      "[-3.81590666e-01  7.75273869e+02]\n",
      "[-4.73873820e+00  9.56801544e+03]\n",
      "[-7.51807857e+00  1.51803400e+04]\n",
      "[-5.10369548e+01  1.03057054e+05]\n",
      "[-8.01868023e-01  1.63799953e+03]\n",
      "[-3.47305023e-02  7.22289584e+01]\n",
      "[-3.33185852e+01  6.72279971e+04]\n",
      "[-1.62783859e+00  3.28671172e+03]\n",
      "[-2.23222195e-02  4.49844689e+01]\n",
      "[-3.49650350e-03  8.78321678e+00]\n",
      "[-2.56073071e-01  5.25412969e+02]\n",
      "[-1.86908078e+00  3.77043083e+03]\n",
      "[-7.49536827e+00  1.51113517e+04]\n",
      "[-4.26830343e+01  8.61097797e+04]\n",
      "[-2.19926151e+00  4.46654978e+03]\n",
      "[-2.00391107e-01  4.24339440e+02]\n",
      "[-5.00000000e-01  1.01233333e+03]\n",
      "[0. 0.]\n",
      "[0. 0.]\n",
      "[0. 0.]\n",
      "[0. 0.]\n",
      "[0. 0.]\n",
      "[-2.00000000e+00  4.03466667e+03]\n",
      "[-2.500e+00  5.047e+03]\n",
      "[0. 0.]\n",
      "[0. 0.]\n",
      "[ 1.65000000e+01 -3.28793333e+04]\n",
      "[-6.49888298e-13  2.23333333e+01]\n",
      "[-1.61899206e-13  3.33333334e-01]\n",
      "[ 3.49650350e-02 -6.66655012e+01]\n",
      "[-6.50000000e+00  1.31153333e+04]\n",
      "[-5.00000000e-01  1.02366667e+03]\n",
      "[-3.00000000e+00  6.10666667e+03]\n",
      "[ 1.3000e+01 -2.5749e+04]\n",
      "[-5.000e+00  1.012e+04]\n",
      "[-5.30804436e-16  5.00000000e+00]\n",
      "[-5.41042781e+00  1.11340842e+04]\n",
      "[-5.40652523e-02  1.19453993e+02]\n",
      "[-1.33689840e-03  2.79634581e+00]\n",
      "[-3.49650350e-03  7.28321678e+00]\n",
      "[-1.37032086e-02  2.99352718e+01]\n",
      "[-9.06732393e-01  1.83229817e+03]\n",
      "[-4.20387701e+00  8.49374577e+03]\n",
      "[-1.06331765e+01  2.16830663e+04]\n",
      "[-3.35079202e-02  8.41045184e+01]\n",
      "[ 7.85956710e-02 -1.53795857e+02]\n",
      "[-3.00079903e+01  6.14238687e+04]\n",
      "[ 4.52626290e+00 -8.99246542e+03]\n",
      "[-2.86932473e-02  5.85911500e+01]\n",
      "[-1.62740899e-01  3.29785867e+02]\n",
      "[-8.06418175e-01  1.66702531e+03]\n",
      "[-1.00330684e+01  2.02905889e+04]\n",
      "[-9.66469245e+00  1.95980861e+04]\n",
      "[-5.04868421e+01  1.02872208e+05]\n",
      "[ 2.80370687e+00 -5.48801674e+03]\n",
      "[-2.24212519e-01  4.58204509e+02]\n",
      "[-2.43268382e+02  4.93244518e+05]\n",
      "[-2.62068817e+01  5.34554066e+04]\n",
      "[-1.53743316e-02  5.67034314e+01]\n",
      "[-2.08741259e+00  4.28158042e+03]\n",
      "[-3.96236631e+01  8.02633438e+04]\n",
      "[-6.76026070e+01  1.37112089e+05]\n",
      "[-1.51517714e+02  3.05543279e+05]\n",
      "[-4.62388703e+02  9.35899886e+05]\n",
      "[-6.91859796e+01  1.40539585e+05]\n",
      "[-3.69277134e+00  7.46685533e+03]\n",
      "[-5.72257965e+00  1.16039026e+04]\n",
      "[-1.78815622e-01  3.62500869e+02]\n",
      "[ 6.68449198e-04 -1.18605169e+00]\n",
      "[-9.44055944e-02  1.90480186e+02]\n",
      "[-6.45053476e-02  1.30196413e+02]\n",
      "[-4.23478088e-01  8.56570565e+02]\n",
      "[-3.64961202e+00  7.35901892e+03]\n",
      "[-1.00452175e+01  2.03163799e+04]\n",
      "[-2.57809290e-01  5.22492357e+02]\n",
      "[-2.25605205e-02  4.57127688e+01]\n",
      "[-7.31283422e+00  1.62363146e+04]\n",
      "[ 3.19121668e-01 -5.53138927e+02]\n",
      "[ 5.51470588e-02 -1.09440174e+02]\n",
      "[-1.02797203e+00  2.07526573e+03]\n",
      "[-2.13903743e-02  9.21960784e+01]\n",
      "[-1.38502674e+00  2.90674153e+03]\n",
      "[-1.55130348e+01  3.14573401e+04]\n",
      "[-2.42108957e+01  5.06003963e+04]\n",
      "[-5.73308271e-02  2.69860902e+02]\n",
      "[-4.95317495e-01  1.01005337e+03]\n",
      "[-2.12372995e+01  4.39751090e+04]\n",
      "[ 1.16143048e+00 -2.24268906e+03]\n",
      "[-1.50401070e-02  3.17013146e+01]\n",
      "[-6.25874126e-01  1.26786247e+03]\n",
      "[ 3.24197861e-01 -5.72689617e+02]\n",
      "[-3.73629679e+00  7.66548139e+03]\n",
      "[-1.56387032e+01  3.18373178e+04]\n",
      "[-4.06122995e+01  8.34779082e+04]\n",
      "[ 1.89505348e+00 -3.62157776e+03]\n",
      "[ 3.31549522e-01 -6.52544142e+02]\n",
      "[ 8.5000e+00 -1.7089e+04]\n",
      "[-3.23798412e-13  6.66666667e-01]\n",
      "[0. 0.]\n",
      "[0. 0.]\n",
      "[ 1.000e+00 -2.014e+03]\n",
      "[ 5.50000000e+00 -1.10783333e+04]\n",
      "[-8.10547463e-13  1.36666667e+01]\n",
      "[ 1.40000000e+01 -2.81536667e+04]\n",
      "[ 1.50000000e+00 -3.02066667e+03]\n",
      "[ 1.000e+00 -2.015e+03]\n",
      "[-2.49865873e+01  5.10616028e+04]\n",
      "[-1.97563931e+00  4.00030914e+03]\n",
      "[-4.07598113e-02  8.24481199e+01]\n",
      "[-1.78321678e-01  3.60110723e+02]\n",
      "[-6.25017263e-01  1.27903037e+03]\n",
      "[-4.82528029e+00  9.79714314e+03]\n",
      "[-1.09977962e+01  2.22317291e+04]\n",
      "[-4.06064666e+01  8.26859192e+04]\n",
      "[-3.00632776e+00  6.09685953e+03]\n",
      "[-3.25392284e-01  6.56210403e+02]\n",
      "[-1.17232620e+01  2.49287019e+04]\n",
      "[-1.77139037e-01  3.78243093e+02]\n",
      "[-3.91042781e-02  7.91264483e+01]\n",
      "[-9.79020979e-02  2.00763403e+02]\n",
      "[-5.86229947e-01  1.20495521e+03]\n",
      "[-1.37433155e+01  2.77234046e+04]\n",
      "[-1.10681818e+01  2.24100682e+04]\n",
      "[-3.65347594e+01  7.50621747e+04]\n",
      "[-1.16811497e+00  2.40239806e+03]\n",
      "[-3.14664338e-01  6.38413300e+02]\n",
      "[-3.22522523e+00  6.60133333e+03]\n",
      "[-3.64820847e-01  7.35938111e+02]\n",
      "[-6.68449198e-04  1.36786988e+00]\n",
      "[-3.84615385e-02  7.77820513e+01]\n",
      "[-2.26415534e-02  4.69040440e+01]\n",
      "[-2.73061497e-01  5.60729389e+02]\n",
      "[-2.39682385e+00  4.84474567e+03]\n",
      "[-5.81630734e+00  1.18499179e+04]\n",
      "[-3.75421946e-01  7.59693948e+02]\n",
      "[ 1.02522215e-02 -1.95673506e+01]\n",
      "[-9.45130684e-01  2.36026701e+03]\n",
      "[-5.72783879e-01  1.16681080e+03]\n",
      "[-5.75227299e-03  1.16968995e+01]\n",
      "[-1.00000000e-01  2.02654545e+02]\n",
      "[ 2.22758001e-01 -4.37231013e+02]\n",
      "[-1.54756759e+00  3.15489944e+03]\n",
      "[-3.09051928e+00  6.29861495e+03]\n",
      "[-5.25689223e+00  1.11645476e+04]\n",
      "[-1.02685973e-01  2.40792224e+02]\n",
      "[ 2.41583365e-01 -4.77749251e+02]\n",
      "[-6.05985963e+01  1.23579124e+05]\n",
      "[-4.41510695e+00  9.01899265e+03]\n",
      "[-8.28877005e-02  1.69373440e+02]\n",
      "[ 1.03366059e+00 -2.07487938e+03]\n",
      "[-4.68282086e+00  9.55308211e+03]\n",
      "[-8.57419786e+00  1.76454851e+04]\n",
      "[-2.98058155e+01  6.05855580e+04]\n",
      "[-9.89786096e+01  2.01810168e+05]\n",
      "[-9.46590909e+00  1.93342235e+04]\n",
      "[-6.68337816e-01  1.35716391e+03]\n",
      "[-4.08291815e+00  8.31636296e+03]\n",
      "[-6.08249641e-02  1.23864265e+02]\n",
      "[ 3.81571349e-03 -7.60578132e+00]\n",
      "[-3.14685315e-02  6.33822844e+01]\n",
      "[-1.64177584e-02  3.35471303e+01]\n",
      "[-5.17125420e-01  1.04476037e+03]\n",
      "[-2.17110635e+00  4.38599522e+03]\n",
      "[-6.88988095e+00  1.39837989e+04]\n",
      "[-5.97983558e-02  1.23353219e+02]\n",
      "[6.67969207e-05 5.80699030e-01]\n",
      "[-1.52256550e+02  3.10752752e+05]\n",
      "[-2.18608547e+01  4.48564134e+04]\n",
      "[-3.13452858e-01  6.47601972e+02]\n",
      "[ 1.39189189e+00 -2.78290541e+03]\n",
      "[-2.79088877e+01  5.67585860e+04]\n",
      "[-7.21464485e+01  1.46051127e+05]\n",
      "[-1.16975512e+02  2.36367455e+05]\n",
      "[-3.41378510e+02  6.93171334e+05]\n",
      "[-5.4075514e+01  1.1032850e+05]\n",
      "[-3.20072472e+00  6.49064719e+03]\n",
      "[-3.14952025e+01  6.38328908e+04]\n",
      "[ 2.12091627e+00 -4.10745496e+03]\n",
      "[ 1.91315847e-02 -3.62755125e+01]\n",
      "[-6.30303030e-01  1.27488485e+03]\n",
      "[-1.56714705e+00  3.19335277e+03]\n",
      "[-3.97024938e+00  8.05922614e+03]\n",
      "[-1.56125449e+01  3.15419308e+04]\n",
      "[-5.15599686e+01  1.04394699e+05]\n",
      "[ 6.80182599e-01 -1.15028061e+03]\n",
      "[ 6.87350233e-02 -1.22839702e+02]\n",
      "[-3.70369865e+00  7.73636154e+03]\n",
      "[-1.63047301e-01  3.39477756e+02]\n",
      "[0.00017584 0.02321083]\n",
      "[ 1.04895105e-01 -2.08996503e+02]\n",
      "[ 5.58155080e-02 -1.08444407e+02]\n",
      "[-1.33054813e+00  2.69148741e+03]\n",
      "[-4.86330214e+00  9.80755849e+03]\n",
      "[-9.97980074e+00  2.03987119e+04]\n",
      "[2.37383506e-03 1.63133462e+01]\n",
      "[ 1.00860454e-01 -1.97617260e+02]\n",
      "[-2.32854278e+00  5.33856562e+03]\n",
      "[-5.90240642e-01  1.19252607e+03]\n",
      "[ 1.67112299e-03 -2.98028075e+00]\n",
      "[5.45356895e-15 2.00000000e+00]\n",
      "[ 1.19652406e-01 -2.26454768e+02]\n",
      "[-5.81216578e-01  1.22898407e+03]\n",
      "[-1.84792781e+00  3.82179445e+03]\n",
      "[-4.75768717e+00  1.03893441e+04]\n",
      "[-2.31951872e-01  4.93741756e+02]\n",
      "[ 2.46405385e-01 -4.88153755e+02]\n",
      "[-1.74024155e+00  3.63415010e+03]\n",
      "[-3.3032375e-01  6.6736371e+02]\n",
      "[-1.28319936e-02  2.58623142e+01]\n",
      "[ 1.81818182e-02 -3.57636364e+01]\n",
      "[-2.64857405e-02  5.46813283e+01]\n",
      "[-7.19771595e-01  1.45315050e+03]\n",
      "[-3.39322281e+00  6.86156448e+03]\n",
      "[-5.99174398e+00  1.22251718e+04]\n",
      "[-2.58765244e-01  5.28130488e+02]\n",
      "[ 8.83783704e-02 -1.74911829e+02]\n",
      "[-3.79957756e-01  9.09175499e+02]\n",
      "[-4.48861644e-02  9.50886462e+01]\n",
      "[ 3.67647059e-03 -7.32631462e+00]\n",
      "[-1.32867133e-01  2.67928904e+02]\n",
      "[-9.02406417e-03  1.91480615e+01]\n",
      "[-1.80575017e-01  3.76177393e+02]\n",
      "[-1.76137733e+00  3.56970215e+03]\n"
     ]
    },
    {
     "name": "stdout",
     "output_type": "stream",
     "text": [
      "[-2.16074750e+00  4.53435152e+03]\n",
      "[-2.94283256e-03  1.27942142e+01]\n",
      "[ 4.23044966e-02 -8.41268149e+01]\n",
      "[-5.35197989e+00  1.12007964e+04]\n",
      "[-5.15564608e-01  1.04228090e+03]\n",
      "[-2.94988358e-03  6.15225613e+00]\n",
      "[-1.72727273e-01  3.48163636e+02]\n",
      "[-2.15369105e-01  4.41985348e+02]\n",
      "[-2.20383329e+00  4.46988829e+03]\n",
      "[-3.19743238e+00  6.49958252e+03]\n",
      "[-1.07080201e+01  2.20801190e+04]\n",
      "[-7.29490846e-01  1.48248797e+03]\n",
      "[-1.59582357e-02  3.26657373e+01]\n",
      "[-7.09649570e+01  1.44176608e+05]\n",
      "[ 3.65821696e+00 -7.15595501e+03]\n",
      "[-1.11979962e-01  2.27478588e+02]\n",
      "[-2.63636364e-01  5.36163636e+02]\n",
      "[-3.84019861e+00  7.80869153e+03]\n",
      "[-1.81152823e+01  3.66040286e+04]\n",
      "[-4.30598371e+01  8.68215536e+04]\n",
      "[-1.31782179e+02  2.66889897e+05]\n",
      "[-2.05590035e-01  7.14376676e+02]\n",
      "[ 8.27407265e-02 -1.53154622e+02]\n",
      "[-2.16131657e+01  4.40648750e+04]\n",
      "[-3.07471865e-01  7.01888236e+02]\n",
      "[-7.85145657e-03  1.70635771e+01]\n",
      "[-5.83916084e-01  1.18529720e+03]\n",
      "[-1.58578421e-01  3.59399260e+02]\n",
      "[-2.37058110e+00  4.82788462e+03]\n",
      "[-6.16292934e+00  1.26111052e+04]\n",
      "[-3.01466761e+01  6.15038648e+04]\n",
      "[-5.32882075e-01  1.21728855e+03]\n",
      "[ 6.91780621e-02 -1.16184797e+02]\n",
      "[-6.96170839e+00  1.41585773e+04]\n",
      "[-6.85405277e-02  1.41967102e+02]\n",
      "[ 1.97290231e-03 -3.81906347e+00]\n",
      "[-3.04010349e-02  6.13376455e+01]\n",
      "[-7.22486332e-02  1.46000523e+02]\n",
      "[-7.69301165e-01  1.55130216e+03]\n",
      "[-2.38793677e+00  4.81471115e+03]\n",
      "[-1.01528488e+01  2.05921932e+04]\n",
      "[-1.53767530e-01  3.14584597e+02]\n",
      "[-2.09552320e-02  4.24044768e+01]\n",
      "[-1.61875931e+01  3.28588694e+04]\n",
      "[-6.58905567e-01  1.32412847e+03]\n",
      "[-3.83578129e-03  7.76806954e+00]\n",
      "[ 9.63777490e-02 -1.93240621e+02]\n",
      "[-2.88491270e-01  5.85016051e+02]\n",
      "[-2.32215191e+00  4.68131661e+03]\n",
      "[-3.08954306e+00  6.25001533e+03]\n",
      "[-2.18772949e+01  4.43447269e+04]\n",
      "[-9.92190342e-01  2.00015135e+03]\n",
      "[-4.67608304e-02  9.47981442e+01]\n",
      "[-2.37554091e+00  4.86069856e+03]\n",
      "[-3.23817640e-02  8.01022582e+01]\n",
      "[-1.27005348e-02  2.56864973e+01]\n",
      "[-3.49650350e-02  7.11655012e+01]\n",
      "[ 6.57894737e-03 -1.11315789e+01]\n",
      "[-8.05787873e-01  1.63165729e+03]\n",
      "[-1.92917479e+00  3.91118871e+03]\n",
      "[-4.54529180e+00  9.27845578e+03]\n",
      "[ 1.82861475e-01 -3.45208663e+02]\n",
      "[ 1.72398183e-01 -3.42451553e+02]\n",
      "[ 4.31116310e+00 -8.20466767e+03]\n",
      "[ 7.64705882e-01 -1.51563102e+03]\n",
      "[-1.57085561e-02  3.17055481e+01]\n",
      "[-1.25874126e-01  2.54195804e+02]\n",
      "[-1.04946524e-01  2.19149510e+02]\n",
      "[-1.01604278e+00  2.07446524e+03]\n",
      "[-2.51002674e+00  5.11686653e+03]\n",
      "[ 7.85093583e-01 -1.01333590e+03]\n",
      "[ 6.74131016e-01 -1.32290586e+03]\n",
      "[-1.64486192e-02  3.46245406e+01]\n",
      "[-5.45541589e-01  1.24125592e+03]\n",
      "[-7.73335705e-02  1.61066883e+02]\n",
      "[-2.28436059e-02  4.59557722e+01]\n",
      "[-2.60902256e-01  5.26366165e+02]\n",
      "[-1.63329584e-02  3.43517660e+01]\n",
      "[-6.56288337e-01  1.33173491e+03]\n",
      "[-2.07384266e+00  4.21063143e+03]\n",
      "[-3.27958362e+00  6.79150452e+03]\n",
      "[-2.24518364e-01  4.59329933e+02]\n",
      "[-1.02552416e-01  2.07145136e+02]\n",
      "[ 1.25000000e+01 -2.51343333e+04]\n",
      "[ 3.00000000e+00 -6.04233333e+03]\n",
      "[0. 0.]\n",
      "[-9.09090909e-03  1.83818182e+01]\n",
      "[-5.000e-01  1.009e+03]\n",
      "[ 3.500e+00 -7.049e+03]\n",
      "[-5.00e-01  1.02e+03]\n",
      "[ 1.55000000e+01 -3.11633333e+04]\n",
      "[ 2.50000000e+00 -5.03333333e+03]\n",
      "[0. 0.]\n",
      "[ 8.00000000e+00 -1.60466667e+04]\n",
      "[ 1.000e+00 -1.998e+03]\n",
      "[0. 0.]\n",
      "[-2.93706294e-01  5.93290210e+02]\n",
      "[-1.00000000e+00  2.01966667e+03]\n",
      "[ 2.500e+00 -5.036e+03]\n",
      "[ 1.00000000e+00 -1.99433333e+03]\n",
      "[ 1.1500e+01 -2.3077e+04]\n",
      "[ 5.00000000e-01 -9.82666667e+02]\n",
      "[ 1.000e+00 -2.012e+03]\n",
      "[ 3.00000000e+00 -6.00533333e+03]\n",
      "[ 1.50000000e+00 -3.02266667e+03]\n",
      "[0. 0.]\n",
      "[-1.39860140e-01  2.81662005e+02]\n",
      "[0. 0.]\n",
      "[ 1.500e+00 -3.022e+03]\n",
      "[-5.00000000e-01  1.02133333e+03]\n",
      "[ 4.000e+00 -8.006e+03]\n",
      "[ 2.00000000e+00 -4.03033333e+03]\n",
      "[0. 0.]\n",
      "[-3.03191442e+00  6.16878182e+03]\n",
      "[-2.02205882e-01  4.07220031e+02]\n",
      "[-4.67914439e-03  9.39327094e+00]\n",
      "[-1.32867133e-01  2.67762238e+02]\n",
      "[-1.87165775e-02  3.80276292e+01]\n",
      "[-3.93839112e-01  7.94242546e+02]\n",
      "[-2.75856391e+00  5.55415670e+03]\n",
      "[-6.17825697e+00  1.25051601e+04]\n",
      "[-2.45989305e-01  4.95679144e+02]\n",
      "[-2.11522483e-02  4.25634075e+01]\n",
      "[-3.89715536e+00  8.10281838e+03]\n",
      "[-2.45915735e-01  4.99221095e+02]\n",
      "[-2.10612691e-02  4.24600656e+01]\n",
      "[-2.72727273e-02  5.54181818e+01]\n",
      "[-2.65711160e-01  5.37675405e+02]\n",
      "[-1.72117068e+00  3.48282090e+03]\n",
      "[-3.12288840e+00  6.30860595e+03]\n",
      "[-8.74121444e+00  1.78942452e+04]\n",
      "[-5.22785899e-01  1.06123319e+03]\n",
      "[ 1.30537728e-02 -2.44187177e+01]\n",
      "[-1.30231430e+00  2.76129701e+03]\n",
      "[-7.01203209e-01  1.42416823e+03]\n",
      "[-7.35294118e-03  1.47738414e+01]\n",
      "[-8.39160839e-02  1.69963869e+02]\n",
      "[ 2.74064171e-02 -5.09917558e+01]\n",
      "[-8.02807487e-01  1.62947839e+03]\n",
      "[-1.37004443e+00  2.79864764e+03]\n",
      "[-3.52492447e+00  7.28861561e+03]\n",
      "[-5.96590909e-01  1.22144508e+03]\n",
      "[ 9.67342168e-02 -1.90799631e+02]\n",
      "[-3.64945442e+00  7.63613992e+03]\n",
      "[-1.07599305e-01  2.26970765e+02]\n",
      "[-2.13903743e-02  4.31354724e+01]\n",
      "[-5.24475524e-02  1.06081585e+02]\n",
      "[ 2.34291444e-01 -4.59786876e+02]\n",
      "[-1.86040034e+00  3.79415339e+03]\n",
      "[-1.91214387e+00  3.95641218e+03]\n",
      "[-7.47608744e+00  1.54946494e+04]\n",
      "[ 1.88112309e-01 -3.52559650e+02]\n",
      "[ 1.21097326e-01 -2.39183582e+02]\n",
      "[-3.95768578e+00  8.11235167e+03]\n",
      "[-2.63267526e-01  5.31097068e+02]\n",
      "[ 6.01604278e-03 -1.18865865e+01]\n",
      "[-1.71328671e-01  3.45544289e+02]\n",
      "[-5.68181818e-03  1.36117424e+01]\n",
      "[-3.43629832e-01  6.98893351e+02]\n",
      "[-1.80057630e+00  3.64523025e+03]\n",
      "[-6.10317938e+00  1.24591163e+04]\n",
      "[-2.68324577e-01  5.44374581e+02]\n",
      "[-7.84407610e-03  1.64519427e+01]\n",
      "[ 2.34835790e+00 -4.42627907e+03]\n",
      "[-3.64263632e-01  7.37925893e+02]\n",
      "[-1.90196693e-02  3.82854295e+01]\n",
      "[ 5.94545455e+00 -1.19432182e+04]\n",
      "[-2.76670102e-02  5.90300417e+01]\n",
      "[-5.73883238e-01  1.17231018e+03]\n",
      "[-1.60040772e+00  3.27589728e+03]\n",
      "[ 0.17406694 21.92840181]\n",
      "[-3.27702854e-01  6.71751781e+02]\n",
      "[ 8.17489899e-02 -1.60503618e+02]\n",
      "[-5.19395336e+00  1.10764333e+04]\n",
      "[-8.25293404e-01  1.66978065e+03]\n",
      "[-1.73274562e-02  3.50728174e+01]\n",
      "[-6.90909091e-01  1.39674545e+03]\n",
      "[-3.37094572e-02  8.03352268e+01]\n",
      "[-1.52891785e+00  3.12754142e+03]\n",
      "[-8.85059328e+00  1.79110976e+04]\n",
      "[-1.54939615e+01  3.19566277e+04]\n",
      "[-7.77165545e-01  1.59329003e+03]\n",
      "[ 7.30829473e-02 -1.40019595e+02]\n",
      "[-9.50671782e+01  1.92763576e+05]\n",
      "[-4.20742785e+00  8.62152288e+03]\n",
      "[-1.69028329e-01  3.42324276e+02]\n",
      "[-4.27272727e-01  8.67309091e+02]\n",
      "[-5.68583866e+00  1.15683456e+04]\n",
      "[-2.55689691e+01  5.16115196e+04]\n",
      "[-4.42112871e+01  8.91236692e+04]\n",
      "[-1.65875606e+02  3.35548413e+05]\n",
      "[-1.02370358e+01  2.08994361e+04]\n",
      "[ 2.01917013e-01 -3.83268098e+02]\n",
      "[-7.28990654e+00  1.49157706e+04]\n",
      "[ 1.70454545e-01 -3.36382576e+02]\n",
      "[-3.67647059e-03  7.47782977e+00]\n",
      "[ 1.11888112e-01 -2.24562937e+02]\n",
      "[-5.03510153e-02  1.04356927e+02]\n",
      "[-7.78864084e-01  1.57172908e+03]\n",
      "[-2.61179932e+00  5.29715630e+03]\n",
      "[-1.05924488e+01  2.16097363e+04]\n",
      "[ 1.43999468e-01 -2.78334435e+02]\n",
      "[ 3.29676520e-02 -6.45565492e+01]\n",
      "[-9.04501407e+00  1.91597087e+04]\n",
      "[9.09409627e-03 2.20547027e+01]\n",
      "[-4.54545455e-02  9.19848485e+01]\n",
      "[-3.67132867e-01  7.44737762e+02]\n",
      "[-8.90083958e-01  1.83666059e+03]\n",
      "[-9.32732372e+00  1.89122157e+04]\n",
      "[-1.28623453e+01  2.60588664e+04]\n",
      "[-3.08458893e+01  6.33566443e+04]\n",
      "[-7.54781658e-01  1.61548030e+03]\n",
      "[ 1.50530214e-01 -2.92705235e+02]\n",
      "[-9.15065441e-01  1.92340212e+03]\n",
      "[ 1.76360897e-02 -3.22245599e+01]\n",
      "[-1.99643907e-02  4.01018763e+01]\n",
      "[ 1.81818182e-02 -3.63090909e+01]\n",
      "[-2.06524290e-02  4.22784088e+01]\n",
      "[-3.15706270e-01  6.43305531e+02]\n",
      "[-4.39596493e-01  9.13720837e+02]\n",
      "[-1.76895944e+00  3.67658377e+03]\n",
      "[-3.18000469e-02  6.84440272e+01]\n",
      "[-8.46854329e-03  1.76562602e+01]\n",
      "[ 2.05000000e+01 -4.12483333e+04]\n",
      "[ 5.00000000e-01 -1.00333333e+03]\n",
      "[0. 0.]\n",
      "[-9.17293233e-02  1.85460150e+02]\n",
      "[ 1.00000000e+00 -2.01466667e+03]\n",
      "[ 3.00000000e+00 -6.04066667e+03]\n",
      "[ 7.50000000e+00 -1.51003333e+04]\n",
      "[ 3.10000000e+01 -6.23893333e+04]\n",
      "[ 1.00000000e+00 -2.00866667e+03]\n",
      "[ 2.000e+00 -4.029e+03]\n",
      "[-4.01390011e+00  8.67293588e+03]\n",
      "[-9.51934362e-01  1.96225862e+03]\n",
      "[ 6.84794404e-04 -9.63916603e-01]\n",
      "[-4.18181818e-01  8.44927273e+02]\n",
      "[ 7.66126908e-02 -1.43040024e+02]\n",
      "[-2.32027227e+00  4.70069531e+03]\n",
      "[-3.72432113e+00  7.61103011e+03]\n",
      "[-9.75790926e+00  2.03861736e+04]\n",
      "[-9.04081917e-01  1.88675880e+03]\n",
      "[-6.55189810e-02  1.40088946e+02]\n",
      "[-8.63995322e+00  1.80823419e+04]\n",
      "[-1.26170527e-01  2.60522425e+02]\n",
      "[-1.01034993e-02  2.03777723e+01]\n",
      "[ 9.09090909e-02 -1.82363636e+02]\n",
      "[ 2.32498559e-01 -4.51790867e+02]\n",
      "[-5.34492003e+00  1.07880378e+04]\n",
      "[-3.36512202e+00  6.84034203e+03]\n"
     ]
    },
    {
     "name": "stdout",
     "output_type": "stream",
     "text": [
      "[-1.66517804e+01  3.43220133e+04]\n",
      "[ 3.49580478e-01 -6.75318939e+02]\n",
      "[ 1.51971685e-01 -3.02264196e+02]\n",
      "[-1.53393763e+01  3.11372658e+04]\n",
      "[-1.43992770e+00  2.90865264e+03]\n",
      "[ 2.39151276e-03 -4.56629337e+00]\n",
      "[-5.54545455e-01  1.11892727e+03]\n",
      "[-2.44427417e-01  5.03852605e+02]\n",
      "[-1.33598121e+00  2.71952714e+03]\n",
      "[-5.90931031e+00  1.19489647e+04]\n",
      "[-2.29155932e+01  4.64644162e+04]\n",
      "[-1.51928680e+00  3.08720954e+03]\n",
      "[ 6.60724350e-02 -1.28657862e+02]\n",
      "[-1.22419218e+01  2.52290461e+04]\n",
      "[-2.09779215e-01  4.36590230e+02]\n",
      "[-1.00267380e-02  2.05180481e+01]\n",
      "[-4.30069930e-01  8.67168998e+02]\n",
      "[-8.99064171e-02  1.90387589e+02]\n",
      "[-4.94786096e+00  9.98115463e+03]\n",
      "[-6.79397800e+00  1.37753412e+04]\n",
      "[-2.36585884e+01  4.83385553e+04]\n",
      "[-3.41111730e-01  7.14393239e+02]\n",
      "[-3.64103023e-03  1.15901453e+01]\n",
      "[-5.90795455e+01  1.22440473e+05]\n",
      "[-2.96724599e+00  6.16803498e+03]\n",
      "[-9.05748663e-02  1.88573641e+02]\n",
      "[ 9.12587413e-01 -1.82758625e+03]\n",
      "[-2.99799465e+00  6.24465397e+03]\n",
      "[-1.66590909e+01  3.41704167e+04]\n",
      "[-6.24719251e+01  1.26391322e+05]\n",
      "[-1.38210561e+02  2.83002212e+05]\n",
      "[-6.53442513e+00  1.35924756e+04]\n",
      "[-5.58253179e-01  1.15026833e+03]\n",
      "[-8.01114028e+00  1.65809583e+04]\n",
      "[ 4.38088960e-01 -8.48567444e+02]\n",
      "[-1.23663102e-02  2.50783200e+01]\n",
      "[-2.79720280e-02  5.72657343e+01]\n",
      "[-1.95232399e-01  4.00829973e+02]\n",
      "[-1.41910363e+00  2.86646627e+03]\n",
      "[-2.16003635e+00  4.39301727e+03]\n",
      "[-1.14634155e+01  2.35879557e+04]\n",
      "[ 3.12692780e-01 -5.83174287e+02]\n",
      "[ 8.62954010e-02 -1.68847584e+02]\n",
      "[-3.76092091e+00  7.87695051e+03]\n",
      "[ 2.07123689e-01 -4.02631374e+02]\n",
      "[-8.02139037e-03  1.62932264e+01]\n",
      "[-2.44755245e-02  4.93158508e+01]\n",
      "[ 5.74841787e-02 -1.10833028e+02]\n",
      "[-1.14958700e+00  2.33160234e+03]\n",
      "[-1.47936348e+00  3.03742731e+03]\n",
      "[-6.21685639e+00  1.29024103e+04]\n",
      "[ 2.12405291e-01 -4.07053936e+02]\n",
      "[-1.30969314e-02  2.81890605e+01]\n",
      "[-1.76320961e+01  3.67413515e+04]\n",
      "[-1.17825855e+00  2.38891093e+03]\n",
      "[-5.34759358e-03  1.11853832e+01]\n",
      "[ 1.18881119e-01 -2.37796037e+02]\n",
      "[-1.14373053e+00  2.35425864e+03]\n",
      "[-4.57605038e+00  9.31826414e+03]\n",
      "[-1.39824700e+01  2.83273562e+04]\n",
      "[-3.62496434e+01  7.45036205e+04]\n",
      "[-2.42818914e+00  4.95986870e+03]\n",
      "[-1.06662536e-01  2.17152629e+02]\n",
      "[-2.65772059e+01  5.45424435e+04]\n",
      "[ 2.35294118e+00 -4.58275045e+03]\n",
      "[-8.35561497e-03  1.80226159e+01]\n",
      "[-6.32867133e-01  1.27842890e+03]\n",
      "[-7.37299465e-01  1.53503320e+03]\n",
      "[-1.19592246e+01  2.42501054e+04]\n",
      "[-1.81360294e+01  3.66609524e+04]\n",
      "[-5.66724599e+01  1.15453501e+05]\n",
      "[ 1.43783422e+00 -2.68277295e+03]\n",
      "[-2.40744131e-01  4.89233323e+02]\n",
      "[-1.46135623e+00  2.97971232e+03]\n",
      "[-8.05481283e-02  1.63510138e+02]\n",
      "[ 6.68449198e-04 -1.30726381e+00]\n",
      "[-1.57342657e-01  3.17078089e+02]\n",
      "[-5.01336898e-03  1.00923574e+01]\n",
      "[-7.02863911e-02  1.42848640e+02]\n",
      "[-1.07360269e+00  2.16576287e+03]\n",
      "[-2.63307689e+00  5.34368266e+03]\n",
      "[-8.08823529e-02  1.64360740e+02]\n",
      "[ 1.15478320e-03 -2.24247631e+00]\n",
      "[-1.90520309e+01  3.85752709e+04]\n",
      "[-2.88445938e-01  5.89416502e+02]\n",
      "[-3.04144385e-02  6.11320187e+01]\n",
      "[-9.79020979e-02  1.97596737e+02]\n",
      "[-2.15488996e-01  4.36722311e+02]\n",
      "[-3.18807138e+00  6.42531840e+03]\n",
      "[-6.44274355e+00  1.30029127e+04]\n",
      "[-2.84668276e+01  5.75738885e+04]\n",
      "[-5.33412699e-01  1.08643172e+03]\n",
      "[ 5.80208143e-03 -1.05353688e+01]\n",
      "[-8.64488349e+00  1.76993572e+04]\n",
      "[-1.25801527e+00  2.53913053e+03]\n",
      "[-9.36378356e-03  1.90762916e+01]\n",
      "[ 4.36090226e-02 -8.59744361e+01]\n",
      "[-3.77445649e-01  7.71645383e+02]\n",
      "[-1.21789533e+00  2.49552808e+03]\n",
      "[-1.75019220e+00  3.58620936e+03]\n",
      "[-1.10354610e+01  2.26309711e+04]\n",
      "[-1.59621467e+00  3.23670242e+03]\n",
      "[ 3.45180345e-02 -6.50728971e+01]\n",
      "[-1.77377036e+01  3.59872895e+04]\n",
      "[-6.12029797e-01  1.25362262e+03]\n",
      "[-1.26739641e-02  2.56398719e+01]\n",
      "[ 1.09090909e-01 -2.18036364e+02]\n",
      "[-1.16562543e-01  2.55473435e+02]\n",
      "[-6.50733784e-01  1.34817287e+03]\n",
      "[-8.38536478e+00  1.69469782e+04]\n",
      "[-2.71439237e+01  5.50184997e+04]\n",
      "[-7.25735037e-01  1.50731170e+03]\n",
      "[-2.21229853e-02  4.77374500e+01]\n",
      "[-2.51416794e+00  5.14688729e+03]\n",
      "[-2.77406417e-02  5.71150847e+01]\n",
      "[ 6.68449198e-04 -1.21635472e+00]\n",
      "[-2.44755245e-02  4.93158508e+01]\n",
      "[-1.60241890e-02  3.31556485e+01]\n",
      "[-5.04240458e-01  1.01696887e+03]\n",
      "[-1.58422460e+00  3.20570009e+03]\n",
      "[-4.55349649e+00  9.27184833e+03]\n",
      "[-3.25962136e-02  6.82824303e+01]\n",
      "[ 5.42184793e-03 -1.06750412e+01]\n",
      "[-3.14128139e-01  7.72494321e+02]\n",
      "[-3.12100507e-02  7.14079788e+01]\n",
      "[-1.67112299e-03  3.40452317e+00]\n",
      "[-3.88111888e-01  7.82603730e+02]\n",
      "[ 1.05334405e-02 -1.93879394e+01]\n",
      "[-4.91310160e-02  1.10250557e+02]\n",
      "[-2.92704532e-01  6.33063542e+02]\n",
      "[-5.40581638e-01  1.28640743e+03]\n",
      "[ 8.19330166e-02 -1.51528914e+02]\n",
      "[ 9.53934684e-02 -1.89213775e+02]\n",
      "[-5.31699161e+00  1.11460884e+04]\n",
      "[-2.75066845e-01  5.60742090e+02]\n",
      "[-3.00802139e-03  6.50389929e+00]\n",
      "[-1.60839161e-01  3.24861305e+02]\n",
      "[-4.27473262e-01  8.68919452e+02]\n",
      "[-1.66883343e+00  3.39244993e+03]\n",
      "[-5.45123384e+00  1.10063181e+04]\n",
      "[-1.23922143e+01  2.54555605e+04]\n",
      "[-9.38757390e-01  1.90884789e+03]\n",
      "[-2.34964383e-01  4.76188618e+02]\n",
      "[-2.94391534e+00  6.06494215e+03]\n",
      "[-4.19581821e-01  8.47614353e+02]\n",
      "[-8.68422811e-04  2.02770046e+00]\n",
      "[-5.36869340e-02  1.08362225e+02]\n",
      "[-9.55543301e-02  1.95277030e+02]\n",
      "[-7.93704462e-01  1.62380849e+03]\n",
      "[-5.65022422e-01  1.17133318e+03]\n",
      "[-4.32910053e+00  8.91312981e+03]\n",
      "[-4.72396907e-01  9.59726753e+02]\n",
      "[ 5.94257378e-02 -1.16691274e+02]\n",
      "[-8.09275232e-01  1.83896200e+03]\n",
      "[-1.90046110e-01  3.83652883e+02]\n",
      "[-7.01871658e-03  1.41656640e+01]\n",
      "[-1.74825175e-01  3.52494172e+02]\n",
      "[-7.43897796e-02  1.51871251e+02]\n",
      "[-4.47860963e-02  1.12132130e+02]\n",
      "[-2.23361080e+00  4.53821314e+03]\n",
      "[-3.06380729e+00  6.44173584e+03]\n",
      "[-3.37901070e-01  6.84473373e+02]\n",
      "[-6.64845301e-02  1.34911349e+02]\n",
      "[-1.10000000e+01  2.22516667e+04]\n",
      "[1.61988130e-13 6.66666666e-01]\n",
      "[0. 0.]\n",
      "[-6.99300699e-03  1.42331002e+01]\n",
      "[ 5.00000000e-01 -1.00666667e+03]\n",
      "[ 2.00000000e+00 -4.02166667e+03]\n",
      "[-1.65000000e+01  3.32936667e+04]\n",
      "[-2.55000000e+01  5.15236667e+04]\n",
      "[ 5.000e-01 -1.006e+03]\n",
      "[0. 0.]\n",
      "Agency larceny\n",
      "Agency assault\n",
      "Agency murder\n",
      "Agency arson\n",
      "Agency robbery\n",
      "Agency mv-theft\n",
      "Agency burglary\n",
      "Agency property\n",
      "Agency violent-crimes\n",
      "[1.00000000e+00 1.61270022e-11]\n"
     ]
    },
    {
     "data": {
      "text/plain": [
       "<Figure size 288x72 with 0 Axes>"
      ]
     },
     "metadata": {},
     "output_type": "display_data"
    },
    {
     "data": {
      "text/plain": [
       "<Figure size 288x72 with 0 Axes>"
      ]
     },
     "metadata": {},
     "output_type": "display_data"
    },
    {
     "data": {
      "text/plain": [
       "<Figure size 288x72 with 0 Axes>"
      ]
     },
     "metadata": {},
     "output_type": "display_data"
    },
    {
     "data": {
      "text/plain": [
       "<Figure size 288x72 with 0 Axes>"
      ]
     },
     "metadata": {},
     "output_type": "display_data"
    },
    {
     "data": {
      "text/plain": [
       "<Figure size 288x72 with 0 Axes>"
      ]
     },
     "metadata": {},
     "output_type": "display_data"
    },
    {
     "data": {
      "text/plain": [
       "<Figure size 288x72 with 0 Axes>"
      ]
     },
     "metadata": {},
     "output_type": "display_data"
    },
    {
     "data": {
      "text/plain": [
       "<Figure size 288x72 with 0 Axes>"
      ]
     },
     "metadata": {},
     "output_type": "display_data"
    },
    {
     "data": {
      "text/plain": [
       "<Figure size 288x72 with 0 Axes>"
      ]
     },
     "metadata": {},
     "output_type": "display_data"
    },
    {
     "data": {
      "text/plain": [
       "<Figure size 288x72 with 0 Axes>"
      ]
     },
     "metadata": {},
     "output_type": "display_data"
    },
    {
     "data": {
      "text/plain": [
       "<Figure size 288x72 with 0 Axes>"
      ]
     },
     "metadata": {},
     "output_type": "display_data"
    },
    {
     "data": {
      "text/plain": [
       "<Figure size 288x72 with 0 Axes>"
      ]
     },
     "metadata": {},
     "output_type": "display_data"
    },
    {
     "data": {
      "text/plain": [
       "<Figure size 288x72 with 0 Axes>"
      ]
     },
     "metadata": {},
     "output_type": "display_data"
    },
    {
     "data": {
      "text/plain": [
       "<Figure size 288x72 with 0 Axes>"
      ]
     },
     "metadata": {},
     "output_type": "display_data"
    },
    {
     "data": {
      "text/plain": [
       "<Figure size 288x72 with 0 Axes>"
      ]
     },
     "metadata": {},
     "output_type": "display_data"
    },
    {
     "data": {
      "text/plain": [
       "<Figure size 288x72 with 0 Axes>"
      ]
     },
     "metadata": {},
     "output_type": "display_data"
    },
    {
     "data": {
      "text/plain": [
       "<Figure size 288x72 with 0 Axes>"
      ]
     },
     "metadata": {},
     "output_type": "display_data"
    },
    {
     "data": {
      "text/plain": [
       "<Figure size 288x72 with 0 Axes>"
      ]
     },
     "metadata": {},
     "output_type": "display_data"
    },
    {
     "data": {
      "text/plain": [
       "<Figure size 288x72 with 0 Axes>"
      ]
     },
     "metadata": {},
     "output_type": "display_data"
    },
    {
     "data": {
      "text/plain": [
       "<Figure size 288x72 with 0 Axes>"
      ]
     },
     "metadata": {},
     "output_type": "display_data"
    },
    {
     "data": {
      "text/plain": [
       "<Figure size 288x72 with 0 Axes>"
      ]
     },
     "metadata": {},
     "output_type": "display_data"
    },
    {
     "data": {
      "text/plain": [
       "<Figure size 288x72 with 0 Axes>"
      ]
     },
     "metadata": {},
     "output_type": "display_data"
    },
    {
     "data": {
      "text/plain": [
       "<Figure size 288x72 with 0 Axes>"
      ]
     },
     "metadata": {},
     "output_type": "display_data"
    },
    {
     "data": {
      "text/plain": [
       "<Figure size 288x72 with 0 Axes>"
      ]
     },
     "metadata": {},
     "output_type": "display_data"
    },
    {
     "data": {
      "text/plain": [
       "<Figure size 288x72 with 0 Axes>"
      ]
     },
     "metadata": {},
     "output_type": "display_data"
    },
    {
     "data": {
      "text/plain": [
       "<Figure size 288x72 with 0 Axes>"
      ]
     },
     "metadata": {},
     "output_type": "display_data"
    },
    {
     "data": {
      "text/plain": [
       "<Figure size 288x72 with 0 Axes>"
      ]
     },
     "metadata": {},
     "output_type": "display_data"
    },
    {
     "data": {
      "text/plain": [
       "<Figure size 288x72 with 0 Axes>"
      ]
     },
     "metadata": {},
     "output_type": "display_data"
    },
    {
     "data": {
      "text/plain": [
       "<Figure size 288x72 with 0 Axes>"
      ]
     },
     "metadata": {},
     "output_type": "display_data"
    },
    {
     "data": {
      "text/plain": [
       "<Figure size 288x72 with 0 Axes>"
      ]
     },
     "metadata": {},
     "output_type": "display_data"
    },
    {
     "data": {
      "text/plain": [
       "<Figure size 288x72 with 0 Axes>"
      ]
     },
     "metadata": {},
     "output_type": "display_data"
    },
    {
     "data": {
      "text/plain": [
       "<Figure size 288x72 with 0 Axes>"
      ]
     },
     "metadata": {},
     "output_type": "display_data"
    },
    {
     "data": {
      "text/plain": [
       "<Figure size 288x72 with 0 Axes>"
      ]
     },
     "metadata": {},
     "output_type": "display_data"
    },
    {
     "data": {
      "text/plain": [
       "<Figure size 288x72 with 0 Axes>"
      ]
     },
     "metadata": {},
     "output_type": "display_data"
    },
    {
     "data": {
      "text/plain": [
       "<Figure size 288x72 with 0 Axes>"
      ]
     },
     "metadata": {},
     "output_type": "display_data"
    },
    {
     "data": {
      "text/plain": [
       "<Figure size 288x72 with 0 Axes>"
      ]
     },
     "metadata": {},
     "output_type": "display_data"
    },
    {
     "data": {
      "text/plain": [
       "<Figure size 288x72 with 0 Axes>"
      ]
     },
     "metadata": {},
     "output_type": "display_data"
    },
    {
     "data": {
      "text/plain": [
       "<Figure size 288x72 with 0 Axes>"
      ]
     },
     "metadata": {},
     "output_type": "display_data"
    },
    {
     "data": {
      "text/plain": [
       "<Figure size 288x72 with 0 Axes>"
      ]
     },
     "metadata": {},
     "output_type": "display_data"
    },
    {
     "data": {
      "text/plain": [
       "<Figure size 288x72 with 0 Axes>"
      ]
     },
     "metadata": {},
     "output_type": "display_data"
    },
    {
     "data": {
      "text/plain": [
       "<Figure size 288x72 with 0 Axes>"
      ]
     },
     "metadata": {},
     "output_type": "display_data"
    },
    {
     "data": {
      "text/plain": [
       "<Figure size 288x72 with 0 Axes>"
      ]
     },
     "metadata": {},
     "output_type": "display_data"
    },
    {
     "data": {
      "text/plain": [
       "<Figure size 288x72 with 0 Axes>"
      ]
     },
     "metadata": {},
     "output_type": "display_data"
    },
    {
     "data": {
      "text/plain": [
       "<Figure size 288x72 with 0 Axes>"
      ]
     },
     "metadata": {},
     "output_type": "display_data"
    },
    {
     "data": {
      "text/plain": [
       "<Figure size 288x72 with 0 Axes>"
      ]
     },
     "metadata": {},
     "output_type": "display_data"
    },
    {
     "data": {
      "text/plain": [
       "<Figure size 288x72 with 0 Axes>"
      ]
     },
     "metadata": {},
     "output_type": "display_data"
    },
    {
     "data": {
      "text/plain": [
       "<Figure size 288x72 with 0 Axes>"
      ]
     },
     "metadata": {},
     "output_type": "display_data"
    },
    {
     "data": {
      "text/plain": [
       "<Figure size 288x72 with 0 Axes>"
      ]
     },
     "metadata": {},
     "output_type": "display_data"
    },
    {
     "data": {
      "text/plain": [
       "<Figure size 288x72 with 0 Axes>"
      ]
     },
     "metadata": {},
     "output_type": "display_data"
    },
    {
     "data": {
      "text/plain": [
       "<Figure size 288x72 with 0 Axes>"
      ]
     },
     "metadata": {},
     "output_type": "display_data"
    },
    {
     "data": {
      "text/plain": [
       "<Figure size 288x72 with 0 Axes>"
      ]
     },
     "metadata": {},
     "output_type": "display_data"
    },
    {
     "data": {
      "text/plain": [
       "<Figure size 288x72 with 0 Axes>"
      ]
     },
     "metadata": {},
     "output_type": "display_data"
    },
    {
     "data": {
      "text/plain": [
       "<Figure size 288x72 with 0 Axes>"
      ]
     },
     "metadata": {},
     "output_type": "display_data"
    },
    {
     "data": {
      "text/plain": [
       "<Figure size 288x72 with 0 Axes>"
      ]
     },
     "metadata": {},
     "output_type": "display_data"
    },
    {
     "data": {
      "text/plain": [
       "<Figure size 288x72 with 0 Axes>"
      ]
     },
     "metadata": {},
     "output_type": "display_data"
    },
    {
     "data": {
      "text/plain": [
       "<Figure size 288x72 with 0 Axes>"
      ]
     },
     "metadata": {},
     "output_type": "display_data"
    },
    {
     "data": {
      "text/plain": [
       "<Figure size 288x72 with 0 Axes>"
      ]
     },
     "metadata": {},
     "output_type": "display_data"
    },
    {
     "data": {
      "text/plain": [
       "<Figure size 288x72 with 0 Axes>"
      ]
     },
     "metadata": {},
     "output_type": "display_data"
    },
    {
     "data": {
      "text/plain": [
       "<Figure size 288x72 with 0 Axes>"
      ]
     },
     "metadata": {},
     "output_type": "display_data"
    },
    {
     "data": {
      "text/plain": [
       "<Figure size 288x72 with 0 Axes>"
      ]
     },
     "metadata": {},
     "output_type": "display_data"
    },
    {
     "data": {
      "text/plain": [
       "<Figure size 288x72 with 0 Axes>"
      ]
     },
     "metadata": {},
     "output_type": "display_data"
    },
    {
     "data": {
      "text/plain": [
       "<Figure size 288x72 with 0 Axes>"
      ]
     },
     "metadata": {},
     "output_type": "display_data"
    },
    {
     "data": {
      "text/plain": [
       "<Figure size 288x72 with 0 Axes>"
      ]
     },
     "metadata": {},
     "output_type": "display_data"
    },
    {
     "data": {
      "text/plain": [
       "<Figure size 288x72 with 0 Axes>"
      ]
     },
     "metadata": {},
     "output_type": "display_data"
    },
    {
     "data": {
      "text/plain": [
       "<Figure size 288x72 with 0 Axes>"
      ]
     },
     "metadata": {},
     "output_type": "display_data"
    },
    {
     "data": {
      "text/plain": [
       "<Figure size 288x72 with 0 Axes>"
      ]
     },
     "metadata": {},
     "output_type": "display_data"
    },
    {
     "data": {
      "text/plain": [
       "<Figure size 288x72 with 0 Axes>"
      ]
     },
     "metadata": {},
     "output_type": "display_data"
    },
    {
     "data": {
      "text/plain": [
       "<Figure size 288x72 with 0 Axes>"
      ]
     },
     "metadata": {},
     "output_type": "display_data"
    },
    {
     "data": {
      "text/plain": [
       "<Figure size 288x72 with 0 Axes>"
      ]
     },
     "metadata": {},
     "output_type": "display_data"
    },
    {
     "data": {
      "text/plain": [
       "<Figure size 288x72 with 0 Axes>"
      ]
     },
     "metadata": {},
     "output_type": "display_data"
    },
    {
     "data": {
      "text/plain": [
       "<Figure size 288x72 with 0 Axes>"
      ]
     },
     "metadata": {},
     "output_type": "display_data"
    },
    {
     "data": {
      "text/plain": [
       "<Figure size 288x72 with 0 Axes>"
      ]
     },
     "metadata": {},
     "output_type": "display_data"
    },
    {
     "data": {
      "text/plain": [
       "<Figure size 288x72 with 0 Axes>"
      ]
     },
     "metadata": {},
     "output_type": "display_data"
    },
    {
     "data": {
      "text/plain": [
       "<Figure size 288x72 with 0 Axes>"
      ]
     },
     "metadata": {},
     "output_type": "display_data"
    },
    {
     "data": {
      "text/plain": [
       "<Figure size 288x72 with 0 Axes>"
      ]
     },
     "metadata": {},
     "output_type": "display_data"
    },
    {
     "data": {
      "text/plain": [
       "<Figure size 288x72 with 0 Axes>"
      ]
     },
     "metadata": {},
     "output_type": "display_data"
    },
    {
     "data": {
      "text/plain": [
       "<Figure size 288x72 with 0 Axes>"
      ]
     },
     "metadata": {},
     "output_type": "display_data"
    },
    {
     "data": {
      "text/plain": [
       "<Figure size 288x72 with 0 Axes>"
      ]
     },
     "metadata": {},
     "output_type": "display_data"
    },
    {
     "data": {
      "text/plain": [
       "<Figure size 288x72 with 0 Axes>"
      ]
     },
     "metadata": {},
     "output_type": "display_data"
    },
    {
     "data": {
      "text/plain": [
       "<Figure size 288x72 with 0 Axes>"
      ]
     },
     "metadata": {},
     "output_type": "display_data"
    },
    {
     "data": {
      "text/plain": [
       "<Figure size 288x72 with 0 Axes>"
      ]
     },
     "metadata": {},
     "output_type": "display_data"
    },
    {
     "data": {
      "text/plain": [
       "<Figure size 288x72 with 0 Axes>"
      ]
     },
     "metadata": {},
     "output_type": "display_data"
    },
    {
     "data": {
      "text/plain": [
       "<Figure size 288x72 with 0 Axes>"
      ]
     },
     "metadata": {},
     "output_type": "display_data"
    },
    {
     "data": {
      "text/plain": [
       "<Figure size 288x72 with 0 Axes>"
      ]
     },
     "metadata": {},
     "output_type": "display_data"
    },
    {
     "data": {
      "text/plain": [
       "<Figure size 288x72 with 0 Axes>"
      ]
     },
     "metadata": {},
     "output_type": "display_data"
    },
    {
     "data": {
      "text/plain": [
       "<Figure size 288x72 with 0 Axes>"
      ]
     },
     "metadata": {},
     "output_type": "display_data"
    },
    {
     "data": {
      "text/plain": [
       "<Figure size 288x72 with 0 Axes>"
      ]
     },
     "metadata": {},
     "output_type": "display_data"
    },
    {
     "data": {
      "text/plain": [
       "<Figure size 288x72 with 0 Axes>"
      ]
     },
     "metadata": {},
     "output_type": "display_data"
    },
    {
     "data": {
      "text/plain": [
       "<Figure size 288x72 with 0 Axes>"
      ]
     },
     "metadata": {},
     "output_type": "display_data"
    },
    {
     "data": {
      "text/plain": [
       "<Figure size 288x72 with 0 Axes>"
      ]
     },
     "metadata": {},
     "output_type": "display_data"
    },
    {
     "data": {
      "text/plain": [
       "<Figure size 288x72 with 0 Axes>"
      ]
     },
     "metadata": {},
     "output_type": "display_data"
    },
    {
     "data": {
      "text/plain": [
       "<Figure size 288x72 with 0 Axes>"
      ]
     },
     "metadata": {},
     "output_type": "display_data"
    },
    {
     "data": {
      "text/plain": [
       "<Figure size 288x72 with 0 Axes>"
      ]
     },
     "metadata": {},
     "output_type": "display_data"
    },
    {
     "data": {
      "text/plain": [
       "<Figure size 288x72 with 0 Axes>"
      ]
     },
     "metadata": {},
     "output_type": "display_data"
    },
    {
     "data": {
      "text/plain": [
       "<Figure size 288x72 with 0 Axes>"
      ]
     },
     "metadata": {},
     "output_type": "display_data"
    },
    {
     "data": {
      "text/plain": [
       "<Figure size 288x72 with 0 Axes>"
      ]
     },
     "metadata": {},
     "output_type": "display_data"
    },
    {
     "data": {
      "text/plain": [
       "<Figure size 288x72 with 0 Axes>"
      ]
     },
     "metadata": {},
     "output_type": "display_data"
    },
    {
     "data": {
      "text/plain": [
       "<Figure size 288x72 with 0 Axes>"
      ]
     },
     "metadata": {},
     "output_type": "display_data"
    },
    {
     "data": {
      "text/plain": [
       "<Figure size 288x72 with 0 Axes>"
      ]
     },
     "metadata": {},
     "output_type": "display_data"
    },
    {
     "data": {
      "text/plain": [
       "<Figure size 288x72 with 0 Axes>"
      ]
     },
     "metadata": {},
     "output_type": "display_data"
    },
    {
     "data": {
      "text/plain": [
       "<Figure size 288x72 with 0 Axes>"
      ]
     },
     "metadata": {},
     "output_type": "display_data"
    },
    {
     "data": {
      "text/plain": [
       "<Figure size 288x72 with 0 Axes>"
      ]
     },
     "metadata": {},
     "output_type": "display_data"
    },
    {
     "data": {
      "text/plain": [
       "<Figure size 288x72 with 0 Axes>"
      ]
     },
     "metadata": {},
     "output_type": "display_data"
    },
    {
     "data": {
      "text/plain": [
       "<Figure size 288x72 with 0 Axes>"
      ]
     },
     "metadata": {},
     "output_type": "display_data"
    },
    {
     "data": {
      "text/plain": [
       "<Figure size 288x72 with 0 Axes>"
      ]
     },
     "metadata": {},
     "output_type": "display_data"
    },
    {
     "data": {
      "text/plain": [
       "<Figure size 288x72 with 0 Axes>"
      ]
     },
     "metadata": {},
     "output_type": "display_data"
    },
    {
     "data": {
      "text/plain": [
       "<Figure size 288x72 with 0 Axes>"
      ]
     },
     "metadata": {},
     "output_type": "display_data"
    },
    {
     "data": {
      "text/plain": [
       "<Figure size 288x72 with 0 Axes>"
      ]
     },
     "metadata": {},
     "output_type": "display_data"
    },
    {
     "data": {
      "text/plain": [
       "<Figure size 288x72 with 0 Axes>"
      ]
     },
     "metadata": {},
     "output_type": "display_data"
    },
    {
     "data": {
      "text/plain": [
       "<Figure size 288x72 with 0 Axes>"
      ]
     },
     "metadata": {},
     "output_type": "display_data"
    },
    {
     "data": {
      "text/plain": [
       "<Figure size 288x72 with 0 Axes>"
      ]
     },
     "metadata": {},
     "output_type": "display_data"
    },
    {
     "data": {
      "text/plain": [
       "<Figure size 288x72 with 0 Axes>"
      ]
     },
     "metadata": {},
     "output_type": "display_data"
    },
    {
     "data": {
      "text/plain": [
       "<Figure size 288x72 with 0 Axes>"
      ]
     },
     "metadata": {},
     "output_type": "display_data"
    },
    {
     "data": {
      "text/plain": [
       "<Figure size 288x72 with 0 Axes>"
      ]
     },
     "metadata": {},
     "output_type": "display_data"
    },
    {
     "data": {
      "text/plain": [
       "<Figure size 288x72 with 0 Axes>"
      ]
     },
     "metadata": {},
     "output_type": "display_data"
    },
    {
     "data": {
      "text/plain": [
       "<Figure size 288x72 with 0 Axes>"
      ]
     },
     "metadata": {},
     "output_type": "display_data"
    },
    {
     "data": {
      "text/plain": [
       "<Figure size 288x72 with 0 Axes>"
      ]
     },
     "metadata": {},
     "output_type": "display_data"
    },
    {
     "data": {
      "text/plain": [
       "<Figure size 288x72 with 0 Axes>"
      ]
     },
     "metadata": {},
     "output_type": "display_data"
    },
    {
     "data": {
      "text/plain": [
       "<Figure size 288x72 with 0 Axes>"
      ]
     },
     "metadata": {},
     "output_type": "display_data"
    },
    {
     "data": {
      "text/plain": [
       "<Figure size 288x72 with 0 Axes>"
      ]
     },
     "metadata": {},
     "output_type": "display_data"
    },
    {
     "data": {
      "text/plain": [
       "<Figure size 288x72 with 0 Axes>"
      ]
     },
     "metadata": {},
     "output_type": "display_data"
    },
    {
     "data": {
      "text/plain": [
       "<Figure size 288x72 with 0 Axes>"
      ]
     },
     "metadata": {},
     "output_type": "display_data"
    },
    {
     "data": {
      "text/plain": [
       "<Figure size 288x72 with 0 Axes>"
      ]
     },
     "metadata": {},
     "output_type": "display_data"
    },
    {
     "data": {
      "text/plain": [
       "<Figure size 288x72 with 0 Axes>"
      ]
     },
     "metadata": {},
     "output_type": "display_data"
    },
    {
     "data": {
      "text/plain": [
       "<Figure size 288x72 with 0 Axes>"
      ]
     },
     "metadata": {},
     "output_type": "display_data"
    },
    {
     "data": {
      "text/plain": [
       "<Figure size 288x72 with 0 Axes>"
      ]
     },
     "metadata": {},
     "output_type": "display_data"
    },
    {
     "data": {
      "text/plain": [
       "<Figure size 288x72 with 0 Axes>"
      ]
     },
     "metadata": {},
     "output_type": "display_data"
    },
    {
     "data": {
      "text/plain": [
       "<Figure size 288x72 with 0 Axes>"
      ]
     },
     "metadata": {},
     "output_type": "display_data"
    },
    {
     "data": {
      "text/plain": [
       "<Figure size 288x72 with 0 Axes>"
      ]
     },
     "metadata": {},
     "output_type": "display_data"
    },
    {
     "data": {
      "text/plain": [
       "<Figure size 288x72 with 0 Axes>"
      ]
     },
     "metadata": {},
     "output_type": "display_data"
    },
    {
     "data": {
      "text/plain": [
       "<Figure size 288x72 with 0 Axes>"
      ]
     },
     "metadata": {},
     "output_type": "display_data"
    },
    {
     "data": {
      "text/plain": [
       "<Figure size 288x72 with 0 Axes>"
      ]
     },
     "metadata": {},
     "output_type": "display_data"
    },
    {
     "data": {
      "text/plain": [
       "<Figure size 288x72 with 0 Axes>"
      ]
     },
     "metadata": {},
     "output_type": "display_data"
    },
    {
     "data": {
      "text/plain": [
       "<Figure size 288x72 with 0 Axes>"
      ]
     },
     "metadata": {},
     "output_type": "display_data"
    },
    {
     "data": {
      "text/plain": [
       "<Figure size 288x72 with 0 Axes>"
      ]
     },
     "metadata": {},
     "output_type": "display_data"
    },
    {
     "data": {
      "text/plain": [
       "<Figure size 288x72 with 0 Axes>"
      ]
     },
     "metadata": {},
     "output_type": "display_data"
    },
    {
     "data": {
      "text/plain": [
       "<Figure size 288x72 with 0 Axes>"
      ]
     },
     "metadata": {},
     "output_type": "display_data"
    },
    {
     "data": {
      "text/plain": [
       "<Figure size 288x72 with 0 Axes>"
      ]
     },
     "metadata": {},
     "output_type": "display_data"
    },
    {
     "data": {
      "text/plain": [
       "<Figure size 288x72 with 0 Axes>"
      ]
     },
     "metadata": {},
     "output_type": "display_data"
    },
    {
     "data": {
      "text/plain": [
       "<Figure size 288x72 with 0 Axes>"
      ]
     },
     "metadata": {},
     "output_type": "display_data"
    },
    {
     "data": {
      "text/plain": [
       "<Figure size 288x72 with 0 Axes>"
      ]
     },
     "metadata": {},
     "output_type": "display_data"
    },
    {
     "data": {
      "text/plain": [
       "<Figure size 288x72 with 0 Axes>"
      ]
     },
     "metadata": {},
     "output_type": "display_data"
    },
    {
     "data": {
      "text/plain": [
       "<Figure size 288x72 with 0 Axes>"
      ]
     },
     "metadata": {},
     "output_type": "display_data"
    },
    {
     "data": {
      "text/plain": [
       "<Figure size 288x72 with 0 Axes>"
      ]
     },
     "metadata": {},
     "output_type": "display_data"
    },
    {
     "data": {
      "text/plain": [
       "<Figure size 288x72 with 0 Axes>"
      ]
     },
     "metadata": {},
     "output_type": "display_data"
    },
    {
     "data": {
      "text/plain": [
       "<Figure size 288x72 with 0 Axes>"
      ]
     },
     "metadata": {},
     "output_type": "display_data"
    },
    {
     "data": {
      "text/plain": [
       "<Figure size 288x72 with 0 Axes>"
      ]
     },
     "metadata": {},
     "output_type": "display_data"
    },
    {
     "data": {
      "text/plain": [
       "<Figure size 288x72 with 0 Axes>"
      ]
     },
     "metadata": {},
     "output_type": "display_data"
    },
    {
     "data": {
      "text/plain": [
       "<Figure size 288x72 with 0 Axes>"
      ]
     },
     "metadata": {},
     "output_type": "display_data"
    },
    {
     "data": {
      "text/plain": [
       "<Figure size 288x72 with 0 Axes>"
      ]
     },
     "metadata": {},
     "output_type": "display_data"
    },
    {
     "data": {
      "text/plain": [
       "<Figure size 288x72 with 0 Axes>"
      ]
     },
     "metadata": {},
     "output_type": "display_data"
    },
    {
     "data": {
      "text/plain": [
       "<Figure size 288x72 with 0 Axes>"
      ]
     },
     "metadata": {},
     "output_type": "display_data"
    },
    {
     "data": {
      "text/plain": [
       "<Figure size 288x72 with 0 Axes>"
      ]
     },
     "metadata": {},
     "output_type": "display_data"
    },
    {
     "data": {
      "text/plain": [
       "<Figure size 288x72 with 0 Axes>"
      ]
     },
     "metadata": {},
     "output_type": "display_data"
    },
    {
     "data": {
      "text/plain": [
       "<Figure size 288x72 with 0 Axes>"
      ]
     },
     "metadata": {},
     "output_type": "display_data"
    },
    {
     "data": {
      "text/plain": [
       "<Figure size 288x72 with 0 Axes>"
      ]
     },
     "metadata": {},
     "output_type": "display_data"
    },
    {
     "data": {
      "text/plain": [
       "<Figure size 288x72 with 0 Axes>"
      ]
     },
     "metadata": {},
     "output_type": "display_data"
    },
    {
     "data": {
      "text/plain": [
       "<Figure size 288x72 with 0 Axes>"
      ]
     },
     "metadata": {},
     "output_type": "display_data"
    },
    {
     "data": {
      "text/plain": [
       "<Figure size 288x72 with 0 Axes>"
      ]
     },
     "metadata": {},
     "output_type": "display_data"
    },
    {
     "data": {
      "text/plain": [
       "<Figure size 288x72 with 0 Axes>"
      ]
     },
     "metadata": {},
     "output_type": "display_data"
    },
    {
     "data": {
      "text/plain": [
       "<Figure size 288x72 with 0 Axes>"
      ]
     },
     "metadata": {},
     "output_type": "display_data"
    },
    {
     "data": {
      "text/plain": [
       "<Figure size 288x72 with 0 Axes>"
      ]
     },
     "metadata": {},
     "output_type": "display_data"
    },
    {
     "data": {
      "text/plain": [
       "<Figure size 288x72 with 0 Axes>"
      ]
     },
     "metadata": {},
     "output_type": "display_data"
    },
    {
     "data": {
      "text/plain": [
       "<Figure size 288x72 with 0 Axes>"
      ]
     },
     "metadata": {},
     "output_type": "display_data"
    },
    {
     "data": {
      "text/plain": [
       "<Figure size 288x72 with 0 Axes>"
      ]
     },
     "metadata": {},
     "output_type": "display_data"
    },
    {
     "data": {
      "text/plain": [
       "<Figure size 288x72 with 0 Axes>"
      ]
     },
     "metadata": {},
     "output_type": "display_data"
    },
    {
     "data": {
      "text/plain": [
       "<Figure size 288x72 with 0 Axes>"
      ]
     },
     "metadata": {},
     "output_type": "display_data"
    },
    {
     "data": {
      "text/plain": [
       "<Figure size 288x72 with 0 Axes>"
      ]
     },
     "metadata": {},
     "output_type": "display_data"
    },
    {
     "data": {
      "text/plain": [
       "<Figure size 288x72 with 0 Axes>"
      ]
     },
     "metadata": {},
     "output_type": "display_data"
    },
    {
     "data": {
      "text/plain": [
       "<Figure size 288x72 with 0 Axes>"
      ]
     },
     "metadata": {},
     "output_type": "display_data"
    },
    {
     "data": {
      "text/plain": [
       "<Figure size 288x72 with 0 Axes>"
      ]
     },
     "metadata": {},
     "output_type": "display_data"
    },
    {
     "data": {
      "text/plain": [
       "<Figure size 288x72 with 0 Axes>"
      ]
     },
     "metadata": {},
     "output_type": "display_data"
    },
    {
     "data": {
      "text/plain": [
       "<Figure size 288x72 with 0 Axes>"
      ]
     },
     "metadata": {},
     "output_type": "display_data"
    },
    {
     "data": {
      "text/plain": [
       "<Figure size 288x72 with 0 Axes>"
      ]
     },
     "metadata": {},
     "output_type": "display_data"
    },
    {
     "data": {
      "text/plain": [
       "<Figure size 288x72 with 0 Axes>"
      ]
     },
     "metadata": {},
     "output_type": "display_data"
    },
    {
     "data": {
      "text/plain": [
       "<Figure size 288x72 with 0 Axes>"
      ]
     },
     "metadata": {},
     "output_type": "display_data"
    },
    {
     "data": {
      "text/plain": [
       "<Figure size 288x72 with 0 Axes>"
      ]
     },
     "metadata": {},
     "output_type": "display_data"
    },
    {
     "data": {
      "text/plain": [
       "<Figure size 288x72 with 0 Axes>"
      ]
     },
     "metadata": {},
     "output_type": "display_data"
    },
    {
     "data": {
      "text/plain": [
       "<Figure size 288x72 with 0 Axes>"
      ]
     },
     "metadata": {},
     "output_type": "display_data"
    },
    {
     "data": {
      "text/plain": [
       "<Figure size 288x72 with 0 Axes>"
      ]
     },
     "metadata": {},
     "output_type": "display_data"
    },
    {
     "data": {
      "text/plain": [
       "<Figure size 288x72 with 0 Axes>"
      ]
     },
     "metadata": {},
     "output_type": "display_data"
    },
    {
     "data": {
      "text/plain": [
       "<Figure size 288x72 with 0 Axes>"
      ]
     },
     "metadata": {},
     "output_type": "display_data"
    },
    {
     "data": {
      "text/plain": [
       "<Figure size 288x72 with 0 Axes>"
      ]
     },
     "metadata": {},
     "output_type": "display_data"
    },
    {
     "data": {
      "text/plain": [
       "<Figure size 288x72 with 0 Axes>"
      ]
     },
     "metadata": {},
     "output_type": "display_data"
    },
    {
     "data": {
      "text/plain": [
       "<Figure size 288x72 with 0 Axes>"
      ]
     },
     "metadata": {},
     "output_type": "display_data"
    },
    {
     "data": {
      "text/plain": [
       "<Figure size 288x72 with 0 Axes>"
      ]
     },
     "metadata": {},
     "output_type": "display_data"
    },
    {
     "data": {
      "text/plain": [
       "<Figure size 288x72 with 0 Axes>"
      ]
     },
     "metadata": {},
     "output_type": "display_data"
    },
    {
     "data": {
      "text/plain": [
       "<Figure size 288x72 with 0 Axes>"
      ]
     },
     "metadata": {},
     "output_type": "display_data"
    },
    {
     "data": {
      "text/plain": [
       "<Figure size 288x72 with 0 Axes>"
      ]
     },
     "metadata": {},
     "output_type": "display_data"
    },
    {
     "data": {
      "text/plain": [
       "<Figure size 288x72 with 0 Axes>"
      ]
     },
     "metadata": {},
     "output_type": "display_data"
    },
    {
     "data": {
      "text/plain": [
       "<Figure size 288x72 with 0 Axes>"
      ]
     },
     "metadata": {},
     "output_type": "display_data"
    },
    {
     "data": {
      "text/plain": [
       "<Figure size 288x72 with 0 Axes>"
      ]
     },
     "metadata": {},
     "output_type": "display_data"
    },
    {
     "data": {
      "text/plain": [
       "<Figure size 288x72 with 0 Axes>"
      ]
     },
     "metadata": {},
     "output_type": "display_data"
    },
    {
     "data": {
      "text/plain": [
       "<Figure size 288x72 with 0 Axes>"
      ]
     },
     "metadata": {},
     "output_type": "display_data"
    },
    {
     "data": {
      "text/plain": [
       "<Figure size 288x72 with 0 Axes>"
      ]
     },
     "metadata": {},
     "output_type": "display_data"
    },
    {
     "data": {
      "text/plain": [
       "<Figure size 288x72 with 0 Axes>"
      ]
     },
     "metadata": {},
     "output_type": "display_data"
    },
    {
     "data": {
      "text/plain": [
       "<Figure size 288x72 with 0 Axes>"
      ]
     },
     "metadata": {},
     "output_type": "display_data"
    },
    {
     "data": {
      "text/plain": [
       "<Figure size 288x72 with 0 Axes>"
      ]
     },
     "metadata": {},
     "output_type": "display_data"
    },
    {
     "data": {
      "text/plain": [
       "<Figure size 288x72 with 0 Axes>"
      ]
     },
     "metadata": {},
     "output_type": "display_data"
    },
    {
     "data": {
      "text/plain": [
       "<Figure size 288x72 with 0 Axes>"
      ]
     },
     "metadata": {},
     "output_type": "display_data"
    },
    {
     "data": {
      "text/plain": [
       "<Figure size 288x72 with 0 Axes>"
      ]
     },
     "metadata": {},
     "output_type": "display_data"
    },
    {
     "data": {
      "text/plain": [
       "<Figure size 288x72 with 0 Axes>"
      ]
     },
     "metadata": {},
     "output_type": "display_data"
    },
    {
     "data": {
      "text/plain": [
       "<Figure size 288x72 with 0 Axes>"
      ]
     },
     "metadata": {},
     "output_type": "display_data"
    },
    {
     "data": {
      "text/plain": [
       "<Figure size 288x72 with 0 Axes>"
      ]
     },
     "metadata": {},
     "output_type": "display_data"
    },
    {
     "data": {
      "text/plain": [
       "<Figure size 288x72 with 0 Axes>"
      ]
     },
     "metadata": {},
     "output_type": "display_data"
    },
    {
     "data": {
      "text/plain": [
       "<Figure size 288x72 with 0 Axes>"
      ]
     },
     "metadata": {},
     "output_type": "display_data"
    },
    {
     "data": {
      "text/plain": [
       "<Figure size 288x72 with 0 Axes>"
      ]
     },
     "metadata": {},
     "output_type": "display_data"
    },
    {
     "data": {
      "text/plain": [
       "<Figure size 288x72 with 0 Axes>"
      ]
     },
     "metadata": {},
     "output_type": "display_data"
    },
    {
     "data": {
      "text/plain": [
       "<Figure size 288x72 with 0 Axes>"
      ]
     },
     "metadata": {},
     "output_type": "display_data"
    },
    {
     "data": {
      "text/plain": [
       "<Figure size 288x72 with 0 Axes>"
      ]
     },
     "metadata": {},
     "output_type": "display_data"
    },
    {
     "data": {
      "text/plain": [
       "<Figure size 288x72 with 0 Axes>"
      ]
     },
     "metadata": {},
     "output_type": "display_data"
    },
    {
     "data": {
      "text/plain": [
       "<Figure size 288x72 with 0 Axes>"
      ]
     },
     "metadata": {},
     "output_type": "display_data"
    },
    {
     "data": {
      "text/plain": [
       "<Figure size 288x72 with 0 Axes>"
      ]
     },
     "metadata": {},
     "output_type": "display_data"
    },
    {
     "data": {
      "text/plain": [
       "<Figure size 288x72 with 0 Axes>"
      ]
     },
     "metadata": {},
     "output_type": "display_data"
    },
    {
     "data": {
      "text/plain": [
       "<Figure size 288x72 with 0 Axes>"
      ]
     },
     "metadata": {},
     "output_type": "display_data"
    },
    {
     "data": {
      "text/plain": [
       "<Figure size 288x72 with 0 Axes>"
      ]
     },
     "metadata": {},
     "output_type": "display_data"
    },
    {
     "data": {
      "text/plain": [
       "<Figure size 288x72 with 0 Axes>"
      ]
     },
     "metadata": {},
     "output_type": "display_data"
    },
    {
     "data": {
      "text/plain": [
       "<Figure size 288x72 with 0 Axes>"
      ]
     },
     "metadata": {},
     "output_type": "display_data"
    },
    {
     "data": {
      "text/plain": [
       "<Figure size 288x72 with 0 Axes>"
      ]
     },
     "metadata": {},
     "output_type": "display_data"
    },
    {
     "data": {
      "text/plain": [
       "<Figure size 288x72 with 0 Axes>"
      ]
     },
     "metadata": {},
     "output_type": "display_data"
    },
    {
     "data": {
      "text/plain": [
       "<Figure size 288x72 with 0 Axes>"
      ]
     },
     "metadata": {},
     "output_type": "display_data"
    },
    {
     "data": {
      "text/plain": [
       "<Figure size 288x72 with 0 Axes>"
      ]
     },
     "metadata": {},
     "output_type": "display_data"
    },
    {
     "data": {
      "text/plain": [
       "<Figure size 288x72 with 0 Axes>"
      ]
     },
     "metadata": {},
     "output_type": "display_data"
    },
    {
     "data": {
      "text/plain": [
       "<Figure size 288x72 with 0 Axes>"
      ]
     },
     "metadata": {},
     "output_type": "display_data"
    },
    {
     "data": {
      "text/plain": [
       "<Figure size 288x72 with 0 Axes>"
      ]
     },
     "metadata": {},
     "output_type": "display_data"
    },
    {
     "data": {
      "text/plain": [
       "<Figure size 288x72 with 0 Axes>"
      ]
     },
     "metadata": {},
     "output_type": "display_data"
    },
    {
     "data": {
      "text/plain": [
       "<Figure size 288x72 with 0 Axes>"
      ]
     },
     "metadata": {},
     "output_type": "display_data"
    },
    {
     "data": {
      "text/plain": [
       "<Figure size 288x72 with 0 Axes>"
      ]
     },
     "metadata": {},
     "output_type": "display_data"
    },
    {
     "data": {
      "text/plain": [
       "<Figure size 288x72 with 0 Axes>"
      ]
     },
     "metadata": {},
     "output_type": "display_data"
    },
    {
     "data": {
      "text/plain": [
       "<Figure size 288x72 with 0 Axes>"
      ]
     },
     "metadata": {},
     "output_type": "display_data"
    },
    {
     "data": {
      "text/plain": [
       "<Figure size 288x72 with 0 Axes>"
      ]
     },
     "metadata": {},
     "output_type": "display_data"
    },
    {
     "data": {
      "text/plain": [
       "<Figure size 288x72 with 0 Axes>"
      ]
     },
     "metadata": {},
     "output_type": "display_data"
    },
    {
     "data": {
      "text/plain": [
       "<Figure size 288x72 with 0 Axes>"
      ]
     },
     "metadata": {},
     "output_type": "display_data"
    },
    {
     "data": {
      "text/plain": [
       "<Figure size 288x72 with 0 Axes>"
      ]
     },
     "metadata": {},
     "output_type": "display_data"
    },
    {
     "data": {
      "text/plain": [
       "<Figure size 288x72 with 0 Axes>"
      ]
     },
     "metadata": {},
     "output_type": "display_data"
    },
    {
     "data": {
      "text/plain": [
       "<Figure size 288x72 with 0 Axes>"
      ]
     },
     "metadata": {},
     "output_type": "display_data"
    },
    {
     "data": {
      "text/plain": [
       "<Figure size 288x72 with 0 Axes>"
      ]
     },
     "metadata": {},
     "output_type": "display_data"
    },
    {
     "data": {
      "text/plain": [
       "<Figure size 288x72 with 0 Axes>"
      ]
     },
     "metadata": {},
     "output_type": "display_data"
    },
    {
     "data": {
      "text/plain": [
       "<Figure size 288x72 with 0 Axes>"
      ]
     },
     "metadata": {},
     "output_type": "display_data"
    },
    {
     "data": {
      "text/plain": [
       "<Figure size 288x72 with 0 Axes>"
      ]
     },
     "metadata": {},
     "output_type": "display_data"
    },
    {
     "data": {
      "text/plain": [
       "<Figure size 288x72 with 0 Axes>"
      ]
     },
     "metadata": {},
     "output_type": "display_data"
    },
    {
     "data": {
      "text/plain": [
       "<Figure size 288x72 with 0 Axes>"
      ]
     },
     "metadata": {},
     "output_type": "display_data"
    },
    {
     "data": {
      "text/plain": [
       "<Figure size 288x72 with 0 Axes>"
      ]
     },
     "metadata": {},
     "output_type": "display_data"
    },
    {
     "data": {
      "text/plain": [
       "<Figure size 288x72 with 0 Axes>"
      ]
     },
     "metadata": {},
     "output_type": "display_data"
    },
    {
     "data": {
      "text/plain": [
       "<Figure size 288x72 with 0 Axes>"
      ]
     },
     "metadata": {},
     "output_type": "display_data"
    },
    {
     "data": {
      "text/plain": [
       "<Figure size 288x72 with 0 Axes>"
      ]
     },
     "metadata": {},
     "output_type": "display_data"
    },
    {
     "data": {
      "text/plain": [
       "<Figure size 288x72 with 0 Axes>"
      ]
     },
     "metadata": {},
     "output_type": "display_data"
    },
    {
     "data": {
      "text/plain": [
       "<Figure size 288x72 with 0 Axes>"
      ]
     },
     "metadata": {},
     "output_type": "display_data"
    },
    {
     "data": {
      "text/plain": [
       "<Figure size 288x72 with 0 Axes>"
      ]
     },
     "metadata": {},
     "output_type": "display_data"
    },
    {
     "data": {
      "text/plain": [
       "<Figure size 288x72 with 0 Axes>"
      ]
     },
     "metadata": {},
     "output_type": "display_data"
    },
    {
     "data": {
      "text/plain": [
       "<Figure size 288x72 with 0 Axes>"
      ]
     },
     "metadata": {},
     "output_type": "display_data"
    },
    {
     "data": {
      "text/plain": [
       "<Figure size 288x72 with 0 Axes>"
      ]
     },
     "metadata": {},
     "output_type": "display_data"
    },
    {
     "data": {
      "text/plain": [
       "<Figure size 288x72 with 0 Axes>"
      ]
     },
     "metadata": {},
     "output_type": "display_data"
    },
    {
     "data": {
      "text/plain": [
       "<Figure size 288x72 with 0 Axes>"
      ]
     },
     "metadata": {},
     "output_type": "display_data"
    },
    {
     "data": {
      "text/plain": [
       "<Figure size 288x72 with 0 Axes>"
      ]
     },
     "metadata": {},
     "output_type": "display_data"
    },
    {
     "data": {
      "text/plain": [
       "<Figure size 288x72 with 0 Axes>"
      ]
     },
     "metadata": {},
     "output_type": "display_data"
    },
    {
     "data": {
      "text/plain": [
       "<Figure size 288x72 with 0 Axes>"
      ]
     },
     "metadata": {},
     "output_type": "display_data"
    },
    {
     "data": {
      "text/plain": [
       "<Figure size 288x72 with 0 Axes>"
      ]
     },
     "metadata": {},
     "output_type": "display_data"
    },
    {
     "data": {
      "text/plain": [
       "<Figure size 288x72 with 0 Axes>"
      ]
     },
     "metadata": {},
     "output_type": "display_data"
    },
    {
     "data": {
      "text/plain": [
       "<Figure size 288x72 with 0 Axes>"
      ]
     },
     "metadata": {},
     "output_type": "display_data"
    },
    {
     "data": {
      "text/plain": [
       "<Figure size 288x72 with 0 Axes>"
      ]
     },
     "metadata": {},
     "output_type": "display_data"
    },
    {
     "data": {
      "text/plain": [
       "<Figure size 288x72 with 0 Axes>"
      ]
     },
     "metadata": {},
     "output_type": "display_data"
    },
    {
     "data": {
      "text/plain": [
       "<Figure size 288x72 with 0 Axes>"
      ]
     },
     "metadata": {},
     "output_type": "display_data"
    },
    {
     "data": {
      "text/plain": [
       "<Figure size 288x72 with 0 Axes>"
      ]
     },
     "metadata": {},
     "output_type": "display_data"
    },
    {
     "data": {
      "text/plain": [
       "<Figure size 288x72 with 0 Axes>"
      ]
     },
     "metadata": {},
     "output_type": "display_data"
    },
    {
     "data": {
      "text/plain": [
       "<Figure size 288x72 with 0 Axes>"
      ]
     },
     "metadata": {},
     "output_type": "display_data"
    },
    {
     "data": {
      "text/plain": [
       "<Figure size 288x72 with 0 Axes>"
      ]
     },
     "metadata": {},
     "output_type": "display_data"
    },
    {
     "data": {
      "text/plain": [
       "<Figure size 288x72 with 0 Axes>"
      ]
     },
     "metadata": {},
     "output_type": "display_data"
    },
    {
     "data": {
      "text/plain": [
       "<Figure size 288x72 with 0 Axes>"
      ]
     },
     "metadata": {},
     "output_type": "display_data"
    },
    {
     "data": {
      "text/plain": [
       "<Figure size 288x72 with 0 Axes>"
      ]
     },
     "metadata": {},
     "output_type": "display_data"
    },
    {
     "data": {
      "text/plain": [
       "<Figure size 288x72 with 0 Axes>"
      ]
     },
     "metadata": {},
     "output_type": "display_data"
    },
    {
     "data": {
      "text/plain": [
       "<Figure size 288x72 with 0 Axes>"
      ]
     },
     "metadata": {},
     "output_type": "display_data"
    },
    {
     "data": {
      "text/plain": [
       "<Figure size 288x72 with 0 Axes>"
      ]
     },
     "metadata": {},
     "output_type": "display_data"
    },
    {
     "data": {
      "text/plain": [
       "<Figure size 288x72 with 0 Axes>"
      ]
     },
     "metadata": {},
     "output_type": "display_data"
    },
    {
     "data": {
      "text/plain": [
       "<Figure size 288x72 with 0 Axes>"
      ]
     },
     "metadata": {},
     "output_type": "display_data"
    },
    {
     "data": {
      "text/plain": [
       "<Figure size 288x72 with 0 Axes>"
      ]
     },
     "metadata": {},
     "output_type": "display_data"
    },
    {
     "data": {
      "text/plain": [
       "<Figure size 288x72 with 0 Axes>"
      ]
     },
     "metadata": {},
     "output_type": "display_data"
    },
    {
     "data": {
      "text/plain": [
       "<Figure size 288x72 with 0 Axes>"
      ]
     },
     "metadata": {},
     "output_type": "display_data"
    },
    {
     "data": {
      "text/plain": [
       "<Figure size 288x72 with 0 Axes>"
      ]
     },
     "metadata": {},
     "output_type": "display_data"
    },
    {
     "data": {
      "text/plain": [
       "<Figure size 288x72 with 0 Axes>"
      ]
     },
     "metadata": {},
     "output_type": "display_data"
    },
    {
     "data": {
      "text/plain": [
       "<Figure size 288x72 with 0 Axes>"
      ]
     },
     "metadata": {},
     "output_type": "display_data"
    },
    {
     "data": {
      "text/plain": [
       "<Figure size 288x72 with 0 Axes>"
      ]
     },
     "metadata": {},
     "output_type": "display_data"
    },
    {
     "data": {
      "text/plain": [
       "<Figure size 288x72 with 0 Axes>"
      ]
     },
     "metadata": {},
     "output_type": "display_data"
    },
    {
     "data": {
      "text/plain": [
       "<Figure size 288x72 with 0 Axes>"
      ]
     },
     "metadata": {},
     "output_type": "display_data"
    },
    {
     "data": {
      "text/plain": [
       "<Figure size 288x72 with 0 Axes>"
      ]
     },
     "metadata": {},
     "output_type": "display_data"
    },
    {
     "data": {
      "text/plain": [
       "<Figure size 288x72 with 0 Axes>"
      ]
     },
     "metadata": {},
     "output_type": "display_data"
    },
    {
     "data": {
      "text/plain": [
       "<Figure size 288x72 with 0 Axes>"
      ]
     },
     "metadata": {},
     "output_type": "display_data"
    },
    {
     "data": {
      "text/plain": [
       "<Figure size 288x72 with 0 Axes>"
      ]
     },
     "metadata": {},
     "output_type": "display_data"
    },
    {
     "data": {
      "text/plain": [
       "<Figure size 288x72 with 0 Axes>"
      ]
     },
     "metadata": {},
     "output_type": "display_data"
    },
    {
     "data": {
      "text/plain": [
       "<Figure size 288x72 with 0 Axes>"
      ]
     },
     "metadata": {},
     "output_type": "display_data"
    },
    {
     "data": {
      "text/plain": [
       "<Figure size 288x72 with 0 Axes>"
      ]
     },
     "metadata": {},
     "output_type": "display_data"
    },
    {
     "data": {
      "text/plain": [
       "<Figure size 288x72 with 0 Axes>"
      ]
     },
     "metadata": {},
     "output_type": "display_data"
    },
    {
     "data": {
      "text/plain": [
       "<Figure size 288x72 with 0 Axes>"
      ]
     },
     "metadata": {},
     "output_type": "display_data"
    },
    {
     "data": {
      "text/plain": [
       "<Figure size 288x72 with 0 Axes>"
      ]
     },
     "metadata": {},
     "output_type": "display_data"
    },
    {
     "data": {
      "text/plain": [
       "<Figure size 288x72 with 0 Axes>"
      ]
     },
     "metadata": {},
     "output_type": "display_data"
    },
    {
     "data": {
      "text/plain": [
       "<Figure size 288x72 with 0 Axes>"
      ]
     },
     "metadata": {},
     "output_type": "display_data"
    },
    {
     "data": {
      "text/plain": [
       "<Figure size 288x72 with 0 Axes>"
      ]
     },
     "metadata": {},
     "output_type": "display_data"
    },
    {
     "data": {
      "text/plain": [
       "<Figure size 288x72 with 0 Axes>"
      ]
     },
     "metadata": {},
     "output_type": "display_data"
    },
    {
     "data": {
      "text/plain": [
       "<Figure size 288x72 with 0 Axes>"
      ]
     },
     "metadata": {},
     "output_type": "display_data"
    },
    {
     "data": {
      "text/plain": [
       "<Figure size 288x72 with 0 Axes>"
      ]
     },
     "metadata": {},
     "output_type": "display_data"
    },
    {
     "data": {
      "text/plain": [
       "<Figure size 288x72 with 0 Axes>"
      ]
     },
     "metadata": {},
     "output_type": "display_data"
    },
    {
     "data": {
      "text/plain": [
       "<Figure size 288x72 with 0 Axes>"
      ]
     },
     "metadata": {},
     "output_type": "display_data"
    },
    {
     "data": {
      "text/plain": [
       "<Figure size 288x72 with 0 Axes>"
      ]
     },
     "metadata": {},
     "output_type": "display_data"
    },
    {
     "data": {
      "text/plain": [
       "<Figure size 288x72 with 0 Axes>"
      ]
     },
     "metadata": {},
     "output_type": "display_data"
    },
    {
     "data": {
      "text/plain": [
       "<Figure size 288x72 with 0 Axes>"
      ]
     },
     "metadata": {},
     "output_type": "display_data"
    },
    {
     "data": {
      "text/plain": [
       "<Figure size 288x72 with 0 Axes>"
      ]
     },
     "metadata": {},
     "output_type": "display_data"
    },
    {
     "data": {
      "text/plain": [
       "<Figure size 288x72 with 0 Axes>"
      ]
     },
     "metadata": {},
     "output_type": "display_data"
    },
    {
     "data": {
      "text/plain": [
       "<Figure size 288x72 with 0 Axes>"
      ]
     },
     "metadata": {},
     "output_type": "display_data"
    },
    {
     "data": {
      "text/plain": [
       "<Figure size 288x72 with 0 Axes>"
      ]
     },
     "metadata": {},
     "output_type": "display_data"
    },
    {
     "data": {
      "text/plain": [
       "<Figure size 288x72 with 0 Axes>"
      ]
     },
     "metadata": {},
     "output_type": "display_data"
    },
    {
     "data": {
      "text/plain": [
       "<Figure size 288x72 with 0 Axes>"
      ]
     },
     "metadata": {},
     "output_type": "display_data"
    },
    {
     "data": {
      "text/plain": [
       "<Figure size 288x72 with 0 Axes>"
      ]
     },
     "metadata": {},
     "output_type": "display_data"
    },
    {
     "data": {
      "text/plain": [
       "<Figure size 288x72 with 0 Axes>"
      ]
     },
     "metadata": {},
     "output_type": "display_data"
    },
    {
     "data": {
      "text/plain": [
       "<Figure size 288x72 with 0 Axes>"
      ]
     },
     "metadata": {},
     "output_type": "display_data"
    },
    {
     "data": {
      "text/plain": [
       "<Figure size 288x72 with 0 Axes>"
      ]
     },
     "metadata": {},
     "output_type": "display_data"
    },
    {
     "data": {
      "text/plain": [
       "<Figure size 288x72 with 0 Axes>"
      ]
     },
     "metadata": {},
     "output_type": "display_data"
    },
    {
     "data": {
      "text/plain": [
       "<Figure size 288x72 with 0 Axes>"
      ]
     },
     "metadata": {},
     "output_type": "display_data"
    },
    {
     "data": {
      "text/plain": [
       "<Figure size 288x72 with 0 Axes>"
      ]
     },
     "metadata": {},
     "output_type": "display_data"
    },
    {
     "data": {
      "text/plain": [
       "<Figure size 288x72 with 0 Axes>"
      ]
     },
     "metadata": {},
     "output_type": "display_data"
    },
    {
     "data": {
      "text/plain": [
       "<Figure size 288x72 with 0 Axes>"
      ]
     },
     "metadata": {},
     "output_type": "display_data"
    },
    {
     "data": {
      "text/plain": [
       "<Figure size 288x72 with 0 Axes>"
      ]
     },
     "metadata": {},
     "output_type": "display_data"
    },
    {
     "data": {
      "text/plain": [
       "<Figure size 288x72 with 0 Axes>"
      ]
     },
     "metadata": {},
     "output_type": "display_data"
    },
    {
     "data": {
      "text/plain": [
       "<Figure size 288x72 with 0 Axes>"
      ]
     },
     "metadata": {},
     "output_type": "display_data"
    },
    {
     "data": {
      "text/plain": [
       "<Figure size 288x72 with 0 Axes>"
      ]
     },
     "metadata": {},
     "output_type": "display_data"
    },
    {
     "data": {
      "text/plain": [
       "<Figure size 288x72 with 0 Axes>"
      ]
     },
     "metadata": {},
     "output_type": "display_data"
    },
    {
     "data": {
      "text/plain": [
       "<Figure size 288x72 with 0 Axes>"
      ]
     },
     "metadata": {},
     "output_type": "display_data"
    },
    {
     "data": {
      "text/plain": [
       "<Figure size 288x72 with 0 Axes>"
      ]
     },
     "metadata": {},
     "output_type": "display_data"
    },
    {
     "data": {
      "text/plain": [
       "<Figure size 288x72 with 0 Axes>"
      ]
     },
     "metadata": {},
     "output_type": "display_data"
    },
    {
     "data": {
      "text/plain": [
       "<Figure size 288x72 with 0 Axes>"
      ]
     },
     "metadata": {},
     "output_type": "display_data"
    },
    {
     "data": {
      "text/plain": [
       "<Figure size 288x72 with 0 Axes>"
      ]
     },
     "metadata": {},
     "output_type": "display_data"
    },
    {
     "data": {
      "text/plain": [
       "<Figure size 288x72 with 0 Axes>"
      ]
     },
     "metadata": {},
     "output_type": "display_data"
    },
    {
     "data": {
      "text/plain": [
       "<Figure size 288x72 with 0 Axes>"
      ]
     },
     "metadata": {},
     "output_type": "display_data"
    },
    {
     "data": {
      "text/plain": [
       "<Figure size 288x72 with 0 Axes>"
      ]
     },
     "metadata": {},
     "output_type": "display_data"
    },
    {
     "data": {
      "text/plain": [
       "<Figure size 288x72 with 0 Axes>"
      ]
     },
     "metadata": {},
     "output_type": "display_data"
    },
    {
     "data": {
      "text/plain": [
       "<Figure size 288x72 with 0 Axes>"
      ]
     },
     "metadata": {},
     "output_type": "display_data"
    },
    {
     "data": {
      "text/plain": [
       "<Figure size 288x72 with 0 Axes>"
      ]
     },
     "metadata": {},
     "output_type": "display_data"
    },
    {
     "data": {
      "text/plain": [
       "<Figure size 288x72 with 0 Axes>"
      ]
     },
     "metadata": {},
     "output_type": "display_data"
    },
    {
     "data": {
      "text/plain": [
       "<Figure size 288x72 with 0 Axes>"
      ]
     },
     "metadata": {},
     "output_type": "display_data"
    },
    {
     "data": {
      "text/plain": [
       "<Figure size 288x72 with 0 Axes>"
      ]
     },
     "metadata": {},
     "output_type": "display_data"
    },
    {
     "data": {
      "text/plain": [
       "<Figure size 288x72 with 0 Axes>"
      ]
     },
     "metadata": {},
     "output_type": "display_data"
    },
    {
     "data": {
      "text/plain": [
       "<Figure size 288x72 with 0 Axes>"
      ]
     },
     "metadata": {},
     "output_type": "display_data"
    },
    {
     "data": {
      "text/plain": [
       "<Figure size 288x72 with 0 Axes>"
      ]
     },
     "metadata": {},
     "output_type": "display_data"
    },
    {
     "data": {
      "text/plain": [
       "<Figure size 288x72 with 0 Axes>"
      ]
     },
     "metadata": {},
     "output_type": "display_data"
    },
    {
     "data": {
      "text/plain": [
       "<Figure size 288x72 with 0 Axes>"
      ]
     },
     "metadata": {},
     "output_type": "display_data"
    },
    {
     "data": {
      "text/plain": [
       "<Figure size 288x72 with 0 Axes>"
      ]
     },
     "metadata": {},
     "output_type": "display_data"
    },
    {
     "data": {
      "text/plain": [
       "<Figure size 288x72 with 0 Axes>"
      ]
     },
     "metadata": {},
     "output_type": "display_data"
    },
    {
     "data": {
      "text/plain": [
       "<Figure size 288x72 with 0 Axes>"
      ]
     },
     "metadata": {},
     "output_type": "display_data"
    },
    {
     "data": {
      "text/plain": [
       "<Figure size 288x72 with 0 Axes>"
      ]
     },
     "metadata": {},
     "output_type": "display_data"
    },
    {
     "data": {
      "text/plain": [
       "<Figure size 288x72 with 0 Axes>"
      ]
     },
     "metadata": {},
     "output_type": "display_data"
    },
    {
     "data": {
      "text/plain": [
       "<Figure size 288x72 with 0 Axes>"
      ]
     },
     "metadata": {},
     "output_type": "display_data"
    },
    {
     "data": {
      "text/plain": [
       "<Figure size 288x72 with 0 Axes>"
      ]
     },
     "metadata": {},
     "output_type": "display_data"
    },
    {
     "data": {
      "text/plain": [
       "<Figure size 288x72 with 0 Axes>"
      ]
     },
     "metadata": {},
     "output_type": "display_data"
    },
    {
     "data": {
      "text/plain": [
       "<Figure size 288x72 with 0 Axes>"
      ]
     },
     "metadata": {},
     "output_type": "display_data"
    },
    {
     "data": {
      "text/plain": [
       "<Figure size 288x72 with 0 Axes>"
      ]
     },
     "metadata": {},
     "output_type": "display_data"
    },
    {
     "data": {
      "text/plain": [
       "<Figure size 288x72 with 0 Axes>"
      ]
     },
     "metadata": {},
     "output_type": "display_data"
    },
    {
     "data": {
      "text/plain": [
       "<Figure size 288x72 with 0 Axes>"
      ]
     },
     "metadata": {},
     "output_type": "display_data"
    },
    {
     "data": {
      "text/plain": [
       "<Figure size 288x72 with 0 Axes>"
      ]
     },
     "metadata": {},
     "output_type": "display_data"
    },
    {
     "data": {
      "text/plain": [
       "<Figure size 288x72 with 0 Axes>"
      ]
     },
     "metadata": {},
     "output_type": "display_data"
    },
    {
     "data": {
      "text/plain": [
       "<Figure size 288x72 with 0 Axes>"
      ]
     },
     "metadata": {},
     "output_type": "display_data"
    },
    {
     "data": {
      "text/plain": [
       "<Figure size 288x72 with 0 Axes>"
      ]
     },
     "metadata": {},
     "output_type": "display_data"
    },
    {
     "data": {
      "text/plain": [
       "<Figure size 288x72 with 0 Axes>"
      ]
     },
     "metadata": {},
     "output_type": "display_data"
    },
    {
     "data": {
      "text/plain": [
       "<Figure size 288x72 with 0 Axes>"
      ]
     },
     "metadata": {},
     "output_type": "display_data"
    },
    {
     "data": {
      "text/plain": [
       "<Figure size 288x72 with 0 Axes>"
      ]
     },
     "metadata": {},
     "output_type": "display_data"
    },
    {
     "data": {
      "text/plain": [
       "<Figure size 288x72 with 0 Axes>"
      ]
     },
     "metadata": {},
     "output_type": "display_data"
    },
    {
     "data": {
      "text/plain": [
       "<Figure size 288x72 with 0 Axes>"
      ]
     },
     "metadata": {},
     "output_type": "display_data"
    },
    {
     "data": {
      "text/plain": [
       "<Figure size 288x72 with 0 Axes>"
      ]
     },
     "metadata": {},
     "output_type": "display_data"
    },
    {
     "data": {
      "text/plain": [
       "<Figure size 288x72 with 0 Axes>"
      ]
     },
     "metadata": {},
     "output_type": "display_data"
    },
    {
     "data": {
      "text/plain": [
       "<Figure size 288x72 with 0 Axes>"
      ]
     },
     "metadata": {},
     "output_type": "display_data"
    },
    {
     "data": {
      "text/plain": [
       "<Figure size 288x72 with 0 Axes>"
      ]
     },
     "metadata": {},
     "output_type": "display_data"
    },
    {
     "data": {
      "text/plain": [
       "<Figure size 288x72 with 0 Axes>"
      ]
     },
     "metadata": {},
     "output_type": "display_data"
    },
    {
     "data": {
      "text/plain": [
       "<Figure size 288x72 with 0 Axes>"
      ]
     },
     "metadata": {},
     "output_type": "display_data"
    },
    {
     "data": {
      "text/plain": [
       "<Figure size 288x72 with 0 Axes>"
      ]
     },
     "metadata": {},
     "output_type": "display_data"
    },
    {
     "data": {
      "text/plain": [
       "<Figure size 288x72 with 0 Axes>"
      ]
     },
     "metadata": {},
     "output_type": "display_data"
    },
    {
     "data": {
      "text/plain": [
       "<Figure size 288x72 with 0 Axes>"
      ]
     },
     "metadata": {},
     "output_type": "display_data"
    },
    {
     "data": {
      "text/plain": [
       "<Figure size 288x72 with 0 Axes>"
      ]
     },
     "metadata": {},
     "output_type": "display_data"
    },
    {
     "data": {
      "text/plain": [
       "<Figure size 288x72 with 0 Axes>"
      ]
     },
     "metadata": {},
     "output_type": "display_data"
    },
    {
     "data": {
      "text/plain": [
       "<Figure size 288x72 with 0 Axes>"
      ]
     },
     "metadata": {},
     "output_type": "display_data"
    },
    {
     "data": {
      "text/plain": [
       "<Figure size 288x72 with 0 Axes>"
      ]
     },
     "metadata": {},
     "output_type": "display_data"
    },
    {
     "data": {
      "text/plain": [
       "<Figure size 288x72 with 0 Axes>"
      ]
     },
     "metadata": {},
     "output_type": "display_data"
    },
    {
     "data": {
      "text/plain": [
       "<Figure size 288x72 with 0 Axes>"
      ]
     },
     "metadata": {},
     "output_type": "display_data"
    },
    {
     "data": {
      "text/plain": [
       "<Figure size 288x72 with 0 Axes>"
      ]
     },
     "metadata": {},
     "output_type": "display_data"
    },
    {
     "data": {
      "text/plain": [
       "<Figure size 288x72 with 0 Axes>"
      ]
     },
     "metadata": {},
     "output_type": "display_data"
    },
    {
     "data": {
      "text/plain": [
       "<Figure size 288x72 with 0 Axes>"
      ]
     },
     "metadata": {},
     "output_type": "display_data"
    },
    {
     "data": {
      "text/plain": [
       "<Figure size 288x72 with 0 Axes>"
      ]
     },
     "metadata": {},
     "output_type": "display_data"
    },
    {
     "data": {
      "text/plain": [
       "<Figure size 288x72 with 0 Axes>"
      ]
     },
     "metadata": {},
     "output_type": "display_data"
    },
    {
     "data": {
      "text/plain": [
       "<Figure size 288x72 with 0 Axes>"
      ]
     },
     "metadata": {},
     "output_type": "display_data"
    },
    {
     "data": {
      "text/plain": [
       "<Figure size 288x72 with 0 Axes>"
      ]
     },
     "metadata": {},
     "output_type": "display_data"
    },
    {
     "data": {
      "text/plain": [
       "<Figure size 288x72 with 0 Axes>"
      ]
     },
     "metadata": {},
     "output_type": "display_data"
    },
    {
     "data": {
      "text/plain": [
       "<Figure size 288x72 with 0 Axes>"
      ]
     },
     "metadata": {},
     "output_type": "display_data"
    },
    {
     "data": {
      "text/plain": [
       "<Figure size 288x72 with 0 Axes>"
      ]
     },
     "metadata": {},
     "output_type": "display_data"
    },
    {
     "data": {
      "text/plain": [
       "<Figure size 288x72 with 0 Axes>"
      ]
     },
     "metadata": {},
     "output_type": "display_data"
    },
    {
     "data": {
      "text/plain": [
       "<Figure size 288x72 with 0 Axes>"
      ]
     },
     "metadata": {},
     "output_type": "display_data"
    },
    {
     "data": {
      "text/plain": [
       "<Figure size 288x72 with 0 Axes>"
      ]
     },
     "metadata": {},
     "output_type": "display_data"
    },
    {
     "data": {
      "text/plain": [
       "<Figure size 288x72 with 0 Axes>"
      ]
     },
     "metadata": {},
     "output_type": "display_data"
    },
    {
     "data": {
      "text/plain": [
       "<Figure size 288x72 with 0 Axes>"
      ]
     },
     "metadata": {},
     "output_type": "display_data"
    },
    {
     "data": {
      "text/plain": [
       "<Figure size 288x72 with 0 Axes>"
      ]
     },
     "metadata": {},
     "output_type": "display_data"
    },
    {
     "data": {
      "text/plain": [
       "<Figure size 288x72 with 0 Axes>"
      ]
     },
     "metadata": {},
     "output_type": "display_data"
    },
    {
     "data": {
      "text/plain": [
       "<Figure size 288x72 with 0 Axes>"
      ]
     },
     "metadata": {},
     "output_type": "display_data"
    },
    {
     "data": {
      "text/plain": [
       "<Figure size 288x72 with 0 Axes>"
      ]
     },
     "metadata": {},
     "output_type": "display_data"
    },
    {
     "data": {
      "text/plain": [
       "<Figure size 288x72 with 0 Axes>"
      ]
     },
     "metadata": {},
     "output_type": "display_data"
    },
    {
     "data": {
      "text/plain": [
       "<Figure size 288x72 with 0 Axes>"
      ]
     },
     "metadata": {},
     "output_type": "display_data"
    },
    {
     "data": {
      "text/plain": [
       "<Figure size 288x72 with 0 Axes>"
      ]
     },
     "metadata": {},
     "output_type": "display_data"
    },
    {
     "data": {
      "text/plain": [
       "<Figure size 288x72 with 0 Axes>"
      ]
     },
     "metadata": {},
     "output_type": "display_data"
    },
    {
     "data": {
      "text/plain": [
       "<Figure size 288x72 with 0 Axes>"
      ]
     },
     "metadata": {},
     "output_type": "display_data"
    },
    {
     "data": {
      "text/plain": [
       "<Figure size 288x72 with 0 Axes>"
      ]
     },
     "metadata": {},
     "output_type": "display_data"
    },
    {
     "data": {
      "text/plain": [
       "<Figure size 288x72 with 0 Axes>"
      ]
     },
     "metadata": {},
     "output_type": "display_data"
    },
    {
     "data": {
      "text/plain": [
       "<Figure size 288x72 with 0 Axes>"
      ]
     },
     "metadata": {},
     "output_type": "display_data"
    },
    {
     "data": {
      "text/plain": [
       "<Figure size 288x72 with 0 Axes>"
      ]
     },
     "metadata": {},
     "output_type": "display_data"
    },
    {
     "data": {
      "text/plain": [
       "<Figure size 288x72 with 0 Axes>"
      ]
     },
     "metadata": {},
     "output_type": "display_data"
    },
    {
     "data": {
      "text/plain": [
       "<Figure size 288x72 with 0 Axes>"
      ]
     },
     "metadata": {},
     "output_type": "display_data"
    },
    {
     "data": {
      "text/plain": [
       "<Figure size 288x72 with 0 Axes>"
      ]
     },
     "metadata": {},
     "output_type": "display_data"
    },
    {
     "data": {
      "text/plain": [
       "<Figure size 288x72 with 0 Axes>"
      ]
     },
     "metadata": {},
     "output_type": "display_data"
    },
    {
     "data": {
      "text/plain": [
       "<Figure size 288x72 with 0 Axes>"
      ]
     },
     "metadata": {},
     "output_type": "display_data"
    },
    {
     "data": {
      "text/plain": [
       "<Figure size 288x72 with 0 Axes>"
      ]
     },
     "metadata": {},
     "output_type": "display_data"
    },
    {
     "data": {
      "text/plain": [
       "<Figure size 288x72 with 0 Axes>"
      ]
     },
     "metadata": {},
     "output_type": "display_data"
    },
    {
     "data": {
      "text/plain": [
       "<Figure size 288x72 with 0 Axes>"
      ]
     },
     "metadata": {},
     "output_type": "display_data"
    },
    {
     "data": {
      "text/plain": [
       "<Figure size 288x72 with 0 Axes>"
      ]
     },
     "metadata": {},
     "output_type": "display_data"
    },
    {
     "data": {
      "text/plain": [
       "<Figure size 288x72 with 0 Axes>"
      ]
     },
     "metadata": {},
     "output_type": "display_data"
    },
    {
     "data": {
      "text/plain": [
       "<Figure size 288x72 with 0 Axes>"
      ]
     },
     "metadata": {},
     "output_type": "display_data"
    },
    {
     "data": {
      "text/plain": [
       "<Figure size 288x72 with 0 Axes>"
      ]
     },
     "metadata": {},
     "output_type": "display_data"
    },
    {
     "data": {
      "text/plain": [
       "<Figure size 288x72 with 0 Axes>"
      ]
     },
     "metadata": {},
     "output_type": "display_data"
    },
    {
     "data": {
      "text/plain": [
       "<Figure size 288x72 with 0 Axes>"
      ]
     },
     "metadata": {},
     "output_type": "display_data"
    },
    {
     "data": {
      "text/plain": [
       "<Figure size 288x72 with 0 Axes>"
      ]
     },
     "metadata": {},
     "output_type": "display_data"
    },
    {
     "data": {
      "text/plain": [
       "<Figure size 288x72 with 0 Axes>"
      ]
     },
     "metadata": {},
     "output_type": "display_data"
    },
    {
     "data": {
      "text/plain": [
       "<Figure size 288x72 with 0 Axes>"
      ]
     },
     "metadata": {},
     "output_type": "display_data"
    },
    {
     "data": {
      "text/plain": [
       "<Figure size 288x72 with 0 Axes>"
      ]
     },
     "metadata": {},
     "output_type": "display_data"
    },
    {
     "data": {
      "text/plain": [
       "<Figure size 288x72 with 0 Axes>"
      ]
     },
     "metadata": {},
     "output_type": "display_data"
    },
    {
     "data": {
      "text/plain": [
       "<Figure size 288x72 with 0 Axes>"
      ]
     },
     "metadata": {},
     "output_type": "display_data"
    },
    {
     "data": {
      "text/plain": [
       "<Figure size 288x72 with 0 Axes>"
      ]
     },
     "metadata": {},
     "output_type": "display_data"
    },
    {
     "data": {
      "text/plain": [
       "<Figure size 288x72 with 0 Axes>"
      ]
     },
     "metadata": {},
     "output_type": "display_data"
    },
    {
     "data": {
      "text/plain": [
       "<Figure size 288x72 with 0 Axes>"
      ]
     },
     "metadata": {},
     "output_type": "display_data"
    },
    {
     "data": {
      "text/plain": [
       "<Figure size 288x72 with 0 Axes>"
      ]
     },
     "metadata": {},
     "output_type": "display_data"
    },
    {
     "data": {
      "text/plain": [
       "<Figure size 288x72 with 0 Axes>"
      ]
     },
     "metadata": {},
     "output_type": "display_data"
    },
    {
     "data": {
      "text/plain": [
       "<Figure size 288x72 with 0 Axes>"
      ]
     },
     "metadata": {},
     "output_type": "display_data"
    },
    {
     "data": {
      "text/plain": [
       "<Figure size 288x72 with 0 Axes>"
      ]
     },
     "metadata": {},
     "output_type": "display_data"
    },
    {
     "data": {
      "text/plain": [
       "<Figure size 288x72 with 0 Axes>"
      ]
     },
     "metadata": {},
     "output_type": "display_data"
    },
    {
     "data": {
      "text/plain": [
       "<Figure size 288x72 with 0 Axes>"
      ]
     },
     "metadata": {},
     "output_type": "display_data"
    },
    {
     "data": {
      "text/plain": [
       "<Figure size 288x72 with 0 Axes>"
      ]
     },
     "metadata": {},
     "output_type": "display_data"
    },
    {
     "data": {
      "text/plain": [
       "<Figure size 288x72 with 0 Axes>"
      ]
     },
     "metadata": {},
     "output_type": "display_data"
    },
    {
     "data": {
      "text/plain": [
       "<Figure size 288x72 with 0 Axes>"
      ]
     },
     "metadata": {},
     "output_type": "display_data"
    },
    {
     "data": {
      "text/plain": [
       "<Figure size 288x72 with 0 Axes>"
      ]
     },
     "metadata": {},
     "output_type": "display_data"
    },
    {
     "data": {
      "text/plain": [
       "<Figure size 288x72 with 0 Axes>"
      ]
     },
     "metadata": {},
     "output_type": "display_data"
    },
    {
     "data": {
      "text/plain": [
       "<Figure size 288x72 with 0 Axes>"
      ]
     },
     "metadata": {},
     "output_type": "display_data"
    },
    {
     "data": {
      "text/plain": [
       "<Figure size 288x72 with 0 Axes>"
      ]
     },
     "metadata": {},
     "output_type": "display_data"
    },
    {
     "data": {
      "text/plain": [
       "<Figure size 288x72 with 0 Axes>"
      ]
     },
     "metadata": {},
     "output_type": "display_data"
    },
    {
     "data": {
      "text/plain": [
       "<Figure size 288x72 with 0 Axes>"
      ]
     },
     "metadata": {},
     "output_type": "display_data"
    },
    {
     "data": {
      "text/plain": [
       "<Figure size 288x72 with 0 Axes>"
      ]
     },
     "metadata": {},
     "output_type": "display_data"
    },
    {
     "data": {
      "text/plain": [
       "<Figure size 288x72 with 0 Axes>"
      ]
     },
     "metadata": {},
     "output_type": "display_data"
    },
    {
     "data": {
      "text/plain": [
       "<Figure size 288x72 with 0 Axes>"
      ]
     },
     "metadata": {},
     "output_type": "display_data"
    },
    {
     "data": {
      "text/plain": [
       "<Figure size 288x72 with 0 Axes>"
      ]
     },
     "metadata": {},
     "output_type": "display_data"
    },
    {
     "data": {
      "text/plain": [
       "<Figure size 288x72 with 0 Axes>"
      ]
     },
     "metadata": {},
     "output_type": "display_data"
    },
    {
     "data": {
      "text/plain": [
       "<Figure size 288x72 with 0 Axes>"
      ]
     },
     "metadata": {},
     "output_type": "display_data"
    },
    {
     "data": {
      "text/plain": [
       "<Figure size 288x72 with 0 Axes>"
      ]
     },
     "metadata": {},
     "output_type": "display_data"
    },
    {
     "data": {
      "text/plain": [
       "<Figure size 288x72 with 0 Axes>"
      ]
     },
     "metadata": {},
     "output_type": "display_data"
    },
    {
     "data": {
      "text/plain": [
       "<Figure size 288x72 with 0 Axes>"
      ]
     },
     "metadata": {},
     "output_type": "display_data"
    },
    {
     "data": {
      "text/plain": [
       "<Figure size 288x72 with 0 Axes>"
      ]
     },
     "metadata": {},
     "output_type": "display_data"
    },
    {
     "data": {
      "text/plain": [
       "<Figure size 288x72 with 0 Axes>"
      ]
     },
     "metadata": {},
     "output_type": "display_data"
    },
    {
     "data": {
      "text/plain": [
       "<Figure size 288x72 with 0 Axes>"
      ]
     },
     "metadata": {},
     "output_type": "display_data"
    },
    {
     "data": {
      "text/plain": [
       "<Figure size 288x72 with 0 Axes>"
      ]
     },
     "metadata": {},
     "output_type": "display_data"
    },
    {
     "data": {
      "text/plain": [
       "<Figure size 288x72 with 0 Axes>"
      ]
     },
     "metadata": {},
     "output_type": "display_data"
    },
    {
     "data": {
      "text/plain": [
       "<Figure size 288x72 with 0 Axes>"
      ]
     },
     "metadata": {},
     "output_type": "display_data"
    },
    {
     "data": {
      "text/plain": [
       "<Figure size 288x72 with 0 Axes>"
      ]
     },
     "metadata": {},
     "output_type": "display_data"
    },
    {
     "data": {
      "text/plain": [
       "<Figure size 288x72 with 0 Axes>"
      ]
     },
     "metadata": {},
     "output_type": "display_data"
    },
    {
     "data": {
      "text/plain": [
       "<Figure size 288x72 with 0 Axes>"
      ]
     },
     "metadata": {},
     "output_type": "display_data"
    },
    {
     "data": {
      "text/plain": [
       "<Figure size 288x72 with 0 Axes>"
      ]
     },
     "metadata": {},
     "output_type": "display_data"
    },
    {
     "data": {
      "text/plain": [
       "<Figure size 288x72 with 0 Axes>"
      ]
     },
     "metadata": {},
     "output_type": "display_data"
    },
    {
     "data": {
      "text/plain": [
       "<Figure size 288x72 with 0 Axes>"
      ]
     },
     "metadata": {},
     "output_type": "display_data"
    },
    {
     "data": {
      "text/plain": [
       "<Figure size 288x72 with 0 Axes>"
      ]
     },
     "metadata": {},
     "output_type": "display_data"
    },
    {
     "data": {
      "text/plain": [
       "<Figure size 288x72 with 0 Axes>"
      ]
     },
     "metadata": {},
     "output_type": "display_data"
    },
    {
     "data": {
      "text/plain": [
       "<Figure size 288x72 with 0 Axes>"
      ]
     },
     "metadata": {},
     "output_type": "display_data"
    },
    {
     "data": {
      "text/plain": [
       "<Figure size 288x72 with 0 Axes>"
      ]
     },
     "metadata": {},
     "output_type": "display_data"
    },
    {
     "data": {
      "text/plain": [
       "<Figure size 288x72 with 0 Axes>"
      ]
     },
     "metadata": {},
     "output_type": "display_data"
    },
    {
     "data": {
      "text/plain": [
       "<Figure size 288x72 with 0 Axes>"
      ]
     },
     "metadata": {},
     "output_type": "display_data"
    },
    {
     "data": {
      "text/plain": [
       "<Figure size 288x72 with 0 Axes>"
      ]
     },
     "metadata": {},
     "output_type": "display_data"
    },
    {
     "data": {
      "text/plain": [
       "<Figure size 288x72 with 0 Axes>"
      ]
     },
     "metadata": {},
     "output_type": "display_data"
    },
    {
     "data": {
      "text/plain": [
       "<Figure size 288x72 with 0 Axes>"
      ]
     },
     "metadata": {},
     "output_type": "display_data"
    },
    {
     "data": {
      "text/plain": [
       "<Figure size 288x72 with 0 Axes>"
      ]
     },
     "metadata": {},
     "output_type": "display_data"
    },
    {
     "data": {
      "text/plain": [
       "<Figure size 288x72 with 0 Axes>"
      ]
     },
     "metadata": {},
     "output_type": "display_data"
    },
    {
     "data": {
      "text/plain": [
       "<Figure size 288x72 with 0 Axes>"
      ]
     },
     "metadata": {},
     "output_type": "display_data"
    },
    {
     "data": {
      "text/plain": [
       "<Figure size 288x72 with 0 Axes>"
      ]
     },
     "metadata": {},
     "output_type": "display_data"
    },
    {
     "data": {
      "text/plain": [
       "<Figure size 288x72 with 0 Axes>"
      ]
     },
     "metadata": {},
     "output_type": "display_data"
    },
    {
     "data": {
      "text/plain": [
       "<Figure size 288x72 with 0 Axes>"
      ]
     },
     "metadata": {},
     "output_type": "display_data"
    },
    {
     "data": {
      "text/plain": [
       "<Figure size 288x72 with 0 Axes>"
      ]
     },
     "metadata": {},
     "output_type": "display_data"
    },
    {
     "data": {
      "text/plain": [
       "<Figure size 288x72 with 0 Axes>"
      ]
     },
     "metadata": {},
     "output_type": "display_data"
    },
    {
     "data": {
      "text/plain": [
       "<Figure size 288x72 with 0 Axes>"
      ]
     },
     "metadata": {},
     "output_type": "display_data"
    },
    {
     "data": {
      "text/plain": [
       "<Figure size 288x72 with 0 Axes>"
      ]
     },
     "metadata": {},
     "output_type": "display_data"
    },
    {
     "data": {
      "text/plain": [
       "<Figure size 288x72 with 0 Axes>"
      ]
     },
     "metadata": {},
     "output_type": "display_data"
    },
    {
     "data": {
      "text/plain": [
       "<Figure size 288x72 with 0 Axes>"
      ]
     },
     "metadata": {},
     "output_type": "display_data"
    },
    {
     "data": {
      "text/plain": [
       "<Figure size 288x72 with 0 Axes>"
      ]
     },
     "metadata": {},
     "output_type": "display_data"
    },
    {
     "data": {
      "text/plain": [
       "<Figure size 288x72 with 0 Axes>"
      ]
     },
     "metadata": {},
     "output_type": "display_data"
    },
    {
     "data": {
      "text/plain": [
       "<Figure size 288x72 with 0 Axes>"
      ]
     },
     "metadata": {},
     "output_type": "display_data"
    },
    {
     "data": {
      "text/plain": [
       "<Figure size 288x72 with 0 Axes>"
      ]
     },
     "metadata": {},
     "output_type": "display_data"
    },
    {
     "data": {
      "text/plain": [
       "<Figure size 288x72 with 0 Axes>"
      ]
     },
     "metadata": {},
     "output_type": "display_data"
    },
    {
     "data": {
      "text/plain": [
       "<Figure size 288x72 with 0 Axes>"
      ]
     },
     "metadata": {},
     "output_type": "display_data"
    },
    {
     "data": {
      "text/plain": [
       "<Figure size 288x72 with 0 Axes>"
      ]
     },
     "metadata": {},
     "output_type": "display_data"
    },
    {
     "data": {
      "text/plain": [
       "<Figure size 288x72 with 0 Axes>"
      ]
     },
     "metadata": {},
     "output_type": "display_data"
    },
    {
     "data": {
      "text/plain": [
       "<Figure size 288x72 with 0 Axes>"
      ]
     },
     "metadata": {},
     "output_type": "display_data"
    },
    {
     "data": {
      "text/plain": [
       "<Figure size 288x72 with 0 Axes>"
      ]
     },
     "metadata": {},
     "output_type": "display_data"
    },
    {
     "data": {
      "text/plain": [
       "<Figure size 288x72 with 0 Axes>"
      ]
     },
     "metadata": {},
     "output_type": "display_data"
    },
    {
     "data": {
      "text/plain": [
       "<Figure size 288x72 with 0 Axes>"
      ]
     },
     "metadata": {},
     "output_type": "display_data"
    },
    {
     "data": {
      "text/plain": [
       "<Figure size 288x72 with 0 Axes>"
      ]
     },
     "metadata": {},
     "output_type": "display_data"
    },
    {
     "data": {
      "text/plain": [
       "<Figure size 288x72 with 0 Axes>"
      ]
     },
     "metadata": {},
     "output_type": "display_data"
    },
    {
     "data": {
      "text/plain": [
       "<Figure size 288x72 with 0 Axes>"
      ]
     },
     "metadata": {},
     "output_type": "display_data"
    },
    {
     "data": {
      "text/plain": [
       "<Figure size 288x72 with 0 Axes>"
      ]
     },
     "metadata": {},
     "output_type": "display_data"
    },
    {
     "data": {
      "text/plain": [
       "<Figure size 288x72 with 0 Axes>"
      ]
     },
     "metadata": {},
     "output_type": "display_data"
    },
    {
     "data": {
      "text/plain": [
       "<Figure size 288x72 with 0 Axes>"
      ]
     },
     "metadata": {},
     "output_type": "display_data"
    },
    {
     "data": {
      "text/plain": [
       "<Figure size 288x72 with 0 Axes>"
      ]
     },
     "metadata": {},
     "output_type": "display_data"
    },
    {
     "data": {
      "text/plain": [
       "<Figure size 288x72 with 0 Axes>"
      ]
     },
     "metadata": {},
     "output_type": "display_data"
    },
    {
     "data": {
      "text/plain": [
       "<Figure size 288x72 with 0 Axes>"
      ]
     },
     "metadata": {},
     "output_type": "display_data"
    },
    {
     "data": {
      "text/plain": [
       "<Figure size 288x72 with 0 Axes>"
      ]
     },
     "metadata": {},
     "output_type": "display_data"
    },
    {
     "data": {
      "text/plain": [
       "<Figure size 288x72 with 0 Axes>"
      ]
     },
     "metadata": {},
     "output_type": "display_data"
    },
    {
     "data": {
      "text/plain": [
       "<Figure size 288x72 with 0 Axes>"
      ]
     },
     "metadata": {},
     "output_type": "display_data"
    },
    {
     "data": {
      "text/plain": [
       "<Figure size 288x72 with 0 Axes>"
      ]
     },
     "metadata": {},
     "output_type": "display_data"
    },
    {
     "data": {
      "text/plain": [
       "<Figure size 288x72 with 0 Axes>"
      ]
     },
     "metadata": {},
     "output_type": "display_data"
    },
    {
     "data": {
      "text/plain": [
       "<Figure size 288x72 with 0 Axes>"
      ]
     },
     "metadata": {},
     "output_type": "display_data"
    },
    {
     "data": {
      "text/plain": [
       "<Figure size 288x72 with 0 Axes>"
      ]
     },
     "metadata": {},
     "output_type": "display_data"
    },
    {
     "data": {
      "text/plain": [
       "<Figure size 288x72 with 0 Axes>"
      ]
     },
     "metadata": {},
     "output_type": "display_data"
    },
    {
     "data": {
      "text/plain": [
       "<Figure size 288x72 with 0 Axes>"
      ]
     },
     "metadata": {},
     "output_type": "display_data"
    },
    {
     "data": {
      "text/plain": [
       "<Figure size 288x72 with 0 Axes>"
      ]
     },
     "metadata": {},
     "output_type": "display_data"
    },
    {
     "data": {
      "text/plain": [
       "<Figure size 288x72 with 0 Axes>"
      ]
     },
     "metadata": {},
     "output_type": "display_data"
    },
    {
     "data": {
      "text/plain": [
       "<Figure size 288x72 with 0 Axes>"
      ]
     },
     "metadata": {},
     "output_type": "display_data"
    },
    {
     "data": {
      "text/plain": [
       "<Figure size 288x72 with 0 Axes>"
      ]
     },
     "metadata": {},
     "output_type": "display_data"
    },
    {
     "data": {
      "text/plain": [
       "<Figure size 288x72 with 0 Axes>"
      ]
     },
     "metadata": {},
     "output_type": "display_data"
    },
    {
     "data": {
      "text/plain": [
       "<Figure size 288x72 with 0 Axes>"
      ]
     },
     "metadata": {},
     "output_type": "display_data"
    },
    {
     "data": {
      "text/plain": [
       "<Figure size 288x72 with 0 Axes>"
      ]
     },
     "metadata": {},
     "output_type": "display_data"
    },
    {
     "data": {
      "text/plain": [
       "<Figure size 288x72 with 0 Axes>"
      ]
     },
     "metadata": {},
     "output_type": "display_data"
    },
    {
     "data": {
      "text/plain": [
       "<Figure size 288x72 with 0 Axes>"
      ]
     },
     "metadata": {},
     "output_type": "display_data"
    },
    {
     "data": {
      "text/plain": [
       "<Figure size 288x72 with 0 Axes>"
      ]
     },
     "metadata": {},
     "output_type": "display_data"
    },
    {
     "data": {
      "text/plain": [
       "<Figure size 288x72 with 0 Axes>"
      ]
     },
     "metadata": {},
     "output_type": "display_data"
    },
    {
     "data": {
      "text/plain": [
       "<Figure size 288x72 with 0 Axes>"
      ]
     },
     "metadata": {},
     "output_type": "display_data"
    },
    {
     "data": {
      "text/plain": [
       "<Figure size 288x72 with 0 Axes>"
      ]
     },
     "metadata": {},
     "output_type": "display_data"
    },
    {
     "data": {
      "text/plain": [
       "<Figure size 288x72 with 0 Axes>"
      ]
     },
     "metadata": {},
     "output_type": "display_data"
    },
    {
     "data": {
      "text/plain": [
       "<Figure size 288x72 with 0 Axes>"
      ]
     },
     "metadata": {},
     "output_type": "display_data"
    },
    {
     "data": {
      "text/plain": [
       "<Figure size 288x72 with 0 Axes>"
      ]
     },
     "metadata": {},
     "output_type": "display_data"
    },
    {
     "data": {
      "text/plain": [
       "<Figure size 288x72 with 0 Axes>"
      ]
     },
     "metadata": {},
     "output_type": "display_data"
    },
    {
     "data": {
      "text/plain": [
       "<Figure size 288x72 with 0 Axes>"
      ]
     },
     "metadata": {},
     "output_type": "display_data"
    },
    {
     "data": {
      "text/plain": [
       "<Figure size 288x72 with 0 Axes>"
      ]
     },
     "metadata": {},
     "output_type": "display_data"
    },
    {
     "data": {
      "text/plain": [
       "<Figure size 288x72 with 0 Axes>"
      ]
     },
     "metadata": {},
     "output_type": "display_data"
    },
    {
     "data": {
      "text/plain": [
       "<Figure size 288x72 with 0 Axes>"
      ]
     },
     "metadata": {},
     "output_type": "display_data"
    },
    {
     "data": {
      "text/plain": [
       "<Figure size 288x72 with 0 Axes>"
      ]
     },
     "metadata": {},
     "output_type": "display_data"
    },
    {
     "data": {
      "text/plain": [
       "<Figure size 288x72 with 0 Axes>"
      ]
     },
     "metadata": {},
     "output_type": "display_data"
    },
    {
     "data": {
      "text/plain": [
       "<Figure size 288x72 with 0 Axes>"
      ]
     },
     "metadata": {},
     "output_type": "display_data"
    },
    {
     "data": {
      "text/plain": [
       "<Figure size 288x72 with 0 Axes>"
      ]
     },
     "metadata": {},
     "output_type": "display_data"
    },
    {
     "data": {
      "text/plain": [
       "<Figure size 288x72 with 0 Axes>"
      ]
     },
     "metadata": {},
     "output_type": "display_data"
    },
    {
     "data": {
      "text/plain": [
       "<Figure size 288x72 with 0 Axes>"
      ]
     },
     "metadata": {},
     "output_type": "display_data"
    },
    {
     "data": {
      "text/plain": [
       "<Figure size 288x72 with 0 Axes>"
      ]
     },
     "metadata": {},
     "output_type": "display_data"
    },
    {
     "data": {
      "text/plain": [
       "<Figure size 288x72 with 0 Axes>"
      ]
     },
     "metadata": {},
     "output_type": "display_data"
    },
    {
     "data": {
      "text/plain": [
       "<Figure size 288x72 with 0 Axes>"
      ]
     },
     "metadata": {},
     "output_type": "display_data"
    },
    {
     "data": {
      "text/plain": [
       "<Figure size 288x72 with 0 Axes>"
      ]
     },
     "metadata": {},
     "output_type": "display_data"
    },
    {
     "data": {
      "text/plain": [
       "<Figure size 288x72 with 0 Axes>"
      ]
     },
     "metadata": {},
     "output_type": "display_data"
    },
    {
     "data": {
      "text/plain": [
       "<Figure size 288x72 with 0 Axes>"
      ]
     },
     "metadata": {},
     "output_type": "display_data"
    },
    {
     "data": {
      "text/plain": [
       "<Figure size 288x72 with 0 Axes>"
      ]
     },
     "metadata": {},
     "output_type": "display_data"
    },
    {
     "data": {
      "text/plain": [
       "<Figure size 288x72 with 0 Axes>"
      ]
     },
     "metadata": {},
     "output_type": "display_data"
    },
    {
     "data": {
      "text/plain": [
       "<Figure size 288x72 with 0 Axes>"
      ]
     },
     "metadata": {},
     "output_type": "display_data"
    },
    {
     "data": {
      "text/plain": [
       "<Figure size 288x72 with 0 Axes>"
      ]
     },
     "metadata": {},
     "output_type": "display_data"
    },
    {
     "data": {
      "text/plain": [
       "<Figure size 288x72 with 0 Axes>"
      ]
     },
     "metadata": {},
     "output_type": "display_data"
    },
    {
     "data": {
      "text/plain": [
       "<Figure size 288x72 with 0 Axes>"
      ]
     },
     "metadata": {},
     "output_type": "display_data"
    },
    {
     "data": {
      "text/plain": [
       "<Figure size 288x72 with 0 Axes>"
      ]
     },
     "metadata": {},
     "output_type": "display_data"
    },
    {
     "data": {
      "text/plain": [
       "<Figure size 288x72 with 0 Axes>"
      ]
     },
     "metadata": {},
     "output_type": "display_data"
    },
    {
     "data": {
      "text/plain": [
       "<Figure size 288x72 with 0 Axes>"
      ]
     },
     "metadata": {},
     "output_type": "display_data"
    },
    {
     "data": {
      "text/plain": [
       "<Figure size 288x72 with 0 Axes>"
      ]
     },
     "metadata": {},
     "output_type": "display_data"
    },
    {
     "data": {
      "text/plain": [
       "<Figure size 288x72 with 0 Axes>"
      ]
     },
     "metadata": {},
     "output_type": "display_data"
    },
    {
     "data": {
      "text/plain": [
       "<Figure size 288x72 with 0 Axes>"
      ]
     },
     "metadata": {},
     "output_type": "display_data"
    },
    {
     "data": {
      "text/plain": [
       "<Figure size 288x72 with 0 Axes>"
      ]
     },
     "metadata": {},
     "output_type": "display_data"
    },
    {
     "data": {
      "text/plain": [
       "<Figure size 288x72 with 0 Axes>"
      ]
     },
     "metadata": {},
     "output_type": "display_data"
    },
    {
     "data": {
      "text/plain": [
       "<Figure size 288x72 with 0 Axes>"
      ]
     },
     "metadata": {},
     "output_type": "display_data"
    },
    {
     "data": {
      "text/plain": [
       "<Figure size 288x72 with 0 Axes>"
      ]
     },
     "metadata": {},
     "output_type": "display_data"
    },
    {
     "data": {
      "text/plain": [
       "<Figure size 288x72 with 0 Axes>"
      ]
     },
     "metadata": {},
     "output_type": "display_data"
    },
    {
     "data": {
      "text/plain": [
       "<Figure size 288x72 with 0 Axes>"
      ]
     },
     "metadata": {},
     "output_type": "display_data"
    },
    {
     "data": {
      "text/plain": [
       "<Figure size 288x72 with 0 Axes>"
      ]
     },
     "metadata": {},
     "output_type": "display_data"
    },
    {
     "data": {
      "text/plain": [
       "<Figure size 288x72 with 0 Axes>"
      ]
     },
     "metadata": {},
     "output_type": "display_data"
    },
    {
     "data": {
      "text/plain": [
       "<Figure size 288x72 with 0 Axes>"
      ]
     },
     "metadata": {},
     "output_type": "display_data"
    },
    {
     "data": {
      "text/plain": [
       "<Figure size 288x72 with 0 Axes>"
      ]
     },
     "metadata": {},
     "output_type": "display_data"
    },
    {
     "data": {
      "text/plain": [
       "<Figure size 288x72 with 0 Axes>"
      ]
     },
     "metadata": {},
     "output_type": "display_data"
    },
    {
     "data": {
      "text/plain": [
       "<Figure size 288x72 with 0 Axes>"
      ]
     },
     "metadata": {},
     "output_type": "display_data"
    },
    {
     "data": {
      "text/plain": [
       "<Figure size 288x72 with 0 Axes>"
      ]
     },
     "metadata": {},
     "output_type": "display_data"
    },
    {
     "data": {
      "text/plain": [
       "<Figure size 288x72 with 0 Axes>"
      ]
     },
     "metadata": {},
     "output_type": "display_data"
    },
    {
     "data": {
      "text/plain": [
       "<Figure size 288x72 with 0 Axes>"
      ]
     },
     "metadata": {},
     "output_type": "display_data"
    },
    {
     "data": {
      "text/plain": [
       "<Figure size 288x72 with 0 Axes>"
      ]
     },
     "metadata": {},
     "output_type": "display_data"
    },
    {
     "data": {
      "text/plain": [
       "<Figure size 288x72 with 0 Axes>"
      ]
     },
     "metadata": {},
     "output_type": "display_data"
    },
    {
     "data": {
      "text/plain": [
       "<Figure size 288x72 with 0 Axes>"
      ]
     },
     "metadata": {},
     "output_type": "display_data"
    },
    {
     "data": {
      "text/plain": [
       "<Figure size 288x72 with 0 Axes>"
      ]
     },
     "metadata": {},
     "output_type": "display_data"
    },
    {
     "data": {
      "text/plain": [
       "<Figure size 288x72 with 0 Axes>"
      ]
     },
     "metadata": {},
     "output_type": "display_data"
    },
    {
     "data": {
      "text/plain": [
       "<Figure size 288x72 with 0 Axes>"
      ]
     },
     "metadata": {},
     "output_type": "display_data"
    },
    {
     "data": {
      "text/plain": [
       "<Figure size 288x72 with 0 Axes>"
      ]
     },
     "metadata": {},
     "output_type": "display_data"
    },
    {
     "data": {
      "text/plain": [
       "<Figure size 288x72 with 0 Axes>"
      ]
     },
     "metadata": {},
     "output_type": "display_data"
    },
    {
     "data": {
      "text/plain": [
       "<Figure size 288x72 with 0 Axes>"
      ]
     },
     "metadata": {},
     "output_type": "display_data"
    },
    {
     "data": {
      "text/plain": [
       "<Figure size 288x72 with 0 Axes>"
      ]
     },
     "metadata": {},
     "output_type": "display_data"
    },
    {
     "data": {
      "text/plain": [
       "<Figure size 288x72 with 0 Axes>"
      ]
     },
     "metadata": {},
     "output_type": "display_data"
    },
    {
     "data": {
      "text/plain": [
       "<Figure size 288x72 with 0 Axes>"
      ]
     },
     "metadata": {},
     "output_type": "display_data"
    },
    {
     "data": {
      "text/plain": [
       "<Figure size 288x72 with 0 Axes>"
      ]
     },
     "metadata": {},
     "output_type": "display_data"
    },
    {
     "data": {
      "text/plain": [
       "<Figure size 288x72 with 0 Axes>"
      ]
     },
     "metadata": {},
     "output_type": "display_data"
    },
    {
     "data": {
      "text/plain": [
       "<Figure size 288x72 with 0 Axes>"
      ]
     },
     "metadata": {},
     "output_type": "display_data"
    },
    {
     "data": {
      "text/plain": [
       "<Figure size 288x72 with 0 Axes>"
      ]
     },
     "metadata": {},
     "output_type": "display_data"
    },
    {
     "data": {
      "text/plain": [
       "<Figure size 288x72 with 0 Axes>"
      ]
     },
     "metadata": {},
     "output_type": "display_data"
    },
    {
     "data": {
      "text/plain": [
       "<Figure size 288x72 with 0 Axes>"
      ]
     },
     "metadata": {},
     "output_type": "display_data"
    },
    {
     "data": {
      "text/plain": [
       "<Figure size 288x72 with 0 Axes>"
      ]
     },
     "metadata": {},
     "output_type": "display_data"
    },
    {
     "data": {
      "text/plain": [
       "<Figure size 288x72 with 0 Axes>"
      ]
     },
     "metadata": {},
     "output_type": "display_data"
    },
    {
     "data": {
      "text/plain": [
       "<Figure size 288x72 with 0 Axes>"
      ]
     },
     "metadata": {},
     "output_type": "display_data"
    },
    {
     "data": {
      "text/plain": [
       "<Figure size 288x72 with 0 Axes>"
      ]
     },
     "metadata": {},
     "output_type": "display_data"
    },
    {
     "data": {
      "text/plain": [
       "<Figure size 288x72 with 0 Axes>"
      ]
     },
     "metadata": {},
     "output_type": "display_data"
    },
    {
     "data": {
      "text/plain": [
       "<Figure size 288x72 with 0 Axes>"
      ]
     },
     "metadata": {},
     "output_type": "display_data"
    },
    {
     "data": {
      "text/plain": [
       "<Figure size 288x72 with 0 Axes>"
      ]
     },
     "metadata": {},
     "output_type": "display_data"
    },
    {
     "data": {
      "text/plain": [
       "<Figure size 288x72 with 0 Axes>"
      ]
     },
     "metadata": {},
     "output_type": "display_data"
    },
    {
     "data": {
      "text/plain": [
       "<Figure size 288x72 with 0 Axes>"
      ]
     },
     "metadata": {},
     "output_type": "display_data"
    },
    {
     "data": {
      "text/plain": [
       "<Figure size 288x72 with 0 Axes>"
      ]
     },
     "metadata": {},
     "output_type": "display_data"
    },
    {
     "data": {
      "text/plain": [
       "<Figure size 288x72 with 0 Axes>"
      ]
     },
     "metadata": {},
     "output_type": "display_data"
    },
    {
     "data": {
      "text/plain": [
       "<Figure size 288x72 with 0 Axes>"
      ]
     },
     "metadata": {},
     "output_type": "display_data"
    },
    {
     "data": {
      "text/plain": [
       "<Figure size 288x72 with 0 Axes>"
      ]
     },
     "metadata": {},
     "output_type": "display_data"
    },
    {
     "data": {
      "text/plain": [
       "<Figure size 288x72 with 0 Axes>"
      ]
     },
     "metadata": {},
     "output_type": "display_data"
    },
    {
     "data": {
      "text/plain": [
       "<Figure size 288x72 with 0 Axes>"
      ]
     },
     "metadata": {},
     "output_type": "display_data"
    },
    {
     "data": {
      "text/plain": [
       "<Figure size 288x72 with 0 Axes>"
      ]
     },
     "metadata": {},
     "output_type": "display_data"
    },
    {
     "data": {
      "text/plain": [
       "<Figure size 288x72 with 0 Axes>"
      ]
     },
     "metadata": {},
     "output_type": "display_data"
    },
    {
     "data": {
      "text/plain": [
       "<Figure size 288x72 with 0 Axes>"
      ]
     },
     "metadata": {},
     "output_type": "display_data"
    },
    {
     "data": {
      "text/plain": [
       "<Figure size 288x72 with 0 Axes>"
      ]
     },
     "metadata": {},
     "output_type": "display_data"
    },
    {
     "data": {
      "text/plain": [
       "<Figure size 288x72 with 0 Axes>"
      ]
     },
     "metadata": {},
     "output_type": "display_data"
    },
    {
     "data": {
      "text/plain": [
       "<Figure size 288x72 with 0 Axes>"
      ]
     },
     "metadata": {},
     "output_type": "display_data"
    },
    {
     "data": {
      "text/plain": [
       "<Figure size 288x72 with 0 Axes>"
      ]
     },
     "metadata": {},
     "output_type": "display_data"
    },
    {
     "data": {
      "text/plain": [
       "<Figure size 288x72 with 0 Axes>"
      ]
     },
     "metadata": {},
     "output_type": "display_data"
    },
    {
     "data": {
      "text/plain": [
       "<Figure size 288x72 with 0 Axes>"
      ]
     },
     "metadata": {},
     "output_type": "display_data"
    },
    {
     "data": {
      "text/plain": [
       "<Figure size 288x72 with 0 Axes>"
      ]
     },
     "metadata": {},
     "output_type": "display_data"
    },
    {
     "data": {
      "text/plain": [
       "<Figure size 288x72 with 0 Axes>"
      ]
     },
     "metadata": {},
     "output_type": "display_data"
    },
    {
     "data": {
      "text/plain": [
       "<Figure size 288x72 with 0 Axes>"
      ]
     },
     "metadata": {},
     "output_type": "display_data"
    },
    {
     "data": {
      "text/plain": [
       "<Figure size 288x72 with 0 Axes>"
      ]
     },
     "metadata": {},
     "output_type": "display_data"
    },
    {
     "data": {
      "text/plain": [
       "<Figure size 288x72 with 0 Axes>"
      ]
     },
     "metadata": {},
     "output_type": "display_data"
    },
    {
     "data": {
      "text/plain": [
       "<Figure size 288x72 with 0 Axes>"
      ]
     },
     "metadata": {},
     "output_type": "display_data"
    },
    {
     "data": {
      "text/plain": [
       "<Figure size 288x72 with 0 Axes>"
      ]
     },
     "metadata": {},
     "output_type": "display_data"
    },
    {
     "data": {
      "text/plain": [
       "<Figure size 288x72 with 0 Axes>"
      ]
     },
     "metadata": {},
     "output_type": "display_data"
    },
    {
     "data": {
      "text/plain": [
       "<Figure size 288x72 with 0 Axes>"
      ]
     },
     "metadata": {},
     "output_type": "display_data"
    },
    {
     "data": {
      "text/plain": [
       "<Figure size 288x72 with 0 Axes>"
      ]
     },
     "metadata": {},
     "output_type": "display_data"
    },
    {
     "data": {
      "text/plain": [
       "<Figure size 288x72 with 0 Axes>"
      ]
     },
     "metadata": {},
     "output_type": "display_data"
    },
    {
     "data": {
      "text/plain": [
       "<Figure size 288x72 with 0 Axes>"
      ]
     },
     "metadata": {},
     "output_type": "display_data"
    },
    {
     "data": {
      "text/plain": [
       "<Figure size 288x72 with 0 Axes>"
      ]
     },
     "metadata": {},
     "output_type": "display_data"
    },
    {
     "data": {
      "text/plain": [
       "<Figure size 288x72 with 0 Axes>"
      ]
     },
     "metadata": {},
     "output_type": "display_data"
    },
    {
     "data": {
      "text/plain": [
       "<Figure size 288x72 with 0 Axes>"
      ]
     },
     "metadata": {},
     "output_type": "display_data"
    },
    {
     "data": {
      "text/plain": [
       "<Figure size 288x72 with 0 Axes>"
      ]
     },
     "metadata": {},
     "output_type": "display_data"
    },
    {
     "data": {
      "text/plain": [
       "<Figure size 288x72 with 0 Axes>"
      ]
     },
     "metadata": {},
     "output_type": "display_data"
    },
    {
     "data": {
      "text/plain": [
       "<Figure size 288x72 with 0 Axes>"
      ]
     },
     "metadata": {},
     "output_type": "display_data"
    },
    {
     "data": {
      "text/plain": [
       "<Figure size 288x72 with 0 Axes>"
      ]
     },
     "metadata": {},
     "output_type": "display_data"
    },
    {
     "data": {
      "text/plain": [
       "<Figure size 288x72 with 0 Axes>"
      ]
     },
     "metadata": {},
     "output_type": "display_data"
    },
    {
     "data": {
      "text/plain": [
       "<Figure size 288x72 with 0 Axes>"
      ]
     },
     "metadata": {},
     "output_type": "display_data"
    },
    {
     "data": {
      "text/plain": [
       "<Figure size 288x72 with 0 Axes>"
      ]
     },
     "metadata": {},
     "output_type": "display_data"
    },
    {
     "data": {
      "text/plain": [
       "<Figure size 288x72 with 0 Axes>"
      ]
     },
     "metadata": {},
     "output_type": "display_data"
    },
    {
     "data": {
      "text/plain": [
       "<Figure size 288x72 with 0 Axes>"
      ]
     },
     "metadata": {},
     "output_type": "display_data"
    },
    {
     "data": {
      "text/plain": [
       "<Figure size 288x72 with 0 Axes>"
      ]
     },
     "metadata": {},
     "output_type": "display_data"
    },
    {
     "data": {
      "text/plain": [
       "<Figure size 288x72 with 0 Axes>"
      ]
     },
     "metadata": {},
     "output_type": "display_data"
    },
    {
     "data": {
      "text/plain": [
       "<Figure size 288x72 with 0 Axes>"
      ]
     },
     "metadata": {},
     "output_type": "display_data"
    },
    {
     "data": {
      "text/plain": [
       "<Figure size 288x72 with 0 Axes>"
      ]
     },
     "metadata": {},
     "output_type": "display_data"
    },
    {
     "data": {
      "text/plain": [
       "<Figure size 288x72 with 0 Axes>"
      ]
     },
     "metadata": {},
     "output_type": "display_data"
    },
    {
     "data": {
      "text/plain": [
       "<Figure size 288x72 with 0 Axes>"
      ]
     },
     "metadata": {},
     "output_type": "display_data"
    },
    {
     "data": {
      "text/plain": [
       "<Figure size 288x72 with 0 Axes>"
      ]
     },
     "metadata": {},
     "output_type": "display_data"
    },
    {
     "data": {
      "text/plain": [
       "<Figure size 288x72 with 0 Axes>"
      ]
     },
     "metadata": {},
     "output_type": "display_data"
    },
    {
     "data": {
      "text/plain": [
       "<Figure size 288x72 with 0 Axes>"
      ]
     },
     "metadata": {},
     "output_type": "display_data"
    },
    {
     "data": {
      "text/plain": [
       "<Figure size 288x72 with 0 Axes>"
      ]
     },
     "metadata": {},
     "output_type": "display_data"
    },
    {
     "data": {
      "text/plain": [
       "<Figure size 288x72 with 0 Axes>"
      ]
     },
     "metadata": {},
     "output_type": "display_data"
    },
    {
     "data": {
      "text/plain": [
       "<Figure size 288x72 with 0 Axes>"
      ]
     },
     "metadata": {},
     "output_type": "display_data"
    },
    {
     "data": {
      "text/plain": [
       "<Figure size 288x72 with 0 Axes>"
      ]
     },
     "metadata": {},
     "output_type": "display_data"
    },
    {
     "data": {
      "text/plain": [
       "<Figure size 288x72 with 0 Axes>"
      ]
     },
     "metadata": {},
     "output_type": "display_data"
    },
    {
     "data": {
      "text/plain": [
       "<Figure size 288x72 with 0 Axes>"
      ]
     },
     "metadata": {},
     "output_type": "display_data"
    },
    {
     "data": {
      "text/plain": [
       "<Figure size 288x72 with 0 Axes>"
      ]
     },
     "metadata": {},
     "output_type": "display_data"
    },
    {
     "data": {
      "text/plain": [
       "<Figure size 288x72 with 0 Axes>"
      ]
     },
     "metadata": {},
     "output_type": "display_data"
    },
    {
     "data": {
      "text/plain": [
       "<Figure size 288x72 with 0 Axes>"
      ]
     },
     "metadata": {},
     "output_type": "display_data"
    },
    {
     "data": {
      "text/plain": [
       "<Figure size 288x72 with 0 Axes>"
      ]
     },
     "metadata": {},
     "output_type": "display_data"
    },
    {
     "data": {
      "text/plain": [
       "<Figure size 288x72 with 0 Axes>"
      ]
     },
     "metadata": {},
     "output_type": "display_data"
    },
    {
     "data": {
      "text/plain": [
       "<Figure size 288x72 with 0 Axes>"
      ]
     },
     "metadata": {},
     "output_type": "display_data"
    },
    {
     "data": {
      "text/plain": [
       "<Figure size 288x72 with 0 Axes>"
      ]
     },
     "metadata": {},
     "output_type": "display_data"
    },
    {
     "data": {
      "text/plain": [
       "<Figure size 288x72 with 0 Axes>"
      ]
     },
     "metadata": {},
     "output_type": "display_data"
    },
    {
     "data": {
      "text/plain": [
       "<Figure size 288x72 with 0 Axes>"
      ]
     },
     "metadata": {},
     "output_type": "display_data"
    },
    {
     "data": {
      "text/plain": [
       "<Figure size 288x72 with 0 Axes>"
      ]
     },
     "metadata": {},
     "output_type": "display_data"
    },
    {
     "data": {
      "text/plain": [
       "<Figure size 288x72 with 0 Axes>"
      ]
     },
     "metadata": {},
     "output_type": "display_data"
    },
    {
     "data": {
      "text/plain": [
       "<Figure size 288x72 with 0 Axes>"
      ]
     },
     "metadata": {},
     "output_type": "display_data"
    },
    {
     "data": {
      "text/plain": [
       "<Figure size 288x72 with 0 Axes>"
      ]
     },
     "metadata": {},
     "output_type": "display_data"
    },
    {
     "data": {
      "text/plain": [
       "<Figure size 288x72 with 0 Axes>"
      ]
     },
     "metadata": {},
     "output_type": "display_data"
    },
    {
     "data": {
      "text/plain": [
       "<Figure size 288x72 with 0 Axes>"
      ]
     },
     "metadata": {},
     "output_type": "display_data"
    },
    {
     "data": {
      "text/plain": [
       "<Figure size 288x72 with 0 Axes>"
      ]
     },
     "metadata": {},
     "output_type": "display_data"
    },
    {
     "data": {
      "text/plain": [
       "<Figure size 288x72 with 0 Axes>"
      ]
     },
     "metadata": {},
     "output_type": "display_data"
    },
    {
     "data": {
      "text/plain": [
       "<Figure size 288x72 with 0 Axes>"
      ]
     },
     "metadata": {},
     "output_type": "display_data"
    },
    {
     "data": {
      "text/plain": [
       "<Figure size 288x72 with 0 Axes>"
      ]
     },
     "metadata": {},
     "output_type": "display_data"
    },
    {
     "data": {
      "text/plain": [
       "<Figure size 288x72 with 0 Axes>"
      ]
     },
     "metadata": {},
     "output_type": "display_data"
    },
    {
     "data": {
      "text/plain": [
       "<Figure size 288x72 with 0 Axes>"
      ]
     },
     "metadata": {},
     "output_type": "display_data"
    },
    {
     "data": {
      "text/plain": [
       "<Figure size 288x72 with 0 Axes>"
      ]
     },
     "metadata": {},
     "output_type": "display_data"
    },
    {
     "data": {
      "text/plain": [
       "<Figure size 288x72 with 0 Axes>"
      ]
     },
     "metadata": {},
     "output_type": "display_data"
    },
    {
     "data": {
      "text/plain": [
       "<Figure size 288x72 with 0 Axes>"
      ]
     },
     "metadata": {},
     "output_type": "display_data"
    },
    {
     "data": {
      "text/plain": [
       "<Figure size 288x72 with 0 Axes>"
      ]
     },
     "metadata": {},
     "output_type": "display_data"
    },
    {
     "data": {
      "text/plain": [
       "<Figure size 288x72 with 0 Axes>"
      ]
     },
     "metadata": {},
     "output_type": "display_data"
    },
    {
     "data": {
      "text/plain": [
       "<Figure size 288x72 with 0 Axes>"
      ]
     },
     "metadata": {},
     "output_type": "display_data"
    },
    {
     "data": {
      "text/plain": [
       "<Figure size 288x72 with 0 Axes>"
      ]
     },
     "metadata": {},
     "output_type": "display_data"
    },
    {
     "data": {
      "text/plain": [
       "<Figure size 288x72 with 0 Axes>"
      ]
     },
     "metadata": {},
     "output_type": "display_data"
    },
    {
     "data": {
      "text/plain": [
       "<Figure size 288x72 with 0 Axes>"
      ]
     },
     "metadata": {},
     "output_type": "display_data"
    },
    {
     "data": {
      "text/plain": [
       "<Figure size 288x72 with 0 Axes>"
      ]
     },
     "metadata": {},
     "output_type": "display_data"
    },
    {
     "data": {
      "text/plain": [
       "<Figure size 288x72 with 0 Axes>"
      ]
     },
     "metadata": {},
     "output_type": "display_data"
    },
    {
     "data": {
      "text/plain": [
       "<Figure size 288x72 with 0 Axes>"
      ]
     },
     "metadata": {},
     "output_type": "display_data"
    },
    {
     "data": {
      "text/plain": [
       "<Figure size 288x72 with 0 Axes>"
      ]
     },
     "metadata": {},
     "output_type": "display_data"
    },
    {
     "data": {
      "text/plain": [
       "<Figure size 288x72 with 0 Axes>"
      ]
     },
     "metadata": {},
     "output_type": "display_data"
    },
    {
     "data": {
      "text/plain": [
       "<Figure size 288x72 with 0 Axes>"
      ]
     },
     "metadata": {},
     "output_type": "display_data"
    },
    {
     "data": {
      "text/plain": [
       "<Figure size 288x72 with 0 Axes>"
      ]
     },
     "metadata": {},
     "output_type": "display_data"
    },
    {
     "data": {
      "text/plain": [
       "<Figure size 288x72 with 0 Axes>"
      ]
     },
     "metadata": {},
     "output_type": "display_data"
    },
    {
     "data": {
      "text/plain": [
       "<Figure size 288x72 with 0 Axes>"
      ]
     },
     "metadata": {},
     "output_type": "display_data"
    },
    {
     "data": {
      "text/plain": [
       "<Figure size 288x72 with 0 Axes>"
      ]
     },
     "metadata": {},
     "output_type": "display_data"
    },
    {
     "data": {
      "text/plain": [
       "<Figure size 288x72 with 0 Axes>"
      ]
     },
     "metadata": {},
     "output_type": "display_data"
    },
    {
     "data": {
      "text/plain": [
       "<Figure size 288x72 with 0 Axes>"
      ]
     },
     "metadata": {},
     "output_type": "display_data"
    },
    {
     "data": {
      "text/plain": [
       "<Figure size 288x72 with 0 Axes>"
      ]
     },
     "metadata": {},
     "output_type": "display_data"
    },
    {
     "data": {
      "text/plain": [
       "<Figure size 288x72 with 0 Axes>"
      ]
     },
     "metadata": {},
     "output_type": "display_data"
    },
    {
     "data": {
      "text/plain": [
       "<Figure size 288x72 with 0 Axes>"
      ]
     },
     "metadata": {},
     "output_type": "display_data"
    },
    {
     "data": {
      "text/plain": [
       "<Figure size 288x72 with 0 Axes>"
      ]
     },
     "metadata": {},
     "output_type": "display_data"
    },
    {
     "data": {
      "text/plain": [
       "<Figure size 288x72 with 0 Axes>"
      ]
     },
     "metadata": {},
     "output_type": "display_data"
    },
    {
     "data": {
      "text/plain": [
       "<Figure size 288x72 with 0 Axes>"
      ]
     },
     "metadata": {},
     "output_type": "display_data"
    },
    {
     "data": {
      "text/plain": [
       "<Figure size 288x72 with 0 Axes>"
      ]
     },
     "metadata": {},
     "output_type": "display_data"
    },
    {
     "data": {
      "text/plain": [
       "<Figure size 288x72 with 0 Axes>"
      ]
     },
     "metadata": {},
     "output_type": "display_data"
    },
    {
     "data": {
      "text/plain": [
       "<Figure size 288x72 with 0 Axes>"
      ]
     },
     "metadata": {},
     "output_type": "display_data"
    },
    {
     "data": {
      "text/plain": [
       "<Figure size 288x72 with 0 Axes>"
      ]
     },
     "metadata": {},
     "output_type": "display_data"
    },
    {
     "data": {
      "text/plain": [
       "<Figure size 288x72 with 0 Axes>"
      ]
     },
     "metadata": {},
     "output_type": "display_data"
    },
    {
     "data": {
      "text/plain": [
       "<Figure size 288x72 with 0 Axes>"
      ]
     },
     "metadata": {},
     "output_type": "display_data"
    },
    {
     "data": {
      "text/plain": [
       "<Figure size 288x72 with 0 Axes>"
      ]
     },
     "metadata": {},
     "output_type": "display_data"
    },
    {
     "data": {
      "text/plain": [
       "<Figure size 288x72 with 0 Axes>"
      ]
     },
     "metadata": {},
     "output_type": "display_data"
    },
    {
     "data": {
      "text/plain": [
       "<Figure size 288x72 with 0 Axes>"
      ]
     },
     "metadata": {},
     "output_type": "display_data"
    },
    {
     "data": {
      "text/plain": [
       "<Figure size 288x72 with 0 Axes>"
      ]
     },
     "metadata": {},
     "output_type": "display_data"
    },
    {
     "data": {
      "text/plain": [
       "<Figure size 288x72 with 0 Axes>"
      ]
     },
     "metadata": {},
     "output_type": "display_data"
    },
    {
     "data": {
      "text/plain": [
       "<Figure size 288x72 with 0 Axes>"
      ]
     },
     "metadata": {},
     "output_type": "display_data"
    },
    {
     "data": {
      "text/plain": [
       "<Figure size 288x72 with 0 Axes>"
      ]
     },
     "metadata": {},
     "output_type": "display_data"
    },
    {
     "data": {
      "text/plain": [
       "<Figure size 288x72 with 0 Axes>"
      ]
     },
     "metadata": {},
     "output_type": "display_data"
    },
    {
     "data": {
      "text/plain": [
       "<Figure size 288x72 with 0 Axes>"
      ]
     },
     "metadata": {},
     "output_type": "display_data"
    },
    {
     "data": {
      "text/plain": [
       "<Figure size 288x72 with 0 Axes>"
      ]
     },
     "metadata": {},
     "output_type": "display_data"
    },
    {
     "data": {
      "text/plain": [
       "<Figure size 288x72 with 0 Axes>"
      ]
     },
     "metadata": {},
     "output_type": "display_data"
    },
    {
     "data": {
      "text/plain": [
       "<Figure size 288x72 with 0 Axes>"
      ]
     },
     "metadata": {},
     "output_type": "display_data"
    },
    {
     "data": {
      "text/plain": [
       "<Figure size 288x72 with 0 Axes>"
      ]
     },
     "metadata": {},
     "output_type": "display_data"
    },
    {
     "data": {
      "text/plain": [
       "<Figure size 288x72 with 0 Axes>"
      ]
     },
     "metadata": {},
     "output_type": "display_data"
    },
    {
     "data": {
      "text/plain": [
       "<Figure size 288x72 with 0 Axes>"
      ]
     },
     "metadata": {},
     "output_type": "display_data"
    },
    {
     "data": {
      "text/plain": [
       "<Figure size 288x72 with 0 Axes>"
      ]
     },
     "metadata": {},
     "output_type": "display_data"
    },
    {
     "data": {
      "text/plain": [
       "<Figure size 288x72 with 0 Axes>"
      ]
     },
     "metadata": {},
     "output_type": "display_data"
    },
    {
     "data": {
      "text/plain": [
       "<Figure size 288x72 with 0 Axes>"
      ]
     },
     "metadata": {},
     "output_type": "display_data"
    },
    {
     "data": {
      "text/plain": [
       "<Figure size 288x72 with 0 Axes>"
      ]
     },
     "metadata": {},
     "output_type": "display_data"
    },
    {
     "data": {
      "text/plain": [
       "<Figure size 288x72 with 0 Axes>"
      ]
     },
     "metadata": {},
     "output_type": "display_data"
    },
    {
     "data": {
      "text/plain": [
       "<Figure size 288x72 with 0 Axes>"
      ]
     },
     "metadata": {},
     "output_type": "display_data"
    },
    {
     "data": {
      "text/plain": [
       "<Figure size 288x72 with 0 Axes>"
      ]
     },
     "metadata": {},
     "output_type": "display_data"
    },
    {
     "data": {
      "text/plain": [
       "<Figure size 288x72 with 0 Axes>"
      ]
     },
     "metadata": {},
     "output_type": "display_data"
    },
    {
     "data": {
      "text/plain": [
       "<Figure size 288x72 with 0 Axes>"
      ]
     },
     "metadata": {},
     "output_type": "display_data"
    },
    {
     "data": {
      "text/plain": [
       "<Figure size 288x72 with 0 Axes>"
      ]
     },
     "metadata": {},
     "output_type": "display_data"
    },
    {
     "data": {
      "text/plain": [
       "<Figure size 288x72 with 0 Axes>"
      ]
     },
     "metadata": {},
     "output_type": "display_data"
    },
    {
     "data": {
      "text/plain": [
       "<Figure size 288x72 with 0 Axes>"
      ]
     },
     "metadata": {},
     "output_type": "display_data"
    },
    {
     "data": {
      "text/plain": [
       "<Figure size 288x72 with 0 Axes>"
      ]
     },
     "metadata": {},
     "output_type": "display_data"
    },
    {
     "data": {
      "text/plain": [
       "<Figure size 288x72 with 0 Axes>"
      ]
     },
     "metadata": {},
     "output_type": "display_data"
    },
    {
     "data": {
      "text/plain": [
       "<Figure size 288x72 with 0 Axes>"
      ]
     },
     "metadata": {},
     "output_type": "display_data"
    },
    {
     "data": {
      "text/plain": [
       "<Figure size 288x72 with 0 Axes>"
      ]
     },
     "metadata": {},
     "output_type": "display_data"
    },
    {
     "data": {
      "text/plain": [
       "<Figure size 288x72 with 0 Axes>"
      ]
     },
     "metadata": {},
     "output_type": "display_data"
    },
    {
     "data": {
      "text/plain": [
       "<Figure size 288x72 with 0 Axes>"
      ]
     },
     "metadata": {},
     "output_type": "display_data"
    },
    {
     "data": {
      "text/plain": [
       "<Figure size 288x72 with 0 Axes>"
      ]
     },
     "metadata": {},
     "output_type": "display_data"
    },
    {
     "data": {
      "text/plain": [
       "<Figure size 288x72 with 0 Axes>"
      ]
     },
     "metadata": {},
     "output_type": "display_data"
    },
    {
     "data": {
      "text/plain": [
       "<Figure size 288x72 with 0 Axes>"
      ]
     },
     "metadata": {},
     "output_type": "display_data"
    },
    {
     "data": {
      "text/plain": [
       "<Figure size 288x72 with 0 Axes>"
      ]
     },
     "metadata": {},
     "output_type": "display_data"
    },
    {
     "data": {
      "text/plain": [
       "<Figure size 288x72 with 0 Axes>"
      ]
     },
     "metadata": {},
     "output_type": "display_data"
    },
    {
     "data": {
      "text/plain": [
       "<Figure size 288x72 with 0 Axes>"
      ]
     },
     "metadata": {},
     "output_type": "display_data"
    },
    {
     "data": {
      "text/plain": [
       "<Figure size 288x72 with 0 Axes>"
      ]
     },
     "metadata": {},
     "output_type": "display_data"
    },
    {
     "data": {
      "text/plain": [
       "<Figure size 288x72 with 0 Axes>"
      ]
     },
     "metadata": {},
     "output_type": "display_data"
    },
    {
     "data": {
      "text/plain": [
       "<Figure size 288x72 with 0 Axes>"
      ]
     },
     "metadata": {},
     "output_type": "display_data"
    },
    {
     "data": {
      "text/plain": [
       "<Figure size 288x72 with 0 Axes>"
      ]
     },
     "metadata": {},
     "output_type": "display_data"
    },
    {
     "data": {
      "text/plain": [
       "<Figure size 288x72 with 0 Axes>"
      ]
     },
     "metadata": {},
     "output_type": "display_data"
    },
    {
     "data": {
      "text/plain": [
       "<Figure size 288x72 with 0 Axes>"
      ]
     },
     "metadata": {},
     "output_type": "display_data"
    },
    {
     "data": {
      "text/plain": [
       "<Figure size 288x72 with 0 Axes>"
      ]
     },
     "metadata": {},
     "output_type": "display_data"
    },
    {
     "data": {
      "text/plain": [
       "<Figure size 288x72 with 0 Axes>"
      ]
     },
     "metadata": {},
     "output_type": "display_data"
    },
    {
     "data": {
      "text/plain": [
       "<Figure size 288x72 with 0 Axes>"
      ]
     },
     "metadata": {},
     "output_type": "display_data"
    },
    {
     "data": {
      "text/plain": [
       "<Figure size 288x72 with 0 Axes>"
      ]
     },
     "metadata": {},
     "output_type": "display_data"
    },
    {
     "data": {
      "text/plain": [
       "<Figure size 288x72 with 0 Axes>"
      ]
     },
     "metadata": {},
     "output_type": "display_data"
    },
    {
     "data": {
      "text/plain": [
       "<Figure size 288x72 with 0 Axes>"
      ]
     },
     "metadata": {},
     "output_type": "display_data"
    },
    {
     "data": {
      "text/plain": [
       "<Figure size 288x72 with 0 Axes>"
      ]
     },
     "metadata": {},
     "output_type": "display_data"
    },
    {
     "data": {
      "text/plain": [
       "<Figure size 288x72 with 0 Axes>"
      ]
     },
     "metadata": {},
     "output_type": "display_data"
    },
    {
     "data": {
      "text/plain": [
       "<Figure size 288x72 with 0 Axes>"
      ]
     },
     "metadata": {},
     "output_type": "display_data"
    },
    {
     "data": {
      "text/plain": [
       "<Figure size 288x72 with 0 Axes>"
      ]
     },
     "metadata": {},
     "output_type": "display_data"
    },
    {
     "data": {
      "text/plain": [
       "<Figure size 288x72 with 0 Axes>"
      ]
     },
     "metadata": {},
     "output_type": "display_data"
    },
    {
     "data": {
      "text/plain": [
       "<Figure size 288x72 with 0 Axes>"
      ]
     },
     "metadata": {},
     "output_type": "display_data"
    },
    {
     "data": {
      "text/plain": [
       "<Figure size 288x72 with 0 Axes>"
      ]
     },
     "metadata": {},
     "output_type": "display_data"
    },
    {
     "data": {
      "text/plain": [
       "<Figure size 288x72 with 0 Axes>"
      ]
     },
     "metadata": {},
     "output_type": "display_data"
    },
    {
     "data": {
      "text/plain": [
       "<Figure size 288x72 with 0 Axes>"
      ]
     },
     "metadata": {},
     "output_type": "display_data"
    },
    {
     "data": {
      "text/plain": [
       "<Figure size 288x72 with 0 Axes>"
      ]
     },
     "metadata": {},
     "output_type": "display_data"
    },
    {
     "data": {
      "text/plain": [
       "<Figure size 288x72 with 0 Axes>"
      ]
     },
     "metadata": {},
     "output_type": "display_data"
    },
    {
     "data": {
      "text/plain": [
       "<Figure size 288x72 with 0 Axes>"
      ]
     },
     "metadata": {},
     "output_type": "display_data"
    },
    {
     "data": {
      "text/plain": [
       "<Figure size 288x72 with 0 Axes>"
      ]
     },
     "metadata": {},
     "output_type": "display_data"
    },
    {
     "data": {
      "text/plain": [
       "<Figure size 288x72 with 0 Axes>"
      ]
     },
     "metadata": {},
     "output_type": "display_data"
    },
    {
     "data": {
      "text/plain": [
       "<Figure size 288x72 with 0 Axes>"
      ]
     },
     "metadata": {},
     "output_type": "display_data"
    },
    {
     "data": {
      "text/plain": [
       "<Figure size 288x72 with 0 Axes>"
      ]
     },
     "metadata": {},
     "output_type": "display_data"
    },
    {
     "data": {
      "text/plain": [
       "<Figure size 288x72 with 0 Axes>"
      ]
     },
     "metadata": {},
     "output_type": "display_data"
    },
    {
     "data": {
      "text/plain": [
       "<Figure size 288x72 with 0 Axes>"
      ]
     },
     "metadata": {},
     "output_type": "display_data"
    },
    {
     "data": {
      "text/plain": [
       "<Figure size 288x72 with 0 Axes>"
      ]
     },
     "metadata": {},
     "output_type": "display_data"
    },
    {
     "data": {
      "text/plain": [
       "<Figure size 288x72 with 0 Axes>"
      ]
     },
     "metadata": {},
     "output_type": "display_data"
    },
    {
     "data": {
      "text/plain": [
       "<Figure size 288x72 with 0 Axes>"
      ]
     },
     "metadata": {},
     "output_type": "display_data"
    },
    {
     "data": {
      "text/plain": [
       "<Figure size 288x72 with 0 Axes>"
      ]
     },
     "metadata": {},
     "output_type": "display_data"
    },
    {
     "data": {
      "text/plain": [
       "<Figure size 288x72 with 0 Axes>"
      ]
     },
     "metadata": {},
     "output_type": "display_data"
    },
    {
     "data": {
      "text/plain": [
       "<Figure size 288x72 with 0 Axes>"
      ]
     },
     "metadata": {},
     "output_type": "display_data"
    },
    {
     "data": {
      "text/plain": [
       "<Figure size 288x72 with 0 Axes>"
      ]
     },
     "metadata": {},
     "output_type": "display_data"
    },
    {
     "data": {
      "text/plain": [
       "<Figure size 288x72 with 0 Axes>"
      ]
     },
     "metadata": {},
     "output_type": "display_data"
    },
    {
     "data": {
      "text/plain": [
       "<Figure size 288x72 with 0 Axes>"
      ]
     },
     "metadata": {},
     "output_type": "display_data"
    },
    {
     "data": {
      "text/plain": [
       "<Figure size 288x72 with 0 Axes>"
      ]
     },
     "metadata": {},
     "output_type": "display_data"
    },
    {
     "data": {
      "text/plain": [
       "<Figure size 288x72 with 0 Axes>"
      ]
     },
     "metadata": {},
     "output_type": "display_data"
    },
    {
     "data": {
      "text/plain": [
       "<Figure size 288x72 with 0 Axes>"
      ]
     },
     "metadata": {},
     "output_type": "display_data"
    },
    {
     "data": {
      "text/plain": [
       "<Figure size 288x72 with 0 Axes>"
      ]
     },
     "metadata": {},
     "output_type": "display_data"
    },
    {
     "data": {
      "text/plain": [
       "<Figure size 288x72 with 0 Axes>"
      ]
     },
     "metadata": {},
     "output_type": "display_data"
    },
    {
     "data": {
      "text/plain": [
       "<Figure size 288x72 with 0 Axes>"
      ]
     },
     "metadata": {},
     "output_type": "display_data"
    },
    {
     "data": {
      "text/plain": [
       "<Figure size 288x72 with 0 Axes>"
      ]
     },
     "metadata": {},
     "output_type": "display_data"
    },
    {
     "data": {
      "text/plain": [
       "<Figure size 288x72 with 0 Axes>"
      ]
     },
     "metadata": {},
     "output_type": "display_data"
    },
    {
     "data": {
      "text/plain": [
       "<Figure size 288x72 with 0 Axes>"
      ]
     },
     "metadata": {},
     "output_type": "display_data"
    },
    {
     "data": {
      "text/plain": [
       "<Figure size 288x72 with 0 Axes>"
      ]
     },
     "metadata": {},
     "output_type": "display_data"
    },
    {
     "data": {
      "text/plain": [
       "<Figure size 288x72 with 0 Axes>"
      ]
     },
     "metadata": {},
     "output_type": "display_data"
    },
    {
     "data": {
      "text/plain": [
       "<Figure size 288x72 with 0 Axes>"
      ]
     },
     "metadata": {},
     "output_type": "display_data"
    },
    {
     "data": {
      "text/plain": [
       "<Figure size 288x72 with 0 Axes>"
      ]
     },
     "metadata": {},
     "output_type": "display_data"
    },
    {
     "data": {
      "text/plain": [
       "<Figure size 288x72 with 0 Axes>"
      ]
     },
     "metadata": {},
     "output_type": "display_data"
    },
    {
     "data": {
      "text/plain": [
       "<Figure size 288x72 with 0 Axes>"
      ]
     },
     "metadata": {},
     "output_type": "display_data"
    },
    {
     "data": {
      "text/plain": [
       "<Figure size 288x72 with 0 Axes>"
      ]
     },
     "metadata": {},
     "output_type": "display_data"
    },
    {
     "data": {
      "text/plain": [
       "<Figure size 288x72 with 0 Axes>"
      ]
     },
     "metadata": {},
     "output_type": "display_data"
    },
    {
     "data": {
      "text/plain": [
       "<Figure size 288x72 with 0 Axes>"
      ]
     },
     "metadata": {},
     "output_type": "display_data"
    },
    {
     "data": {
      "text/plain": [
       "<Figure size 288x72 with 0 Axes>"
      ]
     },
     "metadata": {},
     "output_type": "display_data"
    },
    {
     "data": {
      "text/plain": [
       "<Figure size 288x72 with 0 Axes>"
      ]
     },
     "metadata": {},
     "output_type": "display_data"
    },
    {
     "data": {
      "text/plain": [
       "<Figure size 288x72 with 0 Axes>"
      ]
     },
     "metadata": {},
     "output_type": "display_data"
    },
    {
     "data": {
      "text/plain": [
       "<Figure size 288x72 with 0 Axes>"
      ]
     },
     "metadata": {},
     "output_type": "display_data"
    },
    {
     "data": {
      "text/plain": [
       "<Figure size 288x72 with 0 Axes>"
      ]
     },
     "metadata": {},
     "output_type": "display_data"
    },
    {
     "data": {
      "text/plain": [
       "<Figure size 288x72 with 0 Axes>"
      ]
     },
     "metadata": {},
     "output_type": "display_data"
    },
    {
     "data": {
      "text/plain": [
       "<Figure size 288x72 with 0 Axes>"
      ]
     },
     "metadata": {},
     "output_type": "display_data"
    },
    {
     "data": {
      "text/plain": [
       "<Figure size 288x72 with 0 Axes>"
      ]
     },
     "metadata": {},
     "output_type": "display_data"
    },
    {
     "data": {
      "text/plain": [
       "<Figure size 288x72 with 0 Axes>"
      ]
     },
     "metadata": {},
     "output_type": "display_data"
    },
    {
     "data": {
      "text/plain": [
       "<Figure size 288x72 with 0 Axes>"
      ]
     },
     "metadata": {},
     "output_type": "display_data"
    },
    {
     "data": {
      "text/plain": [
       "<Figure size 288x72 with 0 Axes>"
      ]
     },
     "metadata": {},
     "output_type": "display_data"
    },
    {
     "data": {
      "text/plain": [
       "<Figure size 288x72 with 0 Axes>"
      ]
     },
     "metadata": {},
     "output_type": "display_data"
    },
    {
     "data": {
      "text/plain": [
       "<Figure size 288x72 with 0 Axes>"
      ]
     },
     "metadata": {},
     "output_type": "display_data"
    },
    {
     "data": {
      "text/plain": [
       "<Figure size 288x72 with 0 Axes>"
      ]
     },
     "metadata": {},
     "output_type": "display_data"
    },
    {
     "data": {
      "text/plain": [
       "<Figure size 288x72 with 0 Axes>"
      ]
     },
     "metadata": {},
     "output_type": "display_data"
    },
    {
     "data": {
      "text/plain": [
       "<Figure size 288x72 with 0 Axes>"
      ]
     },
     "metadata": {},
     "output_type": "display_data"
    },
    {
     "data": {
      "text/plain": [
       "<Figure size 288x72 with 0 Axes>"
      ]
     },
     "metadata": {},
     "output_type": "display_data"
    },
    {
     "data": {
      "text/plain": [
       "<Figure size 288x72 with 0 Axes>"
      ]
     },
     "metadata": {},
     "output_type": "display_data"
    },
    {
     "data": {
      "text/plain": [
       "<Figure size 288x72 with 0 Axes>"
      ]
     },
     "metadata": {},
     "output_type": "display_data"
    },
    {
     "data": {
      "text/plain": [
       "<Figure size 288x72 with 0 Axes>"
      ]
     },
     "metadata": {},
     "output_type": "display_data"
    },
    {
     "data": {
      "text/plain": [
       "<Figure size 288x72 with 0 Axes>"
      ]
     },
     "metadata": {},
     "output_type": "display_data"
    },
    {
     "data": {
      "text/plain": [
       "<Figure size 288x72 with 0 Axes>"
      ]
     },
     "metadata": {},
     "output_type": "display_data"
    },
    {
     "data": {
      "text/plain": [
       "<Figure size 288x72 with 0 Axes>"
      ]
     },
     "metadata": {},
     "output_type": "display_data"
    },
    {
     "data": {
      "text/plain": [
       "<Figure size 288x72 with 0 Axes>"
      ]
     },
     "metadata": {},
     "output_type": "display_data"
    },
    {
     "data": {
      "text/plain": [
       "<Figure size 288x72 with 0 Axes>"
      ]
     },
     "metadata": {},
     "output_type": "display_data"
    },
    {
     "data": {
      "text/plain": [
       "<Figure size 288x72 with 0 Axes>"
      ]
     },
     "metadata": {},
     "output_type": "display_data"
    },
    {
     "data": {
      "text/plain": [
       "<Figure size 288x72 with 0 Axes>"
      ]
     },
     "metadata": {},
     "output_type": "display_data"
    },
    {
     "data": {
      "text/plain": [
       "<Figure size 288x72 with 0 Axes>"
      ]
     },
     "metadata": {},
     "output_type": "display_data"
    },
    {
     "data": {
      "text/plain": [
       "<Figure size 288x72 with 0 Axes>"
      ]
     },
     "metadata": {},
     "output_type": "display_data"
    },
    {
     "data": {
      "text/plain": [
       "<Figure size 288x72 with 0 Axes>"
      ]
     },
     "metadata": {},
     "output_type": "display_data"
    },
    {
     "data": {
      "text/plain": [
       "<Figure size 288x72 with 0 Axes>"
      ]
     },
     "metadata": {},
     "output_type": "display_data"
    },
    {
     "data": {
      "text/plain": [
       "<Figure size 288x72 with 0 Axes>"
      ]
     },
     "metadata": {},
     "output_type": "display_data"
    },
    {
     "data": {
      "text/plain": [
       "<Figure size 288x72 with 0 Axes>"
      ]
     },
     "metadata": {},
     "output_type": "display_data"
    },
    {
     "data": {
      "text/plain": [
       "<Figure size 288x72 with 0 Axes>"
      ]
     },
     "metadata": {},
     "output_type": "display_data"
    },
    {
     "data": {
      "text/plain": [
       "<Figure size 288x72 with 0 Axes>"
      ]
     },
     "metadata": {},
     "output_type": "display_data"
    },
    {
     "data": {
      "text/plain": [
       "<Figure size 288x72 with 0 Axes>"
      ]
     },
     "metadata": {},
     "output_type": "display_data"
    },
    {
     "data": {
      "text/plain": [
       "<Figure size 288x72 with 0 Axes>"
      ]
     },
     "metadata": {},
     "output_type": "display_data"
    },
    {
     "data": {
      "text/plain": [
       "<Figure size 288x72 with 0 Axes>"
      ]
     },
     "metadata": {},
     "output_type": "display_data"
    },
    {
     "data": {
      "text/plain": [
       "<Figure size 288x72 with 0 Axes>"
      ]
     },
     "metadata": {},
     "output_type": "display_data"
    },
    {
     "data": {
      "text/plain": [
       "<Figure size 288x72 with 0 Axes>"
      ]
     },
     "metadata": {},
     "output_type": "display_data"
    },
    {
     "data": {
      "text/plain": [
       "<Figure size 288x72 with 0 Axes>"
      ]
     },
     "metadata": {},
     "output_type": "display_data"
    },
    {
     "data": {
      "text/plain": [
       "<Figure size 288x72 with 0 Axes>"
      ]
     },
     "metadata": {},
     "output_type": "display_data"
    },
    {
     "data": {
      "text/plain": [
       "<Figure size 288x72 with 0 Axes>"
      ]
     },
     "metadata": {},
     "output_type": "display_data"
    },
    {
     "data": {
      "text/plain": [
       "<Figure size 288x72 with 0 Axes>"
      ]
     },
     "metadata": {},
     "output_type": "display_data"
    },
    {
     "data": {
      "text/plain": [
       "<Figure size 288x72 with 0 Axes>"
      ]
     },
     "metadata": {},
     "output_type": "display_data"
    },
    {
     "data": {
      "text/plain": [
       "<Figure size 288x72 with 0 Axes>"
      ]
     },
     "metadata": {},
     "output_type": "display_data"
    },
    {
     "data": {
      "text/plain": [
       "<Figure size 288x72 with 0 Axes>"
      ]
     },
     "metadata": {},
     "output_type": "display_data"
    },
    {
     "data": {
      "text/plain": [
       "<Figure size 288x72 with 0 Axes>"
      ]
     },
     "metadata": {},
     "output_type": "display_data"
    },
    {
     "data": {
      "text/plain": [
       "<Figure size 288x72 with 0 Axes>"
      ]
     },
     "metadata": {},
     "output_type": "display_data"
    },
    {
     "data": {
      "text/plain": [
       "<Figure size 288x72 with 0 Axes>"
      ]
     },
     "metadata": {},
     "output_type": "display_data"
    },
    {
     "data": {
      "text/plain": [
       "<Figure size 288x72 with 0 Axes>"
      ]
     },
     "metadata": {},
     "output_type": "display_data"
    },
    {
     "data": {
      "text/plain": [
       "<Figure size 288x72 with 0 Axes>"
      ]
     },
     "metadata": {},
     "output_type": "display_data"
    },
    {
     "data": {
      "text/plain": [
       "<Figure size 288x72 with 0 Axes>"
      ]
     },
     "metadata": {},
     "output_type": "display_data"
    },
    {
     "data": {
      "text/plain": [
       "<Figure size 288x72 with 0 Axes>"
      ]
     },
     "metadata": {},
     "output_type": "display_data"
    },
    {
     "data": {
      "text/plain": [
       "<Figure size 288x72 with 0 Axes>"
      ]
     },
     "metadata": {},
     "output_type": "display_data"
    },
    {
     "data": {
      "text/plain": [
       "<Figure size 288x72 with 0 Axes>"
      ]
     },
     "metadata": {},
     "output_type": "display_data"
    },
    {
     "data": {
      "text/plain": [
       "<Figure size 288x72 with 0 Axes>"
      ]
     },
     "metadata": {},
     "output_type": "display_data"
    },
    {
     "data": {
      "text/plain": [
       "<Figure size 288x72 with 0 Axes>"
      ]
     },
     "metadata": {},
     "output_type": "display_data"
    },
    {
     "data": {
      "text/plain": [
       "<Figure size 288x72 with 0 Axes>"
      ]
     },
     "metadata": {},
     "output_type": "display_data"
    },
    {
     "data": {
      "text/plain": [
       "<Figure size 288x72 with 0 Axes>"
      ]
     },
     "metadata": {},
     "output_type": "display_data"
    },
    {
     "data": {
      "text/plain": [
       "<Figure size 288x72 with 0 Axes>"
      ]
     },
     "metadata": {},
     "output_type": "display_data"
    },
    {
     "data": {
      "text/plain": [
       "<Figure size 288x72 with 0 Axes>"
      ]
     },
     "metadata": {},
     "output_type": "display_data"
    },
    {
     "data": {
      "text/plain": [
       "<Figure size 288x72 with 0 Axes>"
      ]
     },
     "metadata": {},
     "output_type": "display_data"
    },
    {
     "data": {
      "text/plain": [
       "<Figure size 288x72 with 0 Axes>"
      ]
     },
     "metadata": {},
     "output_type": "display_data"
    },
    {
     "data": {
      "text/plain": [
       "<Figure size 288x72 with 0 Axes>"
      ]
     },
     "metadata": {},
     "output_type": "display_data"
    },
    {
     "data": {
      "text/plain": [
       "<Figure size 288x72 with 0 Axes>"
      ]
     },
     "metadata": {},
     "output_type": "display_data"
    },
    {
     "data": {
      "text/plain": [
       "<Figure size 288x72 with 0 Axes>"
      ]
     },
     "metadata": {},
     "output_type": "display_data"
    },
    {
     "data": {
      "text/plain": [
       "<Figure size 288x72 with 0 Axes>"
      ]
     },
     "metadata": {},
     "output_type": "display_data"
    },
    {
     "data": {
      "text/plain": [
       "<Figure size 288x72 with 0 Axes>"
      ]
     },
     "metadata": {},
     "output_type": "display_data"
    },
    {
     "data": {
      "text/plain": [
       "<Figure size 288x72 with 0 Axes>"
      ]
     },
     "metadata": {},
     "output_type": "display_data"
    },
    {
     "data": {
      "text/plain": [
       "<Figure size 288x72 with 0 Axes>"
      ]
     },
     "metadata": {},
     "output_type": "display_data"
    },
    {
     "data": {
      "text/plain": [
       "<Figure size 288x72 with 0 Axes>"
      ]
     },
     "metadata": {},
     "output_type": "display_data"
    },
    {
     "data": {
      "text/plain": [
       "<Figure size 288x72 with 0 Axes>"
      ]
     },
     "metadata": {},
     "output_type": "display_data"
    },
    {
     "data": {
      "text/plain": [
       "<Figure size 288x72 with 0 Axes>"
      ]
     },
     "metadata": {},
     "output_type": "display_data"
    },
    {
     "data": {
      "text/plain": [
       "<Figure size 288x72 with 0 Axes>"
      ]
     },
     "metadata": {},
     "output_type": "display_data"
    },
    {
     "data": {
      "text/plain": [
       "<Figure size 288x72 with 0 Axes>"
      ]
     },
     "metadata": {},
     "output_type": "display_data"
    },
    {
     "data": {
      "text/plain": [
       "<Figure size 288x72 with 0 Axes>"
      ]
     },
     "metadata": {},
     "output_type": "display_data"
    },
    {
     "data": {
      "text/plain": [
       "<Figure size 288x72 with 0 Axes>"
      ]
     },
     "metadata": {},
     "output_type": "display_data"
    },
    {
     "data": {
      "text/plain": [
       "<Figure size 288x72 with 0 Axes>"
      ]
     },
     "metadata": {},
     "output_type": "display_data"
    },
    {
     "data": {
      "text/plain": [
       "<Figure size 288x72 with 0 Axes>"
      ]
     },
     "metadata": {},
     "output_type": "display_data"
    },
    {
     "data": {
      "text/plain": [
       "<Figure size 288x72 with 0 Axes>"
      ]
     },
     "metadata": {},
     "output_type": "display_data"
    },
    {
     "data": {
      "text/plain": [
       "<Figure size 288x72 with 0 Axes>"
      ]
     },
     "metadata": {},
     "output_type": "display_data"
    },
    {
     "data": {
      "text/plain": [
       "<Figure size 288x72 with 0 Axes>"
      ]
     },
     "metadata": {},
     "output_type": "display_data"
    },
    {
     "data": {
      "text/plain": [
       "<Figure size 288x72 with 0 Axes>"
      ]
     },
     "metadata": {},
     "output_type": "display_data"
    },
    {
     "data": {
      "text/plain": [
       "<Figure size 288x72 with 0 Axes>"
      ]
     },
     "metadata": {},
     "output_type": "display_data"
    },
    {
     "data": {
      "text/plain": [
       "<Figure size 288x72 with 0 Axes>"
      ]
     },
     "metadata": {},
     "output_type": "display_data"
    },
    {
     "data": {
      "text/plain": [
       "<Figure size 288x72 with 0 Axes>"
      ]
     },
     "metadata": {},
     "output_type": "display_data"
    },
    {
     "data": {
      "text/plain": [
       "<Figure size 288x72 with 0 Axes>"
      ]
     },
     "metadata": {},
     "output_type": "display_data"
    },
    {
     "data": {
      "text/plain": [
       "<Figure size 288x72 with 0 Axes>"
      ]
     },
     "metadata": {},
     "output_type": "display_data"
    },
    {
     "data": {
      "text/plain": [
       "<Figure size 288x72 with 0 Axes>"
      ]
     },
     "metadata": {},
     "output_type": "display_data"
    },
    {
     "data": {
      "text/plain": [
       "<Figure size 288x72 with 0 Axes>"
      ]
     },
     "metadata": {},
     "output_type": "display_data"
    },
    {
     "data": {
      "text/plain": [
       "<Figure size 288x72 with 0 Axes>"
      ]
     },
     "metadata": {},
     "output_type": "display_data"
    },
    {
     "data": {
      "text/plain": [
       "<Figure size 288x72 with 0 Axes>"
      ]
     },
     "metadata": {},
     "output_type": "display_data"
    },
    {
     "data": {
      "text/plain": [
       "<Figure size 288x72 with 0 Axes>"
      ]
     },
     "metadata": {},
     "output_type": "display_data"
    },
    {
     "data": {
      "text/plain": [
       "<Figure size 288x72 with 0 Axes>"
      ]
     },
     "metadata": {},
     "output_type": "display_data"
    },
    {
     "data": {
      "text/plain": [
       "<Figure size 288x72 with 0 Axes>"
      ]
     },
     "metadata": {},
     "output_type": "display_data"
    },
    {
     "data": {
      "text/plain": [
       "<Figure size 288x72 with 0 Axes>"
      ]
     },
     "metadata": {},
     "output_type": "display_data"
    },
    {
     "data": {
      "text/plain": [
       "<Figure size 288x72 with 0 Axes>"
      ]
     },
     "metadata": {},
     "output_type": "display_data"
    },
    {
     "data": {
      "text/plain": [
       "<Figure size 288x72 with 0 Axes>"
      ]
     },
     "metadata": {},
     "output_type": "display_data"
    },
    {
     "data": {
      "text/plain": [
       "<Figure size 288x72 with 0 Axes>"
      ]
     },
     "metadata": {},
     "output_type": "display_data"
    },
    {
     "data": {
      "text/plain": [
       "<Figure size 288x72 with 0 Axes>"
      ]
     },
     "metadata": {},
     "output_type": "display_data"
    },
    {
     "data": {
      "text/plain": [
       "<Figure size 288x72 with 0 Axes>"
      ]
     },
     "metadata": {},
     "output_type": "display_data"
    },
    {
     "data": {
      "text/plain": [
       "<Figure size 288x72 with 0 Axes>"
      ]
     },
     "metadata": {},
     "output_type": "display_data"
    },
    {
     "data": {
      "text/plain": [
       "<Figure size 288x72 with 0 Axes>"
      ]
     },
     "metadata": {},
     "output_type": "display_data"
    },
    {
     "data": {
      "text/plain": [
       "<Figure size 288x72 with 0 Axes>"
      ]
     },
     "metadata": {},
     "output_type": "display_data"
    },
    {
     "data": {
      "text/plain": [
       "<Figure size 288x72 with 0 Axes>"
      ]
     },
     "metadata": {},
     "output_type": "display_data"
    },
    {
     "data": {
      "text/plain": [
       "<Figure size 288x72 with 0 Axes>"
      ]
     },
     "metadata": {},
     "output_type": "display_data"
    },
    {
     "data": {
      "text/plain": [
       "<Figure size 288x72 with 0 Axes>"
      ]
     },
     "metadata": {},
     "output_type": "display_data"
    },
    {
     "data": {
      "text/plain": [
       "<Figure size 288x72 with 0 Axes>"
      ]
     },
     "metadata": {},
     "output_type": "display_data"
    },
    {
     "data": {
      "text/plain": [
       "<Figure size 288x72 with 0 Axes>"
      ]
     },
     "metadata": {},
     "output_type": "display_data"
    },
    {
     "data": {
      "text/plain": [
       "<Figure size 288x72 with 0 Axes>"
      ]
     },
     "metadata": {},
     "output_type": "display_data"
    },
    {
     "data": {
      "text/plain": [
       "<Figure size 288x72 with 0 Axes>"
      ]
     },
     "metadata": {},
     "output_type": "display_data"
    },
    {
     "data": {
      "text/plain": [
       "<Figure size 288x72 with 0 Axes>"
      ]
     },
     "metadata": {},
     "output_type": "display_data"
    }
   ],
   "source": [
    "def make_all_plots(crimes = col_labels):\n",
    "    for city in mega_hist.reset_index()[\"City\"].unique():\n",
    "        for crime in crimes:\n",
    "            try:\n",
    "                small(city, crime)\n",
    "            except:\n",
    "                print city, crime\n",
    "                continue\n",
    "#make_all_plots(crimes=[\"violent-crimes\"])\n",
    "make_all_plots()"
   ]
  },
  {
   "cell_type": "code",
   "execution_count": 76,
   "metadata": {},
   "outputs": [
    {
     "data": {
      "text/html": [
       "<div>\n",
       "<style scoped>\n",
       "    .dataframe tbody tr th:only-of-type {\n",
       "        vertical-align: middle;\n",
       "    }\n",
       "\n",
       "    .dataframe tbody tr th {\n",
       "        vertical-align: top;\n",
       "    }\n",
       "\n",
       "    .dataframe thead th {\n",
       "        text-align: right;\n",
       "    }\n",
       "</style>\n",
       "<table border=\"1\" class=\"dataframe\">\n",
       "  <thead>\n",
       "    <tr style=\"text-align: right;\">\n",
       "      <th></th>\n",
       "      <th>2006</th>\n",
       "      <th>2007</th>\n",
       "      <th>2008</th>\n",
       "      <th>2009</th>\n",
       "      <th>2010</th>\n",
       "      <th>2011</th>\n",
       "      <th>2012</th>\n",
       "      <th>2013</th>\n",
       "      <th>2014</th>\n",
       "      <th>2015</th>\n",
       "      <th>...</th>\n",
       "      <th>2014_diff_pct</th>\n",
       "      <th>2014_hist</th>\n",
       "      <th>2014_new</th>\n",
       "      <th>2015</th>\n",
       "      <th>2016</th>\n",
       "      <th>2017</th>\n",
       "      <th>Agency</th>\n",
       "      <th>State</th>\n",
       "      <th>Unnamed: 32</th>\n",
       "      <th>crime</th>\n",
       "    </tr>\n",
       "    <tr>\n",
       "      <th>City</th>\n",
       "      <th></th>\n",
       "      <th></th>\n",
       "      <th></th>\n",
       "      <th></th>\n",
       "      <th></th>\n",
       "      <th></th>\n",
       "      <th></th>\n",
       "      <th></th>\n",
       "      <th></th>\n",
       "      <th></th>\n",
       "      <th></th>\n",
       "      <th></th>\n",
       "      <th></th>\n",
       "      <th></th>\n",
       "      <th></th>\n",
       "      <th></th>\n",
       "      <th></th>\n",
       "      <th></th>\n",
       "      <th></th>\n",
       "      <th></th>\n",
       "      <th></th>\n",
       "    </tr>\n",
       "  </thead>\n",
       "  <tbody>\n",
       "    <tr>\n",
       "      <th>Easton</th>\n",
       "      <td>NaN</td>\n",
       "      <td>NaN</td>\n",
       "      <td>NaN</td>\n",
       "      <td>NaN</td>\n",
       "      <td>NaN</td>\n",
       "      <td>NaN</td>\n",
       "      <td>NaN</td>\n",
       "      <td>NaN</td>\n",
       "      <td>NaN</td>\n",
       "      <td>NaN</td>\n",
       "      <td>...</td>\n",
       "      <td>NaN</td>\n",
       "      <td>NaN</td>\n",
       "      <td>20.0</td>\n",
       "      <td>16.0</td>\n",
       "      <td>33.0</td>\n",
       "      <td>6.0</td>\n",
       "      <td>NaN</td>\n",
       "      <td>NaN</td>\n",
       "      <td>NaN</td>\n",
       "      <td>larceny</td>\n",
       "    </tr>\n",
       "  </tbody>\n",
       "</table>\n",
       "<p>1 rows × 85 columns</p>\n",
       "</div>"
      ],
      "text/plain": [
       "        2006  2007  2008  2009  2010  2011  2012  2013  2014  2015   ...     \\\n",
       "City                                                                 ...      \n",
       "Easton   NaN   NaN   NaN   NaN   NaN   NaN   NaN   NaN   NaN   NaN   ...      \n",
       "\n",
       "        2014_diff_pct  2014_hist  2014_new  2015  2016  2017  Agency  State  \\\n",
       "City                                                                          \n",
       "Easton            NaN        NaN      20.0  16.0  33.0   6.0     NaN    NaN   \n",
       "\n",
       "        Unnamed: 32    crime  \n",
       "City                          \n",
       "Easton          NaN  larceny  \n",
       "\n",
       "[1 rows x 85 columns]"
      ]
     },
     "execution_count": 76,
     "metadata": {},
     "output_type": "execute_result"
    }
   ],
   "source": [
    "def debug_chart(city, crime):\n",
    "\n",
    "    return mega_hist[(mega_hist.index == city) &\n",
    "              (mega_hist[\"crime\"] == crime)]\n",
    "\n",
    "debug_chart(\"Easton\",\"larceny\")"
   ]
  },
  {
   "cell_type": "code",
   "execution_count": 77,
   "metadata": {},
   "outputs": [
    {
     "data": {
      "text/html": [
       "<div>\n",
       "<style scoped>\n",
       "    .dataframe tbody tr th:only-of-type {\n",
       "        vertical-align: middle;\n",
       "    }\n",
       "\n",
       "    .dataframe tbody tr th {\n",
       "        vertical-align: top;\n",
       "    }\n",
       "\n",
       "    .dataframe thead th {\n",
       "        text-align: right;\n",
       "    }\n",
       "</style>\n",
       "<table border=\"1\" class=\"dataframe\">\n",
       "  <thead>\n",
       "    <tr style=\"text-align: right;\">\n",
       "      <th></th>\n",
       "      <th>2006</th>\n",
       "      <th>2007</th>\n",
       "      <th>2008</th>\n",
       "      <th>2009</th>\n",
       "      <th>2010</th>\n",
       "      <th>2011</th>\n",
       "      <th>2012</th>\n",
       "      <th>2013</th>\n",
       "      <th>2014</th>\n",
       "      <th>2015</th>\n",
       "      <th>...</th>\n",
       "      <th>2014_diff_pct</th>\n",
       "      <th>2014_hist</th>\n",
       "      <th>2014_new</th>\n",
       "      <th>2015</th>\n",
       "      <th>2016</th>\n",
       "      <th>2017</th>\n",
       "      <th>Agency</th>\n",
       "      <th>State</th>\n",
       "      <th>Unnamed: 32</th>\n",
       "      <th>crime</th>\n",
       "    </tr>\n",
       "    <tr>\n",
       "      <th>City</th>\n",
       "      <th></th>\n",
       "      <th></th>\n",
       "      <th></th>\n",
       "      <th></th>\n",
       "      <th></th>\n",
       "      <th></th>\n",
       "      <th></th>\n",
       "      <th></th>\n",
       "      <th></th>\n",
       "      <th></th>\n",
       "      <th></th>\n",
       "      <th></th>\n",
       "      <th></th>\n",
       "      <th></th>\n",
       "      <th></th>\n",
       "      <th></th>\n",
       "      <th></th>\n",
       "      <th></th>\n",
       "      <th></th>\n",
       "      <th></th>\n",
       "      <th></th>\n",
       "    </tr>\n",
       "  </thead>\n",
       "  <tbody>\n",
       "    <tr>\n",
       "      <th>Hartford</th>\n",
       "      <td>NaN</td>\n",
       "      <td>NaN</td>\n",
       "      <td>NaN</td>\n",
       "      <td>NaN</td>\n",
       "      <td>NaN</td>\n",
       "      <td>NaN</td>\n",
       "      <td>NaN</td>\n",
       "      <td>NaN</td>\n",
       "      <td>NaN</td>\n",
       "      <td>NaN</td>\n",
       "      <td>...</td>\n",
       "      <td>0.0</td>\n",
       "      <td>19.0</td>\n",
       "      <td>19.0</td>\n",
       "      <td>32.0</td>\n",
       "      <td>14.0</td>\n",
       "      <td>29.0</td>\n",
       "      <td>Hartford Police Dept</td>\n",
       "      <td>CT</td>\n",
       "      <td>NaN</td>\n",
       "      <td>murder</td>\n",
       "    </tr>\n",
       "  </tbody>\n",
       "</table>\n",
       "<p>1 rows × 85 columns</p>\n",
       "</div>"
      ],
      "text/plain": [
       "          2006  2007  2008  2009  2010  2011  2012  2013  2014  2015   ...    \\\n",
       "City                                                                   ...     \n",
       "Hartford   NaN   NaN   NaN   NaN   NaN   NaN   NaN   NaN   NaN   NaN   ...     \n",
       "\n",
       "          2014_diff_pct  2014_hist  2014_new  2015  2016  2017  \\\n",
       "City                                                             \n",
       "Hartford            0.0       19.0      19.0  32.0  14.0  29.0   \n",
       "\n",
       "                        Agency  State  Unnamed: 32   crime  \n",
       "City                                                        \n",
       "Hartford  Hartford Police Dept     CT          NaN  murder  \n",
       "\n",
       "[1 rows x 85 columns]"
      ]
     },
     "execution_count": 77,
     "metadata": {},
     "output_type": "execute_result"
    }
   ],
   "source": [
    "debug_chart(\"Hartford\",\"murder\")"
   ]
  },
  {
   "cell_type": "code",
   "execution_count": null,
   "metadata": {},
   "outputs": [],
   "source": []
  },
  {
   "cell_type": "code",
   "execution_count": null,
   "metadata": {},
   "outputs": [],
   "source": []
  },
  {
   "cell_type": "code",
   "execution_count": null,
   "metadata": {},
   "outputs": [],
   "source": []
  },
  {
   "cell_type": "code",
   "execution_count": null,
   "metadata": {},
   "outputs": [],
   "source": []
  },
  {
   "cell_type": "code",
   "execution_count": null,
   "metadata": {},
   "outputs": [],
   "source": []
  },
  {
   "cell_type": "code",
   "execution_count": null,
   "metadata": {},
   "outputs": [],
   "source": []
  },
  {
   "cell_type": "code",
   "execution_count": null,
   "metadata": {},
   "outputs": [],
   "source": []
  },
  {
   "cell_type": "code",
   "execution_count": null,
   "metadata": {},
   "outputs": [],
   "source": []
  },
  {
   "cell_type": "code",
   "execution_count": null,
   "metadata": {},
   "outputs": [],
   "source": []
  }
 ],
 "metadata": {
  "kernelspec": {
   "display_name": "Python 2",
   "language": "python",
   "name": "python2"
  },
  "language_info": {
   "codemirror_mode": {
    "name": "ipython",
    "version": 2
   },
   "file_extension": ".py",
   "mimetype": "text/x-python",
   "name": "python",
   "nbconvert_exporter": "python",
   "pygments_lexer": "ipython2",
   "version": "2.7.10"
  }
 },
 "nbformat": 4,
 "nbformat_minor": 1
}
