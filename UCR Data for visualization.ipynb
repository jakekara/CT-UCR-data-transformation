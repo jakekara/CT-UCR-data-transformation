{
 "cells": [
  {
   "cell_type": "markdown",
   "metadata": {},
   "source": [
    "# Data visualization for [CT Crime Trends](https://projects.ctmirror.org/content/2017/9/fbi-crime-data/)\n"
   ]
  },
  {
   "cell_type": "code",
   "execution_count": 1,
   "metadata": {
    "collapsed": true
   },
   "outputs": [],
   "source": [
    "import pandas as pd"
   ]
  },
  {
   "cell_type": "code",
   "execution_count": 2,
   "metadata": {
    "collapsed": false
   },
   "outputs": [
    {
     "data": {
      "text/plain": [
       "'Test Name'"
      ]
     },
     "execution_count": 2,
     "metadata": {},
     "output_type": "execute_result"
    }
   ],
   "source": [
    "import re\n",
    "def fixname(name):\n",
    "    #print name\n",
    "    ret =  re.sub(r'[^A-Za-z ]+',\"\",str(name).title())\n",
    "    #print name, \"->\", ret\n",
    "    #return ret\n",
    "    return ret\n",
    "\n",
    "fixname(\"Test Name6\")"
   ]
  },
  {
   "cell_type": "code",
   "execution_count": 3,
   "metadata": {
    "collapsed": false
   },
   "outputs": [],
   "source": [
    "# Get data from sheets that include 2006 through 2016\n",
    "def get_data():\n",
    "    \n",
    "    ret = {}\n",
    "    \n",
    "    ret[2006] = pd.read_excel(\"data/2006/06tbl08ct.xls\",skiprows=4)\n",
    "    ret[2007] = pd.read_excel(\"data/2007/07tbl08ct.xls\",skiprows=4)\n",
    "    ret[2008] = pd.read_excel(\"data/2008/08tbl08ct.xls\",skiprows=4)\n",
    "    ret[2009] = pd.read_excel(\"data/2009/09tbl08ct.xls\",skiprows=4)\n",
    "    ret[2010] = pd.read_excel(\"data/2010/10tbl08ct.xls\",skiprows=4)\n",
    "    ret[2011] = pd.read_excel(\"data/2011/Table8StateCuts/Table_8_Offenses_Known_to_Law_Enforcement_Connecticut_by_City_2011.xls\",\n",
    "                              skiprows=4)\n",
    "    ret[2012] = pd.read_excel(\"data/2012/Table 8 State cuts/Table_8_Offenses_Known_to_Law_Enforcement_by_Connecticut_by_City_2012.xls\",\n",
    "                             skiprows=4)\n",
    "    ret[2013] = pd.read_excel(\"data/2013/Table 8 state cuts/Table_8_Offenses_Known_to_Law_Enforcement_Connecticut_by_City_2013.xls\",\n",
    "                             skiprows=4)\n",
    "    ret[2014] = pd.read_excel(\"data/2014/Table 8 pieces/Table_8_Offenses_Known_to_Law_Enforcement_by_Connecticut_by_City_2014.xls\",\n",
    "                             skiprows=4)\n",
    "    ret[2015] = pd.read_excel(\"data/2015/Table 8 pieces/Table_8_Offenses_Known_to_Law_Enforcement_Connecticut_by_City_2015.xls\",\n",
    "                             skiprows=4)\n",
    "    ret[2016] = pd.read_excel(\"data/2016/Table 6 pieces/Table_6_Offenses_Known_to_Law_Enforcement_Connecticut_by_City_2016.xls\",\n",
    "                             skiprows=4)\n",
    "    \n",
    "    for y in range(2006,2017):\n",
    "        ret[y][\"City\"] = ret[y][\"City\"].apply(fixname)\n",
    "    \n",
    "    \n",
    "    return ret\n",
    "data = get_data()"
   ]
  },
  {
   "cell_type": "code",
   "execution_count": 4,
   "metadata": {
    "collapsed": false
   },
   "outputs": [
    {
     "data": {
      "text/html": [
       "<div>\n",
       "<table border=\"1\" class=\"dataframe\">\n",
       "  <thead>\n",
       "    <tr style=\"text-align: right;\">\n",
       "      <th></th>\n",
       "      <th>2006</th>\n",
       "      <th>2007</th>\n",
       "      <th>2008</th>\n",
       "      <th>2009</th>\n",
       "      <th>2010</th>\n",
       "      <th>2011</th>\n",
       "      <th>2012</th>\n",
       "      <th>2013</th>\n",
       "      <th>2014</th>\n",
       "      <th>2015</th>\n",
       "      <th>2016</th>\n",
       "    </tr>\n",
       "    <tr>\n",
       "      <th>City</th>\n",
       "      <th></th>\n",
       "      <th></th>\n",
       "      <th></th>\n",
       "      <th></th>\n",
       "      <th></th>\n",
       "      <th></th>\n",
       "      <th></th>\n",
       "      <th></th>\n",
       "      <th></th>\n",
       "      <th></th>\n",
       "      <th></th>\n",
       "    </tr>\n",
       "  </thead>\n",
       "  <tbody>\n",
       "    <tr>\n",
       "      <th>Ansonia</th>\n",
       "      <td>22</td>\n",
       "      <td>38.0</td>\n",
       "      <td>26.0</td>\n",
       "      <td>36.0</td>\n",
       "      <td>27.0</td>\n",
       "      <td>30.0</td>\n",
       "      <td>29.0</td>\n",
       "      <td>33.0</td>\n",
       "      <td>36.0</td>\n",
       "      <td>25.0</td>\n",
       "      <td>24.0</td>\n",
       "    </tr>\n",
       "    <tr>\n",
       "      <th>Avon</th>\n",
       "      <td>5</td>\n",
       "      <td>3.0</td>\n",
       "      <td>4.0</td>\n",
       "      <td>8.0</td>\n",
       "      <td>5.0</td>\n",
       "      <td>0.0</td>\n",
       "      <td>5.0</td>\n",
       "      <td>12.0</td>\n",
       "      <td>2.0</td>\n",
       "      <td>2.0</td>\n",
       "      <td>1.0</td>\n",
       "    </tr>\n",
       "    <tr>\n",
       "      <th>Berlin</th>\n",
       "      <td>19</td>\n",
       "      <td>13.0</td>\n",
       "      <td>21.0</td>\n",
       "      <td>12.0</td>\n",
       "      <td>15.0</td>\n",
       "      <td>15.0</td>\n",
       "      <td>21.0</td>\n",
       "      <td>14.0</td>\n",
       "      <td>11.0</td>\n",
       "      <td>15.0</td>\n",
       "      <td>20.0</td>\n",
       "    </tr>\n",
       "    <tr>\n",
       "      <th>Bethel</th>\n",
       "      <td>7</td>\n",
       "      <td>6.0</td>\n",
       "      <td>4.0</td>\n",
       "      <td>1.0</td>\n",
       "      <td>5.0</td>\n",
       "      <td>1.0</td>\n",
       "      <td>6.0</td>\n",
       "      <td>3.0</td>\n",
       "      <td>0.0</td>\n",
       "      <td>4.0</td>\n",
       "      <td>1.0</td>\n",
       "    </tr>\n",
       "    <tr>\n",
       "      <th>Bloomfield</th>\n",
       "      <td>NaN</td>\n",
       "      <td>54.0</td>\n",
       "      <td>32.0</td>\n",
       "      <td>47.0</td>\n",
       "      <td>32.0</td>\n",
       "      <td>43.0</td>\n",
       "      <td>31.0</td>\n",
       "      <td>46.0</td>\n",
       "      <td>39.0</td>\n",
       "      <td>57.0</td>\n",
       "      <td>52.0</td>\n",
       "    </tr>\n",
       "  </tbody>\n",
       "</table>\n",
       "</div>"
      ],
      "text/plain": [
       "           2006  2007  2008  2009  2010  2011  2012  2013  2014  2015  2016\n",
       "City                                                                       \n",
       "Ansonia      22  38.0  26.0  36.0  27.0  30.0  29.0  33.0  36.0  25.0  24.0\n",
       "Avon          5   3.0   4.0   8.0   5.0   0.0   5.0  12.0   2.0   2.0   1.0\n",
       "Berlin       19  13.0  21.0  12.0  15.0  15.0  21.0  14.0  11.0  15.0  20.0\n",
       "Bethel        7   6.0   4.0   1.0   5.0   1.0   6.0   3.0   0.0   4.0   1.0\n",
       "Bloomfield  NaN  54.0  32.0  47.0  32.0  43.0  31.0  46.0  39.0  57.0  52.0"
      ]
     },
     "execution_count": 4,
     "metadata": {},
     "output_type": "execute_result"
    }
   ],
   "source": [
    "# Make a timeline dataframe from a given column\n",
    "def make_frame(col_names):\n",
    "    \n",
    "    df = None\n",
    "    ret = None\n",
    "    \n",
    "    for y in range(2006,2017):\n",
    "        df = None\n",
    "        try:\n",
    "            df = data[y]#.set_index(\"City\")\n",
    "\n",
    "            df[\"City\"] = df[\"City\"].apply(lambda x: fixname(x))\n",
    "            df = df[df[\"City\"].notnull()]\n",
    "            #return df[\"City\"]\n",
    "            df = df.set_index(\"City\")\n",
    "            #return df\n",
    "\n",
    "            df.columns = df.columns.map(lambda x: str(x).replace(\"\\n\",\" \"))\n",
    "\n",
    "            for col_name in col_names:\n",
    "                #print \"trying\", col_name, col_names\n",
    "                try:\n",
    "                    df[y] = df[col_name]\n",
    "                    #print \"got df\", y, col_name\n",
    "                    break\n",
    "                except:\n",
    "                    continue\n",
    "            if ret is None:\n",
    "                ret = df[[#\"Population\", \n",
    "                        y]]\n",
    "            else:\n",
    "                ret = ret.join(df[[y]],how=\"outer\",rsuffix=\"_\" + str(y))\n",
    "        except Exception as e:\n",
    "            print \"Error in \" + str(y), df.columns\n",
    "            print \"ERROR: \", e\n",
    "    \n",
    "    # remove all-null rows\n",
    "    try:\n",
    "        ret = ret.dropna(axis=0, how='all')#, thresh=None, subset=None, inplace=False)\n",
    "    except:\n",
    "        pass\n",
    "    \n",
    "    return ret\n",
    "\n",
    "viol_crime = make_frame([\"Violent crime\"])\n",
    "viol_crime.head()"
   ]
  },
  {
   "cell_type": "code",
   "execution_count": 5,
   "metadata": {
    "collapsed": false
   },
   "outputs": [
    {
     "data": {
      "text/plain": [
       "[u'City',\n",
       " u'Population',\n",
       " u'Violent crime',\n",
       " u'Murder and nonnegligent manslaughter',\n",
       " u'Forcible rape',\n",
       " u'Robbery',\n",
       " u'Aggravated assault',\n",
       " u'Property crime',\n",
       " u'Burglary',\n",
       " u'Larceny-theft',\n",
       " u'Motor vehicle theft',\n",
       " u'Arson1',\n",
       " 'Unnamed: 12',\n",
       " 'Unnamed: 13',\n",
       " u'Arson',\n",
       " u'Violent\\ncrime',\n",
       " u'Murder and\\nnonnegligent\\nmanslaughter',\n",
       " u'Forcible\\nrape',\n",
       " u'Aggravated\\nassault',\n",
       " u'Property\\ncrime',\n",
       " u'Larceny-\\ntheft',\n",
       " u'Motor\\nvehicle\\ntheft',\n",
       " u'Rape\\n(revised\\ndefinition)1',\n",
       " u'Rape\\n(legacy\\ndefinition)2',\n",
       " u'Arson3']"
      ]
     },
     "execution_count": 5,
     "metadata": {},
     "output_type": "execute_result"
    }
   ],
   "source": [
    "# List all column names\n",
    "\n",
    "def list_cols():\n",
    "    cols = []\n",
    "    for y in range(2006,2017):\n",
    "        for c in data[y].columns:\n",
    "            #print c\n",
    "            if c not in cols: \n",
    "                cols.append(c)\n",
    "    return cols\n",
    "list_cols()"
   ]
  },
  {
   "cell_type": "code",
   "execution_count": 6,
   "metadata": {
    "collapsed": false
   },
   "outputs": [
    {
     "data": {
      "text/html": [
       "<div>\n",
       "<table border=\"1\" class=\"dataframe\">\n",
       "  <thead>\n",
       "    <tr style=\"text-align: right;\">\n",
       "      <th></th>\n",
       "      <th>2006</th>\n",
       "      <th>2007</th>\n",
       "      <th>2008</th>\n",
       "      <th>2009</th>\n",
       "      <th>2010</th>\n",
       "      <th>2011</th>\n",
       "      <th>2012</th>\n",
       "      <th>2013</th>\n",
       "      <th>2014</th>\n",
       "      <th>2015</th>\n",
       "      <th>2016</th>\n",
       "    </tr>\n",
       "    <tr>\n",
       "      <th>Crime</th>\n",
       "      <th></th>\n",
       "      <th></th>\n",
       "      <th></th>\n",
       "      <th></th>\n",
       "      <th></th>\n",
       "      <th></th>\n",
       "      <th></th>\n",
       "      <th></th>\n",
       "      <th></th>\n",
       "      <th></th>\n",
       "      <th></th>\n",
       "    </tr>\n",
       "  </thead>\n",
       "  <tbody>\n",
       "    <tr>\n",
       "      <th>larceny</th>\n",
       "      <td>5957</td>\n",
       "      <td>4437.0</td>\n",
       "      <td>4048.0</td>\n",
       "      <td>4061.0</td>\n",
       "      <td>3639.0</td>\n",
       "      <td>3372.0</td>\n",
       "      <td>3467.0</td>\n",
       "      <td>3416.0</td>\n",
       "      <td>3642.0</td>\n",
       "      <td>3613.0</td>\n",
       "      <td>3616.0</td>\n",
       "    </tr>\n",
       "    <tr>\n",
       "      <th>assault</th>\n",
       "      <td>761</td>\n",
       "      <td>680.0</td>\n",
       "      <td>782.0</td>\n",
       "      <td>921.0</td>\n",
       "      <td>982.0</td>\n",
       "      <td>955.0</td>\n",
       "      <td>965.0</td>\n",
       "      <td>840.0</td>\n",
       "      <td>814.0</td>\n",
       "      <td>835.0</td>\n",
       "      <td>798.0</td>\n",
       "    </tr>\n",
       "    <tr>\n",
       "      <th>murder</th>\n",
       "      <td>24</td>\n",
       "      <td>31.0</td>\n",
       "      <td>31.0</td>\n",
       "      <td>33.0</td>\n",
       "      <td>26.0</td>\n",
       "      <td>27.0</td>\n",
       "      <td>23.0</td>\n",
       "      <td>23.0</td>\n",
       "      <td>19.0</td>\n",
       "      <td>32.0</td>\n",
       "      <td>14.0</td>\n",
       "    </tr>\n",
       "    <tr>\n",
       "      <th>arson</th>\n",
       "      <td>87</td>\n",
       "      <td>107.0</td>\n",
       "      <td>97.0</td>\n",
       "      <td>84.0</td>\n",
       "      <td>95.0</td>\n",
       "      <td>91.0</td>\n",
       "      <td>88.0</td>\n",
       "      <td>45.0</td>\n",
       "      <td>45.0</td>\n",
       "      <td>55.0</td>\n",
       "      <td>112.0</td>\n",
       "    </tr>\n",
       "    <tr>\n",
       "      <th>robbery</th>\n",
       "      <td>758</td>\n",
       "      <td>642.0</td>\n",
       "      <td>629.0</td>\n",
       "      <td>600.0</td>\n",
       "      <td>570.0</td>\n",
       "      <td>602.0</td>\n",
       "      <td>640.0</td>\n",
       "      <td>557.0</td>\n",
       "      <td>502.0</td>\n",
       "      <td>510.0</td>\n",
       "      <td>476.0</td>\n",
       "    </tr>\n",
       "    <tr>\n",
       "      <th>mv-theft</th>\n",
       "      <td>1709</td>\n",
       "      <td>1601.0</td>\n",
       "      <td>1326.0</td>\n",
       "      <td>993.0</td>\n",
       "      <td>837.0</td>\n",
       "      <td>859.0</td>\n",
       "      <td>802.0</td>\n",
       "      <td>639.0</td>\n",
       "      <td>750.0</td>\n",
       "      <td>897.0</td>\n",
       "      <td>773.0</td>\n",
       "    </tr>\n",
       "    <tr>\n",
       "      <th>burglary</th>\n",
       "      <td>1158</td>\n",
       "      <td>1168.0</td>\n",
       "      <td>1000.0</td>\n",
       "      <td>1135.0</td>\n",
       "      <td>1019.0</td>\n",
       "      <td>1271.0</td>\n",
       "      <td>1050.0</td>\n",
       "      <td>981.0</td>\n",
       "      <td>888.0</td>\n",
       "      <td>958.0</td>\n",
       "      <td>808.0</td>\n",
       "    </tr>\n",
       "    <tr>\n",
       "      <th>property</th>\n",
       "      <td>8824</td>\n",
       "      <td>7206.0</td>\n",
       "      <td>6374.0</td>\n",
       "      <td>6189.0</td>\n",
       "      <td>5495.0</td>\n",
       "      <td>5502.0</td>\n",
       "      <td>5319.0</td>\n",
       "      <td>5036.0</td>\n",
       "      <td>5280.0</td>\n",
       "      <td>5468.0</td>\n",
       "      <td>5197.0</td>\n",
       "    </tr>\n",
       "    <tr>\n",
       "      <th>violent-crimes</th>\n",
       "      <td>1590</td>\n",
       "      <td>1411.0</td>\n",
       "      <td>1503.0</td>\n",
       "      <td>1603.0</td>\n",
       "      <td>1624.0</td>\n",
       "      <td>1639.0</td>\n",
       "      <td>1655.0</td>\n",
       "      <td>1473.0</td>\n",
       "      <td>1380.0</td>\n",
       "      <td>1421.0</td>\n",
       "      <td>1353.0</td>\n",
       "    </tr>\n",
       "    <tr>\n",
       "      <th>rape</th>\n",
       "      <td>47</td>\n",
       "      <td>58.0</td>\n",
       "      <td>61.0</td>\n",
       "      <td>49.0</td>\n",
       "      <td>46.0</td>\n",
       "      <td>55.0</td>\n",
       "      <td>27.0</td>\n",
       "      <td>NaN</td>\n",
       "      <td>45.0</td>\n",
       "      <td>44.0</td>\n",
       "      <td>65.0</td>\n",
       "    </tr>\n",
       "  </tbody>\n",
       "</table>\n",
       "</div>"
      ],
      "text/plain": [
       "                2006    2007    2008    2009    2010    2011    2012    2013  \\\n",
       "Crime                                                                          \n",
       "larceny         5957  4437.0  4048.0  4061.0  3639.0  3372.0  3467.0  3416.0   \n",
       "assault          761   680.0   782.0   921.0   982.0   955.0   965.0   840.0   \n",
       "murder            24    31.0    31.0    33.0    26.0    27.0    23.0    23.0   \n",
       "arson             87   107.0    97.0    84.0    95.0    91.0    88.0    45.0   \n",
       "robbery          758   642.0   629.0   600.0   570.0   602.0   640.0   557.0   \n",
       "mv-theft        1709  1601.0  1326.0   993.0   837.0   859.0   802.0   639.0   \n",
       "burglary        1158  1168.0  1000.0  1135.0  1019.0  1271.0  1050.0   981.0   \n",
       "property        8824  7206.0  6374.0  6189.0  5495.0  5502.0  5319.0  5036.0   \n",
       "violent-crimes  1590  1411.0  1503.0  1603.0  1624.0  1639.0  1655.0  1473.0   \n",
       "rape              47    58.0    61.0    49.0    46.0    55.0    27.0     NaN   \n",
       "\n",
       "                  2014    2015    2016  \n",
       "Crime                                   \n",
       "larceny         3642.0  3613.0  3616.0  \n",
       "assault          814.0   835.0   798.0  \n",
       "murder            19.0    32.0    14.0  \n",
       "arson             45.0    55.0   112.0  \n",
       "robbery          502.0   510.0   476.0  \n",
       "mv-theft         750.0   897.0   773.0  \n",
       "burglary         888.0   958.0   808.0  \n",
       "property        5280.0  5468.0  5197.0  \n",
       "violent-crimes  1380.0  1421.0  1353.0  \n",
       "rape              45.0    44.0    65.0  "
      ]
     },
     "execution_count": 6,
     "metadata": {},
     "output_type": "execute_result"
    }
   ],
   "source": [
    "# labels are file names from manual pull folder (historical data back farther than 2006)\n",
    "# and the arrays are all acceptable column names used in the newer data sheets\n",
    "col_labels = {\n",
    "    \"violent-crimes\":[\"Violent crime\",'Violent\\ncrime'],\n",
    "    \"murder\": ['Murder and nonnegligent manslaughter',\n",
    "              'Murder and\\nnonnegligent\\nmanslaughter'],\n",
    "    \"rape\": ['Forcible rape',\n",
    "             'Forcible\\nrape',\n",
    "             'Rape\\n(revised\\ndefinition)1',\n",
    "             'Rape (revised definition)1',\n",
    "             'Rape\\n(legacy\\ndefinition)2'],\n",
    "    \"robbery\": ['Robbery'],\n",
    "    \"assault\": ['Aggravated assault','Aggravated\\nassault'],\n",
    "    'property':['Property crime','Property\\ncrime'],\n",
    "    'burglary':['Burglary'],\n",
    "    'larceny':['Larceny-\\ntheft','Larceny-theft','Larceny- theft'],\n",
    "    'mv-theft':['Motor vehicle theft','Motor\\nvehicle\\ntheft'],\n",
    "    'arson':['Arson1','Arson','Arson3']\n",
    "    #'UNKNOWN':['Unnamed: 12','Unnamed: 13']\n",
    "}\n",
    "\n",
    "\n",
    "def make_timetable(town):\n",
    "\n",
    "    # Dictionary of equilvant columns\n",
    "\n",
    "    df = None\n",
    "    frames = []\n",
    "    for label in col_labels:\n",
    "        cur_label = col_labels[label]\n",
    "        #print \"Trying \", cur_label\n",
    "        df = make_frame(cur_label)\n",
    "        df = df[df.index == town]\n",
    "        #print \"OK, got dataframe for \" + label\n",
    "        df[\"Crime\"] = label\n",
    "        frames.append(df.set_index(\"Crime\"))\n",
    "        \n",
    "    return pd.concat(frames)\n",
    "        \n",
    "make_timetable(\"Hartford\")"
   ]
  },
  {
   "cell_type": "code",
   "execution_count": 7,
   "metadata": {
    "collapsed": false
   },
   "outputs": [
    {
     "data": {
      "text/plain": [
       "['Groton Town',\n",
       " 'Ansonia',\n",
       " 'Avon',\n",
       " 'Berlin',\n",
       " 'Bethel',\n",
       " 'Bloomfield',\n",
       " 'Branford',\n",
       " 'Bridgeport',\n",
       " 'Bristol',\n",
       " 'Brookfield']"
      ]
     },
     "execution_count": 7,
     "metadata": {},
     "output_type": "execute_result"
    }
   ],
   "source": [
    "# generate a list of all cities\n",
    "\n",
    "def all_cities():\n",
    "    ret = []\n",
    "    for y in range(2006,2017):\n",
    "        df = get_data()[y].set_index(\"City\").dropna(axis=0,how='any')\n",
    "        cities = df.index\n",
    "        for c in cities:\n",
    "            if c in ret: \n",
    "                continue\n",
    "            ret.append(c)\n",
    "    return ret\n",
    "\n",
    "all_cities()[:10]\n",
    "    "
   ]
  },
  {
   "cell_type": "code",
   "execution_count": 8,
   "metadata": {
    "collapsed": true
   },
   "outputs": [],
   "source": [
    "# make a timetable for each city and save it to a file\n",
    "def make_all_timetables():\n",
    "    for c in all_cities():\n",
    "        make_timetable(c).to_csv(\"output/\" + c + \".csv\")"
   ]
  },
  {
   "cell_type": "markdown",
   "metadata": {},
   "source": [
    "# Adding in historical data \n",
    "\n",
    "The manual_pull folder contains files with years older than 2006. I want to combine them with the newer sheets and remove conflicting values"
   ]
  },
  {
   "cell_type": "code",
   "execution_count": 9,
   "metadata": {
    "collapsed": true
   },
   "outputs": [],
   "source": [
    "import os\n",
    "\n",
    "def get_csvs(folder = \"data/manual_pull/\",skiprows=0):\n",
    "    ret = {}\n",
    "    \n",
    "    for fname in os.listdir(folder):\n",
    "        fpath = os.path.join(folder, fname)\n",
    "        topic = fname.replace(\".csv\",\"\")\n",
    "        df = pd.read_csv(fpath,skiprows=skiprows)\n",
    "        df[\"City\"] = df[\"Agency\"].str.replace(\" Town Police Dept\",\"\")\n",
    "        df[\"City\"] = df[\"City\"].str.replace(\" Police Dept\", \"\")\n",
    "        df[\"City\"] = df[\"City\"].str.replace(\" Police\", \"\")\n",
    "        \n",
    "        # combine complementary columns based on def'n change\n",
    "#         if topic == \"rape\": \n",
    "#             df = df.groupby(df.index).max()\n",
    "#             #print df\n",
    "            \n",
    "        ret[topic] = df.set_index(\"City\").dropna(thresh=5)\n",
    "\n",
    "    return ret\n",
    "\n",
    "hist_dfs = get_csvs(skiprows=4)\n",
    "\n",
    "# df = hist_dfs[\"rape\"]\n",
    "# hist_dfs[\"rape\"] = df.groupby(df.index).max()\n",
    "\n",
    "# df = hist_dfs[\"violent-crimes\"]\n",
    "# hist_dfs[\"violent-crimes\"] = df.groupby(df.index).max()\n"
   ]
  },
  {
   "cell_type": "code",
   "execution_count": 10,
   "metadata": {
    "collapsed": false
   },
   "outputs": [
    {
     "data": {
      "text/html": [
       "<div>\n",
       "<table border=\"1\" class=\"dataframe\">\n",
       "  <thead>\n",
       "    <tr style=\"text-align: right;\">\n",
       "      <th></th>\n",
       "      <th>Agency</th>\n",
       "      <th>State</th>\n",
       "      <th>1985</th>\n",
       "      <th>1986</th>\n",
       "      <th>1987</th>\n",
       "      <th>1988</th>\n",
       "      <th>1989</th>\n",
       "      <th>1990</th>\n",
       "      <th>1991</th>\n",
       "      <th>1992</th>\n",
       "      <th>...</th>\n",
       "      <th>2006</th>\n",
       "      <th>2007</th>\n",
       "      <th>2008</th>\n",
       "      <th>2009</th>\n",
       "      <th>2010</th>\n",
       "      <th>2011</th>\n",
       "      <th>2012</th>\n",
       "      <th>2013</th>\n",
       "      <th>2014</th>\n",
       "      <th>Unnamed: 32</th>\n",
       "    </tr>\n",
       "    <tr>\n",
       "      <th>City</th>\n",
       "      <th></th>\n",
       "      <th></th>\n",
       "      <th></th>\n",
       "      <th></th>\n",
       "      <th></th>\n",
       "      <th></th>\n",
       "      <th></th>\n",
       "      <th></th>\n",
       "      <th></th>\n",
       "      <th></th>\n",
       "      <th></th>\n",
       "      <th></th>\n",
       "      <th></th>\n",
       "      <th></th>\n",
       "      <th></th>\n",
       "      <th></th>\n",
       "      <th></th>\n",
       "      <th></th>\n",
       "      <th></th>\n",
       "      <th></th>\n",
       "      <th></th>\n",
       "    </tr>\n",
       "  </thead>\n",
       "  <tbody>\n",
       "  </tbody>\n",
       "</table>\n",
       "<p>0 rows × 33 columns</p>\n",
       "</div>"
      ],
      "text/plain": [
       "Empty DataFrame\n",
       "Columns: [Agency, State, 1985, 1986, 1987, 1988, 1989, 1990, 1991, 1992, 1993, 1994, 1995, 1996, 1997, 1998, 1999, 2000, 2001, 2002, 2003, 2004, 2005, 2006, 2007, 2008, 2009, 2010, 2011, 2012, 2013, 2014, Unnamed: 32]\n",
       "Index: []\n",
       "\n",
       "[0 rows x 33 columns]"
      ]
     },
     "execution_count": 10,
     "metadata": {},
     "output_type": "execute_result"
    }
   ],
   "source": [
    "# Check for duplicates\n",
    "hist_dfs[\"violent-crimes\"][hist_dfs[\"violent-crimes\"].index.duplicated()]"
   ]
  },
  {
   "cell_type": "code",
   "execution_count": 11,
   "metadata": {
    "collapsed": false
   },
   "outputs": [
    {
     "data": {
      "text/html": [
       "<div>\n",
       "<table border=\"1\" class=\"dataframe\">\n",
       "  <thead>\n",
       "    <tr style=\"text-align: right;\">\n",
       "      <th></th>\n",
       "      <th>Agency</th>\n",
       "      <th>State</th>\n",
       "      <th>1985</th>\n",
       "      <th>1986</th>\n",
       "      <th>1987</th>\n",
       "      <th>1988</th>\n",
       "      <th>1989</th>\n",
       "      <th>1990</th>\n",
       "      <th>1991</th>\n",
       "      <th>1992</th>\n",
       "      <th>...</th>\n",
       "      <th>2007_new</th>\n",
       "      <th>2008_new</th>\n",
       "      <th>2009_new</th>\n",
       "      <th>2010_new</th>\n",
       "      <th>2011_new</th>\n",
       "      <th>2012_new</th>\n",
       "      <th>2013_new</th>\n",
       "      <th>2014_new</th>\n",
       "      <th>2015</th>\n",
       "      <th>2016</th>\n",
       "    </tr>\n",
       "    <tr>\n",
       "      <th>City</th>\n",
       "      <th></th>\n",
       "      <th></th>\n",
       "      <th></th>\n",
       "      <th></th>\n",
       "      <th></th>\n",
       "      <th></th>\n",
       "      <th></th>\n",
       "      <th></th>\n",
       "      <th></th>\n",
       "      <th></th>\n",
       "      <th></th>\n",
       "      <th></th>\n",
       "      <th></th>\n",
       "      <th></th>\n",
       "      <th></th>\n",
       "      <th></th>\n",
       "      <th></th>\n",
       "      <th></th>\n",
       "      <th></th>\n",
       "      <th></th>\n",
       "      <th></th>\n",
       "    </tr>\n",
       "  </thead>\n",
       "  <tbody>\n",
       "  </tbody>\n",
       "</table>\n",
       "<p>0 rows × 44 columns</p>\n",
       "</div>"
      ],
      "text/plain": [
       "Empty DataFrame\n",
       "Columns: [Agency, State, 1985, 1986, 1987, 1988, 1989, 1990, 1991, 1992, 1993, 1994, 1995, 1996, 1997, 1998, 1999, 2000, 2001, 2002, 2003, 2004, 2005, 2006_hist, 2007_hist, 2008_hist, 2009_hist, 2010_hist, 2011_hist, 2012_hist, 2013_hist, 2014_hist, Unnamed: 32, 2006_new, 2007_new, 2008_new, 2009_new, 2010_new, 2011_new, 2012_new, 2013_new, 2014_new, 2015, 2016]\n",
       "Index: []\n",
       "\n",
       "[0 rows x 44 columns]"
      ]
     },
     "execution_count": 11,
     "metadata": {},
     "output_type": "execute_result"
    }
   ],
   "source": [
    "# Combine the history dfs with the newer dfs\n",
    "def add_history(df, hist_df):\n",
    "    \n",
    "    new = df.copy()\n",
    "    new = new.rename(columns = lambda x: str(x))\n",
    "#     ret = hist_df.join(new,how=\"left\",lsuffix=\"_hist\",rsuffix=\"_new\")\n",
    "    ret = hist_df.reset_index().merge(new.reset_index(),on=\"City\",how=\"outer\",suffixes=[\"_hist\",\"_new\"],left_index=True,right_index=True)\n",
    "    ret = ret.set_index(\"City\")\n",
    "    ret = ret[ret[\"Agency\"].notnull()]\n",
    "    return ret.dropna(axis=0,how=\"all\")\n",
    "    \n",
    "murder_historical = add_history(make_frame(col_labels[\"murder\"]),hist_dfs[\"murder\"])#.columns\n",
    "murder_historical[murder_historical.index.duplicated(keep=False)]"
   ]
  },
  {
   "cell_type": "code",
   "execution_count": 12,
   "metadata": {
    "collapsed": false
   },
   "outputs": [
    {
     "name": "stdout",
     "output_type": "stream",
     "text": [
      "Errors: 278\n",
      "Total:  747\n"
     ]
    },
    {
     "data": {
      "text/html": [
       "<div>\n",
       "<table border=\"1\" class=\"dataframe\">\n",
       "  <thead>\n",
       "    <tr style=\"text-align: right;\">\n",
       "      <th></th>\n",
       "      <th>Agency</th>\n",
       "      <th>State</th>\n",
       "      <th>1985</th>\n",
       "      <th>1986</th>\n",
       "      <th>1987</th>\n",
       "      <th>1988</th>\n",
       "      <th>1989</th>\n",
       "      <th>1990</th>\n",
       "      <th>1991</th>\n",
       "      <th>1992</th>\n",
       "      <th>...</th>\n",
       "      <th>2011</th>\n",
       "      <th>2012_diff</th>\n",
       "      <th>2012_diff_pct</th>\n",
       "      <th>2012</th>\n",
       "      <th>2013_diff</th>\n",
       "      <th>2013_diff_pct</th>\n",
       "      <th>2013</th>\n",
       "      <th>2014_diff</th>\n",
       "      <th>2014_diff_pct</th>\n",
       "      <th>2014</th>\n",
       "    </tr>\n",
       "    <tr>\n",
       "      <th>City</th>\n",
       "      <th></th>\n",
       "      <th></th>\n",
       "      <th></th>\n",
       "      <th></th>\n",
       "      <th></th>\n",
       "      <th></th>\n",
       "      <th></th>\n",
       "      <th></th>\n",
       "      <th></th>\n",
       "      <th></th>\n",
       "      <th></th>\n",
       "      <th></th>\n",
       "      <th></th>\n",
       "      <th></th>\n",
       "      <th></th>\n",
       "      <th></th>\n",
       "      <th></th>\n",
       "      <th></th>\n",
       "      <th></th>\n",
       "      <th></th>\n",
       "      <th></th>\n",
       "    </tr>\n",
       "  </thead>\n",
       "  <tbody>\n",
       "    <tr>\n",
       "      <th>Ansonia</th>\n",
       "      <td>Ansonia Police Dept</td>\n",
       "      <td>CT</td>\n",
       "      <td>0.0</td>\n",
       "      <td>0.0</td>\n",
       "      <td>1.0</td>\n",
       "      <td>1.0</td>\n",
       "      <td>0.0</td>\n",
       "      <td>0.0</td>\n",
       "      <td>0.0</td>\n",
       "      <td>0.0</td>\n",
       "      <td>...</td>\n",
       "      <td>3.0</td>\n",
       "      <td>0.0</td>\n",
       "      <td>NaN</td>\n",
       "      <td>0.0</td>\n",
       "      <td>0.0</td>\n",
       "      <td>NaN</td>\n",
       "      <td>0.0</td>\n",
       "      <td>0.0</td>\n",
       "      <td>NaN</td>\n",
       "      <td>0.0</td>\n",
       "    </tr>\n",
       "    <tr>\n",
       "      <th>Avon</th>\n",
       "      <td>Avon Police Dept</td>\n",
       "      <td>CT</td>\n",
       "      <td>0.0</td>\n",
       "      <td>0.0</td>\n",
       "      <td>0.0</td>\n",
       "      <td>0.0</td>\n",
       "      <td>0.0</td>\n",
       "      <td>0.0</td>\n",
       "      <td>0.0</td>\n",
       "      <td>0.0</td>\n",
       "      <td>...</td>\n",
       "      <td>0.0</td>\n",
       "      <td>0.0</td>\n",
       "      <td>NaN</td>\n",
       "      <td>0.0</td>\n",
       "      <td>0.0</td>\n",
       "      <td>NaN</td>\n",
       "      <td>0.0</td>\n",
       "      <td>0.0</td>\n",
       "      <td>NaN</td>\n",
       "      <td>0.0</td>\n",
       "    </tr>\n",
       "    <tr>\n",
       "      <th>Berlin</th>\n",
       "      <td>Berlin Police Dept</td>\n",
       "      <td>CT</td>\n",
       "      <td>0.0</td>\n",
       "      <td>0.0</td>\n",
       "      <td>0.0</td>\n",
       "      <td>1.0</td>\n",
       "      <td>0.0</td>\n",
       "      <td>0.0</td>\n",
       "      <td>1.0</td>\n",
       "      <td>0.0</td>\n",
       "      <td>...</td>\n",
       "      <td>0.0</td>\n",
       "      <td>0.0</td>\n",
       "      <td>NaN</td>\n",
       "      <td>0.0</td>\n",
       "      <td>0.0</td>\n",
       "      <td>NaN</td>\n",
       "      <td>0.0</td>\n",
       "      <td>0.0</td>\n",
       "      <td>NaN</td>\n",
       "      <td>0.0</td>\n",
       "    </tr>\n",
       "    <tr>\n",
       "      <th>Bethel</th>\n",
       "      <td>Bethel Police Dept</td>\n",
       "      <td>CT</td>\n",
       "      <td>0.0</td>\n",
       "      <td>0.0</td>\n",
       "      <td>0.0</td>\n",
       "      <td>0.0</td>\n",
       "      <td>0.0</td>\n",
       "      <td>1.0</td>\n",
       "      <td>0.0</td>\n",
       "      <td>2.0</td>\n",
       "      <td>...</td>\n",
       "      <td>0.0</td>\n",
       "      <td>0.0</td>\n",
       "      <td>NaN</td>\n",
       "      <td>0.0</td>\n",
       "      <td>0.0</td>\n",
       "      <td>NaN</td>\n",
       "      <td>0.0</td>\n",
       "      <td>0.0</td>\n",
       "      <td>NaN</td>\n",
       "      <td>0.0</td>\n",
       "    </tr>\n",
       "    <tr>\n",
       "      <th>Bloomfield</th>\n",
       "      <td>Bloomfield Police Dept</td>\n",
       "      <td>CT</td>\n",
       "      <td>0.0</td>\n",
       "      <td>0.0</td>\n",
       "      <td>1.0</td>\n",
       "      <td>0.0</td>\n",
       "      <td>0.0</td>\n",
       "      <td>0.0</td>\n",
       "      <td>1.0</td>\n",
       "      <td>0.0</td>\n",
       "      <td>...</td>\n",
       "      <td>1.0</td>\n",
       "      <td>0.0</td>\n",
       "      <td>NaN</td>\n",
       "      <td>0.0</td>\n",
       "      <td>0.0</td>\n",
       "      <td>0.000000</td>\n",
       "      <td>1.0</td>\n",
       "      <td>0.0</td>\n",
       "      <td>NaN</td>\n",
       "      <td>0.0</td>\n",
       "    </tr>\n",
       "    <tr>\n",
       "      <th>Branford</th>\n",
       "      <td>Branford Police Dept</td>\n",
       "      <td>CT</td>\n",
       "      <td>0.0</td>\n",
       "      <td>0.0</td>\n",
       "      <td>1.0</td>\n",
       "      <td>0.0</td>\n",
       "      <td>0.0</td>\n",
       "      <td>0.0</td>\n",
       "      <td>1.0</td>\n",
       "      <td>0.0</td>\n",
       "      <td>...</td>\n",
       "      <td>0.0</td>\n",
       "      <td>0.0</td>\n",
       "      <td>NaN</td>\n",
       "      <td>0.0</td>\n",
       "      <td>-1.0</td>\n",
       "      <td>-1.000000</td>\n",
       "      <td>NaN</td>\n",
       "      <td>0.0</td>\n",
       "      <td>0.000000</td>\n",
       "      <td>1.0</td>\n",
       "    </tr>\n",
       "    <tr>\n",
       "      <th>Bridgeport</th>\n",
       "      <td>Bridgeport Police Dept</td>\n",
       "      <td>CT</td>\n",
       "      <td>30.0</td>\n",
       "      <td>40.0</td>\n",
       "      <td>37.0</td>\n",
       "      <td>43.0</td>\n",
       "      <td>36.0</td>\n",
       "      <td>57.0</td>\n",
       "      <td>51.0</td>\n",
       "      <td>57.0</td>\n",
       "      <td>...</td>\n",
       "      <td>20.0</td>\n",
       "      <td>0.0</td>\n",
       "      <td>0.000000</td>\n",
       "      <td>22.0</td>\n",
       "      <td>0.0</td>\n",
       "      <td>0.000000</td>\n",
       "      <td>11.0</td>\n",
       "      <td>0.0</td>\n",
       "      <td>0.000000</td>\n",
       "      <td>11.0</td>\n",
       "    </tr>\n",
       "    <tr>\n",
       "      <th>Bristol</th>\n",
       "      <td>Bristol Police Dept</td>\n",
       "      <td>CT</td>\n",
       "      <td>1.0</td>\n",
       "      <td>0.0</td>\n",
       "      <td>0.0</td>\n",
       "      <td>1.0</td>\n",
       "      <td>0.0</td>\n",
       "      <td>0.0</td>\n",
       "      <td>1.0</td>\n",
       "      <td>0.0</td>\n",
       "      <td>...</td>\n",
       "      <td>1.0</td>\n",
       "      <td>0.0</td>\n",
       "      <td>0.000000</td>\n",
       "      <td>3.0</td>\n",
       "      <td>0.0</td>\n",
       "      <td>0.000000</td>\n",
       "      <td>2.0</td>\n",
       "      <td>0.0</td>\n",
       "      <td>0.000000</td>\n",
       "      <td>3.0</td>\n",
       "    </tr>\n",
       "    <tr>\n",
       "      <th>Brookfield</th>\n",
       "      <td>Brookfield Police Dept</td>\n",
       "      <td>CT</td>\n",
       "      <td>0.0</td>\n",
       "      <td>0.0</td>\n",
       "      <td>0.0</td>\n",
       "      <td>0.0</td>\n",
       "      <td>0.0</td>\n",
       "      <td>0.0</td>\n",
       "      <td>1.0</td>\n",
       "      <td>0.0</td>\n",
       "      <td>...</td>\n",
       "      <td>0.0</td>\n",
       "      <td>0.0</td>\n",
       "      <td>NaN</td>\n",
       "      <td>0.0</td>\n",
       "      <td>0.0</td>\n",
       "      <td>NaN</td>\n",
       "      <td>0.0</td>\n",
       "      <td>0.0</td>\n",
       "      <td>NaN</td>\n",
       "      <td>0.0</td>\n",
       "    </tr>\n",
       "    <tr>\n",
       "      <th>Canton</th>\n",
       "      <td>Canton Town Police Dept</td>\n",
       "      <td>CT</td>\n",
       "      <td>0.0</td>\n",
       "      <td>1.0</td>\n",
       "      <td>0.0</td>\n",
       "      <td>0.0</td>\n",
       "      <td>0.0</td>\n",
       "      <td>0.0</td>\n",
       "      <td>0.0</td>\n",
       "      <td>0.0</td>\n",
       "      <td>...</td>\n",
       "      <td>0.0</td>\n",
       "      <td>0.0</td>\n",
       "      <td>NaN</td>\n",
       "      <td>0.0</td>\n",
       "      <td>0.0</td>\n",
       "      <td>NaN</td>\n",
       "      <td>0.0</td>\n",
       "      <td>0.0</td>\n",
       "      <td>NaN</td>\n",
       "      <td>0.0</td>\n",
       "    </tr>\n",
       "    <tr>\n",
       "      <th>Cheshire</th>\n",
       "      <td>Cheshire Police Dept</td>\n",
       "      <td>CT</td>\n",
       "      <td>0.0</td>\n",
       "      <td>0.0</td>\n",
       "      <td>0.0</td>\n",
       "      <td>0.0</td>\n",
       "      <td>0.0</td>\n",
       "      <td>0.0</td>\n",
       "      <td>0.0</td>\n",
       "      <td>0.0</td>\n",
       "      <td>...</td>\n",
       "      <td>0.0</td>\n",
       "      <td>0.0</td>\n",
       "      <td>NaN</td>\n",
       "      <td>0.0</td>\n",
       "      <td>0.0</td>\n",
       "      <td>NaN</td>\n",
       "      <td>0.0</td>\n",
       "      <td>0.0</td>\n",
       "      <td>0.000000</td>\n",
       "      <td>1.0</td>\n",
       "    </tr>\n",
       "    <tr>\n",
       "      <th>Clinton</th>\n",
       "      <td>Clinton Police Dept</td>\n",
       "      <td>CT</td>\n",
       "      <td>0.0</td>\n",
       "      <td>0.0</td>\n",
       "      <td>0.0</td>\n",
       "      <td>1.0</td>\n",
       "      <td>1.0</td>\n",
       "      <td>0.0</td>\n",
       "      <td>0.0</td>\n",
       "      <td>0.0</td>\n",
       "      <td>...</td>\n",
       "      <td>0.0</td>\n",
       "      <td>0.0</td>\n",
       "      <td>NaN</td>\n",
       "      <td>0.0</td>\n",
       "      <td>0.0</td>\n",
       "      <td>0.000000</td>\n",
       "      <td>1.0</td>\n",
       "      <td>0.0</td>\n",
       "      <td>NaN</td>\n",
       "      <td>0.0</td>\n",
       "    </tr>\n",
       "    <tr>\n",
       "      <th>Coventry</th>\n",
       "      <td>Coventry Police Dept</td>\n",
       "      <td>CT</td>\n",
       "      <td>0.0</td>\n",
       "      <td>1.0</td>\n",
       "      <td>0.0</td>\n",
       "      <td>0.0</td>\n",
       "      <td>0.0</td>\n",
       "      <td>0.0</td>\n",
       "      <td>0.0</td>\n",
       "      <td>0.0</td>\n",
       "      <td>...</td>\n",
       "      <td>0.0</td>\n",
       "      <td>0.0</td>\n",
       "      <td>NaN</td>\n",
       "      <td>0.0</td>\n",
       "      <td>0.0</td>\n",
       "      <td>0.000000</td>\n",
       "      <td>1.0</td>\n",
       "      <td>0.0</td>\n",
       "      <td>NaN</td>\n",
       "      <td>0.0</td>\n",
       "    </tr>\n",
       "    <tr>\n",
       "      <th>Cromwell</th>\n",
       "      <td>Cromwell Police Dept</td>\n",
       "      <td>CT</td>\n",
       "      <td>0.0</td>\n",
       "      <td>0.0</td>\n",
       "      <td>0.0</td>\n",
       "      <td>0.0</td>\n",
       "      <td>0.0</td>\n",
       "      <td>0.0</td>\n",
       "      <td>0.0</td>\n",
       "      <td>0.0</td>\n",
       "      <td>...</td>\n",
       "      <td>0.0</td>\n",
       "      <td>0.0</td>\n",
       "      <td>NaN</td>\n",
       "      <td>0.0</td>\n",
       "      <td>0.0</td>\n",
       "      <td>NaN</td>\n",
       "      <td>0.0</td>\n",
       "      <td>0.0</td>\n",
       "      <td>NaN</td>\n",
       "      <td>0.0</td>\n",
       "    </tr>\n",
       "    <tr>\n",
       "      <th>Danbury</th>\n",
       "      <td>Danbury Police Dept</td>\n",
       "      <td>CT</td>\n",
       "      <td>3.0</td>\n",
       "      <td>2.0</td>\n",
       "      <td>1.0</td>\n",
       "      <td>0.0</td>\n",
       "      <td>3.0</td>\n",
       "      <td>0.0</td>\n",
       "      <td>2.0</td>\n",
       "      <td>4.0</td>\n",
       "      <td>...</td>\n",
       "      <td>1.0</td>\n",
       "      <td>0.0</td>\n",
       "      <td>0.000000</td>\n",
       "      <td>1.0</td>\n",
       "      <td>0.0</td>\n",
       "      <td>0.000000</td>\n",
       "      <td>2.0</td>\n",
       "      <td>0.0</td>\n",
       "      <td>0.000000</td>\n",
       "      <td>1.0</td>\n",
       "    </tr>\n",
       "    <tr>\n",
       "      <th>Darien</th>\n",
       "      <td>Darien Police Dept</td>\n",
       "      <td>CT</td>\n",
       "      <td>2.0</td>\n",
       "      <td>0.0</td>\n",
       "      <td>2.0</td>\n",
       "      <td>0.0</td>\n",
       "      <td>0.0</td>\n",
       "      <td>0.0</td>\n",
       "      <td>0.0</td>\n",
       "      <td>0.0</td>\n",
       "      <td>...</td>\n",
       "      <td>0.0</td>\n",
       "      <td>0.0</td>\n",
       "      <td>NaN</td>\n",
       "      <td>0.0</td>\n",
       "      <td>0.0</td>\n",
       "      <td>NaN</td>\n",
       "      <td>0.0</td>\n",
       "      <td>0.0</td>\n",
       "      <td>NaN</td>\n",
       "      <td>0.0</td>\n",
       "    </tr>\n",
       "    <tr>\n",
       "      <th>Derby</th>\n",
       "      <td>Derby Police Dept</td>\n",
       "      <td>CT</td>\n",
       "      <td>0.0</td>\n",
       "      <td>0.0</td>\n",
       "      <td>0.0</td>\n",
       "      <td>0.0</td>\n",
       "      <td>3.0</td>\n",
       "      <td>0.0</td>\n",
       "      <td>0.0</td>\n",
       "      <td>1.0</td>\n",
       "      <td>...</td>\n",
       "      <td>0.0</td>\n",
       "      <td>0.0</td>\n",
       "      <td>0.000000</td>\n",
       "      <td>1.0</td>\n",
       "      <td>0.0</td>\n",
       "      <td>NaN</td>\n",
       "      <td>0.0</td>\n",
       "      <td>0.0</td>\n",
       "      <td>NaN</td>\n",
       "      <td>0.0</td>\n",
       "    </tr>\n",
       "    <tr>\n",
       "      <th>East Hampton</th>\n",
       "      <td>East Hampton Police Dept</td>\n",
       "      <td>CT</td>\n",
       "      <td>0.0</td>\n",
       "      <td>0.0</td>\n",
       "      <td>0.0</td>\n",
       "      <td>1.0</td>\n",
       "      <td>0.0</td>\n",
       "      <td>0.0</td>\n",
       "      <td>0.0</td>\n",
       "      <td>0.0</td>\n",
       "      <td>...</td>\n",
       "      <td>1.0</td>\n",
       "      <td>0.0</td>\n",
       "      <td>0.000000</td>\n",
       "      <td>1.0</td>\n",
       "      <td>0.0</td>\n",
       "      <td>NaN</td>\n",
       "      <td>0.0</td>\n",
       "      <td>0.0</td>\n",
       "      <td>NaN</td>\n",
       "      <td>0.0</td>\n",
       "    </tr>\n",
       "    <tr>\n",
       "      <th>East Hartford</th>\n",
       "      <td>East Hartford Police</td>\n",
       "      <td>CT</td>\n",
       "      <td>2.0</td>\n",
       "      <td>6.0</td>\n",
       "      <td>NaN</td>\n",
       "      <td>2.0</td>\n",
       "      <td>1.0</td>\n",
       "      <td>1.0</td>\n",
       "      <td>1.0</td>\n",
       "      <td>1.0</td>\n",
       "      <td>...</td>\n",
       "      <td>0.0</td>\n",
       "      <td>0.0</td>\n",
       "      <td>0.000000</td>\n",
       "      <td>2.0</td>\n",
       "      <td>0.0</td>\n",
       "      <td>0.000000</td>\n",
       "      <td>1.0</td>\n",
       "      <td>0.0</td>\n",
       "      <td>0.000000</td>\n",
       "      <td>2.0</td>\n",
       "    </tr>\n",
       "    <tr>\n",
       "      <th>East Haven</th>\n",
       "      <td>East Haven Police Dept</td>\n",
       "      <td>CT</td>\n",
       "      <td>0.0</td>\n",
       "      <td>1.0</td>\n",
       "      <td>0.0</td>\n",
       "      <td>0.0</td>\n",
       "      <td>0.0</td>\n",
       "      <td>0.0</td>\n",
       "      <td>1.0</td>\n",
       "      <td>0.0</td>\n",
       "      <td>...</td>\n",
       "      <td>0.0</td>\n",
       "      <td>0.0</td>\n",
       "      <td>0.000000</td>\n",
       "      <td>1.0</td>\n",
       "      <td>0.0</td>\n",
       "      <td>NaN</td>\n",
       "      <td>0.0</td>\n",
       "      <td>0.0</td>\n",
       "      <td>NaN</td>\n",
       "      <td>0.0</td>\n",
       "    </tr>\n",
       "    <tr>\n",
       "      <th>East Windsor</th>\n",
       "      <td>East Windsor Police Dept</td>\n",
       "      <td>CT</td>\n",
       "      <td>2.0</td>\n",
       "      <td>0.0</td>\n",
       "      <td>4.0</td>\n",
       "      <td>0.0</td>\n",
       "      <td>0.0</td>\n",
       "      <td>0.0</td>\n",
       "      <td>0.0</td>\n",
       "      <td>0.0</td>\n",
       "      <td>...</td>\n",
       "      <td>0.0</td>\n",
       "      <td>0.0</td>\n",
       "      <td>NaN</td>\n",
       "      <td>0.0</td>\n",
       "      <td>0.0</td>\n",
       "      <td>0.000000</td>\n",
       "      <td>1.0</td>\n",
       "      <td>0.0</td>\n",
       "      <td>0.000000</td>\n",
       "      <td>1.0</td>\n",
       "    </tr>\n",
       "    <tr>\n",
       "      <th>Enfield</th>\n",
       "      <td>Enfield Police Dept</td>\n",
       "      <td>CT</td>\n",
       "      <td>2.0</td>\n",
       "      <td>0.0</td>\n",
       "      <td>0.0</td>\n",
       "      <td>0.0</td>\n",
       "      <td>0.0</td>\n",
       "      <td>1.0</td>\n",
       "      <td>0.0</td>\n",
       "      <td>0.0</td>\n",
       "      <td>...</td>\n",
       "      <td>NaN</td>\n",
       "      <td>0.0</td>\n",
       "      <td>NaN</td>\n",
       "      <td>0.0</td>\n",
       "      <td>0.0</td>\n",
       "      <td>NaN</td>\n",
       "      <td>0.0</td>\n",
       "      <td>-2.0</td>\n",
       "      <td>-1.000000</td>\n",
       "      <td>NaN</td>\n",
       "    </tr>\n",
       "    <tr>\n",
       "      <th>Fairfield</th>\n",
       "      <td>Fairfield Police Dept</td>\n",
       "      <td>CT</td>\n",
       "      <td>0.0</td>\n",
       "      <td>2.0</td>\n",
       "      <td>1.0</td>\n",
       "      <td>1.0</td>\n",
       "      <td>0.0</td>\n",
       "      <td>1.0</td>\n",
       "      <td>0.0</td>\n",
       "      <td>1.0</td>\n",
       "      <td>...</td>\n",
       "      <td>NaN</td>\n",
       "      <td>0.0</td>\n",
       "      <td>NaN</td>\n",
       "      <td>0.0</td>\n",
       "      <td>0.0</td>\n",
       "      <td>NaN</td>\n",
       "      <td>0.0</td>\n",
       "      <td>2.0</td>\n",
       "      <td>inf</td>\n",
       "      <td>NaN</td>\n",
       "    </tr>\n",
       "    <tr>\n",
       "      <th>Farmington</th>\n",
       "      <td>Farmington Police Dept</td>\n",
       "      <td>CT</td>\n",
       "      <td>0.0</td>\n",
       "      <td>0.0</td>\n",
       "      <td>0.0</td>\n",
       "      <td>0.0</td>\n",
       "      <td>0.0</td>\n",
       "      <td>0.0</td>\n",
       "      <td>0.0</td>\n",
       "      <td>0.0</td>\n",
       "      <td>...</td>\n",
       "      <td>0.0</td>\n",
       "      <td>0.0</td>\n",
       "      <td>NaN</td>\n",
       "      <td>0.0</td>\n",
       "      <td>0.0</td>\n",
       "      <td>NaN</td>\n",
       "      <td>0.0</td>\n",
       "      <td>0.0</td>\n",
       "      <td>NaN</td>\n",
       "      <td>0.0</td>\n",
       "    </tr>\n",
       "    <tr>\n",
       "      <th>Glastonbury</th>\n",
       "      <td>Glastonbury Police Dept</td>\n",
       "      <td>CT</td>\n",
       "      <td>0.0</td>\n",
       "      <td>0.0</td>\n",
       "      <td>1.0</td>\n",
       "      <td>0.0</td>\n",
       "      <td>0.0</td>\n",
       "      <td>0.0</td>\n",
       "      <td>1.0</td>\n",
       "      <td>0.0</td>\n",
       "      <td>...</td>\n",
       "      <td>0.0</td>\n",
       "      <td>0.0</td>\n",
       "      <td>NaN</td>\n",
       "      <td>0.0</td>\n",
       "      <td>0.0</td>\n",
       "      <td>NaN</td>\n",
       "      <td>0.0</td>\n",
       "      <td>0.0</td>\n",
       "      <td>NaN</td>\n",
       "      <td>0.0</td>\n",
       "    </tr>\n",
       "    <tr>\n",
       "      <th>Granby</th>\n",
       "      <td>Granby Police Dept</td>\n",
       "      <td>CT</td>\n",
       "      <td>0.0</td>\n",
       "      <td>0.0</td>\n",
       "      <td>0.0</td>\n",
       "      <td>0.0</td>\n",
       "      <td>0.0</td>\n",
       "      <td>0.0</td>\n",
       "      <td>0.0</td>\n",
       "      <td>0.0</td>\n",
       "      <td>...</td>\n",
       "      <td>0.0</td>\n",
       "      <td>0.0</td>\n",
       "      <td>NaN</td>\n",
       "      <td>0.0</td>\n",
       "      <td>0.0</td>\n",
       "      <td>NaN</td>\n",
       "      <td>0.0</td>\n",
       "      <td>0.0</td>\n",
       "      <td>NaN</td>\n",
       "      <td>0.0</td>\n",
       "    </tr>\n",
       "    <tr>\n",
       "      <th>Greenwich</th>\n",
       "      <td>Greenwich Police Dept</td>\n",
       "      <td>CT</td>\n",
       "      <td>0.0</td>\n",
       "      <td>1.0</td>\n",
       "      <td>0.0</td>\n",
       "      <td>1.0</td>\n",
       "      <td>0.0</td>\n",
       "      <td>0.0</td>\n",
       "      <td>0.0</td>\n",
       "      <td>0.0</td>\n",
       "      <td>...</td>\n",
       "      <td>0.0</td>\n",
       "      <td>0.0</td>\n",
       "      <td>NaN</td>\n",
       "      <td>0.0</td>\n",
       "      <td>0.0</td>\n",
       "      <td>NaN</td>\n",
       "      <td>0.0</td>\n",
       "      <td>0.0</td>\n",
       "      <td>NaN</td>\n",
       "      <td>0.0</td>\n",
       "    </tr>\n",
       "    <tr>\n",
       "      <th>Groton</th>\n",
       "      <td>Groton Town Police Dept</td>\n",
       "      <td>CT</td>\n",
       "      <td>0.0</td>\n",
       "      <td>1.0</td>\n",
       "      <td>1.0</td>\n",
       "      <td>0.0</td>\n",
       "      <td>2.0</td>\n",
       "      <td>0.0</td>\n",
       "      <td>0.0</td>\n",
       "      <td>0.0</td>\n",
       "      <td>...</td>\n",
       "      <td>0.0</td>\n",
       "      <td>0.0</td>\n",
       "      <td>NaN</td>\n",
       "      <td>0.0</td>\n",
       "      <td>0.0</td>\n",
       "      <td>NaN</td>\n",
       "      <td>0.0</td>\n",
       "      <td>0.0</td>\n",
       "      <td>NaN</td>\n",
       "      <td>0.0</td>\n",
       "    </tr>\n",
       "    <tr>\n",
       "      <th>Guilford</th>\n",
       "      <td>Guilford Police Dept</td>\n",
       "      <td>CT</td>\n",
       "      <td>0.0</td>\n",
       "      <td>0.0</td>\n",
       "      <td>0.0</td>\n",
       "      <td>0.0</td>\n",
       "      <td>0.0</td>\n",
       "      <td>0.0</td>\n",
       "      <td>0.0</td>\n",
       "      <td>0.0</td>\n",
       "      <td>...</td>\n",
       "      <td>0.0</td>\n",
       "      <td>0.0</td>\n",
       "      <td>NaN</td>\n",
       "      <td>0.0</td>\n",
       "      <td>0.0</td>\n",
       "      <td>NaN</td>\n",
       "      <td>0.0</td>\n",
       "      <td>0.0</td>\n",
       "      <td>NaN</td>\n",
       "      <td>0.0</td>\n",
       "    </tr>\n",
       "    <tr>\n",
       "      <th>Hamden</th>\n",
       "      <td>Hamden Police Dept</td>\n",
       "      <td>CT</td>\n",
       "      <td>3.0</td>\n",
       "      <td>1.0</td>\n",
       "      <td>2.0</td>\n",
       "      <td>4.0</td>\n",
       "      <td>1.0</td>\n",
       "      <td>0.0</td>\n",
       "      <td>0.0</td>\n",
       "      <td>4.0</td>\n",
       "      <td>...</td>\n",
       "      <td>NaN</td>\n",
       "      <td>-2.0</td>\n",
       "      <td>-1.000000</td>\n",
       "      <td>NaN</td>\n",
       "      <td>0.0</td>\n",
       "      <td>NaN</td>\n",
       "      <td>0.0</td>\n",
       "      <td>-1.0</td>\n",
       "      <td>-1.000000</td>\n",
       "      <td>NaN</td>\n",
       "    </tr>\n",
       "    <tr>\n",
       "      <th>...</th>\n",
       "      <td>...</td>\n",
       "      <td>...</td>\n",
       "      <td>...</td>\n",
       "      <td>...</td>\n",
       "      <td>...</td>\n",
       "      <td>...</td>\n",
       "      <td>...</td>\n",
       "      <td>...</td>\n",
       "      <td>...</td>\n",
       "      <td>...</td>\n",
       "      <td>...</td>\n",
       "      <td>...</td>\n",
       "      <td>...</td>\n",
       "      <td>...</td>\n",
       "      <td>...</td>\n",
       "      <td>...</td>\n",
       "      <td>...</td>\n",
       "      <td>...</td>\n",
       "      <td>...</td>\n",
       "      <td>...</td>\n",
       "      <td>...</td>\n",
       "    </tr>\n",
       "    <tr>\n",
       "      <th>Plymouth</th>\n",
       "      <td>Plymouth Police Dept</td>\n",
       "      <td>CT</td>\n",
       "      <td>2.0</td>\n",
       "      <td>0.0</td>\n",
       "      <td>0.0</td>\n",
       "      <td>0.0</td>\n",
       "      <td>1.0</td>\n",
       "      <td>1.0</td>\n",
       "      <td>0.0</td>\n",
       "      <td>0.0</td>\n",
       "      <td>...</td>\n",
       "      <td>0.0</td>\n",
       "      <td>0.0</td>\n",
       "      <td>NaN</td>\n",
       "      <td>0.0</td>\n",
       "      <td>0.0</td>\n",
       "      <td>NaN</td>\n",
       "      <td>0.0</td>\n",
       "      <td>0.0</td>\n",
       "      <td>NaN</td>\n",
       "      <td>0.0</td>\n",
       "    </tr>\n",
       "    <tr>\n",
       "      <th>Ridgefield</th>\n",
       "      <td>Ridgefield Police Dept</td>\n",
       "      <td>CT</td>\n",
       "      <td>0.0</td>\n",
       "      <td>0.0</td>\n",
       "      <td>1.0</td>\n",
       "      <td>0.0</td>\n",
       "      <td>0.0</td>\n",
       "      <td>0.0</td>\n",
       "      <td>0.0</td>\n",
       "      <td>0.0</td>\n",
       "      <td>...</td>\n",
       "      <td>0.0</td>\n",
       "      <td>0.0</td>\n",
       "      <td>NaN</td>\n",
       "      <td>0.0</td>\n",
       "      <td>0.0</td>\n",
       "      <td>NaN</td>\n",
       "      <td>0.0</td>\n",
       "      <td>1.0</td>\n",
       "      <td>inf</td>\n",
       "      <td>NaN</td>\n",
       "    </tr>\n",
       "    <tr>\n",
       "      <th>Rocky Hill</th>\n",
       "      <td>Rocky Hill Police Dept</td>\n",
       "      <td>CT</td>\n",
       "      <td>0.0</td>\n",
       "      <td>0.0</td>\n",
       "      <td>1.0</td>\n",
       "      <td>0.0</td>\n",
       "      <td>1.0</td>\n",
       "      <td>1.0</td>\n",
       "      <td>1.0</td>\n",
       "      <td>1.0</td>\n",
       "      <td>...</td>\n",
       "      <td>0.0</td>\n",
       "      <td>0.0</td>\n",
       "      <td>NaN</td>\n",
       "      <td>0.0</td>\n",
       "      <td>0.0</td>\n",
       "      <td>NaN</td>\n",
       "      <td>0.0</td>\n",
       "      <td>0.0</td>\n",
       "      <td>NaN</td>\n",
       "      <td>0.0</td>\n",
       "    </tr>\n",
       "    <tr>\n",
       "      <th>Seymour</th>\n",
       "      <td>Seymour Police Dept</td>\n",
       "      <td>CT</td>\n",
       "      <td>0.0</td>\n",
       "      <td>1.0</td>\n",
       "      <td>0.0</td>\n",
       "      <td>0.0</td>\n",
       "      <td>0.0</td>\n",
       "      <td>0.0</td>\n",
       "      <td>0.0</td>\n",
       "      <td>0.0</td>\n",
       "      <td>...</td>\n",
       "      <td>0.0</td>\n",
       "      <td>0.0</td>\n",
       "      <td>NaN</td>\n",
       "      <td>0.0</td>\n",
       "      <td>0.0</td>\n",
       "      <td>NaN</td>\n",
       "      <td>0.0</td>\n",
       "      <td>0.0</td>\n",
       "      <td>NaN</td>\n",
       "      <td>0.0</td>\n",
       "    </tr>\n",
       "    <tr>\n",
       "      <th>Shelton</th>\n",
       "      <td>Shelton Police Dept</td>\n",
       "      <td>CT</td>\n",
       "      <td>0.0</td>\n",
       "      <td>0.0</td>\n",
       "      <td>1.0</td>\n",
       "      <td>2.0</td>\n",
       "      <td>0.0</td>\n",
       "      <td>1.0</td>\n",
       "      <td>1.0</td>\n",
       "      <td>2.0</td>\n",
       "      <td>...</td>\n",
       "      <td>0.0</td>\n",
       "      <td>0.0</td>\n",
       "      <td>NaN</td>\n",
       "      <td>0.0</td>\n",
       "      <td>0.0</td>\n",
       "      <td>NaN</td>\n",
       "      <td>0.0</td>\n",
       "      <td>-1.0</td>\n",
       "      <td>-1.000000</td>\n",
       "      <td>NaN</td>\n",
       "    </tr>\n",
       "    <tr>\n",
       "      <th>Simsbury</th>\n",
       "      <td>Simsbury Police Dept</td>\n",
       "      <td>CT</td>\n",
       "      <td>0.0</td>\n",
       "      <td>0.0</td>\n",
       "      <td>0.0</td>\n",
       "      <td>0.0</td>\n",
       "      <td>0.0</td>\n",
       "      <td>0.0</td>\n",
       "      <td>0.0</td>\n",
       "      <td>0.0</td>\n",
       "      <td>...</td>\n",
       "      <td>0.0</td>\n",
       "      <td>-1.0</td>\n",
       "      <td>-1.000000</td>\n",
       "      <td>NaN</td>\n",
       "      <td>0.0</td>\n",
       "      <td>NaN</td>\n",
       "      <td>0.0</td>\n",
       "      <td>-1.0</td>\n",
       "      <td>-1.000000</td>\n",
       "      <td>NaN</td>\n",
       "    </tr>\n",
       "    <tr>\n",
       "      <th>South Windsor</th>\n",
       "      <td>South Windsor Police Dept</td>\n",
       "      <td>CT</td>\n",
       "      <td>0.0</td>\n",
       "      <td>0.0</td>\n",
       "      <td>NaN</td>\n",
       "      <td>1.0</td>\n",
       "      <td>0.0</td>\n",
       "      <td>1.0</td>\n",
       "      <td>0.0</td>\n",
       "      <td>0.0</td>\n",
       "      <td>...</td>\n",
       "      <td>0.0</td>\n",
       "      <td>0.0</td>\n",
       "      <td>NaN</td>\n",
       "      <td>0.0</td>\n",
       "      <td>0.0</td>\n",
       "      <td>NaN</td>\n",
       "      <td>0.0</td>\n",
       "      <td>0.0</td>\n",
       "      <td>NaN</td>\n",
       "      <td>0.0</td>\n",
       "    </tr>\n",
       "    <tr>\n",
       "      <th>Southington</th>\n",
       "      <td>Southington Police Dept</td>\n",
       "      <td>CT</td>\n",
       "      <td>0.0</td>\n",
       "      <td>0.0</td>\n",
       "      <td>0.0</td>\n",
       "      <td>2.0</td>\n",
       "      <td>1.0</td>\n",
       "      <td>0.0</td>\n",
       "      <td>NaN</td>\n",
       "      <td>0.0</td>\n",
       "      <td>...</td>\n",
       "      <td>NaN</td>\n",
       "      <td>-1.0</td>\n",
       "      <td>-1.000000</td>\n",
       "      <td>NaN</td>\n",
       "      <td>0.0</td>\n",
       "      <td>NaN</td>\n",
       "      <td>0.0</td>\n",
       "      <td>0.0</td>\n",
       "      <td>NaN</td>\n",
       "      <td>0.0</td>\n",
       "    </tr>\n",
       "    <tr>\n",
       "      <th>Stamford</th>\n",
       "      <td>Stamford Police Dept</td>\n",
       "      <td>CT</td>\n",
       "      <td>5.0</td>\n",
       "      <td>6.0</td>\n",
       "      <td>4.0</td>\n",
       "      <td>6.0</td>\n",
       "      <td>9.0</td>\n",
       "      <td>10.0</td>\n",
       "      <td>10.0</td>\n",
       "      <td>7.0</td>\n",
       "      <td>...</td>\n",
       "      <td>NaN</td>\n",
       "      <td>-5.0</td>\n",
       "      <td>-1.000000</td>\n",
       "      <td>NaN</td>\n",
       "      <td>-1.0</td>\n",
       "      <td>-1.000000</td>\n",
       "      <td>NaN</td>\n",
       "      <td>-2.0</td>\n",
       "      <td>-1.000000</td>\n",
       "      <td>NaN</td>\n",
       "    </tr>\n",
       "    <tr>\n",
       "      <th>Stonington</th>\n",
       "      <td>Stonington Police Dept</td>\n",
       "      <td>CT</td>\n",
       "      <td>0.0</td>\n",
       "      <td>0.0</td>\n",
       "      <td>0.0</td>\n",
       "      <td>1.0</td>\n",
       "      <td>0.0</td>\n",
       "      <td>0.0</td>\n",
       "      <td>0.0</td>\n",
       "      <td>0.0</td>\n",
       "      <td>...</td>\n",
       "      <td>0.0</td>\n",
       "      <td>0.0</td>\n",
       "      <td>NaN</td>\n",
       "      <td>0.0</td>\n",
       "      <td>0.0</td>\n",
       "      <td>NaN</td>\n",
       "      <td>0.0</td>\n",
       "      <td>0.0</td>\n",
       "      <td>NaN</td>\n",
       "      <td>0.0</td>\n",
       "    </tr>\n",
       "    <tr>\n",
       "      <th>Stratford</th>\n",
       "      <td>Stratford Police Dept</td>\n",
       "      <td>CT</td>\n",
       "      <td>1.0</td>\n",
       "      <td>2.0</td>\n",
       "      <td>1.0</td>\n",
       "      <td>1.0</td>\n",
       "      <td>3.0</td>\n",
       "      <td>3.0</td>\n",
       "      <td>2.0</td>\n",
       "      <td>1.0</td>\n",
       "      <td>...</td>\n",
       "      <td>NaN</td>\n",
       "      <td>0.0</td>\n",
       "      <td>NaN</td>\n",
       "      <td>0.0</td>\n",
       "      <td>0.0</td>\n",
       "      <td>NaN</td>\n",
       "      <td>0.0</td>\n",
       "      <td>0.0</td>\n",
       "      <td>NaN</td>\n",
       "      <td>0.0</td>\n",
       "    </tr>\n",
       "    <tr>\n",
       "      <th>Suffield</th>\n",
       "      <td>Suffield Police Dept</td>\n",
       "      <td>CT</td>\n",
       "      <td>0.0</td>\n",
       "      <td>0.0</td>\n",
       "      <td>2.0</td>\n",
       "      <td>0.0</td>\n",
       "      <td>1.0</td>\n",
       "      <td>1.0</td>\n",
       "      <td>0.0</td>\n",
       "      <td>1.0</td>\n",
       "      <td>...</td>\n",
       "      <td>0.0</td>\n",
       "      <td>0.0</td>\n",
       "      <td>NaN</td>\n",
       "      <td>0.0</td>\n",
       "      <td>0.0</td>\n",
       "      <td>NaN</td>\n",
       "      <td>0.0</td>\n",
       "      <td>1.0</td>\n",
       "      <td>inf</td>\n",
       "      <td>NaN</td>\n",
       "    </tr>\n",
       "    <tr>\n",
       "      <th>Torrington</th>\n",
       "      <td>Torrington Police Dept</td>\n",
       "      <td>CT</td>\n",
       "      <td>0.0</td>\n",
       "      <td>1.0</td>\n",
       "      <td>0.0</td>\n",
       "      <td>0.0</td>\n",
       "      <td>1.0</td>\n",
       "      <td>2.0</td>\n",
       "      <td>0.0</td>\n",
       "      <td>2.0</td>\n",
       "      <td>...</td>\n",
       "      <td>0.0</td>\n",
       "      <td>1.0</td>\n",
       "      <td>inf</td>\n",
       "      <td>NaN</td>\n",
       "      <td>0.0</td>\n",
       "      <td>NaN</td>\n",
       "      <td>0.0</td>\n",
       "      <td>-1.0</td>\n",
       "      <td>-0.500000</td>\n",
       "      <td>NaN</td>\n",
       "    </tr>\n",
       "    <tr>\n",
       "      <th>Trumbull</th>\n",
       "      <td>Trumbull Police Dept</td>\n",
       "      <td>CT</td>\n",
       "      <td>0.0</td>\n",
       "      <td>0.0</td>\n",
       "      <td>NaN</td>\n",
       "      <td>0.0</td>\n",
       "      <td>0.0</td>\n",
       "      <td>0.0</td>\n",
       "      <td>1.0</td>\n",
       "      <td>0.0</td>\n",
       "      <td>...</td>\n",
       "      <td>0.0</td>\n",
       "      <td>0.0</td>\n",
       "      <td>NaN</td>\n",
       "      <td>0.0</td>\n",
       "      <td>0.0</td>\n",
       "      <td>NaN</td>\n",
       "      <td>0.0</td>\n",
       "      <td>0.0</td>\n",
       "      <td>NaN</td>\n",
       "      <td>0.0</td>\n",
       "    </tr>\n",
       "    <tr>\n",
       "      <th>Vernon</th>\n",
       "      <td>Vernon Police Dept</td>\n",
       "      <td>CT</td>\n",
       "      <td>0.0</td>\n",
       "      <td>0.0</td>\n",
       "      <td>0.0</td>\n",
       "      <td>0.0</td>\n",
       "      <td>1.0</td>\n",
       "      <td>0.0</td>\n",
       "      <td>1.0</td>\n",
       "      <td>0.0</td>\n",
       "      <td>...</td>\n",
       "      <td>NaN</td>\n",
       "      <td>1.0</td>\n",
       "      <td>inf</td>\n",
       "      <td>NaN</td>\n",
       "      <td>0.0</td>\n",
       "      <td>NaN</td>\n",
       "      <td>0.0</td>\n",
       "      <td>0.0</td>\n",
       "      <td>NaN</td>\n",
       "      <td>0.0</td>\n",
       "    </tr>\n",
       "    <tr>\n",
       "      <th>Wallingford</th>\n",
       "      <td>Wallingford Police Dept</td>\n",
       "      <td>CT</td>\n",
       "      <td>0.0</td>\n",
       "      <td>3.0</td>\n",
       "      <td>0.0</td>\n",
       "      <td>1.0</td>\n",
       "      <td>0.0</td>\n",
       "      <td>1.0</td>\n",
       "      <td>0.0</td>\n",
       "      <td>0.0</td>\n",
       "      <td>...</td>\n",
       "      <td>NaN</td>\n",
       "      <td>5.0</td>\n",
       "      <td>inf</td>\n",
       "      <td>NaN</td>\n",
       "      <td>0.0</td>\n",
       "      <td>0.000000</td>\n",
       "      <td>1.0</td>\n",
       "      <td>2.0</td>\n",
       "      <td>inf</td>\n",
       "      <td>NaN</td>\n",
       "    </tr>\n",
       "    <tr>\n",
       "      <th>Waterbury</th>\n",
       "      <td>Waterbury Police Dept</td>\n",
       "      <td>CT</td>\n",
       "      <td>5.0</td>\n",
       "      <td>7.0</td>\n",
       "      <td>7.0</td>\n",
       "      <td>11.0</td>\n",
       "      <td>6.0</td>\n",
       "      <td>5.0</td>\n",
       "      <td>9.0</td>\n",
       "      <td>12.0</td>\n",
       "      <td>...</td>\n",
       "      <td>NaN</td>\n",
       "      <td>-5.0</td>\n",
       "      <td>-1.000000</td>\n",
       "      <td>NaN</td>\n",
       "      <td>-5.0</td>\n",
       "      <td>-1.000000</td>\n",
       "      <td>NaN</td>\n",
       "      <td>-7.0</td>\n",
       "      <td>-1.000000</td>\n",
       "      <td>NaN</td>\n",
       "    </tr>\n",
       "    <tr>\n",
       "      <th>Waterford</th>\n",
       "      <td>Waterford Police Dept</td>\n",
       "      <td>CT</td>\n",
       "      <td>0.0</td>\n",
       "      <td>0.0</td>\n",
       "      <td>0.0</td>\n",
       "      <td>1.0</td>\n",
       "      <td>2.0</td>\n",
       "      <td>0.0</td>\n",
       "      <td>0.0</td>\n",
       "      <td>0.0</td>\n",
       "      <td>...</td>\n",
       "      <td>NaN</td>\n",
       "      <td>-1.0</td>\n",
       "      <td>-1.000000</td>\n",
       "      <td>NaN</td>\n",
       "      <td>0.0</td>\n",
       "      <td>NaN</td>\n",
       "      <td>0.0</td>\n",
       "      <td>0.0</td>\n",
       "      <td>NaN</td>\n",
       "      <td>0.0</td>\n",
       "    </tr>\n",
       "    <tr>\n",
       "      <th>Watertown</th>\n",
       "      <td>Watertown Police Dept</td>\n",
       "      <td>CT</td>\n",
       "      <td>1.0</td>\n",
       "      <td>0.0</td>\n",
       "      <td>0.0</td>\n",
       "      <td>0.0</td>\n",
       "      <td>0.0</td>\n",
       "      <td>1.0</td>\n",
       "      <td>1.0</td>\n",
       "      <td>0.0</td>\n",
       "      <td>...</td>\n",
       "      <td>0.0</td>\n",
       "      <td>-2.0</td>\n",
       "      <td>-1.000000</td>\n",
       "      <td>NaN</td>\n",
       "      <td>0.0</td>\n",
       "      <td>NaN</td>\n",
       "      <td>0.0</td>\n",
       "      <td>0.0</td>\n",
       "      <td>NaN</td>\n",
       "      <td>0.0</td>\n",
       "    </tr>\n",
       "    <tr>\n",
       "      <th>West Hartford</th>\n",
       "      <td>West Hartford Police Dept</td>\n",
       "      <td>CT</td>\n",
       "      <td>1.0</td>\n",
       "      <td>0.0</td>\n",
       "      <td>1.0</td>\n",
       "      <td>0.0</td>\n",
       "      <td>0.0</td>\n",
       "      <td>0.0</td>\n",
       "      <td>0.0</td>\n",
       "      <td>0.0</td>\n",
       "      <td>...</td>\n",
       "      <td>NaN</td>\n",
       "      <td>0.0</td>\n",
       "      <td>NaN</td>\n",
       "      <td>0.0</td>\n",
       "      <td>0.0</td>\n",
       "      <td>NaN</td>\n",
       "      <td>0.0</td>\n",
       "      <td>-1.0</td>\n",
       "      <td>-1.000000</td>\n",
       "      <td>NaN</td>\n",
       "    </tr>\n",
       "    <tr>\n",
       "      <th>West Haven</th>\n",
       "      <td>West Haven Police Dept</td>\n",
       "      <td>CT</td>\n",
       "      <td>1.0</td>\n",
       "      <td>1.0</td>\n",
       "      <td>1.0</td>\n",
       "      <td>1.0</td>\n",
       "      <td>3.0</td>\n",
       "      <td>0.0</td>\n",
       "      <td>3.0</td>\n",
       "      <td>3.0</td>\n",
       "      <td>...</td>\n",
       "      <td>NaN</td>\n",
       "      <td>-1.0</td>\n",
       "      <td>-1.000000</td>\n",
       "      <td>NaN</td>\n",
       "      <td>-2.0</td>\n",
       "      <td>-1.000000</td>\n",
       "      <td>NaN</td>\n",
       "      <td>2.0</td>\n",
       "      <td>inf</td>\n",
       "      <td>NaN</td>\n",
       "    </tr>\n",
       "    <tr>\n",
       "      <th>Weston</th>\n",
       "      <td>Weston Police Dept</td>\n",
       "      <td>CT</td>\n",
       "      <td>0.0</td>\n",
       "      <td>0.0</td>\n",
       "      <td>0.0</td>\n",
       "      <td>0.0</td>\n",
       "      <td>0.0</td>\n",
       "      <td>0.0</td>\n",
       "      <td>0.0</td>\n",
       "      <td>0.0</td>\n",
       "      <td>...</td>\n",
       "      <td>0.0</td>\n",
       "      <td>0.0</td>\n",
       "      <td>NaN</td>\n",
       "      <td>0.0</td>\n",
       "      <td>0.0</td>\n",
       "      <td>NaN</td>\n",
       "      <td>0.0</td>\n",
       "      <td>0.0</td>\n",
       "      <td>NaN</td>\n",
       "      <td>0.0</td>\n",
       "    </tr>\n",
       "    <tr>\n",
       "      <th>Westport</th>\n",
       "      <td>Westport Police Dept</td>\n",
       "      <td>CT</td>\n",
       "      <td>3.0</td>\n",
       "      <td>0.0</td>\n",
       "      <td>1.0</td>\n",
       "      <td>0.0</td>\n",
       "      <td>2.0</td>\n",
       "      <td>0.0</td>\n",
       "      <td>1.0</td>\n",
       "      <td>0.0</td>\n",
       "      <td>...</td>\n",
       "      <td>NaN</td>\n",
       "      <td>0.0</td>\n",
       "      <td>NaN</td>\n",
       "      <td>0.0</td>\n",
       "      <td>0.0</td>\n",
       "      <td>NaN</td>\n",
       "      <td>0.0</td>\n",
       "      <td>0.0</td>\n",
       "      <td>NaN</td>\n",
       "      <td>0.0</td>\n",
       "    </tr>\n",
       "    <tr>\n",
       "      <th>Wethersfield</th>\n",
       "      <td>Wethersfield Police Dept</td>\n",
       "      <td>CT</td>\n",
       "      <td>0.0</td>\n",
       "      <td>0.0</td>\n",
       "      <td>0.0</td>\n",
       "      <td>2.0</td>\n",
       "      <td>2.0</td>\n",
       "      <td>0.0</td>\n",
       "      <td>1.0</td>\n",
       "      <td>0.0</td>\n",
       "      <td>...</td>\n",
       "      <td>NaN</td>\n",
       "      <td>0.0</td>\n",
       "      <td>NaN</td>\n",
       "      <td>0.0</td>\n",
       "      <td>1.0</td>\n",
       "      <td>inf</td>\n",
       "      <td>NaN</td>\n",
       "      <td>-1.0</td>\n",
       "      <td>-1.000000</td>\n",
       "      <td>NaN</td>\n",
       "    </tr>\n",
       "    <tr>\n",
       "      <th>Willimantic</th>\n",
       "      <td>Willimantic Police Dept</td>\n",
       "      <td>CT</td>\n",
       "      <td>0.0</td>\n",
       "      <td>0.0</td>\n",
       "      <td>0.0</td>\n",
       "      <td>2.0</td>\n",
       "      <td>0.0</td>\n",
       "      <td>0.0</td>\n",
       "      <td>0.0</td>\n",
       "      <td>1.0</td>\n",
       "      <td>...</td>\n",
       "      <td>NaN</td>\n",
       "      <td>5.0</td>\n",
       "      <td>inf</td>\n",
       "      <td>NaN</td>\n",
       "      <td>5.0</td>\n",
       "      <td>inf</td>\n",
       "      <td>NaN</td>\n",
       "      <td>7.0</td>\n",
       "      <td>inf</td>\n",
       "      <td>NaN</td>\n",
       "    </tr>\n",
       "    <tr>\n",
       "      <th>Wilton</th>\n",
       "      <td>Wilton Police Dept</td>\n",
       "      <td>CT</td>\n",
       "      <td>0.0</td>\n",
       "      <td>0.0</td>\n",
       "      <td>0.0</td>\n",
       "      <td>0.0</td>\n",
       "      <td>0.0</td>\n",
       "      <td>0.0</td>\n",
       "      <td>0.0</td>\n",
       "      <td>0.0</td>\n",
       "      <td>...</td>\n",
       "      <td>0.0</td>\n",
       "      <td>0.0</td>\n",
       "      <td>0.000000</td>\n",
       "      <td>1.0</td>\n",
       "      <td>0.0</td>\n",
       "      <td>NaN</td>\n",
       "      <td>0.0</td>\n",
       "      <td>0.0</td>\n",
       "      <td>NaN</td>\n",
       "      <td>0.0</td>\n",
       "    </tr>\n",
       "    <tr>\n",
       "      <th>Winchester</th>\n",
       "      <td>Winchester Town Police Dept</td>\n",
       "      <td>CT</td>\n",
       "      <td>0.0</td>\n",
       "      <td>0.0</td>\n",
       "      <td>0.0</td>\n",
       "      <td>0.0</td>\n",
       "      <td>0.0</td>\n",
       "      <td>0.0</td>\n",
       "      <td>0.0</td>\n",
       "      <td>0.0</td>\n",
       "      <td>...</td>\n",
       "      <td>0.0</td>\n",
       "      <td>2.0</td>\n",
       "      <td>inf</td>\n",
       "      <td>NaN</td>\n",
       "      <td>0.0</td>\n",
       "      <td>NaN</td>\n",
       "      <td>0.0</td>\n",
       "      <td>0.0</td>\n",
       "      <td>NaN</td>\n",
       "      <td>0.0</td>\n",
       "    </tr>\n",
       "    <tr>\n",
       "      <th>Windsor Locks</th>\n",
       "      <td>Windsor Locks Police Dept</td>\n",
       "      <td>CT</td>\n",
       "      <td>0.0</td>\n",
       "      <td>0.0</td>\n",
       "      <td>0.0</td>\n",
       "      <td>0.0</td>\n",
       "      <td>0.0</td>\n",
       "      <td>0.0</td>\n",
       "      <td>2.0</td>\n",
       "      <td>1.0</td>\n",
       "      <td>...</td>\n",
       "      <td>NaN</td>\n",
       "      <td>0.0</td>\n",
       "      <td>NaN</td>\n",
       "      <td>0.0</td>\n",
       "      <td>0.0</td>\n",
       "      <td>NaN</td>\n",
       "      <td>0.0</td>\n",
       "      <td>0.0</td>\n",
       "      <td>0.000000</td>\n",
       "      <td>1.0</td>\n",
       "    </tr>\n",
       "    <tr>\n",
       "      <th>Windsor</th>\n",
       "      <td>Windsor Police Dept</td>\n",
       "      <td>CT</td>\n",
       "      <td>0.0</td>\n",
       "      <td>0.0</td>\n",
       "      <td>0.0</td>\n",
       "      <td>0.0</td>\n",
       "      <td>0.0</td>\n",
       "      <td>1.0</td>\n",
       "      <td>0.0</td>\n",
       "      <td>2.0</td>\n",
       "      <td>...</td>\n",
       "      <td>NaN</td>\n",
       "      <td>1.0</td>\n",
       "      <td>inf</td>\n",
       "      <td>NaN</td>\n",
       "      <td>1.0</td>\n",
       "      <td>1.000000</td>\n",
       "      <td>NaN</td>\n",
       "      <td>-1.0</td>\n",
       "      <td>-1.000000</td>\n",
       "      <td>NaN</td>\n",
       "    </tr>\n",
       "    <tr>\n",
       "      <th>Wolcott</th>\n",
       "      <td>Wolcott Police Dept</td>\n",
       "      <td>CT</td>\n",
       "      <td>0.0</td>\n",
       "      <td>0.0</td>\n",
       "      <td>0.0</td>\n",
       "      <td>0.0</td>\n",
       "      <td>1.0</td>\n",
       "      <td>1.0</td>\n",
       "      <td>0.0</td>\n",
       "      <td>0.0</td>\n",
       "      <td>...</td>\n",
       "      <td>0.0</td>\n",
       "      <td>0.0</td>\n",
       "      <td>NaN</td>\n",
       "      <td>0.0</td>\n",
       "      <td>0.0</td>\n",
       "      <td>NaN</td>\n",
       "      <td>0.0</td>\n",
       "      <td>0.0</td>\n",
       "      <td>NaN</td>\n",
       "      <td>0.0</td>\n",
       "    </tr>\n",
       "  </tbody>\n",
       "</table>\n",
       "<p>83 rows × 71 columns</p>\n",
       "</div>"
      ],
      "text/plain": [
       "                                    Agency State  1985  1986  1987  1988  \\\n",
       "City                                                                       \n",
       "Ansonia                Ansonia Police Dept    CT   0.0   0.0   1.0   1.0   \n",
       "Avon                      Avon Police Dept    CT   0.0   0.0   0.0   0.0   \n",
       "Berlin                  Berlin Police Dept    CT   0.0   0.0   0.0   1.0   \n",
       "Bethel                  Bethel Police Dept    CT   0.0   0.0   0.0   0.0   \n",
       "Bloomfield          Bloomfield Police Dept    CT   0.0   0.0   1.0   0.0   \n",
       "Branford              Branford Police Dept    CT   0.0   0.0   1.0   0.0   \n",
       "Bridgeport          Bridgeport Police Dept    CT  30.0  40.0  37.0  43.0   \n",
       "Bristol                Bristol Police Dept    CT   1.0   0.0   0.0   1.0   \n",
       "Brookfield          Brookfield Police Dept    CT   0.0   0.0   0.0   0.0   \n",
       "Canton             Canton Town Police Dept    CT   0.0   1.0   0.0   0.0   \n",
       "Cheshire              Cheshire Police Dept    CT   0.0   0.0   0.0   0.0   \n",
       "Clinton                Clinton Police Dept    CT   0.0   0.0   0.0   1.0   \n",
       "Coventry              Coventry Police Dept    CT   0.0   1.0   0.0   0.0   \n",
       "Cromwell              Cromwell Police Dept    CT   0.0   0.0   0.0   0.0   \n",
       "Danbury                Danbury Police Dept    CT   3.0   2.0   1.0   0.0   \n",
       "Darien                  Darien Police Dept    CT   2.0   0.0   2.0   0.0   \n",
       "Derby                    Derby Police Dept    CT   0.0   0.0   0.0   0.0   \n",
       "East Hampton      East Hampton Police Dept    CT   0.0   0.0   0.0   1.0   \n",
       "East Hartford         East Hartford Police    CT   2.0   6.0   NaN   2.0   \n",
       "East Haven          East Haven Police Dept    CT   0.0   1.0   0.0   0.0   \n",
       "East Windsor      East Windsor Police Dept    CT   2.0   0.0   4.0   0.0   \n",
       "Enfield                Enfield Police Dept    CT   2.0   0.0   0.0   0.0   \n",
       "Fairfield            Fairfield Police Dept    CT   0.0   2.0   1.0   1.0   \n",
       "Farmington          Farmington Police Dept    CT   0.0   0.0   0.0   0.0   \n",
       "Glastonbury        Glastonbury Police Dept    CT   0.0   0.0   1.0   0.0   \n",
       "Granby                  Granby Police Dept    CT   0.0   0.0   0.0   0.0   \n",
       "Greenwich            Greenwich Police Dept    CT   0.0   1.0   0.0   1.0   \n",
       "Groton             Groton Town Police Dept    CT   0.0   1.0   1.0   0.0   \n",
       "Guilford              Guilford Police Dept    CT   0.0   0.0   0.0   0.0   \n",
       "Hamden                  Hamden Police Dept    CT   3.0   1.0   2.0   4.0   \n",
       "...                                    ...   ...   ...   ...   ...   ...   \n",
       "Plymouth              Plymouth Police Dept    CT   2.0   0.0   0.0   0.0   \n",
       "Ridgefield          Ridgefield Police Dept    CT   0.0   0.0   1.0   0.0   \n",
       "Rocky Hill          Rocky Hill Police Dept    CT   0.0   0.0   1.0   0.0   \n",
       "Seymour                Seymour Police Dept    CT   0.0   1.0   0.0   0.0   \n",
       "Shelton                Shelton Police Dept    CT   0.0   0.0   1.0   2.0   \n",
       "Simsbury              Simsbury Police Dept    CT   0.0   0.0   0.0   0.0   \n",
       "South Windsor    South Windsor Police Dept    CT   0.0   0.0   NaN   1.0   \n",
       "Southington        Southington Police Dept    CT   0.0   0.0   0.0   2.0   \n",
       "Stamford              Stamford Police Dept    CT   5.0   6.0   4.0   6.0   \n",
       "Stonington          Stonington Police Dept    CT   0.0   0.0   0.0   1.0   \n",
       "Stratford            Stratford Police Dept    CT   1.0   2.0   1.0   1.0   \n",
       "Suffield              Suffield Police Dept    CT   0.0   0.0   2.0   0.0   \n",
       "Torrington          Torrington Police Dept    CT   0.0   1.0   0.0   0.0   \n",
       "Trumbull              Trumbull Police Dept    CT   0.0   0.0   NaN   0.0   \n",
       "Vernon                  Vernon Police Dept    CT   0.0   0.0   0.0   0.0   \n",
       "Wallingford        Wallingford Police Dept    CT   0.0   3.0   0.0   1.0   \n",
       "Waterbury            Waterbury Police Dept    CT   5.0   7.0   7.0  11.0   \n",
       "Waterford            Waterford Police Dept    CT   0.0   0.0   0.0   1.0   \n",
       "Watertown            Watertown Police Dept    CT   1.0   0.0   0.0   0.0   \n",
       "West Hartford    West Hartford Police Dept    CT   1.0   0.0   1.0   0.0   \n",
       "West Haven          West Haven Police Dept    CT   1.0   1.0   1.0   1.0   \n",
       "Weston                  Weston Police Dept    CT   0.0   0.0   0.0   0.0   \n",
       "Westport              Westport Police Dept    CT   3.0   0.0   1.0   0.0   \n",
       "Wethersfield      Wethersfield Police Dept    CT   0.0   0.0   0.0   2.0   \n",
       "Willimantic        Willimantic Police Dept    CT   0.0   0.0   0.0   2.0   \n",
       "Wilton                  Wilton Police Dept    CT   0.0   0.0   0.0   0.0   \n",
       "Winchester     Winchester Town Police Dept    CT   0.0   0.0   0.0   0.0   \n",
       "Windsor Locks    Windsor Locks Police Dept    CT   0.0   0.0   0.0   0.0   \n",
       "Windsor                Windsor Police Dept    CT   0.0   0.0   0.0   0.0   \n",
       "Wolcott                Wolcott Police Dept    CT   0.0   0.0   0.0   0.0   \n",
       "\n",
       "               1989  1990  1991  1992  ...   2011  2012_diff  2012_diff_pct  \\\n",
       "City                                   ...                                    \n",
       "Ansonia         0.0   0.0   0.0   0.0  ...    3.0        0.0            NaN   \n",
       "Avon            0.0   0.0   0.0   0.0  ...    0.0        0.0            NaN   \n",
       "Berlin          0.0   0.0   1.0   0.0  ...    0.0        0.0            NaN   \n",
       "Bethel          0.0   1.0   0.0   2.0  ...    0.0        0.0            NaN   \n",
       "Bloomfield      0.0   0.0   1.0   0.0  ...    1.0        0.0            NaN   \n",
       "Branford        0.0   0.0   1.0   0.0  ...    0.0        0.0            NaN   \n",
       "Bridgeport     36.0  57.0  51.0  57.0  ...   20.0        0.0       0.000000   \n",
       "Bristol         0.0   0.0   1.0   0.0  ...    1.0        0.0       0.000000   \n",
       "Brookfield      0.0   0.0   1.0   0.0  ...    0.0        0.0            NaN   \n",
       "Canton          0.0   0.0   0.0   0.0  ...    0.0        0.0            NaN   \n",
       "Cheshire        0.0   0.0   0.0   0.0  ...    0.0        0.0            NaN   \n",
       "Clinton         1.0   0.0   0.0   0.0  ...    0.0        0.0            NaN   \n",
       "Coventry        0.0   0.0   0.0   0.0  ...    0.0        0.0            NaN   \n",
       "Cromwell        0.0   0.0   0.0   0.0  ...    0.0        0.0            NaN   \n",
       "Danbury         3.0   0.0   2.0   4.0  ...    1.0        0.0       0.000000   \n",
       "Darien          0.0   0.0   0.0   0.0  ...    0.0        0.0            NaN   \n",
       "Derby           3.0   0.0   0.0   1.0  ...    0.0        0.0       0.000000   \n",
       "East Hampton    0.0   0.0   0.0   0.0  ...    1.0        0.0       0.000000   \n",
       "East Hartford   1.0   1.0   1.0   1.0  ...    0.0        0.0       0.000000   \n",
       "East Haven      0.0   0.0   1.0   0.0  ...    0.0        0.0       0.000000   \n",
       "East Windsor    0.0   0.0   0.0   0.0  ...    0.0        0.0            NaN   \n",
       "Enfield         0.0   1.0   0.0   0.0  ...    NaN        0.0            NaN   \n",
       "Fairfield       0.0   1.0   0.0   1.0  ...    NaN        0.0            NaN   \n",
       "Farmington      0.0   0.0   0.0   0.0  ...    0.0        0.0            NaN   \n",
       "Glastonbury     0.0   0.0   1.0   0.0  ...    0.0        0.0            NaN   \n",
       "Granby          0.0   0.0   0.0   0.0  ...    0.0        0.0            NaN   \n",
       "Greenwich       0.0   0.0   0.0   0.0  ...    0.0        0.0            NaN   \n",
       "Groton          2.0   0.0   0.0   0.0  ...    0.0        0.0            NaN   \n",
       "Guilford        0.0   0.0   0.0   0.0  ...    0.0        0.0            NaN   \n",
       "Hamden          1.0   0.0   0.0   4.0  ...    NaN       -2.0      -1.000000   \n",
       "...             ...   ...   ...   ...  ...    ...        ...            ...   \n",
       "Plymouth        1.0   1.0   0.0   0.0  ...    0.0        0.0            NaN   \n",
       "Ridgefield      0.0   0.0   0.0   0.0  ...    0.0        0.0            NaN   \n",
       "Rocky Hill      1.0   1.0   1.0   1.0  ...    0.0        0.0            NaN   \n",
       "Seymour         0.0   0.0   0.0   0.0  ...    0.0        0.0            NaN   \n",
       "Shelton         0.0   1.0   1.0   2.0  ...    0.0        0.0            NaN   \n",
       "Simsbury        0.0   0.0   0.0   0.0  ...    0.0       -1.0      -1.000000   \n",
       "South Windsor   0.0   1.0   0.0   0.0  ...    0.0        0.0            NaN   \n",
       "Southington     1.0   0.0   NaN   0.0  ...    NaN       -1.0      -1.000000   \n",
       "Stamford        9.0  10.0  10.0   7.0  ...    NaN       -5.0      -1.000000   \n",
       "Stonington      0.0   0.0   0.0   0.0  ...    0.0        0.0            NaN   \n",
       "Stratford       3.0   3.0   2.0   1.0  ...    NaN        0.0            NaN   \n",
       "Suffield        1.0   1.0   0.0   1.0  ...    0.0        0.0            NaN   \n",
       "Torrington      1.0   2.0   0.0   2.0  ...    0.0        1.0            inf   \n",
       "Trumbull        0.0   0.0   1.0   0.0  ...    0.0        0.0            NaN   \n",
       "Vernon          1.0   0.0   1.0   0.0  ...    NaN        1.0            inf   \n",
       "Wallingford     0.0   1.0   0.0   0.0  ...    NaN        5.0            inf   \n",
       "Waterbury       6.0   5.0   9.0  12.0  ...    NaN       -5.0      -1.000000   \n",
       "Waterford       2.0   0.0   0.0   0.0  ...    NaN       -1.0      -1.000000   \n",
       "Watertown       0.0   1.0   1.0   0.0  ...    0.0       -2.0      -1.000000   \n",
       "West Hartford   0.0   0.0   0.0   0.0  ...    NaN        0.0            NaN   \n",
       "West Haven      3.0   0.0   3.0   3.0  ...    NaN       -1.0      -1.000000   \n",
       "Weston          0.0   0.0   0.0   0.0  ...    0.0        0.0            NaN   \n",
       "Westport        2.0   0.0   1.0   0.0  ...    NaN        0.0            NaN   \n",
       "Wethersfield    2.0   0.0   1.0   0.0  ...    NaN        0.0            NaN   \n",
       "Willimantic     0.0   0.0   0.0   1.0  ...    NaN        5.0            inf   \n",
       "Wilton          0.0   0.0   0.0   0.0  ...    0.0        0.0       0.000000   \n",
       "Winchester      0.0   0.0   0.0   0.0  ...    0.0        2.0            inf   \n",
       "Windsor Locks   0.0   0.0   2.0   1.0  ...    NaN        0.0            NaN   \n",
       "Windsor         0.0   1.0   0.0   2.0  ...    NaN        1.0            inf   \n",
       "Wolcott         1.0   1.0   0.0   0.0  ...    0.0        0.0            NaN   \n",
       "\n",
       "               2012  2013_diff  2013_diff_pct  2013  2014_diff  2014_diff_pct  \\\n",
       "City                                                                            \n",
       "Ansonia         0.0        0.0            NaN   0.0        0.0            NaN   \n",
       "Avon            0.0        0.0            NaN   0.0        0.0            NaN   \n",
       "Berlin          0.0        0.0            NaN   0.0        0.0            NaN   \n",
       "Bethel          0.0        0.0            NaN   0.0        0.0            NaN   \n",
       "Bloomfield      0.0        0.0       0.000000   1.0        0.0            NaN   \n",
       "Branford        0.0       -1.0      -1.000000   NaN        0.0       0.000000   \n",
       "Bridgeport     22.0        0.0       0.000000  11.0        0.0       0.000000   \n",
       "Bristol         3.0        0.0       0.000000   2.0        0.0       0.000000   \n",
       "Brookfield      0.0        0.0            NaN   0.0        0.0            NaN   \n",
       "Canton          0.0        0.0            NaN   0.0        0.0            NaN   \n",
       "Cheshire        0.0        0.0            NaN   0.0        0.0       0.000000   \n",
       "Clinton         0.0        0.0       0.000000   1.0        0.0            NaN   \n",
       "Coventry        0.0        0.0       0.000000   1.0        0.0            NaN   \n",
       "Cromwell        0.0        0.0            NaN   0.0        0.0            NaN   \n",
       "Danbury         1.0        0.0       0.000000   2.0        0.0       0.000000   \n",
       "Darien          0.0        0.0            NaN   0.0        0.0            NaN   \n",
       "Derby           1.0        0.0            NaN   0.0        0.0            NaN   \n",
       "East Hampton    1.0        0.0            NaN   0.0        0.0            NaN   \n",
       "East Hartford   2.0        0.0       0.000000   1.0        0.0       0.000000   \n",
       "East Haven      1.0        0.0            NaN   0.0        0.0            NaN   \n",
       "East Windsor    0.0        0.0       0.000000   1.0        0.0       0.000000   \n",
       "Enfield         0.0        0.0            NaN   0.0       -2.0      -1.000000   \n",
       "Fairfield       0.0        0.0            NaN   0.0        2.0            inf   \n",
       "Farmington      0.0        0.0            NaN   0.0        0.0            NaN   \n",
       "Glastonbury     0.0        0.0            NaN   0.0        0.0            NaN   \n",
       "Granby          0.0        0.0            NaN   0.0        0.0            NaN   \n",
       "Greenwich       0.0        0.0            NaN   0.0        0.0            NaN   \n",
       "Groton          0.0        0.0            NaN   0.0        0.0            NaN   \n",
       "Guilford        0.0        0.0            NaN   0.0        0.0            NaN   \n",
       "Hamden          NaN        0.0            NaN   0.0       -1.0      -1.000000   \n",
       "...             ...        ...            ...   ...        ...            ...   \n",
       "Plymouth        0.0        0.0            NaN   0.0        0.0            NaN   \n",
       "Ridgefield      0.0        0.0            NaN   0.0        1.0            inf   \n",
       "Rocky Hill      0.0        0.0            NaN   0.0        0.0            NaN   \n",
       "Seymour         0.0        0.0            NaN   0.0        0.0            NaN   \n",
       "Shelton         0.0        0.0            NaN   0.0       -1.0      -1.000000   \n",
       "Simsbury        NaN        0.0            NaN   0.0       -1.0      -1.000000   \n",
       "South Windsor   0.0        0.0            NaN   0.0        0.0            NaN   \n",
       "Southington     NaN        0.0            NaN   0.0        0.0            NaN   \n",
       "Stamford        NaN       -1.0      -1.000000   NaN       -2.0      -1.000000   \n",
       "Stonington      0.0        0.0            NaN   0.0        0.0            NaN   \n",
       "Stratford       0.0        0.0            NaN   0.0        0.0            NaN   \n",
       "Suffield        0.0        0.0            NaN   0.0        1.0            inf   \n",
       "Torrington      NaN        0.0            NaN   0.0       -1.0      -0.500000   \n",
       "Trumbull        0.0        0.0            NaN   0.0        0.0            NaN   \n",
       "Vernon          NaN        0.0            NaN   0.0        0.0            NaN   \n",
       "Wallingford     NaN        0.0       0.000000   1.0        2.0            inf   \n",
       "Waterbury       NaN       -5.0      -1.000000   NaN       -7.0      -1.000000   \n",
       "Waterford       NaN        0.0            NaN   0.0        0.0            NaN   \n",
       "Watertown       NaN        0.0            NaN   0.0        0.0            NaN   \n",
       "West Hartford   0.0        0.0            NaN   0.0       -1.0      -1.000000   \n",
       "West Haven      NaN       -2.0      -1.000000   NaN        2.0            inf   \n",
       "Weston          0.0        0.0            NaN   0.0        0.0            NaN   \n",
       "Westport        0.0        0.0            NaN   0.0        0.0            NaN   \n",
       "Wethersfield    0.0        1.0            inf   NaN       -1.0      -1.000000   \n",
       "Willimantic     NaN        5.0            inf   NaN        7.0            inf   \n",
       "Wilton          1.0        0.0            NaN   0.0        0.0            NaN   \n",
       "Winchester      NaN        0.0            NaN   0.0        0.0            NaN   \n",
       "Windsor Locks   0.0        0.0            NaN   0.0        0.0       0.000000   \n",
       "Windsor         NaN        1.0       1.000000   NaN       -1.0      -1.000000   \n",
       "Wolcott         0.0        0.0            NaN   0.0        0.0            NaN   \n",
       "\n",
       "               2014  \n",
       "City                 \n",
       "Ansonia         0.0  \n",
       "Avon            0.0  \n",
       "Berlin          0.0  \n",
       "Bethel          0.0  \n",
       "Bloomfield      0.0  \n",
       "Branford        1.0  \n",
       "Bridgeport     11.0  \n",
       "Bristol         3.0  \n",
       "Brookfield      0.0  \n",
       "Canton          0.0  \n",
       "Cheshire        1.0  \n",
       "Clinton         0.0  \n",
       "Coventry        0.0  \n",
       "Cromwell        0.0  \n",
       "Danbury         1.0  \n",
       "Darien          0.0  \n",
       "Derby           0.0  \n",
       "East Hampton    0.0  \n",
       "East Hartford   2.0  \n",
       "East Haven      0.0  \n",
       "East Windsor    1.0  \n",
       "Enfield         NaN  \n",
       "Fairfield       NaN  \n",
       "Farmington      0.0  \n",
       "Glastonbury     0.0  \n",
       "Granby          0.0  \n",
       "Greenwich       0.0  \n",
       "Groton          0.0  \n",
       "Guilford        0.0  \n",
       "Hamden          NaN  \n",
       "...             ...  \n",
       "Plymouth        0.0  \n",
       "Ridgefield      NaN  \n",
       "Rocky Hill      0.0  \n",
       "Seymour         0.0  \n",
       "Shelton         NaN  \n",
       "Simsbury        NaN  \n",
       "South Windsor   0.0  \n",
       "Southington     0.0  \n",
       "Stamford        NaN  \n",
       "Stonington      0.0  \n",
       "Stratford       0.0  \n",
       "Suffield        NaN  \n",
       "Torrington      NaN  \n",
       "Trumbull        0.0  \n",
       "Vernon          0.0  \n",
       "Wallingford     NaN  \n",
       "Waterbury       NaN  \n",
       "Waterford       0.0  \n",
       "Watertown       0.0  \n",
       "West Hartford   NaN  \n",
       "West Haven      NaN  \n",
       "Weston          0.0  \n",
       "Westport        0.0  \n",
       "Wethersfield    NaN  \n",
       "Willimantic     NaN  \n",
       "Wilton          0.0  \n",
       "Winchester      0.0  \n",
       "Windsor Locks   1.0  \n",
       "Windsor         NaN  \n",
       "Wolcott         0.0  \n",
       "\n",
       "[83 rows x 71 columns]"
      ]
     },
     "execution_count": 12,
     "metadata": {},
     "output_type": "execute_result"
    }
   ],
   "source": [
    "# Check columns that overlap to see if the historical data has the same valus as the newer sheets\n",
    "err_count = 0\n",
    "tot_count = 0\n",
    "def add_checks(df):\n",
    "    \n",
    "    global err_count, tot_count\n",
    "    \n",
    "    err_count = 0\n",
    "    tot_count = 0\n",
    "    \n",
    "    ret = df.copy()\n",
    "    overlap = map(lambda x: x.replace(\"_new\",\"\"),\n",
    "                  filter(lambda x: \"_new\" in x, ret.columns.get_values()))\n",
    "\n",
    "    for y in overlap:\n",
    "        #print ret.dtypes\n",
    "        ret[y + \"_new\"] = pd.to_numeric(ret[y + \"_new\"],errors=coerce)\n",
    "        ret[y + \"_hist\"] = pd.to_numeric(ret[y + \"_hist\"],errors=coerce)\n",
    "        ret[y + \"_diff\"] = ret[y + \"_new\"].sub(ret[y + \"_hist\"])\n",
    "        ret[y + \"_diff_pct\"] = ret[y + \"_diff\"] / ret[y + \"_hist\"]\n",
    "        def y_or_null(row,y):\n",
    "            global tot_count,err_count\n",
    "            tot_count += 1\n",
    "            if row[y + \"_new\"] == row[y + \"_hist\"]:\n",
    "                return row[y + \"_new\"]\n",
    "            #print row[y + \"_new\"] - row[y + \"_hist\"]\n",
    "            err_count += 1\n",
    "            return None\n",
    "        ret[y] = ret.apply(lambda x: y_or_null(x,y) ,axis=1)\n",
    "        \n",
    "    print \"Errors: \" + str(err_count)\n",
    "    print \"Total:  \" + str(tot_count)\n",
    "    return ret\n",
    "    \n",
    "add_checks(add_history(make_frame(col_labels[\"murder\"]),\n",
    "                       hist_dfs[\"murder\"]))#.head(1).transpose()"
   ]
  },
  {
   "cell_type": "code",
   "execution_count": 13,
   "metadata": {
    "collapsed": false
   },
   "outputs": [
    {
     "data": {
      "text/html": [
       "<div>\n",
       "<table border=\"1\" class=\"dataframe\">\n",
       "  <thead>\n",
       "    <tr style=\"text-align: right;\">\n",
       "      <th></th>\n",
       "      <th>Agency</th>\n",
       "      <th>State</th>\n",
       "      <th>1985</th>\n",
       "      <th>1986</th>\n",
       "      <th>1987</th>\n",
       "      <th>1988</th>\n",
       "      <th>1989</th>\n",
       "      <th>1990</th>\n",
       "      <th>1991</th>\n",
       "      <th>1992</th>\n",
       "      <th>...</th>\n",
       "      <th>2007_new</th>\n",
       "      <th>2008_new</th>\n",
       "      <th>2009_new</th>\n",
       "      <th>2010_new</th>\n",
       "      <th>2011_new</th>\n",
       "      <th>2012_new</th>\n",
       "      <th>2013_new</th>\n",
       "      <th>2014_new</th>\n",
       "      <th>2015</th>\n",
       "      <th>2016</th>\n",
       "    </tr>\n",
       "    <tr>\n",
       "      <th>City</th>\n",
       "      <th></th>\n",
       "      <th></th>\n",
       "      <th></th>\n",
       "      <th></th>\n",
       "      <th></th>\n",
       "      <th></th>\n",
       "      <th></th>\n",
       "      <th></th>\n",
       "      <th></th>\n",
       "      <th></th>\n",
       "      <th></th>\n",
       "      <th></th>\n",
       "      <th></th>\n",
       "      <th></th>\n",
       "      <th></th>\n",
       "      <th></th>\n",
       "      <th></th>\n",
       "      <th></th>\n",
       "      <th></th>\n",
       "      <th></th>\n",
       "      <th></th>\n",
       "    </tr>\n",
       "  </thead>\n",
       "  <tbody>\n",
       "    <tr>\n",
       "      <th>Ansonia</th>\n",
       "      <td>Ansonia Police Dept</td>\n",
       "      <td>CT</td>\n",
       "      <td>33.0</td>\n",
       "      <td>5.0</td>\n",
       "      <td>1.0</td>\n",
       "      <td>5.0</td>\n",
       "      <td>4.0</td>\n",
       "      <td>1.0</td>\n",
       "      <td>10.0</td>\n",
       "      <td>3.0</td>\n",
       "      <td>...</td>\n",
       "      <td>3.0</td>\n",
       "      <td>3.0</td>\n",
       "      <td>4.0</td>\n",
       "      <td>2.0</td>\n",
       "      <td>3.0</td>\n",
       "      <td>4.0</td>\n",
       "      <td>5.0</td>\n",
       "      <td>6.0</td>\n",
       "      <td>5.0</td>\n",
       "      <td>2.0</td>\n",
       "    </tr>\n",
       "    <tr>\n",
       "      <th>Avon</th>\n",
       "      <td>Avon Police Dept</td>\n",
       "      <td>CT</td>\n",
       "      <td>0.0</td>\n",
       "      <td>0.0</td>\n",
       "      <td>2.0</td>\n",
       "      <td>0.0</td>\n",
       "      <td>3.0</td>\n",
       "      <td>2.0</td>\n",
       "      <td>1.0</td>\n",
       "      <td>0.0</td>\n",
       "      <td>...</td>\n",
       "      <td>0.0</td>\n",
       "      <td>1.0</td>\n",
       "      <td>3.0</td>\n",
       "      <td>1.0</td>\n",
       "      <td>0.0</td>\n",
       "      <td>2.0</td>\n",
       "      <td>8.0</td>\n",
       "      <td>1.0</td>\n",
       "      <td>1.0</td>\n",
       "      <td>0.0</td>\n",
       "    </tr>\n",
       "    <tr>\n",
       "      <th>Berlin</th>\n",
       "      <td>Berlin Police Dept</td>\n",
       "      <td>CT</td>\n",
       "      <td>0.0</td>\n",
       "      <td>1.0</td>\n",
       "      <td>2.0</td>\n",
       "      <td>0.0</td>\n",
       "      <td>0.0</td>\n",
       "      <td>0.0</td>\n",
       "      <td>0.0</td>\n",
       "      <td>0.0</td>\n",
       "      <td>...</td>\n",
       "      <td>1.0</td>\n",
       "      <td>2.0</td>\n",
       "      <td>1.0</td>\n",
       "      <td>2.0</td>\n",
       "      <td>1.0</td>\n",
       "      <td>0.0</td>\n",
       "      <td>5.0</td>\n",
       "      <td>3.0</td>\n",
       "      <td>2.0</td>\n",
       "      <td>3.0</td>\n",
       "    </tr>\n",
       "    <tr>\n",
       "      <th>Bethel</th>\n",
       "      <td>Bethel Police Dept</td>\n",
       "      <td>CT</td>\n",
       "      <td>3.0</td>\n",
       "      <td>4.0</td>\n",
       "      <td>4.0</td>\n",
       "      <td>3.0</td>\n",
       "      <td>3.0</td>\n",
       "      <td>4.0</td>\n",
       "      <td>11.0</td>\n",
       "      <td>1.0</td>\n",
       "      <td>...</td>\n",
       "      <td>2.0</td>\n",
       "      <td>0.0</td>\n",
       "      <td>0.0</td>\n",
       "      <td>1.0</td>\n",
       "      <td>0.0</td>\n",
       "      <td>3.0</td>\n",
       "      <td>2.0</td>\n",
       "      <td>0.0</td>\n",
       "      <td>4.0</td>\n",
       "      <td>0.0</td>\n",
       "    </tr>\n",
       "    <tr>\n",
       "      <th>Bloomfield</th>\n",
       "      <td>Bloomfield Police Dept</td>\n",
       "      <td>CT</td>\n",
       "      <td>3.0</td>\n",
       "      <td>5.0</td>\n",
       "      <td>5.0</td>\n",
       "      <td>6.0</td>\n",
       "      <td>2.0</td>\n",
       "      <td>6.0</td>\n",
       "      <td>3.0</td>\n",
       "      <td>4.0</td>\n",
       "      <td>...</td>\n",
       "      <td>9.0</td>\n",
       "      <td>4.0</td>\n",
       "      <td>12.0</td>\n",
       "      <td>3.0</td>\n",
       "      <td>6.0</td>\n",
       "      <td>5.0</td>\n",
       "      <td>9.0</td>\n",
       "      <td>6.0</td>\n",
       "      <td>8.0</td>\n",
       "      <td>9.0</td>\n",
       "    </tr>\n",
       "    <tr>\n",
       "      <th>Branford</th>\n",
       "      <td>Branford Police Dept</td>\n",
       "      <td>CT</td>\n",
       "      <td>0.0</td>\n",
       "      <td>2.0</td>\n",
       "      <td>3.0</td>\n",
       "      <td>0.0</td>\n",
       "      <td>4.0</td>\n",
       "      <td>1.0</td>\n",
       "      <td>4.0</td>\n",
       "      <td>4.0</td>\n",
       "      <td>...</td>\n",
       "      <td>6.0</td>\n",
       "      <td>13.0</td>\n",
       "      <td>0.0</td>\n",
       "      <td>0.0</td>\n",
       "      <td>0.0</td>\n",
       "      <td>0.0</td>\n",
       "      <td>0.0</td>\n",
       "      <td>0.0</td>\n",
       "      <td>0.0</td>\n",
       "      <td>2.0</td>\n",
       "    </tr>\n",
       "    <tr>\n",
       "      <th>Bridgeport</th>\n",
       "      <td>Bridgeport Police Dept</td>\n",
       "      <td>CT</td>\n",
       "      <td>57.0</td>\n",
       "      <td>75.0</td>\n",
       "      <td>58.0</td>\n",
       "      <td>90.0</td>\n",
       "      <td>70.0</td>\n",
       "      <td>79.0</td>\n",
       "      <td>82.0</td>\n",
       "      <td>74.0</td>\n",
       "      <td>...</td>\n",
       "      <td>77.0</td>\n",
       "      <td>58.0</td>\n",
       "      <td>58.0</td>\n",
       "      <td>57.0</td>\n",
       "      <td>116.0</td>\n",
       "      <td>388.0</td>\n",
       "      <td>NaN</td>\n",
       "      <td>92.0</td>\n",
       "      <td>80.0</td>\n",
       "      <td>69.0</td>\n",
       "    </tr>\n",
       "    <tr>\n",
       "      <th>Bristol</th>\n",
       "      <td>Bristol Police Dept</td>\n",
       "      <td>CT</td>\n",
       "      <td>4.0</td>\n",
       "      <td>2.0</td>\n",
       "      <td>6.0</td>\n",
       "      <td>3.0</td>\n",
       "      <td>5.0</td>\n",
       "      <td>12.0</td>\n",
       "      <td>6.0</td>\n",
       "      <td>2.0</td>\n",
       "      <td>...</td>\n",
       "      <td>12.0</td>\n",
       "      <td>27.0</td>\n",
       "      <td>26.0</td>\n",
       "      <td>27.0</td>\n",
       "      <td>10.0</td>\n",
       "      <td>9.0</td>\n",
       "      <td>15.0</td>\n",
       "      <td>11.0</td>\n",
       "      <td>11.0</td>\n",
       "      <td>10.0</td>\n",
       "    </tr>\n",
       "    <tr>\n",
       "      <th>Brookfield</th>\n",
       "      <td>Brookfield Police Dept</td>\n",
       "      <td>CT</td>\n",
       "      <td>2.0</td>\n",
       "      <td>3.0</td>\n",
       "      <td>1.0</td>\n",
       "      <td>1.0</td>\n",
       "      <td>4.0</td>\n",
       "      <td>2.0</td>\n",
       "      <td>2.0</td>\n",
       "      <td>1.0</td>\n",
       "      <td>...</td>\n",
       "      <td>0.0</td>\n",
       "      <td>1.0</td>\n",
       "      <td>0.0</td>\n",
       "      <td>0.0</td>\n",
       "      <td>1.0</td>\n",
       "      <td>0.0</td>\n",
       "      <td>0.0</td>\n",
       "      <td>0.0</td>\n",
       "      <td>0.0</td>\n",
       "      <td>0.0</td>\n",
       "    </tr>\n",
       "    <tr>\n",
       "      <th>Canton</th>\n",
       "      <td>Canton Town Police Dept</td>\n",
       "      <td>CT</td>\n",
       "      <td>0.0</td>\n",
       "      <td>0.0</td>\n",
       "      <td>0.0</td>\n",
       "      <td>1.0</td>\n",
       "      <td>0.0</td>\n",
       "      <td>1.0</td>\n",
       "      <td>0.0</td>\n",
       "      <td>1.0</td>\n",
       "      <td>...</td>\n",
       "      <td>2.0</td>\n",
       "      <td>0.0</td>\n",
       "      <td>0.0</td>\n",
       "      <td>0.0</td>\n",
       "      <td>1.0</td>\n",
       "      <td>1.0</td>\n",
       "      <td>2.0</td>\n",
       "      <td>1.0</td>\n",
       "      <td>0.0</td>\n",
       "      <td>0.0</td>\n",
       "    </tr>\n",
       "    <tr>\n",
       "      <th>Cheshire</th>\n",
       "      <td>Cheshire Police Dept</td>\n",
       "      <td>CT</td>\n",
       "      <td>2.0</td>\n",
       "      <td>3.0</td>\n",
       "      <td>2.0</td>\n",
       "      <td>0.0</td>\n",
       "      <td>4.0</td>\n",
       "      <td>0.0</td>\n",
       "      <td>3.0</td>\n",
       "      <td>0.0</td>\n",
       "      <td>...</td>\n",
       "      <td>1.0</td>\n",
       "      <td>0.0</td>\n",
       "      <td>0.0</td>\n",
       "      <td>0.0</td>\n",
       "      <td>0.0</td>\n",
       "      <td>0.0</td>\n",
       "      <td>0.0</td>\n",
       "      <td>0.0</td>\n",
       "      <td>1.0</td>\n",
       "      <td>2.0</td>\n",
       "    </tr>\n",
       "    <tr>\n",
       "      <th>Clinton</th>\n",
       "      <td>Clinton Police Dept</td>\n",
       "      <td>CT</td>\n",
       "      <td>0.0</td>\n",
       "      <td>0.0</td>\n",
       "      <td>0.0</td>\n",
       "      <td>0.0</td>\n",
       "      <td>0.0</td>\n",
       "      <td>0.0</td>\n",
       "      <td>0.0</td>\n",
       "      <td>0.0</td>\n",
       "      <td>...</td>\n",
       "      <td>5.0</td>\n",
       "      <td>7.0</td>\n",
       "      <td>3.0</td>\n",
       "      <td>7.0</td>\n",
       "      <td>7.0</td>\n",
       "      <td>16.0</td>\n",
       "      <td>6.0</td>\n",
       "      <td>7.0</td>\n",
       "      <td>5.0</td>\n",
       "      <td>7.0</td>\n",
       "    </tr>\n",
       "    <tr>\n",
       "      <th>Coventry</th>\n",
       "      <td>Coventry Police Dept</td>\n",
       "      <td>CT</td>\n",
       "      <td>0.0</td>\n",
       "      <td>2.0</td>\n",
       "      <td>5.0</td>\n",
       "      <td>3.0</td>\n",
       "      <td>1.0</td>\n",
       "      <td>0.0</td>\n",
       "      <td>1.0</td>\n",
       "      <td>0.0</td>\n",
       "      <td>...</td>\n",
       "      <td>1.0</td>\n",
       "      <td>1.0</td>\n",
       "      <td>4.0</td>\n",
       "      <td>1.0</td>\n",
       "      <td>5.0</td>\n",
       "      <td>2.0</td>\n",
       "      <td>1.0</td>\n",
       "      <td>6.0</td>\n",
       "      <td>1.0</td>\n",
       "      <td>1.0</td>\n",
       "    </tr>\n",
       "    <tr>\n",
       "      <th>Cromwell</th>\n",
       "      <td>Cromwell Police Dept</td>\n",
       "      <td>CT</td>\n",
       "      <td>2.0</td>\n",
       "      <td>1.0</td>\n",
       "      <td>0.0</td>\n",
       "      <td>1.0</td>\n",
       "      <td>0.0</td>\n",
       "      <td>2.0</td>\n",
       "      <td>1.0</td>\n",
       "      <td>1.0</td>\n",
       "      <td>...</td>\n",
       "      <td>3.0</td>\n",
       "      <td>0.0</td>\n",
       "      <td>2.0</td>\n",
       "      <td>1.0</td>\n",
       "      <td>1.0</td>\n",
       "      <td>1.0</td>\n",
       "      <td>0.0</td>\n",
       "      <td>2.0</td>\n",
       "      <td>0.0</td>\n",
       "      <td>0.0</td>\n",
       "    </tr>\n",
       "    <tr>\n",
       "      <th>Danbury</th>\n",
       "      <td>Danbury Police Dept</td>\n",
       "      <td>CT</td>\n",
       "      <td>17.0</td>\n",
       "      <td>13.0</td>\n",
       "      <td>17.0</td>\n",
       "      <td>15.0</td>\n",
       "      <td>20.0</td>\n",
       "      <td>14.0</td>\n",
       "      <td>20.0</td>\n",
       "      <td>12.0</td>\n",
       "      <td>...</td>\n",
       "      <td>20.0</td>\n",
       "      <td>15.0</td>\n",
       "      <td>25.0</td>\n",
       "      <td>21.0</td>\n",
       "      <td>34.0</td>\n",
       "      <td>23.0</td>\n",
       "      <td>NaN</td>\n",
       "      <td>31.0</td>\n",
       "      <td>45.0</td>\n",
       "      <td>30.0</td>\n",
       "    </tr>\n",
       "    <tr>\n",
       "      <th>Darien</th>\n",
       "      <td>Darien Police Dept</td>\n",
       "      <td>CT</td>\n",
       "      <td>0.0</td>\n",
       "      <td>3.0</td>\n",
       "      <td>0.0</td>\n",
       "      <td>1.0</td>\n",
       "      <td>0.0</td>\n",
       "      <td>1.0</td>\n",
       "      <td>0.0</td>\n",
       "      <td>1.0</td>\n",
       "      <td>...</td>\n",
       "      <td>0.0</td>\n",
       "      <td>0.0</td>\n",
       "      <td>0.0</td>\n",
       "      <td>0.0</td>\n",
       "      <td>0.0</td>\n",
       "      <td>0.0</td>\n",
       "      <td>0.0</td>\n",
       "      <td>2.0</td>\n",
       "      <td>0.0</td>\n",
       "      <td>0.0</td>\n",
       "    </tr>\n",
       "    <tr>\n",
       "      <th>Derby</th>\n",
       "      <td>Derby Police Dept</td>\n",
       "      <td>CT</td>\n",
       "      <td>4.0</td>\n",
       "      <td>1.0</td>\n",
       "      <td>2.0</td>\n",
       "      <td>1.0</td>\n",
       "      <td>4.0</td>\n",
       "      <td>3.0</td>\n",
       "      <td>3.0</td>\n",
       "      <td>0.0</td>\n",
       "      <td>...</td>\n",
       "      <td>2.0</td>\n",
       "      <td>6.0</td>\n",
       "      <td>4.0</td>\n",
       "      <td>2.0</td>\n",
       "      <td>1.0</td>\n",
       "      <td>8.0</td>\n",
       "      <td>2.0</td>\n",
       "      <td>3.0</td>\n",
       "      <td>4.0</td>\n",
       "      <td>6.0</td>\n",
       "    </tr>\n",
       "    <tr>\n",
       "      <th>East Hampton</th>\n",
       "      <td>East Hampton Police Dept</td>\n",
       "      <td>CT</td>\n",
       "      <td>1.0</td>\n",
       "      <td>1.0</td>\n",
       "      <td>3.0</td>\n",
       "      <td>0.0</td>\n",
       "      <td>1.0</td>\n",
       "      <td>0.0</td>\n",
       "      <td>0.0</td>\n",
       "      <td>2.0</td>\n",
       "      <td>...</td>\n",
       "      <td>0.0</td>\n",
       "      <td>2.0</td>\n",
       "      <td>0.0</td>\n",
       "      <td>0.0</td>\n",
       "      <td>2.0</td>\n",
       "      <td>1.0</td>\n",
       "      <td>0.0</td>\n",
       "      <td>1.0</td>\n",
       "      <td>2.0</td>\n",
       "      <td>0.0</td>\n",
       "    </tr>\n",
       "    <tr>\n",
       "      <th>East Hartford</th>\n",
       "      <td>East Hartford Police</td>\n",
       "      <td>CT</td>\n",
       "      <td>18.0</td>\n",
       "      <td>13.0</td>\n",
       "      <td>NaN</td>\n",
       "      <td>10.0</td>\n",
       "      <td>15.0</td>\n",
       "      <td>16.0</td>\n",
       "      <td>10.0</td>\n",
       "      <td>14.0</td>\n",
       "      <td>...</td>\n",
       "      <td>15.0</td>\n",
       "      <td>22.0</td>\n",
       "      <td>13.0</td>\n",
       "      <td>20.0</td>\n",
       "      <td>22.0</td>\n",
       "      <td>26.0</td>\n",
       "      <td>31.0</td>\n",
       "      <td>24.0</td>\n",
       "      <td>24.0</td>\n",
       "      <td>26.0</td>\n",
       "    </tr>\n",
       "    <tr>\n",
       "      <th>East Haven</th>\n",
       "      <td>East Haven Police Dept</td>\n",
       "      <td>CT</td>\n",
       "      <td>2.0</td>\n",
       "      <td>1.0</td>\n",
       "      <td>1.0</td>\n",
       "      <td>1.0</td>\n",
       "      <td>2.0</td>\n",
       "      <td>0.0</td>\n",
       "      <td>4.0</td>\n",
       "      <td>2.0</td>\n",
       "      <td>...</td>\n",
       "      <td>6.0</td>\n",
       "      <td>4.0</td>\n",
       "      <td>3.0</td>\n",
       "      <td>3.0</td>\n",
       "      <td>0.0</td>\n",
       "      <td>6.0</td>\n",
       "      <td>3.0</td>\n",
       "      <td>8.0</td>\n",
       "      <td>2.0</td>\n",
       "      <td>4.0</td>\n",
       "    </tr>\n",
       "    <tr>\n",
       "      <th>East Windsor</th>\n",
       "      <td>East Windsor Police Dept</td>\n",
       "      <td>CT</td>\n",
       "      <td>2.0</td>\n",
       "      <td>0.0</td>\n",
       "      <td>0.0</td>\n",
       "      <td>1.0</td>\n",
       "      <td>2.0</td>\n",
       "      <td>2.0</td>\n",
       "      <td>3.0</td>\n",
       "      <td>2.0</td>\n",
       "      <td>...</td>\n",
       "      <td>4.0</td>\n",
       "      <td>3.0</td>\n",
       "      <td>2.0</td>\n",
       "      <td>2.0</td>\n",
       "      <td>3.0</td>\n",
       "      <td>7.0</td>\n",
       "      <td>3.0</td>\n",
       "      <td>5.0</td>\n",
       "      <td>9.0</td>\n",
       "      <td>3.0</td>\n",
       "    </tr>\n",
       "    <tr>\n",
       "      <th>Enfield</th>\n",
       "      <td>Enfield Police Dept</td>\n",
       "      <td>CT</td>\n",
       "      <td>6.0</td>\n",
       "      <td>6.0</td>\n",
       "      <td>1.0</td>\n",
       "      <td>4.0</td>\n",
       "      <td>4.0</td>\n",
       "      <td>6.0</td>\n",
       "      <td>5.0</td>\n",
       "      <td>4.0</td>\n",
       "      <td>...</td>\n",
       "      <td>0.0</td>\n",
       "      <td>0.0</td>\n",
       "      <td>0.0</td>\n",
       "      <td>0.0</td>\n",
       "      <td>0.0</td>\n",
       "      <td>0.0</td>\n",
       "      <td>0.0</td>\n",
       "      <td>0.0</td>\n",
       "      <td>0.0</td>\n",
       "      <td>0.0</td>\n",
       "    </tr>\n",
       "    <tr>\n",
       "      <th>Fairfield</th>\n",
       "      <td>Fairfield Police Dept</td>\n",
       "      <td>CT</td>\n",
       "      <td>0.0</td>\n",
       "      <td>4.0</td>\n",
       "      <td>2.0</td>\n",
       "      <td>1.0</td>\n",
       "      <td>0.0</td>\n",
       "      <td>1.0</td>\n",
       "      <td>1.0</td>\n",
       "      <td>0.0</td>\n",
       "      <td>...</td>\n",
       "      <td>9.0</td>\n",
       "      <td>0.0</td>\n",
       "      <td>0.0</td>\n",
       "      <td>NaN</td>\n",
       "      <td>NaN</td>\n",
       "      <td>0.0</td>\n",
       "      <td>NaN</td>\n",
       "      <td>1.0</td>\n",
       "      <td>10.0</td>\n",
       "      <td>7.0</td>\n",
       "    </tr>\n",
       "    <tr>\n",
       "      <th>Farmington</th>\n",
       "      <td>Farmington Police Dept</td>\n",
       "      <td>CT</td>\n",
       "      <td>1.0</td>\n",
       "      <td>1.0</td>\n",
       "      <td>0.0</td>\n",
       "      <td>2.0</td>\n",
       "      <td>2.0</td>\n",
       "      <td>6.0</td>\n",
       "      <td>1.0</td>\n",
       "      <td>3.0</td>\n",
       "      <td>...</td>\n",
       "      <td>2.0</td>\n",
       "      <td>5.0</td>\n",
       "      <td>2.0</td>\n",
       "      <td>2.0</td>\n",
       "      <td>1.0</td>\n",
       "      <td>2.0</td>\n",
       "      <td>5.0</td>\n",
       "      <td>4.0</td>\n",
       "      <td>4.0</td>\n",
       "      <td>3.0</td>\n",
       "    </tr>\n",
       "    <tr>\n",
       "      <th>Glastonbury</th>\n",
       "      <td>Glastonbury Police Dept</td>\n",
       "      <td>CT</td>\n",
       "      <td>0.0</td>\n",
       "      <td>2.0</td>\n",
       "      <td>0.0</td>\n",
       "      <td>0.0</td>\n",
       "      <td>1.0</td>\n",
       "      <td>3.0</td>\n",
       "      <td>0.0</td>\n",
       "      <td>2.0</td>\n",
       "      <td>...</td>\n",
       "      <td>0.0</td>\n",
       "      <td>0.0</td>\n",
       "      <td>5.0</td>\n",
       "      <td>6.0</td>\n",
       "      <td>0.0</td>\n",
       "      <td>2.0</td>\n",
       "      <td>3.0</td>\n",
       "      <td>6.0</td>\n",
       "      <td>3.0</td>\n",
       "      <td>4.0</td>\n",
       "    </tr>\n",
       "    <tr>\n",
       "      <th>Granby</th>\n",
       "      <td>Granby Police Dept</td>\n",
       "      <td>CT</td>\n",
       "      <td>0.0</td>\n",
       "      <td>0.0</td>\n",
       "      <td>1.0</td>\n",
       "      <td>0.0</td>\n",
       "      <td>0.0</td>\n",
       "      <td>0.0</td>\n",
       "      <td>1.0</td>\n",
       "      <td>2.0</td>\n",
       "      <td>...</td>\n",
       "      <td>2.0</td>\n",
       "      <td>3.0</td>\n",
       "      <td>3.0</td>\n",
       "      <td>1.0</td>\n",
       "      <td>2.0</td>\n",
       "      <td>3.0</td>\n",
       "      <td>0.0</td>\n",
       "      <td>1.0</td>\n",
       "      <td>0.0</td>\n",
       "      <td>NaN</td>\n",
       "    </tr>\n",
       "    <tr>\n",
       "      <th>Greenwich</th>\n",
       "      <td>Greenwich Police Dept</td>\n",
       "      <td>CT</td>\n",
       "      <td>2.0</td>\n",
       "      <td>0.0</td>\n",
       "      <td>2.0</td>\n",
       "      <td>0.0</td>\n",
       "      <td>1.0</td>\n",
       "      <td>1.0</td>\n",
       "      <td>6.0</td>\n",
       "      <td>2.0</td>\n",
       "      <td>...</td>\n",
       "      <td>6.0</td>\n",
       "      <td>2.0</td>\n",
       "      <td>2.0</td>\n",
       "      <td>1.0</td>\n",
       "      <td>4.0</td>\n",
       "      <td>0.0</td>\n",
       "      <td>2.0</td>\n",
       "      <td>1.0</td>\n",
       "      <td>1.0</td>\n",
       "      <td>0.0</td>\n",
       "    </tr>\n",
       "    <tr>\n",
       "      <th>Groton</th>\n",
       "      <td>Groton Town Police Dept</td>\n",
       "      <td>CT</td>\n",
       "      <td>29.0</td>\n",
       "      <td>22.0</td>\n",
       "      <td>21.0</td>\n",
       "      <td>16.0</td>\n",
       "      <td>23.0</td>\n",
       "      <td>16.0</td>\n",
       "      <td>12.0</td>\n",
       "      <td>13.0</td>\n",
       "      <td>...</td>\n",
       "      <td>1.0</td>\n",
       "      <td>2.0</td>\n",
       "      <td>2.0</td>\n",
       "      <td>1.0</td>\n",
       "      <td>3.0</td>\n",
       "      <td>2.0</td>\n",
       "      <td>2.0</td>\n",
       "      <td>2.0</td>\n",
       "      <td>1.0</td>\n",
       "      <td>1.0</td>\n",
       "    </tr>\n",
       "    <tr>\n",
       "      <th>Guilford</th>\n",
       "      <td>Guilford Police Dept</td>\n",
       "      <td>CT</td>\n",
       "      <td>2.0</td>\n",
       "      <td>0.0</td>\n",
       "      <td>1.0</td>\n",
       "      <td>2.0</td>\n",
       "      <td>1.0</td>\n",
       "      <td>0.0</td>\n",
       "      <td>5.0</td>\n",
       "      <td>4.0</td>\n",
       "      <td>...</td>\n",
       "      <td>5.0</td>\n",
       "      <td>4.0</td>\n",
       "      <td>5.0</td>\n",
       "      <td>4.0</td>\n",
       "      <td>4.0</td>\n",
       "      <td>4.0</td>\n",
       "      <td>0.0</td>\n",
       "      <td>4.0</td>\n",
       "      <td>11.0</td>\n",
       "      <td>4.0</td>\n",
       "    </tr>\n",
       "    <tr>\n",
       "      <th>Hamden</th>\n",
       "      <td>Hamden Police Dept</td>\n",
       "      <td>CT</td>\n",
       "      <td>18.0</td>\n",
       "      <td>11.0</td>\n",
       "      <td>7.0</td>\n",
       "      <td>12.0</td>\n",
       "      <td>13.0</td>\n",
       "      <td>18.0</td>\n",
       "      <td>9.0</td>\n",
       "      <td>16.0</td>\n",
       "      <td>...</td>\n",
       "      <td>0.0</td>\n",
       "      <td>0.0</td>\n",
       "      <td>0.0</td>\n",
       "      <td>0.0</td>\n",
       "      <td>0.0</td>\n",
       "      <td>0.0</td>\n",
       "      <td>NaN</td>\n",
       "      <td>0.0</td>\n",
       "      <td>0.0</td>\n",
       "      <td>0.0</td>\n",
       "    </tr>\n",
       "    <tr>\n",
       "      <th>...</th>\n",
       "      <td>...</td>\n",
       "      <td>...</td>\n",
       "      <td>...</td>\n",
       "      <td>...</td>\n",
       "      <td>...</td>\n",
       "      <td>...</td>\n",
       "      <td>...</td>\n",
       "      <td>...</td>\n",
       "      <td>...</td>\n",
       "      <td>...</td>\n",
       "      <td>...</td>\n",
       "      <td>...</td>\n",
       "      <td>...</td>\n",
       "      <td>...</td>\n",
       "      <td>...</td>\n",
       "      <td>...</td>\n",
       "      <td>...</td>\n",
       "      <td>...</td>\n",
       "      <td>...</td>\n",
       "      <td>...</td>\n",
       "      <td>...</td>\n",
       "    </tr>\n",
       "    <tr>\n",
       "      <th>Ridgefield</th>\n",
       "      <td>Ridgefield Police Dept</td>\n",
       "      <td>CT</td>\n",
       "      <td>3.0</td>\n",
       "      <td>0.0</td>\n",
       "      <td>0.0</td>\n",
       "      <td>0.0</td>\n",
       "      <td>0.0</td>\n",
       "      <td>0.0</td>\n",
       "      <td>1.0</td>\n",
       "      <td>0.0</td>\n",
       "      <td>...</td>\n",
       "      <td>0.0</td>\n",
       "      <td>0.0</td>\n",
       "      <td>0.0</td>\n",
       "      <td>NaN</td>\n",
       "      <td>1.0</td>\n",
       "      <td>2.0</td>\n",
       "      <td>0.0</td>\n",
       "      <td>1.0</td>\n",
       "      <td>1.0</td>\n",
       "      <td>2.0</td>\n",
       "    </tr>\n",
       "    <tr>\n",
       "      <th>Rocky Hill</th>\n",
       "      <td>Rocky Hill Police Dept</td>\n",
       "      <td>CT</td>\n",
       "      <td>2.0</td>\n",
       "      <td>2.0</td>\n",
       "      <td>3.0</td>\n",
       "      <td>1.0</td>\n",
       "      <td>4.0</td>\n",
       "      <td>3.0</td>\n",
       "      <td>1.0</td>\n",
       "      <td>1.0</td>\n",
       "      <td>...</td>\n",
       "      <td>4.0</td>\n",
       "      <td>1.0</td>\n",
       "      <td>0.0</td>\n",
       "      <td>2.0</td>\n",
       "      <td>2.0</td>\n",
       "      <td>3.0</td>\n",
       "      <td>2.0</td>\n",
       "      <td>1.0</td>\n",
       "      <td>10.0</td>\n",
       "      <td>7.0</td>\n",
       "    </tr>\n",
       "    <tr>\n",
       "      <th>Seymour</th>\n",
       "      <td>Seymour Police Dept</td>\n",
       "      <td>CT</td>\n",
       "      <td>1.0</td>\n",
       "      <td>1.0</td>\n",
       "      <td>2.0</td>\n",
       "      <td>0.0</td>\n",
       "      <td>0.0</td>\n",
       "      <td>2.0</td>\n",
       "      <td>2.0</td>\n",
       "      <td>2.0</td>\n",
       "      <td>...</td>\n",
       "      <td>0.0</td>\n",
       "      <td>0.0</td>\n",
       "      <td>2.0</td>\n",
       "      <td>0.0</td>\n",
       "      <td>2.0</td>\n",
       "      <td>0.0</td>\n",
       "      <td>NaN</td>\n",
       "      <td>8.0</td>\n",
       "      <td>2.0</td>\n",
       "      <td>3.0</td>\n",
       "    </tr>\n",
       "    <tr>\n",
       "      <th>Shelton</th>\n",
       "      <td>Shelton Police Dept</td>\n",
       "      <td>CT</td>\n",
       "      <td>1.0</td>\n",
       "      <td>0.0</td>\n",
       "      <td>1.0</td>\n",
       "      <td>3.0</td>\n",
       "      <td>5.0</td>\n",
       "      <td>2.0</td>\n",
       "      <td>6.0</td>\n",
       "      <td>1.0</td>\n",
       "      <td>...</td>\n",
       "      <td>NaN</td>\n",
       "      <td>2.0</td>\n",
       "      <td>0.0</td>\n",
       "      <td>1.0</td>\n",
       "      <td>0.0</td>\n",
       "      <td>4.0</td>\n",
       "      <td>3.0</td>\n",
       "      <td>1.0</td>\n",
       "      <td>1.0</td>\n",
       "      <td>2.0</td>\n",
       "    </tr>\n",
       "    <tr>\n",
       "      <th>Simsbury</th>\n",
       "      <td>Simsbury Police Dept</td>\n",
       "      <td>CT</td>\n",
       "      <td>2.0</td>\n",
       "      <td>0.0</td>\n",
       "      <td>1.0</td>\n",
       "      <td>0.0</td>\n",
       "      <td>0.0</td>\n",
       "      <td>6.0</td>\n",
       "      <td>1.0</td>\n",
       "      <td>0.0</td>\n",
       "      <td>...</td>\n",
       "      <td>0.0</td>\n",
       "      <td>1.0</td>\n",
       "      <td>0.0</td>\n",
       "      <td>0.0</td>\n",
       "      <td>0.0</td>\n",
       "      <td>0.0</td>\n",
       "      <td>NaN</td>\n",
       "      <td>0.0</td>\n",
       "      <td>0.0</td>\n",
       "      <td>0.0</td>\n",
       "    </tr>\n",
       "    <tr>\n",
       "      <th>South Windsor</th>\n",
       "      <td>South Windsor Police Dept</td>\n",
       "      <td>CT</td>\n",
       "      <td>1.0</td>\n",
       "      <td>1.0</td>\n",
       "      <td>NaN</td>\n",
       "      <td>1.0</td>\n",
       "      <td>1.0</td>\n",
       "      <td>1.0</td>\n",
       "      <td>1.0</td>\n",
       "      <td>2.0</td>\n",
       "      <td>...</td>\n",
       "      <td>3.0</td>\n",
       "      <td>7.0</td>\n",
       "      <td>7.0</td>\n",
       "      <td>3.0</td>\n",
       "      <td>3.0</td>\n",
       "      <td>6.0</td>\n",
       "      <td>5.0</td>\n",
       "      <td>6.0</td>\n",
       "      <td>3.0</td>\n",
       "      <td>4.0</td>\n",
       "    </tr>\n",
       "    <tr>\n",
       "      <th>Southington</th>\n",
       "      <td>Southington Police Dept</td>\n",
       "      <td>CT</td>\n",
       "      <td>4.0</td>\n",
       "      <td>13.0</td>\n",
       "      <td>3.0</td>\n",
       "      <td>6.0</td>\n",
       "      <td>4.0</td>\n",
       "      <td>10.0</td>\n",
       "      <td>NaN</td>\n",
       "      <td>5.0</td>\n",
       "      <td>...</td>\n",
       "      <td>1.0</td>\n",
       "      <td>0.0</td>\n",
       "      <td>0.0</td>\n",
       "      <td>0.0</td>\n",
       "      <td>0.0</td>\n",
       "      <td>0.0</td>\n",
       "      <td>0.0</td>\n",
       "      <td>0.0</td>\n",
       "      <td>0.0</td>\n",
       "      <td>0.0</td>\n",
       "    </tr>\n",
       "    <tr>\n",
       "      <th>Stamford</th>\n",
       "      <td>Stamford Police Dept</td>\n",
       "      <td>CT</td>\n",
       "      <td>16.0</td>\n",
       "      <td>17.0</td>\n",
       "      <td>29.0</td>\n",
       "      <td>13.0</td>\n",
       "      <td>19.0</td>\n",
       "      <td>17.0</td>\n",
       "      <td>25.0</td>\n",
       "      <td>22.0</td>\n",
       "      <td>...</td>\n",
       "      <td>0.0</td>\n",
       "      <td>0.0</td>\n",
       "      <td>0.0</td>\n",
       "      <td>0.0</td>\n",
       "      <td>0.0</td>\n",
       "      <td>0.0</td>\n",
       "      <td>0.0</td>\n",
       "      <td>0.0</td>\n",
       "      <td>0.0</td>\n",
       "      <td>0.0</td>\n",
       "    </tr>\n",
       "    <tr>\n",
       "      <th>Stonington</th>\n",
       "      <td>Stonington Police Dept</td>\n",
       "      <td>CT</td>\n",
       "      <td>4.0</td>\n",
       "      <td>0.0</td>\n",
       "      <td>0.0</td>\n",
       "      <td>0.0</td>\n",
       "      <td>1.0</td>\n",
       "      <td>0.0</td>\n",
       "      <td>0.0</td>\n",
       "      <td>1.0</td>\n",
       "      <td>...</td>\n",
       "      <td>0.0</td>\n",
       "      <td>4.0</td>\n",
       "      <td>1.0</td>\n",
       "      <td>4.0</td>\n",
       "      <td>1.0</td>\n",
       "      <td>2.0</td>\n",
       "      <td>NaN</td>\n",
       "      <td>0.0</td>\n",
       "      <td>0.0</td>\n",
       "      <td>4.0</td>\n",
       "    </tr>\n",
       "    <tr>\n",
       "      <th>Stratford</th>\n",
       "      <td>Stratford Police Dept</td>\n",
       "      <td>CT</td>\n",
       "      <td>0.0</td>\n",
       "      <td>4.0</td>\n",
       "      <td>4.0</td>\n",
       "      <td>11.0</td>\n",
       "      <td>18.0</td>\n",
       "      <td>5.0</td>\n",
       "      <td>8.0</td>\n",
       "      <td>2.0</td>\n",
       "      <td>...</td>\n",
       "      <td>8.0</td>\n",
       "      <td>13.0</td>\n",
       "      <td>7.0</td>\n",
       "      <td>3.0</td>\n",
       "      <td>2.0</td>\n",
       "      <td>2.0</td>\n",
       "      <td>4.0</td>\n",
       "      <td>4.0</td>\n",
       "      <td>1.0</td>\n",
       "      <td>2.0</td>\n",
       "    </tr>\n",
       "    <tr>\n",
       "      <th>Suffield</th>\n",
       "      <td>Suffield Police Dept</td>\n",
       "      <td>CT</td>\n",
       "      <td>0.0</td>\n",
       "      <td>0.0</td>\n",
       "      <td>0.0</td>\n",
       "      <td>1.0</td>\n",
       "      <td>2.0</td>\n",
       "      <td>3.0</td>\n",
       "      <td>1.0</td>\n",
       "      <td>1.0</td>\n",
       "      <td>...</td>\n",
       "      <td>4.0</td>\n",
       "      <td>3.0</td>\n",
       "      <td>2.0</td>\n",
       "      <td>5.0</td>\n",
       "      <td>2.0</td>\n",
       "      <td>7.0</td>\n",
       "      <td>3.0</td>\n",
       "      <td>3.0</td>\n",
       "      <td>8.0</td>\n",
       "      <td>4.0</td>\n",
       "    </tr>\n",
       "    <tr>\n",
       "      <th>Torrington</th>\n",
       "      <td>Torrington Police Dept</td>\n",
       "      <td>CT</td>\n",
       "      <td>11.0</td>\n",
       "      <td>15.0</td>\n",
       "      <td>20.0</td>\n",
       "      <td>16.0</td>\n",
       "      <td>20.0</td>\n",
       "      <td>15.0</td>\n",
       "      <td>9.0</td>\n",
       "      <td>12.0</td>\n",
       "      <td>...</td>\n",
       "      <td>0.0</td>\n",
       "      <td>2.0</td>\n",
       "      <td>0.0</td>\n",
       "      <td>1.0</td>\n",
       "      <td>1.0</td>\n",
       "      <td>0.0</td>\n",
       "      <td>2.0</td>\n",
       "      <td>1.0</td>\n",
       "      <td>1.0</td>\n",
       "      <td>2.0</td>\n",
       "    </tr>\n",
       "    <tr>\n",
       "      <th>Trumbull</th>\n",
       "      <td>Trumbull Police Dept</td>\n",
       "      <td>CT</td>\n",
       "      <td>0.0</td>\n",
       "      <td>0.0</td>\n",
       "      <td>NaN</td>\n",
       "      <td>2.0</td>\n",
       "      <td>0.0</td>\n",
       "      <td>2.0</td>\n",
       "      <td>0.0</td>\n",
       "      <td>1.0</td>\n",
       "      <td>...</td>\n",
       "      <td>5.0</td>\n",
       "      <td>3.0</td>\n",
       "      <td>3.0</td>\n",
       "      <td>1.0</td>\n",
       "      <td>7.0</td>\n",
       "      <td>3.0</td>\n",
       "      <td>NaN</td>\n",
       "      <td>5.0</td>\n",
       "      <td>4.0</td>\n",
       "      <td>2.0</td>\n",
       "    </tr>\n",
       "    <tr>\n",
       "      <th>Vernon</th>\n",
       "      <td>Vernon Police Dept</td>\n",
       "      <td>CT</td>\n",
       "      <td>1.0</td>\n",
       "      <td>1.0</td>\n",
       "      <td>4.0</td>\n",
       "      <td>5.0</td>\n",
       "      <td>8.0</td>\n",
       "      <td>3.0</td>\n",
       "      <td>4.0</td>\n",
       "      <td>2.0</td>\n",
       "      <td>...</td>\n",
       "      <td>15.0</td>\n",
       "      <td>7.0</td>\n",
       "      <td>4.0</td>\n",
       "      <td>5.0</td>\n",
       "      <td>9.0</td>\n",
       "      <td>5.0</td>\n",
       "      <td>12.0</td>\n",
       "      <td>12.0</td>\n",
       "      <td>7.0</td>\n",
       "      <td>15.0</td>\n",
       "    </tr>\n",
       "    <tr>\n",
       "      <th>Wallingford</th>\n",
       "      <td>Wallingford Police Dept</td>\n",
       "      <td>CT</td>\n",
       "      <td>6.0</td>\n",
       "      <td>0.0</td>\n",
       "      <td>6.0</td>\n",
       "      <td>8.0</td>\n",
       "      <td>6.0</td>\n",
       "      <td>2.0</td>\n",
       "      <td>5.0</td>\n",
       "      <td>10.0</td>\n",
       "      <td>...</td>\n",
       "      <td>33.0</td>\n",
       "      <td>27.0</td>\n",
       "      <td>31.0</td>\n",
       "      <td>19.0</td>\n",
       "      <td>32.0</td>\n",
       "      <td>25.0</td>\n",
       "      <td>28.0</td>\n",
       "      <td>21.0</td>\n",
       "      <td>19.0</td>\n",
       "      <td>29.0</td>\n",
       "    </tr>\n",
       "    <tr>\n",
       "      <th>Waterbury</th>\n",
       "      <td>Waterbury Police Dept</td>\n",
       "      <td>CT</td>\n",
       "      <td>35.0</td>\n",
       "      <td>22.0</td>\n",
       "      <td>37.0</td>\n",
       "      <td>28.0</td>\n",
       "      <td>31.0</td>\n",
       "      <td>32.0</td>\n",
       "      <td>32.0</td>\n",
       "      <td>61.0</td>\n",
       "      <td>...</td>\n",
       "      <td>0.0</td>\n",
       "      <td>0.0</td>\n",
       "      <td>4.0</td>\n",
       "      <td>1.0</td>\n",
       "      <td>5.0</td>\n",
       "      <td>3.0</td>\n",
       "      <td>4.0</td>\n",
       "      <td>1.0</td>\n",
       "      <td>1.0</td>\n",
       "      <td>2.0</td>\n",
       "    </tr>\n",
       "    <tr>\n",
       "      <th>Waterford</th>\n",
       "      <td>Waterford Police Dept</td>\n",
       "      <td>CT</td>\n",
       "      <td>0.0</td>\n",
       "      <td>0.0</td>\n",
       "      <td>1.0</td>\n",
       "      <td>3.0</td>\n",
       "      <td>6.0</td>\n",
       "      <td>1.0</td>\n",
       "      <td>3.0</td>\n",
       "      <td>9.0</td>\n",
       "      <td>...</td>\n",
       "      <td>3.0</td>\n",
       "      <td>4.0</td>\n",
       "      <td>11.0</td>\n",
       "      <td>15.0</td>\n",
       "      <td>9.0</td>\n",
       "      <td>15.0</td>\n",
       "      <td>8.0</td>\n",
       "      <td>7.0</td>\n",
       "      <td>12.0</td>\n",
       "      <td>6.0</td>\n",
       "    </tr>\n",
       "    <tr>\n",
       "      <th>Watertown</th>\n",
       "      <td>Watertown Police Dept</td>\n",
       "      <td>CT</td>\n",
       "      <td>3.0</td>\n",
       "      <td>4.0</td>\n",
       "      <td>2.0</td>\n",
       "      <td>4.0</td>\n",
       "      <td>2.0</td>\n",
       "      <td>2.0</td>\n",
       "      <td>7.0</td>\n",
       "      <td>1.0</td>\n",
       "      <td>...</td>\n",
       "      <td>0.0</td>\n",
       "      <td>1.0</td>\n",
       "      <td>1.0</td>\n",
       "      <td>0.0</td>\n",
       "      <td>0.0</td>\n",
       "      <td>1.0</td>\n",
       "      <td>4.0</td>\n",
       "      <td>0.0</td>\n",
       "      <td>0.0</td>\n",
       "      <td>2.0</td>\n",
       "    </tr>\n",
       "    <tr>\n",
       "      <th>West Hartford</th>\n",
       "      <td>West Hartford Police Dept</td>\n",
       "      <td>CT</td>\n",
       "      <td>5.0</td>\n",
       "      <td>2.0</td>\n",
       "      <td>3.0</td>\n",
       "      <td>7.0</td>\n",
       "      <td>8.0</td>\n",
       "      <td>4.0</td>\n",
       "      <td>8.0</td>\n",
       "      <td>5.0</td>\n",
       "      <td>...</td>\n",
       "      <td>NaN</td>\n",
       "      <td>0.0</td>\n",
       "      <td>0.0</td>\n",
       "      <td>0.0</td>\n",
       "      <td>0.0</td>\n",
       "      <td>0.0</td>\n",
       "      <td>0.0</td>\n",
       "      <td>0.0</td>\n",
       "      <td>1.0</td>\n",
       "      <td>3.0</td>\n",
       "    </tr>\n",
       "    <tr>\n",
       "      <th>West Haven</th>\n",
       "      <td>West Haven Police Dept</td>\n",
       "      <td>CT</td>\n",
       "      <td>9.0</td>\n",
       "      <td>8.0</td>\n",
       "      <td>16.0</td>\n",
       "      <td>13.0</td>\n",
       "      <td>6.0</td>\n",
       "      <td>17.0</td>\n",
       "      <td>11.0</td>\n",
       "      <td>11.0</td>\n",
       "      <td>...</td>\n",
       "      <td>10.0</td>\n",
       "      <td>11.0</td>\n",
       "      <td>14.0</td>\n",
       "      <td>20.0</td>\n",
       "      <td>17.0</td>\n",
       "      <td>18.0</td>\n",
       "      <td>15.0</td>\n",
       "      <td>4.0</td>\n",
       "      <td>11.0</td>\n",
       "      <td>5.0</td>\n",
       "    </tr>\n",
       "    <tr>\n",
       "      <th>Weston</th>\n",
       "      <td>Weston Police Dept</td>\n",
       "      <td>CT</td>\n",
       "      <td>0.0</td>\n",
       "      <td>0.0</td>\n",
       "      <td>0.0</td>\n",
       "      <td>0.0</td>\n",
       "      <td>0.0</td>\n",
       "      <td>0.0</td>\n",
       "      <td>0.0</td>\n",
       "      <td>1.0</td>\n",
       "      <td>...</td>\n",
       "      <td>3.0</td>\n",
       "      <td>0.0</td>\n",
       "      <td>5.0</td>\n",
       "      <td>3.0</td>\n",
       "      <td>0.0</td>\n",
       "      <td>0.0</td>\n",
       "      <td>0.0</td>\n",
       "      <td>6.0</td>\n",
       "      <td>6.0</td>\n",
       "      <td>11.0</td>\n",
       "    </tr>\n",
       "    <tr>\n",
       "      <th>Westport</th>\n",
       "      <td>Westport Police Dept</td>\n",
       "      <td>CT</td>\n",
       "      <td>0.0</td>\n",
       "      <td>1.0</td>\n",
       "      <td>1.0</td>\n",
       "      <td>0.0</td>\n",
       "      <td>2.0</td>\n",
       "      <td>1.0</td>\n",
       "      <td>0.0</td>\n",
       "      <td>1.0</td>\n",
       "      <td>...</td>\n",
       "      <td>4.0</td>\n",
       "      <td>5.0</td>\n",
       "      <td>5.0</td>\n",
       "      <td>5.0</td>\n",
       "      <td>7.0</td>\n",
       "      <td>5.0</td>\n",
       "      <td>8.0</td>\n",
       "      <td>10.0</td>\n",
       "      <td>3.0</td>\n",
       "      <td>1.0</td>\n",
       "    </tr>\n",
       "    <tr>\n",
       "      <th>Wethersfield</th>\n",
       "      <td>Wethersfield Police Dept</td>\n",
       "      <td>CT</td>\n",
       "      <td>4.0</td>\n",
       "      <td>2.0</td>\n",
       "      <td>4.0</td>\n",
       "      <td>3.0</td>\n",
       "      <td>2.0</td>\n",
       "      <td>2.0</td>\n",
       "      <td>4.0</td>\n",
       "      <td>6.0</td>\n",
       "      <td>...</td>\n",
       "      <td>12.0</td>\n",
       "      <td>6.0</td>\n",
       "      <td>7.0</td>\n",
       "      <td>4.0</td>\n",
       "      <td>2.0</td>\n",
       "      <td>2.0</td>\n",
       "      <td>5.0</td>\n",
       "      <td>1.0</td>\n",
       "      <td>5.0</td>\n",
       "      <td>2.0</td>\n",
       "    </tr>\n",
       "    <tr>\n",
       "      <th>Willimantic</th>\n",
       "      <td>Willimantic Police Dept</td>\n",
       "      <td>CT</td>\n",
       "      <td>6.0</td>\n",
       "      <td>6.0</td>\n",
       "      <td>8.0</td>\n",
       "      <td>2.0</td>\n",
       "      <td>4.0</td>\n",
       "      <td>1.0</td>\n",
       "      <td>0.0</td>\n",
       "      <td>0.0</td>\n",
       "      <td>...</td>\n",
       "      <td>18.0</td>\n",
       "      <td>19.0</td>\n",
       "      <td>15.0</td>\n",
       "      <td>6.0</td>\n",
       "      <td>9.0</td>\n",
       "      <td>7.0</td>\n",
       "      <td>NaN</td>\n",
       "      <td>34.0</td>\n",
       "      <td>32.0</td>\n",
       "      <td>29.0</td>\n",
       "    </tr>\n",
       "    <tr>\n",
       "      <th>Wilton</th>\n",
       "      <td>Wilton Police Dept</td>\n",
       "      <td>CT</td>\n",
       "      <td>0.0</td>\n",
       "      <td>0.0</td>\n",
       "      <td>0.0</td>\n",
       "      <td>0.0</td>\n",
       "      <td>0.0</td>\n",
       "      <td>0.0</td>\n",
       "      <td>0.0</td>\n",
       "      <td>0.0</td>\n",
       "      <td>...</td>\n",
       "      <td>4.0</td>\n",
       "      <td>4.0</td>\n",
       "      <td>3.0</td>\n",
       "      <td>4.0</td>\n",
       "      <td>1.0</td>\n",
       "      <td>0.0</td>\n",
       "      <td>0.0</td>\n",
       "      <td>9.0</td>\n",
       "      <td>8.0</td>\n",
       "      <td>9.0</td>\n",
       "    </tr>\n",
       "    <tr>\n",
       "      <th>Winchester</th>\n",
       "      <td>Winchester Town Police Dept</td>\n",
       "      <td>CT</td>\n",
       "      <td>0.0</td>\n",
       "      <td>1.0</td>\n",
       "      <td>0.0</td>\n",
       "      <td>5.0</td>\n",
       "      <td>0.0</td>\n",
       "      <td>0.0</td>\n",
       "      <td>0.0</td>\n",
       "      <td>0.0</td>\n",
       "      <td>...</td>\n",
       "      <td>0.0</td>\n",
       "      <td>4.0</td>\n",
       "      <td>6.0</td>\n",
       "      <td>3.0</td>\n",
       "      <td>3.0</td>\n",
       "      <td>4.0</td>\n",
       "      <td>4.0</td>\n",
       "      <td>4.0</td>\n",
       "      <td>3.0</td>\n",
       "      <td>1.0</td>\n",
       "    </tr>\n",
       "    <tr>\n",
       "      <th>Windsor Locks</th>\n",
       "      <td>Windsor Locks Police Dept</td>\n",
       "      <td>CT</td>\n",
       "      <td>1.0</td>\n",
       "      <td>2.0</td>\n",
       "      <td>4.0</td>\n",
       "      <td>3.0</td>\n",
       "      <td>0.0</td>\n",
       "      <td>1.0</td>\n",
       "      <td>2.0</td>\n",
       "      <td>3.0</td>\n",
       "      <td>...</td>\n",
       "      <td>2.0</td>\n",
       "      <td>4.0</td>\n",
       "      <td>6.0</td>\n",
       "      <td>2.0</td>\n",
       "      <td>4.0</td>\n",
       "      <td>2.0</td>\n",
       "      <td>2.0</td>\n",
       "      <td>1.0</td>\n",
       "      <td>2.0</td>\n",
       "      <td>2.0</td>\n",
       "    </tr>\n",
       "    <tr>\n",
       "      <th>Windsor</th>\n",
       "      <td>Windsor Police Dept</td>\n",
       "      <td>CT</td>\n",
       "      <td>8.0</td>\n",
       "      <td>21.0</td>\n",
       "      <td>12.0</td>\n",
       "      <td>6.0</td>\n",
       "      <td>12.0</td>\n",
       "      <td>12.0</td>\n",
       "      <td>7.0</td>\n",
       "      <td>7.0</td>\n",
       "      <td>...</td>\n",
       "      <td>1.0</td>\n",
       "      <td>0.0</td>\n",
       "      <td>0.0</td>\n",
       "      <td>1.0</td>\n",
       "      <td>0.0</td>\n",
       "      <td>1.0</td>\n",
       "      <td>NaN</td>\n",
       "      <td>0.0</td>\n",
       "      <td>7.0</td>\n",
       "      <td>15.0</td>\n",
       "    </tr>\n",
       "    <tr>\n",
       "      <th>Wolcott</th>\n",
       "      <td>Wolcott Police Dept</td>\n",
       "      <td>CT</td>\n",
       "      <td>1.0</td>\n",
       "      <td>0.0</td>\n",
       "      <td>0.0</td>\n",
       "      <td>0.0</td>\n",
       "      <td>0.0</td>\n",
       "      <td>0.0</td>\n",
       "      <td>5.0</td>\n",
       "      <td>8.0</td>\n",
       "      <td>...</td>\n",
       "      <td>0.0</td>\n",
       "      <td>0.0</td>\n",
       "      <td>0.0</td>\n",
       "      <td>1.0</td>\n",
       "      <td>0.0</td>\n",
       "      <td>0.0</td>\n",
       "      <td>1.0</td>\n",
       "      <td>0.0</td>\n",
       "      <td>0.0</td>\n",
       "      <td>0.0</td>\n",
       "    </tr>\n",
       "    <tr>\n",
       "      <th>Agency</th>\n",
       "      <td>Agency</td>\n",
       "      <td>State</td>\n",
       "      <td>1985.0</td>\n",
       "      <td>1986.0</td>\n",
       "      <td>1987.0</td>\n",
       "      <td>1988.0</td>\n",
       "      <td>1989.0</td>\n",
       "      <td>1990.0</td>\n",
       "      <td>1991.0</td>\n",
       "      <td>1992.0</td>\n",
       "      <td>...</td>\n",
       "      <td>0.0</td>\n",
       "      <td>2.0</td>\n",
       "      <td>1.0</td>\n",
       "      <td>2.0</td>\n",
       "      <td>3.0</td>\n",
       "      <td>0.0</td>\n",
       "      <td>0.0</td>\n",
       "      <td>0.0</td>\n",
       "      <td>0.0</td>\n",
       "      <td>1.0</td>\n",
       "    </tr>\n",
       "  </tbody>\n",
       "</table>\n",
       "<p>84 rows × 44 columns</p>\n",
       "</div>"
      ],
      "text/plain": [
       "                                    Agency  State    1985    1986    1987  \\\n",
       "City                                                                        \n",
       "Ansonia                Ansonia Police Dept     CT    33.0     5.0     1.0   \n",
       "Avon                      Avon Police Dept     CT     0.0     0.0     2.0   \n",
       "Berlin                  Berlin Police Dept     CT     0.0     1.0     2.0   \n",
       "Bethel                  Bethel Police Dept     CT     3.0     4.0     4.0   \n",
       "Bloomfield          Bloomfield Police Dept     CT     3.0     5.0     5.0   \n",
       "Branford              Branford Police Dept     CT     0.0     2.0     3.0   \n",
       "Bridgeport          Bridgeport Police Dept     CT    57.0    75.0    58.0   \n",
       "Bristol                Bristol Police Dept     CT     4.0     2.0     6.0   \n",
       "Brookfield          Brookfield Police Dept     CT     2.0     3.0     1.0   \n",
       "Canton             Canton Town Police Dept     CT     0.0     0.0     0.0   \n",
       "Cheshire              Cheshire Police Dept     CT     2.0     3.0     2.0   \n",
       "Clinton                Clinton Police Dept     CT     0.0     0.0     0.0   \n",
       "Coventry              Coventry Police Dept     CT     0.0     2.0     5.0   \n",
       "Cromwell              Cromwell Police Dept     CT     2.0     1.0     0.0   \n",
       "Danbury                Danbury Police Dept     CT    17.0    13.0    17.0   \n",
       "Darien                  Darien Police Dept     CT     0.0     3.0     0.0   \n",
       "Derby                    Derby Police Dept     CT     4.0     1.0     2.0   \n",
       "East Hampton      East Hampton Police Dept     CT     1.0     1.0     3.0   \n",
       "East Hartford         East Hartford Police     CT    18.0    13.0     NaN   \n",
       "East Haven          East Haven Police Dept     CT     2.0     1.0     1.0   \n",
       "East Windsor      East Windsor Police Dept     CT     2.0     0.0     0.0   \n",
       "Enfield                Enfield Police Dept     CT     6.0     6.0     1.0   \n",
       "Fairfield            Fairfield Police Dept     CT     0.0     4.0     2.0   \n",
       "Farmington          Farmington Police Dept     CT     1.0     1.0     0.0   \n",
       "Glastonbury        Glastonbury Police Dept     CT     0.0     2.0     0.0   \n",
       "Granby                  Granby Police Dept     CT     0.0     0.0     1.0   \n",
       "Greenwich            Greenwich Police Dept     CT     2.0     0.0     2.0   \n",
       "Groton             Groton Town Police Dept     CT    29.0    22.0    21.0   \n",
       "Guilford              Guilford Police Dept     CT     2.0     0.0     1.0   \n",
       "Hamden                  Hamden Police Dept     CT    18.0    11.0     7.0   \n",
       "...                                    ...    ...     ...     ...     ...   \n",
       "Ridgefield          Ridgefield Police Dept     CT     3.0     0.0     0.0   \n",
       "Rocky Hill          Rocky Hill Police Dept     CT     2.0     2.0     3.0   \n",
       "Seymour                Seymour Police Dept     CT     1.0     1.0     2.0   \n",
       "Shelton                Shelton Police Dept     CT     1.0     0.0     1.0   \n",
       "Simsbury              Simsbury Police Dept     CT     2.0     0.0     1.0   \n",
       "South Windsor    South Windsor Police Dept     CT     1.0     1.0     NaN   \n",
       "Southington        Southington Police Dept     CT     4.0    13.0     3.0   \n",
       "Stamford              Stamford Police Dept     CT    16.0    17.0    29.0   \n",
       "Stonington          Stonington Police Dept     CT     4.0     0.0     0.0   \n",
       "Stratford            Stratford Police Dept     CT     0.0     4.0     4.0   \n",
       "Suffield              Suffield Police Dept     CT     0.0     0.0     0.0   \n",
       "Torrington          Torrington Police Dept     CT    11.0    15.0    20.0   \n",
       "Trumbull              Trumbull Police Dept     CT     0.0     0.0     NaN   \n",
       "Vernon                  Vernon Police Dept     CT     1.0     1.0     4.0   \n",
       "Wallingford        Wallingford Police Dept     CT     6.0     0.0     6.0   \n",
       "Waterbury            Waterbury Police Dept     CT    35.0    22.0    37.0   \n",
       "Waterford            Waterford Police Dept     CT     0.0     0.0     1.0   \n",
       "Watertown            Watertown Police Dept     CT     3.0     4.0     2.0   \n",
       "West Hartford    West Hartford Police Dept     CT     5.0     2.0     3.0   \n",
       "West Haven          West Haven Police Dept     CT     9.0     8.0    16.0   \n",
       "Weston                  Weston Police Dept     CT     0.0     0.0     0.0   \n",
       "Westport              Westport Police Dept     CT     0.0     1.0     1.0   \n",
       "Wethersfield      Wethersfield Police Dept     CT     4.0     2.0     4.0   \n",
       "Willimantic        Willimantic Police Dept     CT     6.0     6.0     8.0   \n",
       "Wilton                  Wilton Police Dept     CT     0.0     0.0     0.0   \n",
       "Winchester     Winchester Town Police Dept     CT     0.0     1.0     0.0   \n",
       "Windsor Locks    Windsor Locks Police Dept     CT     1.0     2.0     4.0   \n",
       "Windsor                Windsor Police Dept     CT     8.0    21.0    12.0   \n",
       "Wolcott                Wolcott Police Dept     CT     1.0     0.0     0.0   \n",
       "Agency                              Agency  State  1985.0  1986.0  1987.0   \n",
       "\n",
       "                 1988    1989    1990    1991    1992  ...   2007_new  \\\n",
       "City                                                   ...              \n",
       "Ansonia           5.0     4.0     1.0    10.0     3.0  ...        3.0   \n",
       "Avon              0.0     3.0     2.0     1.0     0.0  ...        0.0   \n",
       "Berlin            0.0     0.0     0.0     0.0     0.0  ...        1.0   \n",
       "Bethel            3.0     3.0     4.0    11.0     1.0  ...        2.0   \n",
       "Bloomfield        6.0     2.0     6.0     3.0     4.0  ...        9.0   \n",
       "Branford          0.0     4.0     1.0     4.0     4.0  ...        6.0   \n",
       "Bridgeport       90.0    70.0    79.0    82.0    74.0  ...       77.0   \n",
       "Bristol           3.0     5.0    12.0     6.0     2.0  ...       12.0   \n",
       "Brookfield        1.0     4.0     2.0     2.0     1.0  ...        0.0   \n",
       "Canton            1.0     0.0     1.0     0.0     1.0  ...        2.0   \n",
       "Cheshire          0.0     4.0     0.0     3.0     0.0  ...        1.0   \n",
       "Clinton           0.0     0.0     0.0     0.0     0.0  ...        5.0   \n",
       "Coventry          3.0     1.0     0.0     1.0     0.0  ...        1.0   \n",
       "Cromwell          1.0     0.0     2.0     1.0     1.0  ...        3.0   \n",
       "Danbury          15.0    20.0    14.0    20.0    12.0  ...       20.0   \n",
       "Darien            1.0     0.0     1.0     0.0     1.0  ...        0.0   \n",
       "Derby             1.0     4.0     3.0     3.0     0.0  ...        2.0   \n",
       "East Hampton      0.0     1.0     0.0     0.0     2.0  ...        0.0   \n",
       "East Hartford    10.0    15.0    16.0    10.0    14.0  ...       15.0   \n",
       "East Haven        1.0     2.0     0.0     4.0     2.0  ...        6.0   \n",
       "East Windsor      1.0     2.0     2.0     3.0     2.0  ...        4.0   \n",
       "Enfield           4.0     4.0     6.0     5.0     4.0  ...        0.0   \n",
       "Fairfield         1.0     0.0     1.0     1.0     0.0  ...        9.0   \n",
       "Farmington        2.0     2.0     6.0     1.0     3.0  ...        2.0   \n",
       "Glastonbury       0.0     1.0     3.0     0.0     2.0  ...        0.0   \n",
       "Granby            0.0     0.0     0.0     1.0     2.0  ...        2.0   \n",
       "Greenwich         0.0     1.0     1.0     6.0     2.0  ...        6.0   \n",
       "Groton           16.0    23.0    16.0    12.0    13.0  ...        1.0   \n",
       "Guilford          2.0     1.0     0.0     5.0     4.0  ...        5.0   \n",
       "Hamden           12.0    13.0    18.0     9.0    16.0  ...        0.0   \n",
       "...               ...     ...     ...     ...     ...  ...        ...   \n",
       "Ridgefield        0.0     0.0     0.0     1.0     0.0  ...        0.0   \n",
       "Rocky Hill        1.0     4.0     3.0     1.0     1.0  ...        4.0   \n",
       "Seymour           0.0     0.0     2.0     2.0     2.0  ...        0.0   \n",
       "Shelton           3.0     5.0     2.0     6.0     1.0  ...        NaN   \n",
       "Simsbury          0.0     0.0     6.0     1.0     0.0  ...        0.0   \n",
       "South Windsor     1.0     1.0     1.0     1.0     2.0  ...        3.0   \n",
       "Southington       6.0     4.0    10.0     NaN     5.0  ...        1.0   \n",
       "Stamford         13.0    19.0    17.0    25.0    22.0  ...        0.0   \n",
       "Stonington        0.0     1.0     0.0     0.0     1.0  ...        0.0   \n",
       "Stratford        11.0    18.0     5.0     8.0     2.0  ...        8.0   \n",
       "Suffield          1.0     2.0     3.0     1.0     1.0  ...        4.0   \n",
       "Torrington       16.0    20.0    15.0     9.0    12.0  ...        0.0   \n",
       "Trumbull          2.0     0.0     2.0     0.0     1.0  ...        5.0   \n",
       "Vernon            5.0     8.0     3.0     4.0     2.0  ...       15.0   \n",
       "Wallingford       8.0     6.0     2.0     5.0    10.0  ...       33.0   \n",
       "Waterbury        28.0    31.0    32.0    32.0    61.0  ...        0.0   \n",
       "Waterford         3.0     6.0     1.0     3.0     9.0  ...        3.0   \n",
       "Watertown         4.0     2.0     2.0     7.0     1.0  ...        0.0   \n",
       "West Hartford     7.0     8.0     4.0     8.0     5.0  ...        NaN   \n",
       "West Haven       13.0     6.0    17.0    11.0    11.0  ...       10.0   \n",
       "Weston            0.0     0.0     0.0     0.0     1.0  ...        3.0   \n",
       "Westport          0.0     2.0     1.0     0.0     1.0  ...        4.0   \n",
       "Wethersfield      3.0     2.0     2.0     4.0     6.0  ...       12.0   \n",
       "Willimantic       2.0     4.0     1.0     0.0     0.0  ...       18.0   \n",
       "Wilton            0.0     0.0     0.0     0.0     0.0  ...        4.0   \n",
       "Winchester        5.0     0.0     0.0     0.0     0.0  ...        0.0   \n",
       "Windsor Locks     3.0     0.0     1.0     2.0     3.0  ...        2.0   \n",
       "Windsor           6.0    12.0    12.0     7.0     7.0  ...        1.0   \n",
       "Wolcott           0.0     0.0     0.0     5.0     8.0  ...        0.0   \n",
       "Agency         1988.0  1989.0  1990.0  1991.0  1992.0  ...        0.0   \n",
       "\n",
       "               2008_new  2009_new  2010_new  2011_new  2012_new  2013_new  \\\n",
       "City                                                                        \n",
       "Ansonia             3.0       4.0       2.0       3.0       4.0       5.0   \n",
       "Avon                1.0       3.0       1.0       0.0       2.0       8.0   \n",
       "Berlin              2.0       1.0       2.0       1.0       0.0       5.0   \n",
       "Bethel              0.0       0.0       1.0       0.0       3.0       2.0   \n",
       "Bloomfield          4.0      12.0       3.0       6.0       5.0       9.0   \n",
       "Branford           13.0       0.0       0.0       0.0       0.0       0.0   \n",
       "Bridgeport         58.0      58.0      57.0     116.0     388.0       NaN   \n",
       "Bristol            27.0      26.0      27.0      10.0       9.0      15.0   \n",
       "Brookfield          1.0       0.0       0.0       1.0       0.0       0.0   \n",
       "Canton              0.0       0.0       0.0       1.0       1.0       2.0   \n",
       "Cheshire            0.0       0.0       0.0       0.0       0.0       0.0   \n",
       "Clinton             7.0       3.0       7.0       7.0      16.0       6.0   \n",
       "Coventry            1.0       4.0       1.0       5.0       2.0       1.0   \n",
       "Cromwell            0.0       2.0       1.0       1.0       1.0       0.0   \n",
       "Danbury            15.0      25.0      21.0      34.0      23.0       NaN   \n",
       "Darien              0.0       0.0       0.0       0.0       0.0       0.0   \n",
       "Derby               6.0       4.0       2.0       1.0       8.0       2.0   \n",
       "East Hampton        2.0       0.0       0.0       2.0       1.0       0.0   \n",
       "East Hartford      22.0      13.0      20.0      22.0      26.0      31.0   \n",
       "East Haven          4.0       3.0       3.0       0.0       6.0       3.0   \n",
       "East Windsor        3.0       2.0       2.0       3.0       7.0       3.0   \n",
       "Enfield             0.0       0.0       0.0       0.0       0.0       0.0   \n",
       "Fairfield           0.0       0.0       NaN       NaN       0.0       NaN   \n",
       "Farmington          5.0       2.0       2.0       1.0       2.0       5.0   \n",
       "Glastonbury         0.0       5.0       6.0       0.0       2.0       3.0   \n",
       "Granby              3.0       3.0       1.0       2.0       3.0       0.0   \n",
       "Greenwich           2.0       2.0       1.0       4.0       0.0       2.0   \n",
       "Groton              2.0       2.0       1.0       3.0       2.0       2.0   \n",
       "Guilford            4.0       5.0       4.0       4.0       4.0       0.0   \n",
       "Hamden              0.0       0.0       0.0       0.0       0.0       NaN   \n",
       "...                 ...       ...       ...       ...       ...       ...   \n",
       "Ridgefield          0.0       0.0       NaN       1.0       2.0       0.0   \n",
       "Rocky Hill          1.0       0.0       2.0       2.0       3.0       2.0   \n",
       "Seymour             0.0       2.0       0.0       2.0       0.0       NaN   \n",
       "Shelton             2.0       0.0       1.0       0.0       4.0       3.0   \n",
       "Simsbury            1.0       0.0       0.0       0.0       0.0       NaN   \n",
       "South Windsor       7.0       7.0       3.0       3.0       6.0       5.0   \n",
       "Southington         0.0       0.0       0.0       0.0       0.0       0.0   \n",
       "Stamford            0.0       0.0       0.0       0.0       0.0       0.0   \n",
       "Stonington          4.0       1.0       4.0       1.0       2.0       NaN   \n",
       "Stratford          13.0       7.0       3.0       2.0       2.0       4.0   \n",
       "Suffield            3.0       2.0       5.0       2.0       7.0       3.0   \n",
       "Torrington          2.0       0.0       1.0       1.0       0.0       2.0   \n",
       "Trumbull            3.0       3.0       1.0       7.0       3.0       NaN   \n",
       "Vernon              7.0       4.0       5.0       9.0       5.0      12.0   \n",
       "Wallingford        27.0      31.0      19.0      32.0      25.0      28.0   \n",
       "Waterbury           0.0       4.0       1.0       5.0       3.0       4.0   \n",
       "Waterford           4.0      11.0      15.0       9.0      15.0       8.0   \n",
       "Watertown           1.0       1.0       0.0       0.0       1.0       4.0   \n",
       "West Hartford       0.0       0.0       0.0       0.0       0.0       0.0   \n",
       "West Haven         11.0      14.0      20.0      17.0      18.0      15.0   \n",
       "Weston              0.0       5.0       3.0       0.0       0.0       0.0   \n",
       "Westport            5.0       5.0       5.0       7.0       5.0       8.0   \n",
       "Wethersfield        6.0       7.0       4.0       2.0       2.0       5.0   \n",
       "Willimantic        19.0      15.0       6.0       9.0       7.0       NaN   \n",
       "Wilton              4.0       3.0       4.0       1.0       0.0       0.0   \n",
       "Winchester          4.0       6.0       3.0       3.0       4.0       4.0   \n",
       "Windsor Locks       4.0       6.0       2.0       4.0       2.0       2.0   \n",
       "Windsor             0.0       0.0       1.0       0.0       1.0       NaN   \n",
       "Wolcott             0.0       0.0       1.0       0.0       0.0       1.0   \n",
       "Agency              2.0       1.0       2.0       3.0       0.0       0.0   \n",
       "\n",
       "               2014_new  2015  2016  \n",
       "City                                 \n",
       "Ansonia             6.0   5.0   2.0  \n",
       "Avon                1.0   1.0   0.0  \n",
       "Berlin              3.0   2.0   3.0  \n",
       "Bethel              0.0   4.0   0.0  \n",
       "Bloomfield          6.0   8.0   9.0  \n",
       "Branford            0.0   0.0   2.0  \n",
       "Bridgeport         92.0  80.0  69.0  \n",
       "Bristol            11.0  11.0  10.0  \n",
       "Brookfield          0.0   0.0   0.0  \n",
       "Canton              1.0   0.0   0.0  \n",
       "Cheshire            0.0   1.0   2.0  \n",
       "Clinton             7.0   5.0   7.0  \n",
       "Coventry            6.0   1.0   1.0  \n",
       "Cromwell            2.0   0.0   0.0  \n",
       "Danbury            31.0  45.0  30.0  \n",
       "Darien              2.0   0.0   0.0  \n",
       "Derby               3.0   4.0   6.0  \n",
       "East Hampton        1.0   2.0   0.0  \n",
       "East Hartford      24.0  24.0  26.0  \n",
       "East Haven          8.0   2.0   4.0  \n",
       "East Windsor        5.0   9.0   3.0  \n",
       "Enfield             0.0   0.0   0.0  \n",
       "Fairfield           1.0  10.0   7.0  \n",
       "Farmington          4.0   4.0   3.0  \n",
       "Glastonbury         6.0   3.0   4.0  \n",
       "Granby              1.0   0.0   NaN  \n",
       "Greenwich           1.0   1.0   0.0  \n",
       "Groton              2.0   1.0   1.0  \n",
       "Guilford            4.0  11.0   4.0  \n",
       "Hamden              0.0   0.0   0.0  \n",
       "...                 ...   ...   ...  \n",
       "Ridgefield          1.0   1.0   2.0  \n",
       "Rocky Hill          1.0  10.0   7.0  \n",
       "Seymour             8.0   2.0   3.0  \n",
       "Shelton             1.0   1.0   2.0  \n",
       "Simsbury            0.0   0.0   0.0  \n",
       "South Windsor       6.0   3.0   4.0  \n",
       "Southington         0.0   0.0   0.0  \n",
       "Stamford            0.0   0.0   0.0  \n",
       "Stonington          0.0   0.0   4.0  \n",
       "Stratford           4.0   1.0   2.0  \n",
       "Suffield            3.0   8.0   4.0  \n",
       "Torrington          1.0   1.0   2.0  \n",
       "Trumbull            5.0   4.0   2.0  \n",
       "Vernon             12.0   7.0  15.0  \n",
       "Wallingford        21.0  19.0  29.0  \n",
       "Waterbury           1.0   1.0   2.0  \n",
       "Waterford           7.0  12.0   6.0  \n",
       "Watertown           0.0   0.0   2.0  \n",
       "West Hartford       0.0   1.0   3.0  \n",
       "West Haven          4.0  11.0   5.0  \n",
       "Weston              6.0   6.0  11.0  \n",
       "Westport           10.0   3.0   1.0  \n",
       "Wethersfield        1.0   5.0   2.0  \n",
       "Willimantic        34.0  32.0  29.0  \n",
       "Wilton              9.0   8.0   9.0  \n",
       "Winchester          4.0   3.0   1.0  \n",
       "Windsor Locks       1.0   2.0   2.0  \n",
       "Windsor             0.0   7.0  15.0  \n",
       "Wolcott             0.0   0.0   0.0  \n",
       "Agency              0.0   0.0   1.0  \n",
       "\n",
       "[84 rows x 44 columns]"
      ]
     },
     "execution_count": 13,
     "metadata": {},
     "output_type": "execute_result"
    }
   ],
   "source": [
    "def make_hist_table(topic):\n",
    "    \n",
    "    try:\n",
    "\n",
    "        return add_checks(add_history(make_frame(col_labels[topic]),\n",
    "                                      hist_dfs[topic]))\n",
    "    except:\n",
    "        # fall back if can't get history data. arson doesn't have it\n",
    "        return make_frame(col_labels[topic])\n",
    "    \n",
    "\n",
    "#make_hist_table(\"rape\")\n",
    "\n",
    "add_history(make_frame(col_labels[\"rape\"]),\n",
    "                       hist_dfs[\"rape\"])#.index.unique()"
   ]
  },
  {
   "cell_type": "code",
   "execution_count": 14,
   "metadata": {
    "collapsed": false
   },
   "outputs": [
    {
     "name": "stdout",
     "output_type": "stream",
     "text": [
      "larceny\n",
      "Errors: 646\n",
      "Total:  747\n",
      "assault\n",
      "Errors: 574\n",
      "Total:  747\n",
      "murder\n",
      "Errors: 278\n",
      "Total:  747\n",
      "arson\n",
      "robbery\n",
      "Errors: 557\n",
      "Total:  747\n",
      "mv-theft\n",
      "Errors: 581\n",
      "Total:  747\n",
      "burglary\n",
      "Errors: 607\n",
      "Total:  747\n",
      "property\n",
      "Errors: 645\n",
      "Total:  747\n",
      "violent-crimes\n",
      "Errors: 609\n",
      "Total:  747\n",
      "rape\n",
      "Errors: 580\n",
      "Total:  756\n"
     ]
    }
   ],
   "source": [
    "def make_all_tables_with_hist():\n",
    "    ret = {}\n",
    "    for label in col_labels:\n",
    "        print label\n",
    "        try:\n",
    "            ret[label] = make_hist_table(label)\n",
    "            ret[label].to_csv(\"output/historical-\" + label + \".csv\" )\n",
    "        except Exception as e:\n",
    "            print e\n",
    "            continue\n",
    "            \n",
    "    return ret\n",
    "        \n",
    "all_hist_tables = make_all_tables_with_hist()"
   ]
  },
  {
   "cell_type": "code",
   "execution_count": 107,
   "metadata": {
    "collapsed": false
   },
   "outputs": [
    {
     "name": "stdout",
     "output_type": "stream",
     "text": [
      "larceny\n",
      "Errors: 646\n",
      "Total:  747\n",
      "assault\n",
      "Errors: 574\n",
      "Total:  747\n",
      "murder\n",
      "Errors: 278\n",
      "Total:  747\n",
      "arson\n",
      "robbery\n",
      "Errors: 557\n",
      "Total:  747\n",
      "mv-theft\n",
      "Errors: 581\n",
      "Total:  747\n",
      "burglary\n",
      "Errors: 607\n",
      "Total:  747\n",
      "property\n",
      "Errors: 645\n",
      "Total:  747\n",
      "violent-crimes\n",
      "Errors: 609\n",
      "Total:  747\n",
      "rape\n",
      "Errors: 580\n",
      "Total:  756\n",
      "['murder' 'arson' 'mv-theft' 'violent-crimes' 'larceny' 'assault' 'robbery'\n",
      " 'burglary' 'property' 'rape']\n"
     ]
    }
   ],
   "source": [
    "def make_mega_historical():\n",
    "    tmp_mega_hist = make_all_tables_with_hist()\n",
    "    df = None\n",
    "    frames = []\n",
    "    for topic in tmp_mega_hist:\n",
    "        df = tmp_mega_hist[topic].copy()\n",
    "        df[\"crime\"] = topic\n",
    "        frames.append(df)\n",
    "        \n",
    "    return pd.concat(frames).dropna(thresh=5)\n",
    "\n",
    "mega_hist = make_mega_historical()\n",
    "\n",
    "def exclude(name):\n",
    "    \n",
    "    return name not in [\"Agency\",\n",
    "                        \"Groton Long Point\",\n",
    "                       \"Groton Town\",\n",
    "                       \"Middlebury\"\n",
    "                       \"Portland\",\n",
    "                       \"Putnam\",\n",
    "                       \"Redding\",\n",
    "                       \"Thomaston\",\n",
    "                       \"Woodbridge\"]\n",
    "\n",
    "#print mega_hist.index.map(lambda x: exclude(x))\n",
    "\n",
    "mega_hist = mega_hist[mega_hist.index.map(lambda x: exclude(x))]\n",
    "mega_hist.to_csv(\"output/historical-all.csv\")\n",
    "mega_hist.to_csv(\"viz/data/historical-all.csv\")\n",
    "\n",
    "print mega_hist[\"crime\"].unique()"
   ]
  },
  {
   "cell_type": "code",
   "execution_count": null,
   "metadata": {
    "collapsed": true
   },
   "outputs": [],
   "source": []
  },
  {
   "cell_type": "code",
   "execution_count": 96,
   "metadata": {
    "collapsed": false
   },
   "outputs": [
    {
     "name": "stdout",
     "output_type": "stream",
     "text": [
      "[ -1.20507881e+02   2.43205235e+05]\n"
     ]
    },
    {
     "data": {
      "text/plain": [
       "<matplotlib.figure.Figure at 0x13173b9d0>"
      ]
     },
     "metadata": {},
     "output_type": "display_data"
    }
   ],
   "source": [
    "import matplotlib\n",
    "matplotlib.style.use('ggplot')\n",
    "%matplotlib inline\n",
    "import matplotlib.pyplot as plt\n",
    "\n",
    "\n",
    "import numpy as np\n",
    "\n",
    "csfont = {'fontname':'Monaco'}\n",
    "hfont = {'fontname':'Helvetica'}\n",
    "\n",
    "\n",
    "def small(city, crime):\n",
    "    \n",
    "    ret = mega_hist[(mega_hist.index == city) &\n",
    "              (mega_hist[\"crime\"] == crime)]\n",
    "\n",
    "    cols = filter(\n",
    "        lambda x: x in ret.columns,\n",
    "        map(lambda x: str(x), range(1985,2017)))\n",
    "\n",
    "    #print cols\n",
    "    \n",
    "    ret.columns = ret.columns.map(lambda x: str(x))\n",
    "    ret = ret[cols]\n",
    "    \n",
    "    \n",
    "    #return ret\n",
    "#     for col in cols:\n",
    "#         ret[col] = pd.to_numeric(ret[col],errors=coerce)\n",
    "    #print ret\n",
    "    ret = ret.transpose()\n",
    "\n",
    "    ret = ret.reset_index()\n",
    "    ret.columns = [\"year\",\"count\"]\n",
    "    ret[\"year\"] = pd.to_numeric(ret[\"year\"],errors=coerce)\n",
    "    \n",
    "    \n",
    "    fig = plt.figure()   \n",
    "\n",
    "    fig.set_figheight(1)\n",
    "    fig.set_figwidth(4)\n",
    "    #ax = fig.add_subplot(111)\n",
    "    \n",
    "\n",
    "    x = np.array(pd.to_numeric(ret[\"year\"],errors=coerce).values)\n",
    "    y = np.array(pd.to_numeric(ret[\"count\"],errors=coerce).values)\n",
    "    ax = ret.plot.scatter(x=\"year\", y=\"count\", figsize=(2.7,1.5))\n",
    "    idx = np.isfinite(x) & np.isfinite(y)\n",
    "    x = x[idx]\n",
    "    y = y[idx]\n",
    "\n",
    "    fit = np.polyfit(x,y,1) \n",
    "    \n",
    "    print fit\n",
    "    ax.plot(x, fit[0] * x + fit[1], color='orange')\n",
    "\n",
    "    ax.set_xticks([1986,1996,2006,2016])\n",
    "    \n",
    "    ax.set_yticks([0,ret[\"count\"].max()])\n",
    "    ax.set_xlabel(\"\")\n",
    "    ax.set_ylabel(\"\")\n",
    "    #ax.set_title(crime.replace(\"-\",\" \") + \", \" + city,**csfont)\n",
    "    ax.spines['right'].set_visible(False)\n",
    "    ax.spines['top'].set_visible(False)\n",
    "    ax.xaxis.set_ticks_position('bottom')\n",
    "    ax.yaxis.set_ticks_position('left')\n",
    "    plt.tight_layout()\n",
    "              \n",
    "\n",
    "\n",
    "\n",
    "    plt.savefig(\"output/figures/\" + city + \"-\" + crime + \".png\")\n",
    "    plt.savefig(\"viz/img/\" + city + \"-\" + crime + \".png\")\n",
    "\n",
    "    plt.close()\n",
    "\n",
    "    \n",
    "#ax = small(\"Bethel\",\"larceny\").plot.scatter(x=\"year\", y=\"count\", figsize=(3,1))\n",
    "\n",
    "#plt.show()\n",
    "\n",
    "small(\"Bridgeport\",\"mv-theft\")"
   ]
  },
  {
   "cell_type": "raw",
   "metadata": {},
   "source": [
    "x = [0.0, 1.0, 2.0, 3.0,  4.0,  5.0]\n",
    "y = [0.0, 0.8, 0.9, 0.1, -0.8, -1.0]\n",
    "z = np.polyfit(x, y, 3)\n",
    "z\n"
   ]
  },
  {
   "cell_type": "code",
   "execution_count": null,
   "metadata": {
    "collapsed": true
   },
   "outputs": [],
   "source": []
  },
  {
   "cell_type": "code",
   "execution_count": 95,
   "metadata": {
    "collapsed": false
   },
   "outputs": [
    {
     "name": "stdout",
     "output_type": "stream",
     "text": [
      "[ -7.75472125e-01   1.58192751e+03]\n"
     ]
    },
    {
     "data": {
      "text/plain": [
       "<matplotlib.figure.Figure at 0x1065bac90>"
      ]
     },
     "metadata": {},
     "output_type": "display_data"
    },
    {
     "data": {
      "image/png": "[encoded data removed]",
      "text/plain": [
       "<matplotlib.figure.Figure at 0x1250288d0>"
      ]
     },
     "metadata": {},
     "output_type": "display_data"
    }
   ],
   "source": [
    "small(\"Naugatuck\",\"violent-crimes\")"
   ]
  },
  {
   "cell_type": "code",
   "execution_count": 97,
   "metadata": {
    "collapsed": false
   },
   "outputs": [
    {
     "name": "stdout",
     "output_type": "stream",
     "text": [
      "[ -2.05944730e+00   4.41738464e+03]\n",
      "[ -1.27305760e+00   2.57758899e+03]\n",
      "[  8.32772544e-03  -1.61417396e+01]\n",
      "[ -3.63636364e-02   7.43090909e+01]\n",
      "[ -4.79288856e-01   9.76848607e+02]\n",
      "[ -7.55347644e-01   1.56350416e+03]\n",
      "[ -3.36375169e+00   6.80737145e+03]\n",
      "[ -5.96201085e+00   1.23577311e+04]\n",
      "[ -2.01957710e+00   4.09500682e+03]\n",
      "[ -2.40930798e-01   4.87651396e+02]\n",
      "[ -3.76548212e+00   7.70662652e+03]\n",
      "[ -1.54811459e-01   3.12136753e+02]\n",
      "[  9.16422287e-04  -1.80205279e+00]\n",
      "[  3.63636364e-02  -7.28545455e+01]\n",
      "[ -2.80425220e-02   5.79428152e+01]\n",
      "[ -3.00953079e-01   6.09306635e+02]\n",
      "[ -2.18108504e+00   4.40388563e+03]\n",
      "[ -6.32231762e+00   1.28689786e+04]\n",
      "[ -1.39336435e-01   2.84054677e+02]\n",
      "[  5.09794533e-03  -9.46068808e+00]\n",
      "[  1.33586651e+00  -2.39848786e+03]\n",
      "[  2.85100220e-01  -5.65144823e+02]\n",
      "[  2.01612903e-03  -3.75201613e+00]\n",
      "[ -5.45454545e-02   1.11327273e+02]\n",
      "[  1.05664776e-01  -2.06876358e+02]\n",
      "[ -8.09017595e-01   1.65156470e+03]\n",
      "[ -8.72379216e-01   1.81499320e+03]\n",
      "[ -2.90971419e-01   9.58749257e+02]\n",
      "[  4.77375322e-01  -9.43679942e+02]\n",
      "[  4.15158642e-02  -8.20831726e+01]\n",
      "[ -4.49779912e-01   1.05383493e+03]\n",
      "[ -2.84641793e-01   5.74478716e+02]\n",
      "[ -5.13196481e-03   1.04539956e+01]\n",
      "[ -3.63636364e-02   7.37636364e+01]\n",
      "[ -6.34164223e-02   1.28552053e+02]\n",
      "[ -2.29105572e-01   4.67200696e+02]\n",
      "[ -1.38322626e+00   2.81154474e+03]\n",
      "[ -2.02080832e+00   4.25053481e+03]\n",
      "[ -4.46900819e-01   9.02712994e+02]\n",
      "[ -9.39880860e-02   1.89808376e+02]\n",
      "[ -1.08684873e+01   2.22332772e+04]\n",
      "[ -3.04898345e-01   6.51432170e+02]\n",
      "[  1.30143541e-02  -2.57425837e+01]\n",
      "[ -2.42424242e-02   5.03636364e+01]\n",
      "[ -5.66536204e-01   1.15156882e+03]\n",
      "[ -2.97872312e+00   6.02448585e+03]\n",
      "[ -7.02265406e+00   1.41673819e+04]\n",
      "[ -2.12704238e+01   4.32234958e+04]\n",
      "[ -4.34887659e-01   9.39528147e+02]\n",
      "[  1.44439830e-01  -2.81863955e+02]\n",
      "[  7.49832728e+00  -1.44163980e+04]\n",
      "[  2.53636364e-01  -4.94354545e+02]\n",
      "[  7.50780416e-04  -1.20148575e+00]\n",
      "[ -3.69696970e-01   7.44945455e+02]\n",
      "[  2.80382775e-02  -4.72468900e+01]\n",
      "[ -1.43795455e+00   2.93085682e+03]\n",
      "[ -1.33296283e+00   2.74052350e+03]\n",
      "[  4.26945316e+00  -7.83343664e+03]\n",
      "[  3.53696606e-01  -6.79657842e+02]\n",
      "[  5.82267968e-02  -1.10867736e+02]\n",
      "[ -1.10743952e+02   2.25473431e+05]\n",
      "[ -9.18841642e+00   1.92564896e+04]\n",
      "[ -1.24101906e+00   2.51137738e+03]\n",
      "[ -4.20000000e+00   8.47780000e+03]\n",
      "[ -3.29996334e+01   6.68860792e+04]\n",
      "[ -1.20507881e+02   2.43205235e+05]\n",
      "[ -1.09722874e+02   2.21674734e+05]\n",
      "[ -3.40974707e+02   6.90353401e+05]\n",
      "[ -4.18641862e+01   8.56043358e+04]\n",
      "[  1.73042854e+00  -3.37968925e+03]\n",
      "[ -5.46595502e+00   1.19808392e+04]\n",
      "[ -5.74838310e+00   1.16399029e+04]\n",
      "[  3.00586510e-02  -5.90698314e+01]\n",
      "[ -1.09090909e-01   2.23109091e+02]\n",
      "[  4.47580645e-01  -8.54572581e+02]\n",
      "[ -2.60786680e+00   5.35822442e+03]\n",
      "[ -1.03073680e+01   2.10296085e+04]\n",
      "[ -1.90406991e+01   3.96837165e+04]\n",
      "[ -4.61138617e+00   9.42342969e+03]\n",
      "[  3.74741230e-01  -7.35345055e+02]\n",
      "[ -4.01570217e+00   8.20020520e+03]\n",
      "[ -1.75622010e-01   3.58461962e+02]\n",
      "[ -3.45693780e-03   6.94724880e+00]\n",
      "[  1.21212121e-02  -2.41818182e+01]\n",
      "[ -1.09090909e-02   2.35636364e+01]\n",
      "[ -4.91758373e-01   9.95191507e+02]\n",
      "[ -2.06968617e+00   4.18286796e+03]\n",
      "[ -6.61973653e+00   1.34630214e+04]\n",
      "[ -2.53540670e-01   5.16937321e+02]\n",
      "[ -6.35511524e-02   1.27961602e+02]\n",
      "[ -5.01689189e-01   1.09502365e+03]\n",
      "[ -1.33614370e-01   2.70889296e+02]\n",
      "[ -5.31524927e-03   1.06644062e+01]\n",
      "[ -4.54545455e-02   9.15000000e+01]\n",
      "[  1.12733762e-02  -2.21930047e+01]\n",
      "[ -1.27016129e-01   2.59252016e+02]\n",
      "[ -1.32015660e+00   2.66739581e+03]\n",
      "[ -1.74900365e+00   3.62319933e+03]\n",
      "[ -1.10748039e-01   2.25926151e+02]\n",
      "[  3.92907941e-03  -7.55671816e+00]\n",
      "[ -5.87849900e+00   1.20204063e+04]\n",
      "[ -3.07152471e-02   6.56007018e+01]\n",
      "[  4.76539589e-03  -9.34567449e+00]\n",
      "[ -1.81818182e-01   3.66272727e+02]\n",
      "[ -9.21687665e-02   1.86891866e+02]\n",
      "[ -6.78040812e-01   1.37793301e+03]\n",
      "[ -3.84567855e+00   7.77760639e+03]\n",
      "[ -1.00929250e+01   2.05597872e+04]\n",
      "[ -1.62417751e-01   3.32590281e+02]\n",
      "[ -3.09428632e-02   6.28654534e+01]\n",
      "[  2.59979292e+00  -5.00843998e+03]\n",
      "[  2.66326414e-01  -5.25161705e+02]\n",
      "[ -3.19377990e-03   6.54988038e+00]\n",
      "[ -4.84848485e-02   9.91272727e+01]\n",
      "[ -2.13516746e-02   4.49683014e+01]\n",
      "[ -1.64724880e-01   3.38825478e+02]\n",
      "[ -1.38879053e+00   2.83850698e+03]\n",
      "[  1.04244768e+00  -1.82247783e+03]\n",
      "[  5.55588082e-01  -1.09826135e+03]\n",
      "[  3.18304512e-01  -6.33594845e+02]\n",
      "[ -9.35310282e-01   1.97380696e+03]\n",
      "[ -2.81728970e-01   5.71276721e+02]\n",
      "[ -3.11093126e-03   6.32206991e+00]\n",
      "[ -7.87878788e-02   1.58781818e+02]\n",
      "[  2.24091749e-02  -4.39539241e+01]\n",
      "[ -9.17598260e-02   1.90959103e+02]\n",
      "[ -3.41279904e-01   7.24605383e+02]\n",
      "[ -1.50080147e+00   3.15317850e+03]\n",
      "[ -2.53501401e-01   5.16697479e+02]\n",
      "[  1.83227625e-02  -3.55570825e+01]\n",
      "[  4.80627122e-01  -6.91211204e+02]\n",
      "[ -3.98564593e-02   8.42741627e+01]\n",
      "[  5.69377990e-03  -1.13248804e+01]\n",
      "[ -2.00000000e-01   4.02800000e+02]\n",
      "[ -1.04354067e-01   2.15483732e+02]\n",
      "[ -8.04820574e-01   1.63664270e+03]\n",
      "[ -1.28847997e+00   2.62012148e+03]\n",
      "[ -1.61967531e+00   3.57931422e+03]\n",
      "[ -1.37010013e-01   2.86501758e+02]\n",
      "[ -1.37632367e-02   2.85184054e+01]\n",
      "[ -4.65084205e+01   9.46990352e+04]\n",
      "[ -5.81744868e-01   1.22221811e+03]\n",
      "[ -2.54765396e-02   5.25595674e+01]\n",
      "[  2.27272727e-01  -4.52954545e+02]\n",
      "[  1.68621701e-01  -2.78140213e+02]\n",
      "[ -8.48863636e+00   1.71890795e+04]\n",
      "[ -1.72693304e+01   3.49407105e+04]\n",
      "[ -7.23872815e+01   1.47069911e+05]\n",
      "[  1.42961877e-01  -1.48870235e+02]\n",
      "[  5.50733006e-01  -1.08403074e+03]\n",
      "[ -8.77778461e+00   1.77688867e+04]\n",
      "[  7.48273682e-02  -1.46607117e+02]\n",
      "[ -2.18108504e-02   4.37888563e+01]\n",
      "[  9.09090909e-02  -1.82545455e+02]\n",
      "[ -2.09677419e-01   4.23272177e+02]\n",
      "[ -1.69776393e+00   3.42253299e+03]\n",
      "[ -3.40216699e+00   6.86118602e+03]\n",
      "[ -1.39683783e+01   2.82337696e+04]\n",
      "[ -1.86150554e-01   3.79762498e+02]\n",
      "[ -3.47843231e-02   6.98892253e+01]\n",
      "[ -2.19572894e+00   4.67493687e+03]\n",
      "[  7.72908681e-02  -1.43374007e+02]\n",
      "[ -8.25358852e-03   1.67356459e+01]\n",
      "[  1.21212121e-02  -2.35818182e+01]\n",
      "[  3.89473684e-02  -6.78105263e+01]\n",
      "[ -8.48439008e-01   1.74067350e+03]\n",
      "[ -2.38723666e+00   4.87770137e+03]\n",
      "[ -5.51063522e+00   1.14501487e+04]\n",
      "[  1.54378990e-01  -2.83540567e+02]\n",
      "[  2.36830303e-02  -4.39288302e+01]\n",
      "[ -7.24395448e-01   1.55677312e+03]\n",
      "[ -8.86363636e-01   1.78292045e+03]\n",
      "[  4.21554252e-03  -8.27694282e+00]\n",
      "[ -6.36363636e-02   1.28154545e+02]\n",
      "[ -1.85117302e-02   3.78764663e+01]\n",
      "[ -4.08357771e-01   8.25919721e+02]\n",
      "[ -5.91825513e-01   1.21429069e+03]\n",
      "[ -1.67058271e+00   3.48930545e+03]\n",
      "[ -8.98277126e-01   1.80847214e+03]\n",
      "[  5.09794533e-03  -9.46068808e+00]\n",
      "[ -3.41681548e+01   6.96373014e+04]\n",
      "[ -3.05452879e-01   7.06931588e+02]\n",
      "[  9.99542776e-03  -1.78066577e+01]\n",
      "[ -6.36363636e-02   1.37972727e+02]\n",
      "[ -1.25890586e+00   2.60312390e+03]\n",
      "[ -7.78166277e+00   1.58388955e+04]\n",
      "[ -1.37203544e+01   2.78492257e+04]\n",
      "[ -5.56185516e+01   1.13222045e+05]\n",
      "[ -1.11045961e+00   2.42058202e+03]\n",
      "[  5.28065815e-01  -1.03889571e+03]\n",
      "[ -7.85586261e+00   1.63253974e+04]\n",
      "[ -6.67362423e-02   1.51513835e+02]\n",
      "[  1.28299120e-02  -2.53537390e+01]\n",
      "[ -1.63636364e-01   3.31436364e+02]\n",
      "[ -2.03229336e-01   4.24712328e+02]\n",
      "[ -1.37667361e+00   2.86126203e+03]\n",
      "[ -4.52643344e+00   9.20733849e+03]\n",
      "[ -1.44331736e+01   2.97374236e+04]\n",
      "[ -1.03593701e-01   2.46938535e+02]\n",
      "[  8.67073188e-02  -1.70816178e+02]\n",
      "[  3.04108711e+00  -5.85861004e+03]\n",
      "[ -1.61290323e-01   3.30786290e+02]\n",
      "[ -1.26466276e-02   2.57683284e+01]\n",
      "[ -8.18181818e-02   1.68809091e+02]\n",
      "[  6.09124162e-02  -1.16183601e+02]\n",
      "[ -9.00880166e-01   1.83762039e+03]\n",
      "[ -1.10399119e+00   2.26700250e+03]\n",
      "[  1.19819988e+00  -2.07601558e+03]\n",
      "[  0.01630549 -14.84167894]\n",
      "[  1.37221604e-01  -2.70939512e+02]\n",
      "[ -4.13759188e+01   8.35268020e+04]\n",
      "[ -5.65079724e-01   1.15873267e+03]\n",
      "[ -2.04669829e-02   4.12486319e+01]\n",
      "[  4.08163265e-02  -7.75306122e+01]\n",
      "[ -8.66334954e-01   1.75101300e+03]\n",
      "[ -7.01812168e+00   1.41700111e+04]\n",
      "[ -1.22035508e+01   2.45958381e+04]\n",
      "[ -6.05975913e+01   1.22292651e+05]\n",
      "[ -1.55801199e+00   3.16579385e+03]\n",
      "[ -1.38441377e-01   2.79147737e+02]\n",
      "[ -2.05201572e+01   4.20762495e+04]\n",
      "[  5.25760015e-01  -1.03478682e+03]\n",
      "[ -1.70154570e-02   3.46222569e+01]\n",
      "[  7.27272727e-02  -1.45163636e+02]\n",
      "[ -6.84072147e-01   1.38933467e+03]\n",
      "[ -9.80832297e+00   1.97862192e+04]\n",
      "[ -1.60751725e+01   3.24755813e+04]\n",
      "[ -4.64036526e+01   9.43380500e+04]\n",
      "[  1.12546647e-01  -1.82513796e+02]\n",
      "[  2.41094651e-01  -4.78457085e+02]\n",
      "[  3.46189076e+00  -6.29042587e+03]\n",
      "[  1.43333710e-02  -1.90119303e+01]\n",
      "[ -7.84055845e-04   1.60149729e+00]\n",
      "[ -2.09090909e-01   4.21481818e+02]\n",
      "[  7.63949136e-02  -1.44499591e+02]\n",
      "[ -1.52993893e+00   3.11617285e+03]\n",
      "[ -2.35570508e+00   4.82165702e+03]\n",
      "[ -4.23753251e-01   1.64740399e+03]\n",
      "[  1.50684157e-01  -2.80535678e+02]\n",
      "[  4.63464732e-02  -8.99491303e+01]\n",
      "[ -1.64421011e+00   3.71499972e+03]\n",
      "[ -4.43429832e-01   8.93041671e+02]\n",
      "[ -1.18161608e-02   2.38289194e+01]\n",
      "[ -1.39393939e-01   2.80951515e+02]\n",
      "[  6.43730015e-02  -1.23029993e+02]\n",
      "[ -5.69914056e-01   1.16229882e+03]\n",
      "[ -4.18876512e+00   8.45666205e+03]\n",
      "[ -6.40288929e+00   1.33339606e+04]\n",
      "[ -3.57062083e-01   7.28149271e+02]\n",
      "[  5.04353726e-02  -9.87954314e+01]\n",
      "[  4.40883978e+00  -8.67605249e+03]\n",
      "[  2.23362273e-02  -4.12174428e+01]\n",
      "[ 0.  0.]\n",
      "[ -1.09090909e-01   2.20109091e+02]\n",
      "[  1.23125493e-01  -2.44838200e+02]\n",
      "[ -4.94080505e-02   1.11659432e+02]\n",
      "[ -2.78216259e-01   5.82567088e+02]\n",
      "[  4.08121547e+00  -7.98182597e+03]\n",
      "[  1.70244672e-01  -3.34747435e+02]\n",
      "[  2.35580039e-02  -4.62514582e+01]\n",
      "[ -4.80896472e+01   9.68628320e+04]\n",
      "[ -3.03997512e-01   6.27712598e+02]\n",
      "[ -1.20600708e-02   2.42896443e+01]\n",
      "[ -1.63636364e-01   3.31254545e+02]\n",
      "[ -5.74211241e-01   1.15935763e+03]\n",
      "[ -6.11885107e+00   1.23203632e+04]\n",
      "[ -9.38632251e+00   1.89055760e+04]\n",
      "[ -6.35948208e+01   1.28088771e+05]\n",
      "[ -9.11314034e-01   1.85639167e+03]\n",
      "[ -3.15794175e-02   6.60068340e+01]\n",
      "[ -3.06497512e+01   6.19087598e+04]\n",
      "[ -1.87594708e+00   3.78124980e+03]\n",
      "[ -1.65755599e-02   3.35690354e+01]\n",
      "[  3.63636364e-02  -7.13090909e+01]\n",
      "[ -7.10731652e-02   1.56656791e+02]\n",
      "[ -1.24284745e+00   2.52221791e+03]\n",
      "[ -7.45968563e+00   1.50405010e+04]\n",
      "[ -3.93522843e+01   7.94714786e+04]\n",
      "[ -2.21143843e+00   4.49076179e+03]\n",
      "[ -3.71371881e-01   7.65165348e+02]\n",
      "[ -7.67957707e+00   1.56551416e+04]\n",
      "[  5.73334841e-02  -1.03047721e+02]\n",
      "[ -7.33137830e-04   1.59164223e+00]\n",
      "[  9.09090909e-03  -1.80090909e+01]\n",
      "[ -3.66823274e-02   7.57312974e+01]\n",
      "[ -8.40806287e-01   1.70068998e+03]\n",
      "[ -5.26693430e+00   1.06117054e+04]\n",
      "[ -1.37873177e+01   2.79675370e+04]\n",
      "[  2.49349768e-01  -4.80201628e+02]\n",
      "[  1.82789143e-01  -3.61554216e+02]\n",
      "[ -5.77856214e+01   1.16792672e+05]\n",
      "[ -8.53669569e-01   1.73041864e+03]\n",
      "[ -7.40783146e-02   1.49069728e+02]\n",
      "[ -2.95918367e-01   5.97346939e+02]\n",
      "[ -2.01699084e+00   4.07910093e+03]\n",
      "[ -1.30304761e+01   2.62656802e+04]\n",
      "[ -1.67550605e+01   3.37306482e+04]\n",
      "[ -8.75711580e+01   1.76789000e+05]\n",
      "[ -3.39833767e+00   6.87387199e+03]\n",
      "[ -4.57367409e-01   9.22785028e+02]\n",
      "[ -3.13505937e+02   6.33278029e+05]\n",
      "[ -5.65902409e+01   1.14011235e+05]\n",
      "[ -5.99202759e-01   1.22017330e+03]\n",
      "[ -2.94545455e+00   6.00567273e+03]\n",
      "[ -5.29592050e+01   1.06847889e+05]\n",
      "[ -7.05145030e+01   1.42926698e+05]\n",
      "[ -1.93315589e+02   3.88866292e+05]\n",
      "[ -5.77336028e+02   1.16507102e+06]\n",
      "[ -1.15118992e+02   2.32092602e+05]\n",
      "[ -4.97034377e+00   1.00133047e+04]\n",
      "[ -3.61967093e+00   7.41134813e+03]\n",
      "[ -1.39319236e-01   2.83538053e+02]\n",
      "[ -1.43241920e-03   2.99414789e+00]\n",
      "[ -9.09090909e-02   1.83454545e+02]\n",
      "[ -1.93457912e-02   4.01871726e+01]\n",
      "[ -4.84846771e-01   9.79003166e+02]\n",
      "[ -3.83806401e+00   7.73425772e+03]\n",
      "[ -7.94258170e+00   1.61246090e+04]\n",
      "[ -1.08079837e-01   2.23768461e+02]\n",
      "[  3.79396133e-02  -7.48875947e+01]\n",
      "[ -5.05433676e+00   1.17295857e+04]\n",
      "[  4.93757775e+00  -9.75735633e+03]\n",
      "[  3.56321839e-02  -7.05804598e+01]\n",
      "[ -1.09090909e+00   2.20172727e+03]\n",
      "[  3.90845867e-01  -7.29216838e+02]\n",
      "[  1.43862377e+00  -2.71992327e+03]\n",
      "[ -1.21656395e+01   2.47893982e+04]\n",
      "[ -1.57813525e+01   3.37990606e+04]\n",
      "[  5.00715255e+00  -9.82228209e+03]\n",
      "[ -3.71508538e-01   7.63952222e+02]\n",
      "[  4.81850899e+01  -9.44054539e+04]\n",
      "[  1.88673810e+01  -3.75325800e+04]\n",
      "[  5.01074296e-01  -9.97014701e+02]\n",
      "[ -8.72727273e-01   1.76387273e+03]\n",
      "[  1.05462795e+01  -2.09489754e+04]\n",
      "[  1.23054959e+01  -2.43094436e+04]\n",
      "[ -1.89994911e+00   4.45339404e+03]\n",
      "[  5.85906367e+01  -1.14261503e+05]\n",
      "[  3.09771853e+01  -6.15876615e+04]\n",
      "[  1.06245053e+00  -2.10909143e+03]\n",
      "[ -3.79233026e+01   7.68455591e+04]\n",
      "[ -3.65144413e+00   7.34105444e+03]\n",
      "[ -5.11635985e-02   1.03172456e+02]\n",
      "[ -1.54545455e-01   3.12336364e+02]\n",
      "[ -1.30588235e+00   2.63558824e+03]\n",
      "[ -5.76579465e+00   1.16722813e+04]\n",
      "[ -1.46689248e+01   2.95472370e+04]\n",
      "[ -5.83580221e+01   1.18065077e+05]\n",
      "[ -5.52266747e+00   1.11123362e+04]\n",
      "[ -5.21655112e-01   1.04741185e+03]\n",
      "[ -5.10864526e+00   1.17277236e+04]\n",
      "[  7.70637793e-01  -1.51236136e+03]\n",
      "[ -2.60105513e-02   5.30185475e+01]\n",
      "[ -8.18181818e-02   1.68445455e+02]\n",
      "[ -2.26111048e-01   4.87146783e+02]\n",
      "[ -1.38055241e+01   2.78498914e+04]\n",
      "[ -1.12106751e+01   2.26936724e+04]\n",
      "[ -3.01248445e+01   6.22712873e+04]\n",
      "[  6.74431754e-01  -1.27165012e+03]\n",
      "[  1.17576123e-01  -2.23162245e+02]\n",
      "[  1.76926100e+01  -3.50925568e+04]\n",
      "[  2.01342870e+00  -4.00468376e+03]\n",
      "[  2.03136402e-02  -4.04706390e+01]\n",
      "[ -2.72727273e-02   5.53000000e+01]\n",
      "[  1.81838743e+00  -3.62262004e+03]\n",
      "[  3.19495646e+00  -6.35172046e+03]\n",
      "[  4.08882732e+00  -8.08284711e+03]\n",
      "[  2.49763938e+01  -4.95271243e+04]\n",
      "[  4.56293113e+00  -9.08370327e+03]\n",
      "[  6.92836142e-01  -1.38013881e+03]\n",
      "[ -1.05917110e+01   2.15865181e+04]\n",
      "[ -7.46381319e-01   1.51318732e+03]\n",
      "[ -1.38055222e-02   2.77112845e+01]\n",
      "[ -1.03030303e-01   2.08745455e+02]\n",
      "[ -1.51532285e-02   3.69968337e+01]\n",
      "[ -2.18655999e+00   4.42873714e+03]\n",
      "[ -5.35768404e+00   1.08179999e+04]\n",
      "[ -1.81359550e+01   3.68332552e+04]\n",
      "[ -7.75472125e-01   1.58192751e+03]\n",
      "[ 0.00319462 -2.59634739]\n",
      "[ -8.08664198e+01   1.63960356e+05]\n",
      "[ -5.89570847e+00   1.19722307e+04]\n",
      "[ -1.94010184e-01   3.90938025e+02]\n",
      "[  2.03463203e-01  -4.06883117e+02]\n",
      "[ -7.13177089e+00   1.44319874e+04]\n",
      "[ -1.38868597e+01   2.82330833e+04]\n",
      "[ -4.21556598e+01   8.51933406e+04]\n",
      "[ -1.36908939e+02   2.77386780e+05]\n",
      "[ -1.44219439e+01   2.92137477e+04]\n",
      "[ -1.20448377e+00   2.42661399e+03]\n",
      "[  2.01442875e+01  -3.99869089e+04]\n",
      "[  1.39922978e-01  -2.76327985e+02]\n",
      "[ 0.  0.]\n",
      "[ -3.63636364e-02   7.32181818e+01]\n",
      "[  6.45827985e-01  -1.28684917e+03]\n",
      "[  1.28940950e+00  -2.55684788e+03]\n",
      "[  3.47625160e-01  -6.35529525e+02]\n",
      "[  2.17813222e+01  -4.31792863e+04]\n",
      "[  7.88318357e-01  -1.56757766e+03]\n",
      "[  2.56739409e-03  -4.40051348e+00]\n",
      "[ -2.60669223e+02   5.26746468e+05]\n",
      "[ -4.38000295e+01   8.85641189e+04]\n",
      "[ -8.51349359e-01   1.71893791e+03]\n",
      "[  3.52459016e-01  -6.92483607e+02]\n",
      "[ -4.55550066e+01   9.19086767e+04]\n",
      "[ -9.19856216e+01   1.85578555e+05]\n",
      "[ -1.53202846e+02   3.08536970e+05]\n",
      "[ -5.05857691e+02   1.02086199e+06]\n",
      "[ -9.51782186e+01   1.92210721e+05]\n",
      "[ -4.97183306e+00   1.00189872e+04]\n",
      "[ -3.70239455e+01   7.48522487e+04]\n",
      "[ -2.49428927e+00   5.08855343e+03]\n",
      "[ -5.74736493e-02   1.16427753e+02]\n",
      "[ -5.00000000e-01   1.01288889e+03]\n",
      "[ -2.18901956e+00   4.43269185e+03]\n",
      "[ -4.89288138e+00   9.89945522e+03]\n",
      "[ -2.10309850e+01   4.23387398e+04]\n",
      "[ -6.29478118e+01   1.27090444e+05]\n",
      "[ -1.51558442e+00   3.22335281e+03]\n",
      "[ -2.31256361e-02   6.02638245e+01]\n",
      "[  2.02800520e+01  -4.00664639e+04]\n",
      "[  2.02504806e+00  -4.02171118e+03]\n",
      "[  1.03531590e-01  -2.06022987e+02]\n",
      "[  1.36363636e-01  -2.72227273e+02]\n",
      "[  2.24431754e+00  -4.47050119e+03]\n",
      "[  7.42991632e+00  -1.47700146e+04]\n",
      "[  5.29596856e+00  -1.04425501e+04]\n",
      "[  3.30059369e+01  -6.52790286e+04]\n",
      "[  1.14285714e-01  -2.06428571e+02]\n",
      "[  1.10304761e+00  -2.19506802e+03]\n",
      "[ -1.61502036e+01   3.28899238e+04]\n",
      "[ -8.46175371e-01   1.70298850e+03]\n",
      "[ -1.30195937e-02   2.63054201e+01]\n",
      "[ -5.45454545e-02   1.11600000e+02]\n",
      "[ -1.83676354e-01   3.78066097e+02]\n",
      "[ -1.50135701e+00   3.06349225e+03]\n",
      "[ -5.08017641e+00   1.02578340e+04]\n",
      "[ -2.27317370e+01   4.62112501e+04]\n",
      "[ -4.74025974e-01   9.76586580e+02]\n",
      "[  8.53782653e-02  -1.67220966e+02]\n",
      "[  6.45153238e+01  -1.28429836e+05]\n",
      "[  1.19485516e+01  -2.38075840e+04]\n",
      "[  1.99687035e-01  -3.97748063e+02]\n",
      "[  1.21212121e-02  -2.35818182e+01]\n",
      "[  6.70474409e+00  -1.33623190e+04]\n",
      "[  1.15890615e+01  -2.30811945e+04]\n",
      "[  9.81630472e+00  -1.94681253e+04]\n",
      "[  8.59206900e+01  -1.70979155e+05]\n",
      "[ -5.49350649e-01   1.10733550e+03]\n",
      "[  1.11778176e+00  -2.22681432e+03]\n",
      "[  7.32203438e+00  -1.44443805e+04]\n",
      "[  3.08894040e+00  -6.15163813e+03]\n",
      "[  4.85729967e-02  -9.68162276e+01]\n",
      "[ -1.36363636e-01   2.74954545e+02]\n",
      "[  6.53087188e-01  -1.30059488e+03]\n",
      "[  1.36186814e+00  -2.69826767e+03]\n",
      "[  3.85163406e-01  -7.09218026e+02]\n",
      "[  9.06906593e+00  -1.78518662e+04]\n",
      "[  1.64935065e-01  -3.22093074e+02]\n",
      "[  3.47336877e-01  -6.92121452e+02]\n",
      "[ -8.83472803e+00   1.81414226e+04]\n",
      "[ -3.43294131e-01   6.99092446e+02]\n",
      "[ -1.69078858e-03   3.62254836e+00]\n",
      "[ -1.87878788e-01   3.78618182e+02]\n",
      "[ -3.85304761e-01   7.80456802e+02]\n",
      "[ -3.05436503e+00   6.16603342e+03]\n",
      "[ -5.36608052e+00   1.08219832e+04]\n",
      "[ -1.72551736e+01   3.51294392e+04]\n",
      "[ -1.10129870e+00   2.22356710e+03]\n",
      "[  1.29226507e-01  -2.56689415e+02]\n",
      "[ -8.49175054e+01   1.71987450e+05]\n",
      "[ -1.02275811e+00   2.17244301e+03]\n",
      "[ -1.70045468e-01   3.43177241e+02]\n",
      "[ -3.03030303e-01   6.15345455e+02]\n",
      "[ -4.69260997e+00   9.50655677e+03]\n",
      "[ -1.97032681e+01   3.97713605e+04]\n",
      "[ -5.10707056e+01   1.02787836e+05]\n",
      "[ -1.55691479e+02   3.14546647e+05]\n",
      "[  1.44805195e+00  -2.58314935e+03]\n",
      "[ -1.31516454e-01   2.73957594e+02]\n",
      "[ -3.26170284e+01   6.59920790e+04]\n",
      "[ -1.97495826e+00   4.02459508e+03]\n",
      "[ -3.21515299e-02   6.54758621e+01]\n",
      "[ -6.09090909e-01   1.23588182e+03]\n",
      "[ -6.76126878e-01   1.38993277e+03]\n",
      "[ -3.02604341e+00   6.13399566e+03]\n",
      "[ -1.08641068e+01   2.19792802e+04]\n",
      "[ -4.65071786e+01   9.41053549e+04]\n",
      "[  2.00540694e+00  -3.84243469e+03]\n",
      "[ -1.94657763e-01   4.09588769e+02]\n",
      "[ -6.67922739e+00   1.35932987e+04]\n",
      "[ -2.69338981e-01   5.42385705e+02]\n",
      "[ -2.77620475e-03   5.65398268e+00]\n",
      "[ -2.93847567e-02   5.92956841e+01]\n",
      "[ -4.63049423e-02   9.41904722e+01]\n",
      "[ -6.30133089e-01   1.27392808e+03]\n",
      "[ -2.09603895e+00   4.23262979e+03]\n",
      "[ -9.40539942e+00   1.90998566e+04]\n",
      "[ -4.20887877e-01   8.47189670e+02]\n",
      "[  1.27070570e-02  -2.47236215e+01]\n",
      "[ -1.53097648e+01   3.11100547e+04]\n",
      "[ -6.42824833e-01   1.29205971e+03]\n",
      "[ -9.26916221e-03   1.86021390e+01]\n",
      "[  1.04683196e-01  -2.09928375e+02]\n",
      "[ -3.08826810e-01   6.25692214e+02]\n",
      "[ -1.71242791e+00   3.46643322e+03]\n",
      "[ -2.50749180e+00   5.08965515e+03]\n",
      "[ -1.95296845e+01   3.96661431e+04]\n",
      "[ -1.89220779e+00   3.79419264e+03]\n",
      "[ -6.68097026e-02   1.34767865e+02]\n",
      "[  2.64755739e+01  -5.26431394e+04]\n",
      "[  5.08913830e+00  -1.01277724e+04]\n",
      "[  1.60618264e-03  -2.83328290e+00]\n",
      "[ -8.30685514e-16   9.09090909e-01]\n",
      "[  1.27224924e+00  -2.53388341e+03]\n",
      "[  2.36410155e+00  -4.68664034e+03]\n",
      "[  3.66490444e+00  -7.23875659e+03]\n",
      "[  3.25045799e+01  -6.45685364e+04]\n",
      "[  1.83636364e+00  -3.64059307e+03]\n",
      "[  5.10856044e-01  -1.01693803e+03]\n",
      "[  3.68839760e+00  -6.96884123e+03]\n",
      "[  1.90998530e+00  -3.79834717e+03]\n",
      "[  2.20051974e-03  -3.99637438e+00]\n",
      "[ -1.09090909e-01   2.20472727e+02]\n",
      "[  3.37102793e-01  -6.62034038e+02]\n",
      "[ -1.51221305e-01   3.51043028e+02]\n",
      "[ -1.01817822e+00   2.14290665e+03]\n",
      "[  2.51899808e+00  -4.47489155e+03]\n",
      "[  9.22077922e-02  -1.62906926e+02]\n",
      "[  2.93254552e-01  -5.82565589e+02]\n",
      "[ -7.02193826e-01   1.55234581e+03]\n",
      "[  3.25115911e-02  -5.79185797e+01]\n",
      "[ -1.81194907e-02   3.65328110e+01]\n",
      "[ -3.13852814e-01   6.32783550e+02]\n",
      "[ -5.21299147e-02   1.05681294e+02]\n",
      "[ -9.64123295e-01   1.94554910e+03]\n",
      "[ -3.05261224e+00   6.16127259e+03]\n",
      "[ -4.70323985e+00   9.62791276e+03]\n",
      "[ -1.62337662e-01   3.35292208e+02]\n",
      "[ -1.66147315e-01   3.33869169e+02]\n",
      "[  2.36186814e+00  -4.58126767e+03]\n",
      "[ -2.64909962e-01   5.32159508e+02]\n",
      "[ -5.22314592e-03   1.04782323e+01]\n",
      "[ -1.45454545e-01   2.93054545e+02]\n",
      "[  1.20066719e-01  -2.38616702e+02]\n",
      "[ -1.39008255e-01   2.86612745e+02]\n",
      "[ -2.21251272e+00   4.46577649e+03]\n",
      "[  1.03471673e-02   1.71121565e+02]\n",
      "[ -4.77922078e-01   9.57883117e+02]\n",
      "[  6.16551143e-03  -1.19135680e+01]\n",
      "[ -8.47969394e+00   1.72379835e+04]\n",
      "[  1.32368886e-01  -2.54398810e+02]\n",
      "[ -2.11662742e-02   4.26687040e+01]\n",
      "[ -5.55040999e-15   6.00000000e-01]\n",
      "[ -3.08726495e-01   6.23344382e+02]\n",
      "[ -1.63861095e+00   3.31915597e+03]\n",
      "[ -4.20622038e+00   8.46765478e+03]\n",
      "[ -1.43245253e+01   2.90247943e+04]\n",
      "[  1.78195489e-01  -3.35560902e+02]\n",
      "[  1.68582138e-01  -3.34377095e+02]\n",
      "[  6.08342757e+00  -1.19613259e+04]\n",
      "[ 0.01297637  0.48032342]\n",
      "[ -1.76278934e-03   3.62275092e+00]\n",
      "[ -4.54545455e-02   9.26818182e+01]\n",
      "[  9.63756644e-02  -1.88397772e+02]\n",
      "[ -6.25183761e-01   1.27566041e+03]\n",
      "[ -1.27179690e+00   2.60271933e+03]\n",
      "[  4.18644691e+00  -8.08294612e+03]\n",
      "[  2.89610390e-01  -5.45391775e+02]\n",
      "[  2.12950263e-02  -4.07424866e+01]\n",
      "[ -8.15249350e+00   1.66101920e+04]\n",
      "[ -2.09657356e-01   4.30553206e+02]\n",
      "[ -3.23271535e-02   6.49489191e+01]\n",
      "[ -9.09090909e-02   1.83363636e+02]\n",
      "[  4.24064232e-04   6.28367070e+00]\n",
      "[ -2.19473030e+00   4.46113841e+03]\n",
      "[ -4.06335520e+00   8.24441960e+03]\n",
      "[ -1.44105790e+01   2.93157500e+04]\n",
      "[  4.05194805e-01  -7.85077922e+02]\n",
      "[  3.24207493e-02  -6.23746398e+01]\n",
      "[ -5.57033812e+00   1.13260152e+04]\n",
      "[ -2.51526631e-01   5.07678785e+02]\n",
      "[ -5.71981697e-04   1.24709609e+00]\n",
      "[ -1.72727273e-01   3.48354545e+02]\n",
      "[ -4.26176721e-03   1.07625249e+01]\n",
      "[ -6.01803687e-01   1.21336679e+03]\n",
      "[ -2.23580798e+00   4.51272685e+03]\n",
      "[ -8.40794979e+00   1.70521088e+04]\n",
      "[ -4.45454545e-01   8.97443723e+02]\n",
      "[ -4.20053142e-02   8.45516958e+01]\n",
      "[ -5.42806563e+00   1.10704443e+04]\n",
      "[  3.23080328e-02  -5.26173932e+01]\n",
      "[ -2.17437647e-02   4.37034747e+01]\n",
      "[  5.94545455e+00  -1.19432182e+04]\n",
      "[ -3.08854677e-02   6.53671166e+01]\n",
      "[ -9.34593621e-01   1.89195950e+03]\n",
      "[ -2.91527835e+00   5.89642797e+03]\n",
      "[ -9.27793760e+00   1.88588318e+04]\n",
      "[ -2.04040979e-01   4.25193369e+02]\n",
      "[  9.86944014e-02  -1.94296968e+02]\n",
      "[ -1.95517401e+01   3.96944030e+04]\n",
      "[ -9.70997680e-01   1.96018727e+03]\n",
      "[ -2.49203305e-02   5.01951337e+01]\n",
      "[ -1.01212121e+00   2.04238182e+03]\n",
      "[ -4.19721578e-01   8.49758369e+02]\n",
      "[ -2.36380510e+00   4.79258800e+03]\n",
      "[ -1.25839907e+01   2.53516062e+04]\n",
      "[ -3.44995360e+01   6.98385973e+04]\n",
      "[ -1.21670702e+00   2.46920944e+03]\n",
      "[ -2.37587007e-01   4.79048724e+02]\n",
      "[ -1.36535084e+02   2.75420664e+05]\n",
      "[ -9.59103246e+00   1.93517720e+04]\n",
      "[ -2.65322854e-01   5.34183365e+02]\n",
      "[ -3.93939394e-01   8.00309091e+02]\n",
      "[ -9.82980889e+00   1.98265132e+04]\n",
      "[ -3.21615685e+01   6.47539215e+04]\n",
      "[ -5.77119190e+01   1.16031374e+05]\n",
      "[ -2.26408572e+02   4.56205959e+05]\n",
      "[ -1.81662338e+01   3.67018745e+04]\n",
      "[ -5.63383467e-01   1.14186735e+03]\n",
      "[ -5.78279430e+00   1.19118961e+04]\n",
      "[ -1.36165577e-02   3.08031590e+01]\n",
      "[ -5.76660428e-03   1.16335930e+01]\n",
      "[  1.18181818e-01  -2.37209091e+02]\n",
      "[ -5.63976541e-02   1.16440257e+02]\n",
      "[ -5.51509669e-01   1.11881013e+03]\n",
      "[ -3.90689629e+00   7.87855249e+03]\n",
      "[ -1.02052471e+01   2.08377034e+04]\n",
      "[  1.27272727e-01  -2.44623377e+02]\n",
      "[  1.46269492e-02  -2.80047315e+01]\n",
      "[ -2.90222492e+01   5.89723834e+04]\n",
      "[ -1.19000905e+00   2.41036328e+03]\n",
      "[ -6.56183895e-02   1.32172881e+02]\n",
      "[ -3.00000000e-01   6.09845455e+02]\n",
      "[ -1.66122922e+00   3.37354840e+03]\n",
      "[ -1.21408176e+01   2.45202691e+04]\n",
      "[ -1.77598100e+01   3.58208711e+04]\n",
      "[ -5.89228769e+01   1.19313524e+05]\n",
      "[ -1.04545455e+00   2.19353896e+03]\n",
      "[ -2.68629065e-02   6.10247015e+01]\n",
      "[  5.06344001e+00  -9.99276286e+03]\n",
      "[  1.42699028e-01  -2.81524073e+02]\n",
      "[ -1.59012396e-02   3.19970534e+01]\n",
      "[  4.24242424e-02  -8.50363636e+01]\n",
      "[  2.94470202e-01  -5.85819066e+02]\n",
      "[  5.94283614e-01  -1.17026388e+03]\n",
      "[  1.42443175e+00  -2.80215012e+03]\n",
      "[  7.08215538e+00  -1.39651769e+04]\n",
      "[ -7.79220779e-03   2.06883117e+01]\n",
      "[  1.17748502e-01  -2.33900769e+02]\n",
      "[ -1.28629707e+01   2.63097301e+04]\n",
      "[ -5.36243356e-01   1.13502228e+03]\n",
      "[ -2.15588969e-02   4.33802746e+01]\n",
      "[ -3.87878788e-01   7.84018182e+02]\n",
      "[ -1.74771005e-01   3.58023182e+02]\n",
      "[ -2.42267896e+00   4.90538929e+03]\n",
      "[ -4.79803234e+00   9.75123623e+03]\n",
      "[ -2.00836820e+01   4.09663556e+04]\n",
      "[  1.45194805e+00  -2.80873160e+03]\n",
      "[ -5.59708244e-01   1.12465917e+03]\n",
      "[ -1.79418645e+01   3.66325720e+04]\n",
      "[ -1.85123131e-01   3.78369329e+02]\n",
      "[ -9.85930505e-03   1.98925069e+01]\n",
      "[  9.09090909e-02  -1.82363636e+02]\n",
      "[ -1.63942718e-01   3.38976322e+02]\n",
      "[ -5.64666646e+00   1.13909035e+04]\n",
      "[ -4.32462934e+00   8.75431312e+03]\n",
      "[ -2.79131603e+01   5.67777887e+04]\n",
      "[  7.99658509e-02  -1.36963859e+02]\n",
      "[  8.10545949e-02  -1.60793538e+02]\n",
      "[ -4.34439670e+00   9.22455490e+03]\n",
      "[ -1.90551849e+00   3.83660183e+03]\n",
      "[ -1.00172655e-02   2.01348829e+01]\n",
      "[ -5.27272727e-01   1.06410909e+03]\n",
      "[  4.79758001e-02  -7.88407215e+01]\n",
      "[ -2.48784349e-01   5.53246523e+02]\n",
      "[ -5.63615289e+00   1.14043895e+04]\n",
      "[ -1.02293339e+01   2.11821909e+04]\n",
      "[ -2.15584416e+00   4.35548052e+03]\n",
      "[  2.04389489e-01  -4.04473847e+02]\n",
      "[  1.39103528e+01  -2.69001680e+04]\n",
      "[  4.12741717e+00  -8.20803308e+03]\n",
      "[  2.71887148e-02  -5.36416583e+01]\n",
      "[ -4.45454545e-01   8.98081818e+02]\n",
      "[  2.34759132e+00  -4.66815125e+03]\n",
      "[ -1.62973538e+00   3.36774901e+03]\n",
      "[ -5.38032907e+00   1.09586519e+04]\n",
      "[  6.90028836e+00  -1.25737671e+04]\n",
      "[  1.77922078e-01  -3.19906926e+02]\n",
      "[  4.94826416e-01  -9.82060783e+02]\n",
      "[ -1.26543877e+02   2.56873916e+05]\n",
      "[ -5.85236911e+00   1.19238219e+04]\n",
      "[ -2.63796223e-01   5.34004580e+02]\n",
      "[  9.18181818e-01  -1.83882727e+03]\n",
      "[ -7.89788533e+00   1.60147079e+04]\n",
      "[ -2.82192129e+01   5.72348945e+04]\n",
      "[ -7.44042746e+01   1.50187901e+05]\n",
      "[ -2.29167364e+02   4.64296711e+05]\n",
      "[ -1.78831169e+00   4.14268182e+03]\n",
      "[ -4.90048626e-01   1.01539014e+03]\n",
      "[  4.73063440e+00  -8.81578763e+03]\n",
      "[  1.79548796e-01  -3.33693826e+02]\n",
      "[ -1.27245158e-02   2.57948133e+01]\n",
      "[ -9.09090909e-02   1.83727273e+02]\n",
      "[  5.13485243e-01  -1.01157927e+03]\n",
      "[  1.78186136e+00  -3.51312021e+03]\n",
      "[  1.54314147e+00  -2.98827457e+03]\n",
      "[  8.05563723e+00  -1.53171824e+04]\n",
      "[  4.59740260e-01  -8.76515152e+02]\n",
      "[  1.90382876e-01  -3.76200533e+02]\n",
      "[ -1.04806909e+01   2.12711831e+04]\n",
      "[ -3.19376908e-01   6.46291473e+02]\n",
      "[ -1.54937660e-02   3.11864990e+01]\n",
      "[ -2.72727273e-02   5.49363636e+01]\n",
      "[ -1.48987900e-01   3.00670361e+02]\n",
      "[ -1.55919937e+00   3.14859957e+03]\n",
      "[ -3.13711410e+00   6.34161314e+03]\n",
      "[ -1.51770044e+01   3.07613958e+04]\n",
      "[ -7.24675325e-01   1.46015584e+03]\n",
      "[ -1.10935870e-01   2.23103711e+02]\n",
      "[ -5.08386577e+01   1.02935661e+05]\n",
      "[ -9.89313581e-01   2.01174850e+03]\n",
      "[ -1.71395003e-02   3.46641902e+01]\n",
      "[ -4.54545455e-02   9.24090909e+01]\n",
      "[ -1.67010630e+00   3.40414356e+03]\n",
      "[ -7.01492706e+00   1.41794148e+04]\n",
      "[ -1.83217517e+01   3.69759029e+04]\n",
      "[ -7.61753364e+01   1.54090978e+05]\n",
      "[ -1.31168831e-01   3.81634199e+02]\n",
      "[ -1.18568359e-01   2.40885672e+02]\n",
      "[ -2.96638019e+01   6.06952941e+04]\n",
      "[ -3.25904670e+00   6.59278169e+03]\n",
      "[ -3.16634626e-02   6.44859211e+01]\n",
      "[ -9.09090909e-01   1.83345455e+03]\n",
      "[ -1.45360737e+00   2.96223357e+03]\n",
      "[ -1.46627276e+01   2.96392794e+04]\n",
      "[ -2.13640450e+01   4.30957448e+04]\n",
      "[ -6.56905745e+01   1.33430318e+05]\n",
      "[ -4.17272727e+00   8.49016234e+03]\n",
      "[ -4.36220740e-02   9.68864073e+01]\n",
      "[  1.68557051e+01  -3.35306570e+04]\n",
      "[  5.70608542e-02  -1.10729869e+02]\n",
      "[  9.16422287e-04  -1.80205279e+00]\n",
      "[ -1.72727273e-01   3.47990909e+02]\n",
      "[  4.84507520e-01  -9.65630103e+02]\n",
      "[  4.94063101e-01  -9.81971390e+02]\n",
      "[  7.14491688e-01  -1.39811936e+03]\n",
      "[  1.80642599e+01  -3.59107478e+04]\n",
      "[ -4.41558442e-02   9.12337662e+01]\n",
      "[  1.41487491e-01  -2.82048675e+02]\n",
      "[ -1.96530024e+01   3.97722516e+04]\n",
      "[ 0.00879227 -3.25189415]\n",
      "[ -2.93338020e-02   5.89712227e+01]\n",
      "[ -9.09090909e-02   1.83545455e+02]\n",
      "[ -7.33913830e-02   1.53372724e+02]\n",
      "[ -3.10655321e+00   6.26358968e+03]\n",
      "[ -6.83823363e+00   1.37909442e+04]\n",
      "[ -2.95977892e+01   5.98267855e+04]\n",
      "[ -2.23376623e-01   4.68112554e+02]\n",
      "[  3.03347280e-02  -5.94414226e+01]\n",
      "[ -3.45063892e+00   7.34621927e+03]\n",
      "[ -1.14411211e+00   2.31208429e+03]\n",
      "[ -7.20548802e-03   1.47606561e+01]\n",
      "[ -1.15151515e-01   2.33012121e+02]\n",
      "[ -2.55512835e-01   5.28812281e+02]\n",
      "[ -1.16544159e+00   2.39226394e+03]\n",
      "[  7.00243130e-01  -1.29745070e+03]\n",
      "[ -3.91583739e+00   8.44103251e+03]\n",
      "[ -1.57402597e+00   3.19284848e+03]\n",
      "[  4.45832862e-02  -8.51100871e+01]\n",
      "[  5.14376908e+01  -1.01893147e+05]\n",
      "[  5.46471786e+00  -1.08582014e+04]\n",
      "[  1.62416601e-01  -3.23354122e+02]\n",
      "[  1.09090909e-01  -2.18036364e+02]\n",
      "[  5.44798145e+00  -1.08361303e+04]\n",
      "[  1.73306005e+01  -3.44930503e+04]\n",
      "[  5.43398733e+00  -1.05984914e+04]\n",
      "[  7.42022786e+01  -1.46984689e+05]\n",
      "[  1.72077922e+00  -3.36885931e+03]\n",
      "[  6.30809680e-01  -1.25376371e+03]\n",
      "[  4.80346036e+00  -9.43820525e+03]\n",
      "[  7.52063779e-01  -1.49718614e+03]\n",
      "[  1.46627566e-03  -2.80828446e+00]\n",
      "[ -2.72727273e-02   5.49363636e+01]\n",
      "[  1.47122017e-01  -2.92118512e+02]\n",
      "[ -1.94306231e-01   3.99422085e+02]\n",
      "[ -9.54342418e-01   1.95087521e+03]\n",
      "[  3.65481172e+00  -7.08790795e+03]\n",
      "[  6.36363636e-02  -1.23621212e+02]\n",
      "[  1.77999811e-01  -3.54664788e+02]\n",
      "[  4.38044216e+00  -8.58544289e+03]\n",
      "[  1.54500735e-01  -2.98982642e+02]\n",
      "[ -1.25721968e-03   2.57911771e+00]\n",
      "[ -4.00000000e-01   8.06490909e+02]\n",
      "[  1.74550430e-01  -3.46343726e+02]\n",
      "[  4.34722257e-01  -8.54517141e+02]\n",
      "[  0.03022164 -11.65040145]\n",
      "[  4.93149949e+00  -9.62308894e+03]\n",
      "[  2.80519481e-01  -5.47636364e+02]\n",
      "[  6.03987490e-02  -1.19511435e+02]\n",
      "[  2.57325653e+01  -5.10853060e+04]\n",
      "[ -5.42039466e-01   1.09156625e+03]\n",
      "[  3.33606461e-03  -6.34879433e+00]\n",
      "[ -4.95867769e-02   1.00123967e+02]\n",
      "[  8.47285207e-01  -1.68365731e+03]\n",
      "[  1.78998652e+00  -3.52476308e+03]\n",
      "[  2.07243535e+00  -4.08465933e+03]\n",
      "[  2.95949871e+01  -5.86947284e+04]\n",
      "[ -9.83429447e-01   1.97809920e+03]\n",
      "[  2.42925246e-02  -4.67327315e+01]\n",
      "[  8.67239625e-01  -1.17834117e+03]\n",
      "[  7.22548909e-01  -1.42772962e+03]\n",
      "[  3.10600086e-02  -6.14083081e+01]\n",
      "[ -1.36363636e-01   2.75681818e+02]\n",
      "[  3.20620830e-01  -6.21992706e+02]\n",
      "[  3.10754269e-01  -5.52726111e+02]\n",
      "[ -5.30936899e+00   1.07227861e+04]\n",
      "[ -4.13137510e+00   8.99171882e+03]\n",
      "[ -1.33896104e+00   2.70679870e+03]\n",
      "[ -1.17578876e-01   2.42214237e+02]\n",
      "[ -5.21463304e+00   1.06193581e+04]\n",
      "[ -2.36477573e-01   4.76204156e+02]\n",
      "[ -1.04676787e-02   2.10341577e+01]\n",
      "[ -1.81818182e-01   3.66545455e+02]\n",
      "[ -1.60974782e-01   3.24518602e+02]\n",
      "[ -6.77824268e-01   1.37438075e+03]\n",
      "[ -4.11333823e+00   8.28505094e+03]\n",
      "[ -1.00057955e+01   2.02787898e+04]\n",
      "[ -4.11688312e-01   8.31699134e+02]\n",
      "[ -7.48952063e-02   1.51655025e+02]\n",
      "Easton larceny\n",
      "Easton assault\n",
      "Easton murder\n",
      "[  2.39347256e-15   2.72727273e-01]\n",
      "Easton robbery\n",
      "Easton mv-theft\n",
      "Easton burglary\n",
      "Easton property\n",
      "Easton violent-crimes\n",
      "Easton rape\n",
      "Groton Long Point larceny\n",
      "Groton Long Point assault\n",
      "Groton Long Point murder\n",
      "[ 0.  0.]\n",
      "Groton Long Point robbery\n",
      "Groton Long Point mv-theft\n",
      "Groton Long Point burglary\n",
      "Groton Long Point property\n",
      "Groton Long Point violent-crimes\n",
      "Groton Long Point rape\n",
      "Groton Town larceny\n",
      "Groton Town assault\n",
      "Groton Town murder\n",
      "[  8.18181818e-02  -1.60809091e+02]\n",
      "Groton Town robbery\n",
      "Groton Town mv-theft\n",
      "Groton Town burglary\n",
      "Groton Town property\n",
      "Groton Town violent-crimes\n",
      "Groton Town rape\n",
      "Middlebury larceny\n",
      "Middlebury assault\n",
      "Middlebury murder\n",
      "[ 0.  0.]\n",
      "Middlebury robbery\n",
      "Middlebury mv-theft\n",
      "Middlebury burglary\n",
      "Middlebury property\n",
      "Middlebury violent-crimes\n",
      "Middlebury rape\n",
      "Portland larceny\n",
      "Portland assault\n",
      "Portland murder\n",
      "[ -6.06060606e-03   1.22909091e+01]\n",
      "Portland robbery\n",
      "Portland mv-theft\n",
      "Portland burglary\n",
      "Portland property\n",
      "Portland violent-crimes\n",
      "Portland rape\n",
      "Putnam larceny\n",
      "Putnam assault\n",
      "Putnam murder\n",
      "[ -3.00000000e-01   6.05936364e+02]\n",
      "Putnam robbery\n",
      "Putnam mv-theft\n",
      "Putnam burglary\n",
      "Putnam property\n",
      "Putnam violent-crimes\n",
      "Putnam rape\n",
      "Redding larceny\n",
      "Redding assault\n",
      "Redding murder\n",
      "[ -1.63636364e-01   3.29436364e+02]\n",
      "Redding robbery\n",
      "Redding mv-theft\n",
      "Redding burglary\n",
      "Redding property\n",
      "Redding violent-crimes\n",
      "Redding rape\n",
      "Thomaston larceny\n",
      "Thomaston assault\n",
      "Thomaston murder\n",
      "[ -1.25541126e-01   2.53413420e+02]\n",
      "Thomaston robbery\n",
      "Thomaston mv-theft\n",
      "Thomaston burglary\n",
      "Thomaston property\n",
      "Thomaston violent-crimes\n",
      "Thomaston rape\n",
      "Woodbridge larceny\n",
      "Woodbridge assault\n",
      "Woodbridge murder\n",
      "[ -6.30870892e-16   1.81818182e-01]\n",
      "Woodbridge robbery\n",
      "Woodbridge mv-theft\n",
      "Woodbridge burglary\n",
      "Woodbridge property\n",
      "Woodbridge violent-crimes\n",
      "Woodbridge rape\n",
      "Agency larceny\n",
      "Agency assault\n",
      "Agency murder\n",
      "Agency arson\n",
      "Agency robbery\n",
      "Agency mv-theft\n",
      "Agency burglary\n",
      "Agency property\n",
      "Agency violent-crimes\n",
      "[ -4.80476931e+01   9.77623632e+04]\n"
     ]
    },
    {
     "data": {
      "text/plain": [
       "<matplotlib.figure.Figure at 0x107880cd0>"
      ]
     },
     "metadata": {},
     "output_type": "display_data"
    },
    {
     "data": {
      "text/plain": [
       "<matplotlib.figure.Figure at 0x13295e090>"
      ]
     },
     "metadata": {},
     "output_type": "display_data"
    },
    {
     "data": {
      "text/plain": [
       "<matplotlib.figure.Figure at 0x125ebe750>"
      ]
     },
     "metadata": {},
     "output_type": "display_data"
    },
    {
     "data": {
      "text/plain": [
       "<matplotlib.figure.Figure at 0x107f2a810>"
      ]
     },
     "metadata": {},
     "output_type": "display_data"
    },
    {
     "data": {
      "text/plain": [
       "<matplotlib.figure.Figure at 0x12dc2dbd0>"
      ]
     },
     "metadata": {},
     "output_type": "display_data"
    },
    {
     "data": {
      "text/plain": [
       "<matplotlib.figure.Figure at 0x109f18f50>"
      ]
     },
     "metadata": {},
     "output_type": "display_data"
    },
    {
     "data": {
      "text/plain": [
       "<matplotlib.figure.Figure at 0x125f5de50>"
      ]
     },
     "metadata": {},
     "output_type": "display_data"
    },
    {
     "data": {
      "text/plain": [
       "<matplotlib.figure.Figure at 0x125dc7f10>"
      ]
     },
     "metadata": {},
     "output_type": "display_data"
    },
    {
     "data": {
      "text/plain": [
       "<matplotlib.figure.Figure at 0x125b9efd0>"
      ]
     },
     "metadata": {},
     "output_type": "display_data"
    },
    {
     "data": {
      "text/plain": [
       "<matplotlib.figure.Figure at 0x106401950>"
      ]
     },
     "metadata": {},
     "output_type": "display_data"
    },
    {
     "data": {
      "text/plain": [
       "<matplotlib.figure.Figure at 0x109e3bd10>"
      ]
     },
     "metadata": {},
     "output_type": "display_data"
    },
    {
     "data": {
      "text/plain": [
       "<matplotlib.figure.Figure at 0x10a561c10>"
      ]
     },
     "metadata": {},
     "output_type": "display_data"
    },
    {
     "data": {
      "text/plain": [
       "<matplotlib.figure.Figure at 0x10b2b5d90>"
      ]
     },
     "metadata": {},
     "output_type": "display_data"
    },
    {
     "data": {
      "text/plain": [
       "<matplotlib.figure.Figure at 0x10b8dd050>"
      ]
     },
     "metadata": {},
     "output_type": "display_data"
    },
    {
     "data": {
      "text/plain": [
       "<matplotlib.figure.Figure at 0x10f8e0a10>"
      ]
     },
     "metadata": {},
     "output_type": "display_data"
    },
    {
     "data": {
      "text/plain": [
       "<matplotlib.figure.Figure at 0x1105ee7d0>"
      ]
     },
     "metadata": {},
     "output_type": "display_data"
    },
    {
     "data": {
      "text/plain": [
       "<matplotlib.figure.Figure at 0x10c0eefd0>"
      ]
     },
     "metadata": {},
     "output_type": "display_data"
    },
    {
     "data": {
      "text/plain": [
       "<matplotlib.figure.Figure at 0x10c563250>"
      ]
     },
     "metadata": {},
     "output_type": "display_data"
    },
    {
     "data": {
      "text/plain": [
       "<matplotlib.figure.Figure at 0x10c8f7b90>"
      ]
     },
     "metadata": {},
     "output_type": "display_data"
    },
    {
     "data": {
      "text/plain": [
       "<matplotlib.figure.Figure at 0x10cb10410>"
      ]
     },
     "metadata": {},
     "output_type": "display_data"
    },
    {
     "data": {
      "text/plain": [
       "<matplotlib.figure.Figure at 0x10c773cd0>"
      ]
     },
     "metadata": {},
     "output_type": "display_data"
    },
    {
     "data": {
      "text/plain": [
       "<matplotlib.figure.Figure at 0x10d1954d0>"
      ]
     },
     "metadata": {},
     "output_type": "display_data"
    },
    {
     "data": {
      "text/plain": [
       "<matplotlib.figure.Figure at 0x10f73eb10>"
      ]
     },
     "metadata": {},
     "output_type": "display_data"
    },
    {
     "data": {
      "text/plain": [
       "<matplotlib.figure.Figure at 0x11012ec10>"
      ]
     },
     "metadata": {},
     "output_type": "display_data"
    },
    {
     "data": {
      "text/plain": [
       "<matplotlib.figure.Figure at 0x110d46710>"
      ]
     },
     "metadata": {},
     "output_type": "display_data"
    },
    {
     "data": {
      "text/plain": [
       "<matplotlib.figure.Figure at 0x111165b10>"
      ]
     },
     "metadata": {},
     "output_type": "display_data"
    },
    {
     "data": {
      "text/plain": [
       "<matplotlib.figure.Figure at 0x1117e7350>"
      ]
     },
     "metadata": {},
     "output_type": "display_data"
    },
    {
     "data": {
      "text/plain": [
       "<matplotlib.figure.Figure at 0x112189e90>"
      ]
     },
     "metadata": {},
     "output_type": "display_data"
    },
    {
     "data": {
      "text/plain": [
       "<matplotlib.figure.Figure at 0x113bfb810>"
      ]
     },
     "metadata": {},
     "output_type": "display_data"
    },
    {
     "data": {
      "text/plain": [
       "<matplotlib.figure.Figure at 0x118119ed0>"
      ]
     },
     "metadata": {},
     "output_type": "display_data"
    },
    {
     "data": {
      "text/plain": [
       "<matplotlib.figure.Figure at 0x117afb610>"
      ]
     },
     "metadata": {},
     "output_type": "display_data"
    },
    {
     "data": {
      "text/plain": [
       "<matplotlib.figure.Figure at 0x119ca9d90>"
      ]
     },
     "metadata": {},
     "output_type": "display_data"
    },
    {
     "data": {
      "text/plain": [
       "<matplotlib.figure.Figure at 0x1136f1a50>"
      ]
     },
     "metadata": {},
     "output_type": "display_data"
    },
    {
     "data": {
      "text/plain": [
       "<matplotlib.figure.Figure at 0x114660e10>"
      ]
     },
     "metadata": {},
     "output_type": "display_data"
    },
    {
     "data": {
      "text/plain": [
       "<matplotlib.figure.Figure at 0x114dcd1d0>"
      ]
     },
     "metadata": {},
     "output_type": "display_data"
    },
    {
     "data": {
      "text/plain": [
       "<matplotlib.figure.Figure at 0x1152a63d0>"
      ]
     },
     "metadata": {},
     "output_type": "display_data"
    },
    {
     "data": {
      "text/plain": [
       "<matplotlib.figure.Figure at 0x116050c90>"
      ]
     },
     "metadata": {},
     "output_type": "display_data"
    },
    {
     "data": {
      "text/plain": [
       "<matplotlib.figure.Figure at 0x115dbe290>"
      ]
     },
     "metadata": {},
     "output_type": "display_data"
    },
    {
     "data": {
      "text/plain": [
       "<matplotlib.figure.Figure at 0x11720e850>"
      ]
     },
     "metadata": {},
     "output_type": "display_data"
    },
    {
     "data": {
      "text/plain": [
       "<matplotlib.figure.Figure at 0x116a1d250>"
      ]
     },
     "metadata": {},
     "output_type": "display_data"
    },
    {
     "data": {
      "text/plain": [
       "<matplotlib.figure.Figure at 0x1191ff9d0>"
      ]
     },
     "metadata": {},
     "output_type": "display_data"
    },
    {
     "data": {
      "text/plain": [
       "<matplotlib.figure.Figure at 0x118b75810>"
      ]
     },
     "metadata": {},
     "output_type": "display_data"
    },
    {
     "data": {
      "text/plain": [
       "<matplotlib.figure.Figure at 0x119a75f10>"
      ]
     },
     "metadata": {},
     "output_type": "display_data"
    },
    {
     "data": {
      "text/plain": [
       "<matplotlib.figure.Figure at 0x11af7d490>"
      ]
     },
     "metadata": {},
     "output_type": "display_data"
    },
    {
     "data": {
      "text/plain": [
       "<matplotlib.figure.Figure at 0x119b00710>"
      ]
     },
     "metadata": {},
     "output_type": "display_data"
    },
    {
     "data": {
      "text/plain": [
       "<matplotlib.figure.Figure at 0x11d2fa790>"
      ]
     },
     "metadata": {},
     "output_type": "display_data"
    },
    {
     "data": {
      "text/plain": [
       "<matplotlib.figure.Figure at 0x11a5e2a50>"
      ]
     },
     "metadata": {},
     "output_type": "display_data"
    },
    {
     "data": {
      "text/plain": [
       "<matplotlib.figure.Figure at 0x11b7f6690>"
      ]
     },
     "metadata": {},
     "output_type": "display_data"
    },
    {
     "data": {
      "text/plain": [
       "<matplotlib.figure.Figure at 0x11be119d0>"
      ]
     },
     "metadata": {},
     "output_type": "display_data"
    },
    {
     "data": {
      "text/plain": [
       "<matplotlib.figure.Figure at 0x11cc25510>"
      ]
     },
     "metadata": {},
     "output_type": "display_data"
    },
    {
     "data": {
      "text/plain": [
       "<matplotlib.figure.Figure at 0x11dc5f590>"
      ]
     },
     "metadata": {},
     "output_type": "display_data"
    },
    {
     "data": {
      "text/plain": [
       "<matplotlib.figure.Figure at 0x11e12d590>"
      ]
     },
     "metadata": {},
     "output_type": "display_data"
    },
    {
     "data": {
      "text/plain": [
       "<matplotlib.figure.Figure at 0x11e5e2b90>"
      ]
     },
     "metadata": {},
     "output_type": "display_data"
    },
    {
     "data": {
      "text/plain": [
       "<matplotlib.figure.Figure at 0x11de6f8d0>"
      ]
     },
     "metadata": {},
     "output_type": "display_data"
    },
    {
     "data": {
      "text/plain": [
       "<matplotlib.figure.Figure at 0x11df18a50>"
      ]
     },
     "metadata": {},
     "output_type": "display_data"
    },
    {
     "data": {
      "text/plain": [
       "<matplotlib.figure.Figure at 0x10c577f50>"
      ]
     },
     "metadata": {},
     "output_type": "display_data"
    },
    {
     "data": {
      "text/plain": [
       "<matplotlib.figure.Figure at 0x10fdeb590>"
      ]
     },
     "metadata": {},
     "output_type": "display_data"
    },
    {
     "data": {
      "text/plain": [
       "<matplotlib.figure.Figure at 0x1146eb2d0>"
      ]
     },
     "metadata": {},
     "output_type": "display_data"
    },
    {
     "data": {
      "text/plain": [
       "<matplotlib.figure.Figure at 0x11401dfd0>"
      ]
     },
     "metadata": {},
     "output_type": "display_data"
    },
    {
     "data": {
      "text/plain": [
       "<matplotlib.figure.Figure at 0x11934e650>"
      ]
     },
     "metadata": {},
     "output_type": "display_data"
    },
    {
     "data": {
      "text/plain": [
       "<matplotlib.figure.Figure at 0x1105c7610>"
      ]
     },
     "metadata": {},
     "output_type": "display_data"
    },
    {
     "data": {
      "text/plain": [
       "<matplotlib.figure.Figure at 0x10ae17110>"
      ]
     },
     "metadata": {},
     "output_type": "display_data"
    },
    {
     "data": {
      "text/plain": [
       "<matplotlib.figure.Figure at 0x10b940190>"
      ]
     },
     "metadata": {},
     "output_type": "display_data"
    },
    {
     "data": {
      "text/plain": [
       "<matplotlib.figure.Figure at 0x10d4f3390>"
      ]
     },
     "metadata": {},
     "output_type": "display_data"
    },
    {
     "data": {
      "text/plain": [
       "<matplotlib.figure.Figure at 0x1123756d0>"
      ]
     },
     "metadata": {},
     "output_type": "display_data"
    },
    {
     "data": {
      "text/plain": [
       "<matplotlib.figure.Figure at 0x10cafc650>"
      ]
     },
     "metadata": {},
     "output_type": "display_data"
    },
    {
     "data": {
      "text/plain": [
       "<matplotlib.figure.Figure at 0x111c070d0>"
      ]
     },
     "metadata": {},
     "output_type": "display_data"
    },
    {
     "data": {
      "text/plain": [
       "<matplotlib.figure.Figure at 0x111bf6210>"
      ]
     },
     "metadata": {},
     "output_type": "display_data"
    },
    {
     "data": {
      "text/plain": [
       "<matplotlib.figure.Figure at 0x115634690>"
      ]
     },
     "metadata": {},
     "output_type": "display_data"
    },
    {
     "data": {
      "text/plain": [
       "<matplotlib.figure.Figure at 0x114167c90>"
      ]
     },
     "metadata": {},
     "output_type": "display_data"
    },
    {
     "data": {
      "text/plain": [
       "<matplotlib.figure.Figure at 0x10eae85d0>"
      ]
     },
     "metadata": {},
     "output_type": "display_data"
    },
    {
     "data": {
      "text/plain": [
       "<matplotlib.figure.Figure at 0x1172be090>"
      ]
     },
     "metadata": {},
     "output_type": "display_data"
    },
    {
     "data": {
      "text/plain": [
       "<matplotlib.figure.Figure at 0x11b765090>"
      ]
     },
     "metadata": {},
     "output_type": "display_data"
    },
    {
     "data": {
      "text/plain": [
       "<matplotlib.figure.Figure at 0x1178c63d0>"
      ]
     },
     "metadata": {},
     "output_type": "display_data"
    },
    {
     "data": {
      "text/plain": [
       "<matplotlib.figure.Figure at 0x13407e110>"
      ]
     },
     "metadata": {},
     "output_type": "display_data"
    },
    {
     "data": {
      "text/plain": [
       "<matplotlib.figure.Figure at 0x109c54750>"
      ]
     },
     "metadata": {},
     "output_type": "display_data"
    },
    {
     "data": {
      "text/plain": [
       "<matplotlib.figure.Figure at 0x10a36a550>"
      ]
     },
     "metadata": {},
     "output_type": "display_data"
    },
    {
     "data": {
      "text/plain": [
       "<matplotlib.figure.Figure at 0x10d72f090>"
      ]
     },
     "metadata": {},
     "output_type": "display_data"
    },
    {
     "data": {
      "text/plain": [
       "<matplotlib.figure.Figure at 0x114213610>"
      ]
     },
     "metadata": {},
     "output_type": "display_data"
    },
    {
     "data": {
      "text/plain": [
       "<matplotlib.figure.Figure at 0x113448fd0>"
      ]
     },
     "metadata": {},
     "output_type": "display_data"
    },
    {
     "data": {
      "text/plain": [
       "<matplotlib.figure.Figure at 0x10d72f810>"
      ]
     },
     "metadata": {},
     "output_type": "display_data"
    },
    {
     "data": {
      "text/plain": [
       "<matplotlib.figure.Figure at 0x118f652d0>"
      ]
     },
     "metadata": {},
     "output_type": "display_data"
    },
    {
     "data": {
      "text/plain": [
       "<matplotlib.figure.Figure at 0x116f24450>"
      ]
     },
     "metadata": {},
     "output_type": "display_data"
    },
    {
     "data": {
      "text/plain": [
       "<matplotlib.figure.Figure at 0x11b312250>"
      ]
     },
     "metadata": {},
     "output_type": "display_data"
    },
    {
     "data": {
      "text/plain": [
       "<matplotlib.figure.Figure at 0x1162d0790>"
      ]
     },
     "metadata": {},
     "output_type": "display_data"
    },
    {
     "data": {
      "text/plain": [
       "<matplotlib.figure.Figure at 0x11b9da5d0>"
      ]
     },
     "metadata": {},
     "output_type": "display_data"
    },
    {
     "data": {
      "text/plain": [
       "<matplotlib.figure.Figure at 0x10cf7d6d0>"
      ]
     },
     "metadata": {},
     "output_type": "display_data"
    },
    {
     "data": {
      "text/plain": [
       "<matplotlib.figure.Figure at 0x111d58190>"
      ]
     },
     "metadata": {},
     "output_type": "display_data"
    },
    {
     "data": {
      "text/plain": [
       "<matplotlib.figure.Figure at 0x115dbf5d0>"
      ]
     },
     "metadata": {},
     "output_type": "display_data"
    },
    {
     "data": {
      "text/plain": [
       "<matplotlib.figure.Figure at 0x11957a450>"
      ]
     },
     "metadata": {},
     "output_type": "display_data"
    },
    {
     "data": {
      "text/plain": [
       "<matplotlib.figure.Figure at 0x1155a9510>"
      ]
     },
     "metadata": {},
     "output_type": "display_data"
    },
    {
     "data": {
      "text/plain": [
       "<matplotlib.figure.Figure at 0x114bcf050>"
      ]
     },
     "metadata": {},
     "output_type": "display_data"
    },
    {
     "data": {
      "text/plain": [
       "<matplotlib.figure.Figure at 0x10ac74150>"
      ]
     },
     "metadata": {},
     "output_type": "display_data"
    },
    {
     "data": {
      "text/plain": [
       "<matplotlib.figure.Figure at 0x113deb810>"
      ]
     },
     "metadata": {},
     "output_type": "display_data"
    },
    {
     "data": {
      "text/plain": [
       "<matplotlib.figure.Figure at 0x114bf4950>"
      ]
     },
     "metadata": {},
     "output_type": "display_data"
    },
    {
     "data": {
      "text/plain": [
       "<matplotlib.figure.Figure at 0x10ea53410>"
      ]
     },
     "metadata": {},
     "output_type": "display_data"
    },
    {
     "data": {
      "text/plain": [
       "<matplotlib.figure.Figure at 0x11c55bc90>"
      ]
     },
     "metadata": {},
     "output_type": "display_data"
    },
    {
     "data": {
      "text/plain": [
       "<matplotlib.figure.Figure at 0x113df6990>"
      ]
     },
     "metadata": {},
     "output_type": "display_data"
    },
    {
     "data": {
      "text/plain": [
       "<matplotlib.figure.Figure at 0x1253525d0>"
      ]
     },
     "metadata": {},
     "output_type": "display_data"
    },
    {
     "data": {
      "text/plain": [
       "<matplotlib.figure.Figure at 0x125f94090>"
      ]
     },
     "metadata": {},
     "output_type": "display_data"
    },
    {
     "data": {
      "text/plain": [
       "<matplotlib.figure.Figure at 0x124039350>"
      ]
     },
     "metadata": {},
     "output_type": "display_data"
    },
    {
     "data": {
      "text/plain": [
       "<matplotlib.figure.Figure at 0x124061390>"
      ]
     },
     "metadata": {},
     "output_type": "display_data"
    },
    {
     "data": {
      "text/plain": [
       "<matplotlib.figure.Figure at 0x1239f7750>"
      ]
     },
     "metadata": {},
     "output_type": "display_data"
    },
    {
     "data": {
      "text/plain": [
       "<matplotlib.figure.Figure at 0x11e983210>"
      ]
     },
     "metadata": {},
     "output_type": "display_data"
    },
    {
     "data": {
      "text/plain": [
       "<matplotlib.figure.Figure at 0x11f36d1d0>"
      ]
     },
     "metadata": {},
     "output_type": "display_data"
    },
    {
     "data": {
      "text/plain": [
       "<matplotlib.figure.Figure at 0x11d430410>"
      ]
     },
     "metadata": {},
     "output_type": "display_data"
    },
    {
     "data": {
      "text/plain": [
       "<matplotlib.figure.Figure at 0x11e403750>"
      ]
     },
     "metadata": {},
     "output_type": "display_data"
    },
    {
     "data": {
      "text/plain": [
       "<matplotlib.figure.Figure at 0x112412450>"
      ]
     },
     "metadata": {},
     "output_type": "display_data"
    },
    {
     "data": {
      "text/plain": [
       "<matplotlib.figure.Figure at 0x10c980750>"
      ]
     },
     "metadata": {},
     "output_type": "display_data"
    },
    {
     "data": {
      "text/plain": [
       "<matplotlib.figure.Figure at 0x11620ec90>"
      ]
     },
     "metadata": {},
     "output_type": "display_data"
    },
    {
     "data": {
      "text/plain": [
       "<matplotlib.figure.Figure at 0x10b55a250>"
      ]
     },
     "metadata": {},
     "output_type": "display_data"
    },
    {
     "data": {
      "text/plain": [
       "<matplotlib.figure.Figure at 0x117176650>"
      ]
     },
     "metadata": {},
     "output_type": "display_data"
    },
    {
     "data": {
      "text/plain": [
       "<matplotlib.figure.Figure at 0x11a487750>"
      ]
     },
     "metadata": {},
     "output_type": "display_data"
    },
    {
     "data": {
      "text/plain": [
       "<matplotlib.figure.Figure at 0x11c72ca10>"
      ]
     },
     "metadata": {},
     "output_type": "display_data"
    },
    {
     "data": {
      "text/plain": [
       "<matplotlib.figure.Figure at 0x11bf7be50>"
      ]
     },
     "metadata": {},
     "output_type": "display_data"
    },
    {
     "data": {
      "text/plain": [
       "<matplotlib.figure.Figure at 0x1185407d0>"
      ]
     },
     "metadata": {},
     "output_type": "display_data"
    },
    {
     "data": {
      "text/plain": [
       "<matplotlib.figure.Figure at 0x1139af390>"
      ]
     },
     "metadata": {},
     "output_type": "display_data"
    },
    {
     "data": {
      "text/plain": [
       "<matplotlib.figure.Figure at 0x11d88f410>"
      ]
     },
     "metadata": {},
     "output_type": "display_data"
    },
    {
     "data": {
      "text/plain": [
       "<matplotlib.figure.Figure at 0x10ede2490>"
      ]
     },
     "metadata": {},
     "output_type": "display_data"
    },
    {
     "data": {
      "text/plain": [
       "<matplotlib.figure.Figure at 0x110ec4710>"
      ]
     },
     "metadata": {},
     "output_type": "display_data"
    },
    {
     "data": {
      "text/plain": [
       "<matplotlib.figure.Figure at 0x115077850>"
      ]
     },
     "metadata": {},
     "output_type": "display_data"
    },
    {
     "data": {
      "text/plain": [
       "<matplotlib.figure.Figure at 0x114646290>"
      ]
     },
     "metadata": {},
     "output_type": "display_data"
    },
    {
     "data": {
      "text/plain": [
       "<matplotlib.figure.Figure at 0x119046590>"
      ]
     },
     "metadata": {},
     "output_type": "display_data"
    },
    {
     "data": {
      "text/plain": [
       "<matplotlib.figure.Figure at 0x11b512110>"
      ]
     },
     "metadata": {},
     "output_type": "display_data"
    },
    {
     "data": {
      "text/plain": [
       "<matplotlib.figure.Figure at 0x117373650>"
      ]
     },
     "metadata": {},
     "output_type": "display_data"
    },
    {
     "data": {
      "text/plain": [
       "<matplotlib.figure.Figure at 0x1121571d0>"
      ]
     },
     "metadata": {},
     "output_type": "display_data"
    },
    {
     "data": {
      "text/plain": [
       "<matplotlib.figure.Figure at 0x11383d310>"
      ]
     },
     "metadata": {},
     "output_type": "display_data"
    },
    {
     "data": {
      "text/plain": [
       "<matplotlib.figure.Figure at 0x1140a2e90>"
      ]
     },
     "metadata": {},
     "output_type": "display_data"
    },
    {
     "data": {
      "text/plain": [
       "<matplotlib.figure.Figure at 0x110d43550>"
      ]
     },
     "metadata": {},
     "output_type": "display_data"
    },
    {
     "data": {
      "text/plain": [
       "<matplotlib.figure.Figure at 0x113c9c810>"
      ]
     },
     "metadata": {},
     "output_type": "display_data"
    },
    {
     "data": {
      "text/plain": [
       "<matplotlib.figure.Figure at 0x1131a7110>"
      ]
     },
     "metadata": {},
     "output_type": "display_data"
    },
    {
     "data": {
      "text/plain": [
       "<matplotlib.figure.Figure at 0x11632f1d0>"
      ]
     },
     "metadata": {},
     "output_type": "display_data"
    },
    {
     "data": {
      "text/plain": [
       "<matplotlib.figure.Figure at 0x10f3790d0>"
      ]
     },
     "metadata": {},
     "output_type": "display_data"
    },
    {
     "data": {
      "text/plain": [
       "<matplotlib.figure.Figure at 0x113c9c610>"
      ]
     },
     "metadata": {},
     "output_type": "display_data"
    },
    {
     "data": {
      "text/plain": [
       "<matplotlib.figure.Figure at 0x11c609a10>"
      ]
     },
     "metadata": {},
     "output_type": "display_data"
    },
    {
     "data": {
      "text/plain": [
       "<matplotlib.figure.Figure at 0x11b4766d0>"
      ]
     },
     "metadata": {},
     "output_type": "display_data"
    },
    {
     "data": {
      "text/plain": [
       "<matplotlib.figure.Figure at 0x117cdf090>"
      ]
     },
     "metadata": {},
     "output_type": "display_data"
    },
    {
     "data": {
      "text/plain": [
       "<matplotlib.figure.Figure at 0x1194c7250>"
      ]
     },
     "metadata": {},
     "output_type": "display_data"
    },
    {
     "data": {
      "text/plain": [
       "<matplotlib.figure.Figure at 0x1194b8210>"
      ]
     },
     "metadata": {},
     "output_type": "display_data"
    },
    {
     "data": {
      "text/plain": [
       "<matplotlib.figure.Figure at 0x110de69d0>"
      ]
     },
     "metadata": {},
     "output_type": "display_data"
    },
    {
     "data": {
      "text/plain": [
       "<matplotlib.figure.Figure at 0x131742690>"
      ]
     },
     "metadata": {},
     "output_type": "display_data"
    },
    {
     "data": {
      "text/plain": [
       "<matplotlib.figure.Figure at 0x118773190>"
      ]
     },
     "metadata": {},
     "output_type": "display_data"
    },
    {
     "data": {
      "text/plain": [
       "<matplotlib.figure.Figure at 0x12b20b490>"
      ]
     },
     "metadata": {},
     "output_type": "display_data"
    },
    {
     "data": {
      "text/plain": [
       "<matplotlib.figure.Figure at 0x12ea7b890>"
      ]
     },
     "metadata": {},
     "output_type": "display_data"
    },
    {
     "data": {
      "text/plain": [
       "<matplotlib.figure.Figure at 0x1093c1210>"
      ]
     },
     "metadata": {},
     "output_type": "display_data"
    },
    {
     "data": {
      "text/plain": [
       "<matplotlib.figure.Figure at 0x10c4c50d0>"
      ]
     },
     "metadata": {},
     "output_type": "display_data"
    },
    {
     "data": {
      "text/plain": [
       "<matplotlib.figure.Figure at 0x112d52110>"
      ]
     },
     "metadata": {},
     "output_type": "display_data"
    },
    {
     "data": {
      "text/plain": [
       "<matplotlib.figure.Figure at 0x11c35a4d0>"
      ]
     },
     "metadata": {},
     "output_type": "display_data"
    },
    {
     "data": {
      "text/plain": [
       "<matplotlib.figure.Figure at 0x10ccc7090>"
      ]
     },
     "metadata": {},
     "output_type": "display_data"
    },
    {
     "data": {
      "text/plain": [
       "<matplotlib.figure.Figure at 0x10b1e80d0>"
      ]
     },
     "metadata": {},
     "output_type": "display_data"
    },
    {
     "data": {
      "text/plain": [
       "<matplotlib.figure.Figure at 0x10a008410>"
      ]
     },
     "metadata": {},
     "output_type": "display_data"
    },
    {
     "data": {
      "text/plain": [
       "<matplotlib.figure.Figure at 0x10df5a710>"
      ]
     },
     "metadata": {},
     "output_type": "display_data"
    },
    {
     "data": {
      "text/plain": [
       "<matplotlib.figure.Figure at 0x10bf13450>"
      ]
     },
     "metadata": {},
     "output_type": "display_data"
    },
    {
     "data": {
      "text/plain": [
       "<matplotlib.figure.Figure at 0x132f5c4d0>"
      ]
     },
     "metadata": {},
     "output_type": "display_data"
    },
    {
     "data": {
      "text/plain": [
       "<matplotlib.figure.Figure at 0x11d7be110>"
      ]
     },
     "metadata": {},
     "output_type": "display_data"
    },
    {
     "data": {
      "text/plain": [
       "<matplotlib.figure.Figure at 0x11d7e2110>"
      ]
     },
     "metadata": {},
     "output_type": "display_data"
    },
    {
     "data": {
      "text/plain": [
       "<matplotlib.figure.Figure at 0x1262cf5d0>"
      ]
     },
     "metadata": {},
     "output_type": "display_data"
    },
    {
     "data": {
      "text/plain": [
       "<matplotlib.figure.Figure at 0x1257ee7d0>"
      ]
     },
     "metadata": {},
     "output_type": "display_data"
    },
    {
     "data": {
      "text/plain": [
       "<matplotlib.figure.Figure at 0x125ae9510>"
      ]
     },
     "metadata": {},
     "output_type": "display_data"
    },
    {
     "data": {
      "text/plain": [
       "<matplotlib.figure.Figure at 0x1252c2750>"
      ]
     },
     "metadata": {},
     "output_type": "display_data"
    },
    {
     "data": {
      "text/plain": [
       "<matplotlib.figure.Figure at 0x114442650>"
      ]
     },
     "metadata": {},
     "output_type": "display_data"
    },
    {
     "data": {
      "text/plain": [
       "<matplotlib.figure.Figure at 0x1257acd50>"
      ]
     },
     "metadata": {},
     "output_type": "display_data"
    },
    {
     "data": {
      "text/plain": [
       "<matplotlib.figure.Figure at 0x125e09fd0>"
      ]
     },
     "metadata": {},
     "output_type": "display_data"
    },
    {
     "data": {
      "text/plain": [
       "<matplotlib.figure.Figure at 0x11ee284d0>"
      ]
     },
     "metadata": {},
     "output_type": "display_data"
    },
    {
     "data": {
      "text/plain": [
       "<matplotlib.figure.Figure at 0x133cc1290>"
      ]
     },
     "metadata": {},
     "output_type": "display_data"
    },
    {
     "data": {
      "text/plain": [
       "<matplotlib.figure.Figure at 0x11dc5d750>"
      ]
     },
     "metadata": {},
     "output_type": "display_data"
    },
    {
     "data": {
      "text/plain": [
       "<matplotlib.figure.Figure at 0x11dc5d710>"
      ]
     },
     "metadata": {},
     "output_type": "display_data"
    },
    {
     "data": {
      "text/plain": [
       "<matplotlib.figure.Figure at 0x11b5b94d0>"
      ]
     },
     "metadata": {},
     "output_type": "display_data"
    },
    {
     "data": {
      "text/plain": [
       "<matplotlib.figure.Figure at 0x106b8f510>"
      ]
     },
     "metadata": {},
     "output_type": "display_data"
    },
    {
     "data": {
      "text/plain": [
       "<matplotlib.figure.Figure at 0x10b69b110>"
      ]
     },
     "metadata": {},
     "output_type": "display_data"
    },
    {
     "data": {
      "text/plain": [
       "<matplotlib.figure.Figure at 0x126c3d490>"
      ]
     },
     "metadata": {},
     "output_type": "display_data"
    },
    {
     "data": {
      "text/plain": [
       "<matplotlib.figure.Figure at 0x10f796050>"
      ]
     },
     "metadata": {},
     "output_type": "display_data"
    },
    {
     "data": {
      "text/plain": [
       "<matplotlib.figure.Figure at 0x13b43a350>"
      ]
     },
     "metadata": {},
     "output_type": "display_data"
    },
    {
     "data": {
      "text/plain": [
       "<matplotlib.figure.Figure at 0x108f762d0>"
      ]
     },
     "metadata": {},
     "output_type": "display_data"
    },
    {
     "data": {
      "text/plain": [
       "<matplotlib.figure.Figure at 0x10d3a0210>"
      ]
     },
     "metadata": {},
     "output_type": "display_data"
    },
    {
     "data": {
      "text/plain": [
       "<matplotlib.figure.Figure at 0x10d30e090>"
      ]
     },
     "metadata": {},
     "output_type": "display_data"
    },
    {
     "data": {
      "text/plain": [
       "<matplotlib.figure.Figure at 0x1110e9650>"
      ]
     },
     "metadata": {},
     "output_type": "display_data"
    },
    {
     "data": {
      "text/plain": [
       "<matplotlib.figure.Figure at 0x12fcb6290>"
      ]
     },
     "metadata": {},
     "output_type": "display_data"
    },
    {
     "data": {
      "text/plain": [
       "<matplotlib.figure.Figure at 0x109b32650>"
      ]
     },
     "metadata": {},
     "output_type": "display_data"
    },
    {
     "data": {
      "text/plain": [
       "<matplotlib.figure.Figure at 0x11d093990>"
      ]
     },
     "metadata": {},
     "output_type": "display_data"
    },
    {
     "data": {
      "text/plain": [
       "<matplotlib.figure.Figure at 0x133cc1cd0>"
      ]
     },
     "metadata": {},
     "output_type": "display_data"
    },
    {
     "data": {
      "text/plain": [
       "<matplotlib.figure.Figure at 0x12f8c9790>"
      ]
     },
     "metadata": {},
     "output_type": "display_data"
    },
    {
     "data": {
      "text/plain": [
       "<matplotlib.figure.Figure at 0x109973650>"
      ]
     },
     "metadata": {},
     "output_type": "display_data"
    },
    {
     "data": {
      "text/plain": [
       "<matplotlib.figure.Figure at 0x133c54610>"
      ]
     },
     "metadata": {},
     "output_type": "display_data"
    },
    {
     "data": {
      "text/plain": [
       "<matplotlib.figure.Figure at 0x12df7b110>"
      ]
     },
     "metadata": {},
     "output_type": "display_data"
    },
    {
     "data": {
      "text/plain": [
       "<matplotlib.figure.Figure at 0x10c6fe3d0>"
      ]
     },
     "metadata": {},
     "output_type": "display_data"
    },
    {
     "data": {
      "text/plain": [
       "<matplotlib.figure.Figure at 0x10e7c4610>"
      ]
     },
     "metadata": {},
     "output_type": "display_data"
    },
    {
     "data": {
      "text/plain": [
       "<matplotlib.figure.Figure at 0x108a70150>"
      ]
     },
     "metadata": {},
     "output_type": "display_data"
    },
    {
     "data": {
      "text/plain": [
       "<matplotlib.figure.Figure at 0x10b3fe890>"
      ]
     },
     "metadata": {},
     "output_type": "display_data"
    },
    {
     "data": {
      "text/plain": [
       "<matplotlib.figure.Figure at 0x11a3bb190>"
      ]
     },
     "metadata": {},
     "output_type": "display_data"
    },
    {
     "data": {
      "text/plain": [
       "<matplotlib.figure.Figure at 0x119cb92d0>"
      ]
     },
     "metadata": {},
     "output_type": "display_data"
    },
    {
     "data": {
      "text/plain": [
       "<matplotlib.figure.Figure at 0x1114480d0>"
      ]
     },
     "metadata": {},
     "output_type": "display_data"
    },
    {
     "data": {
      "text/plain": [
       "<matplotlib.figure.Figure at 0x112ee4050>"
      ]
     },
     "metadata": {},
     "output_type": "display_data"
    },
    {
     "data": {
      "text/plain": [
       "<matplotlib.figure.Figure at 0x1095c4310>"
      ]
     },
     "metadata": {},
     "output_type": "display_data"
    },
    {
     "data": {
      "text/plain": [
       "<matplotlib.figure.Figure at 0x10fe05410>"
      ]
     },
     "metadata": {},
     "output_type": "display_data"
    },
    {
     "data": {
      "text/plain": [
       "<matplotlib.figure.Figure at 0x1141a93d0>"
      ]
     },
     "metadata": {},
     "output_type": "display_data"
    },
    {
     "data": {
      "text/plain": [
       "<matplotlib.figure.Figure at 0x110ade250>"
      ]
     },
     "metadata": {},
     "output_type": "display_data"
    },
    {
     "data": {
      "text/plain": [
       "<matplotlib.figure.Figure at 0x112843a50>"
      ]
     },
     "metadata": {},
     "output_type": "display_data"
    },
    {
     "data": {
      "text/plain": [
       "<matplotlib.figure.Figure at 0x10b712450>"
      ]
     },
     "metadata": {},
     "output_type": "display_data"
    },
    {
     "data": {
      "text/plain": [
       "<matplotlib.figure.Figure at 0x10fba4450>"
      ]
     },
     "metadata": {},
     "output_type": "display_data"
    },
    {
     "data": {
      "text/plain": [
       "<matplotlib.figure.Figure at 0x10fbd5210>"
      ]
     },
     "metadata": {},
     "output_type": "display_data"
    },
    {
     "data": {
      "text/plain": [
       "<matplotlib.figure.Figure at 0x11162e250>"
      ]
     },
     "metadata": {},
     "output_type": "display_data"
    },
    {
     "data": {
      "text/plain": [
       "<matplotlib.figure.Figure at 0x11986c810>"
      ]
     },
     "metadata": {},
     "output_type": "display_data"
    },
    {
     "data": {
      "text/plain": [
       "<matplotlib.figure.Figure at 0x10ece71d0>"
      ]
     },
     "metadata": {},
     "output_type": "display_data"
    },
    {
     "data": {
      "text/plain": [
       "<matplotlib.figure.Figure at 0x1118814d0>"
      ]
     },
     "metadata": {},
     "output_type": "display_data"
    },
    {
     "data": {
      "text/plain": [
       "<matplotlib.figure.Figure at 0x114d01590>"
      ]
     },
     "metadata": {},
     "output_type": "display_data"
    },
    {
     "data": {
      "text/plain": [
       "<matplotlib.figure.Figure at 0x11cfbfe50>"
      ]
     },
     "metadata": {},
     "output_type": "display_data"
    },
    {
     "data": {
      "text/plain": [
       "<matplotlib.figure.Figure at 0x1160830d0>"
      ]
     },
     "metadata": {},
     "output_type": "display_data"
    },
    {
     "data": {
      "text/plain": [
       "<matplotlib.figure.Figure at 0x10d67f2d0>"
      ]
     },
     "metadata": {},
     "output_type": "display_data"
    },
    {
     "data": {
      "text/plain": [
       "<matplotlib.figure.Figure at 0x1144aa9d0>"
      ]
     },
     "metadata": {},
     "output_type": "display_data"
    },
    {
     "data": {
      "text/plain": [
       "<matplotlib.figure.Figure at 0x11aedd710>"
      ]
     },
     "metadata": {},
     "output_type": "display_data"
    },
    {
     "data": {
      "text/plain": [
       "<matplotlib.figure.Figure at 0x10f723f90>"
      ]
     },
     "metadata": {},
     "output_type": "display_data"
    },
    {
     "data": {
      "text/plain": [
       "<matplotlib.figure.Figure at 0x10a1760d0>"
      ]
     },
     "metadata": {},
     "output_type": "display_data"
    },
    {
     "data": {
      "text/plain": [
       "<matplotlib.figure.Figure at 0x10cf51150>"
      ]
     },
     "metadata": {},
     "output_type": "display_data"
    },
    {
     "data": {
      "text/plain": [
       "<matplotlib.figure.Figure at 0x10ba03bd0>"
      ]
     },
     "metadata": {},
     "output_type": "display_data"
    },
    {
     "data": {
      "text/plain": [
       "<matplotlib.figure.Figure at 0x11cb736d0>"
      ]
     },
     "metadata": {},
     "output_type": "display_data"
    },
    {
     "data": {
      "text/plain": [
       "<matplotlib.figure.Figure at 0x11de80310>"
      ]
     },
     "metadata": {},
     "output_type": "display_data"
    },
    {
     "data": {
      "text/plain": [
       "<matplotlib.figure.Figure at 0x133dd88d0>"
      ]
     },
     "metadata": {},
     "output_type": "display_data"
    },
    {
     "data": {
      "text/plain": [
       "<matplotlib.figure.Figure at 0x112de6550>"
      ]
     },
     "metadata": {},
     "output_type": "display_data"
    },
    {
     "data": {
      "text/plain": [
       "<matplotlib.figure.Figure at 0x10d7c60d0>"
      ]
     },
     "metadata": {},
     "output_type": "display_data"
    },
    {
     "data": {
      "text/plain": [
       "<matplotlib.figure.Figure at 0x111395650>"
      ]
     },
     "metadata": {},
     "output_type": "display_data"
    },
    {
     "data": {
      "text/plain": [
       "<matplotlib.figure.Figure at 0x112f056d0>"
      ]
     },
     "metadata": {},
     "output_type": "display_data"
    },
    {
     "data": {
      "text/plain": [
       "<matplotlib.figure.Figure at 0x113a5f190>"
      ]
     },
     "metadata": {},
     "output_type": "display_data"
    },
    {
     "data": {
      "text/plain": [
       "<matplotlib.figure.Figure at 0x116c246d0>"
      ]
     },
     "metadata": {},
     "output_type": "display_data"
    },
    {
     "data": {
      "text/plain": [
       "<matplotlib.figure.Figure at 0x111585090>"
      ]
     },
     "metadata": {},
     "output_type": "display_data"
    },
    {
     "data": {
      "text/plain": [
       "<matplotlib.figure.Figure at 0x1188ea6d0>"
      ]
     },
     "metadata": {},
     "output_type": "display_data"
    },
    {
     "data": {
      "text/plain": [
       "<matplotlib.figure.Figure at 0x10ca741d0>"
      ]
     },
     "metadata": {},
     "output_type": "display_data"
    },
    {
     "data": {
      "text/plain": [
       "<matplotlib.figure.Figure at 0x1090ee390>"
      ]
     },
     "metadata": {},
     "output_type": "display_data"
    },
    {
     "data": {
      "text/plain": [
       "<matplotlib.figure.Figure at 0x132c325d0>"
      ]
     },
     "metadata": {},
     "output_type": "display_data"
    },
    {
     "data": {
      "text/plain": [
       "<matplotlib.figure.Figure at 0x11c08d350>"
      ]
     },
     "metadata": {},
     "output_type": "display_data"
    },
    {
     "data": {
      "text/plain": [
       "<matplotlib.figure.Figure at 0x121d755d0>"
      ]
     },
     "metadata": {},
     "output_type": "display_data"
    },
    {
     "data": {
      "text/plain": [
       "<matplotlib.figure.Figure at 0x12541e1d0>"
      ]
     },
     "metadata": {},
     "output_type": "display_data"
    },
    {
     "data": {
      "text/plain": [
       "<matplotlib.figure.Figure at 0x1260c6810>"
      ]
     },
     "metadata": {},
     "output_type": "display_data"
    },
    {
     "data": {
      "text/plain": [
       "<matplotlib.figure.Figure at 0x1260c0110>"
      ]
     },
     "metadata": {},
     "output_type": "display_data"
    },
    {
     "data": {
      "text/plain": [
       "<matplotlib.figure.Figure at 0x124f62450>"
      ]
     },
     "metadata": {},
     "output_type": "display_data"
    },
    {
     "data": {
      "text/plain": [
       "<matplotlib.figure.Figure at 0x123f7b710>"
      ]
     },
     "metadata": {},
     "output_type": "display_data"
    },
    {
     "data": {
      "text/plain": [
       "<matplotlib.figure.Figure at 0x124a29050>"
      ]
     },
     "metadata": {},
     "output_type": "display_data"
    },
    {
     "data": {
      "text/plain": [
       "<matplotlib.figure.Figure at 0x124aca310>"
      ]
     },
     "metadata": {},
     "output_type": "display_data"
    },
    {
     "data": {
      "text/plain": [
       "<matplotlib.figure.Figure at 0x124219090>"
      ]
     },
     "metadata": {},
     "output_type": "display_data"
    },
    {
     "data": {
      "text/plain": [
       "<matplotlib.figure.Figure at 0x10799d0d0>"
      ]
     },
     "metadata": {},
     "output_type": "display_data"
    },
    {
     "data": {
      "text/plain": [
       "<matplotlib.figure.Figure at 0x124c675d0>"
      ]
     },
     "metadata": {},
     "output_type": "display_data"
    },
    {
     "data": {
      "text/plain": [
       "<matplotlib.figure.Figure at 0x11d362210>"
      ]
     },
     "metadata": {},
     "output_type": "display_data"
    },
    {
     "data": {
      "text/plain": [
       "<matplotlib.figure.Figure at 0x11f64b110>"
      ]
     },
     "metadata": {},
     "output_type": "display_data"
    },
    {
     "data": {
      "text/plain": [
       "<matplotlib.figure.Figure at 0x12f36f2d0>"
      ]
     },
     "metadata": {},
     "output_type": "display_data"
    },
    {
     "data": {
      "text/plain": [
       "<matplotlib.figure.Figure at 0x11d6f0090>"
      ]
     },
     "metadata": {},
     "output_type": "display_data"
    },
    {
     "data": {
      "text/plain": [
       "<matplotlib.figure.Figure at 0x11db4e510>"
      ]
     },
     "metadata": {},
     "output_type": "display_data"
    },
    {
     "data": {
      "text/plain": [
       "<matplotlib.figure.Figure at 0x13319a310>"
      ]
     },
     "metadata": {},
     "output_type": "display_data"
    },
    {
     "data": {
      "text/plain": [
       "<matplotlib.figure.Figure at 0x11def80d0>"
      ]
     },
     "metadata": {},
     "output_type": "display_data"
    },
    {
     "data": {
      "text/plain": [
       "<matplotlib.figure.Figure at 0x12f3614d0>"
      ]
     },
     "metadata": {},
     "output_type": "display_data"
    },
    {
     "data": {
      "text/plain": [
       "<matplotlib.figure.Figure at 0x12848b690>"
      ]
     },
     "metadata": {},
     "output_type": "display_data"
    },
    {
     "data": {
      "text/plain": [
       "<matplotlib.figure.Figure at 0x135cb4490>"
      ]
     },
     "metadata": {},
     "output_type": "display_data"
    },
    {
     "data": {
      "text/plain": [
       "<matplotlib.figure.Figure at 0x136975a50>"
      ]
     },
     "metadata": {},
     "output_type": "display_data"
    },
    {
     "data": {
      "text/plain": [
       "<matplotlib.figure.Figure at 0x1398e2890>"
      ]
     },
     "metadata": {},
     "output_type": "display_data"
    },
    {
     "data": {
      "text/plain": [
       "<matplotlib.figure.Figure at 0x11cb57650>"
      ]
     },
     "metadata": {},
     "output_type": "display_data"
    },
    {
     "data": {
      "text/plain": [
       "<matplotlib.figure.Figure at 0x11cc4d490>"
      ]
     },
     "metadata": {},
     "output_type": "display_data"
    },
    {
     "data": {
      "text/plain": [
       "<matplotlib.figure.Figure at 0x10864b150>"
      ]
     },
     "metadata": {},
     "output_type": "display_data"
    },
    {
     "data": {
      "text/plain": [
       "<matplotlib.figure.Figure at 0x11e7d8650>"
      ]
     },
     "metadata": {},
     "output_type": "display_data"
    },
    {
     "data": {
      "text/plain": [
       "<matplotlib.figure.Figure at 0x138788b90>"
      ]
     },
     "metadata": {},
     "output_type": "display_data"
    },
    {
     "data": {
      "text/plain": [
       "<matplotlib.figure.Figure at 0x1384fa750>"
      ]
     },
     "metadata": {},
     "output_type": "display_data"
    },
    {
     "data": {
      "text/plain": [
       "<matplotlib.figure.Figure at 0x13a0a8750>"
      ]
     },
     "metadata": {},
     "output_type": "display_data"
    },
    {
     "data": {
      "text/plain": [
       "<matplotlib.figure.Figure at 0x13a58e090>"
      ]
     },
     "metadata": {},
     "output_type": "display_data"
    },
    {
     "data": {
      "text/plain": [
       "<matplotlib.figure.Figure at 0x1374c2790>"
      ]
     },
     "metadata": {},
     "output_type": "display_data"
    },
    {
     "data": {
      "text/plain": [
       "<matplotlib.figure.Figure at 0x133c05a10>"
      ]
     },
     "metadata": {},
     "output_type": "display_data"
    },
    {
     "data": {
      "text/plain": [
       "<matplotlib.figure.Figure at 0x130d7e7d0>"
      ]
     },
     "metadata": {},
     "output_type": "display_data"
    },
    {
     "data": {
      "text/plain": [
       "<matplotlib.figure.Figure at 0x13a004310>"
      ]
     },
     "metadata": {},
     "output_type": "display_data"
    },
    {
     "data": {
      "text/plain": [
       "<matplotlib.figure.Figure at 0x12a1ef510>"
      ]
     },
     "metadata": {},
     "output_type": "display_data"
    },
    {
     "data": {
      "text/plain": [
       "<matplotlib.figure.Figure at 0x139e97a10>"
      ]
     },
     "metadata": {},
     "output_type": "display_data"
    },
    {
     "data": {
      "text/plain": [
       "<matplotlib.figure.Figure at 0x10e640dd0>"
      ]
     },
     "metadata": {},
     "output_type": "display_data"
    },
    {
     "data": {
      "text/plain": [
       "<matplotlib.figure.Figure at 0x1295f0f10>"
      ]
     },
     "metadata": {},
     "output_type": "display_data"
    },
    {
     "data": {
      "text/plain": [
       "<matplotlib.figure.Figure at 0x127544210>"
      ]
     },
     "metadata": {},
     "output_type": "display_data"
    },
    {
     "data": {
      "text/plain": [
       "<matplotlib.figure.Figure at 0x130601050>"
      ]
     },
     "metadata": {},
     "output_type": "display_data"
    },
    {
     "data": {
      "text/plain": [
       "<matplotlib.figure.Figure at 0x138e9be10>"
      ]
     },
     "metadata": {},
     "output_type": "display_data"
    },
    {
     "data": {
      "text/plain": [
       "<matplotlib.figure.Figure at 0x1297a0190>"
      ]
     },
     "metadata": {},
     "output_type": "display_data"
    },
    {
     "data": {
      "text/plain": [
       "<matplotlib.figure.Figure at 0x1328da610>"
      ]
     },
     "metadata": {},
     "output_type": "display_data"
    },
    {
     "data": {
      "text/plain": [
       "<matplotlib.figure.Figure at 0x13b267290>"
      ]
     },
     "metadata": {},
     "output_type": "display_data"
    },
    {
     "data": {
      "text/plain": [
       "<matplotlib.figure.Figure at 0x10d0fe5d0>"
      ]
     },
     "metadata": {},
     "output_type": "display_data"
    },
    {
     "data": {
      "text/plain": [
       "<matplotlib.figure.Figure at 0x1089e02d0>"
      ]
     },
     "metadata": {},
     "output_type": "display_data"
    },
    {
     "data": {
      "text/plain": [
       "<matplotlib.figure.Figure at 0x10b121bd0>"
      ]
     },
     "metadata": {},
     "output_type": "display_data"
    },
    {
     "data": {
      "text/plain": [
       "<matplotlib.figure.Figure at 0x1122d3710>"
      ]
     },
     "metadata": {},
     "output_type": "display_data"
    },
    {
     "data": {
      "text/plain": [
       "<matplotlib.figure.Figure at 0x1332c2650>"
      ]
     },
     "metadata": {},
     "output_type": "display_data"
    },
    {
     "data": {
      "text/plain": [
       "<matplotlib.figure.Figure at 0x119729750>"
      ]
     },
     "metadata": {},
     "output_type": "display_data"
    },
    {
     "data": {
      "text/plain": [
       "<matplotlib.figure.Figure at 0x10ff1fa10>"
      ]
     },
     "metadata": {},
     "output_type": "display_data"
    },
    {
     "data": {
      "text/plain": [
       "<matplotlib.figure.Figure at 0x11c312b50>"
      ]
     },
     "metadata": {},
     "output_type": "display_data"
    },
    {
     "data": {
      "text/plain": [
       "<matplotlib.figure.Figure at 0x10b313a10>"
      ]
     },
     "metadata": {},
     "output_type": "display_data"
    },
    {
     "data": {
      "text/plain": [
       "<matplotlib.figure.Figure at 0x13acae7d0>"
      ]
     },
     "metadata": {},
     "output_type": "display_data"
    },
    {
     "data": {
      "text/plain": [
       "<matplotlib.figure.Figure at 0x11c309510>"
      ]
     },
     "metadata": {},
     "output_type": "display_data"
    },
    {
     "data": {
      "text/plain": [
       "<matplotlib.figure.Figure at 0x13ab01d10>"
      ]
     },
     "metadata": {},
     "output_type": "display_data"
    },
    {
     "data": {
      "text/plain": [
       "<matplotlib.figure.Figure at 0x110004750>"
      ]
     },
     "metadata": {},
     "output_type": "display_data"
    },
    {
     "data": {
      "text/plain": [
       "<matplotlib.figure.Figure at 0x107489050>"
      ]
     },
     "metadata": {},
     "output_type": "display_data"
    },
    {
     "data": {
      "text/plain": [
       "<matplotlib.figure.Figure at 0x1085f7310>"
      ]
     },
     "metadata": {},
     "output_type": "display_data"
    },
    {
     "data": {
      "text/plain": [
       "<matplotlib.figure.Figure at 0x109673490>"
      ]
     },
     "metadata": {},
     "output_type": "display_data"
    },
    {
     "data": {
      "text/plain": [
       "<matplotlib.figure.Figure at 0x10d8de2d0>"
      ]
     },
     "metadata": {},
     "output_type": "display_data"
    },
    {
     "data": {
      "text/plain": [
       "<matplotlib.figure.Figure at 0x137d5f710>"
      ]
     },
     "metadata": {},
     "output_type": "display_data"
    },
    {
     "data": {
      "text/plain": [
       "<matplotlib.figure.Figure at 0x11841f790>"
      ]
     },
     "metadata": {},
     "output_type": "display_data"
    },
    {
     "data": {
      "text/plain": [
       "<matplotlib.figure.Figure at 0x1097c9410>"
      ]
     },
     "metadata": {},
     "output_type": "display_data"
    },
    {
     "data": {
      "text/plain": [
       "<matplotlib.figure.Figure at 0x11ae2a090>"
      ]
     },
     "metadata": {},
     "output_type": "display_data"
    },
    {
     "data": {
      "text/plain": [
       "<matplotlib.figure.Figure at 0x129338750>"
      ]
     },
     "metadata": {},
     "output_type": "display_data"
    },
    {
     "data": {
      "text/plain": [
       "<matplotlib.figure.Figure at 0x109bfe810>"
      ]
     },
     "metadata": {},
     "output_type": "display_data"
    },
    {
     "data": {
      "text/plain": [
       "<matplotlib.figure.Figure at 0x10d569110>"
      ]
     },
     "metadata": {},
     "output_type": "display_data"
    },
    {
     "data": {
      "text/plain": [
       "<matplotlib.figure.Figure at 0x10df8c3d0>"
      ]
     },
     "metadata": {},
     "output_type": "display_data"
    },
    {
     "data": {
      "text/plain": [
       "<matplotlib.figure.Figure at 0x10c649410>"
      ]
     },
     "metadata": {},
     "output_type": "display_data"
    },
    {
     "data": {
      "text/plain": [
       "<matplotlib.figure.Figure at 0x11a54d450>"
      ]
     },
     "metadata": {},
     "output_type": "display_data"
    },
    {
     "data": {
      "text/plain": [
       "<matplotlib.figure.Figure at 0x117880250>"
      ]
     },
     "metadata": {},
     "output_type": "display_data"
    },
    {
     "data": {
      "text/plain": [
       "<matplotlib.figure.Figure at 0x11563a790>"
      ]
     },
     "metadata": {},
     "output_type": "display_data"
    },
    {
     "data": {
      "text/plain": [
       "<matplotlib.figure.Figure at 0x1112ca2d0>"
      ]
     },
     "metadata": {},
     "output_type": "display_data"
    },
    {
     "data": {
      "text/plain": [
       "<matplotlib.figure.Figure at 0x1148cee10>"
      ]
     },
     "metadata": {},
     "output_type": "display_data"
    },
    {
     "data": {
      "text/plain": [
       "<matplotlib.figure.Figure at 0x11398e710>"
      ]
     },
     "metadata": {},
     "output_type": "display_data"
    },
    {
     "data": {
      "text/plain": [
       "<matplotlib.figure.Figure at 0x10edf0a50>"
      ]
     },
     "metadata": {},
     "output_type": "display_data"
    },
    {
     "data": {
      "text/plain": [
       "<matplotlib.figure.Figure at 0x10e82d290>"
      ]
     },
     "metadata": {},
     "output_type": "display_data"
    },
    {
     "data": {
      "text/plain": [
       "<matplotlib.figure.Figure at 0x10e82f290>"
      ]
     },
     "metadata": {},
     "output_type": "display_data"
    },
    {
     "data": {
      "text/plain": [
       "<matplotlib.figure.Figure at 0x10bba8750>"
      ]
     },
     "metadata": {},
     "output_type": "display_data"
    },
    {
     "data": {
      "text/plain": [
       "<matplotlib.figure.Figure at 0x109091650>"
      ]
     },
     "metadata": {},
     "output_type": "display_data"
    },
    {
     "data": {
      "text/plain": [
       "<matplotlib.figure.Figure at 0x1155558d0>"
      ]
     },
     "metadata": {},
     "output_type": "display_data"
    },
    {
     "data": {
      "text/plain": [
       "<matplotlib.figure.Figure at 0x109b794d0>"
      ]
     },
     "metadata": {},
     "output_type": "display_data"
    },
    {
     "data": {
      "text/plain": [
       "<matplotlib.figure.Figure at 0x12fa4b490>"
      ]
     },
     "metadata": {},
     "output_type": "display_data"
    },
    {
     "data": {
      "text/plain": [
       "<matplotlib.figure.Figure at 0x10c05e050>"
      ]
     },
     "metadata": {},
     "output_type": "display_data"
    },
    {
     "data": {
      "text/plain": [
       "<matplotlib.figure.Figure at 0x1169f3090>"
      ]
     },
     "metadata": {},
     "output_type": "display_data"
    },
    {
     "data": {
      "text/plain": [
       "<matplotlib.figure.Figure at 0x11a067310>"
      ]
     },
     "metadata": {},
     "output_type": "display_data"
    },
    {
     "data": {
      "text/plain": [
       "<matplotlib.figure.Figure at 0x109dcb110>"
      ]
     },
     "metadata": {},
     "output_type": "display_data"
    },
    {
     "data": {
      "text/plain": [
       "<matplotlib.figure.Figure at 0x1381963d0>"
      ]
     },
     "metadata": {},
     "output_type": "display_data"
    },
    {
     "data": {
      "text/plain": [
       "<matplotlib.figure.Figure at 0x12dec13d0>"
      ]
     },
     "metadata": {},
     "output_type": "display_data"
    },
    {
     "data": {
      "text/plain": [
       "<matplotlib.figure.Figure at 0x10f95b290>"
      ]
     },
     "metadata": {},
     "output_type": "display_data"
    },
    {
     "data": {
      "text/plain": [
       "<matplotlib.figure.Figure at 0x11d614dd0>"
      ]
     },
     "metadata": {},
     "output_type": "display_data"
    },
    {
     "data": {
      "text/plain": [
       "<matplotlib.figure.Figure at 0x114baf4d0>"
      ]
     },
     "metadata": {},
     "output_type": "display_data"
    },
    {
     "data": {
      "text/plain": [
       "<matplotlib.figure.Figure at 0x10b6e0990>"
      ]
     },
     "metadata": {},
     "output_type": "display_data"
    },
    {
     "data": {
      "text/plain": [
       "<matplotlib.figure.Figure at 0x10aa48550>"
      ]
     },
     "metadata": {},
     "output_type": "display_data"
    },
    {
     "data": {
      "text/plain": [
       "<matplotlib.figure.Figure at 0x1277c0750>"
      ]
     },
     "metadata": {},
     "output_type": "display_data"
    },
    {
     "data": {
      "text/plain": [
       "<matplotlib.figure.Figure at 0x10e737490>"
      ]
     },
     "metadata": {},
     "output_type": "display_data"
    },
    {
     "data": {
      "text/plain": [
       "<matplotlib.figure.Figure at 0x109901310>"
      ]
     },
     "metadata": {},
     "output_type": "display_data"
    },
    {
     "data": {
      "text/plain": [
       "<matplotlib.figure.Figure at 0x114a30dd0>"
      ]
     },
     "metadata": {},
     "output_type": "display_data"
    },
    {
     "data": {
      "text/plain": [
       "<matplotlib.figure.Figure at 0x112d22410>"
      ]
     },
     "metadata": {},
     "output_type": "display_data"
    },
    {
     "data": {
      "text/plain": [
       "<matplotlib.figure.Figure at 0x11ac88c90>"
      ]
     },
     "metadata": {},
     "output_type": "display_data"
    },
    {
     "data": {
      "text/plain": [
       "<matplotlib.figure.Figure at 0x10f3fb410>"
      ]
     },
     "metadata": {},
     "output_type": "display_data"
    },
    {
     "data": {
      "text/plain": [
       "<matplotlib.figure.Figure at 0x11095e890>"
      ]
     },
     "metadata": {},
     "output_type": "display_data"
    },
    {
     "data": {
      "text/plain": [
       "<matplotlib.figure.Figure at 0x10b9b8610>"
      ]
     },
     "metadata": {},
     "output_type": "display_data"
    },
    {
     "data": {
      "text/plain": [
       "<matplotlib.figure.Figure at 0x118631510>"
      ]
     },
     "metadata": {},
     "output_type": "display_data"
    },
    {
     "data": {
      "text/plain": [
       "<matplotlib.figure.Figure at 0x10aea05d0>"
      ]
     },
     "metadata": {},
     "output_type": "display_data"
    },
    {
     "data": {
      "text/plain": [
       "<matplotlib.figure.Figure at 0x122000350>"
      ]
     },
     "metadata": {},
     "output_type": "display_data"
    },
    {
     "data": {
      "text/plain": [
       "<matplotlib.figure.Figure at 0x13121b750>"
      ]
     },
     "metadata": {},
     "output_type": "display_data"
    },
    {
     "data": {
      "text/plain": [
       "<matplotlib.figure.Figure at 0x120bd6250>"
      ]
     },
     "metadata": {},
     "output_type": "display_data"
    },
    {
     "data": {
      "text/plain": [
       "<matplotlib.figure.Figure at 0x109a9c6d0>"
      ]
     },
     "metadata": {},
     "output_type": "display_data"
    },
    {
     "data": {
      "text/plain": [
       "<matplotlib.figure.Figure at 0x12789bd90>"
      ]
     },
     "metadata": {},
     "output_type": "display_data"
    },
    {
     "data": {
      "text/plain": [
       "<matplotlib.figure.Figure at 0x131aec250>"
      ]
     },
     "metadata": {},
     "output_type": "display_data"
    },
    {
     "data": {
      "text/plain": [
       "<matplotlib.figure.Figure at 0x1327cd7d0>"
      ]
     },
     "metadata": {},
     "output_type": "display_data"
    },
    {
     "data": {
      "text/plain": [
       "<matplotlib.figure.Figure at 0x11fc07790>"
      ]
     },
     "metadata": {},
     "output_type": "display_data"
    },
    {
     "data": {
      "text/plain": [
       "<matplotlib.figure.Figure at 0x1363da790>"
      ]
     },
     "metadata": {},
     "output_type": "display_data"
    },
    {
     "data": {
      "text/plain": [
       "<matplotlib.figure.Figure at 0x13845e8d0>"
      ]
     },
     "metadata": {},
     "output_type": "display_data"
    },
    {
     "data": {
      "text/plain": [
       "<matplotlib.figure.Figure at 0x1069be690>"
      ]
     },
     "metadata": {},
     "output_type": "display_data"
    },
    {
     "data": {
      "text/plain": [
       "<matplotlib.figure.Figure at 0x11e3b8190>"
      ]
     },
     "metadata": {},
     "output_type": "display_data"
    },
    {
     "data": {
      "text/plain": [
       "<matplotlib.figure.Figure at 0x118c09210>"
      ]
     },
     "metadata": {},
     "output_type": "display_data"
    },
    {
     "data": {
      "text/plain": [
       "<matplotlib.figure.Figure at 0x118c0b1d0>"
      ]
     },
     "metadata": {},
     "output_type": "display_data"
    },
    {
     "data": {
      "text/plain": [
       "<matplotlib.figure.Figure at 0x11771a390>"
      ]
     },
     "metadata": {},
     "output_type": "display_data"
    },
    {
     "data": {
      "text/plain": [
       "<matplotlib.figure.Figure at 0x1195fb650>"
      ]
     },
     "metadata": {},
     "output_type": "display_data"
    },
    {
     "data": {
      "text/plain": [
       "<matplotlib.figure.Figure at 0x124b06690>"
      ]
     },
     "metadata": {},
     "output_type": "display_data"
    },
    {
     "data": {
      "text/plain": [
       "<matplotlib.figure.Figure at 0x1248b7990>"
      ]
     },
     "metadata": {},
     "output_type": "display_data"
    },
    {
     "data": {
      "text/plain": [
       "<matplotlib.figure.Figure at 0x123d59490>"
      ]
     },
     "metadata": {},
     "output_type": "display_data"
    },
    {
     "data": {
      "text/plain": [
       "<matplotlib.figure.Figure at 0x124d11110>"
      ]
     },
     "metadata": {},
     "output_type": "display_data"
    },
    {
     "data": {
      "text/plain": [
       "<matplotlib.figure.Figure at 0x11ab36190>"
      ]
     },
     "metadata": {},
     "output_type": "display_data"
    },
    {
     "data": {
      "text/plain": [
       "<matplotlib.figure.Figure at 0x1250f6110>"
      ]
     },
     "metadata": {},
     "output_type": "display_data"
    },
    {
     "data": {
      "text/plain": [
       "<matplotlib.figure.Figure at 0x121399950>"
      ]
     },
     "metadata": {},
     "output_type": "display_data"
    },
    {
     "data": {
      "text/plain": [
       "<matplotlib.figure.Figure at 0x122787410>"
      ]
     },
     "metadata": {},
     "output_type": "display_data"
    },
    {
     "data": {
      "text/plain": [
       "<matplotlib.figure.Figure at 0x122f36650>"
      ]
     },
     "metadata": {},
     "output_type": "display_data"
    },
    {
     "data": {
      "text/plain": [
       "<matplotlib.figure.Figure at 0x117dfe510>"
      ]
     },
     "metadata": {},
     "output_type": "display_data"
    },
    {
     "data": {
      "text/plain": [
       "<matplotlib.figure.Figure at 0x124d3b610>"
      ]
     },
     "metadata": {},
     "output_type": "display_data"
    },
    {
     "data": {
      "text/plain": [
       "<matplotlib.figure.Figure at 0x123bc5350>"
      ]
     },
     "metadata": {},
     "output_type": "display_data"
    },
    {
     "data": {
      "text/plain": [
       "<matplotlib.figure.Figure at 0x11688c350>"
      ]
     },
     "metadata": {},
     "output_type": "display_data"
    },
    {
     "data": {
      "text/plain": [
       "<matplotlib.figure.Figure at 0x1228db390>"
      ]
     },
     "metadata": {},
     "output_type": "display_data"
    },
    {
     "data": {
      "text/plain": [
       "<matplotlib.figure.Figure at 0x1226fe990>"
      ]
     },
     "metadata": {},
     "output_type": "display_data"
    },
    {
     "data": {
      "text/plain": [
       "<matplotlib.figure.Figure at 0x1255af610>"
      ]
     },
     "metadata": {},
     "output_type": "display_data"
    },
    {
     "data": {
      "text/plain": [
       "<matplotlib.figure.Figure at 0x11f0dd590>"
      ]
     },
     "metadata": {},
     "output_type": "display_data"
    },
    {
     "data": {
      "text/plain": [
       "<matplotlib.figure.Figure at 0x1237ce790>"
      ]
     },
     "metadata": {},
     "output_type": "display_data"
    },
    {
     "data": {
      "text/plain": [
       "<matplotlib.figure.Figure at 0x1228d2d10>"
      ]
     },
     "metadata": {},
     "output_type": "display_data"
    },
    {
     "data": {
      "text/plain": [
       "<matplotlib.figure.Figure at 0x122fd0c50>"
      ]
     },
     "metadata": {},
     "output_type": "display_data"
    },
    {
     "data": {
      "text/plain": [
       "<matplotlib.figure.Figure at 0x12586b490>"
      ]
     },
     "metadata": {},
     "output_type": "display_data"
    },
    {
     "data": {
      "text/plain": [
       "<matplotlib.figure.Figure at 0x11e7be9d0>"
      ]
     },
     "metadata": {},
     "output_type": "display_data"
    },
    {
     "data": {
      "text/plain": [
       "<matplotlib.figure.Figure at 0x11e67b4d0>"
      ]
     },
     "metadata": {},
     "output_type": "display_data"
    },
    {
     "data": {
      "text/plain": [
       "<matplotlib.figure.Figure at 0x1206f7090>"
      ]
     },
     "metadata": {},
     "output_type": "display_data"
    },
    {
     "data": {
      "text/plain": [
       "<matplotlib.figure.Figure at 0x123d6a390>"
      ]
     },
     "metadata": {},
     "output_type": "display_data"
    },
    {
     "data": {
      "text/plain": [
       "<matplotlib.figure.Figure at 0x125b16090>"
      ]
     },
     "metadata": {},
     "output_type": "display_data"
    },
    {
     "data": {
      "text/plain": [
       "<matplotlib.figure.Figure at 0x1197387d0>"
      ]
     },
     "metadata": {},
     "output_type": "display_data"
    },
    {
     "data": {
      "text/plain": [
       "<matplotlib.figure.Figure at 0x1256143d0>"
      ]
     },
     "metadata": {},
     "output_type": "display_data"
    },
    {
     "data": {
      "text/plain": [
       "<matplotlib.figure.Figure at 0x125081310>"
      ]
     },
     "metadata": {},
     "output_type": "display_data"
    },
    {
     "data": {
      "text/plain": [
       "<matplotlib.figure.Figure at 0x122e3a2d0>"
      ]
     },
     "metadata": {},
     "output_type": "display_data"
    },
    {
     "data": {
      "text/plain": [
       "<matplotlib.figure.Figure at 0x124ec5d10>"
      ]
     },
     "metadata": {},
     "output_type": "display_data"
    },
    {
     "data": {
      "text/plain": [
       "<matplotlib.figure.Figure at 0x12c618290>"
      ]
     },
     "metadata": {},
     "output_type": "display_data"
    },
    {
     "data": {
      "text/plain": [
       "<matplotlib.figure.Figure at 0x12448b810>"
      ]
     },
     "metadata": {},
     "output_type": "display_data"
    },
    {
     "data": {
      "text/plain": [
       "<matplotlib.figure.Figure at 0x12a7a9750>"
      ]
     },
     "metadata": {},
     "output_type": "display_data"
    },
    {
     "data": {
      "text/plain": [
       "<matplotlib.figure.Figure at 0x11d652c50>"
      ]
     },
     "metadata": {},
     "output_type": "display_data"
    },
    {
     "data": {
      "text/plain": [
       "<matplotlib.figure.Figure at 0x133107310>"
      ]
     },
     "metadata": {},
     "output_type": "display_data"
    },
    {
     "data": {
      "text/plain": [
       "<matplotlib.figure.Figure at 0x135262490>"
      ]
     },
     "metadata": {},
     "output_type": "display_data"
    },
    {
     "data": {
      "text/plain": [
       "<matplotlib.figure.Figure at 0x1330623d0>"
      ]
     },
     "metadata": {},
     "output_type": "display_data"
    },
    {
     "data": {
      "text/plain": [
       "<matplotlib.figure.Figure at 0x134fa7410>"
      ]
     },
     "metadata": {},
     "output_type": "display_data"
    },
    {
     "data": {
      "text/plain": [
       "<matplotlib.figure.Figure at 0x137230990>"
      ]
     },
     "metadata": {},
     "output_type": "display_data"
    },
    {
     "data": {
      "text/plain": [
       "<matplotlib.figure.Figure at 0x138729310>"
      ]
     },
     "metadata": {},
     "output_type": "display_data"
    },
    {
     "data": {
      "text/plain": [
       "<matplotlib.figure.Figure at 0x139d6a2d0>"
      ]
     },
     "metadata": {},
     "output_type": "display_data"
    },
    {
     "data": {
      "text/plain": [
       "<matplotlib.figure.Figure at 0x138941b90>"
      ]
     },
     "metadata": {},
     "output_type": "display_data"
    },
    {
     "data": {
      "text/plain": [
       "<matplotlib.figure.Figure at 0x12e3be310>"
      ]
     },
     "metadata": {},
     "output_type": "display_data"
    },
    {
     "data": {
      "text/plain": [
       "<matplotlib.figure.Figure at 0x13a22a610>"
      ]
     },
     "metadata": {},
     "output_type": "display_data"
    },
    {
     "data": {
      "text/plain": [
       "<matplotlib.figure.Figure at 0x136ad46d0>"
      ]
     },
     "metadata": {},
     "output_type": "display_data"
    },
    {
     "data": {
      "text/plain": [
       "<matplotlib.figure.Figure at 0x13a6e5ad0>"
      ]
     },
     "metadata": {},
     "output_type": "display_data"
    },
    {
     "data": {
      "text/plain": [
       "<matplotlib.figure.Figure at 0x138fee790>"
      ]
     },
     "metadata": {},
     "output_type": "display_data"
    },
    {
     "data": {
      "text/plain": [
       "<matplotlib.figure.Figure at 0x1073026d0>"
      ]
     },
     "metadata": {},
     "output_type": "display_data"
    },
    {
     "data": {
      "text/plain": [
       "<matplotlib.figure.Figure at 0x13aa4e050>"
      ]
     },
     "metadata": {},
     "output_type": "display_data"
    },
    {
     "data": {
      "text/plain": [
       "<matplotlib.figure.Figure at 0x129dc0090>"
      ]
     },
     "metadata": {},
     "output_type": "display_data"
    },
    {
     "data": {
      "text/plain": [
       "<matplotlib.figure.Figure at 0x128f8b0d0>"
      ]
     },
     "metadata": {},
     "output_type": "display_data"
    },
    {
     "data": {
      "text/plain": [
       "<matplotlib.figure.Figure at 0x12ae70390>"
      ]
     },
     "metadata": {},
     "output_type": "display_data"
    },
    {
     "data": {
      "text/plain": [
       "<matplotlib.figure.Figure at 0x12e5075d0>"
      ]
     },
     "metadata": {},
     "output_type": "display_data"
    },
    {
     "data": {
      "text/plain": [
       "<matplotlib.figure.Figure at 0x12d4b2350>"
      ]
     },
     "metadata": {},
     "output_type": "display_data"
    },
    {
     "data": {
      "text/plain": [
       "<matplotlib.figure.Figure at 0x12a024410>"
      ]
     },
     "metadata": {},
     "output_type": "display_data"
    },
    {
     "data": {
      "text/plain": [
       "<matplotlib.figure.Figure at 0x135020310>"
      ]
     },
     "metadata": {},
     "output_type": "display_data"
    },
    {
     "data": {
      "text/plain": [
       "<matplotlib.figure.Figure at 0x139c3f490>"
      ]
     },
     "metadata": {},
     "output_type": "display_data"
    },
    {
     "data": {
      "text/plain": [
       "<matplotlib.figure.Figure at 0x138396750>"
      ]
     },
     "metadata": {},
     "output_type": "display_data"
    },
    {
     "data": {
      "text/plain": [
       "<matplotlib.figure.Figure at 0x1191fe350>"
      ]
     },
     "metadata": {},
     "output_type": "display_data"
    },
    {
     "data": {
      "text/plain": [
       "<matplotlib.figure.Figure at 0x129bf12d0>"
      ]
     },
     "metadata": {},
     "output_type": "display_data"
    },
    {
     "data": {
      "text/plain": [
       "<matplotlib.figure.Figure at 0x1182974d0>"
      ]
     },
     "metadata": {},
     "output_type": "display_data"
    },
    {
     "data": {
      "text/plain": [
       "<matplotlib.figure.Figure at 0x119323390>"
      ]
     },
     "metadata": {},
     "output_type": "display_data"
    },
    {
     "data": {
      "text/plain": [
       "<matplotlib.figure.Figure at 0x11ba9c290>"
      ]
     },
     "metadata": {},
     "output_type": "display_data"
    },
    {
     "data": {
      "text/plain": [
       "<matplotlib.figure.Figure at 0x10bde3bd0>"
      ]
     },
     "metadata": {},
     "output_type": "display_data"
    },
    {
     "data": {
      "text/plain": [
       "<matplotlib.figure.Figure at 0x1107f4890>"
      ]
     },
     "metadata": {},
     "output_type": "display_data"
    },
    {
     "data": {
      "text/plain": [
       "<matplotlib.figure.Figure at 0x110804150>"
      ]
     },
     "metadata": {},
     "output_type": "display_data"
    },
    {
     "data": {
      "text/plain": [
       "<matplotlib.figure.Figure at 0x11545b0d0>"
      ]
     },
     "metadata": {},
     "output_type": "display_data"
    },
    {
     "data": {
      "text/plain": [
       "<matplotlib.figure.Figure at 0x121b2b390>"
      ]
     },
     "metadata": {},
     "output_type": "display_data"
    },
    {
     "data": {
      "text/plain": [
       "<matplotlib.figure.Figure at 0x13a774850>"
      ]
     },
     "metadata": {},
     "output_type": "display_data"
    },
    {
     "data": {
      "text/plain": [
       "<matplotlib.figure.Figure at 0x10e105210>"
      ]
     },
     "metadata": {},
     "output_type": "display_data"
    },
    {
     "data": {
      "text/plain": [
       "<matplotlib.figure.Figure at 0x11e1c9250>"
      ]
     },
     "metadata": {},
     "output_type": "display_data"
    },
    {
     "data": {
      "text/plain": [
       "<matplotlib.figure.Figure at 0x11d9ab750>"
      ]
     },
     "metadata": {},
     "output_type": "display_data"
    },
    {
     "data": {
      "text/plain": [
       "<matplotlib.figure.Figure at 0x11cf08250>"
      ]
     },
     "metadata": {},
     "output_type": "display_data"
    },
    {
     "data": {
      "text/plain": [
       "<matplotlib.figure.Figure at 0x131821390>"
      ]
     },
     "metadata": {},
     "output_type": "display_data"
    },
    {
     "data": {
      "text/plain": [
       "<matplotlib.figure.Figure at 0x11645c050>"
      ]
     },
     "metadata": {},
     "output_type": "display_data"
    },
    {
     "data": {
      "text/plain": [
       "<matplotlib.figure.Figure at 0x118bad350>"
      ]
     },
     "metadata": {},
     "output_type": "display_data"
    },
    {
     "data": {
      "text/plain": [
       "<matplotlib.figure.Figure at 0x1179bec50>"
      ]
     },
     "metadata": {},
     "output_type": "display_data"
    },
    {
     "data": {
      "text/plain": [
       "<matplotlib.figure.Figure at 0x1170fc090>"
      ]
     },
     "metadata": {},
     "output_type": "display_data"
    },
    {
     "data": {
      "text/plain": [
       "<matplotlib.figure.Figure at 0x10ea71510>"
      ]
     },
     "metadata": {},
     "output_type": "display_data"
    },
    {
     "data": {
      "text/plain": [
       "<matplotlib.figure.Figure at 0x11049a090>"
      ]
     },
     "metadata": {},
     "output_type": "display_data"
    },
    {
     "data": {
      "text/plain": [
       "<matplotlib.figure.Figure at 0x114d4c2d0>"
      ]
     },
     "metadata": {},
     "output_type": "display_data"
    },
    {
     "data": {
      "text/plain": [
       "<matplotlib.figure.Figure at 0x1107b8510>"
      ]
     },
     "metadata": {},
     "output_type": "display_data"
    },
    {
     "data": {
      "text/plain": [
       "<matplotlib.figure.Figure at 0x10feed550>"
      ]
     },
     "metadata": {},
     "output_type": "display_data"
    },
    {
     "data": {
      "text/plain": [
       "<matplotlib.figure.Figure at 0x11c390590>"
      ]
     },
     "metadata": {},
     "output_type": "display_data"
    },
    {
     "data": {
      "text/plain": [
       "<matplotlib.figure.Figure at 0x10dfbd1d0>"
      ]
     },
     "metadata": {},
     "output_type": "display_data"
    },
    {
     "data": {
      "text/plain": [
       "<matplotlib.figure.Figure at 0x10a5cb490>"
      ]
     },
     "metadata": {},
     "output_type": "display_data"
    },
    {
     "data": {
      "text/plain": [
       "<matplotlib.figure.Figure at 0x118a7c490>"
      ]
     },
     "metadata": {},
     "output_type": "display_data"
    },
    {
     "data": {
      "text/plain": [
       "<matplotlib.figure.Figure at 0x1371c45d0>"
      ]
     },
     "metadata": {},
     "output_type": "display_data"
    },
    {
     "data": {
      "text/plain": [
       "<matplotlib.figure.Figure at 0x1109d17d0>"
      ]
     },
     "metadata": {},
     "output_type": "display_data"
    },
    {
     "data": {
      "text/plain": [
       "<matplotlib.figure.Figure at 0x11125a990>"
      ]
     },
     "metadata": {},
     "output_type": "display_data"
    },
    {
     "data": {
      "text/plain": [
       "<matplotlib.figure.Figure at 0x130a5a450>"
      ]
     },
     "metadata": {},
     "output_type": "display_data"
    },
    {
     "data": {
      "text/plain": [
       "<matplotlib.figure.Figure at 0x10c8c3210>"
      ]
     },
     "metadata": {},
     "output_type": "display_data"
    },
    {
     "data": {
      "text/plain": [
       "<matplotlib.figure.Figure at 0x119e55190>"
      ]
     },
     "metadata": {},
     "output_type": "display_data"
    },
    {
     "data": {
      "text/plain": [
       "<matplotlib.figure.Figure at 0x108953490>"
      ]
     },
     "metadata": {},
     "output_type": "display_data"
    },
    {
     "data": {
      "text/plain": [
       "<matplotlib.figure.Figure at 0x11125d8d0>"
      ]
     },
     "metadata": {},
     "output_type": "display_data"
    },
    {
     "data": {
      "text/plain": [
       "<matplotlib.figure.Figure at 0x12a0ad590>"
      ]
     },
     "metadata": {},
     "output_type": "display_data"
    },
    {
     "data": {
      "text/plain": [
       "<matplotlib.figure.Figure at 0x10ab62190>"
      ]
     },
     "metadata": {},
     "output_type": "display_data"
    },
    {
     "data": {
      "text/plain": [
       "<matplotlib.figure.Figure at 0x1139520d0>"
      ]
     },
     "metadata": {},
     "output_type": "display_data"
    },
    {
     "data": {
      "text/plain": [
       "<matplotlib.figure.Figure at 0x13aa21c90>"
      ]
     },
     "metadata": {},
     "output_type": "display_data"
    },
    {
     "data": {
      "text/plain": [
       "<matplotlib.figure.Figure at 0x13239c450>"
      ]
     },
     "metadata": {},
     "output_type": "display_data"
    },
    {
     "data": {
      "text/plain": [
       "<matplotlib.figure.Figure at 0x137075250>"
      ]
     },
     "metadata": {},
     "output_type": "display_data"
    },
    {
     "data": {
      "text/plain": [
       "<matplotlib.figure.Figure at 0x1370b1290>"
      ]
     },
     "metadata": {},
     "output_type": "display_data"
    },
    {
     "data": {
      "text/plain": [
       "<matplotlib.figure.Figure at 0x13238aa90>"
      ]
     },
     "metadata": {},
     "output_type": "display_data"
    },
    {
     "data": {
      "text/plain": [
       "<matplotlib.figure.Figure at 0x139f43550>"
      ]
     },
     "metadata": {},
     "output_type": "display_data"
    },
    {
     "data": {
      "text/plain": [
       "<matplotlib.figure.Figure at 0x13b300090>"
      ]
     },
     "metadata": {},
     "output_type": "display_data"
    },
    {
     "data": {
      "text/plain": [
       "<matplotlib.figure.Figure at 0x1312937d0>"
      ]
     },
     "metadata": {},
     "output_type": "display_data"
    },
    {
     "data": {
      "text/plain": [
       "<matplotlib.figure.Figure at 0x136936390>"
      ]
     },
     "metadata": {},
     "output_type": "display_data"
    },
    {
     "data": {
      "text/plain": [
       "<matplotlib.figure.Figure at 0x1360ccd50>"
      ]
     },
     "metadata": {},
     "output_type": "display_data"
    },
    {
     "data": {
      "text/plain": [
       "<matplotlib.figure.Figure at 0x137c98090>"
      ]
     },
     "metadata": {},
     "output_type": "display_data"
    },
    {
     "data": {
      "text/plain": [
       "<matplotlib.figure.Figure at 0x1396f3690>"
      ]
     },
     "metadata": {},
     "output_type": "display_data"
    },
    {
     "data": {
      "text/plain": [
       "<matplotlib.figure.Figure at 0x13b3ba510>"
      ]
     },
     "metadata": {},
     "output_type": "display_data"
    },
    {
     "data": {
      "text/plain": [
       "<matplotlib.figure.Figure at 0x133d7a110>"
      ]
     },
     "metadata": {},
     "output_type": "display_data"
    },
    {
     "data": {
      "text/plain": [
       "<matplotlib.figure.Figure at 0x123430110>"
      ]
     },
     "metadata": {},
     "output_type": "display_data"
    },
    {
     "data": {
      "text/plain": [
       "<matplotlib.figure.Figure at 0x123a3c910>"
      ]
     },
     "metadata": {},
     "output_type": "display_data"
    },
    {
     "data": {
      "text/plain": [
       "<matplotlib.figure.Figure at 0x10782a250>"
      ]
     },
     "metadata": {},
     "output_type": "display_data"
    },
    {
     "data": {
      "text/plain": [
       "<matplotlib.figure.Figure at 0x12bcef590>"
      ]
     },
     "metadata": {},
     "output_type": "display_data"
    },
    {
     "data": {
      "text/plain": [
       "<matplotlib.figure.Figure at 0x1324ee090>"
      ]
     },
     "metadata": {},
     "output_type": "display_data"
    },
    {
     "data": {
      "text/plain": [
       "<matplotlib.figure.Figure at 0x12ea4f150>"
      ]
     },
     "metadata": {},
     "output_type": "display_data"
    },
    {
     "data": {
      "text/plain": [
       "<matplotlib.figure.Figure at 0x1061dc450>"
      ]
     },
     "metadata": {},
     "output_type": "display_data"
    },
    {
     "data": {
      "text/plain": [
       "<matplotlib.figure.Figure at 0x12c96b690>"
      ]
     },
     "metadata": {},
     "output_type": "display_data"
    },
    {
     "data": {
      "text/plain": [
       "<matplotlib.figure.Figure at 0x10cfb7150>"
      ]
     },
     "metadata": {},
     "output_type": "display_data"
    },
    {
     "data": {
      "text/plain": [
       "<matplotlib.figure.Figure at 0x107b0f5d0>"
      ]
     },
     "metadata": {},
     "output_type": "display_data"
    },
    {
     "data": {
      "text/plain": [
       "<matplotlib.figure.Figure at 0x118dda7d0>"
      ]
     },
     "metadata": {},
     "output_type": "display_data"
    },
    {
     "data": {
      "text/plain": [
       "<matplotlib.figure.Figure at 0x118c9a7d0>"
      ]
     },
     "metadata": {},
     "output_type": "display_data"
    },
    {
     "data": {
      "text/plain": [
       "<matplotlib.figure.Figure at 0x118e50e10>"
      ]
     },
     "metadata": {},
     "output_type": "display_data"
    },
    {
     "data": {
      "text/plain": [
       "<matplotlib.figure.Figure at 0x11e2fd450>"
      ]
     },
     "metadata": {},
     "output_type": "display_data"
    },
    {
     "data": {
      "text/plain": [
       "<matplotlib.figure.Figure at 0x11cdfa650>"
      ]
     },
     "metadata": {},
     "output_type": "display_data"
    },
    {
     "data": {
      "text/plain": [
       "<matplotlib.figure.Figure at 0x126cc5550>"
      ]
     },
     "metadata": {},
     "output_type": "display_data"
    },
    {
     "data": {
      "text/plain": [
       "<matplotlib.figure.Figure at 0x10d352310>"
      ]
     },
     "metadata": {},
     "output_type": "display_data"
    },
    {
     "data": {
      "text/plain": [
       "<matplotlib.figure.Figure at 0x10fe498d0>"
      ]
     },
     "metadata": {},
     "output_type": "display_data"
    },
    {
     "data": {
      "text/plain": [
       "<matplotlib.figure.Figure at 0x1118ab490>"
      ]
     },
     "metadata": {},
     "output_type": "display_data"
    },
    {
     "data": {
      "text/plain": [
       "<matplotlib.figure.Figure at 0x115a7f490>"
      ]
     },
     "metadata": {},
     "output_type": "display_data"
    },
    {
     "data": {
      "text/plain": [
       "<matplotlib.figure.Figure at 0x11c432650>"
      ]
     },
     "metadata": {},
     "output_type": "display_data"
    },
    {
     "data": {
      "text/plain": [
       "<matplotlib.figure.Figure at 0x10fe1d050>"
      ]
     },
     "metadata": {},
     "output_type": "display_data"
    },
    {
     "data": {
      "text/plain": [
       "<matplotlib.figure.Figure at 0x1150d3650>"
      ]
     },
     "metadata": {},
     "output_type": "display_data"
    },
    {
     "data": {
      "text/plain": [
       "<matplotlib.figure.Figure at 0x11b8e2c50>"
      ]
     },
     "metadata": {},
     "output_type": "display_data"
    },
    {
     "data": {
      "text/plain": [
       "<matplotlib.figure.Figure at 0x114fae450>"
      ]
     },
     "metadata": {},
     "output_type": "display_data"
    },
    {
     "data": {
      "text/plain": [
       "<matplotlib.figure.Figure at 0x11790b410>"
      ]
     },
     "metadata": {},
     "output_type": "display_data"
    },
    {
     "data": {
      "text/plain": [
       "<matplotlib.figure.Figure at 0x114264550>"
      ]
     },
     "metadata": {},
     "output_type": "display_data"
    },
    {
     "data": {
      "text/plain": [
       "<matplotlib.figure.Figure at 0x112496190>"
      ]
     },
     "metadata": {},
     "output_type": "display_data"
    },
    {
     "data": {
      "text/plain": [
       "<matplotlib.figure.Figure at 0x10b676050>"
      ]
     },
     "metadata": {},
     "output_type": "display_data"
    },
    {
     "data": {
      "text/plain": [
       "<matplotlib.figure.Figure at 0x10c348050>"
      ]
     },
     "metadata": {},
     "output_type": "display_data"
    },
    {
     "data": {
      "text/plain": [
       "<matplotlib.figure.Figure at 0x10bc0d190>"
      ]
     },
     "metadata": {},
     "output_type": "display_data"
    },
    {
     "data": {
      "text/plain": [
       "<matplotlib.figure.Figure at 0x1081a11d0>"
      ]
     },
     "metadata": {},
     "output_type": "display_data"
    },
    {
     "data": {
      "text/plain": [
       "<matplotlib.figure.Figure at 0x109722c10>"
      ]
     },
     "metadata": {},
     "output_type": "display_data"
    },
    {
     "data": {
      "text/plain": [
       "<matplotlib.figure.Figure at 0x112497c50>"
      ]
     },
     "metadata": {},
     "output_type": "display_data"
    },
    {
     "data": {
      "text/plain": [
       "<matplotlib.figure.Figure at 0x107ecd7d0>"
      ]
     },
     "metadata": {},
     "output_type": "display_data"
    },
    {
     "data": {
      "text/plain": [
       "<matplotlib.figure.Figure at 0x122134150>"
      ]
     },
     "metadata": {},
     "output_type": "display_data"
    },
    {
     "data": {
      "text/plain": [
       "<matplotlib.figure.Figure at 0x123964410>"
      ]
     },
     "metadata": {},
     "output_type": "display_data"
    },
    {
     "data": {
      "text/plain": [
       "<matplotlib.figure.Figure at 0x1238886d0>"
      ]
     },
     "metadata": {},
     "output_type": "display_data"
    },
    {
     "data": {
      "text/plain": [
       "<matplotlib.figure.Figure at 0x120b39150>"
      ]
     },
     "metadata": {},
     "output_type": "display_data"
    },
    {
     "data": {
      "text/plain": [
       "<matplotlib.figure.Figure at 0x137991710>"
      ]
     },
     "metadata": {},
     "output_type": "display_data"
    },
    {
     "data": {
      "text/plain": [
       "<matplotlib.figure.Figure at 0x10e4ff250>"
      ]
     },
     "metadata": {},
     "output_type": "display_data"
    },
    {
     "data": {
      "text/plain": [
       "<matplotlib.figure.Figure at 0x11b808410>"
      ]
     },
     "metadata": {},
     "output_type": "display_data"
    },
    {
     "data": {
      "text/plain": [
       "<matplotlib.figure.Figure at 0x10deea090>"
      ]
     },
     "metadata": {},
     "output_type": "display_data"
    },
    {
     "data": {
      "text/plain": [
       "<matplotlib.figure.Figure at 0x10ca42c10>"
      ]
     },
     "metadata": {},
     "output_type": "display_data"
    },
    {
     "data": {
      "text/plain": [
       "<matplotlib.figure.Figure at 0x10e593410>"
      ]
     },
     "metadata": {},
     "output_type": "display_data"
    },
    {
     "data": {
      "text/plain": [
       "<matplotlib.figure.Figure at 0x10acd3190>"
      ]
     },
     "metadata": {},
     "output_type": "display_data"
    },
    {
     "data": {
      "text/plain": [
       "<matplotlib.figure.Figure at 0x11a3a4510>"
      ]
     },
     "metadata": {},
     "output_type": "display_data"
    },
    {
     "data": {
      "text/plain": [
       "<matplotlib.figure.Figure at 0x10f12e610>"
      ]
     },
     "metadata": {},
     "output_type": "display_data"
    },
    {
     "data": {
      "text/plain": [
       "<matplotlib.figure.Figure at 0x1171c1390>"
      ]
     },
     "metadata": {},
     "output_type": "display_data"
    },
    {
     "data": {
      "text/plain": [
       "<matplotlib.figure.Figure at 0x10c9cb450>"
      ]
     },
     "metadata": {},
     "output_type": "display_data"
    },
    {
     "data": {
      "text/plain": [
       "<matplotlib.figure.Figure at 0x114f36490>"
      ]
     },
     "metadata": {},
     "output_type": "display_data"
    },
    {
     "data": {
      "text/plain": [
       "<matplotlib.figure.Figure at 0x10e1fe6d0>"
      ]
     },
     "metadata": {},
     "output_type": "display_data"
    },
    {
     "data": {
      "text/plain": [
       "<matplotlib.figure.Figure at 0x13902f550>"
      ]
     },
     "metadata": {},
     "output_type": "display_data"
    },
    {
     "data": {
      "text/plain": [
       "<matplotlib.figure.Figure at 0x10b7ac6d0>"
      ]
     },
     "metadata": {},
     "output_type": "display_data"
    },
    {
     "data": {
      "text/plain": [
       "<matplotlib.figure.Figure at 0x10e368110>"
      ]
     },
     "metadata": {},
     "output_type": "display_data"
    },
    {
     "data": {
      "text/plain": [
       "<matplotlib.figure.Figure at 0x11a7c21d0>"
      ]
     },
     "metadata": {},
     "output_type": "display_data"
    },
    {
     "data": {
      "text/plain": [
       "<matplotlib.figure.Figure at 0x138d10650>"
      ]
     },
     "metadata": {},
     "output_type": "display_data"
    },
    {
     "data": {
      "text/plain": [
       "<matplotlib.figure.Figure at 0x127657110>"
      ]
     },
     "metadata": {},
     "output_type": "display_data"
    },
    {
     "data": {
      "text/plain": [
       "<matplotlib.figure.Figure at 0x10cb8d0d0>"
      ]
     },
     "metadata": {},
     "output_type": "display_data"
    },
    {
     "data": {
      "text/plain": [
       "<matplotlib.figure.Figure at 0x10a1fb810>"
      ]
     },
     "metadata": {},
     "output_type": "display_data"
    },
    {
     "data": {
      "text/plain": [
       "<matplotlib.figure.Figure at 0x12e492650>"
      ]
     },
     "metadata": {},
     "output_type": "display_data"
    },
    {
     "data": {
      "text/plain": [
       "<matplotlib.figure.Figure at 0x1160c5710>"
      ]
     },
     "metadata": {},
     "output_type": "display_data"
    },
    {
     "data": {
      "text/plain": [
       "<matplotlib.figure.Figure at 0x10f557710>"
      ]
     },
     "metadata": {},
     "output_type": "display_data"
    },
    {
     "data": {
      "text/plain": [
       "<matplotlib.figure.Figure at 0x139e17990>"
      ]
     },
     "metadata": {},
     "output_type": "display_data"
    },
    {
     "data": {
      "text/plain": [
       "<matplotlib.figure.Figure at 0x13b2c4550>"
      ]
     },
     "metadata": {},
     "output_type": "display_data"
    },
    {
     "data": {
      "text/plain": [
       "<matplotlib.figure.Figure at 0x12a44e990>"
      ]
     },
     "metadata": {},
     "output_type": "display_data"
    },
    {
     "data": {
      "text/plain": [
       "<matplotlib.figure.Figure at 0x128e75210>"
      ]
     },
     "metadata": {},
     "output_type": "display_data"
    },
    {
     "data": {
      "text/plain": [
       "<matplotlib.figure.Figure at 0x13a2fc9d0>"
      ]
     },
     "metadata": {},
     "output_type": "display_data"
    },
    {
     "data": {
      "text/plain": [
       "<matplotlib.figure.Figure at 0x113089390>"
      ]
     },
     "metadata": {},
     "output_type": "display_data"
    },
    {
     "data": {
      "text/plain": [
       "<matplotlib.figure.Figure at 0x12b2f2090>"
      ]
     },
     "metadata": {},
     "output_type": "display_data"
    },
    {
     "data": {
      "text/plain": [
       "<matplotlib.figure.Figure at 0x10e1d1350>"
      ]
     },
     "metadata": {},
     "output_type": "display_data"
    },
    {
     "data": {
      "text/plain": [
       "<matplotlib.figure.Figure at 0x117b6c390>"
      ]
     },
     "metadata": {},
     "output_type": "display_data"
    },
    {
     "data": {
      "text/plain": [
       "<matplotlib.figure.Figure at 0x1380c45d0>"
      ]
     },
     "metadata": {},
     "output_type": "display_data"
    },
    {
     "data": {
      "text/plain": [
       "<matplotlib.figure.Figure at 0x12fdac910>"
      ]
     },
     "metadata": {},
     "output_type": "display_data"
    },
    {
     "data": {
      "text/plain": [
       "<matplotlib.figure.Figure at 0x12e29e350>"
      ]
     },
     "metadata": {},
     "output_type": "display_data"
    },
    {
     "data": {
      "text/plain": [
       "<matplotlib.figure.Figure at 0x116d1d490>"
      ]
     },
     "metadata": {},
     "output_type": "display_data"
    },
    {
     "data": {
      "text/plain": [
       "<matplotlib.figure.Figure at 0x10ee5f510>"
      ]
     },
     "metadata": {},
     "output_type": "display_data"
    },
    {
     "data": {
      "text/plain": [
       "<matplotlib.figure.Figure at 0x10f367710>"
      ]
     },
     "metadata": {},
     "output_type": "display_data"
    },
    {
     "data": {
      "text/plain": [
       "<matplotlib.figure.Figure at 0x114926690>"
      ]
     },
     "metadata": {},
     "output_type": "display_data"
    },
    {
     "data": {
      "text/plain": [
       "<matplotlib.figure.Figure at 0x1149268d0>"
      ]
     },
     "metadata": {},
     "output_type": "display_data"
    },
    {
     "data": {
      "text/plain": [
       "<matplotlib.figure.Figure at 0x110c2fe10>"
      ]
     },
     "metadata": {},
     "output_type": "display_data"
    },
    {
     "data": {
      "text/plain": [
       "<matplotlib.figure.Figure at 0x1115181d0>"
      ]
     },
     "metadata": {},
     "output_type": "display_data"
    },
    {
     "data": {
      "text/plain": [
       "<matplotlib.figure.Figure at 0x112ce6150>"
      ]
     },
     "metadata": {},
     "output_type": "display_data"
    },
    {
     "data": {
      "text/plain": [
       "<matplotlib.figure.Figure at 0x12be966d0>"
      ]
     },
     "metadata": {},
     "output_type": "display_data"
    },
    {
     "data": {
      "text/plain": [
       "<matplotlib.figure.Figure at 0x10e373890>"
      ]
     },
     "metadata": {},
     "output_type": "display_data"
    },
    {
     "data": {
      "text/plain": [
       "<matplotlib.figure.Figure at 0x109141090>"
      ]
     },
     "metadata": {},
     "output_type": "display_data"
    },
    {
     "data": {
      "text/plain": [
       "<matplotlib.figure.Figure at 0x128390510>"
      ]
     },
     "metadata": {},
     "output_type": "display_data"
    },
    {
     "data": {
      "text/plain": [
       "<matplotlib.figure.Figure at 0x11a213050>"
      ]
     },
     "metadata": {},
     "output_type": "display_data"
    },
    {
     "data": {
      "text/plain": [
       "<matplotlib.figure.Figure at 0x13af6ed10>"
      ]
     },
     "metadata": {},
     "output_type": "display_data"
    },
    {
     "data": {
      "text/plain": [
       "<matplotlib.figure.Figure at 0x12822b690>"
      ]
     },
     "metadata": {},
     "output_type": "display_data"
    },
    {
     "data": {
      "text/plain": [
       "<matplotlib.figure.Figure at 0x13a65e6d0>"
      ]
     },
     "metadata": {},
     "output_type": "display_data"
    },
    {
     "data": {
      "text/plain": [
       "<matplotlib.figure.Figure at 0x134c58690>"
      ]
     },
     "metadata": {},
     "output_type": "display_data"
    },
    {
     "data": {
      "text/plain": [
       "<matplotlib.figure.Figure at 0x137fab790>"
      ]
     },
     "metadata": {},
     "output_type": "display_data"
    },
    {
     "data": {
      "text/plain": [
       "<matplotlib.figure.Figure at 0x136d81f90>"
      ]
     },
     "metadata": {},
     "output_type": "display_data"
    },
    {
     "data": {
      "text/plain": [
       "<matplotlib.figure.Figure at 0x139374150>"
      ]
     },
     "metadata": {},
     "output_type": "display_data"
    },
    {
     "data": {
      "text/plain": [
       "<matplotlib.figure.Figure at 0x11df87050>"
      ]
     },
     "metadata": {},
     "output_type": "display_data"
    },
    {
     "data": {
      "text/plain": [
       "<matplotlib.figure.Figure at 0x131f7a090>"
      ]
     },
     "metadata": {},
     "output_type": "display_data"
    },
    {
     "data": {
      "text/plain": [
       "<matplotlib.figure.Figure at 0x13b88e890>"
      ]
     },
     "metadata": {},
     "output_type": "display_data"
    },
    {
     "data": {
      "text/plain": [
       "<matplotlib.figure.Figure at 0x136556750>"
      ]
     },
     "metadata": {},
     "output_type": "display_data"
    },
    {
     "data": {
      "text/plain": [
       "<matplotlib.figure.Figure at 0x139af0890>"
      ]
     },
     "metadata": {},
     "output_type": "display_data"
    },
    {
     "data": {
      "text/plain": [
       "<matplotlib.figure.Figure at 0x1321d4390>"
      ]
     },
     "metadata": {},
     "output_type": "display_data"
    },
    {
     "data": {
      "text/plain": [
       "<matplotlib.figure.Figure at 0x1321d1e50>"
      ]
     },
     "metadata": {},
     "output_type": "display_data"
    },
    {
     "data": {
      "text/plain": [
       "<matplotlib.figure.Figure at 0x1365bca50>"
      ]
     },
     "metadata": {},
     "output_type": "display_data"
    },
    {
     "data": {
      "text/plain": [
       "<matplotlib.figure.Figure at 0x132378cd0>"
      ]
     },
     "metadata": {},
     "output_type": "display_data"
    },
    {
     "data": {
      "text/plain": [
       "<matplotlib.figure.Figure at 0x13962a790>"
      ]
     },
     "metadata": {},
     "output_type": "display_data"
    },
    {
     "data": {
      "text/plain": [
       "<matplotlib.figure.Figure at 0x1355a5110>"
      ]
     },
     "metadata": {},
     "output_type": "display_data"
    },
    {
     "data": {
      "text/plain": [
       "<matplotlib.figure.Figure at 0x11b7bc110>"
      ]
     },
     "metadata": {},
     "output_type": "display_data"
    },
    {
     "data": {
      "text/plain": [
       "<matplotlib.figure.Figure at 0x11cd2e510>"
      ]
     },
     "metadata": {},
     "output_type": "display_data"
    },
    {
     "data": {
      "text/plain": [
       "<matplotlib.figure.Figure at 0x1068bc390>"
      ]
     },
     "metadata": {},
     "output_type": "display_data"
    },
    {
     "data": {
      "text/plain": [
       "<matplotlib.figure.Figure at 0x106b085d0>"
      ]
     },
     "metadata": {},
     "output_type": "display_data"
    },
    {
     "data": {
      "text/plain": [
       "<matplotlib.figure.Figure at 0x107628090>"
      ]
     },
     "metadata": {},
     "output_type": "display_data"
    },
    {
     "data": {
      "text/plain": [
       "<matplotlib.figure.Figure at 0x107a8c4d0>"
      ]
     },
     "metadata": {},
     "output_type": "display_data"
    },
    {
     "data": {
      "text/plain": [
       "<matplotlib.figure.Figure at 0x10826a490>"
      ]
     },
     "metadata": {},
     "output_type": "display_data"
    },
    {
     "data": {
      "text/plain": [
       "<matplotlib.figure.Figure at 0x1083f5150>"
      ]
     },
     "metadata": {},
     "output_type": "display_data"
    },
    {
     "data": {
      "text/plain": [
       "<matplotlib.figure.Figure at 0x1086992d0>"
      ]
     },
     "metadata": {},
     "output_type": "display_data"
    },
    {
     "data": {
      "text/plain": [
       "<matplotlib.figure.Figure at 0x108995550>"
      ]
     },
     "metadata": {},
     "output_type": "display_data"
    },
    {
     "data": {
      "text/plain": [
       "<matplotlib.figure.Figure at 0x108bac890>"
      ]
     },
     "metadata": {},
     "output_type": "display_data"
    },
    {
     "data": {
      "text/plain": [
       "<matplotlib.figure.Figure at 0x108cb7250>"
      ]
     },
     "metadata": {},
     "output_type": "display_data"
    },
    {
     "data": {
      "text/plain": [
       "<matplotlib.figure.Figure at 0x108edc550>"
      ]
     },
     "metadata": {},
     "output_type": "display_data"
    },
    {
     "data": {
      "text/plain": [
       "<matplotlib.figure.Figure at 0x10924c610>"
      ]
     },
     "metadata": {},
     "output_type": "display_data"
    },
    {
     "data": {
      "text/plain": [
       "<matplotlib.figure.Figure at 0x1089a8d90>"
      ]
     },
     "metadata": {},
     "output_type": "display_data"
    },
    {
     "data": {
      "text/plain": [
       "<matplotlib.figure.Figure at 0x1096056d0>"
      ]
     },
     "metadata": {},
     "output_type": "display_data"
    },
    {
     "data": {
      "text/plain": [
       "<matplotlib.figure.Figure at 0x109a5e5d0>"
      ]
     },
     "metadata": {},
     "output_type": "display_data"
    },
    {
     "data": {
      "text/plain": [
       "<matplotlib.figure.Figure at 0x109cc2850>"
      ]
     },
     "metadata": {},
     "output_type": "display_data"
    },
    {
     "data": {
      "text/plain": [
       "<matplotlib.figure.Figure at 0x109e7c4d0>"
      ]
     },
     "metadata": {},
     "output_type": "display_data"
    },
    {
     "data": {
      "text/plain": [
       "<matplotlib.figure.Figure at 0x10a295b10>"
      ]
     },
     "metadata": {},
     "output_type": "display_data"
    },
    {
     "data": {
      "text/plain": [
       "<matplotlib.figure.Figure at 0x109ce9cd0>"
      ]
     },
     "metadata": {},
     "output_type": "display_data"
    },
    {
     "data": {
      "text/plain": [
       "<matplotlib.figure.Figure at 0x10a68b290>"
      ]
     },
     "metadata": {},
     "output_type": "display_data"
    },
    {
     "data": {
      "text/plain": [
       "<matplotlib.figure.Figure at 0x10a8be790>"
      ]
     },
     "metadata": {},
     "output_type": "display_data"
    },
    {
     "data": {
      "text/plain": [
       "<matplotlib.figure.Figure at 0x10ab43350>"
      ]
     },
     "metadata": {},
     "output_type": "display_data"
    },
    {
     "data": {
      "text/plain": [
       "<matplotlib.figure.Figure at 0x10ad81150>"
      ]
     },
     "metadata": {},
     "output_type": "display_data"
    },
    {
     "data": {
      "text/plain": [
       "<matplotlib.figure.Figure at 0x10af590d0>"
      ]
     },
     "metadata": {},
     "output_type": "display_data"
    },
    {
     "data": {
      "text/plain": [
       "<matplotlib.figure.Figure at 0x10b192190>"
      ]
     },
     "metadata": {},
     "output_type": "display_data"
    },
    {
     "data": {
      "text/plain": [
       "<matplotlib.figure.Figure at 0x10b34d390>"
      ]
     },
     "metadata": {},
     "output_type": "display_data"
    },
    {
     "data": {
      "text/plain": [
       "<matplotlib.figure.Figure at 0x10b5025d0>"
      ]
     },
     "metadata": {},
     "output_type": "display_data"
    },
    {
     "data": {
      "text/plain": [
       "<matplotlib.figure.Figure at 0x10b8ff350>"
      ]
     },
     "metadata": {},
     "output_type": "display_data"
    },
    {
     "data": {
      "text/plain": [
       "<matplotlib.figure.Figure at 0x10bb30610>"
      ]
     },
     "metadata": {},
     "output_type": "display_data"
    },
    {
     "data": {
      "text/plain": [
       "<matplotlib.figure.Figure at 0x10bceb0d0>"
      ]
     },
     "metadata": {},
     "output_type": "display_data"
    },
    {
     "data": {
      "text/plain": [
       "<matplotlib.figure.Figure at 0x10bf69310>"
      ]
     },
     "metadata": {},
     "output_type": "display_data"
    },
    {
     "data": {
      "text/plain": [
       "<matplotlib.figure.Figure at 0x10c279550>"
      ]
     },
     "metadata": {},
     "output_type": "display_data"
    },
    {
     "data": {
      "text/plain": [
       "<matplotlib.figure.Figure at 0x10c5d2590>"
      ]
     },
     "metadata": {},
     "output_type": "display_data"
    },
    {
     "data": {
      "text/plain": [
       "<matplotlib.figure.Figure at 0x10c85f250>"
      ]
     },
     "metadata": {},
     "output_type": "display_data"
    },
    {
     "data": {
      "text/plain": [
       "<matplotlib.figure.Figure at 0x10c002090>"
      ]
     },
     "metadata": {},
     "output_type": "display_data"
    },
    {
     "data": {
      "text/plain": [
       "<matplotlib.figure.Figure at 0x10ccf7490>"
      ]
     },
     "metadata": {},
     "output_type": "display_data"
    },
    {
     "data": {
      "text/plain": [
       "<matplotlib.figure.Figure at 0x10ce91690>"
      ]
     },
     "metadata": {},
     "output_type": "display_data"
    },
    {
     "data": {
      "text/plain": [
       "<matplotlib.figure.Figure at 0x10c897e10>"
      ]
     },
     "metadata": {},
     "output_type": "display_data"
    },
    {
     "data": {
      "text/plain": [
       "<matplotlib.figure.Figure at 0x10c92ebd0>"
      ]
     },
     "metadata": {},
     "output_type": "display_data"
    },
    {
     "data": {
      "text/plain": [
       "<matplotlib.figure.Figure at 0x10d584050>"
      ]
     },
     "metadata": {},
     "output_type": "display_data"
    },
    {
     "data": {
      "text/plain": [
       "<matplotlib.figure.Figure at 0x10d6e6490>"
      ]
     },
     "metadata": {},
     "output_type": "display_data"
    },
    {
     "data": {
      "text/plain": [
       "<matplotlib.figure.Figure at 0x10da33490>"
      ]
     },
     "metadata": {},
     "output_type": "display_data"
    },
    {
     "data": {
      "text/plain": [
       "<matplotlib.figure.Figure at 0x10dd6f110>"
      ]
     },
     "metadata": {},
     "output_type": "display_data"
    },
    {
     "data": {
      "text/plain": [
       "<matplotlib.figure.Figure at 0x10de84410>"
      ]
     },
     "metadata": {},
     "output_type": "display_data"
    },
    {
     "data": {
      "text/plain": [
       "<matplotlib.figure.Figure at 0x10e2a6310>"
      ]
     },
     "metadata": {},
     "output_type": "display_data"
    },
    {
     "data": {
      "text/plain": [
       "<matplotlib.figure.Figure at 0x10e683810>"
      ]
     },
     "metadata": {},
     "output_type": "display_data"
    },
    {
     "data": {
      "text/plain": [
       "<matplotlib.figure.Figure at 0x10eac3290>"
      ]
     },
     "metadata": {},
     "output_type": "display_data"
    },
    {
     "data": {
      "text/plain": [
       "<matplotlib.figure.Figure at 0x10eb9a390>"
      ]
     },
     "metadata": {},
     "output_type": "display_data"
    },
    {
     "data": {
      "text/plain": [
       "<matplotlib.figure.Figure at 0x10eb39190>"
      ]
     },
     "metadata": {},
     "output_type": "display_data"
    },
    {
     "data": {
      "text/plain": [
       "<matplotlib.figure.Figure at 0x10f3c97d0>"
      ]
     },
     "metadata": {},
     "output_type": "display_data"
    },
    {
     "data": {
      "text/plain": [
       "<matplotlib.figure.Figure at 0x10f64a4d0>"
      ]
     },
     "metadata": {},
     "output_type": "display_data"
    },
    {
     "data": {
      "text/plain": [
       "<matplotlib.figure.Figure at 0x10f65d7d0>"
      ]
     },
     "metadata": {},
     "output_type": "display_data"
    },
    {
     "data": {
      "text/plain": [
       "<matplotlib.figure.Figure at 0x10fc30450>"
      ]
     },
     "metadata": {},
     "output_type": "display_data"
    },
    {
     "data": {
      "text/plain": [
       "<matplotlib.figure.Figure at 0x10fd03f50>"
      ]
     },
     "metadata": {},
     "output_type": "display_data"
    },
    {
     "data": {
      "text/plain": [
       "<matplotlib.figure.Figure at 0x10f706350>"
      ]
     },
     "metadata": {},
     "output_type": "display_data"
    },
    {
     "data": {
      "text/plain": [
       "<matplotlib.figure.Figure at 0x11036d690>"
      ]
     },
     "metadata": {},
     "output_type": "display_data"
    },
    {
     "data": {
      "text/plain": [
       "<matplotlib.figure.Figure at 0x11067e710>"
      ]
     },
     "metadata": {},
     "output_type": "display_data"
    },
    {
     "data": {
      "text/plain": [
       "<matplotlib.figure.Figure at 0x110a82610>"
      ]
     },
     "metadata": {},
     "output_type": "display_data"
    },
    {
     "data": {
      "text/plain": [
       "<matplotlib.figure.Figure at 0x110c62c50>"
      ]
     },
     "metadata": {},
     "output_type": "display_data"
    },
    {
     "data": {
      "text/plain": [
       "<matplotlib.figure.Figure at 0x110b2ebd0>"
      ]
     },
     "metadata": {},
     "output_type": "display_data"
    },
    {
     "data": {
      "text/plain": [
       "<matplotlib.figure.Figure at 0x110fa34d0>"
      ]
     },
     "metadata": {},
     "output_type": "display_data"
    },
    {
     "data": {
      "text/plain": [
       "<matplotlib.figure.Figure at 0x1111d5450>"
      ]
     },
     "metadata": {},
     "output_type": "display_data"
    },
    {
     "data": {
      "text/plain": [
       "<matplotlib.figure.Figure at 0x1115ee490>"
      ]
     },
     "metadata": {},
     "output_type": "display_data"
    },
    {
     "data": {
      "text/plain": [
       "<matplotlib.figure.Figure at 0x1118294d0>"
      ]
     },
     "metadata": {},
     "output_type": "display_data"
    },
    {
     "data": {
      "text/plain": [
       "<matplotlib.figure.Figure at 0x111989910>"
      ]
     },
     "metadata": {},
     "output_type": "display_data"
    },
    {
     "data": {
      "text/plain": [
       "<matplotlib.figure.Figure at 0x111c842d0>"
      ]
     },
     "metadata": {},
     "output_type": "display_data"
    },
    {
     "data": {
      "text/plain": [
       "<matplotlib.figure.Figure at 0x111ff83d0>"
      ]
     },
     "metadata": {},
     "output_type": "display_data"
    },
    {
     "data": {
      "text/plain": [
       "<matplotlib.figure.Figure at 0x112310310>"
      ]
     },
     "metadata": {},
     "output_type": "display_data"
    },
    {
     "data": {
      "text/plain": [
       "<matplotlib.figure.Figure at 0x1122fd310>"
      ]
     },
     "metadata": {},
     "output_type": "display_data"
    },
    {
     "data": {
      "text/plain": [
       "<matplotlib.figure.Figure at 0x11273e690>"
      ]
     },
     "metadata": {},
     "output_type": "display_data"
    },
    {
     "data": {
      "text/plain": [
       "<matplotlib.figure.Figure at 0x112819050>"
      ]
     },
     "metadata": {},
     "output_type": "display_data"
    },
    {
     "data": {
      "text/plain": [
       "<matplotlib.figure.Figure at 0x112c48610>"
      ]
     },
     "metadata": {},
     "output_type": "display_data"
    },
    {
     "data": {
      "text/plain": [
       "<matplotlib.figure.Figure at 0x112fb2210>"
      ]
     },
     "metadata": {},
     "output_type": "display_data"
    },
    {
     "data": {
      "text/plain": [
       "<matplotlib.figure.Figure at 0x113234410>"
      ]
     },
     "metadata": {},
     "output_type": "display_data"
    },
    {
     "data": {
      "text/plain": [
       "<matplotlib.figure.Figure at 0x1133d4810>"
      ]
     },
     "metadata": {},
     "output_type": "display_data"
    },
    {
     "data": {
      "text/plain": [
       "<matplotlib.figure.Figure at 0x1137d6450>"
      ]
     },
     "metadata": {},
     "output_type": "display_data"
    },
    {
     "data": {
      "text/plain": [
       "<matplotlib.figure.Figure at 0x113acd090>"
      ]
     },
     "metadata": {},
     "output_type": "display_data"
    },
    {
     "data": {
      "text/plain": [
       "<matplotlib.figure.Figure at 0x113e47350>"
      ]
     },
     "metadata": {},
     "output_type": "display_data"
    },
    {
     "data": {
      "text/plain": [
       "<matplotlib.figure.Figure at 0x1141b65d0>"
      ]
     },
     "metadata": {},
     "output_type": "display_data"
    },
    {
     "data": {
      "text/plain": [
       "<matplotlib.figure.Figure at 0x1145e0350>"
      ]
     },
     "metadata": {},
     "output_type": "display_data"
    },
    {
     "data": {
      "text/plain": [
       "<matplotlib.figure.Figure at 0x11481c590>"
      ]
     },
     "metadata": {},
     "output_type": "display_data"
    },
    {
     "data": {
      "text/plain": [
       "<matplotlib.figure.Figure at 0x114aaa190>"
      ]
     },
     "metadata": {},
     "output_type": "display_data"
    },
    {
     "data": {
      "text/plain": [
       "<matplotlib.figure.Figure at 0x114e146d0>"
      ]
     },
     "metadata": {},
     "output_type": "display_data"
    },
    {
     "data": {
      "text/plain": [
       "<matplotlib.figure.Figure at 0x1152cf450>"
      ]
     },
     "metadata": {},
     "output_type": "display_data"
    },
    {
     "data": {
      "text/plain": [
       "<matplotlib.figure.Figure at 0x1155e44d0>"
      ]
     },
     "metadata": {},
     "output_type": "display_data"
    },
    {
     "data": {
      "text/plain": [
       "<matplotlib.figure.Figure at 0x115859550>"
      ]
     },
     "metadata": {},
     "output_type": "display_data"
    },
    {
     "data": {
      "text/plain": [
       "<matplotlib.figure.Figure at 0x115b49410>"
      ]
     },
     "metadata": {},
     "output_type": "display_data"
    },
    {
     "data": {
      "text/plain": [
       "<matplotlib.figure.Figure at 0x115c863d0>"
      ]
     },
     "metadata": {},
     "output_type": "display_data"
    },
    {
     "data": {
      "text/plain": [
       "<matplotlib.figure.Figure at 0x115eb86d0>"
      ]
     },
     "metadata": {},
     "output_type": "display_data"
    },
    {
     "data": {
      "text/plain": [
       "<matplotlib.figure.Figure at 0x11600f410>"
      ]
     },
     "metadata": {},
     "output_type": "display_data"
    },
    {
     "data": {
      "text/plain": [
       "<matplotlib.figure.Figure at 0x1162efa50>"
      ]
     },
     "metadata": {},
     "output_type": "display_data"
    },
    {
     "data": {
      "text/plain": [
       "<matplotlib.figure.Figure at 0x11666c290>"
      ]
     },
     "metadata": {},
     "output_type": "display_data"
    },
    {
     "data": {
      "text/plain": [
       "<matplotlib.figure.Figure at 0x116ac0790>"
      ]
     },
     "metadata": {},
     "output_type": "display_data"
    },
    {
     "data": {
      "text/plain": [
       "<matplotlib.figure.Figure at 0x116bfe690>"
      ]
     },
     "metadata": {},
     "output_type": "display_data"
    },
    {
     "data": {
      "text/plain": [
       "<matplotlib.figure.Figure at 0x116d9dd90>"
      ]
     },
     "metadata": {},
     "output_type": "display_data"
    },
    {
     "data": {
      "text/plain": [
       "<matplotlib.figure.Figure at 0x11668f790>"
      ]
     },
     "metadata": {},
     "output_type": "display_data"
    },
    {
     "data": {
      "text/plain": [
       "<matplotlib.figure.Figure at 0x116fcc310>"
      ]
     },
     "metadata": {},
     "output_type": "display_data"
    },
    {
     "data": {
      "text/plain": [
       "<matplotlib.figure.Figure at 0x1172e25d0>"
      ]
     },
     "metadata": {},
     "output_type": "display_data"
    },
    {
     "data": {
      "text/plain": [
       "<matplotlib.figure.Figure at 0x117578490>"
      ]
     },
     "metadata": {},
     "output_type": "display_data"
    },
    {
     "data": {
      "text/plain": [
       "<matplotlib.figure.Figure at 0x1176734d0>"
      ]
     },
     "metadata": {},
     "output_type": "display_data"
    },
    {
     "data": {
      "text/plain": [
       "<matplotlib.figure.Figure at 0x117950750>"
      ]
     },
     "metadata": {},
     "output_type": "display_data"
    },
    {
     "data": {
      "text/plain": [
       "<matplotlib.figure.Figure at 0x117d19090>"
      ]
     },
     "metadata": {},
     "output_type": "display_data"
    },
    {
     "data": {
      "text/plain": [
       "<matplotlib.figure.Figure at 0x117e951d0>"
      ]
     },
     "metadata": {},
     "output_type": "display_data"
    },
    {
     "data": {
      "text/plain": [
       "<matplotlib.figure.Figure at 0x11817e610>"
      ]
     },
     "metadata": {},
     "output_type": "display_data"
    },
    {
     "data": {
      "text/plain": [
       "<matplotlib.figure.Figure at 0x11823a110>"
      ]
     },
     "metadata": {},
     "output_type": "display_data"
    },
    {
     "data": {
      "text/plain": [
       "<matplotlib.figure.Figure at 0x11844c390>"
      ]
     },
     "metadata": {},
     "output_type": "display_data"
    },
    {
     "data": {
      "text/plain": [
       "<matplotlib.figure.Figure at 0x118886310>"
      ]
     },
     "metadata": {},
     "output_type": "display_data"
    },
    {
     "data": {
      "text/plain": [
       "<matplotlib.figure.Figure at 0x1188bb050>"
      ]
     },
     "metadata": {},
     "output_type": "display_data"
    },
    {
     "data": {
      "text/plain": [
       "<matplotlib.figure.Figure at 0x118c4d210>"
      ]
     },
     "metadata": {},
     "output_type": "display_data"
    },
    {
     "data": {
      "text/plain": [
       "<matplotlib.figure.Figure at 0x118f229d0>"
      ]
     },
     "metadata": {},
     "output_type": "display_data"
    },
    {
     "data": {
      "text/plain": [
       "<matplotlib.figure.Figure at 0x118f17110>"
      ]
     },
     "metadata": {},
     "output_type": "display_data"
    },
    {
     "data": {
      "text/plain": [
       "<matplotlib.figure.Figure at 0x1194f58d0>"
      ]
     },
     "metadata": {},
     "output_type": "display_data"
    },
    {
     "data": {
      "text/plain": [
       "<matplotlib.figure.Figure at 0x119695410>"
      ]
     },
     "metadata": {},
     "output_type": "display_data"
    },
    {
     "data": {
      "text/plain": [
       "<matplotlib.figure.Figure at 0x1198eb8d0>"
      ]
     },
     "metadata": {},
     "output_type": "display_data"
    },
    {
     "data": {
      "text/plain": [
       "<matplotlib.figure.Figure at 0x119a430d0>"
      ]
     },
     "metadata": {},
     "output_type": "display_data"
    },
    {
     "data": {
      "text/plain": [
       "<matplotlib.figure.Figure at 0x1197c7bd0>"
      ]
     },
     "metadata": {},
     "output_type": "display_data"
    },
    {
     "data": {
      "text/plain": [
       "<matplotlib.figure.Figure at 0x119fdf2d0>"
      ]
     },
     "metadata": {},
     "output_type": "display_data"
    },
    {
     "data": {
      "text/plain": [
       "<matplotlib.figure.Figure at 0x11a15a3d0>"
      ]
     },
     "metadata": {},
     "output_type": "display_data"
    },
    {
     "data": {
      "text/plain": [
       "<matplotlib.figure.Figure at 0x11a339610>"
      ]
     },
     "metadata": {},
     "output_type": "display_data"
    },
    {
     "data": {
      "text/plain": [
       "<matplotlib.figure.Figure at 0x11a837290>"
      ]
     },
     "metadata": {},
     "output_type": "display_data"
    },
    {
     "data": {
      "text/plain": [
       "<matplotlib.figure.Figure at 0x11a96b550>"
      ]
     },
     "metadata": {},
     "output_type": "display_data"
    },
    {
     "data": {
      "text/plain": [
       "<matplotlib.figure.Figure at 0x11aae5610>"
      ]
     },
     "metadata": {},
     "output_type": "display_data"
    },
    {
     "data": {
      "text/plain": [
       "<matplotlib.figure.Figure at 0x11ad1a290>"
      ]
     },
     "metadata": {},
     "output_type": "display_data"
    },
    {
     "data": {
      "text/plain": [
       "<matplotlib.figure.Figure at 0x11afae9d0>"
      ]
     },
     "metadata": {},
     "output_type": "display_data"
    },
    {
     "data": {
      "text/plain": [
       "<matplotlib.figure.Figure at 0x11a819150>"
      ]
     },
     "metadata": {},
     "output_type": "display_data"
    },
    {
     "data": {
      "text/plain": [
       "<matplotlib.figure.Figure at 0x11b60d750>"
      ]
     },
     "metadata": {},
     "output_type": "display_data"
    },
    {
     "data": {
      "text/plain": [
       "<matplotlib.figure.Figure at 0x11ba53550>"
      ]
     },
     "metadata": {},
     "output_type": "display_data"
    },
    {
     "data": {
      "text/plain": [
       "<matplotlib.figure.Figure at 0x11bb22e10>"
      ]
     },
     "metadata": {},
     "output_type": "display_data"
    },
    {
     "data": {
      "text/plain": [
       "<matplotlib.figure.Figure at 0x11bdcc550>"
      ]
     },
     "metadata": {},
     "output_type": "display_data"
    },
    {
     "data": {
      "text/plain": [
       "<matplotlib.figure.Figure at 0x11beec0d0>"
      ]
     },
     "metadata": {},
     "output_type": "display_data"
    },
    {
     "data": {
      "text/plain": [
       "<matplotlib.figure.Figure at 0x11c203050>"
      ]
     },
     "metadata": {},
     "output_type": "display_data"
    },
    {
     "data": {
      "text/plain": [
       "<matplotlib.figure.Figure at 0x11c4a38d0>"
      ]
     },
     "metadata": {},
     "output_type": "display_data"
    },
    {
     "data": {
      "text/plain": [
       "<matplotlib.figure.Figure at 0x11c2af710>"
      ]
     },
     "metadata": {},
     "output_type": "display_data"
    },
    {
     "data": {
      "text/plain": [
       "<matplotlib.figure.Figure at 0x11c83e0d0>"
      ]
     },
     "metadata": {},
     "output_type": "display_data"
    },
    {
     "data": {
      "text/plain": [
       "<matplotlib.figure.Figure at 0x11c94b250>"
      ]
     },
     "metadata": {},
     "output_type": "display_data"
    },
    {
     "data": {
      "text/plain": [
       "<matplotlib.figure.Figure at 0x11c8f3290>"
      ]
     },
     "metadata": {},
     "output_type": "display_data"
    },
    {
     "data": {
      "text/plain": [
       "<matplotlib.figure.Figure at 0x11cf7e2d0>"
      ]
     },
     "metadata": {},
     "output_type": "display_data"
    },
    {
     "data": {
      "text/plain": [
       "<matplotlib.figure.Figure at 0x11d11f0d0>"
      ]
     },
     "metadata": {},
     "output_type": "display_data"
    },
    {
     "data": {
      "text/plain": [
       "<matplotlib.figure.Figure at 0x11d36b610>"
      ]
     },
     "metadata": {},
     "output_type": "display_data"
    },
    {
     "data": {
      "text/plain": [
       "<matplotlib.figure.Figure at 0x11d52f490>"
      ]
     },
     "metadata": {},
     "output_type": "display_data"
    },
    {
     "data": {
      "text/plain": [
       "<matplotlib.figure.Figure at 0x11d74f9d0>"
      ]
     },
     "metadata": {},
     "output_type": "display_data"
    },
    {
     "data": {
      "text/plain": [
       "<matplotlib.figure.Figure at 0x11d9ed410>"
      ]
     },
     "metadata": {},
     "output_type": "display_data"
    },
    {
     "data": {
      "text/plain": [
       "<matplotlib.figure.Figure at 0x11dbeb450>"
      ]
     },
     "metadata": {},
     "output_type": "display_data"
    },
    {
     "data": {
      "text/plain": [
       "<matplotlib.figure.Figure at 0x11dd806d0>"
      ]
     },
     "metadata": {},
     "output_type": "display_data"
    },
    {
     "data": {
      "text/plain": [
       "<matplotlib.figure.Figure at 0x11dc1cd90>"
      ]
     },
     "metadata": {},
     "output_type": "display_data"
    },
    {
     "data": {
      "text/plain": [
       "<matplotlib.figure.Figure at 0x11e20f610>"
      ]
     },
     "metadata": {},
     "output_type": "display_data"
    },
    {
     "data": {
      "text/plain": [
       "<matplotlib.figure.Figure at 0x11e428310>"
      ]
     },
     "metadata": {},
     "output_type": "display_data"
    },
    {
     "data": {
      "text/plain": [
       "<matplotlib.figure.Figure at 0x11e591990>"
      ]
     },
     "metadata": {},
     "output_type": "display_data"
    },
    {
     "data": {
      "text/plain": [
       "<matplotlib.figure.Figure at 0x11e85d290>"
      ]
     },
     "metadata": {},
     "output_type": "display_data"
    },
    {
     "data": {
      "text/plain": [
       "<matplotlib.figure.Figure at 0x11e84ee10>"
      ]
     },
     "metadata": {},
     "output_type": "display_data"
    },
    {
     "data": {
      "text/plain": [
       "<matplotlib.figure.Figure at 0x11ed18850>"
      ]
     },
     "metadata": {},
     "output_type": "display_data"
    },
    {
     "data": {
      "text/plain": [
       "<matplotlib.figure.Figure at 0x11f014410>"
      ]
     },
     "metadata": {},
     "output_type": "display_data"
    },
    {
     "data": {
      "text/plain": [
       "<matplotlib.figure.Figure at 0x11f4585d0>"
      ]
     },
     "metadata": {},
     "output_type": "display_data"
    },
    {
     "data": {
      "text/plain": [
       "<matplotlib.figure.Figure at 0x11f604450>"
      ]
     },
     "metadata": {},
     "output_type": "display_data"
    },
    {
     "data": {
      "text/plain": [
       "<matplotlib.figure.Figure at 0x11f01d3d0>"
      ]
     },
     "metadata": {},
     "output_type": "display_data"
    },
    {
     "data": {
      "text/plain": [
       "<matplotlib.figure.Figure at 0x11f477810>"
      ]
     },
     "metadata": {},
     "output_type": "display_data"
    },
    {
     "data": {
      "text/plain": [
       "<matplotlib.figure.Figure at 0x11fc92150>"
      ]
     },
     "metadata": {},
     "output_type": "display_data"
    },
    {
     "data": {
      "text/plain": [
       "<matplotlib.figure.Figure at 0x11fc7e450>"
      ]
     },
     "metadata": {},
     "output_type": "display_data"
    },
    {
     "data": {
      "text/plain": [
       "<matplotlib.figure.Figure at 0x11fef2310>"
      ]
     },
     "metadata": {},
     "output_type": "display_data"
    },
    {
     "data": {
      "text/plain": [
       "<matplotlib.figure.Figure at 0x11ffd10d0>"
      ]
     },
     "metadata": {},
     "output_type": "display_data"
    },
    {
     "data": {
      "text/plain": [
       "<matplotlib.figure.Figure at 0x11fd9ecd0>"
      ]
     },
     "metadata": {},
     "output_type": "display_data"
    },
    {
     "data": {
      "text/plain": [
       "<matplotlib.figure.Figure at 0x11fefa250>"
      ]
     },
     "metadata": {},
     "output_type": "display_data"
    },
    {
     "data": {
      "text/plain": [
       "<matplotlib.figure.Figure at 0x120234b50>"
      ]
     },
     "metadata": {},
     "output_type": "display_data"
    },
    {
     "data": {
      "text/plain": [
       "<matplotlib.figure.Figure at 0x120314190>"
      ]
     },
     "metadata": {},
     "output_type": "display_data"
    },
    {
     "data": {
      "text/plain": [
       "<matplotlib.figure.Figure at 0x1203d00d0>"
      ]
     },
     "metadata": {},
     "output_type": "display_data"
    },
    {
     "data": {
      "text/plain": [
       "<matplotlib.figure.Figure at 0x12055ca50>"
      ]
     },
     "metadata": {},
     "output_type": "display_data"
    },
    {
     "data": {
      "text/plain": [
       "<matplotlib.figure.Figure at 0x120619450>"
      ]
     },
     "metadata": {},
     "output_type": "display_data"
    },
    {
     "data": {
      "text/plain": [
       "<matplotlib.figure.Figure at 0x1206e9710>"
      ]
     },
     "metadata": {},
     "output_type": "display_data"
    },
    {
     "data": {
      "text/plain": [
       "<matplotlib.figure.Figure at 0x1207d4610>"
      ]
     },
     "metadata": {},
     "output_type": "display_data"
    },
    {
     "data": {
      "text/plain": [
       "<matplotlib.figure.Figure at 0x1208a8810>"
      ]
     },
     "metadata": {},
     "output_type": "display_data"
    },
    {
     "data": {
      "text/plain": [
       "<matplotlib.figure.Figure at 0x1209aa550>"
      ]
     },
     "metadata": {},
     "output_type": "display_data"
    },
    {
     "data": {
      "text/plain": [
       "<matplotlib.figure.Figure at 0x120a5e490>"
      ]
     },
     "metadata": {},
     "output_type": "display_data"
    },
    {
     "data": {
      "text/plain": [
       "<matplotlib.figure.Figure at 0x120b755d0>"
      ]
     },
     "metadata": {},
     "output_type": "display_data"
    },
    {
     "data": {
      "text/plain": [
       "<matplotlib.figure.Figure at 0x120ca3490>"
      ]
     },
     "metadata": {},
     "output_type": "display_data"
    },
    {
     "data": {
      "text/plain": [
       "<matplotlib.figure.Figure at 0x120d39890>"
      ]
     },
     "metadata": {},
     "output_type": "display_data"
    },
    {
     "data": {
      "text/plain": [
       "<matplotlib.figure.Figure at 0x120d30150>"
      ]
     },
     "metadata": {},
     "output_type": "display_data"
    },
    {
     "data": {
      "text/plain": [
       "<matplotlib.figure.Figure at 0x120ecc390>"
      ]
     },
     "metadata": {},
     "output_type": "display_data"
    },
    {
     "data": {
      "text/plain": [
       "<matplotlib.figure.Figure at 0x120f894d0>"
      ]
     },
     "metadata": {},
     "output_type": "display_data"
    },
    {
     "data": {
      "text/plain": [
       "<matplotlib.figure.Figure at 0x121016110>"
      ]
     },
     "metadata": {},
     "output_type": "display_data"
    },
    {
     "data": {
      "text/plain": [
       "<matplotlib.figure.Figure at 0x120dffd50>"
      ]
     },
     "metadata": {},
     "output_type": "display_data"
    },
    {
     "data": {
      "text/plain": [
       "<matplotlib.figure.Figure at 0x121205750>"
      ]
     },
     "metadata": {},
     "output_type": "display_data"
    },
    {
     "data": {
      "text/plain": [
       "<matplotlib.figure.Figure at 0x12129bd50>"
      ]
     },
     "metadata": {},
     "output_type": "display_data"
    },
    {
     "data": {
      "text/plain": [
       "<matplotlib.figure.Figure at 0x121373490>"
      ]
     },
     "metadata": {},
     "output_type": "display_data"
    },
    {
     "data": {
      "text/plain": [
       "<matplotlib.figure.Figure at 0x1214527d0>"
      ]
     },
     "metadata": {},
     "output_type": "display_data"
    },
    {
     "data": {
      "text/plain": [
       "<matplotlib.figure.Figure at 0x121510290>"
      ]
     },
     "metadata": {},
     "output_type": "display_data"
    },
    {
     "data": {
      "text/plain": [
       "<matplotlib.figure.Figure at 0x121492f10>"
      ]
     },
     "metadata": {},
     "output_type": "display_data"
    },
    {
     "data": {
      "text/plain": [
       "<matplotlib.figure.Figure at 0x12176a310>"
      ]
     },
     "metadata": {},
     "output_type": "display_data"
    },
    {
     "data": {
      "text/plain": [
       "<matplotlib.figure.Figure at 0x121800490>"
      ]
     },
     "metadata": {},
     "output_type": "display_data"
    },
    {
     "data": {
      "text/plain": [
       "<matplotlib.figure.Figure at 0x12192f750>"
      ]
     },
     "metadata": {},
     "output_type": "display_data"
    },
    {
     "data": {
      "text/plain": [
       "<matplotlib.figure.Figure at 0x1219ef550>"
      ]
     },
     "metadata": {},
     "output_type": "display_data"
    },
    {
     "data": {
      "text/plain": [
       "<matplotlib.figure.Figure at 0x1219db590>"
      ]
     },
     "metadata": {},
     "output_type": "display_data"
    },
    {
     "data": {
      "text/plain": [
       "<matplotlib.figure.Figure at 0x121c0d750>"
      ]
     },
     "metadata": {},
     "output_type": "display_data"
    },
    {
     "data": {
      "text/plain": [
       "<matplotlib.figure.Figure at 0x121d09310>"
      ]
     },
     "metadata": {},
     "output_type": "display_data"
    },
    {
     "data": {
      "text/plain": [
       "<matplotlib.figure.Figure at 0x121e611d0>"
      ]
     },
     "metadata": {},
     "output_type": "display_data"
    },
    {
     "data": {
      "text/plain": [
       "<matplotlib.figure.Figure at 0x121f5d310>"
      ]
     },
     "metadata": {},
     "output_type": "display_data"
    },
    {
     "data": {
      "text/plain": [
       "<matplotlib.figure.Figure at 0x12208d6d0>"
      ]
     },
     "metadata": {},
     "output_type": "display_data"
    },
    {
     "data": {
      "text/plain": [
       "<matplotlib.figure.Figure at 0x1221d4150>"
      ]
     },
     "metadata": {},
     "output_type": "display_data"
    },
    {
     "data": {
      "text/plain": [
       "<matplotlib.figure.Figure at 0x1222ab210>"
      ]
     },
     "metadata": {},
     "output_type": "display_data"
    },
    {
     "data": {
      "text/plain": [
       "<matplotlib.figure.Figure at 0x122366350>"
      ]
     },
     "metadata": {},
     "output_type": "display_data"
    },
    {
     "data": {
      "text/plain": [
       "<matplotlib.figure.Figure at 0x12239e590>"
      ]
     },
     "metadata": {},
     "output_type": "display_data"
    },
    {
     "data": {
      "text/plain": [
       "<matplotlib.figure.Figure at 0x1224c2ad0>"
      ]
     },
     "metadata": {},
     "output_type": "display_data"
    },
    {
     "data": {
      "text/plain": [
       "<matplotlib.figure.Figure at 0x122590650>"
      ]
     },
     "metadata": {},
     "output_type": "display_data"
    },
    {
     "data": {
      "text/plain": [
       "<matplotlib.figure.Figure at 0x122631290>"
      ]
     },
     "metadata": {},
     "output_type": "display_data"
    },
    {
     "data": {
      "text/plain": [
       "<matplotlib.figure.Figure at 0x1227473d0>"
      ]
     },
     "metadata": {},
     "output_type": "display_data"
    },
    {
     "data": {
      "text/plain": [
       "<matplotlib.figure.Figure at 0x12281ded0>"
      ]
     },
     "metadata": {},
     "output_type": "display_data"
    },
    {
     "data": {
      "text/plain": [
       "<matplotlib.figure.Figure at 0x12295afd0>"
      ]
     },
     "metadata": {},
     "output_type": "display_data"
    },
    {
     "data": {
      "text/plain": [
       "<matplotlib.figure.Figure at 0x122809950>"
      ]
     },
     "metadata": {},
     "output_type": "display_data"
    },
    {
     "data": {
      "text/plain": [
       "<matplotlib.figure.Figure at 0x122bdc710>"
      ]
     },
     "metadata": {},
     "output_type": "display_data"
    },
    {
     "data": {
      "text/plain": [
       "<matplotlib.figure.Figure at 0x122cfc350>"
      ]
     },
     "metadata": {},
     "output_type": "display_data"
    },
    {
     "data": {
      "text/plain": [
       "<matplotlib.figure.Figure at 0x122e93510>"
      ]
     },
     "metadata": {},
     "output_type": "display_data"
    },
    {
     "data": {
      "text/plain": [
       "<matplotlib.figure.Figure at 0x122f76a50>"
      ]
     },
     "metadata": {},
     "output_type": "display_data"
    },
    {
     "data": {
      "text/plain": [
       "<matplotlib.figure.Figure at 0x123072490>"
      ]
     },
     "metadata": {},
     "output_type": "display_data"
    },
    {
     "data": {
      "text/plain": [
       "<matplotlib.figure.Figure at 0x12312d090>"
      ]
     },
     "metadata": {},
     "output_type": "display_data"
    },
    {
     "data": {
      "text/plain": [
       "<matplotlib.figure.Figure at 0x123239350>"
      ]
     },
     "metadata": {},
     "output_type": "display_data"
    },
    {
     "data": {
      "text/plain": [
       "<matplotlib.figure.Figure at 0x1232fc650>"
      ]
     },
     "metadata": {},
     "output_type": "display_data"
    },
    {
     "data": {
      "text/plain": [
       "<matplotlib.figure.Figure at 0x1234c1990>"
      ]
     },
     "metadata": {},
     "output_type": "display_data"
    },
    {
     "data": {
      "text/plain": [
       "<matplotlib.figure.Figure at 0x1235fe5d0>"
      ]
     },
     "metadata": {},
     "output_type": "display_data"
    },
    {
     "data": {
      "text/plain": [
       "<matplotlib.figure.Figure at 0x123751590>"
      ]
     },
     "metadata": {},
     "output_type": "display_data"
    },
    {
     "data": {
      "text/plain": [
       "<matplotlib.figure.Figure at 0x1238505d0>"
      ]
     },
     "metadata": {},
     "output_type": "display_data"
    },
    {
     "data": {
      "text/plain": [
       "<matplotlib.figure.Figure at 0x1239d52d0>"
      ]
     },
     "metadata": {},
     "output_type": "display_data"
    },
    {
     "data": {
      "text/plain": [
       "<matplotlib.figure.Figure at 0x12382c910>"
      ]
     },
     "metadata": {},
     "output_type": "display_data"
    },
    {
     "data": {
      "text/plain": [
       "<matplotlib.figure.Figure at 0x123c0c6d0>"
      ]
     },
     "metadata": {},
     "output_type": "display_data"
    },
    {
     "data": {
      "text/plain": [
       "<matplotlib.figure.Figure at 0x123d123d0>"
      ]
     },
     "metadata": {},
     "output_type": "display_data"
    },
    {
     "data": {
      "text/plain": [
       "<matplotlib.figure.Figure at 0x123ef0a10>"
      ]
     },
     "metadata": {},
     "output_type": "display_data"
    },
    {
     "data": {
      "text/plain": [
       "<matplotlib.figure.Figure at 0x124086650>"
      ]
     },
     "metadata": {},
     "output_type": "display_data"
    },
    {
     "data": {
      "text/plain": [
       "<matplotlib.figure.Figure at 0x12417a190>"
      ]
     },
     "metadata": {},
     "output_type": "display_data"
    },
    {
     "data": {
      "text/plain": [
       "<matplotlib.figure.Figure at 0x12435f410>"
      ]
     },
     "metadata": {},
     "output_type": "display_data"
    },
    {
     "data": {
      "text/plain": [
       "<matplotlib.figure.Figure at 0x12441a3d0>"
      ]
     },
     "metadata": {},
     "output_type": "display_data"
    },
    {
     "data": {
      "text/plain": [
       "<matplotlib.figure.Figure at 0x1244d1790>"
      ]
     },
     "metadata": {},
     "output_type": "display_data"
    },
    {
     "data": {
      "text/plain": [
       "<matplotlib.figure.Figure at 0x124636550>"
      ]
     },
     "metadata": {},
     "output_type": "display_data"
    },
    {
     "data": {
      "text/plain": [
       "<matplotlib.figure.Figure at 0x1247b4190>"
      ]
     },
     "metadata": {},
     "output_type": "display_data"
    },
    {
     "data": {
      "text/plain": [
       "<matplotlib.figure.Figure at 0x1247a1110>"
      ]
     },
     "metadata": {},
     "output_type": "display_data"
    },
    {
     "data": {
      "text/plain": [
       "<matplotlib.figure.Figure at 0x124ca20d0>"
      ]
     },
     "metadata": {},
     "output_type": "display_data"
    },
    {
     "data": {
      "text/plain": [
       "<matplotlib.figure.Figure at 0x124fba110>"
      ]
     },
     "metadata": {},
     "output_type": "display_data"
    },
    {
     "data": {
      "text/plain": [
       "<matplotlib.figure.Figure at 0x125258750>"
      ]
     },
     "metadata": {},
     "output_type": "display_data"
    },
    {
     "data": {
      "text/plain": [
       "<matplotlib.figure.Figure at 0x1258da310>"
      ]
     },
     "metadata": {},
     "output_type": "display_data"
    },
    {
     "data": {
      "text/plain": [
       "<matplotlib.figure.Figure at 0x126012090>"
      ]
     },
     "metadata": {},
     "output_type": "display_data"
    },
    {
     "data": {
      "text/plain": [
       "<matplotlib.figure.Figure at 0x1263261d0>"
      ]
     },
     "metadata": {},
     "output_type": "display_data"
    },
    {
     "data": {
      "text/plain": [
       "<matplotlib.figure.Figure at 0x1263f64d0>"
      ]
     },
     "metadata": {},
     "output_type": "display_data"
    },
    {
     "data": {
      "text/plain": [
       "<matplotlib.figure.Figure at 0x126508ed0>"
      ]
     },
     "metadata": {},
     "output_type": "display_data"
    },
    {
     "data": {
      "text/plain": [
       "<matplotlib.figure.Figure at 0x1265dd090>"
      ]
     },
     "metadata": {},
     "output_type": "display_data"
    },
    {
     "data": {
      "text/plain": [
       "<matplotlib.figure.Figure at 0x1265c9750>"
      ]
     },
     "metadata": {},
     "output_type": "display_data"
    },
    {
     "data": {
      "text/plain": [
       "<matplotlib.figure.Figure at 0x126641310>"
      ]
     },
     "metadata": {},
     "output_type": "display_data"
    },
    {
     "data": {
      "text/plain": [
       "<matplotlib.figure.Figure at 0x12681b450>"
      ]
     },
     "metadata": {},
     "output_type": "display_data"
    },
    {
     "data": {
      "text/plain": [
       "<matplotlib.figure.Figure at 0x1268f3310>"
      ]
     },
     "metadata": {},
     "output_type": "display_data"
    },
    {
     "data": {
      "text/plain": [
       "<matplotlib.figure.Figure at 0x126993750>"
      ]
     },
     "metadata": {},
     "output_type": "display_data"
    },
    {
     "data": {
      "text/plain": [
       "<matplotlib.figure.Figure at 0x126a48350>"
      ]
     },
     "metadata": {},
     "output_type": "display_data"
    },
    {
     "data": {
      "text/plain": [
       "<matplotlib.figure.Figure at 0x126b14790>"
      ]
     },
     "metadata": {},
     "output_type": "display_data"
    },
    {
     "data": {
      "text/plain": [
       "<matplotlib.figure.Figure at 0x126c5f090>"
      ]
     },
     "metadata": {},
     "output_type": "display_data"
    },
    {
     "data": {
      "text/plain": [
       "<matplotlib.figure.Figure at 0x126d3df50>"
      ]
     },
     "metadata": {},
     "output_type": "display_data"
    },
    {
     "data": {
      "text/plain": [
       "<matplotlib.figure.Figure at 0x126ba9a90>"
      ]
     },
     "metadata": {},
     "output_type": "display_data"
    },
    {
     "data": {
      "text/plain": [
       "<matplotlib.figure.Figure at 0x1270294d0>"
      ]
     },
     "metadata": {},
     "output_type": "display_data"
    },
    {
     "data": {
      "text/plain": [
       "<matplotlib.figure.Figure at 0x1270ca110>"
      ]
     },
     "metadata": {},
     "output_type": "display_data"
    },
    {
     "data": {
      "text/plain": [
       "<matplotlib.figure.Figure at 0x127249190>"
      ]
     },
     "metadata": {},
     "output_type": "display_data"
    },
    {
     "data": {
      "text/plain": [
       "<matplotlib.figure.Figure at 0x1272d5bd0>"
      ]
     },
     "metadata": {},
     "output_type": "display_data"
    },
    {
     "data": {
      "text/plain": [
       "<matplotlib.figure.Figure at 0x1273b09d0>"
      ]
     },
     "metadata": {},
     "output_type": "display_data"
    },
    {
     "data": {
      "text/plain": [
       "<matplotlib.figure.Figure at 0x12747d9d0>"
      ]
     },
     "metadata": {},
     "output_type": "display_data"
    },
    {
     "data": {
      "text/plain": [
       "<matplotlib.figure.Figure at 0x1273d6450>"
      ]
     },
     "metadata": {},
     "output_type": "display_data"
    },
    {
     "data": {
      "text/plain": [
       "<matplotlib.figure.Figure at 0x1275cc390>"
      ]
     },
     "metadata": {},
     "output_type": "display_data"
    },
    {
     "data": {
      "text/plain": [
       "<matplotlib.figure.Figure at 0x127741cd0>"
      ]
     },
     "metadata": {},
     "output_type": "display_data"
    },
    {
     "data": {
      "text/plain": [
       "<matplotlib.figure.Figure at 0x127916610>"
      ]
     },
     "metadata": {},
     "output_type": "display_data"
    },
    {
     "data": {
      "text/plain": [
       "<matplotlib.figure.Figure at 0x127a26b10>"
      ]
     },
     "metadata": {},
     "output_type": "display_data"
    },
    {
     "data": {
      "text/plain": [
       "<matplotlib.figure.Figure at 0x127b64850>"
      ]
     },
     "metadata": {},
     "output_type": "display_data"
    },
    {
     "data": {
      "text/plain": [
       "<matplotlib.figure.Figure at 0x127bad4d0>"
      ]
     },
     "metadata": {},
     "output_type": "display_data"
    },
    {
     "data": {
      "text/plain": [
       "<matplotlib.figure.Figure at 0x127c6d150>"
      ]
     },
     "metadata": {},
     "output_type": "display_data"
    },
    {
     "data": {
      "text/plain": [
       "<matplotlib.figure.Figure at 0x127d7f410>"
      ]
     },
     "metadata": {},
     "output_type": "display_data"
    }
   ],
   "source": [
    "def make_all_plots(crimes = col_labels):\n",
    "    for city in mega_hist.reset_index()[\"City\"].unique():\n",
    "        for crime in crimes:\n",
    "            try:\n",
    "                small(city, crime)\n",
    "            except:\n",
    "                print city, crime\n",
    "                continue\n",
    "#make_all_plots(crimes=[\"violent-crimes\"])\n",
    "make_all_plots()"
   ]
  },
  {
   "cell_type": "code",
   "execution_count": 38,
   "metadata": {
    "collapsed": false
   },
   "outputs": [
    {
     "data": {
      "text/html": [
       "<div>\n",
       "<table border=\"1\" class=\"dataframe\">\n",
       "  <thead>\n",
       "    <tr style=\"text-align: right;\">\n",
       "      <th></th>\n",
       "      <th>2006</th>\n",
       "      <th>2007</th>\n",
       "      <th>2008</th>\n",
       "      <th>2009</th>\n",
       "      <th>2010</th>\n",
       "      <th>2011</th>\n",
       "      <th>2012</th>\n",
       "      <th>2013</th>\n",
       "      <th>2014</th>\n",
       "      <th>2015</th>\n",
       "      <th>...</th>\n",
       "      <th>2014_diff</th>\n",
       "      <th>2014_diff_pct</th>\n",
       "      <th>2014_hist</th>\n",
       "      <th>2014_new</th>\n",
       "      <th>2015</th>\n",
       "      <th>2016</th>\n",
       "      <th>Agency</th>\n",
       "      <th>State</th>\n",
       "      <th>Unnamed: 32</th>\n",
       "      <th>crime</th>\n",
       "    </tr>\n",
       "    <tr>\n",
       "      <th>City</th>\n",
       "      <th></th>\n",
       "      <th></th>\n",
       "      <th></th>\n",
       "      <th></th>\n",
       "      <th></th>\n",
       "      <th></th>\n",
       "      <th></th>\n",
       "      <th></th>\n",
       "      <th></th>\n",
       "      <th></th>\n",
       "      <th></th>\n",
       "      <th></th>\n",
       "      <th></th>\n",
       "      <th></th>\n",
       "      <th></th>\n",
       "      <th></th>\n",
       "      <th></th>\n",
       "      <th></th>\n",
       "      <th></th>\n",
       "      <th></th>\n",
       "      <th></th>\n",
       "    </tr>\n",
       "  </thead>\n",
       "  <tbody>\n",
       "  </tbody>\n",
       "</table>\n",
       "<p>0 rows × 83 columns</p>\n",
       "</div>"
      ],
      "text/plain": [
       "Empty DataFrame\n",
       "Columns: [2006, 2007, 2008, 2009, 2010, 2011, 2012, 2013, 2014, 2015, 2016, 1985, 1986, 1987, 1988, 1989, 1990, 1991, 1992, 1993, 1994, 1995, 1996, 1997, 1998, 1999, 2000, 2001, 2002, 2003, 2004, 2005, 2006, 2006_diff, 2006_diff_pct, 2006_hist, 2006_new, 2007, 2007_diff, 2007_diff_pct, 2007_hist, 2007_new, 2008, 2008_diff, 2008_diff_pct, 2008_hist, 2008_new, 2009, 2009_diff, 2009_diff_pct, 2009_hist, 2009_new, 2010, 2010_diff, 2010_diff_pct, 2010_hist, 2010_new, 2011, 2011_diff, 2011_diff_pct, 2011_hist, 2011_new, 2012, 2012_diff, 2012_diff_pct, 2012_hist, 2012_new, 2013, 2013_diff, 2013_diff_pct, 2013_hist, 2013_new, 2014, 2014_diff, 2014_diff_pct, 2014_hist, 2014_new, 2015, 2016, Agency, State, Unnamed: 32, crime]\n",
       "Index: []\n",
       "\n",
       "[0 rows x 83 columns]"
      ]
     },
     "execution_count": 38,
     "metadata": {},
     "output_type": "execute_result"
    }
   ],
   "source": [
    "def debug_chart(city, crime):\n",
    "\n",
    "    return mega_hist[(mega_hist.index == city) &\n",
    "              (mega_hist[\"crime\"] == crime)]\n",
    "\n",
    "debug_chart(\"Easton\",\"larceny\")"
   ]
  },
  {
   "cell_type": "code",
   "execution_count": null,
   "metadata": {
    "collapsed": true
   },
   "outputs": [],
   "source": []
  }
 ],
 "metadata": {
  "kernelspec": {
   "display_name": "Python 2",
   "language": "python",
   "name": "python2"
  },
  "language_info": {
   "codemirror_mode": {
    "name": "ipython",
    "version": 2
   },
   "file_extension": ".py",
   "mimetype": "text/x-python",
   "name": "python",
   "nbconvert_exporter": "python",
   "pygments_lexer": "ipython2",
   "version": "2.7.13"
  }
 },
 "nbformat": 4,
 "nbformat_minor": 0
}
